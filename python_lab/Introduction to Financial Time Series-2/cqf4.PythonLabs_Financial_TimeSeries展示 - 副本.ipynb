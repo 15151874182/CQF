{
 "cells": [
  {
   "cell_type": "markdown",
   "metadata": {},
   "source": [
    "\n",
    "<p><img align=\"left\" src=\"https://www.cqf.com/themes/custom/creode/logo.svg\" style=\"vertical-align: top; padding-top: 23px;\" width=\"10%\"/>\n",
    "<img align=\"right\" src=\"https://upload.wikimedia.org/wikipedia/commons/c/c3/Python-logo-notext.svg\" style=\"vertical-align: bottom;\" width=\"12%\"/>\n",
    "<font color=\"#306998\"><h1><center>Python Labs</center></h1></font></p>\n",
    "<p></p><h1><center>Introduction to Financial Time Series</center></h1>\n",
    "<center><b>Kannan Singaravelu</b></center>\n",
    "<center>kannan.singaravelu@fitchlearning.com</center>\n"
   ]
  },
  {
   "cell_type": "markdown",
   "metadata": {},
   "source": [
    "\n",
    "<h2 id=\"Financial-Data-Preprocessing\">Financial Data Preprocessing<a name=\"top\"></a><a class=\"anchor-link\" href=\"#Financial-Data-Preprocessing\">¶</a></h2><p>A time series is a series of data points indexed in time order. Financial data such as stock price series observed at equally spaced points in time are an example of such a series. It is a sequence of observations recorded at regular time intervals and depending on the frequency of observations, a time series may typically be in seconds, minute, hourly, daily, weekly, monthly, quarterly and annual.</p>\n",
    "<p><img align=\"center\" src=\"http://datascience.la/wp-content/uploads/2014/09/data-science-workflow-szilard.png\" style=\"vertical-align: top; padding-top: 23px;\" width=\"60%\"/></p>\n",
    "<p><b></b></p><center>Diagrammatic representation of a typical quant workflow.</center>\n",
    "<p>The first step towards any data analysis would be to parse the raw data which involves extracting the data from the source. Data can be mined from Eikon API, Bloomberg, Google and Yahoo Finance. Data is then cleaned and missing values, if any are filled before performing feature scaling. The cleaned and transformed data is then fed into the model to validate the hypothesis.</p>\n",
    "<p>While data comes in many forms, Python makes it easy to read time series data using useful packages. We will use <code>yfinance</code> and <code>alpha_vantage</code> libraries to retrieve historical end-of-day and intraday data for our purpose. These libraries aims to keep the API simple and makes it easier to access historical data. Further, we will see how to read data from CSV and Excel files stored locally.</p>\n",
    "<p>Note: To run all of the code cells in this example, select <strong><em>Run All</em></strong> from the <strong><em>Cell</em></strong> menu.</p>\n"
   ]
  },
  {
   "cell_type": "markdown",
   "metadata": {},
   "source": [
    "\n",
    "<h3 id=\"Installing-and-Importing-Required-Libraries\">Installing and Importing Required Libraries<a class=\"anchor-link\" href=\"#Installing-and-Importing-Required-Libraries\">¶</a></h3><p>We'll install the required libraries that we'll use in this example.</p>\n"
   ]
  },
  {
   "cell_type": "code",
   "execution_count": null,
   "metadata": {},
   "outputs": [],
   "source": [
    "\n",
    "! pip install yfinance\n",
    "! pip install alpha-vantage\n",
    "#http://www.alphavantage.co/support/#api-key请求该密钥。\n",
    "\n"
   ]
  },
  {
   "cell_type": "markdown",
   "metadata": {},
   "source": [
    "\n",
    "<p>We'll import the required libraries that we'll use in this example.</p>\n"
   ]
  },
  {
   "cell_type": "code",
   "execution_count": 2,
   "metadata": {},
   "outputs": [],
   "source": [
    "\n",
    "# Import required libraries\n",
    "import pandas as pd\n",
    "import numpy as np\n",
    "\n",
    "# Import data libraries\n",
    "import yfinance as yf\n",
    "\n",
    "# Ignore warnings\n",
    "import warnings\n",
    "warnings.filterwarnings('ignore')\n",
    "\n"
   ]
  },
  {
   "cell_type": "markdown",
   "metadata": {},
   "source": [
    "\n",
    "<h3 id=\"Retrieving-End-of-Day-Data\">Retrieving End-of-Day Data<a class=\"anchor-link\" href=\"#Retrieving-End-of-Day-Data\">¶</a></h3>\n"
   ]
  },
  {
   "cell_type": "markdown",
   "metadata": {},
   "source": [
    "\n",
    "<blockquote><p><strong>A note on Pandas Datareader</strong><br/>\n",
    "<em>For years, the go-to tool for downloading data from Yahoo Finance was the <code>pandas-datareader</code> library. However, this functionality was deprecated after some changes to the Yahoo Finance API. It still work in older version with limited capabilities. One should however get familiar with pandas-datareader as it facilitates downloading data from sources such as FRED (Federal Reserve Economic Data), the Fama/French Data Library or the World Bank.</em></p>\n",
    "</blockquote>\n"
   ]
  },
  {
   "cell_type": "markdown",
   "metadata": {},
   "source": [
    "\n",
    "<h4 id=\"Retrieving-Data-for-a-Single-Security\">Retrieving Data for a Single Security<a class=\"anchor-link\" href=\"#Retrieving-Data-for-a-Single-Security\">¶</a></h4>\n"
   ]
  },
  {
   "cell_type": "markdown",
   "metadata": {},
   "source": [
    "\n",
    "<p>We'll retrieve historical data from yahoo finance using <code>yfinance</code> library</p>\n"
   ]
  },
  {
   "cell_type": "markdown",
   "metadata": {},
   "source": [
    "\n",
    "<h5 id=\"Example-1\">Example 1<a class=\"anchor-link\" href=\"#Example-1\">¶</a></h5>\n"
   ]
  },
  {
   "cell_type": "code",
   "execution_count": 3,
   "metadata": {},
   "outputs": [],
   "source": [
    "\n",
    "yf.download?\n",
    "\n"
   ]
  },
  {
   "cell_type": "code",
   "execution_count": null,
   "metadata": {},
   "outputs": [],
   "source": [
    "\n",
    "# Fetch data by specifying the number of the period\n",
    "yf.download('SPY', period='5d')\n",
    "\n"
   ]
  },
  {
   "cell_type": "markdown",
   "metadata": {},
   "source": [
    "\n",
    "<h5 id=\"Example-2\">Example 2<a class=\"anchor-link\" href=\"#Example-2\">¶</a></h5>\n"
   ]
  },
  {
   "cell_type": "code",
   "execution_count": 2,
   "metadata": {},
   "outputs": [
    {
     "data": {
      "text/html": [
       "<div>\n",
       "<style scoped>\n",
       "    .dataframe tbody tr th:only-of-type {\n",
       "        vertical-align: middle;\n",
       "    }\n",
       "\n",
       "    .dataframe tbody tr th {\n",
       "        vertical-align: top;\n",
       "    }\n",
       "\n",
       "    .dataframe thead th {\n",
       "        text-align: right;\n",
       "    }\n",
       "</style>\n",
       "<table border=\"1\" class=\"dataframe\">\n",
       "  <thead>\n",
       "    <tr style=\"text-align: right;\">\n",
       "      <th></th>\n",
       "      <th>Open</th>\n",
       "      <th>High</th>\n",
       "      <th>Low</th>\n",
       "      <th>Close</th>\n",
       "      <th>Adj Close</th>\n",
       "      <th>Volume</th>\n",
       "    </tr>\n",
       "    <tr>\n",
       "      <th>Date</th>\n",
       "      <th></th>\n",
       "      <th></th>\n",
       "      <th></th>\n",
       "      <th></th>\n",
       "      <th></th>\n",
       "      <th></th>\n",
       "    </tr>\n",
       "  </thead>\n",
       "  <tbody>\n",
       "    <tr>\n",
       "      <th>2020-06-19</th>\n",
       "      <td>314.170013</td>\n",
       "      <td>314.380005</td>\n",
       "      <td>306.529999</td>\n",
       "      <td>308.640015</td>\n",
       "      <td>305.105347</td>\n",
       "      <td>135549600</td>\n",
       "    </tr>\n",
       "    <tr>\n",
       "      <th>2020-06-22</th>\n",
       "      <td>307.989990</td>\n",
       "      <td>311.049988</td>\n",
       "      <td>306.750000</td>\n",
       "      <td>310.619995</td>\n",
       "      <td>307.062653</td>\n",
       "      <td>74649400</td>\n",
       "    </tr>\n",
       "    <tr>\n",
       "      <th>2020-06-23</th>\n",
       "      <td>313.489990</td>\n",
       "      <td>314.500000</td>\n",
       "      <td>311.609985</td>\n",
       "      <td>312.049988</td>\n",
       "      <td>308.476257</td>\n",
       "      <td>68471200</td>\n",
       "    </tr>\n",
       "    <tr>\n",
       "      <th>2020-06-24</th>\n",
       "      <td>309.839996</td>\n",
       "      <td>310.510010</td>\n",
       "      <td>302.100006</td>\n",
       "      <td>304.089996</td>\n",
       "      <td>300.607452</td>\n",
       "      <td>132813500</td>\n",
       "    </tr>\n",
       "    <tr>\n",
       "      <th>2020-06-25</th>\n",
       "      <td>303.470001</td>\n",
       "      <td>307.640015</td>\n",
       "      <td>301.279999</td>\n",
       "      <td>307.350006</td>\n",
       "      <td>303.830109</td>\n",
       "      <td>89468000</td>\n",
       "    </tr>\n",
       "    <tr>\n",
       "      <th>2020-06-26</th>\n",
       "      <td>306.160004</td>\n",
       "      <td>306.390015</td>\n",
       "      <td>299.420013</td>\n",
       "      <td>300.049988</td>\n",
       "      <td>296.613739</td>\n",
       "      <td>127961000</td>\n",
       "    </tr>\n",
       "    <tr>\n",
       "      <th>2020-06-29</th>\n",
       "      <td>301.410004</td>\n",
       "      <td>304.609985</td>\n",
       "      <td>298.929993</td>\n",
       "      <td>304.459991</td>\n",
       "      <td>300.973206</td>\n",
       "      <td>79773300</td>\n",
       "    </tr>\n",
       "  </tbody>\n",
       "</table>\n",
       "</div>"
      ],
      "text/plain": [
       "                  Open        High         Low       Close   Adj Close  \\\n",
       "Date                                                                     \n",
       "2020-06-19  314.170013  314.380005  306.529999  308.640015  305.105347   \n",
       "2020-06-22  307.989990  311.049988  306.750000  310.619995  307.062653   \n",
       "2020-06-23  313.489990  314.500000  311.609985  312.049988  308.476257   \n",
       "2020-06-24  309.839996  310.510010  302.100006  304.089996  300.607452   \n",
       "2020-06-25  303.470001  307.640015  301.279999  307.350006  303.830109   \n",
       "2020-06-26  306.160004  306.390015  299.420013  300.049988  296.613739   \n",
       "2020-06-29  301.410004  304.609985  298.929993  304.459991  300.973206   \n",
       "\n",
       "               Volume  \n",
       "Date                   \n",
       "2020-06-19  135549600  \n",
       "2020-06-22   74649400  \n",
       "2020-06-23   68471200  \n",
       "2020-06-24  132813500  \n",
       "2020-06-25   89468000  \n",
       "2020-06-26  127961000  \n",
       "2020-06-29   79773300  "
      ]
     },
     "execution_count": 2,
     "metadata": {},
     "output_type": "execute_result"
    }
   ],
   "source": [
    "\n",
    "# Fetch the data from yahoo using start and end dates\n",
    "yf.download('SPY', start='2020-06-20' , end='2020-06-30', progress=False) \n",
    "\n"
   ]
  },
  {
   "cell_type": "markdown",
   "metadata": {},
   "source": [
    "\n",
    "<h5 id=\"Example-3\">Example 3<a class=\"anchor-link\" href=\"#Example-3\">¶</a></h5>\n"
   ]
  },
  {
   "cell_type": "code",
   "execution_count": null,
   "metadata": {},
   "outputs": [],
   "source": [
    "\n",
    "# Fetch data for year to date (YTD)\n",
    "spy = yf.download('SPY', period='ytd', progress=False)\n",
    "spy.to_csv('data/spy.csv')\n"
   ]
  },
  {
   "cell_type": "code",
   "execution_count": 4,
   "metadata": {},
   "outputs": [
    {
     "data": {
      "text/html": [
       "<div>\n",
       "<style scoped>\n",
       "    .dataframe tbody tr th:only-of-type {\n",
       "        vertical-align: middle;\n",
       "    }\n",
       "\n",
       "    .dataframe tbody tr th {\n",
       "        vertical-align: top;\n",
       "    }\n",
       "\n",
       "    .dataframe thead th {\n",
       "        text-align: right;\n",
       "    }\n",
       "</style>\n",
       "<table border=\"1\" class=\"dataframe\">\n",
       "  <thead>\n",
       "    <tr style=\"text-align: right;\">\n",
       "      <th></th>\n",
       "      <th>Open</th>\n",
       "      <th>High</th>\n",
       "      <th>Low</th>\n",
       "      <th>Close</th>\n",
       "      <th>Adj Close</th>\n",
       "      <th>Volume</th>\n",
       "    </tr>\n",
       "    <tr>\n",
       "      <th>Date</th>\n",
       "      <th></th>\n",
       "      <th></th>\n",
       "      <th></th>\n",
       "      <th></th>\n",
       "      <th></th>\n",
       "      <th></th>\n",
       "    </tr>\n",
       "  </thead>\n",
       "  <tbody>\n",
       "    <tr>\n",
       "      <th>2021-01-04</th>\n",
       "      <td>375.309998</td>\n",
       "      <td>375.450012</td>\n",
       "      <td>364.820007</td>\n",
       "      <td>368.790009</td>\n",
       "      <td>368.790009</td>\n",
       "      <td>110210800</td>\n",
       "    </tr>\n",
       "    <tr>\n",
       "      <th>2021-01-05</th>\n",
       "      <td>368.100006</td>\n",
       "      <td>372.500000</td>\n",
       "      <td>368.049988</td>\n",
       "      <td>371.329987</td>\n",
       "      <td>371.329987</td>\n",
       "      <td>66426200</td>\n",
       "    </tr>\n",
       "    <tr>\n",
       "      <th>2021-01-06</th>\n",
       "      <td>369.709991</td>\n",
       "      <td>376.980011</td>\n",
       "      <td>369.119995</td>\n",
       "      <td>373.549988</td>\n",
       "      <td>373.549988</td>\n",
       "      <td>107997700</td>\n",
       "    </tr>\n",
       "    <tr>\n",
       "      <th>2021-01-07</th>\n",
       "      <td>376.100006</td>\n",
       "      <td>379.899994</td>\n",
       "      <td>375.910004</td>\n",
       "      <td>379.100006</td>\n",
       "      <td>379.100006</td>\n",
       "      <td>68766800</td>\n",
       "    </tr>\n",
       "    <tr>\n",
       "      <th>2021-01-08</th>\n",
       "      <td>380.589996</td>\n",
       "      <td>381.489990</td>\n",
       "      <td>377.100006</td>\n",
       "      <td>381.260010</td>\n",
       "      <td>381.260010</td>\n",
       "      <td>71630100</td>\n",
       "    </tr>\n",
       "  </tbody>\n",
       "</table>\n",
       "</div>"
      ],
      "text/plain": [
       "                  Open        High         Low       Close   Adj Close  \\\n",
       "Date                                                                     \n",
       "2021-01-04  375.309998  375.450012  364.820007  368.790009  368.790009   \n",
       "2021-01-05  368.100006  372.500000  368.049988  371.329987  371.329987   \n",
       "2021-01-06  369.709991  376.980011  369.119995  373.549988  373.549988   \n",
       "2021-01-07  376.100006  379.899994  375.910004  379.100006  379.100006   \n",
       "2021-01-08  380.589996  381.489990  377.100006  381.260010  381.260010   \n",
       "\n",
       "               Volume  \n",
       "Date                   \n",
       "2021-01-04  110210800  \n",
       "2021-01-05   66426200  \n",
       "2021-01-06  107997700  \n",
       "2021-01-07   68766800  \n",
       "2021-01-08   71630100  "
      ]
     },
     "execution_count": 4,
     "metadata": {},
     "output_type": "execute_result"
    }
   ],
   "source": [
    "\n",
    "# Display the first five rows of the dataframe to check the results. \n",
    "spy.head()\n",
    "\n"
   ]
  },
  {
   "cell_type": "markdown",
   "metadata": {},
   "source": [
    "\n",
    "<h4 id=\"Retrieving-Data-for-Multiple-Securities\">Retrieving Data for Multiple Securities<a class=\"anchor-link\" href=\"#Retrieving-Data-for-Multiple-Securities\">¶</a></h4><p>We'll retrieve daily historical price data of FAANG stocks from Yahoo Finance.</p>Facebook,Amazon,Apple,Netflixand Google\n"
   ]
  },
  {
   "cell_type": "code",
   "execution_count": 6,
   "metadata": {},
   "outputs": [],
   "source": [
    "\n",
    "# Define the parameters\n",
    "faang_stocks = ['AAPL', 'AMZN', 'FB', 'GOOG', 'NFLX']\n",
    "start_date = '2019-06-01'\n",
    "end_date = '2021-06-30'\n",
    "\n"
   ]
  },
  {
   "cell_type": "code",
   "execution_count": 7,
   "metadata": {},
   "outputs": [
    {
     "data": {
      "text/html": [
       "<div>\n",
       "<style scoped>\n",
       "    .dataframe tbody tr th:only-of-type {\n",
       "        vertical-align: middle;\n",
       "    }\n",
       "\n",
       "    .dataframe tbody tr th {\n",
       "        vertical-align: top;\n",
       "    }\n",
       "\n",
       "    .dataframe thead th {\n",
       "        text-align: right;\n",
       "    }\n",
       "</style>\n",
       "<table border=\"1\" class=\"dataframe\">\n",
       "  <thead>\n",
       "    <tr style=\"text-align: right;\">\n",
       "      <th></th>\n",
       "      <th>AAPL</th>\n",
       "      <th>AMZN</th>\n",
       "      <th>FB</th>\n",
       "      <th>GOOG</th>\n",
       "      <th>NFLX</th>\n",
       "    </tr>\n",
       "    <tr>\n",
       "      <th>Date</th>\n",
       "      <th></th>\n",
       "      <th></th>\n",
       "      <th></th>\n",
       "      <th></th>\n",
       "      <th></th>\n",
       "    </tr>\n",
       "  </thead>\n",
       "  <tbody>\n",
       "    <tr>\n",
       "      <th>2019-05-31</th>\n",
       "      <td>43.034817</td>\n",
       "      <td>1775.069946</td>\n",
       "      <td>177.470001</td>\n",
       "      <td>1103.630005</td>\n",
       "      <td>343.279999</td>\n",
       "    </tr>\n",
       "    <tr>\n",
       "      <th>2019-06-03</th>\n",
       "      <td>42.599720</td>\n",
       "      <td>1692.689941</td>\n",
       "      <td>164.149994</td>\n",
       "      <td>1036.229980</td>\n",
       "      <td>336.630005</td>\n",
       "    </tr>\n",
       "    <tr>\n",
       "      <th>2019-06-04</th>\n",
       "      <td>44.158184</td>\n",
       "      <td>1729.560059</td>\n",
       "      <td>167.500000</td>\n",
       "      <td>1053.050049</td>\n",
       "      <td>353.399994</td>\n",
       "    </tr>\n",
       "    <tr>\n",
       "      <th>2019-06-05</th>\n",
       "      <td>44.871044</td>\n",
       "      <td>1738.500000</td>\n",
       "      <td>168.169998</td>\n",
       "      <td>1042.219971</td>\n",
       "      <td>355.730011</td>\n",
       "    </tr>\n",
       "    <tr>\n",
       "      <th>2019-06-06</th>\n",
       "      <td>45.529827</td>\n",
       "      <td>1754.359985</td>\n",
       "      <td>168.330002</td>\n",
       "      <td>1044.339966</td>\n",
       "      <td>357.130005</td>\n",
       "    </tr>\n",
       "  </tbody>\n",
       "</table>\n",
       "</div>"
      ],
      "text/plain": [
       "                 AAPL         AMZN          FB         GOOG        NFLX\n",
       "Date                                                                   \n",
       "2019-05-31  43.034817  1775.069946  177.470001  1103.630005  343.279999\n",
       "2019-06-03  42.599720  1692.689941  164.149994  1036.229980  336.630005\n",
       "2019-06-04  44.158184  1729.560059  167.500000  1053.050049  353.399994\n",
       "2019-06-05  44.871044  1738.500000  168.169998  1042.219971  355.730011\n",
       "2019-06-06  45.529827  1754.359985  168.330002  1044.339966  357.130005"
      ]
     },
     "execution_count": 7,
     "metadata": {},
     "output_type": "execute_result"
    }
   ],
   "source": [
    "\n",
    "# Fetching data for multiple tickers\n",
    "df = yf.download(faang_stocks, start=start_date, end=end_date, progress=False)['Adj Close']\n",
    "\n",
    "# Display the first five rows of the dataframe to check the results. \n",
    "df.head()\n",
    "\n"
   ]
  },
  {
   "cell_type": "code",
   "execution_count": 8,
   "metadata": {},
   "outputs": [],
   "source": [
    "\n",
    "# Let's save the data for future use\n",
    "df.to_csv('data/faang_stocks_1.csv')\n",
    "\n"
   ]
  },
  {
   "cell_type": "code",
   "execution_count": 13,
   "metadata": {},
   "outputs": [
    {
     "data": {
      "text/html": [
       "<div>\n",
       "<style scoped>\n",
       "    .dataframe tbody tr th:only-of-type {\n",
       "        vertical-align: middle;\n",
       "    }\n",
       "\n",
       "    .dataframe tbody tr th {\n",
       "        vertical-align: top;\n",
       "    }\n",
       "\n",
       "    .dataframe thead tr th {\n",
       "        text-align: left;\n",
       "    }\n",
       "\n",
       "    .dataframe thead tr:last-of-type th {\n",
       "        text-align: right;\n",
       "    }\n",
       "</style>\n",
       "<table border=\"1\" class=\"dataframe\">\n",
       "  <thead>\n",
       "    <tr>\n",
       "      <th></th>\n",
       "      <th colspan=\"5\" halign=\"left\">Adj Close</th>\n",
       "      <th colspan=\"5\" halign=\"left\">Close</th>\n",
       "      <th>...</th>\n",
       "      <th colspan=\"5\" halign=\"left\">Open</th>\n",
       "      <th colspan=\"5\" halign=\"left\">Volume</th>\n",
       "    </tr>\n",
       "    <tr>\n",
       "      <th></th>\n",
       "      <th>AAPL</th>\n",
       "      <th>AMZN</th>\n",
       "      <th>FB</th>\n",
       "      <th>GOOG</th>\n",
       "      <th>NFLX</th>\n",
       "      <th>AAPL</th>\n",
       "      <th>AMZN</th>\n",
       "      <th>FB</th>\n",
       "      <th>GOOG</th>\n",
       "      <th>NFLX</th>\n",
       "      <th>...</th>\n",
       "      <th>AAPL</th>\n",
       "      <th>AMZN</th>\n",
       "      <th>FB</th>\n",
       "      <th>GOOG</th>\n",
       "      <th>NFLX</th>\n",
       "      <th>AAPL</th>\n",
       "      <th>AMZN</th>\n",
       "      <th>FB</th>\n",
       "      <th>GOOG</th>\n",
       "      <th>NFLX</th>\n",
       "    </tr>\n",
       "    <tr>\n",
       "      <th>Date</th>\n",
       "      <th></th>\n",
       "      <th></th>\n",
       "      <th></th>\n",
       "      <th></th>\n",
       "      <th></th>\n",
       "      <th></th>\n",
       "      <th></th>\n",
       "      <th></th>\n",
       "      <th></th>\n",
       "      <th></th>\n",
       "      <th></th>\n",
       "      <th></th>\n",
       "      <th></th>\n",
       "      <th></th>\n",
       "      <th></th>\n",
       "      <th></th>\n",
       "      <th></th>\n",
       "      <th></th>\n",
       "      <th></th>\n",
       "      <th></th>\n",
       "      <th></th>\n",
       "    </tr>\n",
       "  </thead>\n",
       "  <tbody>\n",
       "    <tr>\n",
       "      <th>2020-01-02</th>\n",
       "      <td>74.444603</td>\n",
       "      <td>1898.010010</td>\n",
       "      <td>209.779999</td>\n",
       "      <td>1367.369995</td>\n",
       "      <td>329.809998</td>\n",
       "      <td>75.087502</td>\n",
       "      <td>1898.010010</td>\n",
       "      <td>209.779999</td>\n",
       "      <td>1367.369995</td>\n",
       "      <td>329.809998</td>\n",
       "      <td>...</td>\n",
       "      <td>74.059998</td>\n",
       "      <td>1875.000000</td>\n",
       "      <td>206.750000</td>\n",
       "      <td>1341.550049</td>\n",
       "      <td>326.100006</td>\n",
       "      <td>135480400</td>\n",
       "      <td>4029000</td>\n",
       "      <td>12077100</td>\n",
       "      <td>1406600</td>\n",
       "      <td>4485800</td>\n",
       "    </tr>\n",
       "    <tr>\n",
       "      <th>2020-01-03</th>\n",
       "      <td>73.720840</td>\n",
       "      <td>1874.969971</td>\n",
       "      <td>208.669998</td>\n",
       "      <td>1360.660034</td>\n",
       "      <td>325.899994</td>\n",
       "      <td>74.357498</td>\n",
       "      <td>1874.969971</td>\n",
       "      <td>208.669998</td>\n",
       "      <td>1360.660034</td>\n",
       "      <td>325.899994</td>\n",
       "      <td>...</td>\n",
       "      <td>74.287498</td>\n",
       "      <td>1864.500000</td>\n",
       "      <td>207.210007</td>\n",
       "      <td>1347.859985</td>\n",
       "      <td>326.779999</td>\n",
       "      <td>146322800</td>\n",
       "      <td>3764400</td>\n",
       "      <td>11188400</td>\n",
       "      <td>1186400</td>\n",
       "      <td>3806900</td>\n",
       "    </tr>\n",
       "    <tr>\n",
       "      <th>2020-01-06</th>\n",
       "      <td>74.308266</td>\n",
       "      <td>1902.880005</td>\n",
       "      <td>212.600006</td>\n",
       "      <td>1394.209961</td>\n",
       "      <td>335.829987</td>\n",
       "      <td>74.949997</td>\n",
       "      <td>1902.880005</td>\n",
       "      <td>212.600006</td>\n",
       "      <td>1394.209961</td>\n",
       "      <td>335.829987</td>\n",
       "      <td>...</td>\n",
       "      <td>73.447502</td>\n",
       "      <td>1860.000000</td>\n",
       "      <td>206.699997</td>\n",
       "      <td>1350.000000</td>\n",
       "      <td>323.119995</td>\n",
       "      <td>118387200</td>\n",
       "      <td>4061800</td>\n",
       "      <td>17058900</td>\n",
       "      <td>1732300</td>\n",
       "      <td>5663100</td>\n",
       "    </tr>\n",
       "    <tr>\n",
       "      <th>2020-01-07</th>\n",
       "      <td>73.958794</td>\n",
       "      <td>1906.859985</td>\n",
       "      <td>213.059998</td>\n",
       "      <td>1393.339966</td>\n",
       "      <td>330.750000</td>\n",
       "      <td>74.597504</td>\n",
       "      <td>1906.859985</td>\n",
       "      <td>213.059998</td>\n",
       "      <td>1393.339966</td>\n",
       "      <td>330.750000</td>\n",
       "      <td>...</td>\n",
       "      <td>74.959999</td>\n",
       "      <td>1904.500000</td>\n",
       "      <td>212.820007</td>\n",
       "      <td>1397.939941</td>\n",
       "      <td>336.470001</td>\n",
       "      <td>108872000</td>\n",
       "      <td>4044900</td>\n",
       "      <td>14912400</td>\n",
       "      <td>1502700</td>\n",
       "      <td>4703200</td>\n",
       "    </tr>\n",
       "    <tr>\n",
       "      <th>2020-01-08</th>\n",
       "      <td>75.148521</td>\n",
       "      <td>1891.969971</td>\n",
       "      <td>215.220001</td>\n",
       "      <td>1404.319946</td>\n",
       "      <td>339.260010</td>\n",
       "      <td>75.797501</td>\n",
       "      <td>1891.969971</td>\n",
       "      <td>215.220001</td>\n",
       "      <td>1404.319946</td>\n",
       "      <td>339.260010</td>\n",
       "      <td>...</td>\n",
       "      <td>74.290001</td>\n",
       "      <td>1898.040039</td>\n",
       "      <td>213.000000</td>\n",
       "      <td>1392.079956</td>\n",
       "      <td>331.489990</td>\n",
       "      <td>132079200</td>\n",
       "      <td>3508000</td>\n",
       "      <td>13475000</td>\n",
       "      <td>1528000</td>\n",
       "      <td>7104500</td>\n",
       "    </tr>\n",
       "  </tbody>\n",
       "</table>\n",
       "<p>5 rows × 30 columns</p>\n",
       "</div>"
      ],
      "text/plain": [
       "            Adj Close                                                    \\\n",
       "                 AAPL         AMZN          FB         GOOG        NFLX   \n",
       "Date                                                                      \n",
       "2020-01-02  74.444603  1898.010010  209.779999  1367.369995  329.809998   \n",
       "2020-01-03  73.720840  1874.969971  208.669998  1360.660034  325.899994   \n",
       "2020-01-06  74.308266  1902.880005  212.600006  1394.209961  335.829987   \n",
       "2020-01-07  73.958794  1906.859985  213.059998  1393.339966  330.750000   \n",
       "2020-01-08  75.148521  1891.969971  215.220001  1404.319946  339.260010   \n",
       "\n",
       "                Close                                                    ...  \\\n",
       "                 AAPL         AMZN          FB         GOOG        NFLX  ...   \n",
       "Date                                                                     ...   \n",
       "2020-01-02  75.087502  1898.010010  209.779999  1367.369995  329.809998  ...   \n",
       "2020-01-03  74.357498  1874.969971  208.669998  1360.660034  325.899994  ...   \n",
       "2020-01-06  74.949997  1902.880005  212.600006  1394.209961  335.829987  ...   \n",
       "2020-01-07  74.597504  1906.859985  213.059998  1393.339966  330.750000  ...   \n",
       "2020-01-08  75.797501  1891.969971  215.220001  1404.319946  339.260010  ...   \n",
       "\n",
       "                 Open                                                    \\\n",
       "                 AAPL         AMZN          FB         GOOG        NFLX   \n",
       "Date                                                                      \n",
       "2020-01-02  74.059998  1875.000000  206.750000  1341.550049  326.100006   \n",
       "2020-01-03  74.287498  1864.500000  207.210007  1347.859985  326.779999   \n",
       "2020-01-06  73.447502  1860.000000  206.699997  1350.000000  323.119995   \n",
       "2020-01-07  74.959999  1904.500000  212.820007  1397.939941  336.470001   \n",
       "2020-01-08  74.290001  1898.040039  213.000000  1392.079956  331.489990   \n",
       "\n",
       "               Volume                                       \n",
       "                 AAPL     AMZN        FB     GOOG     NFLX  \n",
       "Date                                                        \n",
       "2020-01-02  135480400  4029000  12077100  1406600  4485800  \n",
       "2020-01-03  146322800  3764400  11188400  1186400  3806900  \n",
       "2020-01-06  118387200  4061800  17058900  1732300  5663100  \n",
       "2020-01-07  108872000  4044900  14912400  1502700  4703200  \n",
       "2020-01-08  132079200  3508000  13475000  1528000  7104500  \n",
       "\n",
       "[5 rows x 30 columns]"
      ]
     },
     "execution_count": 13,
     "metadata": {},
     "output_type": "execute_result"
    }
   ],
   "source": [
    "\n",
    "# # Display the first five rows of the dataframe to check the results. \n",
    "df = df['2020':] #FB listed from mid 2012  \n",
    "df.head()\n",
    "\n"
   ]
  },
  {
   "cell_type": "markdown",
   "metadata": {},
   "source": [
    "\n",
    "<h4 id=\"Fetching-OHLCV-Data-for-Multiple-Securities\">Fetching OHLCV Data for Multiple Securities<a class=\"anchor-link\" href=\"#Fetching-OHLCV-Data-for-Multiple-Securities\">¶</a></h4>\n",
    " open high low closed volume"
   ]
  },
  {
   "cell_type": "code",
   "execution_count": 14,
   "metadata": {},
   "outputs": [
    {
     "data": {
      "text/plain": [
       "{0, 1, 4, 9, 16, 25}"
      ]
     },
     "execution_count": 14,
     "metadata": {},
     "output_type": "execute_result"
    }
   ],
   "source": [
    "#列表推导式\n",
    "{x**2 for x in range(6)}\n",
    "\n"
   ]
  },
  {
   "cell_type": "code",
   "execution_count": null,
   "metadata": {},
   "outputs": [],
   "source": [
    "\n",
    "# Use comprehension to fetch data for multiple fields \n",
    "ohlc_data = {symbol: yf.download(symbol, start='2020-06-01', end='2020-06-30', progress=False) for symbol in faang_stocks}\n",
    "\n"
   ]
  },
  {
   "cell_type": "code",
   "execution_count": 16,
   "metadata": {},
   "outputs": [
    {
     "data": {
      "text/plain": [
       "{'AAPL':                  Open       High        Low      Close  Adj Close     Volume\n",
       " Date                                                                        \n",
       " 2020-06-01  79.437500  80.587502  79.302498  80.462502  80.179359   80791200\n",
       " 2020-06-02  80.187500  80.860001  79.732498  80.834999  80.550545   87642800\n",
       " 2020-06-03  81.165001  81.550003  80.574997  81.279999  80.993980  104491200\n",
       " 2020-06-04  81.097504  81.404999  80.195000  80.580002  80.296448   87560400\n",
       " 2020-06-05  80.837502  82.937500  80.807503  82.875000  82.583374  137250400\n",
       " 2020-06-08  82.562500  83.400002  81.830002  83.364998  83.071640   95654400\n",
       " 2020-06-09  83.035004  86.402496  83.002502  85.997498  85.694878  147712400\n",
       " 2020-06-10  86.974998  88.692497  86.522499  88.209999  87.899590  166651600\n",
       " 2020-06-11  87.327499  87.764999  83.870003  83.974998  83.679497  201662400\n",
       " 2020-06-12  86.180000  86.949997  83.555000  84.699997  84.401947  200146000\n",
       " 2020-06-15  83.312500  86.419998  83.144997  85.747498  85.445755  138808800\n",
       " 2020-06-16  87.864998  88.300003  86.180000  88.019997  87.710258  165428800\n",
       " 2020-06-17  88.787498  88.849998  87.772499  87.897499  87.588196  114406400\n",
       " 2020-06-18  87.852501  88.362503  87.305000  87.932503  87.623077   96820400\n",
       " 2020-06-19  88.660004  89.139999  86.287498  87.430000  87.122337  264476000\n",
       " 2020-06-22  87.834999  89.864998  87.787498  89.717499  89.401787  135445200\n",
       " 2020-06-23  91.000000  93.095001  90.567497  91.632500  91.310051  212155600\n",
       " 2020-06-24  91.250000  92.197502  89.629997  90.014999  89.698242  192623200\n",
       " 2020-06-25  90.175003  91.250000  89.392502  91.209999  90.889038  137522400\n",
       " 2020-06-26  91.102501  91.330002  88.254997  88.407501  88.096405  205256800\n",
       " 2020-06-29  88.312500  90.542503  87.820000  90.445000  90.126732  130646000,\n",
       " 'AMZN':                    Open         High          Low        Close    Adj Close  \\\n",
       " Date                                                                          \n",
       " 2020-06-01  2448.000000  2476.929932  2444.169922  2471.040039  2471.040039   \n",
       " 2020-06-02  2467.000000  2473.530029  2445.310059  2472.409912  2472.409912   \n",
       " 2020-06-03  2468.010010  2488.000000  2461.169922  2478.399902  2478.399902   \n",
       " 2020-06-04  2477.429932  2507.540039  2450.010010  2460.600098  2460.600098   \n",
       " 2020-06-05  2444.510010  2488.649902  2437.129883  2483.000000  2483.000000   \n",
       " 2020-06-08  2500.199951  2530.000000  2487.340088  2524.060059  2524.060059   \n",
       " 2020-06-09  2529.439941  2626.429932  2525.000000  2600.860107  2600.860107   \n",
       " 2020-06-10  2645.000000  2722.350098  2626.260010  2647.449951  2647.449951   \n",
       " 2020-06-11  2603.500000  2671.379883  2536.229980  2557.959961  2557.959961   \n",
       " 2020-06-12  2601.209961  2621.479980  2503.350098  2545.020020  2545.020020   \n",
       " 2020-06-15  2526.600098  2584.000000  2508.000000  2572.679932  2572.679932   \n",
       " 2020-06-16  2620.000000  2620.000000  2576.000000  2615.270020  2615.270020   \n",
       " 2020-06-17  2647.500000  2655.000000  2631.820068  2640.979980  2640.979980   \n",
       " 2020-06-18  2647.010010  2659.639893  2636.110107  2653.979980  2653.979980   \n",
       " 2020-06-19  2678.080078  2697.429932  2659.000000  2675.010010  2675.010010   \n",
       " 2020-06-22  2684.500000  2715.000000  2669.000000  2713.820068  2713.820068   \n",
       " 2020-06-23  2726.020020  2783.110107  2718.040039  2764.409912  2764.409912   \n",
       " 2020-06-24  2780.000000  2796.000000  2721.000000  2734.399902  2734.399902   \n",
       " 2020-06-25  2739.550049  2756.229980  2712.139893  2754.580078  2754.580078   \n",
       " 2020-06-26  2775.060059  2782.570068  2688.000000  2692.870117  2692.870117   \n",
       " 2020-06-29  2690.010010  2696.800049  2630.080078  2680.379883  2680.379883   \n",
       " \n",
       "              Volume  \n",
       " Date                 \n",
       " 2020-06-01  2928900  \n",
       " 2020-06-02  2529900  \n",
       " 2020-06-03  2671000  \n",
       " 2020-06-04  2948700  \n",
       " 2020-06-05  3306400  \n",
       " 2020-06-08  3970700  \n",
       " 2020-06-09  5176000  \n",
       " 2020-06-10  4946000  \n",
       " 2020-06-11  5800100  \n",
       " 2020-06-12  5436100  \n",
       " 2020-06-15  3865100  \n",
       " 2020-06-16  3585600  \n",
       " 2020-06-17  2959300  \n",
       " 2020-06-18  2487800  \n",
       " 2020-06-19  5777000  \n",
       " 2020-06-22  3208800  \n",
       " 2020-06-23  4231700  \n",
       " 2020-06-24  4526600  \n",
       " 2020-06-25  2968700  \n",
       " 2020-06-26  6500800  \n",
       " 2020-06-29  4223400  ,\n",
       " 'FB':                   Open        High         Low       Close   Adj Close  \\\n",
       " Date                                                                     \n",
       " 2020-06-01  224.589996  232.440002  223.500000  231.910004  231.910004   \n",
       " 2020-06-02  230.940002  233.000000  226.559998  232.720001  232.720001   \n",
       " 2020-06-03  232.110001  232.649994  228.529999  230.160004  230.160004   \n",
       " 2020-06-04  229.559998  231.630005  224.610001  226.289993  226.289993   \n",
       " 2020-06-05  226.710007  231.350006  225.309998  230.770004  230.770004   \n",
       " 2020-06-08  229.029999  231.550003  227.410004  231.399994  231.399994   \n",
       " 2020-06-09  231.520004  239.770004  230.410004  238.669998  238.669998   \n",
       " 2020-06-10  240.960007  241.210007  235.279999  236.729996  236.729996   \n",
       " 2020-06-11  229.940002  232.889999  223.550003  224.429993  224.429993   \n",
       " 2020-06-12  229.899994  231.660004  224.500000  228.580002  228.580002   \n",
       " 2020-06-15  225.089996  233.770004  224.800003  232.500000  232.500000   \n",
       " 2020-06-16  237.139999  238.460007  233.000000  235.649994  235.649994   \n",
       " 2020-06-17  235.000000  237.589996  231.729996  235.529999  235.529999   \n",
       " 2020-06-18  234.990005  236.139999  232.149994  235.940002  235.940002   \n",
       " 2020-06-19  237.789993  240.830002  235.550003  238.789993  238.789993   \n",
       " 2020-06-22  238.559998  240.699997  236.910004  239.220001  239.220001   \n",
       " 2020-06-23  241.279999  245.190002  239.860001  242.240005  242.240005   \n",
       " 2020-06-24  241.199997  243.220001  232.679993  234.020004  234.020004   \n",
       " 2020-06-25  234.619995  237.300003  232.740005  235.679993  235.679993   \n",
       " 2020-06-26  232.639999  233.089996  215.399994  216.080002  216.080002   \n",
       " 2020-06-29  209.750000  220.750000  207.110001  220.639999  220.639999   \n",
       " \n",
       "               Volume  \n",
       " Date                  \n",
       " 2020-06-01  18223800  \n",
       " 2020-06-02  20919000  \n",
       " 2020-06-03  15380300  \n",
       " 2020-06-04  17041500  \n",
       " 2020-06-05  16750400  \n",
       " 2020-06-08  15466500  \n",
       " 2020-06-09  27462900  \n",
       " 2020-06-10  20720700  \n",
       " 2020-06-11  26708200  \n",
       " 2020-06-12  22091400  \n",
       " 2020-06-15  15340300  \n",
       " 2020-06-16  15236700  \n",
       " 2020-06-17  19578100  \n",
       " 2020-06-18  15782500  \n",
       " 2020-06-19  30081300  \n",
       " 2020-06-22  18917800  \n",
       " 2020-06-23  24017900  \n",
       " 2020-06-24  20834900  \n",
       " 2020-06-25  18704300  \n",
       " 2020-06-26  76343900  \n",
       " 2020-06-29  58514300  ,\n",
       " 'GOOG':                    Open         High          Low        Close    Adj Close  \\\n",
       " Date                                                                          \n",
       " 2020-06-01  1418.390015  1437.959961  1418.000000  1431.819946  1431.819946   \n",
       " 2020-06-02  1430.550049  1439.609985  1418.829956  1439.219971  1439.219971   \n",
       " 2020-06-03  1438.300049  1446.552002  1429.776978  1436.380005  1436.380005   \n",
       " 2020-06-04  1430.400024  1438.959961  1404.729980  1412.180054  1412.180054   \n",
       " 2020-06-05  1413.170044  1445.050049  1406.000000  1438.390015  1438.390015   \n",
       " 2020-06-08  1422.339966  1447.989990  1422.339966  1446.609985  1446.609985   \n",
       " 2020-06-09  1445.359985  1468.000000  1443.209961  1456.160034  1456.160034   \n",
       " 2020-06-10  1459.540039  1474.259033  1456.270020  1465.849976  1465.849976   \n",
       " 2020-06-11  1442.479980  1454.474976  1402.000000  1403.839966  1403.839966   \n",
       " 2020-06-12  1428.489990  1437.000000  1386.020020  1413.180054  1413.180054   \n",
       " 2020-06-15  1390.800049  1424.800049  1387.920044  1419.849976  1419.849976   \n",
       " 2020-06-16  1445.219971  1455.020020  1425.900024  1442.719971  1442.719971   \n",
       " 2020-06-17  1447.160034  1460.000000  1431.380005  1451.119995  1451.119995   \n",
       " 2020-06-18  1449.160034  1451.410034  1427.010010  1435.959961  1435.959961   \n",
       " 2020-06-19  1444.000000  1447.800049  1421.349976  1431.719971  1431.719971   \n",
       " 2020-06-22  1429.000000  1452.750000  1423.209961  1451.859985  1451.859985   \n",
       " 2020-06-23  1455.640015  1475.941040  1445.239990  1464.410034  1464.410034   \n",
       " 2020-06-24  1461.510010  1475.420044  1429.750000  1431.969971  1431.969971   \n",
       " 2020-06-25  1429.900024  1442.900024  1420.000000  1441.329956  1441.329956   \n",
       " 2020-06-26  1431.390015  1433.449951  1351.989990  1359.900024  1359.900024   \n",
       " 2020-06-29  1358.180054  1395.599976  1347.010010  1394.969971  1394.969971   \n",
       " \n",
       "              Volume  \n",
       " Date                 \n",
       " 2020-06-01  1217100  \n",
       " 2020-06-02  1278100  \n",
       " 2020-06-03  1256200  \n",
       " 2020-06-04  1484300  \n",
       " 2020-06-05  1734900  \n",
       " 2020-06-08  1404200  \n",
       " 2020-06-09  1409200  \n",
       " 2020-06-10  1525200  \n",
       " 2020-06-11  1991300  \n",
       " 2020-06-12  1946400  \n",
       " 2020-06-15  1503900  \n",
       " 2020-06-16  1709200  \n",
       " 2020-06-17  1549600  \n",
       " 2020-06-18  1581900  \n",
       " 2020-06-19  3157900  \n",
       " 2020-06-22  1542400  \n",
       " 2020-06-23  1429800  \n",
       " 2020-06-24  1756000  \n",
       " 2020-06-25  1230500  \n",
       " 2020-06-26  4267700  \n",
       " 2020-06-29  1810200  ,\n",
       " 'NFLX':                   Open        High         Low       Close   Adj Close  \\\n",
       " Date                                                                     \n",
       " 2020-06-01  418.829987  426.720001  415.980011  425.920013  425.920013   \n",
       " 2020-06-02  425.869995  427.589996  419.459991  427.309998  427.309998   \n",
       " 2020-06-03  426.950012  427.100006  418.049988  421.970001  421.970001   \n",
       " 2020-06-04  422.390015  428.709991  410.029999  414.329987  414.329987   \n",
       " 2020-06-05  407.290009  420.239990  404.250000  419.600006  419.600006   \n",
       " 2020-06-08  416.000000  420.799988  406.500000  419.489990  419.489990   \n",
       " 2020-06-09  421.649994  434.730011  420.309998  434.049988  434.049988   \n",
       " 2020-06-10  436.000000  439.690002  430.549988  434.480011  434.480011   \n",
       " 2020-06-11  428.200012  445.570007  424.160004  425.559998  425.559998   \n",
       " 2020-06-12  429.000000  434.059998  412.450012  418.070007  418.070007   \n",
       " 2020-06-15  421.399994  426.489990  415.420013  425.500000  425.500000   \n",
       " 2020-06-16  425.760010  437.959991  425.179993  436.130005  436.130005   \n",
       " 2020-06-17  441.820007  450.459991  439.220001  447.769989  447.769989   \n",
       " 2020-06-18  448.730011  452.760010  442.799988  449.869995  449.869995   \n",
       " 2020-06-19  449.119995  453.970001  445.600006  453.720001  453.720001   \n",
       " 2020-06-22  455.010010  468.589996  454.209991  468.040009  468.040009   \n",
       " 2020-06-23  466.500000  474.010010  464.500000  466.260010  466.260010   \n",
       " 2020-06-24  468.540009  472.359985  454.000000  457.850006  457.850006   \n",
       " 2020-06-25  458.859985  467.010010  454.000000  465.910004  465.910004   \n",
       " 2020-06-26  466.390015  468.029999  442.239990  443.399994  443.399994   \n",
       " 2020-06-29  445.230011  447.670013  432.140015  447.239990  447.239990   \n",
       " \n",
       "              Volume  \n",
       " Date                 \n",
       " 2020-06-01  3743700  \n",
       " 2020-06-02  3494800  \n",
       " 2020-06-03  4316000  \n",
       " 2020-06-04  5410500  \n",
       " 2020-06-05  5099600  \n",
       " 2020-06-08  5851500  \n",
       " 2020-06-09  6797000  \n",
       " 2020-06-10  4896900  \n",
       " 2020-06-11  7462900  \n",
       " 2020-06-12  6461100  \n",
       " 2020-06-15  4467900  \n",
       " 2020-06-16  5507900  \n",
       " 2020-06-17  6529600  \n",
       " 2020-06-18  4277600  \n",
       " 2020-06-19  5934500  \n",
       " 2020-06-22  6272100  \n",
       " 2020-06-23  5948400  \n",
       " 2020-06-24  4826200  \n",
       " 2020-06-25  4134500  \n",
       " 2020-06-26  6804700  \n",
       " 2020-06-29  4844000  }"
      ]
     },
     "execution_count": 16,
     "metadata": {},
     "output_type": "execute_result"
    }
   ],
   "source": [
    "\n",
    "ohlc_data\n",
    "\n"
   ]
  },
  {
   "cell_type": "code",
   "execution_count": 17,
   "metadata": {},
   "outputs": [
    {
     "data": {
      "text/html": [
       "<div>\n",
       "<style scoped>\n",
       "    .dataframe tbody tr th:only-of-type {\n",
       "        vertical-align: middle;\n",
       "    }\n",
       "\n",
       "    .dataframe tbody tr th {\n",
       "        vertical-align: top;\n",
       "    }\n",
       "\n",
       "    .dataframe thead th {\n",
       "        text-align: right;\n",
       "    }\n",
       "</style>\n",
       "<table border=\"1\" class=\"dataframe\">\n",
       "  <thead>\n",
       "    <tr style=\"text-align: right;\">\n",
       "      <th></th>\n",
       "      <th>Open</th>\n",
       "      <th>High</th>\n",
       "      <th>Low</th>\n",
       "      <th>Close</th>\n",
       "      <th>Adj Close</th>\n",
       "      <th>Volume</th>\n",
       "    </tr>\n",
       "    <tr>\n",
       "      <th>Date</th>\n",
       "      <th></th>\n",
       "      <th></th>\n",
       "      <th></th>\n",
       "      <th></th>\n",
       "      <th></th>\n",
       "      <th></th>\n",
       "    </tr>\n",
       "  </thead>\n",
       "  <tbody>\n",
       "    <tr>\n",
       "      <th>2020-06-01</th>\n",
       "      <td>2448.000000</td>\n",
       "      <td>2476.929932</td>\n",
       "      <td>2444.169922</td>\n",
       "      <td>2471.040039</td>\n",
       "      <td>2471.040039</td>\n",
       "      <td>2928900</td>\n",
       "    </tr>\n",
       "    <tr>\n",
       "      <th>2020-06-02</th>\n",
       "      <td>2467.000000</td>\n",
       "      <td>2473.530029</td>\n",
       "      <td>2445.310059</td>\n",
       "      <td>2472.409912</td>\n",
       "      <td>2472.409912</td>\n",
       "      <td>2529900</td>\n",
       "    </tr>\n",
       "    <tr>\n",
       "      <th>2020-06-03</th>\n",
       "      <td>2468.010010</td>\n",
       "      <td>2488.000000</td>\n",
       "      <td>2461.169922</td>\n",
       "      <td>2478.399902</td>\n",
       "      <td>2478.399902</td>\n",
       "      <td>2671000</td>\n",
       "    </tr>\n",
       "    <tr>\n",
       "      <th>2020-06-04</th>\n",
       "      <td>2477.429932</td>\n",
       "      <td>2507.540039</td>\n",
       "      <td>2450.010010</td>\n",
       "      <td>2460.600098</td>\n",
       "      <td>2460.600098</td>\n",
       "      <td>2948700</td>\n",
       "    </tr>\n",
       "    <tr>\n",
       "      <th>2020-06-05</th>\n",
       "      <td>2444.510010</td>\n",
       "      <td>2488.649902</td>\n",
       "      <td>2437.129883</td>\n",
       "      <td>2483.000000</td>\n",
       "      <td>2483.000000</td>\n",
       "      <td>3306400</td>\n",
       "    </tr>\n",
       "  </tbody>\n",
       "</table>\n",
       "</div>"
      ],
      "text/plain": [
       "                   Open         High          Low        Close    Adj Close  \\\n",
       "Date                                                                          \n",
       "2020-06-01  2448.000000  2476.929932  2444.169922  2471.040039  2471.040039   \n",
       "2020-06-02  2467.000000  2473.530029  2445.310059  2472.409912  2472.409912   \n",
       "2020-06-03  2468.010010  2488.000000  2461.169922  2478.399902  2478.399902   \n",
       "2020-06-04  2477.429932  2507.540039  2450.010010  2460.600098  2460.600098   \n",
       "2020-06-05  2444.510010  2488.649902  2437.129883  2483.000000  2483.000000   \n",
       "\n",
       "             Volume  \n",
       "Date                 \n",
       "2020-06-01  2928900  \n",
       "2020-06-02  2529900  \n",
       "2020-06-03  2671000  \n",
       "2020-06-04  2948700  \n",
       "2020-06-05  3306400  "
      ]
     },
     "execution_count": 17,
     "metadata": {},
     "output_type": "execute_result"
    }
   ],
   "source": [
    "\n",
    "# Display AMZN stock data\n",
    "ohlc_data['AMZN'].head()\n",
    "\n"
   ]
  },
  {
   "cell_type": "code",
   "execution_count": 18,
   "metadata": {},
   "outputs": [
    {
     "data": {
      "text/plain": [
       "Date\n",
       "2020-06-01    2471.040039\n",
       "2020-06-02    2472.409912\n",
       "2020-06-03    2478.399902\n",
       "2020-06-04    2460.600098\n",
       "2020-06-05    2483.000000\n",
       "Name: Adj Close, dtype: float64"
      ]
     },
     "execution_count": 18,
     "metadata": {},
     "output_type": "execute_result"
    }
   ],
   "source": [
    "\n",
    "# Display AMZN Adjusted Close data \n",
    "ohlc_data['AMZN']['Adj Close'].head()\n",
    "\n"
   ]
  },
  {
   "cell_type": "code",
   "execution_count": 23,
   "metadata": {},
   "outputs": [
    {
     "name": "stdout",
     "output_type": "stream",
     "text": [
      "<class 'pandas.core.frame.DataFrame'>\n",
      "DatetimeIndex: 273 entries, 2019-05-31 to 2020-06-29\n",
      "Data columns (total 5 columns):\n",
      " #   Column  Non-Null Count  Dtype  \n",
      "---  ------  --------------  -----  \n",
      " 0   AAPL    273 non-null    float64\n",
      " 1   AMZN    273 non-null    float64\n",
      " 2   FB      273 non-null    float64\n",
      " 3   GOOG    273 non-null    float64\n",
      " 4   NFLX    273 non-null    float64\n",
      "dtypes: float64(5)\n",
      "memory usage: 12.8 KB\n"
     ]
    }
   ],
   "source": [
    "\n",
    "df.dtypes\n",
    "df.index\n",
    "df.info() # dataframe metadata information\n",
    "\n"
   ]
  },
  {
   "cell_type": "code",
   "execution_count": null,
   "metadata": {},
   "outputs": [],
   "source": [
    "# Fetch data for multiple fields using comprehension\n",
    "ohlcv= {symbol: yf.download(symbol, period='250d', progress=False) \n",
    "             for symbol in faang_stocks}"
   ]
  },
  {
   "cell_type": "markdown",
   "metadata": {},
   "source": [
    "\n",
    "<h3 id=\"Retrieving-Intraday-Data\">Retrieving Intraday Data<a class=\"anchor-link\" href=\"#Retrieving-Intraday-Data\">¶</a></h3>\n"
   ]
  },
  {
   "cell_type": "markdown",
   "metadata": {},
   "source": [
    "\n",
    "<h4 id=\"Fetching-Intraday-Data-from-Yahoo-Finance\">Fetching Intraday Data from Yahoo Finance<a class=\"anchor-link\" href=\"#Fetching-Intraday-Data-from-Yahoo-Finance\">¶</a></h4><p>We'll now retrieve intraday data from yahoo finance using <code>yfinance</code> library</p>\n"
   ]
  },
  {
   "cell_type": "code",
   "execution_count": 24,
   "metadata": {},
   "outputs": [
    {
     "data": {
      "text/html": [
       "<div>\n",
       "<style scoped>\n",
       "    .dataframe tbody tr th:only-of-type {\n",
       "        vertical-align: middle;\n",
       "    }\n",
       "\n",
       "    .dataframe tbody tr th {\n",
       "        vertical-align: top;\n",
       "    }\n",
       "\n",
       "    .dataframe thead th {\n",
       "        text-align: right;\n",
       "    }\n",
       "</style>\n",
       "<table border=\"1\" class=\"dataframe\">\n",
       "  <thead>\n",
       "    <tr style=\"text-align: right;\">\n",
       "      <th></th>\n",
       "      <th>Open</th>\n",
       "      <th>High</th>\n",
       "      <th>Low</th>\n",
       "      <th>Close</th>\n",
       "      <th>Adj Close</th>\n",
       "      <th>Volume</th>\n",
       "    </tr>\n",
       "    <tr>\n",
       "      <th>Datetime</th>\n",
       "      <th></th>\n",
       "      <th></th>\n",
       "      <th></th>\n",
       "      <th></th>\n",
       "      <th></th>\n",
       "      <th></th>\n",
       "    </tr>\n",
       "  </thead>\n",
       "  <tbody>\n",
       "    <tr>\n",
       "      <th>2021-01-28 09:30:00-05:00</th>\n",
       "      <td>376.359985</td>\n",
       "      <td>376.510010</td>\n",
       "      <td>375.890015</td>\n",
       "      <td>376.510010</td>\n",
       "      <td>376.510010</td>\n",
       "      <td>4182070</td>\n",
       "    </tr>\n",
       "    <tr>\n",
       "      <th>2021-01-28 09:31:00-05:00</th>\n",
       "      <td>376.510010</td>\n",
       "      <td>376.869995</td>\n",
       "      <td>376.429993</td>\n",
       "      <td>376.809998</td>\n",
       "      <td>376.809998</td>\n",
       "      <td>245700</td>\n",
       "    </tr>\n",
       "    <tr>\n",
       "      <th>2021-01-28 09:32:00-05:00</th>\n",
       "      <td>376.799988</td>\n",
       "      <td>376.829987</td>\n",
       "      <td>376.630005</td>\n",
       "      <td>376.720001</td>\n",
       "      <td>376.720001</td>\n",
       "      <td>195250</td>\n",
       "    </tr>\n",
       "    <tr>\n",
       "      <th>2021-01-28 09:33:00-05:00</th>\n",
       "      <td>376.720001</td>\n",
       "      <td>377.079987</td>\n",
       "      <td>376.709991</td>\n",
       "      <td>377.040009</td>\n",
       "      <td>377.040009</td>\n",
       "      <td>275943</td>\n",
       "    </tr>\n",
       "    <tr>\n",
       "      <th>2021-01-28 09:34:00-05:00</th>\n",
       "      <td>377.029999</td>\n",
       "      <td>377.077515</td>\n",
       "      <td>376.769989</td>\n",
       "      <td>376.769989</td>\n",
       "      <td>376.769989</td>\n",
       "      <td>294952</td>\n",
       "    </tr>\n",
       "  </tbody>\n",
       "</table>\n",
       "</div>"
      ],
      "text/plain": [
       "                                 Open        High         Low       Close  \\\n",
       "Datetime                                                                    \n",
       "2021-01-28 09:30:00-05:00  376.359985  376.510010  375.890015  376.510010   \n",
       "2021-01-28 09:31:00-05:00  376.510010  376.869995  376.429993  376.809998   \n",
       "2021-01-28 09:32:00-05:00  376.799988  376.829987  376.630005  376.720001   \n",
       "2021-01-28 09:33:00-05:00  376.720001  377.079987  376.709991  377.040009   \n",
       "2021-01-28 09:34:00-05:00  377.029999  377.077515  376.769989  376.769989   \n",
       "\n",
       "                            Adj Close   Volume  \n",
       "Datetime                                        \n",
       "2021-01-28 09:30:00-05:00  376.510010  4182070  \n",
       "2021-01-28 09:31:00-05:00  376.809998   245700  \n",
       "2021-01-28 09:32:00-05:00  376.720001   195250  \n",
       "2021-01-28 09:33:00-05:00  377.040009   275943  \n",
       "2021-01-28 09:34:00-05:00  376.769989   294952  "
      ]
     },
     "execution_count": 24,
     "metadata": {},
     "output_type": "execute_result"
    }
   ],
   "source": [
    "\n",
    "# Retrive intraday data\n",
    "dfi = yf.download(tickers=\"SPY\", period=\"5d\", interval=\"1m\", progress=False)\n",
    "\n",
    "# Display the first five rows of the dataframe to check the results.\n",
    "dfi.head()\n",
    "\n",
    "#-05：00表示时区 以utc为准世界协调时间往后移五个小时"
   ]
  },
  {
   "cell_type": "code",
   "execution_count": 25,
   "metadata": {},
   "outputs": [
    {
     "data": {
      "text/html": [
       "<div>\n",
       "<style scoped>\n",
       "    .dataframe tbody tr th:only-of-type {\n",
       "        vertical-align: middle;\n",
       "    }\n",
       "\n",
       "    .dataframe tbody tr th {\n",
       "        vertical-align: top;\n",
       "    }\n",
       "\n",
       "    .dataframe thead th {\n",
       "        text-align: right;\n",
       "    }\n",
       "</style>\n",
       "<table border=\"1\" class=\"dataframe\">\n",
       "  <thead>\n",
       "    <tr style=\"text-align: right;\">\n",
       "      <th></th>\n",
       "      <th>Open</th>\n",
       "      <th>High</th>\n",
       "      <th>Low</th>\n",
       "      <th>Close</th>\n",
       "      <th>Adj Close</th>\n",
       "      <th>Volume</th>\n",
       "    </tr>\n",
       "    <tr>\n",
       "      <th>Datetime</th>\n",
       "      <th></th>\n",
       "      <th></th>\n",
       "      <th></th>\n",
       "      <th></th>\n",
       "      <th></th>\n",
       "      <th></th>\n",
       "    </tr>\n",
       "  </thead>\n",
       "  <tbody>\n",
       "    <tr>\n",
       "      <th>2021-02-03 15:55:00-05:00</th>\n",
       "      <td>382.364990</td>\n",
       "      <td>382.519989</td>\n",
       "      <td>382.290009</td>\n",
       "      <td>382.390015</td>\n",
       "      <td>382.390015</td>\n",
       "      <td>507904</td>\n",
       "    </tr>\n",
       "    <tr>\n",
       "      <th>2021-02-03 15:56:00-05:00</th>\n",
       "      <td>382.380005</td>\n",
       "      <td>382.440002</td>\n",
       "      <td>382.309998</td>\n",
       "      <td>382.334991</td>\n",
       "      <td>382.334991</td>\n",
       "      <td>221134</td>\n",
       "    </tr>\n",
       "    <tr>\n",
       "      <th>2021-02-03 15:57:00-05:00</th>\n",
       "      <td>382.334991</td>\n",
       "      <td>382.334991</td>\n",
       "      <td>382.200012</td>\n",
       "      <td>382.255005</td>\n",
       "      <td>382.255005</td>\n",
       "      <td>596305</td>\n",
       "    </tr>\n",
       "    <tr>\n",
       "      <th>2021-02-03 15:58:00-05:00</th>\n",
       "      <td>382.250000</td>\n",
       "      <td>382.399994</td>\n",
       "      <td>382.239990</td>\n",
       "      <td>382.330200</td>\n",
       "      <td>382.330200</td>\n",
       "      <td>393366</td>\n",
       "    </tr>\n",
       "    <tr>\n",
       "      <th>2021-02-03 15:59:00-05:00</th>\n",
       "      <td>382.338104</td>\n",
       "      <td>382.359985</td>\n",
       "      <td>381.839996</td>\n",
       "      <td>381.859985</td>\n",
       "      <td>381.859985</td>\n",
       "      <td>1087257</td>\n",
       "    </tr>\n",
       "  </tbody>\n",
       "</table>\n",
       "</div>"
      ],
      "text/plain": [
       "                                 Open        High         Low       Close  \\\n",
       "Datetime                                                                    \n",
       "2021-02-03 15:55:00-05:00  382.364990  382.519989  382.290009  382.390015   \n",
       "2021-02-03 15:56:00-05:00  382.380005  382.440002  382.309998  382.334991   \n",
       "2021-02-03 15:57:00-05:00  382.334991  382.334991  382.200012  382.255005   \n",
       "2021-02-03 15:58:00-05:00  382.250000  382.399994  382.239990  382.330200   \n",
       "2021-02-03 15:59:00-05:00  382.338104  382.359985  381.839996  381.859985   \n",
       "\n",
       "                            Adj Close   Volume  \n",
       "Datetime                                        \n",
       "2021-02-03 15:55:00-05:00  382.390015   507904  \n",
       "2021-02-03 15:56:00-05:00  382.334991   221134  \n",
       "2021-02-03 15:57:00-05:00  382.255005   596305  \n",
       "2021-02-03 15:58:00-05:00  382.330200   393366  \n",
       "2021-02-03 15:59:00-05:00  381.859985  1087257  "
      ]
     },
     "execution_count": 25,
     "metadata": {},
     "output_type": "execute_result"
    }
   ],
   "source": [
    "\n",
    "dfi.tail()\n",
    "\n"
   ]
  },
  {
   "cell_type": "markdown",
   "metadata": {},
   "source": [
    "\n",
    "<h4 id=\"Fetching-Intraday-Data-from-Alpha-Vantage\">Fetching Intraday Data from Alpha Vantage<a class=\"anchor-link\" href=\"#Fetching-Intraday-Data-from-Alpha-Vantage\">¶</a></h4><p>We can also use <code>alpha_vantage</code> library to retrieve intraday timeseries data</p>\n",
    "\n",
    "\n"
   ]
  },
  {
   "cell_type": "code",
   "execution_count": 4,
   "metadata": {},
   "outputs": [],
   "source": [
    "\n",
    "from alpha_vantage.timeseries import TimeSeries\n",
    "\n"
   ]
  },
  {
   "cell_type": "code",
   "execution_count": 5,
   "metadata": {},
   "outputs": [],
   "source": [
    "\n",
    "key_path = \"Key.txt\" # 需要一个api 密钥RV06N5J1MOTO5YBO\n",
    "ts = TimeSeries(key=open(key_path, 'r').read(),output_format='pandas')\n",
    "data , metadata = ts.get_intraday(symbol='AMZN',interval='1min', outputsize='full')\n",
    "\n"
   ]
  },
  {
   "cell_type": "code",
   "execution_count": 15,
   "metadata": {},
   "outputs": [
    {
     "data": {
      "text/plain": [
       "{'1. Information': 'Intraday (1min) open, high, low, close prices and volume',\n",
       " '2. Symbol': 'AMZN',\n",
       " '3. Last Refreshed': '2021-02-09 19:58:00',\n",
       " '4. Interval': '1min',\n",
       " '5. Output Size': 'Full size',\n",
       " '6. Time Zone': 'US/Eastern'}"
      ]
     },
     "execution_count": 15,
     "metadata": {},
     "output_type": "execute_result"
    }
   ],
   "source": [
    "\n",
    "metadata\n",
    "\n"
   ]
  },
  {
   "cell_type": "code",
   "execution_count": 45,
   "metadata": {},
   "outputs": [
    {
     "data": {
      "text/html": [
       "<div>\n",
       "<style scoped>\n",
       "    .dataframe tbody tr th:only-of-type {\n",
       "        vertical-align: middle;\n",
       "    }\n",
       "\n",
       "    .dataframe tbody tr th {\n",
       "        vertical-align: top;\n",
       "    }\n",
       "\n",
       "    .dataframe thead th {\n",
       "        text-align: right;\n",
       "    }\n",
       "</style>\n",
       "<table border=\"1\" class=\"dataframe\">\n",
       "  <thead>\n",
       "    <tr style=\"text-align: right;\">\n",
       "      <th></th>\n",
       "      <th>1. open</th>\n",
       "      <th>2. high</th>\n",
       "      <th>3. low</th>\n",
       "      <th>4. close</th>\n",
       "      <th>5. volume</th>\n",
       "    </tr>\n",
       "    <tr>\n",
       "      <th>date</th>\n",
       "      <th></th>\n",
       "      <th></th>\n",
       "      <th></th>\n",
       "      <th></th>\n",
       "      <th></th>\n",
       "    </tr>\n",
       "  </thead>\n",
       "  <tbody>\n",
       "    <tr>\n",
       "      <th>2021-02-03 20:00:00</th>\n",
       "      <td>3312.00</td>\n",
       "      <td>3312.00</td>\n",
       "      <td>3312.00</td>\n",
       "      <td>3312.00</td>\n",
       "      <td>458.0</td>\n",
       "    </tr>\n",
       "    <tr>\n",
       "      <th>2021-02-03 19:59:00</th>\n",
       "      <td>3313.00</td>\n",
       "      <td>3313.00</td>\n",
       "      <td>3312.00</td>\n",
       "      <td>3312.00</td>\n",
       "      <td>1136.0</td>\n",
       "    </tr>\n",
       "    <tr>\n",
       "      <th>2021-02-03 19:58:00</th>\n",
       "      <td>3313.00</td>\n",
       "      <td>3313.00</td>\n",
       "      <td>3313.00</td>\n",
       "      <td>3313.00</td>\n",
       "      <td>554.0</td>\n",
       "    </tr>\n",
       "    <tr>\n",
       "      <th>2021-02-03 19:57:00</th>\n",
       "      <td>3312.00</td>\n",
       "      <td>3312.00</td>\n",
       "      <td>3311.00</td>\n",
       "      <td>3311.00</td>\n",
       "      <td>1074.0</td>\n",
       "    </tr>\n",
       "    <tr>\n",
       "      <th>2021-02-03 19:56:00</th>\n",
       "      <td>3314.00</td>\n",
       "      <td>3314.00</td>\n",
       "      <td>3312.50</td>\n",
       "      <td>3312.50</td>\n",
       "      <td>1009.0</td>\n",
       "    </tr>\n",
       "    <tr>\n",
       "      <th>...</th>\n",
       "      <td>...</td>\n",
       "      <td>...</td>\n",
       "      <td>...</td>\n",
       "      <td>...</td>\n",
       "      <td>...</td>\n",
       "    </tr>\n",
       "    <tr>\n",
       "      <th>2021-01-21 05:51:00</th>\n",
       "      <td>3273.00</td>\n",
       "      <td>3273.00</td>\n",
       "      <td>3273.00</td>\n",
       "      <td>3273.00</td>\n",
       "      <td>194.0</td>\n",
       "    </tr>\n",
       "    <tr>\n",
       "      <th>2021-01-21 05:43:00</th>\n",
       "      <td>3274.00</td>\n",
       "      <td>3274.00</td>\n",
       "      <td>3274.00</td>\n",
       "      <td>3274.00</td>\n",
       "      <td>204.0</td>\n",
       "    </tr>\n",
       "    <tr>\n",
       "      <th>2021-01-21 05:42:00</th>\n",
       "      <td>3276.00</td>\n",
       "      <td>3276.00</td>\n",
       "      <td>3276.00</td>\n",
       "      <td>3276.00</td>\n",
       "      <td>147.0</td>\n",
       "    </tr>\n",
       "    <tr>\n",
       "      <th>2021-01-21 04:21:00</th>\n",
       "      <td>3277.08</td>\n",
       "      <td>3277.08</td>\n",
       "      <td>3277.08</td>\n",
       "      <td>3277.08</td>\n",
       "      <td>262.0</td>\n",
       "    </tr>\n",
       "    <tr>\n",
       "      <th>2021-01-21 04:17:00</th>\n",
       "      <td>3281.00</td>\n",
       "      <td>3281.00</td>\n",
       "      <td>3281.00</td>\n",
       "      <td>3281.00</td>\n",
       "      <td>283.0</td>\n",
       "    </tr>\n",
       "  </tbody>\n",
       "</table>\n",
       "<p>5310 rows × 5 columns</p>\n",
       "</div>"
      ],
      "text/plain": [
       "                     1. open  2. high   3. low  4. close  5. volume\n",
       "date                                                               \n",
       "2021-02-03 20:00:00  3312.00  3312.00  3312.00   3312.00      458.0\n",
       "2021-02-03 19:59:00  3313.00  3313.00  3312.00   3312.00     1136.0\n",
       "2021-02-03 19:58:00  3313.00  3313.00  3313.00   3313.00      554.0\n",
       "2021-02-03 19:57:00  3312.00  3312.00  3311.00   3311.00     1074.0\n",
       "2021-02-03 19:56:00  3314.00  3314.00  3312.50   3312.50     1009.0\n",
       "...                      ...      ...      ...       ...        ...\n",
       "2021-01-21 05:51:00  3273.00  3273.00  3273.00   3273.00      194.0\n",
       "2021-01-21 05:43:00  3274.00  3274.00  3274.00   3274.00      204.0\n",
       "2021-01-21 05:42:00  3276.00  3276.00  3276.00   3276.00      147.0\n",
       "2021-01-21 04:21:00  3277.08  3277.08  3277.08   3277.08      262.0\n",
       "2021-01-21 04:17:00  3281.00  3281.00  3281.00   3281.00      283.0\n",
       "\n",
       "[5310 rows x 5 columns]"
      ]
     },
     "execution_count": 45,
     "metadata": {},
     "output_type": "execute_result"
    }
   ],
   "source": [
    "\n",
    "data\n",
    "\n"
   ]
  },
  {
   "cell_type": "markdown",
   "metadata": {},
   "source": [
    "<h3 id=\"Retrieving-Intraday-Data\">Retrieving Option Chain<a class=\"anchor-link\" href=\"#Retrieving-Intraday-Data\">¶</a></h3>"
   ]
  },
  {
   "cell_type": "markdown",
   "metadata": {},
   "source": [
    "We'll now retrieve option chain for SPY for September 2021 expiration from yahoo finance and filter the output to display the first seven columns."
   ]
  },
  {
   "cell_type": "code",
   "execution_count": null,
   "metadata": {},
   "outputs": [],
   "source": [
    "# Get SPY option chain\n",
    "spy = yf.Ticker('SPY')\n",
    "options = spy.option_chain('2021-09-30')"
   ]
  },
  {
   "cell_type": "code",
   "execution_count": null,
   "metadata": {},
   "outputs": [],
   "source": [
    "options"
   ]
  },
  {
   "cell_type": "code",
   "execution_count": null,
   "metadata": {},
   "outputs": [],
   "source": [
    "# Filter calls for strike above 400\n",
    "df = options.calls[options.calls['strike']>400]\n",
    "df.reset_index(drop=True, inplace=True) \n",
    "\n",
    "# Check the filtered output\n",
    "df.iloc[:,:7].head()"
   ]
  },
  {
   "cell_type": "code",
   "execution_count": null,
   "metadata": {},
   "outputs": [],
   "source": []
  },
  {
   "cell_type": "markdown",
   "metadata": {},
   "source": [
    "\n",
    "<h3 id=\"File-Input-&amp;-Output\">File Input &amp; Output<a class=\"anchor-link\" href=\"#File-Input-&amp;-Output\">¶</a></h3>\n"
   ]
  },
  {
   "cell_type": "markdown",
   "metadata": {},
   "source": [
    "\n",
    "<h4 id=\"Storing-OHLCV-data-in-Excel-File\">Storing OHLCV data in Excel File<a class=\"anchor-link\" href=\"#Storing-OHLCV-data-in-Excel-File\">¶</a></h4>\n"
   ]
  },
  {
   "cell_type": "code",
   "execution_count": 46,
   "metadata": {},
   "outputs": [],
   "source": [
    "\n",
    "# Dataframe to Excel\n",
    "from pandas import ExcelWriter\n",
    "\n"
   ]
  },
  {
   "cell_type": "code",
   "execution_count": 47,
   "metadata": {},
   "outputs": [],
   "source": [
    "\n",
    "# Storing the fetched data in a separate sheet for each security\n",
    "writer = ExcelWriter('data/mystocks_1.xlsx')\n",
    "\n",
    "[pd.DataFrame(ohlc_data[symbol]).to_excel(writer,symbol) for symbol in faang_stocks] \n",
    "writer.save() # save file\n",
    "\n"
   ]
  },
  {
   "cell_type": "markdown",
   "metadata": {},
   "source": [
    "\n",
    "<h4 id=\"Reading-Microsfot-Excel-File\">Reading Microsfot Excel File<a class=\"anchor-link\" href=\"#Reading-Microsfot-Excel-File\">¶</a></h4><p>We'll now read the Excel file stored locally using Pandas</p>\n"
   ]
  },
  {
   "cell_type": "code",
   "execution_count": 48,
   "metadata": {},
   "outputs": [
    {
     "data": {
      "text/html": [
       "<div>\n",
       "<style scoped>\n",
       "    .dataframe tbody tr th:only-of-type {\n",
       "        vertical-align: middle;\n",
       "    }\n",
       "\n",
       "    .dataframe tbody tr th {\n",
       "        vertical-align: top;\n",
       "    }\n",
       "\n",
       "    .dataframe thead th {\n",
       "        text-align: right;\n",
       "    }\n",
       "</style>\n",
       "<table border=\"1\" class=\"dataframe\">\n",
       "  <thead>\n",
       "    <tr style=\"text-align: right;\">\n",
       "      <th></th>\n",
       "      <th>Open</th>\n",
       "      <th>High</th>\n",
       "      <th>Low</th>\n",
       "      <th>Close</th>\n",
       "      <th>Adj Close</th>\n",
       "      <th>Volume</th>\n",
       "    </tr>\n",
       "    <tr>\n",
       "      <th>Date</th>\n",
       "      <th></th>\n",
       "      <th></th>\n",
       "      <th></th>\n",
       "      <th></th>\n",
       "      <th></th>\n",
       "      <th></th>\n",
       "    </tr>\n",
       "  </thead>\n",
       "  <tbody>\n",
       "    <tr>\n",
       "      <th>2020-06-23</th>\n",
       "      <td>466.500000</td>\n",
       "      <td>474.010010</td>\n",
       "      <td>464.500000</td>\n",
       "      <td>466.260010</td>\n",
       "      <td>466.260010</td>\n",
       "      <td>5948400</td>\n",
       "    </tr>\n",
       "    <tr>\n",
       "      <th>2020-06-24</th>\n",
       "      <td>468.540009</td>\n",
       "      <td>472.359985</td>\n",
       "      <td>454.000000</td>\n",
       "      <td>457.850006</td>\n",
       "      <td>457.850006</td>\n",
       "      <td>4826200</td>\n",
       "    </tr>\n",
       "    <tr>\n",
       "      <th>2020-06-25</th>\n",
       "      <td>458.859985</td>\n",
       "      <td>467.010010</td>\n",
       "      <td>454.000000</td>\n",
       "      <td>465.910004</td>\n",
       "      <td>465.910004</td>\n",
       "      <td>4134500</td>\n",
       "    </tr>\n",
       "    <tr>\n",
       "      <th>2020-06-26</th>\n",
       "      <td>466.390015</td>\n",
       "      <td>468.029999</td>\n",
       "      <td>442.239990</td>\n",
       "      <td>443.399994</td>\n",
       "      <td>443.399994</td>\n",
       "      <td>6804700</td>\n",
       "    </tr>\n",
       "    <tr>\n",
       "      <th>2020-06-29</th>\n",
       "      <td>445.230011</td>\n",
       "      <td>447.670013</td>\n",
       "      <td>432.140015</td>\n",
       "      <td>447.239990</td>\n",
       "      <td>447.239990</td>\n",
       "      <td>4844000</td>\n",
       "    </tr>\n",
       "  </tbody>\n",
       "</table>\n",
       "</div>"
      ],
      "text/plain": [
       "                  Open        High         Low       Close   Adj Close  \\\n",
       "Date                                                                     \n",
       "2020-06-23  466.500000  474.010010  464.500000  466.260010  466.260010   \n",
       "2020-06-24  468.540009  472.359985  454.000000  457.850006  457.850006   \n",
       "2020-06-25  458.859985  467.010010  454.000000  465.910004  465.910004   \n",
       "2020-06-26  466.390015  468.029999  442.239990  443.399994  443.399994   \n",
       "2020-06-29  445.230011  447.670013  432.140015  447.239990  447.239990   \n",
       "\n",
       "             Volume  \n",
       "Date                 \n",
       "2020-06-23  5948400  \n",
       "2020-06-24  4826200  \n",
       "2020-06-25  4134500  \n",
       "2020-06-26  6804700  \n",
       "2020-06-29  4844000  "
      ]
     },
     "execution_count": 48,
     "metadata": {},
     "output_type": "execute_result"
    }
   ],
   "source": [
    "\n",
    "# Using get_history function to retriev time series for a specific dates\n",
    "faang = pd.read_excel('data/mystocks_1.xlsx', sheet_name='NFLX',index_col=0, parse_dates=True)\n",
    "\n",
    "# Display the last five rows of the data frame to check the results\n",
    "faang.tail()\n",
    "\n"
   ]
  },
  {
   "cell_type": "markdown",
   "metadata": {},
   "source": [
    "\n",
    "<h4 id=\"Storing-OHLCV-data-in-a-CSV-File\">Storing OHLCV data in a CSV File<a class=\"anchor-link\" href=\"#Storing-OHLCV-data-in-a-CSV-File\">¶</a></h4>\n"
   ]
  },
  {
   "cell_type": "code",
   "execution_count": 50,
   "metadata": {},
   "outputs": [
    {
     "name": "stdout",
     "output_type": "stream",
     "text": [
      "*** data saved ***\n"
     ]
    }
   ],
   "source": [
    "\n",
    "# Save ohlcv data for each securities in stockname.csv format\n",
    "[pd.DataFrame(ohlc_data[symbol]).to_csv('data/'+symbol+'.csv') for symbol in faang_stocks]  \n",
    "print('*** data saved ***')\n",
    "\n"
   ]
  },
  {
   "cell_type": "markdown",
   "metadata": {},
   "source": [
    "\n",
    "<h4 id=\"Reading-CSV-File\">Reading CSV File<a class=\"anchor-link\" href=\"#Reading-CSV-File\">¶</a></h4><p>We'll now read the csv file stored locally using Pandas</p>\n"
   ]
  },
  {
   "cell_type": "code",
   "execution_count": 53,
   "metadata": {},
   "outputs": [],
   "source": [
    "\n",
    "# Using get_history function to retriev Cboe Volatility Index time series for a specific dates\n",
    "# vix = pd.read_csv('data/FB.csv', index_col=0, parse_dates=True, dayfirst=True) \n",
    "pd.read_csv?\n",
    "# Display the last five rows of the data frame to check the results\n",
    "# vix.tail()\n",
    "\n"
   ]
  },
  {
   "cell_type": "markdown",
   "metadata": {},
   "source": [
    "<h2 id=\"Financial-Data-Preprocessing\">Reading Hypertext Markup Language (HTML)<a name=\"top\"></a><a class=\"anchor-link\" href=\"#Financial-Data-Preprocessing\">¶</a></h2>"
   ]
  },
  {
   "cell_type": "markdown",
   "metadata": {},
   "source": [
    "We'll now retrieve the data from HTML and do some data manipulation."
   ]
  },
  {
   "cell_type": "markdown",
   "metadata": {},
   "source": [
    "<h3 id=\"Retrieving-Intraday-Data\">Retrieving SP500 Stocklist<a class=\"anchor-link\" href=\"#Retrieving-Intraday-Data\">¶</a></h3>"
   ]
  },
  {
   "cell_type": "code",
   "execution_count": null,
   "metadata": {},
   "outputs": [],
   "source": [
    "# read data from wikipedia\n",
    "sp500 = pd.read_html('https://en.wikipedia.org/wiki/List_of_S%26P_500_companies')"
   ]
  },
  {
   "cell_type": "code",
   "execution_count": null,
   "metadata": {},
   "outputs": [],
   "source": [
    "sp500"
   ]
  },
  {
   "cell_type": "code",
   "execution_count": null,
   "metadata": {},
   "outputs": [],
   "source": [
    "sp500[0]['Symbol']"
   ]
  },
  {
   "cell_type": "code",
   "execution_count": null,
   "metadata": {},
   "outputs": [],
   "source": [
    "# filter table for symbols\n",
    "stocklist = list(sp500[0]['Symbol'])\n",
    "stocklist[:10]"
   ]
  },
  {
   "cell_type": "markdown",
   "metadata": {},
   "source": [
    "\n",
    "<h3 id=\"Resampling\">Resampling<a class=\"anchor-link\" href=\"#Resampling\">¶</a></h3><p>Next, we'll manipulate the data retrieved by resampling the frequency of time series. This is very critical if you work on financial data or time series. For complete list of time period options when resampling time series, refer <a href=\"https://pandas.pydata.org/pandas-docs/stable/user_guide/timeseries.html\">https://pandas.pydata.org/pandas-docs/stable/user_guide/timeseries.html</a></p>\n"
   ]
  },
  {
   "cell_type": "code",
   "execution_count": 54,
   "metadata": {},
   "outputs": [],
   "source": [
    "\n",
    "# Resampling to derive weekly values from daily time series\n",
    "spy_weekly = spy.resample('W').last()\n",
    "\n",
    "# Resampling to derive monthly values from daily time series\n",
    "# spy_monthly = spy.resample('M').last()\n",
    "\n",
    "# Display the first five rows of the data frame to check the output\n",
    "# spy_weekly.tail(5)\n",
    "\n"
   ]
  },
  {
   "cell_type": "code",
   "execution_count": 55,
   "metadata": {},
   "outputs": [
    {
     "name": "stdout",
     "output_type": "stream",
     "text": [
      "                  Open        High         Low       Close   Adj Close  \\\n",
      "Date                                                                     \n",
      "2021-01-10  380.589996  381.489990  377.100006  381.260010  381.260010   \n",
      "2021-01-17  376.720001  377.579987  373.700012  375.700012  375.700012   \n",
      "2021-01-24  382.250000  384.130005  381.839996  382.880005  382.880005   \n",
      "2021-01-31  375.630005  376.670013  368.269989  370.070007  370.070007   \n",
      "2021-02-07  382.434998  383.690002  380.489990  381.850006  381.850006   \n",
      "\n",
      "               Volume  \n",
      "Date                   \n",
      "2021-01-10   71630100  \n",
      "2021-01-17  107046400  \n",
      "2021-01-24   52860500  \n",
      "2021-01-31  126618400  \n",
      "2021-02-07   52427090  \n"
     ]
    }
   ],
   "source": [
    "print(spy_weekly)"
   ]
  },
  {
   "cell_type": "markdown",
   "metadata": {},
   "source": [
    "\n",
    "<h4 id=\"Weekly-Resample-on-Thursday\">Weekly Resample on Thursday<a class=\"anchor-link\" href=\"#Weekly-Resample-on-Thursday\">¶</a></h4>\n"
   ]
  },
  {
   "cell_type": "code",
   "execution_count": 56,
   "metadata": {},
   "outputs": [
    {
     "data": {
      "text/plain": [
       "DatetimeIndex(['2021-01-04', '2021-01-05', '2021-01-06', '2021-01-07',\n",
       "               '2021-01-08', '2021-01-11', '2021-01-12', '2021-01-13',\n",
       "               '2021-01-14', '2021-01-15', '2021-01-19', '2021-01-20',\n",
       "               '2021-01-21', '2021-01-22', '2021-01-25', '2021-01-26',\n",
       "               '2021-01-27', '2021-01-28', '2021-01-29', '2021-02-01',\n",
       "               '2021-02-02', '2021-02-03'],\n",
       "              dtype='datetime64[ns]', name='Date', freq=None)"
      ]
     },
     "execution_count": 56,
     "metadata": {},
     "output_type": "execute_result"
    }
   ],
   "source": [
    "\n",
    "spy.index\n",
    "\n"
   ]
  },
  {
   "cell_type": "code",
   "execution_count": 61,
   "metadata": {},
   "outputs": [
    {
     "data": {
      "text/html": [
       "<div>\n",
       "<style scoped>\n",
       "    .dataframe tbody tr th:only-of-type {\n",
       "        vertical-align: middle;\n",
       "    }\n",
       "\n",
       "    .dataframe tbody tr th {\n",
       "        vertical-align: top;\n",
       "    }\n",
       "\n",
       "    .dataframe thead th {\n",
       "        text-align: right;\n",
       "    }\n",
       "</style>\n",
       "<table border=\"1\" class=\"dataframe\">\n",
       "  <thead>\n",
       "    <tr style=\"text-align: right;\">\n",
       "      <th></th>\n",
       "      <th>Open</th>\n",
       "      <th>High</th>\n",
       "      <th>Low</th>\n",
       "      <th>Close</th>\n",
       "      <th>Adj Close</th>\n",
       "      <th>Volume</th>\n",
       "    </tr>\n",
       "    <tr>\n",
       "      <th>Date</th>\n",
       "      <th></th>\n",
       "      <th></th>\n",
       "      <th></th>\n",
       "      <th></th>\n",
       "      <th></th>\n",
       "      <th></th>\n",
       "    </tr>\n",
       "  </thead>\n",
       "  <tbody>\n",
       "    <tr>\n",
       "      <th>2021-01-07</th>\n",
       "      <td>376.100006</td>\n",
       "      <td>379.899994</td>\n",
       "      <td>375.910004</td>\n",
       "      <td>379.100006</td>\n",
       "      <td>379.100006</td>\n",
       "      <td>68766800</td>\n",
       "    </tr>\n",
       "    <tr>\n",
       "      <th>2021-01-14</th>\n",
       "      <td>380.589996</td>\n",
       "      <td>381.130005</td>\n",
       "      <td>378.100006</td>\n",
       "      <td>378.459991</td>\n",
       "      <td>378.459991</td>\n",
       "      <td>49989100</td>\n",
       "    </tr>\n",
       "    <tr>\n",
       "      <th>2021-01-21</th>\n",
       "      <td>384.489990</td>\n",
       "      <td>384.950012</td>\n",
       "      <td>383.250000</td>\n",
       "      <td>384.239990</td>\n",
       "      <td>384.239990</td>\n",
       "      <td>47955800</td>\n",
       "    </tr>\n",
       "    <tr>\n",
       "      <th>2021-01-28</th>\n",
       "      <td>376.359985</td>\n",
       "      <td>381.929993</td>\n",
       "      <td>375.890015</td>\n",
       "      <td>377.630005</td>\n",
       "      <td>377.630005</td>\n",
       "      <td>94198100</td>\n",
       "    </tr>\n",
       "    <tr>\n",
       "      <th>2021-02-04</th>\n",
       "      <td>382.434998</td>\n",
       "      <td>383.690002</td>\n",
       "      <td>380.489990</td>\n",
       "      <td>381.850006</td>\n",
       "      <td>381.850006</td>\n",
       "      <td>52427090</td>\n",
       "    </tr>\n",
       "  </tbody>\n",
       "</table>\n",
       "</div>"
      ],
      "text/plain": [
       "                  Open        High         Low       Close   Adj Close  \\\n",
       "Date                                                                     \n",
       "2021-01-07  376.100006  379.899994  375.910004  379.100006  379.100006   \n",
       "2021-01-14  380.589996  381.130005  378.100006  378.459991  378.459991   \n",
       "2021-01-21  384.489990  384.950012  383.250000  384.239990  384.239990   \n",
       "2021-01-28  376.359985  381.929993  375.890015  377.630005  377.630005   \n",
       "2021-02-04  382.434998  383.690002  380.489990  381.850006  381.850006   \n",
       "\n",
       "              Volume  \n",
       "Date                  \n",
       "2021-01-07  68766800  \n",
       "2021-01-14  49989100  \n",
       "2021-01-21  47955800  \n",
       "2021-01-28  94198100  \n",
       "2021-02-04  52427090  "
      ]
     },
     "execution_count": 61,
     "metadata": {},
     "output_type": "execute_result"
    }
   ],
   "source": [
    "\n",
    "spy_weekly_thu = spy.resample('W-THU').ffill()\n",
    "spy_weekly_thu.tail()\n",
    "\n"
   ]
  },
  {
   "cell_type": "markdown",
   "metadata": {},
   "source": [
    "\n",
    "<h2 id=\"Interactive-Visualization\">Interactive Visualization<a class=\"anchor-link\" href=\"#Interactive-Visualization\">¶</a></h2><p>We use <code>cufflinks</code> for interactive visualization. It is one of the most feature rich third-party wrapper around Plotly by Santos Jorge. It binds the power of <code>plotly</code> with the flexibility of <code>pandas</code> for easy plotting.</p>\n",
    "<p>When you import cufflinks library, all pandas data frames and series objects have a new method <code>.iplot()</code> attached to them which is similar to pandas' built-in <code>.plot()</code> method.</p>\n",
    "\n"
   ]
  },
  {
   "cell_type": "code",
   "execution_count": 16,
   "metadata": {},
   "outputs": [
    {
     "data": {
      "text/html": [
       "        <script type=\"text/javascript\">\n",
       "        window.PlotlyConfig = {MathJaxConfig: 'local'};\n",
       "        if (window.MathJax) {MathJax.Hub.Config({SVG: {font: \"STIX-Web\"}});}\n",
       "        if (typeof require !== 'undefined') {\n",
       "        require.undef(\"plotly\");\n",
       "        requirejs.config({\n",
       "            paths: {\n",
       "                'plotly': ['https://cdn.plot.ly/plotly-latest.min']\n",
       "            }\n",
       "        });\n",
       "        require(['plotly'], function(Plotly) {\n",
       "            window._Plotly = Plotly;\n",
       "        });\n",
       "        }\n",
       "        </script>\n",
       "        "
      ]
     },
     "metadata": {},
     "output_type": "display_data"
    },
    {
     "data": {
      "text/html": [
       "        <script type=\"text/javascript\">\n",
       "        window.PlotlyConfig = {MathJaxConfig: 'local'};\n",
       "        if (window.MathJax) {MathJax.Hub.Config({SVG: {font: \"STIX-Web\"}});}\n",
       "        if (typeof require !== 'undefined') {\n",
       "        require.undef(\"plotly\");\n",
       "        requirejs.config({\n",
       "            paths: {\n",
       "                'plotly': ['https://cdn.plot.ly/plotly-latest.min']\n",
       "            }\n",
       "        });\n",
       "        require(['plotly'], function(Plotly) {\n",
       "            window._Plotly = Plotly;\n",
       "        });\n",
       "        }\n",
       "        </script>\n",
       "        "
      ]
     },
     "metadata": {},
     "output_type": "display_data"
    },
    {
     "data": {
      "text/plain": [
       "'temp-plot.html'"
      ]
     },
     "execution_count": 16,
     "metadata": {},
     "output_type": "execute_result"
    }
   ],
   "source": [
    "\n",
    "\n",
    "# Import cufflinks\n",
    "import cufflinks as cf\n",
    "import plotly as py\n",
    "cf.set_config_file(offline=True) \n",
    "cf.set_config_file?\n",
    "\n",
    "\n",
    "\n",
    "fig = df.iplot(kind='bar', barmode='stack', asFigure=True)\n",
    "py.offline.plot(fig)"
   ]
  },
  {
   "cell_type": "markdown",
   "metadata": {},
   "source": [
    "<h3 id=\"Visualising-a-Price-Series\">Visualising a Price Series<a class=\"anchor-link\" href=\"#Visualising-a-Price-Series\">¶</a></h3>\n"
   ]
  },
  {
   "cell_type": "markdown",
   "metadata": {},
   "source": [
    "We'll now read VIX file from the local drive and plot historical CBOE Volatility Index series."
   ]
  },
  {
   "cell_type": "code",
   "execution_count": 4,
   "metadata": {},
   "outputs": [
    {
     "data": {
      "text/html": [
       "<div>\n",
       "<style scoped>\n",
       "    .dataframe tbody tr th:only-of-type {\n",
       "        vertical-align: middle;\n",
       "    }\n",
       "\n",
       "    .dataframe tbody tr th {\n",
       "        vertical-align: top;\n",
       "    }\n",
       "\n",
       "    .dataframe thead th {\n",
       "        text-align: right;\n",
       "    }\n",
       "</style>\n",
       "<table border=\"1\" class=\"dataframe\">\n",
       "  <thead>\n",
       "    <tr style=\"text-align: right;\">\n",
       "      <th></th>\n",
       "      <th>VIX Open</th>\n",
       "      <th>VIX High</th>\n",
       "      <th>VIX Low</th>\n",
       "      <th>VIX Close</th>\n",
       "    </tr>\n",
       "    <tr>\n",
       "      <th>Date</th>\n",
       "      <th></th>\n",
       "      <th></th>\n",
       "      <th></th>\n",
       "      <th></th>\n",
       "    </tr>\n",
       "  </thead>\n",
       "  <tbody>\n",
       "    <tr>\n",
       "      <th>2020-12-24</th>\n",
       "      <td>22.47</td>\n",
       "      <td>22.83</td>\n",
       "      <td>21.39</td>\n",
       "      <td>21.53</td>\n",
       "    </tr>\n",
       "    <tr>\n",
       "      <th>2020-12-28</th>\n",
       "      <td>22.11</td>\n",
       "      <td>22.12</td>\n",
       "      <td>21.15</td>\n",
       "      <td>21.70</td>\n",
       "    </tr>\n",
       "    <tr>\n",
       "      <th>2020-12-29</th>\n",
       "      <td>21.61</td>\n",
       "      <td>23.72</td>\n",
       "      <td>20.99</td>\n",
       "      <td>23.08</td>\n",
       "    </tr>\n",
       "    <tr>\n",
       "      <th>2020-12-30</th>\n",
       "      <td>22.58</td>\n",
       "      <td>23.15</td>\n",
       "      <td>22.41</td>\n",
       "      <td>22.77</td>\n",
       "    </tr>\n",
       "    <tr>\n",
       "      <th>2020-12-31</th>\n",
       "      <td>22.99</td>\n",
       "      <td>23.25</td>\n",
       "      <td>21.24</td>\n",
       "      <td>22.75</td>\n",
       "    </tr>\n",
       "  </tbody>\n",
       "</table>\n",
       "</div>"
      ],
      "text/plain": [
       "            VIX Open  VIX High  VIX Low  VIX Close\n",
       "Date                                              \n",
       "2020-12-24     22.47     22.83    21.39      21.53\n",
       "2020-12-28     22.11     22.12    21.15      21.70\n",
       "2020-12-29     21.61     23.72    20.99      23.08\n",
       "2020-12-30     22.58     23.15    22.41      22.77\n",
       "2020-12-31     22.99     23.25    21.24      22.75"
      ]
     },
     "execution_count": 4,
     "metadata": {},
     "output_type": "execute_result"
    }
   ],
   "source": [
    "# Read the VIX file\n",
    "vix = pd.read_csv('data/vix.csv', sep ='\\t', index_col=0)\n",
    "# Manipulate the index to datetime from object\n",
    "vix.index = pd.to_datetime(vix.index)\n",
    "# Check the last five values\n",
    "vix.tail()"
   ]
  },
  {
   "cell_type": "markdown",
   "metadata": {},
   "source": [
    "We'll now plot historical price series of CBOE Volatility Index using just one line of code."
   ]
  },
  {
   "cell_type": "code",
   "execution_count": 17,
   "metadata": {},
   "outputs": [
    {
     "data": {
      "application/vnd.plotly.v1+json": {
       "config": {
        "linkText": "Export to plot.ly",
        "plotlyServerURL": "https://plot.ly",
        "showLink": true
       },
       "data": [
        {
         "line": {
          "color": "rgba(255, 153, 51, 1.0)",
          "dash": "solid",
          "shape": "linear",
          "width": 1.3
         },
         "mode": "lines",
         "name": "AAPL",
         "text": "",
         "type": "scatter",
         "x": [
          "2019-05-31",
          "2019-06-03",
          "2019-06-04",
          "2019-06-05",
          "2019-06-06",
          "2019-06-07",
          "2019-06-10",
          "2019-06-11",
          "2019-06-12",
          "2019-06-13",
          "2019-06-14",
          "2019-06-17",
          "2019-06-18",
          "2019-06-19",
          "2019-06-20",
          "2019-06-21",
          "2019-06-24",
          "2019-06-25",
          "2019-06-26",
          "2019-06-27",
          "2019-06-28",
          "2019-07-01",
          "2019-07-02",
          "2019-07-03",
          "2019-07-05",
          "2019-07-08",
          "2019-07-09",
          "2019-07-10",
          "2019-07-11",
          "2019-07-12",
          "2019-07-15",
          "2019-07-16",
          "2019-07-17",
          "2019-07-18",
          "2019-07-19",
          "2019-07-22",
          "2019-07-23",
          "2019-07-24",
          "2019-07-25",
          "2019-07-26",
          "2019-07-29",
          "2019-07-30",
          "2019-07-31",
          "2019-08-01",
          "2019-08-02",
          "2019-08-05",
          "2019-08-06",
          "2019-08-07",
          "2019-08-08",
          "2019-08-09",
          "2019-08-12",
          "2019-08-13",
          "2019-08-14",
          "2019-08-15",
          "2019-08-16",
          "2019-08-19",
          "2019-08-20",
          "2019-08-21",
          "2019-08-22",
          "2019-08-23",
          "2019-08-26",
          "2019-08-27",
          "2019-08-28",
          "2019-08-29",
          "2019-08-30",
          "2019-09-03",
          "2019-09-04",
          "2019-09-05",
          "2019-09-06",
          "2019-09-09",
          "2019-09-10",
          "2019-09-11",
          "2019-09-12",
          "2019-09-13",
          "2019-09-16",
          "2019-09-17",
          "2019-09-18",
          "2019-09-19",
          "2019-09-20",
          "2019-09-23",
          "2019-09-24",
          "2019-09-25",
          "2019-09-26",
          "2019-09-27",
          "2019-09-30",
          "2019-10-01",
          "2019-10-02",
          "2019-10-03",
          "2019-10-04",
          "2019-10-07",
          "2019-10-08",
          "2019-10-09",
          "2019-10-10",
          "2019-10-11",
          "2019-10-14",
          "2019-10-15",
          "2019-10-16",
          "2019-10-17",
          "2019-10-18",
          "2019-10-21",
          "2019-10-22",
          "2019-10-23",
          "2019-10-24",
          "2019-10-25",
          "2019-10-28",
          "2019-10-29",
          "2019-10-30",
          "2019-10-31",
          "2019-11-01",
          "2019-11-04",
          "2019-11-05",
          "2019-11-06",
          "2019-11-07",
          "2019-11-08",
          "2019-11-11",
          "2019-11-12",
          "2019-11-13",
          "2019-11-14",
          "2019-11-15",
          "2019-11-18",
          "2019-11-19",
          "2019-11-20",
          "2019-11-21",
          "2019-11-22",
          "2019-11-25",
          "2019-11-26",
          "2019-11-27",
          "2019-11-29",
          "2019-12-02",
          "2019-12-03",
          "2019-12-04",
          "2019-12-05",
          "2019-12-06",
          "2019-12-09",
          "2019-12-10",
          "2019-12-11",
          "2019-12-12",
          "2019-12-13",
          "2019-12-16",
          "2019-12-17",
          "2019-12-18",
          "2019-12-19",
          "2019-12-20",
          "2019-12-23",
          "2019-12-24",
          "2019-12-26",
          "2019-12-27",
          "2019-12-30",
          "2019-12-31",
          "2020-01-02",
          "2020-01-03",
          "2020-01-06",
          "2020-01-07",
          "2020-01-08",
          "2020-01-09",
          "2020-01-10",
          "2020-01-13",
          "2020-01-14",
          "2020-01-15",
          "2020-01-16",
          "2020-01-17",
          "2020-01-21",
          "2020-01-22",
          "2020-01-23",
          "2020-01-24",
          "2020-01-27",
          "2020-01-28",
          "2020-01-29",
          "2020-01-30",
          "2020-01-31",
          "2020-02-03",
          "2020-02-04",
          "2020-02-05",
          "2020-02-06",
          "2020-02-07",
          "2020-02-10",
          "2020-02-11",
          "2020-02-12",
          "2020-02-13",
          "2020-02-14",
          "2020-02-18",
          "2020-02-19",
          "2020-02-20",
          "2020-02-21",
          "2020-02-24",
          "2020-02-25",
          "2020-02-26",
          "2020-02-27",
          "2020-02-28",
          "2020-03-02",
          "2020-03-03",
          "2020-03-04",
          "2020-03-05",
          "2020-03-06",
          "2020-03-09",
          "2020-03-10",
          "2020-03-11",
          "2020-03-12",
          "2020-03-13",
          "2020-03-16",
          "2020-03-17",
          "2020-03-18",
          "2020-03-19",
          "2020-03-20",
          "2020-03-23",
          "2020-03-24",
          "2020-03-25",
          "2020-03-26",
          "2020-03-27",
          "2020-03-30",
          "2020-03-31",
          "2020-04-01",
          "2020-04-02",
          "2020-04-03",
          "2020-04-06",
          "2020-04-07",
          "2020-04-08",
          "2020-04-09",
          "2020-04-13",
          "2020-04-14",
          "2020-04-15",
          "2020-04-16",
          "2020-04-17",
          "2020-04-20",
          "2020-04-21",
          "2020-04-22",
          "2020-04-23",
          "2020-04-24",
          "2020-04-27",
          "2020-04-28",
          "2020-04-29",
          "2020-04-30",
          "2020-05-01",
          "2020-05-04",
          "2020-05-05",
          "2020-05-06",
          "2020-05-07",
          "2020-05-08",
          "2020-05-11",
          "2020-05-12",
          "2020-05-13",
          "2020-05-14",
          "2020-05-15",
          "2020-05-18",
          "2020-05-19",
          "2020-05-20",
          "2020-05-21",
          "2020-05-22",
          "2020-05-26",
          "2020-05-27",
          "2020-05-28",
          "2020-05-29",
          "2020-06-01",
          "2020-06-02",
          "2020-06-03",
          "2020-06-04",
          "2020-06-05",
          "2020-06-08",
          "2020-06-09",
          "2020-06-10",
          "2020-06-11",
          "2020-06-12",
          "2020-06-15",
          "2020-06-16",
          "2020-06-17",
          "2020-06-18",
          "2020-06-19",
          "2020-06-22",
          "2020-06-23",
          "2020-06-24",
          "2020-06-25",
          "2020-06-26",
          "2020-06-29"
         ],
         "y": [
          43.03481674194336,
          42.5997200012207,
          44.15818405151367,
          44.87104415893555,
          45.52982711791992,
          46.74169921875,
          47.33903121948242,
          47.8871955871582,
          47.73478698730469,
          47.72495651245117,
          47.37836837768555,
          47.66104507446289,
          48.78196716308594,
          48.63938903808594,
          49.030235290527344,
          48.86307907104492,
          48.81391906738281,
          48.07402038574219,
          49.11381149291992,
          49.099063873291016,
          48.65167999267578,
          49.543983459472656,
          49.834049224853516,
          50.24702072143555,
          50.20277404785156,
          49.16789245605469,
          49.4677848815918,
          49.95695495605469,
          49.59315490722656,
          49.97416305541992,
          50.44367980957031,
          50.269142150878906,
          49.9864616394043,
          50.554290771484375,
          49.79964065551758,
          50.9377555847168,
          51.335975646972656,
          51.294189453125,
          50.88859939575195,
          51.06558609008789,
          51.54246139526367,
          51.321231842041016,
          52.3683967590332,
          51.235191345214844,
          50.15115737915039,
          47.52585220336914,
          48.42552947998047,
          48.92699432373047,
          50.00612258911133,
          49.594051361083984,
          49.46820831298828,
          51.563106536865234,
          50.02832794189453,
          49.779109954833984,
          50.953636169433594,
          51.90362548828125,
          51.906089782714844,
          52.46867752075195,
          52.42426300048828,
          50.00118637084961,
          50.951171875,
          50.376243591308594,
          50.714290618896484,
          51.572975158691406,
          51.50635528564453,
          50.75623321533203,
          51.61738967895508,
          52.62659454345703,
          52.62165832519531,
          52.84619903564453,
          53.4704704284668,
          55.170570373535156,
          55.04719543457031,
          53.97630310058594,
          54.26007080078125,
          54.45746994018555,
          54.96823501586914,
          54.52162551879883,
          53.72462463378906,
          53.96890640258789,
          53.712284088134766,
          54.53889846801758,
          54.25760269165039,
          53.993587493896484,
          55.264339447021484,
          55.417320251464844,
          54.02812576293945,
          54.48707962036133,
          56.01445388793945,
          56.02679443359375,
          55.37043762207031,
          56.01939010620117,
          56.774444580078125,
          58.2845458984375,
          58.200645446777344,
          58.06494140625,
          57.830528259277344,
          58.0550651550293,
          58.333900451660156,
          59.34556198120117,
          59.20985794067383,
          60.0043830871582,
          60.10308074951172,
          60.84333419799805,
          61.452796936035156,
          60.03152847290039,
          60.02412414550781,
          61.38124084472656,
          63.123294830322266,
          63.53782653808594,
          63.446533203125,
          63.47367477416992,
          64.20624542236328,
          64.3819580078125,
          64.89179229736328,
          64.83238220214844,
          65.4535903930664,
          65.00069427490234,
          65.7728500366211,
          66.1044921875,
          65.90401458740234,
          65.13680267333984,
          64.84477233886719,
          64.78783416748047,
          65.92381286621094,
          65.4090347290039,
          66.28763580322266,
          66.1416015625,
          65.37686920166016,
          64.21118927001953,
          64.77793884277344,
          65.7282943725586,
          66.9979248046875,
          66.05994415283203,
          66.4460220336914,
          67.01276397705078,
          67.18354797363281,
          68.09677124023438,
          69.26245880126953,
          69.39857482910156,
          69.23274993896484,
          69.30204772949219,
          69.15850830078125,
          70.28706359863281,
          70.3538818359375,
          71.7497329711914,
          71.72248840332031,
          72.14817810058594,
          72.67533874511719,
          74.33351135253906,
          73.61083984375,
          74.19739532470703,
          73.84844207763672,
          75.03638458251953,
          76.63021850585938,
          76.80345916748047,
          78.44432067871094,
          77.38506317138672,
          77.05342864990234,
          78.01863098144531,
          78.88236999511719,
          78.3478012084961,
          78.6274642944336,
          79.00611877441406,
          78.77843475341797,
          76.46192932128906,
          78.62499237060547,
          80.27079010009766,
          80.15447235107422,
          76.60051727294922,
          76.3901596069336,
          78.91207885742188,
          79.55554962158203,
          80.4861068725586,
          79.39208984375,
          79.7691650390625,
          79.28788757324219,
          81.1707992553711,
          80.5927734375,
          80.61262512207031,
          79.13656616210938,
          80.28268432617188,
          79.45906829833984,
          77.66050720214844,
          73.97160339355469,
          71.46601867675781,
          72.59973907470703,
          67.85401916503906,
          67.8143310546875,
          74.12789154052734,
          71.77363586425781,
          75.10282897949219,
          72.6667251586914,
          71.70170593261719,
          66.03065490722656,
          70.78630065917969,
          68.3278579711914,
          61.58015823364258,
          68.95796966552734,
          60.08673095703125,
          62.72875213623047,
          61.19315719604492,
          60.72429275512695,
          56.869178771972656,
          55.661041259765625,
          61.24525833129883,
          60.90787124633789,
          64.11302947998047,
          61.45860290527344,
          63.212501525878906,
          63.08350372314453,
          59.76424026489258,
          60.76150131225586,
          59.888275146484375,
          65.1127700805664,
          64.35862731933594,
          66.00585174560547,
          66.4821548461914,
          67.78704071044922,
          71.21049499511719,
          70.56053924560547,
          71.12120056152344,
          70.15617370605469,
          68.6999740600586,
          66.57642364501953,
          68.49406433105469,
          68.22862243652344,
          70.19834899902344,
          70.24797058105469,
          69.10929870605469,
          71.37919616699219,
          72.88502502441406,
          71.71163177490234,
          72.72626495361328,
          73.81780242919922,
          74.57939147949219,
          75.35091400146484,
          77.14439392089844,
          78.35828399658203,
          77.4627914428711,
          76.52749633789062,
          76.99763488769531,
          76.54241180419922,
          78.3458480834961,
          77.89312744140625,
          79.40800476074219,
          78.81597900390625,
          79.32343292236328,
          78.7861328125,
          79.12940216064453,
          79.16423034667969,
          79.08712005615234,
          80.05972290039062,
          80.43035125732422,
          80.87313079833984,
          80.1766357421875,
          82.46015167236328,
          82.94768524169922,
          85.56700897216797,
          87.76844024658203,
          83.55464172363281,
          84.27600860595703,
          85.3182601928711,
          87.57939147949219,
          87.45750427246094,
          87.4923324584961,
          86.99234771728516,
          89.26839447021484,
          91.1738052368164,
          89.56440734863281,
          90.75342559814453,
          87.96495056152344,
          89.99225616455078
         ]
        }
       ],
       "layout": {
        "legend": {
         "bgcolor": "#F5F6F9",
         "font": {
          "color": "#4D5663"
         }
        },
        "paper_bgcolor": "#F5F6F9",
        "plot_bgcolor": "#F5F6F9",
        "template": {
         "data": {
          "bar": [
           {
            "error_x": {
             "color": "#2a3f5f"
            },
            "error_y": {
             "color": "#2a3f5f"
            },
            "marker": {
             "line": {
              "color": "#E5ECF6",
              "width": 0.5
             }
            },
            "type": "bar"
           }
          ],
          "barpolar": [
           {
            "marker": {
             "line": {
              "color": "#E5ECF6",
              "width": 0.5
             }
            },
            "type": "barpolar"
           }
          ],
          "carpet": [
           {
            "aaxis": {
             "endlinecolor": "#2a3f5f",
             "gridcolor": "white",
             "linecolor": "white",
             "minorgridcolor": "white",
             "startlinecolor": "#2a3f5f"
            },
            "baxis": {
             "endlinecolor": "#2a3f5f",
             "gridcolor": "white",
             "linecolor": "white",
             "minorgridcolor": "white",
             "startlinecolor": "#2a3f5f"
            },
            "type": "carpet"
           }
          ],
          "choropleth": [
           {
            "colorbar": {
             "outlinewidth": 0,
             "ticks": ""
            },
            "type": "choropleth"
           }
          ],
          "contour": [
           {
            "colorbar": {
             "outlinewidth": 0,
             "ticks": ""
            },
            "colorscale": [
             [
              0,
              "#0d0887"
             ],
             [
              0.1111111111111111,
              "#46039f"
             ],
             [
              0.2222222222222222,
              "#7201a8"
             ],
             [
              0.3333333333333333,
              "#9c179e"
             ],
             [
              0.4444444444444444,
              "#bd3786"
             ],
             [
              0.5555555555555556,
              "#d8576b"
             ],
             [
              0.6666666666666666,
              "#ed7953"
             ],
             [
              0.7777777777777778,
              "#fb9f3a"
             ],
             [
              0.8888888888888888,
              "#fdca26"
             ],
             [
              1,
              "#f0f921"
             ]
            ],
            "type": "contour"
           }
          ],
          "contourcarpet": [
           {
            "colorbar": {
             "outlinewidth": 0,
             "ticks": ""
            },
            "type": "contourcarpet"
           }
          ],
          "heatmap": [
           {
            "colorbar": {
             "outlinewidth": 0,
             "ticks": ""
            },
            "colorscale": [
             [
              0,
              "#0d0887"
             ],
             [
              0.1111111111111111,
              "#46039f"
             ],
             [
              0.2222222222222222,
              "#7201a8"
             ],
             [
              0.3333333333333333,
              "#9c179e"
             ],
             [
              0.4444444444444444,
              "#bd3786"
             ],
             [
              0.5555555555555556,
              "#d8576b"
             ],
             [
              0.6666666666666666,
              "#ed7953"
             ],
             [
              0.7777777777777778,
              "#fb9f3a"
             ],
             [
              0.8888888888888888,
              "#fdca26"
             ],
             [
              1,
              "#f0f921"
             ]
            ],
            "type": "heatmap"
           }
          ],
          "heatmapgl": [
           {
            "colorbar": {
             "outlinewidth": 0,
             "ticks": ""
            },
            "colorscale": [
             [
              0,
              "#0d0887"
             ],
             [
              0.1111111111111111,
              "#46039f"
             ],
             [
              0.2222222222222222,
              "#7201a8"
             ],
             [
              0.3333333333333333,
              "#9c179e"
             ],
             [
              0.4444444444444444,
              "#bd3786"
             ],
             [
              0.5555555555555556,
              "#d8576b"
             ],
             [
              0.6666666666666666,
              "#ed7953"
             ],
             [
              0.7777777777777778,
              "#fb9f3a"
             ],
             [
              0.8888888888888888,
              "#fdca26"
             ],
             [
              1,
              "#f0f921"
             ]
            ],
            "type": "heatmapgl"
           }
          ],
          "histogram": [
           {
            "marker": {
             "colorbar": {
              "outlinewidth": 0,
              "ticks": ""
             }
            },
            "type": "histogram"
           }
          ],
          "histogram2d": [
           {
            "colorbar": {
             "outlinewidth": 0,
             "ticks": ""
            },
            "colorscale": [
             [
              0,
              "#0d0887"
             ],
             [
              0.1111111111111111,
              "#46039f"
             ],
             [
              0.2222222222222222,
              "#7201a8"
             ],
             [
              0.3333333333333333,
              "#9c179e"
             ],
             [
              0.4444444444444444,
              "#bd3786"
             ],
             [
              0.5555555555555556,
              "#d8576b"
             ],
             [
              0.6666666666666666,
              "#ed7953"
             ],
             [
              0.7777777777777778,
              "#fb9f3a"
             ],
             [
              0.8888888888888888,
              "#fdca26"
             ],
             [
              1,
              "#f0f921"
             ]
            ],
            "type": "histogram2d"
           }
          ],
          "histogram2dcontour": [
           {
            "colorbar": {
             "outlinewidth": 0,
             "ticks": ""
            },
            "colorscale": [
             [
              0,
              "#0d0887"
             ],
             [
              0.1111111111111111,
              "#46039f"
             ],
             [
              0.2222222222222222,
              "#7201a8"
             ],
             [
              0.3333333333333333,
              "#9c179e"
             ],
             [
              0.4444444444444444,
              "#bd3786"
             ],
             [
              0.5555555555555556,
              "#d8576b"
             ],
             [
              0.6666666666666666,
              "#ed7953"
             ],
             [
              0.7777777777777778,
              "#fb9f3a"
             ],
             [
              0.8888888888888888,
              "#fdca26"
             ],
             [
              1,
              "#f0f921"
             ]
            ],
            "type": "histogram2dcontour"
           }
          ],
          "mesh3d": [
           {
            "colorbar": {
             "outlinewidth": 0,
             "ticks": ""
            },
            "type": "mesh3d"
           }
          ],
          "parcoords": [
           {
            "line": {
             "colorbar": {
              "outlinewidth": 0,
              "ticks": ""
             }
            },
            "type": "parcoords"
           }
          ],
          "pie": [
           {
            "automargin": true,
            "type": "pie"
           }
          ],
          "scatter": [
           {
            "marker": {
             "colorbar": {
              "outlinewidth": 0,
              "ticks": ""
             }
            },
            "type": "scatter"
           }
          ],
          "scatter3d": [
           {
            "line": {
             "colorbar": {
              "outlinewidth": 0,
              "ticks": ""
             }
            },
            "marker": {
             "colorbar": {
              "outlinewidth": 0,
              "ticks": ""
             }
            },
            "type": "scatter3d"
           }
          ],
          "scattercarpet": [
           {
            "marker": {
             "colorbar": {
              "outlinewidth": 0,
              "ticks": ""
             }
            },
            "type": "scattercarpet"
           }
          ],
          "scattergeo": [
           {
            "marker": {
             "colorbar": {
              "outlinewidth": 0,
              "ticks": ""
             }
            },
            "type": "scattergeo"
           }
          ],
          "scattergl": [
           {
            "marker": {
             "colorbar": {
              "outlinewidth": 0,
              "ticks": ""
             }
            },
            "type": "scattergl"
           }
          ],
          "scattermapbox": [
           {
            "marker": {
             "colorbar": {
              "outlinewidth": 0,
              "ticks": ""
             }
            },
            "type": "scattermapbox"
           }
          ],
          "scatterpolar": [
           {
            "marker": {
             "colorbar": {
              "outlinewidth": 0,
              "ticks": ""
             }
            },
            "type": "scatterpolar"
           }
          ],
          "scatterpolargl": [
           {
            "marker": {
             "colorbar": {
              "outlinewidth": 0,
              "ticks": ""
             }
            },
            "type": "scatterpolargl"
           }
          ],
          "scatterternary": [
           {
            "marker": {
             "colorbar": {
              "outlinewidth": 0,
              "ticks": ""
             }
            },
            "type": "scatterternary"
           }
          ],
          "surface": [
           {
            "colorbar": {
             "outlinewidth": 0,
             "ticks": ""
            },
            "colorscale": [
             [
              0,
              "#0d0887"
             ],
             [
              0.1111111111111111,
              "#46039f"
             ],
             [
              0.2222222222222222,
              "#7201a8"
             ],
             [
              0.3333333333333333,
              "#9c179e"
             ],
             [
              0.4444444444444444,
              "#bd3786"
             ],
             [
              0.5555555555555556,
              "#d8576b"
             ],
             [
              0.6666666666666666,
              "#ed7953"
             ],
             [
              0.7777777777777778,
              "#fb9f3a"
             ],
             [
              0.8888888888888888,
              "#fdca26"
             ],
             [
              1,
              "#f0f921"
             ]
            ],
            "type": "surface"
           }
          ],
          "table": [
           {
            "cells": {
             "fill": {
              "color": "#EBF0F8"
             },
             "line": {
              "color": "white"
             }
            },
            "header": {
             "fill": {
              "color": "#C8D4E3"
             },
             "line": {
              "color": "white"
             }
            },
            "type": "table"
           }
          ]
         },
         "layout": {
          "annotationdefaults": {
           "arrowcolor": "#2a3f5f",
           "arrowhead": 0,
           "arrowwidth": 1
          },
          "autotypenumbers": "strict",
          "coloraxis": {
           "colorbar": {
            "outlinewidth": 0,
            "ticks": ""
           }
          },
          "colorscale": {
           "diverging": [
            [
             0,
             "#8e0152"
            ],
            [
             0.1,
             "#c51b7d"
            ],
            [
             0.2,
             "#de77ae"
            ],
            [
             0.3,
             "#f1b6da"
            ],
            [
             0.4,
             "#fde0ef"
            ],
            [
             0.5,
             "#f7f7f7"
            ],
            [
             0.6,
             "#e6f5d0"
            ],
            [
             0.7,
             "#b8e186"
            ],
            [
             0.8,
             "#7fbc41"
            ],
            [
             0.9,
             "#4d9221"
            ],
            [
             1,
             "#276419"
            ]
           ],
           "sequential": [
            [
             0,
             "#0d0887"
            ],
            [
             0.1111111111111111,
             "#46039f"
            ],
            [
             0.2222222222222222,
             "#7201a8"
            ],
            [
             0.3333333333333333,
             "#9c179e"
            ],
            [
             0.4444444444444444,
             "#bd3786"
            ],
            [
             0.5555555555555556,
             "#d8576b"
            ],
            [
             0.6666666666666666,
             "#ed7953"
            ],
            [
             0.7777777777777778,
             "#fb9f3a"
            ],
            [
             0.8888888888888888,
             "#fdca26"
            ],
            [
             1,
             "#f0f921"
            ]
           ],
           "sequentialminus": [
            [
             0,
             "#0d0887"
            ],
            [
             0.1111111111111111,
             "#46039f"
            ],
            [
             0.2222222222222222,
             "#7201a8"
            ],
            [
             0.3333333333333333,
             "#9c179e"
            ],
            [
             0.4444444444444444,
             "#bd3786"
            ],
            [
             0.5555555555555556,
             "#d8576b"
            ],
            [
             0.6666666666666666,
             "#ed7953"
            ],
            [
             0.7777777777777778,
             "#fb9f3a"
            ],
            [
             0.8888888888888888,
             "#fdca26"
            ],
            [
             1,
             "#f0f921"
            ]
           ]
          },
          "colorway": [
           "#636efa",
           "#EF553B",
           "#00cc96",
           "#ab63fa",
           "#FFA15A",
           "#19d3f3",
           "#FF6692",
           "#B6E880",
           "#FF97FF",
           "#FECB52"
          ],
          "font": {
           "color": "#2a3f5f"
          },
          "geo": {
           "bgcolor": "white",
           "lakecolor": "white",
           "landcolor": "#E5ECF6",
           "showlakes": true,
           "showland": true,
           "subunitcolor": "white"
          },
          "hoverlabel": {
           "align": "left"
          },
          "hovermode": "closest",
          "mapbox": {
           "style": "light"
          },
          "paper_bgcolor": "white",
          "plot_bgcolor": "#E5ECF6",
          "polar": {
           "angularaxis": {
            "gridcolor": "white",
            "linecolor": "white",
            "ticks": ""
           },
           "bgcolor": "#E5ECF6",
           "radialaxis": {
            "gridcolor": "white",
            "linecolor": "white",
            "ticks": ""
           }
          },
          "scene": {
           "xaxis": {
            "backgroundcolor": "#E5ECF6",
            "gridcolor": "white",
            "gridwidth": 2,
            "linecolor": "white",
            "showbackground": true,
            "ticks": "",
            "zerolinecolor": "white"
           },
           "yaxis": {
            "backgroundcolor": "#E5ECF6",
            "gridcolor": "white",
            "gridwidth": 2,
            "linecolor": "white",
            "showbackground": true,
            "ticks": "",
            "zerolinecolor": "white"
           },
           "zaxis": {
            "backgroundcolor": "#E5ECF6",
            "gridcolor": "white",
            "gridwidth": 2,
            "linecolor": "white",
            "showbackground": true,
            "ticks": "",
            "zerolinecolor": "white"
           }
          },
          "shapedefaults": {
           "line": {
            "color": "#2a3f5f"
           }
          },
          "ternary": {
           "aaxis": {
            "gridcolor": "white",
            "linecolor": "white",
            "ticks": ""
           },
           "baxis": {
            "gridcolor": "white",
            "linecolor": "white",
            "ticks": ""
           },
           "bgcolor": "#E5ECF6",
           "caxis": {
            "gridcolor": "white",
            "linecolor": "white",
            "ticks": ""
           }
          },
          "title": {
           "x": 0.05
          },
          "xaxis": {
           "automargin": true,
           "gridcolor": "white",
           "linecolor": "white",
           "ticks": "",
           "title": {
            "standoff": 15
           },
           "zerolinecolor": "white",
           "zerolinewidth": 2
          },
          "yaxis": {
           "automargin": true,
           "gridcolor": "white",
           "linecolor": "white",
           "ticks": "",
           "title": {
            "standoff": 15
           },
           "zerolinecolor": "white",
           "zerolinewidth": 2
          }
         }
        },
        "title": {
         "font": {
          "color": "#4D5663"
         },
         "text": "CBOE Volatily Index"
        },
        "xaxis": {
         "gridcolor": "#E1E5ED",
         "showgrid": true,
         "tickfont": {
          "color": "#4D5663"
         },
         "title": {
          "font": {
           "color": "#4D5663"
          },
          "text": ""
         },
         "zerolinecolor": "#E1E5ED"
        },
        "yaxis": {
         "gridcolor": "#E1E5ED",
         "showgrid": true,
         "tickfont": {
          "color": "#4D5663"
         },
         "title": {
          "font": {
           "color": "#4D5663"
          },
          "text": ""
         },
         "zerolinecolor": "#E1E5ED"
        }
       }
      },
      "text/html": [
       "<div>                            <div id=\"9b6c45ce-c5c3-43a3-a508-0f12ac39d5eb\" class=\"plotly-graph-div\" style=\"height:525px; width:100%;\"></div>            <script type=\"text/javascript\">                require([\"plotly\"], function(Plotly) {                    window.PLOTLYENV=window.PLOTLYENV || {};\n",
       "                    window.PLOTLYENV.BASE_URL='https://plot.ly';                                    if (document.getElementById(\"9b6c45ce-c5c3-43a3-a508-0f12ac39d5eb\")) {                    Plotly.newPlot(                        \"9b6c45ce-c5c3-43a3-a508-0f12ac39d5eb\",                        [{\"line\": {\"color\": \"rgba(255, 153, 51, 1.0)\", \"dash\": \"solid\", \"shape\": \"linear\", \"width\": 1.3}, \"mode\": \"lines\", \"name\": \"AAPL\", \"text\": \"\", \"type\": \"scatter\", \"x\": [\"2019-05-31\", \"2019-06-03\", \"2019-06-04\", \"2019-06-05\", \"2019-06-06\", \"2019-06-07\", \"2019-06-10\", \"2019-06-11\", \"2019-06-12\", \"2019-06-13\", \"2019-06-14\", \"2019-06-17\", \"2019-06-18\", \"2019-06-19\", \"2019-06-20\", \"2019-06-21\", \"2019-06-24\", \"2019-06-25\", \"2019-06-26\", \"2019-06-27\", \"2019-06-28\", \"2019-07-01\", \"2019-07-02\", \"2019-07-03\", \"2019-07-05\", \"2019-07-08\", \"2019-07-09\", \"2019-07-10\", \"2019-07-11\", \"2019-07-12\", \"2019-07-15\", \"2019-07-16\", \"2019-07-17\", \"2019-07-18\", \"2019-07-19\", \"2019-07-22\", \"2019-07-23\", \"2019-07-24\", \"2019-07-25\", \"2019-07-26\", \"2019-07-29\", \"2019-07-30\", \"2019-07-31\", \"2019-08-01\", \"2019-08-02\", \"2019-08-05\", \"2019-08-06\", \"2019-08-07\", \"2019-08-08\", \"2019-08-09\", \"2019-08-12\", \"2019-08-13\", \"2019-08-14\", \"2019-08-15\", \"2019-08-16\", \"2019-08-19\", \"2019-08-20\", \"2019-08-21\", \"2019-08-22\", \"2019-08-23\", \"2019-08-26\", \"2019-08-27\", \"2019-08-28\", \"2019-08-29\", \"2019-08-30\", \"2019-09-03\", \"2019-09-04\", \"2019-09-05\", \"2019-09-06\", \"2019-09-09\", \"2019-09-10\", \"2019-09-11\", \"2019-09-12\", \"2019-09-13\", \"2019-09-16\", \"2019-09-17\", \"2019-09-18\", \"2019-09-19\", \"2019-09-20\", \"2019-09-23\", \"2019-09-24\", \"2019-09-25\", \"2019-09-26\", \"2019-09-27\", \"2019-09-30\", \"2019-10-01\", \"2019-10-02\", \"2019-10-03\", \"2019-10-04\", \"2019-10-07\", \"2019-10-08\", \"2019-10-09\", \"2019-10-10\", \"2019-10-11\", \"2019-10-14\", \"2019-10-15\", \"2019-10-16\", \"2019-10-17\", \"2019-10-18\", \"2019-10-21\", \"2019-10-22\", \"2019-10-23\", \"2019-10-24\", \"2019-10-25\", \"2019-10-28\", \"2019-10-29\", \"2019-10-30\", \"2019-10-31\", \"2019-11-01\", \"2019-11-04\", \"2019-11-05\", \"2019-11-06\", \"2019-11-07\", \"2019-11-08\", \"2019-11-11\", \"2019-11-12\", \"2019-11-13\", \"2019-11-14\", \"2019-11-15\", \"2019-11-18\", \"2019-11-19\", \"2019-11-20\", \"2019-11-21\", \"2019-11-22\", \"2019-11-25\", \"2019-11-26\", \"2019-11-27\", \"2019-11-29\", \"2019-12-02\", \"2019-12-03\", \"2019-12-04\", \"2019-12-05\", \"2019-12-06\", \"2019-12-09\", \"2019-12-10\", \"2019-12-11\", \"2019-12-12\", \"2019-12-13\", \"2019-12-16\", \"2019-12-17\", \"2019-12-18\", \"2019-12-19\", \"2019-12-20\", \"2019-12-23\", \"2019-12-24\", \"2019-12-26\", \"2019-12-27\", \"2019-12-30\", \"2019-12-31\", \"2020-01-02\", \"2020-01-03\", \"2020-01-06\", \"2020-01-07\", \"2020-01-08\", \"2020-01-09\", \"2020-01-10\", \"2020-01-13\", \"2020-01-14\", \"2020-01-15\", \"2020-01-16\", \"2020-01-17\", \"2020-01-21\", \"2020-01-22\", \"2020-01-23\", \"2020-01-24\", \"2020-01-27\", \"2020-01-28\", \"2020-01-29\", \"2020-01-30\", \"2020-01-31\", \"2020-02-03\", \"2020-02-04\", \"2020-02-05\", \"2020-02-06\", \"2020-02-07\", \"2020-02-10\", \"2020-02-11\", \"2020-02-12\", \"2020-02-13\", \"2020-02-14\", \"2020-02-18\", \"2020-02-19\", \"2020-02-20\", \"2020-02-21\", \"2020-02-24\", \"2020-02-25\", \"2020-02-26\", \"2020-02-27\", \"2020-02-28\", \"2020-03-02\", \"2020-03-03\", \"2020-03-04\", \"2020-03-05\", \"2020-03-06\", \"2020-03-09\", \"2020-03-10\", \"2020-03-11\", \"2020-03-12\", \"2020-03-13\", \"2020-03-16\", \"2020-03-17\", \"2020-03-18\", \"2020-03-19\", \"2020-03-20\", \"2020-03-23\", \"2020-03-24\", \"2020-03-25\", \"2020-03-26\", \"2020-03-27\", \"2020-03-30\", \"2020-03-31\", \"2020-04-01\", \"2020-04-02\", \"2020-04-03\", \"2020-04-06\", \"2020-04-07\", \"2020-04-08\", \"2020-04-09\", \"2020-04-13\", \"2020-04-14\", \"2020-04-15\", \"2020-04-16\", \"2020-04-17\", \"2020-04-20\", \"2020-04-21\", \"2020-04-22\", \"2020-04-23\", \"2020-04-24\", \"2020-04-27\", \"2020-04-28\", \"2020-04-29\", \"2020-04-30\", \"2020-05-01\", \"2020-05-04\", \"2020-05-05\", \"2020-05-06\", \"2020-05-07\", \"2020-05-08\", \"2020-05-11\", \"2020-05-12\", \"2020-05-13\", \"2020-05-14\", \"2020-05-15\", \"2020-05-18\", \"2020-05-19\", \"2020-05-20\", \"2020-05-21\", \"2020-05-22\", \"2020-05-26\", \"2020-05-27\", \"2020-05-28\", \"2020-05-29\", \"2020-06-01\", \"2020-06-02\", \"2020-06-03\", \"2020-06-04\", \"2020-06-05\", \"2020-06-08\", \"2020-06-09\", \"2020-06-10\", \"2020-06-11\", \"2020-06-12\", \"2020-06-15\", \"2020-06-16\", \"2020-06-17\", \"2020-06-18\", \"2020-06-19\", \"2020-06-22\", \"2020-06-23\", \"2020-06-24\", \"2020-06-25\", \"2020-06-26\", \"2020-06-29\"], \"y\": [43.03481674194336, 42.5997200012207, 44.15818405151367, 44.87104415893555, 45.52982711791992, 46.74169921875, 47.33903121948242, 47.8871955871582, 47.73478698730469, 47.72495651245117, 47.37836837768555, 47.66104507446289, 48.78196716308594, 48.63938903808594, 49.030235290527344, 48.86307907104492, 48.81391906738281, 48.07402038574219, 49.11381149291992, 49.099063873291016, 48.65167999267578, 49.543983459472656, 49.834049224853516, 50.24702072143555, 50.20277404785156, 49.16789245605469, 49.4677848815918, 49.95695495605469, 49.59315490722656, 49.97416305541992, 50.44367980957031, 50.269142150878906, 49.9864616394043, 50.554290771484375, 49.79964065551758, 50.9377555847168, 51.335975646972656, 51.294189453125, 50.88859939575195, 51.06558609008789, 51.54246139526367, 51.321231842041016, 52.3683967590332, 51.235191345214844, 50.15115737915039, 47.52585220336914, 48.42552947998047, 48.92699432373047, 50.00612258911133, 49.594051361083984, 49.46820831298828, 51.563106536865234, 50.02832794189453, 49.779109954833984, 50.953636169433594, 51.90362548828125, 51.906089782714844, 52.46867752075195, 52.42426300048828, 50.00118637084961, 50.951171875, 50.376243591308594, 50.714290618896484, 51.572975158691406, 51.50635528564453, 50.75623321533203, 51.61738967895508, 52.62659454345703, 52.62165832519531, 52.84619903564453, 53.4704704284668, 55.170570373535156, 55.04719543457031, 53.97630310058594, 54.26007080078125, 54.45746994018555, 54.96823501586914, 54.52162551879883, 53.72462463378906, 53.96890640258789, 53.712284088134766, 54.53889846801758, 54.25760269165039, 53.993587493896484, 55.264339447021484, 55.417320251464844, 54.02812576293945, 54.48707962036133, 56.01445388793945, 56.02679443359375, 55.37043762207031, 56.01939010620117, 56.774444580078125, 58.2845458984375, 58.200645446777344, 58.06494140625, 57.830528259277344, 58.0550651550293, 58.333900451660156, 59.34556198120117, 59.20985794067383, 60.0043830871582, 60.10308074951172, 60.84333419799805, 61.452796936035156, 60.03152847290039, 60.02412414550781, 61.38124084472656, 63.123294830322266, 63.53782653808594, 63.446533203125, 63.47367477416992, 64.20624542236328, 64.3819580078125, 64.89179229736328, 64.83238220214844, 65.4535903930664, 65.00069427490234, 65.7728500366211, 66.1044921875, 65.90401458740234, 65.13680267333984, 64.84477233886719, 64.78783416748047, 65.92381286621094, 65.4090347290039, 66.28763580322266, 66.1416015625, 65.37686920166016, 64.21118927001953, 64.77793884277344, 65.7282943725586, 66.9979248046875, 66.05994415283203, 66.4460220336914, 67.01276397705078, 67.18354797363281, 68.09677124023438, 69.26245880126953, 69.39857482910156, 69.23274993896484, 69.30204772949219, 69.15850830078125, 70.28706359863281, 70.3538818359375, 71.7497329711914, 71.72248840332031, 72.14817810058594, 72.67533874511719, 74.33351135253906, 73.61083984375, 74.19739532470703, 73.84844207763672, 75.03638458251953, 76.63021850585938, 76.80345916748047, 78.44432067871094, 77.38506317138672, 77.05342864990234, 78.01863098144531, 78.88236999511719, 78.3478012084961, 78.6274642944336, 79.00611877441406, 78.77843475341797, 76.46192932128906, 78.62499237060547, 80.27079010009766, 80.15447235107422, 76.60051727294922, 76.3901596069336, 78.91207885742188, 79.55554962158203, 80.4861068725586, 79.39208984375, 79.7691650390625, 79.28788757324219, 81.1707992553711, 80.5927734375, 80.61262512207031, 79.13656616210938, 80.28268432617188, 79.45906829833984, 77.66050720214844, 73.97160339355469, 71.46601867675781, 72.59973907470703, 67.85401916503906, 67.8143310546875, 74.12789154052734, 71.77363586425781, 75.10282897949219, 72.6667251586914, 71.70170593261719, 66.03065490722656, 70.78630065917969, 68.3278579711914, 61.58015823364258, 68.95796966552734, 60.08673095703125, 62.72875213623047, 61.19315719604492, 60.72429275512695, 56.869178771972656, 55.661041259765625, 61.24525833129883, 60.90787124633789, 64.11302947998047, 61.45860290527344, 63.212501525878906, 63.08350372314453, 59.76424026489258, 60.76150131225586, 59.888275146484375, 65.1127700805664, 64.35862731933594, 66.00585174560547, 66.4821548461914, 67.78704071044922, 71.21049499511719, 70.56053924560547, 71.12120056152344, 70.15617370605469, 68.6999740600586, 66.57642364501953, 68.49406433105469, 68.22862243652344, 70.19834899902344, 70.24797058105469, 69.10929870605469, 71.37919616699219, 72.88502502441406, 71.71163177490234, 72.72626495361328, 73.81780242919922, 74.57939147949219, 75.35091400146484, 77.14439392089844, 78.35828399658203, 77.4627914428711, 76.52749633789062, 76.99763488769531, 76.54241180419922, 78.3458480834961, 77.89312744140625, 79.40800476074219, 78.81597900390625, 79.32343292236328, 78.7861328125, 79.12940216064453, 79.16423034667969, 79.08712005615234, 80.05972290039062, 80.43035125732422, 80.87313079833984, 80.1766357421875, 82.46015167236328, 82.94768524169922, 85.56700897216797, 87.76844024658203, 83.55464172363281, 84.27600860595703, 85.3182601928711, 87.57939147949219, 87.45750427246094, 87.4923324584961, 86.99234771728516, 89.26839447021484, 91.1738052368164, 89.56440734863281, 90.75342559814453, 87.96495056152344, 89.99225616455078]}],                        {\"legend\": {\"bgcolor\": \"#F5F6F9\", \"font\": {\"color\": \"#4D5663\"}}, \"paper_bgcolor\": \"#F5F6F9\", \"plot_bgcolor\": \"#F5F6F9\", \"template\": {\"data\": {\"bar\": [{\"error_x\": {\"color\": \"#2a3f5f\"}, \"error_y\": {\"color\": \"#2a3f5f\"}, \"marker\": {\"line\": {\"color\": \"#E5ECF6\", \"width\": 0.5}}, \"type\": \"bar\"}], \"barpolar\": [{\"marker\": {\"line\": {\"color\": \"#E5ECF6\", \"width\": 0.5}}, \"type\": \"barpolar\"}], \"carpet\": [{\"aaxis\": {\"endlinecolor\": \"#2a3f5f\", \"gridcolor\": \"white\", \"linecolor\": \"white\", \"minorgridcolor\": \"white\", \"startlinecolor\": \"#2a3f5f\"}, \"baxis\": {\"endlinecolor\": \"#2a3f5f\", \"gridcolor\": \"white\", \"linecolor\": \"white\", \"minorgridcolor\": \"white\", \"startlinecolor\": \"#2a3f5f\"}, \"type\": \"carpet\"}], \"choropleth\": [{\"colorbar\": {\"outlinewidth\": 0, \"ticks\": \"\"}, \"type\": \"choropleth\"}], \"contour\": [{\"colorbar\": {\"outlinewidth\": 0, \"ticks\": \"\"}, \"colorscale\": [[0.0, \"#0d0887\"], [0.1111111111111111, \"#46039f\"], [0.2222222222222222, \"#7201a8\"], [0.3333333333333333, \"#9c179e\"], [0.4444444444444444, \"#bd3786\"], [0.5555555555555556, \"#d8576b\"], [0.6666666666666666, \"#ed7953\"], [0.7777777777777778, \"#fb9f3a\"], [0.8888888888888888, \"#fdca26\"], [1.0, \"#f0f921\"]], \"type\": \"contour\"}], \"contourcarpet\": [{\"colorbar\": {\"outlinewidth\": 0, \"ticks\": \"\"}, \"type\": \"contourcarpet\"}], \"heatmap\": [{\"colorbar\": {\"outlinewidth\": 0, \"ticks\": \"\"}, \"colorscale\": [[0.0, \"#0d0887\"], [0.1111111111111111, \"#46039f\"], [0.2222222222222222, \"#7201a8\"], [0.3333333333333333, \"#9c179e\"], [0.4444444444444444, \"#bd3786\"], [0.5555555555555556, \"#d8576b\"], [0.6666666666666666, \"#ed7953\"], [0.7777777777777778, \"#fb9f3a\"], [0.8888888888888888, \"#fdca26\"], [1.0, \"#f0f921\"]], \"type\": \"heatmap\"}], \"heatmapgl\": [{\"colorbar\": {\"outlinewidth\": 0, \"ticks\": \"\"}, \"colorscale\": [[0.0, \"#0d0887\"], [0.1111111111111111, \"#46039f\"], [0.2222222222222222, \"#7201a8\"], [0.3333333333333333, \"#9c179e\"], [0.4444444444444444, \"#bd3786\"], [0.5555555555555556, \"#d8576b\"], [0.6666666666666666, \"#ed7953\"], [0.7777777777777778, \"#fb9f3a\"], [0.8888888888888888, \"#fdca26\"], [1.0, \"#f0f921\"]], \"type\": \"heatmapgl\"}], \"histogram\": [{\"marker\": {\"colorbar\": {\"outlinewidth\": 0, \"ticks\": \"\"}}, \"type\": \"histogram\"}], \"histogram2d\": [{\"colorbar\": {\"outlinewidth\": 0, \"ticks\": \"\"}, \"colorscale\": [[0.0, \"#0d0887\"], [0.1111111111111111, \"#46039f\"], [0.2222222222222222, \"#7201a8\"], [0.3333333333333333, \"#9c179e\"], [0.4444444444444444, \"#bd3786\"], [0.5555555555555556, \"#d8576b\"], [0.6666666666666666, \"#ed7953\"], [0.7777777777777778, \"#fb9f3a\"], [0.8888888888888888, \"#fdca26\"], [1.0, \"#f0f921\"]], \"type\": \"histogram2d\"}], \"histogram2dcontour\": [{\"colorbar\": {\"outlinewidth\": 0, \"ticks\": \"\"}, \"colorscale\": [[0.0, \"#0d0887\"], [0.1111111111111111, \"#46039f\"], [0.2222222222222222, \"#7201a8\"], [0.3333333333333333, \"#9c179e\"], [0.4444444444444444, \"#bd3786\"], [0.5555555555555556, \"#d8576b\"], [0.6666666666666666, \"#ed7953\"], [0.7777777777777778, \"#fb9f3a\"], [0.8888888888888888, \"#fdca26\"], [1.0, \"#f0f921\"]], \"type\": \"histogram2dcontour\"}], \"mesh3d\": [{\"colorbar\": {\"outlinewidth\": 0, \"ticks\": \"\"}, \"type\": \"mesh3d\"}], \"parcoords\": [{\"line\": {\"colorbar\": {\"outlinewidth\": 0, \"ticks\": \"\"}}, \"type\": \"parcoords\"}], \"pie\": [{\"automargin\": true, \"type\": \"pie\"}], \"scatter\": [{\"marker\": {\"colorbar\": {\"outlinewidth\": 0, \"ticks\": \"\"}}, \"type\": \"scatter\"}], \"scatter3d\": [{\"line\": {\"colorbar\": {\"outlinewidth\": 0, \"ticks\": \"\"}}, \"marker\": {\"colorbar\": {\"outlinewidth\": 0, \"ticks\": \"\"}}, \"type\": \"scatter3d\"}], \"scattercarpet\": [{\"marker\": {\"colorbar\": {\"outlinewidth\": 0, \"ticks\": \"\"}}, \"type\": \"scattercarpet\"}], \"scattergeo\": [{\"marker\": {\"colorbar\": {\"outlinewidth\": 0, \"ticks\": \"\"}}, \"type\": \"scattergeo\"}], \"scattergl\": [{\"marker\": {\"colorbar\": {\"outlinewidth\": 0, \"ticks\": \"\"}}, \"type\": \"scattergl\"}], \"scattermapbox\": [{\"marker\": {\"colorbar\": {\"outlinewidth\": 0, \"ticks\": \"\"}}, \"type\": \"scattermapbox\"}], \"scatterpolar\": [{\"marker\": {\"colorbar\": {\"outlinewidth\": 0, \"ticks\": \"\"}}, \"type\": \"scatterpolar\"}], \"scatterpolargl\": [{\"marker\": {\"colorbar\": {\"outlinewidth\": 0, \"ticks\": \"\"}}, \"type\": \"scatterpolargl\"}], \"scatterternary\": [{\"marker\": {\"colorbar\": {\"outlinewidth\": 0, \"ticks\": \"\"}}, \"type\": \"scatterternary\"}], \"surface\": [{\"colorbar\": {\"outlinewidth\": 0, \"ticks\": \"\"}, \"colorscale\": [[0.0, \"#0d0887\"], [0.1111111111111111, \"#46039f\"], [0.2222222222222222, \"#7201a8\"], [0.3333333333333333, \"#9c179e\"], [0.4444444444444444, \"#bd3786\"], [0.5555555555555556, \"#d8576b\"], [0.6666666666666666, \"#ed7953\"], [0.7777777777777778, \"#fb9f3a\"], [0.8888888888888888, \"#fdca26\"], [1.0, \"#f0f921\"]], \"type\": \"surface\"}], \"table\": [{\"cells\": {\"fill\": {\"color\": \"#EBF0F8\"}, \"line\": {\"color\": \"white\"}}, \"header\": {\"fill\": {\"color\": \"#C8D4E3\"}, \"line\": {\"color\": \"white\"}}, \"type\": \"table\"}]}, \"layout\": {\"annotationdefaults\": {\"arrowcolor\": \"#2a3f5f\", \"arrowhead\": 0, \"arrowwidth\": 1}, \"autotypenumbers\": \"strict\", \"coloraxis\": {\"colorbar\": {\"outlinewidth\": 0, \"ticks\": \"\"}}, \"colorscale\": {\"diverging\": [[0, \"#8e0152\"], [0.1, \"#c51b7d\"], [0.2, \"#de77ae\"], [0.3, \"#f1b6da\"], [0.4, \"#fde0ef\"], [0.5, \"#f7f7f7\"], [0.6, \"#e6f5d0\"], [0.7, \"#b8e186\"], [0.8, \"#7fbc41\"], [0.9, \"#4d9221\"], [1, \"#276419\"]], \"sequential\": [[0.0, \"#0d0887\"], [0.1111111111111111, \"#46039f\"], [0.2222222222222222, \"#7201a8\"], [0.3333333333333333, \"#9c179e\"], [0.4444444444444444, \"#bd3786\"], [0.5555555555555556, \"#d8576b\"], [0.6666666666666666, \"#ed7953\"], [0.7777777777777778, \"#fb9f3a\"], [0.8888888888888888, \"#fdca26\"], [1.0, \"#f0f921\"]], \"sequentialminus\": [[0.0, \"#0d0887\"], [0.1111111111111111, \"#46039f\"], [0.2222222222222222, \"#7201a8\"], [0.3333333333333333, \"#9c179e\"], [0.4444444444444444, \"#bd3786\"], [0.5555555555555556, \"#d8576b\"], [0.6666666666666666, \"#ed7953\"], [0.7777777777777778, \"#fb9f3a\"], [0.8888888888888888, \"#fdca26\"], [1.0, \"#f0f921\"]]}, \"colorway\": [\"#636efa\", \"#EF553B\", \"#00cc96\", \"#ab63fa\", \"#FFA15A\", \"#19d3f3\", \"#FF6692\", \"#B6E880\", \"#FF97FF\", \"#FECB52\"], \"font\": {\"color\": \"#2a3f5f\"}, \"geo\": {\"bgcolor\": \"white\", \"lakecolor\": \"white\", \"landcolor\": \"#E5ECF6\", \"showlakes\": true, \"showland\": true, \"subunitcolor\": \"white\"}, \"hoverlabel\": {\"align\": \"left\"}, \"hovermode\": \"closest\", \"mapbox\": {\"style\": \"light\"}, \"paper_bgcolor\": \"white\", \"plot_bgcolor\": \"#E5ECF6\", \"polar\": {\"angularaxis\": {\"gridcolor\": \"white\", \"linecolor\": \"white\", \"ticks\": \"\"}, \"bgcolor\": \"#E5ECF6\", \"radialaxis\": {\"gridcolor\": \"white\", \"linecolor\": \"white\", \"ticks\": \"\"}}, \"scene\": {\"xaxis\": {\"backgroundcolor\": \"#E5ECF6\", \"gridcolor\": \"white\", \"gridwidth\": 2, \"linecolor\": \"white\", \"showbackground\": true, \"ticks\": \"\", \"zerolinecolor\": \"white\"}, \"yaxis\": {\"backgroundcolor\": \"#E5ECF6\", \"gridcolor\": \"white\", \"gridwidth\": 2, \"linecolor\": \"white\", \"showbackground\": true, \"ticks\": \"\", \"zerolinecolor\": \"white\"}, \"zaxis\": {\"backgroundcolor\": \"#E5ECF6\", \"gridcolor\": \"white\", \"gridwidth\": 2, \"linecolor\": \"white\", \"showbackground\": true, \"ticks\": \"\", \"zerolinecolor\": \"white\"}}, \"shapedefaults\": {\"line\": {\"color\": \"#2a3f5f\"}}, \"ternary\": {\"aaxis\": {\"gridcolor\": \"white\", \"linecolor\": \"white\", \"ticks\": \"\"}, \"baxis\": {\"gridcolor\": \"white\", \"linecolor\": \"white\", \"ticks\": \"\"}, \"bgcolor\": \"#E5ECF6\", \"caxis\": {\"gridcolor\": \"white\", \"linecolor\": \"white\", \"ticks\": \"\"}}, \"title\": {\"x\": 0.05}, \"xaxis\": {\"automargin\": true, \"gridcolor\": \"white\", \"linecolor\": \"white\", \"ticks\": \"\", \"title\": {\"standoff\": 15}, \"zerolinecolor\": \"white\", \"zerolinewidth\": 2}, \"yaxis\": {\"automargin\": true, \"gridcolor\": \"white\", \"linecolor\": \"white\", \"ticks\": \"\", \"title\": {\"standoff\": 15}, \"zerolinecolor\": \"white\", \"zerolinewidth\": 2}}}, \"title\": {\"font\": {\"color\": \"#4D5663\"}, \"text\": \"CBOE Volatily Index\"}, \"xaxis\": {\"gridcolor\": \"#E1E5ED\", \"showgrid\": true, \"tickfont\": {\"color\": \"#4D5663\"}, \"title\": {\"font\": {\"color\": \"#4D5663\"}, \"text\": \"\"}, \"zerolinecolor\": \"#E1E5ED\"}, \"yaxis\": {\"gridcolor\": \"#E1E5ED\", \"showgrid\": true, \"tickfont\": {\"color\": \"#4D5663\"}, \"title\": {\"font\": {\"color\": \"#4D5663\"}, \"text\": \"\"}, \"zerolinecolor\": \"#E1E5ED\"}},                        {\"showLink\": true, \"linkText\": \"Export to plot.ly\", \"plotlyServerURL\": \"https://plot.ly\", \"responsive\": true}                    ).then(function(){\n",
       "                            \n",
       "var gd = document.getElementById('9b6c45ce-c5c3-43a3-a508-0f12ac39d5eb');\n",
       "var x = new MutationObserver(function (mutations, observer) {{\n",
       "        var display = window.getComputedStyle(gd).display;\n",
       "        if (!display || display === 'none') {{\n",
       "            console.log([gd, 'removed!']);\n",
       "            Plotly.purge(gd);\n",
       "            observer.disconnect();\n",
       "        }}\n",
       "}});\n",
       "\n",
       "// Listen for the removal of the full notebook cells\n",
       "var notebookContainer = gd.closest('#notebook-container');\n",
       "if (notebookContainer) {{\n",
       "    x.observe(notebookContainer, {childList: true});\n",
       "}}\n",
       "\n",
       "// Listen for the clearing of the current output cell\n",
       "var outputEl = gd.closest('.output');\n",
       "if (outputEl) {{\n",
       "    x.observe(outputEl, {childList: true});\n",
       "}}\n",
       "\n",
       "                        })                };                });            </script>        </div>"
      ]
     },
     "metadata": {},
     "output_type": "display_data"
    }
   ],
   "source": [
    "vix.iplot(kind='line', title='CBOE Volatily Index')\n",
    "\n"
   ]
  },
  {
   "cell_type": "markdown",
   "metadata": {},
   "source": [
    "\n",
    "<h3 id=\"Plotting-OHLC-Data\">Plotting OHLC Data<a class=\"anchor-link\" href=\"#Plotting-OHLC-Data\">¶</a></h3><p>Next, we'll plot the time series data in ohlc format.</p>\n"
   ]
  },
  {
   "cell_type": "code",
   "execution_count": 68,
   "metadata": {},
   "outputs": [
    {
     "data": {
      "application/vnd.plotly.v1+json": {
       "config": {
        "linkText": "Export to plot.ly",
        "plotlyServerURL": "https://plot.ly",
        "showLink": true
       },
       "data": [
        {
         "close": [
          368.7900085449219,
          371.3299865722656,
          373.54998779296875,
          379.1000061035156,
          381.260009765625,
          378.69000244140625,
          378.7699890136719,
          379.7900085449219,
          378.4599914550781,
          375.70001220703125,
          378.6499938964844,
          383.8900146484375,
          384.239990234375,
          382.8800048828125,
          384.3900146484375,
          383.7900085449219,
          374.4100036621094,
          377.6300048828125,
          370.07000732421875,
          376.2300109863281,
          381.54998779296875,
          381.8500061035156
         ],
         "high": [
          375.45001220703125,
          372.5,
          376.9800109863281,
          379.8999938964844,
          381.489990234375,
          380.5799865722656,
          379.8599853515625,
          380.8599853515625,
          381.1300048828125,
          377.5799865722656,
          379.2300109863281,
          384.7900085449219,
          384.95001220703125,
          384.1300048828125,
          384.7699890136719,
          385.8500061035156,
          380.32000732421875,
          381.92999267578125,
          376.6700134277344,
          377.3399963378906,
          383.2200012207031,
          383.69000244140625
         ],
         "low": [
          364.82000732421875,
          368.04998779296875,
          369.1199951171875,
          375.9100036621094,
          377.1000061035156,
          377.7200012207031,
          376.3599853515625,
          377.8500061035156,
          378.1000061035156,
          373.70001220703125,
          376.75,
          380.69000244140625,
          383.25,
          381.8399963378906,
          378.4599914550781,
          383.5400085449219,
          372.010009765625,
          375.8900146484375,
          368.2699890136719,
          370.3800048828125,
          376.32000732421875,
          380.489990234375
         ],
         "open": [
          375.30999755859375,
          368.1000061035156,
          369.7099914550781,
          376.1000061035156,
          380.5899963378906,
          377.8500061035156,
          378.8900146484375,
          378.69000244140625,
          380.5899963378906,
          376.7200012207031,
          378.3399963378906,
          381.1099853515625,
          384.489990234375,
          382.25,
          383.6700134277344,
          385.4100036621094,
          380.2200012207031,
          376.3599853515625,
          375.6300048828125,
          373.7200012207031,
          379.6499938964844,
          382.43499755859375
         ],
         "showlegend": false,
         "type": "ohlc",
         "x": [
          "2021-01-04",
          "2021-01-05",
          "2021-01-06",
          "2021-01-07",
          "2021-01-08",
          "2021-01-11",
          "2021-01-12",
          "2021-01-13",
          "2021-01-14",
          "2021-01-15",
          "2021-01-19",
          "2021-01-20",
          "2021-01-21",
          "2021-01-22",
          "2021-01-25",
          "2021-01-26",
          "2021-01-27",
          "2021-01-28",
          "2021-01-29",
          "2021-02-01",
          "2021-02-02",
          "2021-02-03"
         ],
         "yaxis": "y2"
        }
       ],
       "layout": {
        "legend": {
         "bgcolor": "#F5F6F9",
         "font": {
          "color": "#4D5663"
         }
        },
        "paper_bgcolor": "#F5F6F9",
        "plot_bgcolor": "#F5F6F9",
        "template": {
         "data": {
          "bar": [
           {
            "error_x": {
             "color": "#2a3f5f"
            },
            "error_y": {
             "color": "#2a3f5f"
            },
            "marker": {
             "line": {
              "color": "#E5ECF6",
              "width": 0.5
             }
            },
            "type": "bar"
           }
          ],
          "barpolar": [
           {
            "marker": {
             "line": {
              "color": "#E5ECF6",
              "width": 0.5
             }
            },
            "type": "barpolar"
           }
          ],
          "carpet": [
           {
            "aaxis": {
             "endlinecolor": "#2a3f5f",
             "gridcolor": "white",
             "linecolor": "white",
             "minorgridcolor": "white",
             "startlinecolor": "#2a3f5f"
            },
            "baxis": {
             "endlinecolor": "#2a3f5f",
             "gridcolor": "white",
             "linecolor": "white",
             "minorgridcolor": "white",
             "startlinecolor": "#2a3f5f"
            },
            "type": "carpet"
           }
          ],
          "choropleth": [
           {
            "colorbar": {
             "outlinewidth": 0,
             "ticks": ""
            },
            "type": "choropleth"
           }
          ],
          "contour": [
           {
            "colorbar": {
             "outlinewidth": 0,
             "ticks": ""
            },
            "colorscale": [
             [
              0,
              "#0d0887"
             ],
             [
              0.1111111111111111,
              "#46039f"
             ],
             [
              0.2222222222222222,
              "#7201a8"
             ],
             [
              0.3333333333333333,
              "#9c179e"
             ],
             [
              0.4444444444444444,
              "#bd3786"
             ],
             [
              0.5555555555555556,
              "#d8576b"
             ],
             [
              0.6666666666666666,
              "#ed7953"
             ],
             [
              0.7777777777777778,
              "#fb9f3a"
             ],
             [
              0.8888888888888888,
              "#fdca26"
             ],
             [
              1,
              "#f0f921"
             ]
            ],
            "type": "contour"
           }
          ],
          "contourcarpet": [
           {
            "colorbar": {
             "outlinewidth": 0,
             "ticks": ""
            },
            "type": "contourcarpet"
           }
          ],
          "heatmap": [
           {
            "colorbar": {
             "outlinewidth": 0,
             "ticks": ""
            },
            "colorscale": [
             [
              0,
              "#0d0887"
             ],
             [
              0.1111111111111111,
              "#46039f"
             ],
             [
              0.2222222222222222,
              "#7201a8"
             ],
             [
              0.3333333333333333,
              "#9c179e"
             ],
             [
              0.4444444444444444,
              "#bd3786"
             ],
             [
              0.5555555555555556,
              "#d8576b"
             ],
             [
              0.6666666666666666,
              "#ed7953"
             ],
             [
              0.7777777777777778,
              "#fb9f3a"
             ],
             [
              0.8888888888888888,
              "#fdca26"
             ],
             [
              1,
              "#f0f921"
             ]
            ],
            "type": "heatmap"
           }
          ],
          "heatmapgl": [
           {
            "colorbar": {
             "outlinewidth": 0,
             "ticks": ""
            },
            "colorscale": [
             [
              0,
              "#0d0887"
             ],
             [
              0.1111111111111111,
              "#46039f"
             ],
             [
              0.2222222222222222,
              "#7201a8"
             ],
             [
              0.3333333333333333,
              "#9c179e"
             ],
             [
              0.4444444444444444,
              "#bd3786"
             ],
             [
              0.5555555555555556,
              "#d8576b"
             ],
             [
              0.6666666666666666,
              "#ed7953"
             ],
             [
              0.7777777777777778,
              "#fb9f3a"
             ],
             [
              0.8888888888888888,
              "#fdca26"
             ],
             [
              1,
              "#f0f921"
             ]
            ],
            "type": "heatmapgl"
           }
          ],
          "histogram": [
           {
            "marker": {
             "colorbar": {
              "outlinewidth": 0,
              "ticks": ""
             }
            },
            "type": "histogram"
           }
          ],
          "histogram2d": [
           {
            "colorbar": {
             "outlinewidth": 0,
             "ticks": ""
            },
            "colorscale": [
             [
              0,
              "#0d0887"
             ],
             [
              0.1111111111111111,
              "#46039f"
             ],
             [
              0.2222222222222222,
              "#7201a8"
             ],
             [
              0.3333333333333333,
              "#9c179e"
             ],
             [
              0.4444444444444444,
              "#bd3786"
             ],
             [
              0.5555555555555556,
              "#d8576b"
             ],
             [
              0.6666666666666666,
              "#ed7953"
             ],
             [
              0.7777777777777778,
              "#fb9f3a"
             ],
             [
              0.8888888888888888,
              "#fdca26"
             ],
             [
              1,
              "#f0f921"
             ]
            ],
            "type": "histogram2d"
           }
          ],
          "histogram2dcontour": [
           {
            "colorbar": {
             "outlinewidth": 0,
             "ticks": ""
            },
            "colorscale": [
             [
              0,
              "#0d0887"
             ],
             [
              0.1111111111111111,
              "#46039f"
             ],
             [
              0.2222222222222222,
              "#7201a8"
             ],
             [
              0.3333333333333333,
              "#9c179e"
             ],
             [
              0.4444444444444444,
              "#bd3786"
             ],
             [
              0.5555555555555556,
              "#d8576b"
             ],
             [
              0.6666666666666666,
              "#ed7953"
             ],
             [
              0.7777777777777778,
              "#fb9f3a"
             ],
             [
              0.8888888888888888,
              "#fdca26"
             ],
             [
              1,
              "#f0f921"
             ]
            ],
            "type": "histogram2dcontour"
           }
          ],
          "mesh3d": [
           {
            "colorbar": {
             "outlinewidth": 0,
             "ticks": ""
            },
            "type": "mesh3d"
           }
          ],
          "parcoords": [
           {
            "line": {
             "colorbar": {
              "outlinewidth": 0,
              "ticks": ""
             }
            },
            "type": "parcoords"
           }
          ],
          "pie": [
           {
            "automargin": true,
            "type": "pie"
           }
          ],
          "scatter": [
           {
            "marker": {
             "colorbar": {
              "outlinewidth": 0,
              "ticks": ""
             }
            },
            "type": "scatter"
           }
          ],
          "scatter3d": [
           {
            "line": {
             "colorbar": {
              "outlinewidth": 0,
              "ticks": ""
             }
            },
            "marker": {
             "colorbar": {
              "outlinewidth": 0,
              "ticks": ""
             }
            },
            "type": "scatter3d"
           }
          ],
          "scattercarpet": [
           {
            "marker": {
             "colorbar": {
              "outlinewidth": 0,
              "ticks": ""
             }
            },
            "type": "scattercarpet"
           }
          ],
          "scattergeo": [
           {
            "marker": {
             "colorbar": {
              "outlinewidth": 0,
              "ticks": ""
             }
            },
            "type": "scattergeo"
           }
          ],
          "scattergl": [
           {
            "marker": {
             "colorbar": {
              "outlinewidth": 0,
              "ticks": ""
             }
            },
            "type": "scattergl"
           }
          ],
          "scattermapbox": [
           {
            "marker": {
             "colorbar": {
              "outlinewidth": 0,
              "ticks": ""
             }
            },
            "type": "scattermapbox"
           }
          ],
          "scatterpolar": [
           {
            "marker": {
             "colorbar": {
              "outlinewidth": 0,
              "ticks": ""
             }
            },
            "type": "scatterpolar"
           }
          ],
          "scatterpolargl": [
           {
            "marker": {
             "colorbar": {
              "outlinewidth": 0,
              "ticks": ""
             }
            },
            "type": "scatterpolargl"
           }
          ],
          "scatterternary": [
           {
            "marker": {
             "colorbar": {
              "outlinewidth": 0,
              "ticks": ""
             }
            },
            "type": "scatterternary"
           }
          ],
          "surface": [
           {
            "colorbar": {
             "outlinewidth": 0,
             "ticks": ""
            },
            "colorscale": [
             [
              0,
              "#0d0887"
             ],
             [
              0.1111111111111111,
              "#46039f"
             ],
             [
              0.2222222222222222,
              "#7201a8"
             ],
             [
              0.3333333333333333,
              "#9c179e"
             ],
             [
              0.4444444444444444,
              "#bd3786"
             ],
             [
              0.5555555555555556,
              "#d8576b"
             ],
             [
              0.6666666666666666,
              "#ed7953"
             ],
             [
              0.7777777777777778,
              "#fb9f3a"
             ],
             [
              0.8888888888888888,
              "#fdca26"
             ],
             [
              1,
              "#f0f921"
             ]
            ],
            "type": "surface"
           }
          ],
          "table": [
           {
            "cells": {
             "fill": {
              "color": "#EBF0F8"
             },
             "line": {
              "color": "white"
             }
            },
            "header": {
             "fill": {
              "color": "#C8D4E3"
             },
             "line": {
              "color": "white"
             }
            },
            "type": "table"
           }
          ]
         },
         "layout": {
          "annotationdefaults": {
           "arrowcolor": "#2a3f5f",
           "arrowhead": 0,
           "arrowwidth": 1
          },
          "autotypenumbers": "strict",
          "coloraxis": {
           "colorbar": {
            "outlinewidth": 0,
            "ticks": ""
           }
          },
          "colorscale": {
           "diverging": [
            [
             0,
             "#8e0152"
            ],
            [
             0.1,
             "#c51b7d"
            ],
            [
             0.2,
             "#de77ae"
            ],
            [
             0.3,
             "#f1b6da"
            ],
            [
             0.4,
             "#fde0ef"
            ],
            [
             0.5,
             "#f7f7f7"
            ],
            [
             0.6,
             "#e6f5d0"
            ],
            [
             0.7,
             "#b8e186"
            ],
            [
             0.8,
             "#7fbc41"
            ],
            [
             0.9,
             "#4d9221"
            ],
            [
             1,
             "#276419"
            ]
           ],
           "sequential": [
            [
             0,
             "#0d0887"
            ],
            [
             0.1111111111111111,
             "#46039f"
            ],
            [
             0.2222222222222222,
             "#7201a8"
            ],
            [
             0.3333333333333333,
             "#9c179e"
            ],
            [
             0.4444444444444444,
             "#bd3786"
            ],
            [
             0.5555555555555556,
             "#d8576b"
            ],
            [
             0.6666666666666666,
             "#ed7953"
            ],
            [
             0.7777777777777778,
             "#fb9f3a"
            ],
            [
             0.8888888888888888,
             "#fdca26"
            ],
            [
             1,
             "#f0f921"
            ]
           ],
           "sequentialminus": [
            [
             0,
             "#0d0887"
            ],
            [
             0.1111111111111111,
             "#46039f"
            ],
            [
             0.2222222222222222,
             "#7201a8"
            ],
            [
             0.3333333333333333,
             "#9c179e"
            ],
            [
             0.4444444444444444,
             "#bd3786"
            ],
            [
             0.5555555555555556,
             "#d8576b"
            ],
            [
             0.6666666666666666,
             "#ed7953"
            ],
            [
             0.7777777777777778,
             "#fb9f3a"
            ],
            [
             0.8888888888888888,
             "#fdca26"
            ],
            [
             1,
             "#f0f921"
            ]
           ]
          },
          "colorway": [
           "#636efa",
           "#EF553B",
           "#00cc96",
           "#ab63fa",
           "#FFA15A",
           "#19d3f3",
           "#FF6692",
           "#B6E880",
           "#FF97FF",
           "#FECB52"
          ],
          "font": {
           "color": "#2a3f5f"
          },
          "geo": {
           "bgcolor": "white",
           "lakecolor": "white",
           "landcolor": "#E5ECF6",
           "showlakes": true,
           "showland": true,
           "subunitcolor": "white"
          },
          "hoverlabel": {
           "align": "left"
          },
          "hovermode": "closest",
          "mapbox": {
           "style": "light"
          },
          "paper_bgcolor": "white",
          "plot_bgcolor": "#E5ECF6",
          "polar": {
           "angularaxis": {
            "gridcolor": "white",
            "linecolor": "white",
            "ticks": ""
           },
           "bgcolor": "#E5ECF6",
           "radialaxis": {
            "gridcolor": "white",
            "linecolor": "white",
            "ticks": ""
           }
          },
          "scene": {
           "xaxis": {
            "backgroundcolor": "#E5ECF6",
            "gridcolor": "white",
            "gridwidth": 2,
            "linecolor": "white",
            "showbackground": true,
            "ticks": "",
            "zerolinecolor": "white"
           },
           "yaxis": {
            "backgroundcolor": "#E5ECF6",
            "gridcolor": "white",
            "gridwidth": 2,
            "linecolor": "white",
            "showbackground": true,
            "ticks": "",
            "zerolinecolor": "white"
           },
           "zaxis": {
            "backgroundcolor": "#E5ECF6",
            "gridcolor": "white",
            "gridwidth": 2,
            "linecolor": "white",
            "showbackground": true,
            "ticks": "",
            "zerolinecolor": "white"
           }
          },
          "shapedefaults": {
           "line": {
            "color": "#2a3f5f"
           }
          },
          "ternary": {
           "aaxis": {
            "gridcolor": "white",
            "linecolor": "white",
            "ticks": ""
           },
           "baxis": {
            "gridcolor": "white",
            "linecolor": "white",
            "ticks": ""
           },
           "bgcolor": "#E5ECF6",
           "caxis": {
            "gridcolor": "white",
            "linecolor": "white",
            "ticks": ""
           }
          },
          "title": {
           "x": 0.05
          },
          "xaxis": {
           "automargin": true,
           "gridcolor": "white",
           "linecolor": "white",
           "ticks": "",
           "title": {
            "standoff": 15
           },
           "zerolinecolor": "white",
           "zerolinewidth": 2
          },
          "yaxis": {
           "automargin": true,
           "gridcolor": "white",
           "linecolor": "white",
           "ticks": "",
           "title": {
            "standoff": 15
           },
           "zerolinecolor": "white",
           "zerolinewidth": 2
          }
         }
        },
        "title": {
         "font": {
          "color": "#4D5663"
         },
         "text": "SPY Price"
        },
        "xaxis": {
         "gridcolor": "#E1E5ED",
         "rangeslider": {
          "visible": false
         },
         "showgrid": true,
         "tickfont": {
          "color": "#4D5663"
         },
         "title": {
          "font": {
           "color": "#4D5663"
          },
          "text": ""
         },
         "zerolinecolor": "#E1E5ED"
        },
        "yaxis": {
         "gridcolor": "#E1E5ED",
         "showgrid": true,
         "showticklabels": false,
         "tickfont": {
          "color": "#4D5663"
         },
         "title": {
          "font": {
           "color": "#4D5663"
          },
          "text": ""
         },
         "zerolinecolor": "#E1E5ED"
        },
        "yaxis2": {
         "gridcolor": "#E1E5ED",
         "showgrid": true,
         "tickfont": {
          "color": "#4D5663"
         },
         "title": {
          "font": {
           "color": "#4D5663"
          },
          "text": ""
         },
         "zerolinecolor": "#E1E5ED"
        }
       }
      },
      "text/html": [
       "<div>                            <div id=\"8ee3bfd6-3dc3-4441-9459-a1aeb3b20e4a\" class=\"plotly-graph-div\" style=\"height:525px; width:100%;\"></div>            <script type=\"text/javascript\">                require([\"plotly\"], function(Plotly) {                    window.PLOTLYENV=window.PLOTLYENV || {};\n",
       "                    window.PLOTLYENV.BASE_URL='https://plot.ly';                                    if (document.getElementById(\"8ee3bfd6-3dc3-4441-9459-a1aeb3b20e4a\")) {                    Plotly.newPlot(                        \"8ee3bfd6-3dc3-4441-9459-a1aeb3b20e4a\",                        [{\"close\": [368.7900085449219, 371.3299865722656, 373.54998779296875, 379.1000061035156, 381.260009765625, 378.69000244140625, 378.7699890136719, 379.7900085449219, 378.4599914550781, 375.70001220703125, 378.6499938964844, 383.8900146484375, 384.239990234375, 382.8800048828125, 384.3900146484375, 383.7900085449219, 374.4100036621094, 377.6300048828125, 370.07000732421875, 376.2300109863281, 381.54998779296875, 381.8500061035156], \"high\": [375.45001220703125, 372.5, 376.9800109863281, 379.8999938964844, 381.489990234375, 380.5799865722656, 379.8599853515625, 380.8599853515625, 381.1300048828125, 377.5799865722656, 379.2300109863281, 384.7900085449219, 384.95001220703125, 384.1300048828125, 384.7699890136719, 385.8500061035156, 380.32000732421875, 381.92999267578125, 376.6700134277344, 377.3399963378906, 383.2200012207031, 383.69000244140625], \"low\": [364.82000732421875, 368.04998779296875, 369.1199951171875, 375.9100036621094, 377.1000061035156, 377.7200012207031, 376.3599853515625, 377.8500061035156, 378.1000061035156, 373.70001220703125, 376.75, 380.69000244140625, 383.25, 381.8399963378906, 378.4599914550781, 383.5400085449219, 372.010009765625, 375.8900146484375, 368.2699890136719, 370.3800048828125, 376.32000732421875, 380.489990234375], \"open\": [375.30999755859375, 368.1000061035156, 369.7099914550781, 376.1000061035156, 380.5899963378906, 377.8500061035156, 378.8900146484375, 378.69000244140625, 380.5899963378906, 376.7200012207031, 378.3399963378906, 381.1099853515625, 384.489990234375, 382.25, 383.6700134277344, 385.4100036621094, 380.2200012207031, 376.3599853515625, 375.6300048828125, 373.7200012207031, 379.6499938964844, 382.43499755859375], \"showlegend\": false, \"type\": \"ohlc\", \"x\": [\"2021-01-04\", \"2021-01-05\", \"2021-01-06\", \"2021-01-07\", \"2021-01-08\", \"2021-01-11\", \"2021-01-12\", \"2021-01-13\", \"2021-01-14\", \"2021-01-15\", \"2021-01-19\", \"2021-01-20\", \"2021-01-21\", \"2021-01-22\", \"2021-01-25\", \"2021-01-26\", \"2021-01-27\", \"2021-01-28\", \"2021-01-29\", \"2021-02-01\", \"2021-02-02\", \"2021-02-03\"], \"yaxis\": \"y2\"}],                        {\"legend\": {\"bgcolor\": \"#F5F6F9\", \"font\": {\"color\": \"#4D5663\"}}, \"paper_bgcolor\": \"#F5F6F9\", \"plot_bgcolor\": \"#F5F6F9\", \"template\": {\"data\": {\"bar\": [{\"error_x\": {\"color\": \"#2a3f5f\"}, \"error_y\": {\"color\": \"#2a3f5f\"}, \"marker\": {\"line\": {\"color\": \"#E5ECF6\", \"width\": 0.5}}, \"type\": \"bar\"}], \"barpolar\": [{\"marker\": {\"line\": {\"color\": \"#E5ECF6\", \"width\": 0.5}}, \"type\": \"barpolar\"}], \"carpet\": [{\"aaxis\": {\"endlinecolor\": \"#2a3f5f\", \"gridcolor\": \"white\", \"linecolor\": \"white\", \"minorgridcolor\": \"white\", \"startlinecolor\": \"#2a3f5f\"}, \"baxis\": {\"endlinecolor\": \"#2a3f5f\", \"gridcolor\": \"white\", \"linecolor\": \"white\", \"minorgridcolor\": \"white\", \"startlinecolor\": \"#2a3f5f\"}, \"type\": \"carpet\"}], \"choropleth\": [{\"colorbar\": {\"outlinewidth\": 0, \"ticks\": \"\"}, \"type\": \"choropleth\"}], \"contour\": [{\"colorbar\": {\"outlinewidth\": 0, \"ticks\": \"\"}, \"colorscale\": [[0.0, \"#0d0887\"], [0.1111111111111111, \"#46039f\"], [0.2222222222222222, \"#7201a8\"], [0.3333333333333333, \"#9c179e\"], [0.4444444444444444, \"#bd3786\"], [0.5555555555555556, \"#d8576b\"], [0.6666666666666666, \"#ed7953\"], [0.7777777777777778, \"#fb9f3a\"], [0.8888888888888888, \"#fdca26\"], [1.0, \"#f0f921\"]], \"type\": \"contour\"}], \"contourcarpet\": [{\"colorbar\": {\"outlinewidth\": 0, \"ticks\": \"\"}, \"type\": \"contourcarpet\"}], \"heatmap\": [{\"colorbar\": {\"outlinewidth\": 0, \"ticks\": \"\"}, \"colorscale\": [[0.0, \"#0d0887\"], [0.1111111111111111, \"#46039f\"], [0.2222222222222222, \"#7201a8\"], [0.3333333333333333, \"#9c179e\"], [0.4444444444444444, \"#bd3786\"], [0.5555555555555556, \"#d8576b\"], [0.6666666666666666, \"#ed7953\"], [0.7777777777777778, \"#fb9f3a\"], [0.8888888888888888, \"#fdca26\"], [1.0, \"#f0f921\"]], \"type\": \"heatmap\"}], \"heatmapgl\": [{\"colorbar\": {\"outlinewidth\": 0, \"ticks\": \"\"}, \"colorscale\": [[0.0, \"#0d0887\"], [0.1111111111111111, \"#46039f\"], [0.2222222222222222, \"#7201a8\"], [0.3333333333333333, \"#9c179e\"], [0.4444444444444444, \"#bd3786\"], [0.5555555555555556, \"#d8576b\"], [0.6666666666666666, \"#ed7953\"], [0.7777777777777778, \"#fb9f3a\"], [0.8888888888888888, \"#fdca26\"], [1.0, \"#f0f921\"]], \"type\": \"heatmapgl\"}], \"histogram\": [{\"marker\": {\"colorbar\": {\"outlinewidth\": 0, \"ticks\": \"\"}}, \"type\": \"histogram\"}], \"histogram2d\": [{\"colorbar\": {\"outlinewidth\": 0, \"ticks\": \"\"}, \"colorscale\": [[0.0, \"#0d0887\"], [0.1111111111111111, \"#46039f\"], [0.2222222222222222, \"#7201a8\"], [0.3333333333333333, \"#9c179e\"], [0.4444444444444444, \"#bd3786\"], [0.5555555555555556, \"#d8576b\"], [0.6666666666666666, \"#ed7953\"], [0.7777777777777778, \"#fb9f3a\"], [0.8888888888888888, \"#fdca26\"], [1.0, \"#f0f921\"]], \"type\": \"histogram2d\"}], \"histogram2dcontour\": [{\"colorbar\": {\"outlinewidth\": 0, \"ticks\": \"\"}, \"colorscale\": [[0.0, \"#0d0887\"], [0.1111111111111111, \"#46039f\"], [0.2222222222222222, \"#7201a8\"], [0.3333333333333333, \"#9c179e\"], [0.4444444444444444, \"#bd3786\"], [0.5555555555555556, \"#d8576b\"], [0.6666666666666666, \"#ed7953\"], [0.7777777777777778, \"#fb9f3a\"], [0.8888888888888888, \"#fdca26\"], [1.0, \"#f0f921\"]], \"type\": \"histogram2dcontour\"}], \"mesh3d\": [{\"colorbar\": {\"outlinewidth\": 0, \"ticks\": \"\"}, \"type\": \"mesh3d\"}], \"parcoords\": [{\"line\": {\"colorbar\": {\"outlinewidth\": 0, \"ticks\": \"\"}}, \"type\": \"parcoords\"}], \"pie\": [{\"automargin\": true, \"type\": \"pie\"}], \"scatter\": [{\"marker\": {\"colorbar\": {\"outlinewidth\": 0, \"ticks\": \"\"}}, \"type\": \"scatter\"}], \"scatter3d\": [{\"line\": {\"colorbar\": {\"outlinewidth\": 0, \"ticks\": \"\"}}, \"marker\": {\"colorbar\": {\"outlinewidth\": 0, \"ticks\": \"\"}}, \"type\": \"scatter3d\"}], \"scattercarpet\": [{\"marker\": {\"colorbar\": {\"outlinewidth\": 0, \"ticks\": \"\"}}, \"type\": \"scattercarpet\"}], \"scattergeo\": [{\"marker\": {\"colorbar\": {\"outlinewidth\": 0, \"ticks\": \"\"}}, \"type\": \"scattergeo\"}], \"scattergl\": [{\"marker\": {\"colorbar\": {\"outlinewidth\": 0, \"ticks\": \"\"}}, \"type\": \"scattergl\"}], \"scattermapbox\": [{\"marker\": {\"colorbar\": {\"outlinewidth\": 0, \"ticks\": \"\"}}, \"type\": \"scattermapbox\"}], \"scatterpolar\": [{\"marker\": {\"colorbar\": {\"outlinewidth\": 0, \"ticks\": \"\"}}, \"type\": \"scatterpolar\"}], \"scatterpolargl\": [{\"marker\": {\"colorbar\": {\"outlinewidth\": 0, \"ticks\": \"\"}}, \"type\": \"scatterpolargl\"}], \"scatterternary\": [{\"marker\": {\"colorbar\": {\"outlinewidth\": 0, \"ticks\": \"\"}}, \"type\": \"scatterternary\"}], \"surface\": [{\"colorbar\": {\"outlinewidth\": 0, \"ticks\": \"\"}, \"colorscale\": [[0.0, \"#0d0887\"], [0.1111111111111111, \"#46039f\"], [0.2222222222222222, \"#7201a8\"], [0.3333333333333333, \"#9c179e\"], [0.4444444444444444, \"#bd3786\"], [0.5555555555555556, \"#d8576b\"], [0.6666666666666666, \"#ed7953\"], [0.7777777777777778, \"#fb9f3a\"], [0.8888888888888888, \"#fdca26\"], [1.0, \"#f0f921\"]], \"type\": \"surface\"}], \"table\": [{\"cells\": {\"fill\": {\"color\": \"#EBF0F8\"}, \"line\": {\"color\": \"white\"}}, \"header\": {\"fill\": {\"color\": \"#C8D4E3\"}, \"line\": {\"color\": \"white\"}}, \"type\": \"table\"}]}, \"layout\": {\"annotationdefaults\": {\"arrowcolor\": \"#2a3f5f\", \"arrowhead\": 0, \"arrowwidth\": 1}, \"autotypenumbers\": \"strict\", \"coloraxis\": {\"colorbar\": {\"outlinewidth\": 0, \"ticks\": \"\"}}, \"colorscale\": {\"diverging\": [[0, \"#8e0152\"], [0.1, \"#c51b7d\"], [0.2, \"#de77ae\"], [0.3, \"#f1b6da\"], [0.4, \"#fde0ef\"], [0.5, \"#f7f7f7\"], [0.6, \"#e6f5d0\"], [0.7, \"#b8e186\"], [0.8, \"#7fbc41\"], [0.9, \"#4d9221\"], [1, \"#276419\"]], \"sequential\": [[0.0, \"#0d0887\"], [0.1111111111111111, \"#46039f\"], [0.2222222222222222, \"#7201a8\"], [0.3333333333333333, \"#9c179e\"], [0.4444444444444444, \"#bd3786\"], [0.5555555555555556, \"#d8576b\"], [0.6666666666666666, \"#ed7953\"], [0.7777777777777778, \"#fb9f3a\"], [0.8888888888888888, \"#fdca26\"], [1.0, \"#f0f921\"]], \"sequentialminus\": [[0.0, \"#0d0887\"], [0.1111111111111111, \"#46039f\"], [0.2222222222222222, \"#7201a8\"], [0.3333333333333333, \"#9c179e\"], [0.4444444444444444, \"#bd3786\"], [0.5555555555555556, \"#d8576b\"], [0.6666666666666666, \"#ed7953\"], [0.7777777777777778, \"#fb9f3a\"], [0.8888888888888888, \"#fdca26\"], [1.0, \"#f0f921\"]]}, \"colorway\": [\"#636efa\", \"#EF553B\", \"#00cc96\", \"#ab63fa\", \"#FFA15A\", \"#19d3f3\", \"#FF6692\", \"#B6E880\", \"#FF97FF\", \"#FECB52\"], \"font\": {\"color\": \"#2a3f5f\"}, \"geo\": {\"bgcolor\": \"white\", \"lakecolor\": \"white\", \"landcolor\": \"#E5ECF6\", \"showlakes\": true, \"showland\": true, \"subunitcolor\": \"white\"}, \"hoverlabel\": {\"align\": \"left\"}, \"hovermode\": \"closest\", \"mapbox\": {\"style\": \"light\"}, \"paper_bgcolor\": \"white\", \"plot_bgcolor\": \"#E5ECF6\", \"polar\": {\"angularaxis\": {\"gridcolor\": \"white\", \"linecolor\": \"white\", \"ticks\": \"\"}, \"bgcolor\": \"#E5ECF6\", \"radialaxis\": {\"gridcolor\": \"white\", \"linecolor\": \"white\", \"ticks\": \"\"}}, \"scene\": {\"xaxis\": {\"backgroundcolor\": \"#E5ECF6\", \"gridcolor\": \"white\", \"gridwidth\": 2, \"linecolor\": \"white\", \"showbackground\": true, \"ticks\": \"\", \"zerolinecolor\": \"white\"}, \"yaxis\": {\"backgroundcolor\": \"#E5ECF6\", \"gridcolor\": \"white\", \"gridwidth\": 2, \"linecolor\": \"white\", \"showbackground\": true, \"ticks\": \"\", \"zerolinecolor\": \"white\"}, \"zaxis\": {\"backgroundcolor\": \"#E5ECF6\", \"gridcolor\": \"white\", \"gridwidth\": 2, \"linecolor\": \"white\", \"showbackground\": true, \"ticks\": \"\", \"zerolinecolor\": \"white\"}}, \"shapedefaults\": {\"line\": {\"color\": \"#2a3f5f\"}}, \"ternary\": {\"aaxis\": {\"gridcolor\": \"white\", \"linecolor\": \"white\", \"ticks\": \"\"}, \"baxis\": {\"gridcolor\": \"white\", \"linecolor\": \"white\", \"ticks\": \"\"}, \"bgcolor\": \"#E5ECF6\", \"caxis\": {\"gridcolor\": \"white\", \"linecolor\": \"white\", \"ticks\": \"\"}}, \"title\": {\"x\": 0.05}, \"xaxis\": {\"automargin\": true, \"gridcolor\": \"white\", \"linecolor\": \"white\", \"ticks\": \"\", \"title\": {\"standoff\": 15}, \"zerolinecolor\": \"white\", \"zerolinewidth\": 2}, \"yaxis\": {\"automargin\": true, \"gridcolor\": \"white\", \"linecolor\": \"white\", \"ticks\": \"\", \"title\": {\"standoff\": 15}, \"zerolinecolor\": \"white\", \"zerolinewidth\": 2}}}, \"title\": {\"font\": {\"color\": \"#4D5663\"}, \"text\": \"SPY Price\"}, \"xaxis\": {\"gridcolor\": \"#E1E5ED\", \"rangeslider\": {\"visible\": false}, \"showgrid\": true, \"tickfont\": {\"color\": \"#4D5663\"}, \"title\": {\"font\": {\"color\": \"#4D5663\"}, \"text\": \"\"}, \"zerolinecolor\": \"#E1E5ED\"}, \"yaxis\": {\"gridcolor\": \"#E1E5ED\", \"showgrid\": true, \"showticklabels\": false, \"tickfont\": {\"color\": \"#4D5663\"}, \"title\": {\"font\": {\"color\": \"#4D5663\"}, \"text\": \"\"}, \"zerolinecolor\": \"#E1E5ED\"}, \"yaxis2\": {\"gridcolor\": \"#E1E5ED\", \"showgrid\": true, \"tickfont\": {\"color\": \"#4D5663\"}, \"title\": {\"font\": {\"color\": \"#4D5663\"}, \"text\": \"\"}, \"zerolinecolor\": \"#E1E5ED\"}},                        {\"showLink\": true, \"linkText\": \"Export to plot.ly\", \"plotlyServerURL\": \"https://plot.ly\", \"responsive\": true}                    ).then(function(){\n",
       "                            \n",
       "var gd = document.getElementById('8ee3bfd6-3dc3-4441-9459-a1aeb3b20e4a');\n",
       "var x = new MutationObserver(function (mutations, observer) {{\n",
       "        var display = window.getComputedStyle(gd).display;\n",
       "        if (!display || display === 'none') {{\n",
       "            console.log([gd, 'removed!']);\n",
       "            Plotly.purge(gd);\n",
       "            observer.disconnect();\n",
       "        }}\n",
       "}});\n",
       "\n",
       "// Listen for the removal of the full notebook cells\n",
       "var notebookContainer = gd.closest('#notebook-container');\n",
       "if (notebookContainer) {{\n",
       "    x.observe(notebookContainer, {childList: true});\n",
       "}}\n",
       "\n",
       "// Listen for the clearing of the current output cell\n",
       "var outputEl = gd.closest('.output');\n",
       "if (outputEl) {{\n",
       "    x.observe(outputEl, {childList: true});\n",
       "}}\n",
       "\n",
       "                        })                };                });            </script>        </div>"
      ]
     },
     "metadata": {},
     "output_type": "display_data"
    }
   ],
   "source": [
    "\n",
    "spy[-30:].iplot(kind='ohlc',title='SPY Price') #bar chart\n",
    "\n"
   ]
  },
  {
   "cell_type": "markdown",
   "metadata": {},
   "source": [
    "\n",
    "<h3 id=\"Plotting-Candlestick\">Plotting Candlestick<a class=\"anchor-link\" href=\"#Plotting-Candlestick\">¶</a></h3><p>Next, we'll plot an interactive candlestick chart.</p>\n"
   ]
  },
  {
   "cell_type": "code",
   "execution_count": 69,
   "metadata": {},
   "outputs": [
    {
     "data": {
      "application/vnd.plotly.v1+json": {
       "config": {
        "linkText": "Export to plot.ly",
        "plotlyServerURL": "https://plot.ly",
        "showLink": true
       },
       "data": [
        {
         "close": [
          368.7900085449219,
          371.3299865722656,
          373.54998779296875,
          379.1000061035156,
          381.260009765625,
          378.69000244140625,
          378.7699890136719,
          379.7900085449219,
          378.4599914550781,
          375.70001220703125,
          378.6499938964844,
          383.8900146484375,
          384.239990234375,
          382.8800048828125,
          384.3900146484375,
          383.7900085449219,
          374.4100036621094,
          377.6300048828125,
          370.07000732421875,
          376.2300109863281,
          381.54998779296875,
          381.8500061035156
         ],
         "high": [
          375.45001220703125,
          372.5,
          376.9800109863281,
          379.8999938964844,
          381.489990234375,
          380.5799865722656,
          379.8599853515625,
          380.8599853515625,
          381.1300048828125,
          377.5799865722656,
          379.2300109863281,
          384.7900085449219,
          384.95001220703125,
          384.1300048828125,
          384.7699890136719,
          385.8500061035156,
          380.32000732421875,
          381.92999267578125,
          376.6700134277344,
          377.3399963378906,
          383.2200012207031,
          383.69000244140625
         ],
         "low": [
          364.82000732421875,
          368.04998779296875,
          369.1199951171875,
          375.9100036621094,
          377.1000061035156,
          377.7200012207031,
          376.3599853515625,
          377.8500061035156,
          378.1000061035156,
          373.70001220703125,
          376.75,
          380.69000244140625,
          383.25,
          381.8399963378906,
          378.4599914550781,
          383.5400085449219,
          372.010009765625,
          375.8900146484375,
          368.2699890136719,
          370.3800048828125,
          376.32000732421875,
          380.489990234375
         ],
         "open": [
          375.30999755859375,
          368.1000061035156,
          369.7099914550781,
          376.1000061035156,
          380.5899963378906,
          377.8500061035156,
          378.8900146484375,
          378.69000244140625,
          380.5899963378906,
          376.7200012207031,
          378.3399963378906,
          381.1099853515625,
          384.489990234375,
          382.25,
          383.6700134277344,
          385.4100036621094,
          380.2200012207031,
          376.3599853515625,
          375.6300048828125,
          373.7200012207031,
          379.6499938964844,
          382.43499755859375
         ],
         "showlegend": false,
         "type": "candlestick",
         "x": [
          "2021-01-04",
          "2021-01-05",
          "2021-01-06",
          "2021-01-07",
          "2021-01-08",
          "2021-01-11",
          "2021-01-12",
          "2021-01-13",
          "2021-01-14",
          "2021-01-15",
          "2021-01-19",
          "2021-01-20",
          "2021-01-21",
          "2021-01-22",
          "2021-01-25",
          "2021-01-26",
          "2021-01-27",
          "2021-01-28",
          "2021-01-29",
          "2021-02-01",
          "2021-02-02",
          "2021-02-03"
         ],
         "yaxis": "y2"
        }
       ],
       "layout": {
        "legend": {
         "bgcolor": "#F5F6F9",
         "font": {
          "color": "#4D5663"
         }
        },
        "paper_bgcolor": "#F5F6F9",
        "plot_bgcolor": "#F5F6F9",
        "template": {
         "data": {
          "bar": [
           {
            "error_x": {
             "color": "#2a3f5f"
            },
            "error_y": {
             "color": "#2a3f5f"
            },
            "marker": {
             "line": {
              "color": "#E5ECF6",
              "width": 0.5
             }
            },
            "type": "bar"
           }
          ],
          "barpolar": [
           {
            "marker": {
             "line": {
              "color": "#E5ECF6",
              "width": 0.5
             }
            },
            "type": "barpolar"
           }
          ],
          "carpet": [
           {
            "aaxis": {
             "endlinecolor": "#2a3f5f",
             "gridcolor": "white",
             "linecolor": "white",
             "minorgridcolor": "white",
             "startlinecolor": "#2a3f5f"
            },
            "baxis": {
             "endlinecolor": "#2a3f5f",
             "gridcolor": "white",
             "linecolor": "white",
             "minorgridcolor": "white",
             "startlinecolor": "#2a3f5f"
            },
            "type": "carpet"
           }
          ],
          "choropleth": [
           {
            "colorbar": {
             "outlinewidth": 0,
             "ticks": ""
            },
            "type": "choropleth"
           }
          ],
          "contour": [
           {
            "colorbar": {
             "outlinewidth": 0,
             "ticks": ""
            },
            "colorscale": [
             [
              0,
              "#0d0887"
             ],
             [
              0.1111111111111111,
              "#46039f"
             ],
             [
              0.2222222222222222,
              "#7201a8"
             ],
             [
              0.3333333333333333,
              "#9c179e"
             ],
             [
              0.4444444444444444,
              "#bd3786"
             ],
             [
              0.5555555555555556,
              "#d8576b"
             ],
             [
              0.6666666666666666,
              "#ed7953"
             ],
             [
              0.7777777777777778,
              "#fb9f3a"
             ],
             [
              0.8888888888888888,
              "#fdca26"
             ],
             [
              1,
              "#f0f921"
             ]
            ],
            "type": "contour"
           }
          ],
          "contourcarpet": [
           {
            "colorbar": {
             "outlinewidth": 0,
             "ticks": ""
            },
            "type": "contourcarpet"
           }
          ],
          "heatmap": [
           {
            "colorbar": {
             "outlinewidth": 0,
             "ticks": ""
            },
            "colorscale": [
             [
              0,
              "#0d0887"
             ],
             [
              0.1111111111111111,
              "#46039f"
             ],
             [
              0.2222222222222222,
              "#7201a8"
             ],
             [
              0.3333333333333333,
              "#9c179e"
             ],
             [
              0.4444444444444444,
              "#bd3786"
             ],
             [
              0.5555555555555556,
              "#d8576b"
             ],
             [
              0.6666666666666666,
              "#ed7953"
             ],
             [
              0.7777777777777778,
              "#fb9f3a"
             ],
             [
              0.8888888888888888,
              "#fdca26"
             ],
             [
              1,
              "#f0f921"
             ]
            ],
            "type": "heatmap"
           }
          ],
          "heatmapgl": [
           {
            "colorbar": {
             "outlinewidth": 0,
             "ticks": ""
            },
            "colorscale": [
             [
              0,
              "#0d0887"
             ],
             [
              0.1111111111111111,
              "#46039f"
             ],
             [
              0.2222222222222222,
              "#7201a8"
             ],
             [
              0.3333333333333333,
              "#9c179e"
             ],
             [
              0.4444444444444444,
              "#bd3786"
             ],
             [
              0.5555555555555556,
              "#d8576b"
             ],
             [
              0.6666666666666666,
              "#ed7953"
             ],
             [
              0.7777777777777778,
              "#fb9f3a"
             ],
             [
              0.8888888888888888,
              "#fdca26"
             ],
             [
              1,
              "#f0f921"
             ]
            ],
            "type": "heatmapgl"
           }
          ],
          "histogram": [
           {
            "marker": {
             "colorbar": {
              "outlinewidth": 0,
              "ticks": ""
             }
            },
            "type": "histogram"
           }
          ],
          "histogram2d": [
           {
            "colorbar": {
             "outlinewidth": 0,
             "ticks": ""
            },
            "colorscale": [
             [
              0,
              "#0d0887"
             ],
             [
              0.1111111111111111,
              "#46039f"
             ],
             [
              0.2222222222222222,
              "#7201a8"
             ],
             [
              0.3333333333333333,
              "#9c179e"
             ],
             [
              0.4444444444444444,
              "#bd3786"
             ],
             [
              0.5555555555555556,
              "#d8576b"
             ],
             [
              0.6666666666666666,
              "#ed7953"
             ],
             [
              0.7777777777777778,
              "#fb9f3a"
             ],
             [
              0.8888888888888888,
              "#fdca26"
             ],
             [
              1,
              "#f0f921"
             ]
            ],
            "type": "histogram2d"
           }
          ],
          "histogram2dcontour": [
           {
            "colorbar": {
             "outlinewidth": 0,
             "ticks": ""
            },
            "colorscale": [
             [
              0,
              "#0d0887"
             ],
             [
              0.1111111111111111,
              "#46039f"
             ],
             [
              0.2222222222222222,
              "#7201a8"
             ],
             [
              0.3333333333333333,
              "#9c179e"
             ],
             [
              0.4444444444444444,
              "#bd3786"
             ],
             [
              0.5555555555555556,
              "#d8576b"
             ],
             [
              0.6666666666666666,
              "#ed7953"
             ],
             [
              0.7777777777777778,
              "#fb9f3a"
             ],
             [
              0.8888888888888888,
              "#fdca26"
             ],
             [
              1,
              "#f0f921"
             ]
            ],
            "type": "histogram2dcontour"
           }
          ],
          "mesh3d": [
           {
            "colorbar": {
             "outlinewidth": 0,
             "ticks": ""
            },
            "type": "mesh3d"
           }
          ],
          "parcoords": [
           {
            "line": {
             "colorbar": {
              "outlinewidth": 0,
              "ticks": ""
             }
            },
            "type": "parcoords"
           }
          ],
          "pie": [
           {
            "automargin": true,
            "type": "pie"
           }
          ],
          "scatter": [
           {
            "marker": {
             "colorbar": {
              "outlinewidth": 0,
              "ticks": ""
             }
            },
            "type": "scatter"
           }
          ],
          "scatter3d": [
           {
            "line": {
             "colorbar": {
              "outlinewidth": 0,
              "ticks": ""
             }
            },
            "marker": {
             "colorbar": {
              "outlinewidth": 0,
              "ticks": ""
             }
            },
            "type": "scatter3d"
           }
          ],
          "scattercarpet": [
           {
            "marker": {
             "colorbar": {
              "outlinewidth": 0,
              "ticks": ""
             }
            },
            "type": "scattercarpet"
           }
          ],
          "scattergeo": [
           {
            "marker": {
             "colorbar": {
              "outlinewidth": 0,
              "ticks": ""
             }
            },
            "type": "scattergeo"
           }
          ],
          "scattergl": [
           {
            "marker": {
             "colorbar": {
              "outlinewidth": 0,
              "ticks": ""
             }
            },
            "type": "scattergl"
           }
          ],
          "scattermapbox": [
           {
            "marker": {
             "colorbar": {
              "outlinewidth": 0,
              "ticks": ""
             }
            },
            "type": "scattermapbox"
           }
          ],
          "scatterpolar": [
           {
            "marker": {
             "colorbar": {
              "outlinewidth": 0,
              "ticks": ""
             }
            },
            "type": "scatterpolar"
           }
          ],
          "scatterpolargl": [
           {
            "marker": {
             "colorbar": {
              "outlinewidth": 0,
              "ticks": ""
             }
            },
            "type": "scatterpolargl"
           }
          ],
          "scatterternary": [
           {
            "marker": {
             "colorbar": {
              "outlinewidth": 0,
              "ticks": ""
             }
            },
            "type": "scatterternary"
           }
          ],
          "surface": [
           {
            "colorbar": {
             "outlinewidth": 0,
             "ticks": ""
            },
            "colorscale": [
             [
              0,
              "#0d0887"
             ],
             [
              0.1111111111111111,
              "#46039f"
             ],
             [
              0.2222222222222222,
              "#7201a8"
             ],
             [
              0.3333333333333333,
              "#9c179e"
             ],
             [
              0.4444444444444444,
              "#bd3786"
             ],
             [
              0.5555555555555556,
              "#d8576b"
             ],
             [
              0.6666666666666666,
              "#ed7953"
             ],
             [
              0.7777777777777778,
              "#fb9f3a"
             ],
             [
              0.8888888888888888,
              "#fdca26"
             ],
             [
              1,
              "#f0f921"
             ]
            ],
            "type": "surface"
           }
          ],
          "table": [
           {
            "cells": {
             "fill": {
              "color": "#EBF0F8"
             },
             "line": {
              "color": "white"
             }
            },
            "header": {
             "fill": {
              "color": "#C8D4E3"
             },
             "line": {
              "color": "white"
             }
            },
            "type": "table"
           }
          ]
         },
         "layout": {
          "annotationdefaults": {
           "arrowcolor": "#2a3f5f",
           "arrowhead": 0,
           "arrowwidth": 1
          },
          "autotypenumbers": "strict",
          "coloraxis": {
           "colorbar": {
            "outlinewidth": 0,
            "ticks": ""
           }
          },
          "colorscale": {
           "diverging": [
            [
             0,
             "#8e0152"
            ],
            [
             0.1,
             "#c51b7d"
            ],
            [
             0.2,
             "#de77ae"
            ],
            [
             0.3,
             "#f1b6da"
            ],
            [
             0.4,
             "#fde0ef"
            ],
            [
             0.5,
             "#f7f7f7"
            ],
            [
             0.6,
             "#e6f5d0"
            ],
            [
             0.7,
             "#b8e186"
            ],
            [
             0.8,
             "#7fbc41"
            ],
            [
             0.9,
             "#4d9221"
            ],
            [
             1,
             "#276419"
            ]
           ],
           "sequential": [
            [
             0,
             "#0d0887"
            ],
            [
             0.1111111111111111,
             "#46039f"
            ],
            [
             0.2222222222222222,
             "#7201a8"
            ],
            [
             0.3333333333333333,
             "#9c179e"
            ],
            [
             0.4444444444444444,
             "#bd3786"
            ],
            [
             0.5555555555555556,
             "#d8576b"
            ],
            [
             0.6666666666666666,
             "#ed7953"
            ],
            [
             0.7777777777777778,
             "#fb9f3a"
            ],
            [
             0.8888888888888888,
             "#fdca26"
            ],
            [
             1,
             "#f0f921"
            ]
           ],
           "sequentialminus": [
            [
             0,
             "#0d0887"
            ],
            [
             0.1111111111111111,
             "#46039f"
            ],
            [
             0.2222222222222222,
             "#7201a8"
            ],
            [
             0.3333333333333333,
             "#9c179e"
            ],
            [
             0.4444444444444444,
             "#bd3786"
            ],
            [
             0.5555555555555556,
             "#d8576b"
            ],
            [
             0.6666666666666666,
             "#ed7953"
            ],
            [
             0.7777777777777778,
             "#fb9f3a"
            ],
            [
             0.8888888888888888,
             "#fdca26"
            ],
            [
             1,
             "#f0f921"
            ]
           ]
          },
          "colorway": [
           "#636efa",
           "#EF553B",
           "#00cc96",
           "#ab63fa",
           "#FFA15A",
           "#19d3f3",
           "#FF6692",
           "#B6E880",
           "#FF97FF",
           "#FECB52"
          ],
          "font": {
           "color": "#2a3f5f"
          },
          "geo": {
           "bgcolor": "white",
           "lakecolor": "white",
           "landcolor": "#E5ECF6",
           "showlakes": true,
           "showland": true,
           "subunitcolor": "white"
          },
          "hoverlabel": {
           "align": "left"
          },
          "hovermode": "closest",
          "mapbox": {
           "style": "light"
          },
          "paper_bgcolor": "white",
          "plot_bgcolor": "#E5ECF6",
          "polar": {
           "angularaxis": {
            "gridcolor": "white",
            "linecolor": "white",
            "ticks": ""
           },
           "bgcolor": "#E5ECF6",
           "radialaxis": {
            "gridcolor": "white",
            "linecolor": "white",
            "ticks": ""
           }
          },
          "scene": {
           "xaxis": {
            "backgroundcolor": "#E5ECF6",
            "gridcolor": "white",
            "gridwidth": 2,
            "linecolor": "white",
            "showbackground": true,
            "ticks": "",
            "zerolinecolor": "white"
           },
           "yaxis": {
            "backgroundcolor": "#E5ECF6",
            "gridcolor": "white",
            "gridwidth": 2,
            "linecolor": "white",
            "showbackground": true,
            "ticks": "",
            "zerolinecolor": "white"
           },
           "zaxis": {
            "backgroundcolor": "#E5ECF6",
            "gridcolor": "white",
            "gridwidth": 2,
            "linecolor": "white",
            "showbackground": true,
            "ticks": "",
            "zerolinecolor": "white"
           }
          },
          "shapedefaults": {
           "line": {
            "color": "#2a3f5f"
           }
          },
          "ternary": {
           "aaxis": {
            "gridcolor": "white",
            "linecolor": "white",
            "ticks": ""
           },
           "baxis": {
            "gridcolor": "white",
            "linecolor": "white",
            "ticks": ""
           },
           "bgcolor": "#E5ECF6",
           "caxis": {
            "gridcolor": "white",
            "linecolor": "white",
            "ticks": ""
           }
          },
          "title": {
           "x": 0.05
          },
          "xaxis": {
           "automargin": true,
           "gridcolor": "white",
           "linecolor": "white",
           "ticks": "",
           "title": {
            "standoff": 15
           },
           "zerolinecolor": "white",
           "zerolinewidth": 2
          },
          "yaxis": {
           "automargin": true,
           "gridcolor": "white",
           "linecolor": "white",
           "ticks": "",
           "title": {
            "standoff": 15
           },
           "zerolinecolor": "white",
           "zerolinewidth": 2
          }
         }
        },
        "title": {
         "font": {
          "color": "#4D5663"
         },
         "text": "SPY Price"
        },
        "xaxis": {
         "gridcolor": "#E1E5ED",
         "rangeslider": {
          "visible": false
         },
         "showgrid": true,
         "tickfont": {
          "color": "#4D5663"
         },
         "title": {
          "font": {
           "color": "#4D5663"
          },
          "text": ""
         },
         "zerolinecolor": "#E1E5ED"
        },
        "yaxis": {
         "gridcolor": "#E1E5ED",
         "showgrid": true,
         "showticklabels": false,
         "tickfont": {
          "color": "#4D5663"
         },
         "title": {
          "font": {
           "color": "#4D5663"
          },
          "text": ""
         },
         "zerolinecolor": "#E1E5ED"
        },
        "yaxis2": {
         "gridcolor": "#E1E5ED",
         "showgrid": true,
         "tickfont": {
          "color": "#4D5663"
         },
         "title": {
          "font": {
           "color": "#4D5663"
          },
          "text": ""
         },
         "zerolinecolor": "#E1E5ED"
        }
       }
      },
      "text/html": [
       "<div>                            <div id=\"fecf1d5e-4a87-44dc-8b25-ec86f6e0c12d\" class=\"plotly-graph-div\" style=\"height:525px; width:100%;\"></div>            <script type=\"text/javascript\">                require([\"plotly\"], function(Plotly) {                    window.PLOTLYENV=window.PLOTLYENV || {};\n",
       "                    window.PLOTLYENV.BASE_URL='https://plot.ly';                                    if (document.getElementById(\"fecf1d5e-4a87-44dc-8b25-ec86f6e0c12d\")) {                    Plotly.newPlot(                        \"fecf1d5e-4a87-44dc-8b25-ec86f6e0c12d\",                        [{\"close\": [368.7900085449219, 371.3299865722656, 373.54998779296875, 379.1000061035156, 381.260009765625, 378.69000244140625, 378.7699890136719, 379.7900085449219, 378.4599914550781, 375.70001220703125, 378.6499938964844, 383.8900146484375, 384.239990234375, 382.8800048828125, 384.3900146484375, 383.7900085449219, 374.4100036621094, 377.6300048828125, 370.07000732421875, 376.2300109863281, 381.54998779296875, 381.8500061035156], \"high\": [375.45001220703125, 372.5, 376.9800109863281, 379.8999938964844, 381.489990234375, 380.5799865722656, 379.8599853515625, 380.8599853515625, 381.1300048828125, 377.5799865722656, 379.2300109863281, 384.7900085449219, 384.95001220703125, 384.1300048828125, 384.7699890136719, 385.8500061035156, 380.32000732421875, 381.92999267578125, 376.6700134277344, 377.3399963378906, 383.2200012207031, 383.69000244140625], \"low\": [364.82000732421875, 368.04998779296875, 369.1199951171875, 375.9100036621094, 377.1000061035156, 377.7200012207031, 376.3599853515625, 377.8500061035156, 378.1000061035156, 373.70001220703125, 376.75, 380.69000244140625, 383.25, 381.8399963378906, 378.4599914550781, 383.5400085449219, 372.010009765625, 375.8900146484375, 368.2699890136719, 370.3800048828125, 376.32000732421875, 380.489990234375], \"open\": [375.30999755859375, 368.1000061035156, 369.7099914550781, 376.1000061035156, 380.5899963378906, 377.8500061035156, 378.8900146484375, 378.69000244140625, 380.5899963378906, 376.7200012207031, 378.3399963378906, 381.1099853515625, 384.489990234375, 382.25, 383.6700134277344, 385.4100036621094, 380.2200012207031, 376.3599853515625, 375.6300048828125, 373.7200012207031, 379.6499938964844, 382.43499755859375], \"showlegend\": false, \"type\": \"candlestick\", \"x\": [\"2021-01-04\", \"2021-01-05\", \"2021-01-06\", \"2021-01-07\", \"2021-01-08\", \"2021-01-11\", \"2021-01-12\", \"2021-01-13\", \"2021-01-14\", \"2021-01-15\", \"2021-01-19\", \"2021-01-20\", \"2021-01-21\", \"2021-01-22\", \"2021-01-25\", \"2021-01-26\", \"2021-01-27\", \"2021-01-28\", \"2021-01-29\", \"2021-02-01\", \"2021-02-02\", \"2021-02-03\"], \"yaxis\": \"y2\"}],                        {\"legend\": {\"bgcolor\": \"#F5F6F9\", \"font\": {\"color\": \"#4D5663\"}}, \"paper_bgcolor\": \"#F5F6F9\", \"plot_bgcolor\": \"#F5F6F9\", \"template\": {\"data\": {\"bar\": [{\"error_x\": {\"color\": \"#2a3f5f\"}, \"error_y\": {\"color\": \"#2a3f5f\"}, \"marker\": {\"line\": {\"color\": \"#E5ECF6\", \"width\": 0.5}}, \"type\": \"bar\"}], \"barpolar\": [{\"marker\": {\"line\": {\"color\": \"#E5ECF6\", \"width\": 0.5}}, \"type\": \"barpolar\"}], \"carpet\": [{\"aaxis\": {\"endlinecolor\": \"#2a3f5f\", \"gridcolor\": \"white\", \"linecolor\": \"white\", \"minorgridcolor\": \"white\", \"startlinecolor\": \"#2a3f5f\"}, \"baxis\": {\"endlinecolor\": \"#2a3f5f\", \"gridcolor\": \"white\", \"linecolor\": \"white\", \"minorgridcolor\": \"white\", \"startlinecolor\": \"#2a3f5f\"}, \"type\": \"carpet\"}], \"choropleth\": [{\"colorbar\": {\"outlinewidth\": 0, \"ticks\": \"\"}, \"type\": \"choropleth\"}], \"contour\": [{\"colorbar\": {\"outlinewidth\": 0, \"ticks\": \"\"}, \"colorscale\": [[0.0, \"#0d0887\"], [0.1111111111111111, \"#46039f\"], [0.2222222222222222, \"#7201a8\"], [0.3333333333333333, \"#9c179e\"], [0.4444444444444444, \"#bd3786\"], [0.5555555555555556, \"#d8576b\"], [0.6666666666666666, \"#ed7953\"], [0.7777777777777778, \"#fb9f3a\"], [0.8888888888888888, \"#fdca26\"], [1.0, \"#f0f921\"]], \"type\": \"contour\"}], \"contourcarpet\": [{\"colorbar\": {\"outlinewidth\": 0, \"ticks\": \"\"}, \"type\": \"contourcarpet\"}], \"heatmap\": [{\"colorbar\": {\"outlinewidth\": 0, \"ticks\": \"\"}, \"colorscale\": [[0.0, \"#0d0887\"], [0.1111111111111111, \"#46039f\"], [0.2222222222222222, \"#7201a8\"], [0.3333333333333333, \"#9c179e\"], [0.4444444444444444, \"#bd3786\"], [0.5555555555555556, \"#d8576b\"], [0.6666666666666666, \"#ed7953\"], [0.7777777777777778, \"#fb9f3a\"], [0.8888888888888888, \"#fdca26\"], [1.0, \"#f0f921\"]], \"type\": \"heatmap\"}], \"heatmapgl\": [{\"colorbar\": {\"outlinewidth\": 0, \"ticks\": \"\"}, \"colorscale\": [[0.0, \"#0d0887\"], [0.1111111111111111, \"#46039f\"], [0.2222222222222222, \"#7201a8\"], [0.3333333333333333, \"#9c179e\"], [0.4444444444444444, \"#bd3786\"], [0.5555555555555556, \"#d8576b\"], [0.6666666666666666, \"#ed7953\"], [0.7777777777777778, \"#fb9f3a\"], [0.8888888888888888, \"#fdca26\"], [1.0, \"#f0f921\"]], \"type\": \"heatmapgl\"}], \"histogram\": [{\"marker\": {\"colorbar\": {\"outlinewidth\": 0, \"ticks\": \"\"}}, \"type\": \"histogram\"}], \"histogram2d\": [{\"colorbar\": {\"outlinewidth\": 0, \"ticks\": \"\"}, \"colorscale\": [[0.0, \"#0d0887\"], [0.1111111111111111, \"#46039f\"], [0.2222222222222222, \"#7201a8\"], [0.3333333333333333, \"#9c179e\"], [0.4444444444444444, \"#bd3786\"], [0.5555555555555556, \"#d8576b\"], [0.6666666666666666, \"#ed7953\"], [0.7777777777777778, \"#fb9f3a\"], [0.8888888888888888, \"#fdca26\"], [1.0, \"#f0f921\"]], \"type\": \"histogram2d\"}], \"histogram2dcontour\": [{\"colorbar\": {\"outlinewidth\": 0, \"ticks\": \"\"}, \"colorscale\": [[0.0, \"#0d0887\"], [0.1111111111111111, \"#46039f\"], [0.2222222222222222, \"#7201a8\"], [0.3333333333333333, \"#9c179e\"], [0.4444444444444444, \"#bd3786\"], [0.5555555555555556, \"#d8576b\"], [0.6666666666666666, \"#ed7953\"], [0.7777777777777778, \"#fb9f3a\"], [0.8888888888888888, \"#fdca26\"], [1.0, \"#f0f921\"]], \"type\": \"histogram2dcontour\"}], \"mesh3d\": [{\"colorbar\": {\"outlinewidth\": 0, \"ticks\": \"\"}, \"type\": \"mesh3d\"}], \"parcoords\": [{\"line\": {\"colorbar\": {\"outlinewidth\": 0, \"ticks\": \"\"}}, \"type\": \"parcoords\"}], \"pie\": [{\"automargin\": true, \"type\": \"pie\"}], \"scatter\": [{\"marker\": {\"colorbar\": {\"outlinewidth\": 0, \"ticks\": \"\"}}, \"type\": \"scatter\"}], \"scatter3d\": [{\"line\": {\"colorbar\": {\"outlinewidth\": 0, \"ticks\": \"\"}}, \"marker\": {\"colorbar\": {\"outlinewidth\": 0, \"ticks\": \"\"}}, \"type\": \"scatter3d\"}], \"scattercarpet\": [{\"marker\": {\"colorbar\": {\"outlinewidth\": 0, \"ticks\": \"\"}}, \"type\": \"scattercarpet\"}], \"scattergeo\": [{\"marker\": {\"colorbar\": {\"outlinewidth\": 0, \"ticks\": \"\"}}, \"type\": \"scattergeo\"}], \"scattergl\": [{\"marker\": {\"colorbar\": {\"outlinewidth\": 0, \"ticks\": \"\"}}, \"type\": \"scattergl\"}], \"scattermapbox\": [{\"marker\": {\"colorbar\": {\"outlinewidth\": 0, \"ticks\": \"\"}}, \"type\": \"scattermapbox\"}], \"scatterpolar\": [{\"marker\": {\"colorbar\": {\"outlinewidth\": 0, \"ticks\": \"\"}}, \"type\": \"scatterpolar\"}], \"scatterpolargl\": [{\"marker\": {\"colorbar\": {\"outlinewidth\": 0, \"ticks\": \"\"}}, \"type\": \"scatterpolargl\"}], \"scatterternary\": [{\"marker\": {\"colorbar\": {\"outlinewidth\": 0, \"ticks\": \"\"}}, \"type\": \"scatterternary\"}], \"surface\": [{\"colorbar\": {\"outlinewidth\": 0, \"ticks\": \"\"}, \"colorscale\": [[0.0, \"#0d0887\"], [0.1111111111111111, \"#46039f\"], [0.2222222222222222, \"#7201a8\"], [0.3333333333333333, \"#9c179e\"], [0.4444444444444444, \"#bd3786\"], [0.5555555555555556, \"#d8576b\"], [0.6666666666666666, \"#ed7953\"], [0.7777777777777778, \"#fb9f3a\"], [0.8888888888888888, \"#fdca26\"], [1.0, \"#f0f921\"]], \"type\": \"surface\"}], \"table\": [{\"cells\": {\"fill\": {\"color\": \"#EBF0F8\"}, \"line\": {\"color\": \"white\"}}, \"header\": {\"fill\": {\"color\": \"#C8D4E3\"}, \"line\": {\"color\": \"white\"}}, \"type\": \"table\"}]}, \"layout\": {\"annotationdefaults\": {\"arrowcolor\": \"#2a3f5f\", \"arrowhead\": 0, \"arrowwidth\": 1}, \"autotypenumbers\": \"strict\", \"coloraxis\": {\"colorbar\": {\"outlinewidth\": 0, \"ticks\": \"\"}}, \"colorscale\": {\"diverging\": [[0, \"#8e0152\"], [0.1, \"#c51b7d\"], [0.2, \"#de77ae\"], [0.3, \"#f1b6da\"], [0.4, \"#fde0ef\"], [0.5, \"#f7f7f7\"], [0.6, \"#e6f5d0\"], [0.7, \"#b8e186\"], [0.8, \"#7fbc41\"], [0.9, \"#4d9221\"], [1, \"#276419\"]], \"sequential\": [[0.0, \"#0d0887\"], [0.1111111111111111, \"#46039f\"], [0.2222222222222222, \"#7201a8\"], [0.3333333333333333, \"#9c179e\"], [0.4444444444444444, \"#bd3786\"], [0.5555555555555556, \"#d8576b\"], [0.6666666666666666, \"#ed7953\"], [0.7777777777777778, \"#fb9f3a\"], [0.8888888888888888, \"#fdca26\"], [1.0, \"#f0f921\"]], \"sequentialminus\": [[0.0, \"#0d0887\"], [0.1111111111111111, \"#46039f\"], [0.2222222222222222, \"#7201a8\"], [0.3333333333333333, \"#9c179e\"], [0.4444444444444444, \"#bd3786\"], [0.5555555555555556, \"#d8576b\"], [0.6666666666666666, \"#ed7953\"], [0.7777777777777778, \"#fb9f3a\"], [0.8888888888888888, \"#fdca26\"], [1.0, \"#f0f921\"]]}, \"colorway\": [\"#636efa\", \"#EF553B\", \"#00cc96\", \"#ab63fa\", \"#FFA15A\", \"#19d3f3\", \"#FF6692\", \"#B6E880\", \"#FF97FF\", \"#FECB52\"], \"font\": {\"color\": \"#2a3f5f\"}, \"geo\": {\"bgcolor\": \"white\", \"lakecolor\": \"white\", \"landcolor\": \"#E5ECF6\", \"showlakes\": true, \"showland\": true, \"subunitcolor\": \"white\"}, \"hoverlabel\": {\"align\": \"left\"}, \"hovermode\": \"closest\", \"mapbox\": {\"style\": \"light\"}, \"paper_bgcolor\": \"white\", \"plot_bgcolor\": \"#E5ECF6\", \"polar\": {\"angularaxis\": {\"gridcolor\": \"white\", \"linecolor\": \"white\", \"ticks\": \"\"}, \"bgcolor\": \"#E5ECF6\", \"radialaxis\": {\"gridcolor\": \"white\", \"linecolor\": \"white\", \"ticks\": \"\"}}, \"scene\": {\"xaxis\": {\"backgroundcolor\": \"#E5ECF6\", \"gridcolor\": \"white\", \"gridwidth\": 2, \"linecolor\": \"white\", \"showbackground\": true, \"ticks\": \"\", \"zerolinecolor\": \"white\"}, \"yaxis\": {\"backgroundcolor\": \"#E5ECF6\", \"gridcolor\": \"white\", \"gridwidth\": 2, \"linecolor\": \"white\", \"showbackground\": true, \"ticks\": \"\", \"zerolinecolor\": \"white\"}, \"zaxis\": {\"backgroundcolor\": \"#E5ECF6\", \"gridcolor\": \"white\", \"gridwidth\": 2, \"linecolor\": \"white\", \"showbackground\": true, \"ticks\": \"\", \"zerolinecolor\": \"white\"}}, \"shapedefaults\": {\"line\": {\"color\": \"#2a3f5f\"}}, \"ternary\": {\"aaxis\": {\"gridcolor\": \"white\", \"linecolor\": \"white\", \"ticks\": \"\"}, \"baxis\": {\"gridcolor\": \"white\", \"linecolor\": \"white\", \"ticks\": \"\"}, \"bgcolor\": \"#E5ECF6\", \"caxis\": {\"gridcolor\": \"white\", \"linecolor\": \"white\", \"ticks\": \"\"}}, \"title\": {\"x\": 0.05}, \"xaxis\": {\"automargin\": true, \"gridcolor\": \"white\", \"linecolor\": \"white\", \"ticks\": \"\", \"title\": {\"standoff\": 15}, \"zerolinecolor\": \"white\", \"zerolinewidth\": 2}, \"yaxis\": {\"automargin\": true, \"gridcolor\": \"white\", \"linecolor\": \"white\", \"ticks\": \"\", \"title\": {\"standoff\": 15}, \"zerolinecolor\": \"white\", \"zerolinewidth\": 2}}}, \"title\": {\"font\": {\"color\": \"#4D5663\"}, \"text\": \"SPY Price\"}, \"xaxis\": {\"gridcolor\": \"#E1E5ED\", \"rangeslider\": {\"visible\": false}, \"showgrid\": true, \"tickfont\": {\"color\": \"#4D5663\"}, \"title\": {\"font\": {\"color\": \"#4D5663\"}, \"text\": \"\"}, \"zerolinecolor\": \"#E1E5ED\"}, \"yaxis\": {\"gridcolor\": \"#E1E5ED\", \"showgrid\": true, \"showticklabels\": false, \"tickfont\": {\"color\": \"#4D5663\"}, \"title\": {\"font\": {\"color\": \"#4D5663\"}, \"text\": \"\"}, \"zerolinecolor\": \"#E1E5ED\"}, \"yaxis2\": {\"gridcolor\": \"#E1E5ED\", \"showgrid\": true, \"tickfont\": {\"color\": \"#4D5663\"}, \"title\": {\"font\": {\"color\": \"#4D5663\"}, \"text\": \"\"}, \"zerolinecolor\": \"#E1E5ED\"}},                        {\"showLink\": true, \"linkText\": \"Export to plot.ly\", \"plotlyServerURL\": \"https://plot.ly\", \"responsive\": true}                    ).then(function(){\n",
       "                            \n",
       "var gd = document.getElementById('fecf1d5e-4a87-44dc-8b25-ec86f6e0c12d');\n",
       "var x = new MutationObserver(function (mutations, observer) {{\n",
       "        var display = window.getComputedStyle(gd).display;\n",
       "        if (!display || display === 'none') {{\n",
       "            console.log([gd, 'removed!']);\n",
       "            Plotly.purge(gd);\n",
       "            observer.disconnect();\n",
       "        }}\n",
       "}});\n",
       "\n",
       "// Listen for the removal of the full notebook cells\n",
       "var notebookContainer = gd.closest('#notebook-container');\n",
       "if (notebookContainer) {{\n",
       "    x.observe(notebookContainer, {childList: true});\n",
       "}}\n",
       "\n",
       "// Listen for the clearing of the current output cell\n",
       "var outputEl = gd.closest('.output');\n",
       "if (outputEl) {{\n",
       "    x.observe(outputEl, {childList: true});\n",
       "}}\n",
       "\n",
       "                        })                };                });            </script>        </div>"
      ]
     },
     "metadata": {},
     "output_type": "display_data"
    }
   ],
   "source": [
    "\n",
    "spy[-30:].iplot(kind='candle', title='SPY Price')\n",
    "\n"
   ]
  },
  {
   "cell_type": "markdown",
   "metadata": {},
   "source": [
    "\n",
    "<h3 id=\"Plotting-Selected-Stocks\">Plotting Selected Stocks<a class=\"anchor-link\" href=\"#Plotting-Selected-Stocks\">¶</a></h3><p>Next, we'll compare the FAANG stocks data that we fetched from Yahoo Finance.</p>\n"
   ]
  },
  {
   "cell_type": "code",
   "execution_count": 70,
   "metadata": {},
   "outputs": [
    {
     "data": {
      "application/vnd.plotly.v1+json": {
       "config": {
        "linkText": "Export to plot.ly",
        "plotlyServerURL": "https://plot.ly",
        "showLink": true
       },
       "data": [
        {
         "line": {
          "color": "rgba(255, 153, 51, 1.0)",
          "dash": "solid",
          "shape": "linear",
          "width": 1.3
         },
         "mode": "lines",
         "name": "AMZN",
         "text": "",
         "type": "scatter",
         "x": [
          "2019-05-31",
          "2019-06-03",
          "2019-06-04",
          "2019-06-05",
          "2019-06-06",
          "2019-06-07",
          "2019-06-10",
          "2019-06-11",
          "2019-06-12",
          "2019-06-13",
          "2019-06-14",
          "2019-06-17",
          "2019-06-18",
          "2019-06-19",
          "2019-06-20",
          "2019-06-21",
          "2019-06-24",
          "2019-06-25",
          "2019-06-26",
          "2019-06-27",
          "2019-06-28",
          "2019-07-01",
          "2019-07-02",
          "2019-07-03",
          "2019-07-05",
          "2019-07-08",
          "2019-07-09",
          "2019-07-10",
          "2019-07-11",
          "2019-07-12",
          "2019-07-15",
          "2019-07-16",
          "2019-07-17",
          "2019-07-18",
          "2019-07-19",
          "2019-07-22",
          "2019-07-23",
          "2019-07-24",
          "2019-07-25",
          "2019-07-26",
          "2019-07-29",
          "2019-07-30",
          "2019-07-31",
          "2019-08-01",
          "2019-08-02",
          "2019-08-05",
          "2019-08-06",
          "2019-08-07",
          "2019-08-08",
          "2019-08-09",
          "2019-08-12",
          "2019-08-13",
          "2019-08-14",
          "2019-08-15",
          "2019-08-16",
          "2019-08-19",
          "2019-08-20",
          "2019-08-21",
          "2019-08-22",
          "2019-08-23",
          "2019-08-26",
          "2019-08-27",
          "2019-08-28",
          "2019-08-29",
          "2019-08-30",
          "2019-09-03",
          "2019-09-04",
          "2019-09-05",
          "2019-09-06",
          "2019-09-09",
          "2019-09-10",
          "2019-09-11",
          "2019-09-12",
          "2019-09-13",
          "2019-09-16",
          "2019-09-17",
          "2019-09-18",
          "2019-09-19",
          "2019-09-20",
          "2019-09-23",
          "2019-09-24",
          "2019-09-25",
          "2019-09-26",
          "2019-09-27",
          "2019-09-30",
          "2019-10-01",
          "2019-10-02",
          "2019-10-03",
          "2019-10-04",
          "2019-10-07",
          "2019-10-08",
          "2019-10-09",
          "2019-10-10",
          "2019-10-11",
          "2019-10-14",
          "2019-10-15",
          "2019-10-16",
          "2019-10-17",
          "2019-10-18",
          "2019-10-21",
          "2019-10-22",
          "2019-10-23",
          "2019-10-24",
          "2019-10-25",
          "2019-10-28",
          "2019-10-29",
          "2019-10-30",
          "2019-10-31",
          "2019-11-01",
          "2019-11-04",
          "2019-11-05",
          "2019-11-06",
          "2019-11-07",
          "2019-11-08",
          "2019-11-11",
          "2019-11-12",
          "2019-11-13",
          "2019-11-14",
          "2019-11-15",
          "2019-11-18",
          "2019-11-19",
          "2019-11-20",
          "2019-11-21",
          "2019-11-22",
          "2019-11-25",
          "2019-11-26",
          "2019-11-27",
          "2019-11-29",
          "2019-12-02",
          "2019-12-03",
          "2019-12-04",
          "2019-12-05",
          "2019-12-06",
          "2019-12-09",
          "2019-12-10",
          "2019-12-11",
          "2019-12-12",
          "2019-12-13",
          "2019-12-16",
          "2019-12-17",
          "2019-12-18",
          "2019-12-19",
          "2019-12-20",
          "2019-12-23",
          "2019-12-24",
          "2019-12-26",
          "2019-12-27",
          "2019-12-30",
          "2019-12-31",
          "2020-01-02",
          "2020-01-03",
          "2020-01-06",
          "2020-01-07",
          "2020-01-08",
          "2020-01-09",
          "2020-01-10",
          "2020-01-13",
          "2020-01-14",
          "2020-01-15",
          "2020-01-16",
          "2020-01-17",
          "2020-01-21",
          "2020-01-22",
          "2020-01-23",
          "2020-01-24",
          "2020-01-27",
          "2020-01-28",
          "2020-01-29",
          "2020-01-30",
          "2020-01-31",
          "2020-02-03",
          "2020-02-04",
          "2020-02-05",
          "2020-02-06",
          "2020-02-07",
          "2020-02-10",
          "2020-02-11",
          "2020-02-12",
          "2020-02-13",
          "2020-02-14",
          "2020-02-18",
          "2020-02-19",
          "2020-02-20",
          "2020-02-21",
          "2020-02-24",
          "2020-02-25",
          "2020-02-26",
          "2020-02-27",
          "2020-02-28",
          "2020-03-02",
          "2020-03-03",
          "2020-03-04",
          "2020-03-05",
          "2020-03-06",
          "2020-03-09",
          "2020-03-10",
          "2020-03-11",
          "2020-03-12",
          "2020-03-13",
          "2020-03-16",
          "2020-03-17",
          "2020-03-18",
          "2020-03-19",
          "2020-03-20",
          "2020-03-23",
          "2020-03-24",
          "2020-03-25",
          "2020-03-26",
          "2020-03-27",
          "2020-03-30",
          "2020-03-31",
          "2020-04-01",
          "2020-04-02",
          "2020-04-03",
          "2020-04-06",
          "2020-04-07",
          "2020-04-08",
          "2020-04-09",
          "2020-04-13",
          "2020-04-14",
          "2020-04-15",
          "2020-04-16",
          "2020-04-17",
          "2020-04-20",
          "2020-04-21",
          "2020-04-22",
          "2020-04-23",
          "2020-04-24",
          "2020-04-27",
          "2020-04-28",
          "2020-04-29",
          "2020-04-30",
          "2020-05-01",
          "2020-05-04",
          "2020-05-05",
          "2020-05-06",
          "2020-05-07",
          "2020-05-08",
          "2020-05-11",
          "2020-05-12",
          "2020-05-13",
          "2020-05-14",
          "2020-05-15",
          "2020-05-18",
          "2020-05-19",
          "2020-05-20",
          "2020-05-21",
          "2020-05-22",
          "2020-05-26",
          "2020-05-27",
          "2020-05-28",
          "2020-05-29",
          "2020-06-01",
          "2020-06-02",
          "2020-06-03",
          "2020-06-04",
          "2020-06-05",
          "2020-06-08",
          "2020-06-09",
          "2020-06-10",
          "2020-06-11",
          "2020-06-12",
          "2020-06-15",
          "2020-06-16",
          "2020-06-17",
          "2020-06-18",
          "2020-06-19",
          "2020-06-22",
          "2020-06-23",
          "2020-06-24",
          "2020-06-25",
          "2020-06-26",
          "2020-06-29"
         ],
         "y": [
          1775.0699462890625,
          1692.68994140625,
          1729.56005859375,
          1738.5,
          1754.3599853515625,
          1804.030029296875,
          1860.6300048828125,
          1863.699951171875,
          1855.3199462890625,
          1870.300048828125,
          1869.6700439453125,
          1886.030029296875,
          1901.3699951171875,
          1908.7900390625,
          1918.18994140625,
          1911.300048828125,
          1913.9000244140625,
          1878.27001953125,
          1897.8299560546875,
          1904.280029296875,
          1893.6300048828125,
          1922.18994140625,
          1934.31005859375,
          1939,
          1942.9100341796875,
          1952.3199462890625,
          1988.300048828125,
          2017.4100341796875,
          2001.0699462890625,
          2011,
          2020.989990234375,
          2009.9000244140625,
          1992.030029296875,
          1977.9000244140625,
          1964.52001953125,
          1985.6300048828125,
          1994.489990234375,
          2000.81005859375,
          1973.8199462890625,
          1943.050048828125,
          1912.449951171875,
          1898.530029296875,
          1866.780029296875,
          1855.3199462890625,
          1823.239990234375,
          1765.1300048828125,
          1787.8299560546875,
          1793.4000244140625,
          1832.8900146484375,
          1807.5799560546875,
          1784.9200439453125,
          1824.3399658203125,
          1762.9599609375,
          1776.1199951171875,
          1792.5699462890625,
          1816.1199951171875,
          1801.3800048828125,
          1823.5400390625,
          1804.6600341796875,
          1749.6199951171875,
          1768.8699951171875,
          1761.8299560546875,
          1764.25,
          1786.4000244140625,
          1776.2900390625,
          1789.8399658203125,
          1800.6199951171875,
          1840.719970703125,
          1833.510009765625,
          1831.3499755859375,
          1820.550048828125,
          1822.989990234375,
          1843.550048828125,
          1839.3399658203125,
          1807.8399658203125,
          1822.550048828125,
          1817.4599609375,
          1821.5,
          1794.1600341796875,
          1785.300048828125,
          1741.6099853515625,
          1768.3299560546875,
          1739.8399658203125,
          1725.449951171875,
          1735.9100341796875,
          1735.6500244140625,
          1713.22998046875,
          1724.4200439453125,
          1739.6500244140625,
          1732.6600341796875,
          1705.510009765625,
          1721.989990234375,
          1720.260009765625,
          1731.9200439453125,
          1736.4300537109375,
          1767.3800048828125,
          1777.4300537109375,
          1787.47998046875,
          1757.510009765625,
          1785.6600341796875,
          1765.72998046875,
          1762.1700439453125,
          1780.780029296875,
          1761.3299560546875,
          1777.0799560546875,
          1762.7099609375,
          1779.989990234375,
          1776.6600341796875,
          1791.43994140625,
          1804.6600341796875,
          1801.7099609375,
          1795.77001953125,
          1788.199951171875,
          1785.8800048828125,
          1771.6500244140625,
          1778,
          1753.1099853515625,
          1754.5999755859375,
          1739.489990234375,
          1752.530029296875,
          1752.7900390625,
          1745.530029296875,
          1734.7099609375,
          1745.719970703125,
          1773.8399658203125,
          1796.93994140625,
          1818.510009765625,
          1800.800048828125,
          1781.5999755859375,
          1769.9599609375,
          1760.68994140625,
          1740.47998046875,
          1751.5999755859375,
          1749.510009765625,
          1739.2099609375,
          1748.719970703125,
          1760.3299560546875,
          1760.93994140625,
          1769.2099609375,
          1790.6600341796875,
          1784.030029296875,
          1792.280029296875,
          1786.5,
          1793,
          1789.2099609375,
          1868.77001953125,
          1869.800048828125,
          1846.8900146484375,
          1847.8399658203125,
          1898.010009765625,
          1874.969970703125,
          1902.8800048828125,
          1906.8599853515625,
          1891.969970703125,
          1901.050048828125,
          1883.1600341796875,
          1891.300048828125,
          1869.43994140625,
          1862.02001953125,
          1877.93994140625,
          1864.719970703125,
          1892,
          1887.4599609375,
          1884.5799560546875,
          1861.6400146484375,
          1828.3399658203125,
          1853.25,
          1858,
          1870.6800537109375,
          2008.719970703125,
          2004.199951171875,
          2049.669921875,
          2039.8699951171875,
          2050.22998046875,
          2079.280029296875,
          2133.909912109375,
          2150.800048828125,
          2160,
          2149.8701171875,
          2134.8701171875,
          2155.669921875,
          2170.219970703125,
          2153.10009765625,
          2095.969970703125,
          2009.2900390625,
          1972.739990234375,
          1979.5899658203125,
          1884.300048828125,
          1883.75,
          1953.949951171875,
          1908.989990234375,
          1975.8299560546875,
          1924.030029296875,
          1901.0899658203125,
          1800.6099853515625,
          1891.8199462890625,
          1820.8599853515625,
          1676.6099853515625,
          1785,
          1689.1500244140625,
          1807.8399658203125,
          1830,
          1880.9300537109375,
          1846.0899658203125,
          1902.8299560546875,
          1940.0999755859375,
          1885.8399658203125,
          1955.489990234375,
          1900.0999755859375,
          1963.949951171875,
          1949.719970703125,
          1907.699951171875,
          1918.8299560546875,
          1906.5899658203125,
          1997.5899658203125,
          2011.5999755859375,
          2043,
          2042.760009765625,
          2168.8701171875,
          2283.320068359375,
          2307.679931640625,
          2408.18994140625,
          2375,
          2393.610107421875,
          2328.1201171875,
          2363.489990234375,
          2399.449951171875,
          2410.219970703125,
          2376,
          2314.080078125,
          2372.7099609375,
          2474,
          2286.0400390625,
          2315.989990234375,
          2317.800048828125,
          2351.260009765625,
          2367.610107421875,
          2379.610107421875,
          2409,
          2356.949951171875,
          2367.919921875,
          2388.85009765625,
          2409.780029296875,
          2426.260009765625,
          2449.330078125,
          2497.93994140625,
          2446.739990234375,
          2436.8798828125,
          2421.860107421875,
          2410.389892578125,
          2401.10009765625,
          2442.3701171875,
          2471.0400390625,
          2472.409912109375,
          2478.39990234375,
          2460.60009765625,
          2483,
          2524.06005859375,
          2600.860107421875,
          2647.449951171875,
          2557.9599609375,
          2545.02001953125,
          2572.679931640625,
          2615.27001953125,
          2640.97998046875,
          2653.97998046875,
          2675.010009765625,
          2713.820068359375,
          2764.409912109375,
          2734.39990234375,
          2754.580078125,
          2692.8701171875,
          2680.3798828125
         ]
        },
        {
         "line": {
          "color": "rgba(55, 128, 191, 1.0)",
          "dash": "solid",
          "shape": "linear",
          "width": 1.3
         },
         "mode": "lines",
         "name": "AAPL",
         "text": "",
         "type": "scatter",
         "x": [
          "2019-05-31",
          "2019-06-03",
          "2019-06-04",
          "2019-06-05",
          "2019-06-06",
          "2019-06-07",
          "2019-06-10",
          "2019-06-11",
          "2019-06-12",
          "2019-06-13",
          "2019-06-14",
          "2019-06-17",
          "2019-06-18",
          "2019-06-19",
          "2019-06-20",
          "2019-06-21",
          "2019-06-24",
          "2019-06-25",
          "2019-06-26",
          "2019-06-27",
          "2019-06-28",
          "2019-07-01",
          "2019-07-02",
          "2019-07-03",
          "2019-07-05",
          "2019-07-08",
          "2019-07-09",
          "2019-07-10",
          "2019-07-11",
          "2019-07-12",
          "2019-07-15",
          "2019-07-16",
          "2019-07-17",
          "2019-07-18",
          "2019-07-19",
          "2019-07-22",
          "2019-07-23",
          "2019-07-24",
          "2019-07-25",
          "2019-07-26",
          "2019-07-29",
          "2019-07-30",
          "2019-07-31",
          "2019-08-01",
          "2019-08-02",
          "2019-08-05",
          "2019-08-06",
          "2019-08-07",
          "2019-08-08",
          "2019-08-09",
          "2019-08-12",
          "2019-08-13",
          "2019-08-14",
          "2019-08-15",
          "2019-08-16",
          "2019-08-19",
          "2019-08-20",
          "2019-08-21",
          "2019-08-22",
          "2019-08-23",
          "2019-08-26",
          "2019-08-27",
          "2019-08-28",
          "2019-08-29",
          "2019-08-30",
          "2019-09-03",
          "2019-09-04",
          "2019-09-05",
          "2019-09-06",
          "2019-09-09",
          "2019-09-10",
          "2019-09-11",
          "2019-09-12",
          "2019-09-13",
          "2019-09-16",
          "2019-09-17",
          "2019-09-18",
          "2019-09-19",
          "2019-09-20",
          "2019-09-23",
          "2019-09-24",
          "2019-09-25",
          "2019-09-26",
          "2019-09-27",
          "2019-09-30",
          "2019-10-01",
          "2019-10-02",
          "2019-10-03",
          "2019-10-04",
          "2019-10-07",
          "2019-10-08",
          "2019-10-09",
          "2019-10-10",
          "2019-10-11",
          "2019-10-14",
          "2019-10-15",
          "2019-10-16",
          "2019-10-17",
          "2019-10-18",
          "2019-10-21",
          "2019-10-22",
          "2019-10-23",
          "2019-10-24",
          "2019-10-25",
          "2019-10-28",
          "2019-10-29",
          "2019-10-30",
          "2019-10-31",
          "2019-11-01",
          "2019-11-04",
          "2019-11-05",
          "2019-11-06",
          "2019-11-07",
          "2019-11-08",
          "2019-11-11",
          "2019-11-12",
          "2019-11-13",
          "2019-11-14",
          "2019-11-15",
          "2019-11-18",
          "2019-11-19",
          "2019-11-20",
          "2019-11-21",
          "2019-11-22",
          "2019-11-25",
          "2019-11-26",
          "2019-11-27",
          "2019-11-29",
          "2019-12-02",
          "2019-12-03",
          "2019-12-04",
          "2019-12-05",
          "2019-12-06",
          "2019-12-09",
          "2019-12-10",
          "2019-12-11",
          "2019-12-12",
          "2019-12-13",
          "2019-12-16",
          "2019-12-17",
          "2019-12-18",
          "2019-12-19",
          "2019-12-20",
          "2019-12-23",
          "2019-12-24",
          "2019-12-26",
          "2019-12-27",
          "2019-12-30",
          "2019-12-31",
          "2020-01-02",
          "2020-01-03",
          "2020-01-06",
          "2020-01-07",
          "2020-01-08",
          "2020-01-09",
          "2020-01-10",
          "2020-01-13",
          "2020-01-14",
          "2020-01-15",
          "2020-01-16",
          "2020-01-17",
          "2020-01-21",
          "2020-01-22",
          "2020-01-23",
          "2020-01-24",
          "2020-01-27",
          "2020-01-28",
          "2020-01-29",
          "2020-01-30",
          "2020-01-31",
          "2020-02-03",
          "2020-02-04",
          "2020-02-05",
          "2020-02-06",
          "2020-02-07",
          "2020-02-10",
          "2020-02-11",
          "2020-02-12",
          "2020-02-13",
          "2020-02-14",
          "2020-02-18",
          "2020-02-19",
          "2020-02-20",
          "2020-02-21",
          "2020-02-24",
          "2020-02-25",
          "2020-02-26",
          "2020-02-27",
          "2020-02-28",
          "2020-03-02",
          "2020-03-03",
          "2020-03-04",
          "2020-03-05",
          "2020-03-06",
          "2020-03-09",
          "2020-03-10",
          "2020-03-11",
          "2020-03-12",
          "2020-03-13",
          "2020-03-16",
          "2020-03-17",
          "2020-03-18",
          "2020-03-19",
          "2020-03-20",
          "2020-03-23",
          "2020-03-24",
          "2020-03-25",
          "2020-03-26",
          "2020-03-27",
          "2020-03-30",
          "2020-03-31",
          "2020-04-01",
          "2020-04-02",
          "2020-04-03",
          "2020-04-06",
          "2020-04-07",
          "2020-04-08",
          "2020-04-09",
          "2020-04-13",
          "2020-04-14",
          "2020-04-15",
          "2020-04-16",
          "2020-04-17",
          "2020-04-20",
          "2020-04-21",
          "2020-04-22",
          "2020-04-23",
          "2020-04-24",
          "2020-04-27",
          "2020-04-28",
          "2020-04-29",
          "2020-04-30",
          "2020-05-01",
          "2020-05-04",
          "2020-05-05",
          "2020-05-06",
          "2020-05-07",
          "2020-05-08",
          "2020-05-11",
          "2020-05-12",
          "2020-05-13",
          "2020-05-14",
          "2020-05-15",
          "2020-05-18",
          "2020-05-19",
          "2020-05-20",
          "2020-05-21",
          "2020-05-22",
          "2020-05-26",
          "2020-05-27",
          "2020-05-28",
          "2020-05-29",
          "2020-06-01",
          "2020-06-02",
          "2020-06-03",
          "2020-06-04",
          "2020-06-05",
          "2020-06-08",
          "2020-06-09",
          "2020-06-10",
          "2020-06-11",
          "2020-06-12",
          "2020-06-15",
          "2020-06-16",
          "2020-06-17",
          "2020-06-18",
          "2020-06-19",
          "2020-06-22",
          "2020-06-23",
          "2020-06-24",
          "2020-06-25",
          "2020-06-26",
          "2020-06-29"
         ],
         "xaxis": "x",
         "y": [
          43.099117279052734,
          42.66337585449219,
          44.22417449951172,
          44.9380989074707,
          45.59786605834961,
          46.81155014038086,
          47.409767150878906,
          47.9587516784668,
          47.80612564086914,
          47.79627227783203,
          47.449153900146484,
          47.732269287109375,
          48.8548583984375,
          48.71207046508789,
          49.10350036621094,
          48.936092376708984,
          48.886863708496094,
          48.14585494995117,
          49.18720626831055,
          49.17243576049805,
          48.72438430786133,
          49.61802673339844,
          49.908512115478516,
          50.32210159301758,
          50.27779006958008,
          49.24135971069336,
          49.54171371459961,
          50.031612396240234,
          49.667259216308594,
          50.04884719848633,
          50.51905059814453,
          50.34425735473633,
          50.061153411865234,
          50.62983322143555,
          49.874053955078125,
          51.01387405395508,
          51.412689208984375,
          51.370849609375,
          50.96464157104492,
          51.14189147949219,
          51.61948013305664,
          51.397918701171875,
          52.446659088134766,
          51.3117561340332,
          50.22609329223633,
          47.596858978271484,
          48.497894287109375,
          49.00010299682617,
          50.08084487915039,
          49.66815948486328,
          49.5421257019043,
          51.64015579223633,
          50.10308837890625,
          49.85350036621094,
          51.02977752685547,
          51.98118209838867,
          51.9836540222168,
          52.547080993652344,
          52.50259780883789,
          50.075904846191406,
          51.027305603027344,
          50.45151901245117,
          50.79007339477539,
          51.65003967285156,
          51.58332443237305,
          50.83208084106445,
          51.694522857666016,
          52.70523452758789,
          52.700286865234375,
          52.9251708984375,
          53.55037307739258,
          55.25301742553711,
          55.129459381103516,
          54.05696487426758,
          54.34115219116211,
          54.53884506225586,
          55.050384521484375,
          54.60310363769531,
          53.804901123046875,
          54.049556732177734,
          53.79254913330078,
          54.62039566040039,
          54.33868408203125,
          54.07426834106445,
          55.346920013427734,
          55.5001335144043,
          54.108863830566406,
          54.56849670410156,
          56.0981559753418,
          56.11051559448242,
          55.45317840576172,
          56.10309982299805,
          56.859283447265625,
          58.37164306640625,
          58.287620544433594,
          58.151710510253906,
          57.91694641113281,
          58.14181900024414,
          58.42106628417969,
          59.43424606323242,
          59.298336029052734,
          60.09404754638672,
          60.192893981933594,
          60.93425369262695,
          61.54462814331055,
          60.12123107910156,
          60.11381530761719,
          61.47296142578125,
          63.21761703491211,
          63.63276672363281,
          63.541343688964844,
          63.568519592285156,
          64.30218505859375,
          64.47816467285156,
          64.98876953125,
          64.92926788330078,
          65.55139923095703,
          65.09781646728516,
          65.87113952636719,
          66.2032699584961,
          66.00250244140625,
          65.23414611816406,
          64.94166564941406,
          64.88465118408203,
          66.02232360839844,
          65.50679016113281,
          66.38668060302734,
          66.24044799804688,
          65.47456359863281,
          64.3071517944336,
          64.87474060058594,
          65.82652282714844,
          67.09803009033203,
          66.15865325927734,
          66.54531860351562,
          67.1129150390625,
          67.28392791748047,
          68.19853973388672,
          69.36595153808594,
          69.50227355957031,
          69.33621215820312,
          69.40560913085938,
          69.26185607910156,
          70.39208984375,
          70.4590072631836,
          71.85694122314453,
          71.82967376708984,
          72.25599670410156,
          72.783935546875,
          74.4446029663086,
          73.72084045410156,
          74.30826568603516,
          73.95879364013672,
          75.14852142333984,
          76.7447280883789,
          76.91822052001953,
          78.56153106689453,
          77.50070190429688,
          77.16856384277344,
          78.13522338867188,
          79.000244140625,
          78.46488189697266,
          78.74495697021484,
          79.12418365478516,
          78.89614868164062,
          76.57618713378906,
          78.74247741699219,
          80.3907470703125,
          80.27424621582031,
          76.7149887084961,
          76.50431060791016,
          79.02999877929688,
          79.6744384765625,
          80.60638427734375,
          79.51072692871094,
          79.88835906982422,
          79.4063720703125,
          81.29209899902344,
          80.71321868896484,
          80.73308563232422,
          79.25482177734375,
          80.40264892578125,
          79.57780456542969,
          77.77655792236328,
          74.08214569091797,
          71.57282257080078,
          72.70822143554688,
          67.9554214477539,
          67.91566467285156,
          74.23866271972656,
          71.88089752197266,
          75.2150650024414,
          72.77530670166016,
          71.80884552001953,
          66.12933349609375,
          70.89207458496094,
          68.4299545288086,
          61.672176361083984,
          69.0610122680664,
          60.1765251159668,
          62.82249069213867,
          61.28459930419922,
          60.815032958984375,
          56.95415496826172,
          55.74421691894531,
          61.33677291870117,
          60.99888610839844,
          64.20883178710938,
          61.550437927246094,
          63.30696105957031,
          63.17776870727539,
          59.853538513183594,
          60.852294921875,
          59.97776794433594,
          65.21006774902344,
          64.45479583740234,
          66.10448455810547,
          66.58150482177734,
          67.88833618164062,
          71.31690979003906,
          70.66598510742188,
          71.22747039794922,
          70.26101684570312,
          68.80261993408203,
          66.67591094970703,
          68.5964126586914,
          68.33058166503906,
          70.30325317382812,
          70.35294342041016,
          69.21255493164062,
          71.4858627319336,
          72.99393463134766,
          71.81878662109375,
          72.83493041992188,
          73.9281005859375,
          74.69084167480469,
          75.46350860595703,
          77.25967407226562,
          78.47537231445312,
          77.57853698730469,
          76.64185333251953,
          77.11268615722656,
          76.65679168701172,
          78.4629135131836,
          78.009521484375,
          79.52666473388672,
          78.93375396728516,
          79.44196319580078,
          78.90386199951172,
          79.24764251708984,
          79.28252410888672,
          79.2052993774414,
          80.17935943603516,
          80.55054473876953,
          80.99398040771484,
          80.29644775390625,
          82.5833740234375,
          83.07164001464844,
          85.69487762451172,
          87.89958953857422,
          83.67949676513672,
          84.40194702148438,
          85.44575500488281,
          87.71025848388672,
          87.58819580078125,
          87.62307739257812,
          87.1223373413086,
          89.40178680419922,
          91.31005096435547,
          89.6982421875,
          90.8890380859375,
          88.09640502929688,
          90.1267318725586
         ],
         "yaxis": "y2"
        }
       ],
       "layout": {
        "legend": {
         "bgcolor": "#F5F6F9",
         "font": {
          "color": "#4D5663"
         }
        },
        "paper_bgcolor": "#F5F6F9",
        "plot_bgcolor": "#F5F6F9",
        "template": {
         "data": {
          "bar": [
           {
            "error_x": {
             "color": "#2a3f5f"
            },
            "error_y": {
             "color": "#2a3f5f"
            },
            "marker": {
             "line": {
              "color": "#E5ECF6",
              "width": 0.5
             }
            },
            "type": "bar"
           }
          ],
          "barpolar": [
           {
            "marker": {
             "line": {
              "color": "#E5ECF6",
              "width": 0.5
             }
            },
            "type": "barpolar"
           }
          ],
          "carpet": [
           {
            "aaxis": {
             "endlinecolor": "#2a3f5f",
             "gridcolor": "white",
             "linecolor": "white",
             "minorgridcolor": "white",
             "startlinecolor": "#2a3f5f"
            },
            "baxis": {
             "endlinecolor": "#2a3f5f",
             "gridcolor": "white",
             "linecolor": "white",
             "minorgridcolor": "white",
             "startlinecolor": "#2a3f5f"
            },
            "type": "carpet"
           }
          ],
          "choropleth": [
           {
            "colorbar": {
             "outlinewidth": 0,
             "ticks": ""
            },
            "type": "choropleth"
           }
          ],
          "contour": [
           {
            "colorbar": {
             "outlinewidth": 0,
             "ticks": ""
            },
            "colorscale": [
             [
              0,
              "#0d0887"
             ],
             [
              0.1111111111111111,
              "#46039f"
             ],
             [
              0.2222222222222222,
              "#7201a8"
             ],
             [
              0.3333333333333333,
              "#9c179e"
             ],
             [
              0.4444444444444444,
              "#bd3786"
             ],
             [
              0.5555555555555556,
              "#d8576b"
             ],
             [
              0.6666666666666666,
              "#ed7953"
             ],
             [
              0.7777777777777778,
              "#fb9f3a"
             ],
             [
              0.8888888888888888,
              "#fdca26"
             ],
             [
              1,
              "#f0f921"
             ]
            ],
            "type": "contour"
           }
          ],
          "contourcarpet": [
           {
            "colorbar": {
             "outlinewidth": 0,
             "ticks": ""
            },
            "type": "contourcarpet"
           }
          ],
          "heatmap": [
           {
            "colorbar": {
             "outlinewidth": 0,
             "ticks": ""
            },
            "colorscale": [
             [
              0,
              "#0d0887"
             ],
             [
              0.1111111111111111,
              "#46039f"
             ],
             [
              0.2222222222222222,
              "#7201a8"
             ],
             [
              0.3333333333333333,
              "#9c179e"
             ],
             [
              0.4444444444444444,
              "#bd3786"
             ],
             [
              0.5555555555555556,
              "#d8576b"
             ],
             [
              0.6666666666666666,
              "#ed7953"
             ],
             [
              0.7777777777777778,
              "#fb9f3a"
             ],
             [
              0.8888888888888888,
              "#fdca26"
             ],
             [
              1,
              "#f0f921"
             ]
            ],
            "type": "heatmap"
           }
          ],
          "heatmapgl": [
           {
            "colorbar": {
             "outlinewidth": 0,
             "ticks": ""
            },
            "colorscale": [
             [
              0,
              "#0d0887"
             ],
             [
              0.1111111111111111,
              "#46039f"
             ],
             [
              0.2222222222222222,
              "#7201a8"
             ],
             [
              0.3333333333333333,
              "#9c179e"
             ],
             [
              0.4444444444444444,
              "#bd3786"
             ],
             [
              0.5555555555555556,
              "#d8576b"
             ],
             [
              0.6666666666666666,
              "#ed7953"
             ],
             [
              0.7777777777777778,
              "#fb9f3a"
             ],
             [
              0.8888888888888888,
              "#fdca26"
             ],
             [
              1,
              "#f0f921"
             ]
            ],
            "type": "heatmapgl"
           }
          ],
          "histogram": [
           {
            "marker": {
             "colorbar": {
              "outlinewidth": 0,
              "ticks": ""
             }
            },
            "type": "histogram"
           }
          ],
          "histogram2d": [
           {
            "colorbar": {
             "outlinewidth": 0,
             "ticks": ""
            },
            "colorscale": [
             [
              0,
              "#0d0887"
             ],
             [
              0.1111111111111111,
              "#46039f"
             ],
             [
              0.2222222222222222,
              "#7201a8"
             ],
             [
              0.3333333333333333,
              "#9c179e"
             ],
             [
              0.4444444444444444,
              "#bd3786"
             ],
             [
              0.5555555555555556,
              "#d8576b"
             ],
             [
              0.6666666666666666,
              "#ed7953"
             ],
             [
              0.7777777777777778,
              "#fb9f3a"
             ],
             [
              0.8888888888888888,
              "#fdca26"
             ],
             [
              1,
              "#f0f921"
             ]
            ],
            "type": "histogram2d"
           }
          ],
          "histogram2dcontour": [
           {
            "colorbar": {
             "outlinewidth": 0,
             "ticks": ""
            },
            "colorscale": [
             [
              0,
              "#0d0887"
             ],
             [
              0.1111111111111111,
              "#46039f"
             ],
             [
              0.2222222222222222,
              "#7201a8"
             ],
             [
              0.3333333333333333,
              "#9c179e"
             ],
             [
              0.4444444444444444,
              "#bd3786"
             ],
             [
              0.5555555555555556,
              "#d8576b"
             ],
             [
              0.6666666666666666,
              "#ed7953"
             ],
             [
              0.7777777777777778,
              "#fb9f3a"
             ],
             [
              0.8888888888888888,
              "#fdca26"
             ],
             [
              1,
              "#f0f921"
             ]
            ],
            "type": "histogram2dcontour"
           }
          ],
          "mesh3d": [
           {
            "colorbar": {
             "outlinewidth": 0,
             "ticks": ""
            },
            "type": "mesh3d"
           }
          ],
          "parcoords": [
           {
            "line": {
             "colorbar": {
              "outlinewidth": 0,
              "ticks": ""
             }
            },
            "type": "parcoords"
           }
          ],
          "pie": [
           {
            "automargin": true,
            "type": "pie"
           }
          ],
          "scatter": [
           {
            "marker": {
             "colorbar": {
              "outlinewidth": 0,
              "ticks": ""
             }
            },
            "type": "scatter"
           }
          ],
          "scatter3d": [
           {
            "line": {
             "colorbar": {
              "outlinewidth": 0,
              "ticks": ""
             }
            },
            "marker": {
             "colorbar": {
              "outlinewidth": 0,
              "ticks": ""
             }
            },
            "type": "scatter3d"
           }
          ],
          "scattercarpet": [
           {
            "marker": {
             "colorbar": {
              "outlinewidth": 0,
              "ticks": ""
             }
            },
            "type": "scattercarpet"
           }
          ],
          "scattergeo": [
           {
            "marker": {
             "colorbar": {
              "outlinewidth": 0,
              "ticks": ""
             }
            },
            "type": "scattergeo"
           }
          ],
          "scattergl": [
           {
            "marker": {
             "colorbar": {
              "outlinewidth": 0,
              "ticks": ""
             }
            },
            "type": "scattergl"
           }
          ],
          "scattermapbox": [
           {
            "marker": {
             "colorbar": {
              "outlinewidth": 0,
              "ticks": ""
             }
            },
            "type": "scattermapbox"
           }
          ],
          "scatterpolar": [
           {
            "marker": {
             "colorbar": {
              "outlinewidth": 0,
              "ticks": ""
             }
            },
            "type": "scatterpolar"
           }
          ],
          "scatterpolargl": [
           {
            "marker": {
             "colorbar": {
              "outlinewidth": 0,
              "ticks": ""
             }
            },
            "type": "scatterpolargl"
           }
          ],
          "scatterternary": [
           {
            "marker": {
             "colorbar": {
              "outlinewidth": 0,
              "ticks": ""
             }
            },
            "type": "scatterternary"
           }
          ],
          "surface": [
           {
            "colorbar": {
             "outlinewidth": 0,
             "ticks": ""
            },
            "colorscale": [
             [
              0,
              "#0d0887"
             ],
             [
              0.1111111111111111,
              "#46039f"
             ],
             [
              0.2222222222222222,
              "#7201a8"
             ],
             [
              0.3333333333333333,
              "#9c179e"
             ],
             [
              0.4444444444444444,
              "#bd3786"
             ],
             [
              0.5555555555555556,
              "#d8576b"
             ],
             [
              0.6666666666666666,
              "#ed7953"
             ],
             [
              0.7777777777777778,
              "#fb9f3a"
             ],
             [
              0.8888888888888888,
              "#fdca26"
             ],
             [
              1,
              "#f0f921"
             ]
            ],
            "type": "surface"
           }
          ],
          "table": [
           {
            "cells": {
             "fill": {
              "color": "#EBF0F8"
             },
             "line": {
              "color": "white"
             }
            },
            "header": {
             "fill": {
              "color": "#C8D4E3"
             },
             "line": {
              "color": "white"
             }
            },
            "type": "table"
           }
          ]
         },
         "layout": {
          "annotationdefaults": {
           "arrowcolor": "#2a3f5f",
           "arrowhead": 0,
           "arrowwidth": 1
          },
          "autotypenumbers": "strict",
          "coloraxis": {
           "colorbar": {
            "outlinewidth": 0,
            "ticks": ""
           }
          },
          "colorscale": {
           "diverging": [
            [
             0,
             "#8e0152"
            ],
            [
             0.1,
             "#c51b7d"
            ],
            [
             0.2,
             "#de77ae"
            ],
            [
             0.3,
             "#f1b6da"
            ],
            [
             0.4,
             "#fde0ef"
            ],
            [
             0.5,
             "#f7f7f7"
            ],
            [
             0.6,
             "#e6f5d0"
            ],
            [
             0.7,
             "#b8e186"
            ],
            [
             0.8,
             "#7fbc41"
            ],
            [
             0.9,
             "#4d9221"
            ],
            [
             1,
             "#276419"
            ]
           ],
           "sequential": [
            [
             0,
             "#0d0887"
            ],
            [
             0.1111111111111111,
             "#46039f"
            ],
            [
             0.2222222222222222,
             "#7201a8"
            ],
            [
             0.3333333333333333,
             "#9c179e"
            ],
            [
             0.4444444444444444,
             "#bd3786"
            ],
            [
             0.5555555555555556,
             "#d8576b"
            ],
            [
             0.6666666666666666,
             "#ed7953"
            ],
            [
             0.7777777777777778,
             "#fb9f3a"
            ],
            [
             0.8888888888888888,
             "#fdca26"
            ],
            [
             1,
             "#f0f921"
            ]
           ],
           "sequentialminus": [
            [
             0,
             "#0d0887"
            ],
            [
             0.1111111111111111,
             "#46039f"
            ],
            [
             0.2222222222222222,
             "#7201a8"
            ],
            [
             0.3333333333333333,
             "#9c179e"
            ],
            [
             0.4444444444444444,
             "#bd3786"
            ],
            [
             0.5555555555555556,
             "#d8576b"
            ],
            [
             0.6666666666666666,
             "#ed7953"
            ],
            [
             0.7777777777777778,
             "#fb9f3a"
            ],
            [
             0.8888888888888888,
             "#fdca26"
            ],
            [
             1,
             "#f0f921"
            ]
           ]
          },
          "colorway": [
           "#636efa",
           "#EF553B",
           "#00cc96",
           "#ab63fa",
           "#FFA15A",
           "#19d3f3",
           "#FF6692",
           "#B6E880",
           "#FF97FF",
           "#FECB52"
          ],
          "font": {
           "color": "#2a3f5f"
          },
          "geo": {
           "bgcolor": "white",
           "lakecolor": "white",
           "landcolor": "#E5ECF6",
           "showlakes": true,
           "showland": true,
           "subunitcolor": "white"
          },
          "hoverlabel": {
           "align": "left"
          },
          "hovermode": "closest",
          "mapbox": {
           "style": "light"
          },
          "paper_bgcolor": "white",
          "plot_bgcolor": "#E5ECF6",
          "polar": {
           "angularaxis": {
            "gridcolor": "white",
            "linecolor": "white",
            "ticks": ""
           },
           "bgcolor": "#E5ECF6",
           "radialaxis": {
            "gridcolor": "white",
            "linecolor": "white",
            "ticks": ""
           }
          },
          "scene": {
           "xaxis": {
            "backgroundcolor": "#E5ECF6",
            "gridcolor": "white",
            "gridwidth": 2,
            "linecolor": "white",
            "showbackground": true,
            "ticks": "",
            "zerolinecolor": "white"
           },
           "yaxis": {
            "backgroundcolor": "#E5ECF6",
            "gridcolor": "white",
            "gridwidth": 2,
            "linecolor": "white",
            "showbackground": true,
            "ticks": "",
            "zerolinecolor": "white"
           },
           "zaxis": {
            "backgroundcolor": "#E5ECF6",
            "gridcolor": "white",
            "gridwidth": 2,
            "linecolor": "white",
            "showbackground": true,
            "ticks": "",
            "zerolinecolor": "white"
           }
          },
          "shapedefaults": {
           "line": {
            "color": "#2a3f5f"
           }
          },
          "ternary": {
           "aaxis": {
            "gridcolor": "white",
            "linecolor": "white",
            "ticks": ""
           },
           "baxis": {
            "gridcolor": "white",
            "linecolor": "white",
            "ticks": ""
           },
           "bgcolor": "#E5ECF6",
           "caxis": {
            "gridcolor": "white",
            "linecolor": "white",
            "ticks": ""
           }
          },
          "title": {
           "x": 0.05
          },
          "xaxis": {
           "automargin": true,
           "gridcolor": "white",
           "linecolor": "white",
           "ticks": "",
           "title": {
            "standoff": 15
           },
           "zerolinecolor": "white",
           "zerolinewidth": 2
          },
          "yaxis": {
           "automargin": true,
           "gridcolor": "white",
           "linecolor": "white",
           "ticks": "",
           "title": {
            "standoff": 15
           },
           "zerolinecolor": "white",
           "zerolinewidth": 2
          }
         }
        },
        "title": {
         "font": {
          "color": "#4D5663"
         },
         "text": "Amazon Vs Apple"
        },
        "xaxis": {
         "gridcolor": "#E1E5ED",
         "showgrid": true,
         "tickfont": {
          "color": "#4D5663"
         },
         "title": {
          "font": {
           "color": "#4D5663"
          },
          "text": ""
         },
         "zerolinecolor": "#E1E5ED"
        },
        "yaxis": {
         "gridcolor": "#E1E5ED",
         "showgrid": true,
         "tickfont": {
          "color": "#4D5663"
         },
         "title": {
          "font": {
           "color": "#4D5663"
          },
          "text": ""
         },
         "zerolinecolor": "#E1E5ED"
        },
        "yaxis2": {
         "anchor": "x",
         "gridcolor": "#E1E5ED",
         "overlaying": "y",
         "showgrid": true,
         "side": "right",
         "tickfont": {
          "color": "#4D5663"
         },
         "title": {
          "text": ""
         },
         "zerolinecolor": "#E1E5ED"
        }
       }
      },
      "text/html": [
       "<div>                            <div id=\"920d2707-f2d9-47d9-b7cf-91dde4680678\" class=\"plotly-graph-div\" style=\"height:525px; width:100%;\"></div>            <script type=\"text/javascript\">                require([\"plotly\"], function(Plotly) {                    window.PLOTLYENV=window.PLOTLYENV || {};\n",
       "                    window.PLOTLYENV.BASE_URL='https://plot.ly';                                    if (document.getElementById(\"920d2707-f2d9-47d9-b7cf-91dde4680678\")) {                    Plotly.newPlot(                        \"920d2707-f2d9-47d9-b7cf-91dde4680678\",                        [{\"line\": {\"color\": \"rgba(255, 153, 51, 1.0)\", \"dash\": \"solid\", \"shape\": \"linear\", \"width\": 1.3}, \"mode\": \"lines\", \"name\": \"AMZN\", \"text\": \"\", \"type\": \"scatter\", \"x\": [\"2019-05-31\", \"2019-06-03\", \"2019-06-04\", \"2019-06-05\", \"2019-06-06\", \"2019-06-07\", \"2019-06-10\", \"2019-06-11\", \"2019-06-12\", \"2019-06-13\", \"2019-06-14\", \"2019-06-17\", \"2019-06-18\", \"2019-06-19\", \"2019-06-20\", \"2019-06-21\", \"2019-06-24\", \"2019-06-25\", \"2019-06-26\", \"2019-06-27\", \"2019-06-28\", \"2019-07-01\", \"2019-07-02\", \"2019-07-03\", \"2019-07-05\", \"2019-07-08\", \"2019-07-09\", \"2019-07-10\", \"2019-07-11\", \"2019-07-12\", \"2019-07-15\", \"2019-07-16\", \"2019-07-17\", \"2019-07-18\", \"2019-07-19\", \"2019-07-22\", \"2019-07-23\", \"2019-07-24\", \"2019-07-25\", \"2019-07-26\", \"2019-07-29\", \"2019-07-30\", \"2019-07-31\", \"2019-08-01\", \"2019-08-02\", \"2019-08-05\", \"2019-08-06\", \"2019-08-07\", \"2019-08-08\", \"2019-08-09\", \"2019-08-12\", \"2019-08-13\", \"2019-08-14\", \"2019-08-15\", \"2019-08-16\", \"2019-08-19\", \"2019-08-20\", \"2019-08-21\", \"2019-08-22\", \"2019-08-23\", \"2019-08-26\", \"2019-08-27\", \"2019-08-28\", \"2019-08-29\", \"2019-08-30\", \"2019-09-03\", \"2019-09-04\", \"2019-09-05\", \"2019-09-06\", \"2019-09-09\", \"2019-09-10\", \"2019-09-11\", \"2019-09-12\", \"2019-09-13\", \"2019-09-16\", \"2019-09-17\", \"2019-09-18\", \"2019-09-19\", \"2019-09-20\", \"2019-09-23\", \"2019-09-24\", \"2019-09-25\", \"2019-09-26\", \"2019-09-27\", \"2019-09-30\", \"2019-10-01\", \"2019-10-02\", \"2019-10-03\", \"2019-10-04\", \"2019-10-07\", \"2019-10-08\", \"2019-10-09\", \"2019-10-10\", \"2019-10-11\", \"2019-10-14\", \"2019-10-15\", \"2019-10-16\", \"2019-10-17\", \"2019-10-18\", \"2019-10-21\", \"2019-10-22\", \"2019-10-23\", \"2019-10-24\", \"2019-10-25\", \"2019-10-28\", \"2019-10-29\", \"2019-10-30\", \"2019-10-31\", \"2019-11-01\", \"2019-11-04\", \"2019-11-05\", \"2019-11-06\", \"2019-11-07\", \"2019-11-08\", \"2019-11-11\", \"2019-11-12\", \"2019-11-13\", \"2019-11-14\", \"2019-11-15\", \"2019-11-18\", \"2019-11-19\", \"2019-11-20\", \"2019-11-21\", \"2019-11-22\", \"2019-11-25\", \"2019-11-26\", \"2019-11-27\", \"2019-11-29\", \"2019-12-02\", \"2019-12-03\", \"2019-12-04\", \"2019-12-05\", \"2019-12-06\", \"2019-12-09\", \"2019-12-10\", \"2019-12-11\", \"2019-12-12\", \"2019-12-13\", \"2019-12-16\", \"2019-12-17\", \"2019-12-18\", \"2019-12-19\", \"2019-12-20\", \"2019-12-23\", \"2019-12-24\", \"2019-12-26\", \"2019-12-27\", \"2019-12-30\", \"2019-12-31\", \"2020-01-02\", \"2020-01-03\", \"2020-01-06\", \"2020-01-07\", \"2020-01-08\", \"2020-01-09\", \"2020-01-10\", \"2020-01-13\", \"2020-01-14\", \"2020-01-15\", \"2020-01-16\", \"2020-01-17\", \"2020-01-21\", \"2020-01-22\", \"2020-01-23\", \"2020-01-24\", \"2020-01-27\", \"2020-01-28\", \"2020-01-29\", \"2020-01-30\", \"2020-01-31\", \"2020-02-03\", \"2020-02-04\", \"2020-02-05\", \"2020-02-06\", \"2020-02-07\", \"2020-02-10\", \"2020-02-11\", \"2020-02-12\", \"2020-02-13\", \"2020-02-14\", \"2020-02-18\", \"2020-02-19\", \"2020-02-20\", \"2020-02-21\", \"2020-02-24\", \"2020-02-25\", \"2020-02-26\", \"2020-02-27\", \"2020-02-28\", \"2020-03-02\", \"2020-03-03\", \"2020-03-04\", \"2020-03-05\", \"2020-03-06\", \"2020-03-09\", \"2020-03-10\", \"2020-03-11\", \"2020-03-12\", \"2020-03-13\", \"2020-03-16\", \"2020-03-17\", \"2020-03-18\", \"2020-03-19\", \"2020-03-20\", \"2020-03-23\", \"2020-03-24\", \"2020-03-25\", \"2020-03-26\", \"2020-03-27\", \"2020-03-30\", \"2020-03-31\", \"2020-04-01\", \"2020-04-02\", \"2020-04-03\", \"2020-04-06\", \"2020-04-07\", \"2020-04-08\", \"2020-04-09\", \"2020-04-13\", \"2020-04-14\", \"2020-04-15\", \"2020-04-16\", \"2020-04-17\", \"2020-04-20\", \"2020-04-21\", \"2020-04-22\", \"2020-04-23\", \"2020-04-24\", \"2020-04-27\", \"2020-04-28\", \"2020-04-29\", \"2020-04-30\", \"2020-05-01\", \"2020-05-04\", \"2020-05-05\", \"2020-05-06\", \"2020-05-07\", \"2020-05-08\", \"2020-05-11\", \"2020-05-12\", \"2020-05-13\", \"2020-05-14\", \"2020-05-15\", \"2020-05-18\", \"2020-05-19\", \"2020-05-20\", \"2020-05-21\", \"2020-05-22\", \"2020-05-26\", \"2020-05-27\", \"2020-05-28\", \"2020-05-29\", \"2020-06-01\", \"2020-06-02\", \"2020-06-03\", \"2020-06-04\", \"2020-06-05\", \"2020-06-08\", \"2020-06-09\", \"2020-06-10\", \"2020-06-11\", \"2020-06-12\", \"2020-06-15\", \"2020-06-16\", \"2020-06-17\", \"2020-06-18\", \"2020-06-19\", \"2020-06-22\", \"2020-06-23\", \"2020-06-24\", \"2020-06-25\", \"2020-06-26\", \"2020-06-29\"], \"y\": [1775.0699462890625, 1692.68994140625, 1729.56005859375, 1738.5, 1754.3599853515625, 1804.030029296875, 1860.6300048828125, 1863.699951171875, 1855.3199462890625, 1870.300048828125, 1869.6700439453125, 1886.030029296875, 1901.3699951171875, 1908.7900390625, 1918.18994140625, 1911.300048828125, 1913.9000244140625, 1878.27001953125, 1897.8299560546875, 1904.280029296875, 1893.6300048828125, 1922.18994140625, 1934.31005859375, 1939.0, 1942.9100341796875, 1952.3199462890625, 1988.300048828125, 2017.4100341796875, 2001.0699462890625, 2011.0, 2020.989990234375, 2009.9000244140625, 1992.030029296875, 1977.9000244140625, 1964.52001953125, 1985.6300048828125, 1994.489990234375, 2000.81005859375, 1973.8199462890625, 1943.050048828125, 1912.449951171875, 1898.530029296875, 1866.780029296875, 1855.3199462890625, 1823.239990234375, 1765.1300048828125, 1787.8299560546875, 1793.4000244140625, 1832.8900146484375, 1807.5799560546875, 1784.9200439453125, 1824.3399658203125, 1762.9599609375, 1776.1199951171875, 1792.5699462890625, 1816.1199951171875, 1801.3800048828125, 1823.5400390625, 1804.6600341796875, 1749.6199951171875, 1768.8699951171875, 1761.8299560546875, 1764.25, 1786.4000244140625, 1776.2900390625, 1789.8399658203125, 1800.6199951171875, 1840.719970703125, 1833.510009765625, 1831.3499755859375, 1820.550048828125, 1822.989990234375, 1843.550048828125, 1839.3399658203125, 1807.8399658203125, 1822.550048828125, 1817.4599609375, 1821.5, 1794.1600341796875, 1785.300048828125, 1741.6099853515625, 1768.3299560546875, 1739.8399658203125, 1725.449951171875, 1735.9100341796875, 1735.6500244140625, 1713.22998046875, 1724.4200439453125, 1739.6500244140625, 1732.6600341796875, 1705.510009765625, 1721.989990234375, 1720.260009765625, 1731.9200439453125, 1736.4300537109375, 1767.3800048828125, 1777.4300537109375, 1787.47998046875, 1757.510009765625, 1785.6600341796875, 1765.72998046875, 1762.1700439453125, 1780.780029296875, 1761.3299560546875, 1777.0799560546875, 1762.7099609375, 1779.989990234375, 1776.6600341796875, 1791.43994140625, 1804.6600341796875, 1801.7099609375, 1795.77001953125, 1788.199951171875, 1785.8800048828125, 1771.6500244140625, 1778.0, 1753.1099853515625, 1754.5999755859375, 1739.489990234375, 1752.530029296875, 1752.7900390625, 1745.530029296875, 1734.7099609375, 1745.719970703125, 1773.8399658203125, 1796.93994140625, 1818.510009765625, 1800.800048828125, 1781.5999755859375, 1769.9599609375, 1760.68994140625, 1740.47998046875, 1751.5999755859375, 1749.510009765625, 1739.2099609375, 1748.719970703125, 1760.3299560546875, 1760.93994140625, 1769.2099609375, 1790.6600341796875, 1784.030029296875, 1792.280029296875, 1786.5, 1793.0, 1789.2099609375, 1868.77001953125, 1869.800048828125, 1846.8900146484375, 1847.8399658203125, 1898.010009765625, 1874.969970703125, 1902.8800048828125, 1906.8599853515625, 1891.969970703125, 1901.050048828125, 1883.1600341796875, 1891.300048828125, 1869.43994140625, 1862.02001953125, 1877.93994140625, 1864.719970703125, 1892.0, 1887.4599609375, 1884.5799560546875, 1861.6400146484375, 1828.3399658203125, 1853.25, 1858.0, 1870.6800537109375, 2008.719970703125, 2004.199951171875, 2049.669921875, 2039.8699951171875, 2050.22998046875, 2079.280029296875, 2133.909912109375, 2150.800048828125, 2160.0, 2149.8701171875, 2134.8701171875, 2155.669921875, 2170.219970703125, 2153.10009765625, 2095.969970703125, 2009.2900390625, 1972.739990234375, 1979.5899658203125, 1884.300048828125, 1883.75, 1953.949951171875, 1908.989990234375, 1975.8299560546875, 1924.030029296875, 1901.0899658203125, 1800.6099853515625, 1891.8199462890625, 1820.8599853515625, 1676.6099853515625, 1785.0, 1689.1500244140625, 1807.8399658203125, 1830.0, 1880.9300537109375, 1846.0899658203125, 1902.8299560546875, 1940.0999755859375, 1885.8399658203125, 1955.489990234375, 1900.0999755859375, 1963.949951171875, 1949.719970703125, 1907.699951171875, 1918.8299560546875, 1906.5899658203125, 1997.5899658203125, 2011.5999755859375, 2043.0, 2042.760009765625, 2168.8701171875, 2283.320068359375, 2307.679931640625, 2408.18994140625, 2375.0, 2393.610107421875, 2328.1201171875, 2363.489990234375, 2399.449951171875, 2410.219970703125, 2376.0, 2314.080078125, 2372.7099609375, 2474.0, 2286.0400390625, 2315.989990234375, 2317.800048828125, 2351.260009765625, 2367.610107421875, 2379.610107421875, 2409.0, 2356.949951171875, 2367.919921875, 2388.85009765625, 2409.780029296875, 2426.260009765625, 2449.330078125, 2497.93994140625, 2446.739990234375, 2436.8798828125, 2421.860107421875, 2410.389892578125, 2401.10009765625, 2442.3701171875, 2471.0400390625, 2472.409912109375, 2478.39990234375, 2460.60009765625, 2483.0, 2524.06005859375, 2600.860107421875, 2647.449951171875, 2557.9599609375, 2545.02001953125, 2572.679931640625, 2615.27001953125, 2640.97998046875, 2653.97998046875, 2675.010009765625, 2713.820068359375, 2764.409912109375, 2734.39990234375, 2754.580078125, 2692.8701171875, 2680.3798828125]}, {\"line\": {\"color\": \"rgba(55, 128, 191, 1.0)\", \"dash\": \"solid\", \"shape\": \"linear\", \"width\": 1.3}, \"mode\": \"lines\", \"name\": \"AAPL\", \"text\": \"\", \"type\": \"scatter\", \"x\": [\"2019-05-31\", \"2019-06-03\", \"2019-06-04\", \"2019-06-05\", \"2019-06-06\", \"2019-06-07\", \"2019-06-10\", \"2019-06-11\", \"2019-06-12\", \"2019-06-13\", \"2019-06-14\", \"2019-06-17\", \"2019-06-18\", \"2019-06-19\", \"2019-06-20\", \"2019-06-21\", \"2019-06-24\", \"2019-06-25\", \"2019-06-26\", \"2019-06-27\", \"2019-06-28\", \"2019-07-01\", \"2019-07-02\", \"2019-07-03\", \"2019-07-05\", \"2019-07-08\", \"2019-07-09\", \"2019-07-10\", \"2019-07-11\", \"2019-07-12\", \"2019-07-15\", \"2019-07-16\", \"2019-07-17\", \"2019-07-18\", \"2019-07-19\", \"2019-07-22\", \"2019-07-23\", \"2019-07-24\", \"2019-07-25\", \"2019-07-26\", \"2019-07-29\", \"2019-07-30\", \"2019-07-31\", \"2019-08-01\", \"2019-08-02\", \"2019-08-05\", \"2019-08-06\", \"2019-08-07\", \"2019-08-08\", \"2019-08-09\", \"2019-08-12\", \"2019-08-13\", \"2019-08-14\", \"2019-08-15\", \"2019-08-16\", \"2019-08-19\", \"2019-08-20\", \"2019-08-21\", \"2019-08-22\", \"2019-08-23\", \"2019-08-26\", \"2019-08-27\", \"2019-08-28\", \"2019-08-29\", \"2019-08-30\", \"2019-09-03\", \"2019-09-04\", \"2019-09-05\", \"2019-09-06\", \"2019-09-09\", \"2019-09-10\", \"2019-09-11\", \"2019-09-12\", \"2019-09-13\", \"2019-09-16\", \"2019-09-17\", \"2019-09-18\", \"2019-09-19\", \"2019-09-20\", \"2019-09-23\", \"2019-09-24\", \"2019-09-25\", \"2019-09-26\", \"2019-09-27\", \"2019-09-30\", \"2019-10-01\", \"2019-10-02\", \"2019-10-03\", \"2019-10-04\", \"2019-10-07\", \"2019-10-08\", \"2019-10-09\", \"2019-10-10\", \"2019-10-11\", \"2019-10-14\", \"2019-10-15\", \"2019-10-16\", \"2019-10-17\", \"2019-10-18\", \"2019-10-21\", \"2019-10-22\", \"2019-10-23\", \"2019-10-24\", \"2019-10-25\", \"2019-10-28\", \"2019-10-29\", \"2019-10-30\", \"2019-10-31\", \"2019-11-01\", \"2019-11-04\", \"2019-11-05\", \"2019-11-06\", \"2019-11-07\", \"2019-11-08\", \"2019-11-11\", \"2019-11-12\", \"2019-11-13\", \"2019-11-14\", \"2019-11-15\", \"2019-11-18\", \"2019-11-19\", \"2019-11-20\", \"2019-11-21\", \"2019-11-22\", \"2019-11-25\", \"2019-11-26\", \"2019-11-27\", \"2019-11-29\", \"2019-12-02\", \"2019-12-03\", \"2019-12-04\", \"2019-12-05\", \"2019-12-06\", \"2019-12-09\", \"2019-12-10\", \"2019-12-11\", \"2019-12-12\", \"2019-12-13\", \"2019-12-16\", \"2019-12-17\", \"2019-12-18\", \"2019-12-19\", \"2019-12-20\", \"2019-12-23\", \"2019-12-24\", \"2019-12-26\", \"2019-12-27\", \"2019-12-30\", \"2019-12-31\", \"2020-01-02\", \"2020-01-03\", \"2020-01-06\", \"2020-01-07\", \"2020-01-08\", \"2020-01-09\", \"2020-01-10\", \"2020-01-13\", \"2020-01-14\", \"2020-01-15\", \"2020-01-16\", \"2020-01-17\", \"2020-01-21\", \"2020-01-22\", \"2020-01-23\", \"2020-01-24\", \"2020-01-27\", \"2020-01-28\", \"2020-01-29\", \"2020-01-30\", \"2020-01-31\", \"2020-02-03\", \"2020-02-04\", \"2020-02-05\", \"2020-02-06\", \"2020-02-07\", \"2020-02-10\", \"2020-02-11\", \"2020-02-12\", \"2020-02-13\", \"2020-02-14\", \"2020-02-18\", \"2020-02-19\", \"2020-02-20\", \"2020-02-21\", \"2020-02-24\", \"2020-02-25\", \"2020-02-26\", \"2020-02-27\", \"2020-02-28\", \"2020-03-02\", \"2020-03-03\", \"2020-03-04\", \"2020-03-05\", \"2020-03-06\", \"2020-03-09\", \"2020-03-10\", \"2020-03-11\", \"2020-03-12\", \"2020-03-13\", \"2020-03-16\", \"2020-03-17\", \"2020-03-18\", \"2020-03-19\", \"2020-03-20\", \"2020-03-23\", \"2020-03-24\", \"2020-03-25\", \"2020-03-26\", \"2020-03-27\", \"2020-03-30\", \"2020-03-31\", \"2020-04-01\", \"2020-04-02\", \"2020-04-03\", \"2020-04-06\", \"2020-04-07\", \"2020-04-08\", \"2020-04-09\", \"2020-04-13\", \"2020-04-14\", \"2020-04-15\", \"2020-04-16\", \"2020-04-17\", \"2020-04-20\", \"2020-04-21\", \"2020-04-22\", \"2020-04-23\", \"2020-04-24\", \"2020-04-27\", \"2020-04-28\", \"2020-04-29\", \"2020-04-30\", \"2020-05-01\", \"2020-05-04\", \"2020-05-05\", \"2020-05-06\", \"2020-05-07\", \"2020-05-08\", \"2020-05-11\", \"2020-05-12\", \"2020-05-13\", \"2020-05-14\", \"2020-05-15\", \"2020-05-18\", \"2020-05-19\", \"2020-05-20\", \"2020-05-21\", \"2020-05-22\", \"2020-05-26\", \"2020-05-27\", \"2020-05-28\", \"2020-05-29\", \"2020-06-01\", \"2020-06-02\", \"2020-06-03\", \"2020-06-04\", \"2020-06-05\", \"2020-06-08\", \"2020-06-09\", \"2020-06-10\", \"2020-06-11\", \"2020-06-12\", \"2020-06-15\", \"2020-06-16\", \"2020-06-17\", \"2020-06-18\", \"2020-06-19\", \"2020-06-22\", \"2020-06-23\", \"2020-06-24\", \"2020-06-25\", \"2020-06-26\", \"2020-06-29\"], \"xaxis\": \"x\", \"y\": [43.099117279052734, 42.66337585449219, 44.22417449951172, 44.9380989074707, 45.59786605834961, 46.81155014038086, 47.409767150878906, 47.9587516784668, 47.80612564086914, 47.79627227783203, 47.449153900146484, 47.732269287109375, 48.8548583984375, 48.71207046508789, 49.10350036621094, 48.936092376708984, 48.886863708496094, 48.14585494995117, 49.18720626831055, 49.17243576049805, 48.72438430786133, 49.61802673339844, 49.908512115478516, 50.32210159301758, 50.27779006958008, 49.24135971069336, 49.54171371459961, 50.031612396240234, 49.667259216308594, 50.04884719848633, 50.51905059814453, 50.34425735473633, 50.061153411865234, 50.62983322143555, 49.874053955078125, 51.01387405395508, 51.412689208984375, 51.370849609375, 50.96464157104492, 51.14189147949219, 51.61948013305664, 51.397918701171875, 52.446659088134766, 51.3117561340332, 50.22609329223633, 47.596858978271484, 48.497894287109375, 49.00010299682617, 50.08084487915039, 49.66815948486328, 49.5421257019043, 51.64015579223633, 50.10308837890625, 49.85350036621094, 51.02977752685547, 51.98118209838867, 51.9836540222168, 52.547080993652344, 52.50259780883789, 50.075904846191406, 51.027305603027344, 50.45151901245117, 50.79007339477539, 51.65003967285156, 51.58332443237305, 50.83208084106445, 51.694522857666016, 52.70523452758789, 52.700286865234375, 52.9251708984375, 53.55037307739258, 55.25301742553711, 55.129459381103516, 54.05696487426758, 54.34115219116211, 54.53884506225586, 55.050384521484375, 54.60310363769531, 53.804901123046875, 54.049556732177734, 53.79254913330078, 54.62039566040039, 54.33868408203125, 54.07426834106445, 55.346920013427734, 55.5001335144043, 54.108863830566406, 54.56849670410156, 56.0981559753418, 56.11051559448242, 55.45317840576172, 56.10309982299805, 56.859283447265625, 58.37164306640625, 58.287620544433594, 58.151710510253906, 57.91694641113281, 58.14181900024414, 58.42106628417969, 59.43424606323242, 59.298336029052734, 60.09404754638672, 60.192893981933594, 60.93425369262695, 61.54462814331055, 60.12123107910156, 60.11381530761719, 61.47296142578125, 63.21761703491211, 63.63276672363281, 63.541343688964844, 63.568519592285156, 64.30218505859375, 64.47816467285156, 64.98876953125, 64.92926788330078, 65.55139923095703, 65.09781646728516, 65.87113952636719, 66.2032699584961, 66.00250244140625, 65.23414611816406, 64.94166564941406, 64.88465118408203, 66.02232360839844, 65.50679016113281, 66.38668060302734, 66.24044799804688, 65.47456359863281, 64.3071517944336, 64.87474060058594, 65.82652282714844, 67.09803009033203, 66.15865325927734, 66.54531860351562, 67.1129150390625, 67.28392791748047, 68.19853973388672, 69.36595153808594, 69.50227355957031, 69.33621215820312, 69.40560913085938, 69.26185607910156, 70.39208984375, 70.4590072631836, 71.85694122314453, 71.82967376708984, 72.25599670410156, 72.783935546875, 74.4446029663086, 73.72084045410156, 74.30826568603516, 73.95879364013672, 75.14852142333984, 76.7447280883789, 76.91822052001953, 78.56153106689453, 77.50070190429688, 77.16856384277344, 78.13522338867188, 79.000244140625, 78.46488189697266, 78.74495697021484, 79.12418365478516, 78.89614868164062, 76.57618713378906, 78.74247741699219, 80.3907470703125, 80.27424621582031, 76.7149887084961, 76.50431060791016, 79.02999877929688, 79.6744384765625, 80.60638427734375, 79.51072692871094, 79.88835906982422, 79.4063720703125, 81.29209899902344, 80.71321868896484, 80.73308563232422, 79.25482177734375, 80.40264892578125, 79.57780456542969, 77.77655792236328, 74.08214569091797, 71.57282257080078, 72.70822143554688, 67.9554214477539, 67.91566467285156, 74.23866271972656, 71.88089752197266, 75.2150650024414, 72.77530670166016, 71.80884552001953, 66.12933349609375, 70.89207458496094, 68.4299545288086, 61.672176361083984, 69.0610122680664, 60.1765251159668, 62.82249069213867, 61.28459930419922, 60.815032958984375, 56.95415496826172, 55.74421691894531, 61.33677291870117, 60.99888610839844, 64.20883178710938, 61.550437927246094, 63.30696105957031, 63.17776870727539, 59.853538513183594, 60.852294921875, 59.97776794433594, 65.21006774902344, 64.45479583740234, 66.10448455810547, 66.58150482177734, 67.88833618164062, 71.31690979003906, 70.66598510742188, 71.22747039794922, 70.26101684570312, 68.80261993408203, 66.67591094970703, 68.5964126586914, 68.33058166503906, 70.30325317382812, 70.35294342041016, 69.21255493164062, 71.4858627319336, 72.99393463134766, 71.81878662109375, 72.83493041992188, 73.9281005859375, 74.69084167480469, 75.46350860595703, 77.25967407226562, 78.47537231445312, 77.57853698730469, 76.64185333251953, 77.11268615722656, 76.65679168701172, 78.4629135131836, 78.009521484375, 79.52666473388672, 78.93375396728516, 79.44196319580078, 78.90386199951172, 79.24764251708984, 79.28252410888672, 79.2052993774414, 80.17935943603516, 80.55054473876953, 80.99398040771484, 80.29644775390625, 82.5833740234375, 83.07164001464844, 85.69487762451172, 87.89958953857422, 83.67949676513672, 84.40194702148438, 85.44575500488281, 87.71025848388672, 87.58819580078125, 87.62307739257812, 87.1223373413086, 89.40178680419922, 91.31005096435547, 89.6982421875, 90.8890380859375, 88.09640502929688, 90.1267318725586], \"yaxis\": \"y2\"}],                        {\"legend\": {\"bgcolor\": \"#F5F6F9\", \"font\": {\"color\": \"#4D5663\"}}, \"paper_bgcolor\": \"#F5F6F9\", \"plot_bgcolor\": \"#F5F6F9\", \"template\": {\"data\": {\"bar\": [{\"error_x\": {\"color\": \"#2a3f5f\"}, \"error_y\": {\"color\": \"#2a3f5f\"}, \"marker\": {\"line\": {\"color\": \"#E5ECF6\", \"width\": 0.5}}, \"type\": \"bar\"}], \"barpolar\": [{\"marker\": {\"line\": {\"color\": \"#E5ECF6\", \"width\": 0.5}}, \"type\": \"barpolar\"}], \"carpet\": [{\"aaxis\": {\"endlinecolor\": \"#2a3f5f\", \"gridcolor\": \"white\", \"linecolor\": \"white\", \"minorgridcolor\": \"white\", \"startlinecolor\": \"#2a3f5f\"}, \"baxis\": {\"endlinecolor\": \"#2a3f5f\", \"gridcolor\": \"white\", \"linecolor\": \"white\", \"minorgridcolor\": \"white\", \"startlinecolor\": \"#2a3f5f\"}, \"type\": \"carpet\"}], \"choropleth\": [{\"colorbar\": {\"outlinewidth\": 0, \"ticks\": \"\"}, \"type\": \"choropleth\"}], \"contour\": [{\"colorbar\": {\"outlinewidth\": 0, \"ticks\": \"\"}, \"colorscale\": [[0.0, \"#0d0887\"], [0.1111111111111111, \"#46039f\"], [0.2222222222222222, \"#7201a8\"], [0.3333333333333333, \"#9c179e\"], [0.4444444444444444, \"#bd3786\"], [0.5555555555555556, \"#d8576b\"], [0.6666666666666666, \"#ed7953\"], [0.7777777777777778, \"#fb9f3a\"], [0.8888888888888888, \"#fdca26\"], [1.0, \"#f0f921\"]], \"type\": \"contour\"}], \"contourcarpet\": [{\"colorbar\": {\"outlinewidth\": 0, \"ticks\": \"\"}, \"type\": \"contourcarpet\"}], \"heatmap\": [{\"colorbar\": {\"outlinewidth\": 0, \"ticks\": \"\"}, \"colorscale\": [[0.0, \"#0d0887\"], [0.1111111111111111, \"#46039f\"], [0.2222222222222222, \"#7201a8\"], [0.3333333333333333, \"#9c179e\"], [0.4444444444444444, \"#bd3786\"], [0.5555555555555556, \"#d8576b\"], [0.6666666666666666, \"#ed7953\"], [0.7777777777777778, \"#fb9f3a\"], [0.8888888888888888, \"#fdca26\"], [1.0, \"#f0f921\"]], \"type\": \"heatmap\"}], \"heatmapgl\": [{\"colorbar\": {\"outlinewidth\": 0, \"ticks\": \"\"}, \"colorscale\": [[0.0, \"#0d0887\"], [0.1111111111111111, \"#46039f\"], [0.2222222222222222, \"#7201a8\"], [0.3333333333333333, \"#9c179e\"], [0.4444444444444444, \"#bd3786\"], [0.5555555555555556, \"#d8576b\"], [0.6666666666666666, \"#ed7953\"], [0.7777777777777778, \"#fb9f3a\"], [0.8888888888888888, \"#fdca26\"], [1.0, \"#f0f921\"]], \"type\": \"heatmapgl\"}], \"histogram\": [{\"marker\": {\"colorbar\": {\"outlinewidth\": 0, \"ticks\": \"\"}}, \"type\": \"histogram\"}], \"histogram2d\": [{\"colorbar\": {\"outlinewidth\": 0, \"ticks\": \"\"}, \"colorscale\": [[0.0, \"#0d0887\"], [0.1111111111111111, \"#46039f\"], [0.2222222222222222, \"#7201a8\"], [0.3333333333333333, \"#9c179e\"], [0.4444444444444444, \"#bd3786\"], [0.5555555555555556, \"#d8576b\"], [0.6666666666666666, \"#ed7953\"], [0.7777777777777778, \"#fb9f3a\"], [0.8888888888888888, \"#fdca26\"], [1.0, \"#f0f921\"]], \"type\": \"histogram2d\"}], \"histogram2dcontour\": [{\"colorbar\": {\"outlinewidth\": 0, \"ticks\": \"\"}, \"colorscale\": [[0.0, \"#0d0887\"], [0.1111111111111111, \"#46039f\"], [0.2222222222222222, \"#7201a8\"], [0.3333333333333333, \"#9c179e\"], [0.4444444444444444, \"#bd3786\"], [0.5555555555555556, \"#d8576b\"], [0.6666666666666666, \"#ed7953\"], [0.7777777777777778, \"#fb9f3a\"], [0.8888888888888888, \"#fdca26\"], [1.0, \"#f0f921\"]], \"type\": \"histogram2dcontour\"}], \"mesh3d\": [{\"colorbar\": {\"outlinewidth\": 0, \"ticks\": \"\"}, \"type\": \"mesh3d\"}], \"parcoords\": [{\"line\": {\"colorbar\": {\"outlinewidth\": 0, \"ticks\": \"\"}}, \"type\": \"parcoords\"}], \"pie\": [{\"automargin\": true, \"type\": \"pie\"}], \"scatter\": [{\"marker\": {\"colorbar\": {\"outlinewidth\": 0, \"ticks\": \"\"}}, \"type\": \"scatter\"}], \"scatter3d\": [{\"line\": {\"colorbar\": {\"outlinewidth\": 0, \"ticks\": \"\"}}, \"marker\": {\"colorbar\": {\"outlinewidth\": 0, \"ticks\": \"\"}}, \"type\": \"scatter3d\"}], \"scattercarpet\": [{\"marker\": {\"colorbar\": {\"outlinewidth\": 0, \"ticks\": \"\"}}, \"type\": \"scattercarpet\"}], \"scattergeo\": [{\"marker\": {\"colorbar\": {\"outlinewidth\": 0, \"ticks\": \"\"}}, \"type\": \"scattergeo\"}], \"scattergl\": [{\"marker\": {\"colorbar\": {\"outlinewidth\": 0, \"ticks\": \"\"}}, \"type\": \"scattergl\"}], \"scattermapbox\": [{\"marker\": {\"colorbar\": {\"outlinewidth\": 0, \"ticks\": \"\"}}, \"type\": \"scattermapbox\"}], \"scatterpolar\": [{\"marker\": {\"colorbar\": {\"outlinewidth\": 0, \"ticks\": \"\"}}, \"type\": \"scatterpolar\"}], \"scatterpolargl\": [{\"marker\": {\"colorbar\": {\"outlinewidth\": 0, \"ticks\": \"\"}}, \"type\": \"scatterpolargl\"}], \"scatterternary\": [{\"marker\": {\"colorbar\": {\"outlinewidth\": 0, \"ticks\": \"\"}}, \"type\": \"scatterternary\"}], \"surface\": [{\"colorbar\": {\"outlinewidth\": 0, \"ticks\": \"\"}, \"colorscale\": [[0.0, \"#0d0887\"], [0.1111111111111111, \"#46039f\"], [0.2222222222222222, \"#7201a8\"], [0.3333333333333333, \"#9c179e\"], [0.4444444444444444, \"#bd3786\"], [0.5555555555555556, \"#d8576b\"], [0.6666666666666666, \"#ed7953\"], [0.7777777777777778, \"#fb9f3a\"], [0.8888888888888888, \"#fdca26\"], [1.0, \"#f0f921\"]], \"type\": \"surface\"}], \"table\": [{\"cells\": {\"fill\": {\"color\": \"#EBF0F8\"}, \"line\": {\"color\": \"white\"}}, \"header\": {\"fill\": {\"color\": \"#C8D4E3\"}, \"line\": {\"color\": \"white\"}}, \"type\": \"table\"}]}, \"layout\": {\"annotationdefaults\": {\"arrowcolor\": \"#2a3f5f\", \"arrowhead\": 0, \"arrowwidth\": 1}, \"autotypenumbers\": \"strict\", \"coloraxis\": {\"colorbar\": {\"outlinewidth\": 0, \"ticks\": \"\"}}, \"colorscale\": {\"diverging\": [[0, \"#8e0152\"], [0.1, \"#c51b7d\"], [0.2, \"#de77ae\"], [0.3, \"#f1b6da\"], [0.4, \"#fde0ef\"], [0.5, \"#f7f7f7\"], [0.6, \"#e6f5d0\"], [0.7, \"#b8e186\"], [0.8, \"#7fbc41\"], [0.9, \"#4d9221\"], [1, \"#276419\"]], \"sequential\": [[0.0, \"#0d0887\"], [0.1111111111111111, \"#46039f\"], [0.2222222222222222, \"#7201a8\"], [0.3333333333333333, \"#9c179e\"], [0.4444444444444444, \"#bd3786\"], [0.5555555555555556, \"#d8576b\"], [0.6666666666666666, \"#ed7953\"], [0.7777777777777778, \"#fb9f3a\"], [0.8888888888888888, \"#fdca26\"], [1.0, \"#f0f921\"]], \"sequentialminus\": [[0.0, \"#0d0887\"], [0.1111111111111111, \"#46039f\"], [0.2222222222222222, \"#7201a8\"], [0.3333333333333333, \"#9c179e\"], [0.4444444444444444, \"#bd3786\"], [0.5555555555555556, \"#d8576b\"], [0.6666666666666666, \"#ed7953\"], [0.7777777777777778, \"#fb9f3a\"], [0.8888888888888888, \"#fdca26\"], [1.0, \"#f0f921\"]]}, \"colorway\": [\"#636efa\", \"#EF553B\", \"#00cc96\", \"#ab63fa\", \"#FFA15A\", \"#19d3f3\", \"#FF6692\", \"#B6E880\", \"#FF97FF\", \"#FECB52\"], \"font\": {\"color\": \"#2a3f5f\"}, \"geo\": {\"bgcolor\": \"white\", \"lakecolor\": \"white\", \"landcolor\": \"#E5ECF6\", \"showlakes\": true, \"showland\": true, \"subunitcolor\": \"white\"}, \"hoverlabel\": {\"align\": \"left\"}, \"hovermode\": \"closest\", \"mapbox\": {\"style\": \"light\"}, \"paper_bgcolor\": \"white\", \"plot_bgcolor\": \"#E5ECF6\", \"polar\": {\"angularaxis\": {\"gridcolor\": \"white\", \"linecolor\": \"white\", \"ticks\": \"\"}, \"bgcolor\": \"#E5ECF6\", \"radialaxis\": {\"gridcolor\": \"white\", \"linecolor\": \"white\", \"ticks\": \"\"}}, \"scene\": {\"xaxis\": {\"backgroundcolor\": \"#E5ECF6\", \"gridcolor\": \"white\", \"gridwidth\": 2, \"linecolor\": \"white\", \"showbackground\": true, \"ticks\": \"\", \"zerolinecolor\": \"white\"}, \"yaxis\": {\"backgroundcolor\": \"#E5ECF6\", \"gridcolor\": \"white\", \"gridwidth\": 2, \"linecolor\": \"white\", \"showbackground\": true, \"ticks\": \"\", \"zerolinecolor\": \"white\"}, \"zaxis\": {\"backgroundcolor\": \"#E5ECF6\", \"gridcolor\": \"white\", \"gridwidth\": 2, \"linecolor\": \"white\", \"showbackground\": true, \"ticks\": \"\", \"zerolinecolor\": \"white\"}}, \"shapedefaults\": {\"line\": {\"color\": \"#2a3f5f\"}}, \"ternary\": {\"aaxis\": {\"gridcolor\": \"white\", \"linecolor\": \"white\", \"ticks\": \"\"}, \"baxis\": {\"gridcolor\": \"white\", \"linecolor\": \"white\", \"ticks\": \"\"}, \"bgcolor\": \"#E5ECF6\", \"caxis\": {\"gridcolor\": \"white\", \"linecolor\": \"white\", \"ticks\": \"\"}}, \"title\": {\"x\": 0.05}, \"xaxis\": {\"automargin\": true, \"gridcolor\": \"white\", \"linecolor\": \"white\", \"ticks\": \"\", \"title\": {\"standoff\": 15}, \"zerolinecolor\": \"white\", \"zerolinewidth\": 2}, \"yaxis\": {\"automargin\": true, \"gridcolor\": \"white\", \"linecolor\": \"white\", \"ticks\": \"\", \"title\": {\"standoff\": 15}, \"zerolinecolor\": \"white\", \"zerolinewidth\": 2}}}, \"title\": {\"font\": {\"color\": \"#4D5663\"}, \"text\": \"Amazon Vs Apple\"}, \"xaxis\": {\"gridcolor\": \"#E1E5ED\", \"showgrid\": true, \"tickfont\": {\"color\": \"#4D5663\"}, \"title\": {\"font\": {\"color\": \"#4D5663\"}, \"text\": \"\"}, \"zerolinecolor\": \"#E1E5ED\"}, \"yaxis\": {\"gridcolor\": \"#E1E5ED\", \"showgrid\": true, \"tickfont\": {\"color\": \"#4D5663\"}, \"title\": {\"font\": {\"color\": \"#4D5663\"}, \"text\": \"\"}, \"zerolinecolor\": \"#E1E5ED\"}, \"yaxis2\": {\"anchor\": \"x\", \"gridcolor\": \"#E1E5ED\", \"overlaying\": \"y\", \"showgrid\": true, \"side\": \"right\", \"tickfont\": {\"color\": \"#4D5663\"}, \"title\": {\"text\": \"\"}, \"zerolinecolor\": \"#E1E5ED\"}},                        {\"showLink\": true, \"linkText\": \"Export to plot.ly\", \"plotlyServerURL\": \"https://plot.ly\", \"responsive\": true}                    ).then(function(){\n",
       "                            \n",
       "var gd = document.getElementById('920d2707-f2d9-47d9-b7cf-91dde4680678');\n",
       "var x = new MutationObserver(function (mutations, observer) {{\n",
       "        var display = window.getComputedStyle(gd).display;\n",
       "        if (!display || display === 'none') {{\n",
       "            console.log([gd, 'removed!']);\n",
       "            Plotly.purge(gd);\n",
       "            observer.disconnect();\n",
       "        }}\n",
       "}});\n",
       "\n",
       "// Listen for the removal of the full notebook cells\n",
       "var notebookContainer = gd.closest('#notebook-container');\n",
       "if (notebookContainer) {{\n",
       "    x.observe(notebookContainer, {childList: true});\n",
       "}}\n",
       "\n",
       "// Listen for the clearing of the current output cell\n",
       "var outputEl = gd.closest('.output');\n",
       "if (outputEl) {{\n",
       "    x.observe(outputEl, {childList: true});\n",
       "}}\n",
       "\n",
       "                        })                };                });            </script>        </div>"
      ]
     },
     "metadata": {},
     "output_type": "display_data"
    }
   ],
   "source": [
    "\n",
    "# Use secondary axis\n",
    "df[['AMZN', 'AAPL']].iplot(title='Amazon Vs Apple',secondary_y='AAPL')\n",
    "\n"
   ]
  },
  {
   "cell_type": "markdown",
   "metadata": {},
   "source": [
    "\n",
    "<h3 id=\"Plotting-using-Subplots\">Plotting using Subplots<a class=\"anchor-link\" href=\"#Plotting-using-Subplots\">¶</a></h3>\n"
   ]
  },
  {
   "cell_type": "code",
   "execution_count": 71,
   "metadata": {},
   "outputs": [
    {
     "data": {
      "application/vnd.plotly.v1+json": {
       "config": {
        "linkText": "Export to plot.ly",
        "plotlyServerURL": "https://plot.ly",
        "showLink": true
       },
       "data": [
        {
         "line": {
          "color": "rgba(255, 153, 51, 1.0)",
          "dash": "solid",
          "shape": "linear",
          "width": 1.3
         },
         "mode": "lines",
         "name": "AMZN",
         "text": "",
         "type": "scatter",
         "x": [
          "2019-05-31",
          "2019-06-03",
          "2019-06-04",
          "2019-06-05",
          "2019-06-06",
          "2019-06-07",
          "2019-06-10",
          "2019-06-11",
          "2019-06-12",
          "2019-06-13",
          "2019-06-14",
          "2019-06-17",
          "2019-06-18",
          "2019-06-19",
          "2019-06-20",
          "2019-06-21",
          "2019-06-24",
          "2019-06-25",
          "2019-06-26",
          "2019-06-27",
          "2019-06-28",
          "2019-07-01",
          "2019-07-02",
          "2019-07-03",
          "2019-07-05",
          "2019-07-08",
          "2019-07-09",
          "2019-07-10",
          "2019-07-11",
          "2019-07-12",
          "2019-07-15",
          "2019-07-16",
          "2019-07-17",
          "2019-07-18",
          "2019-07-19",
          "2019-07-22",
          "2019-07-23",
          "2019-07-24",
          "2019-07-25",
          "2019-07-26",
          "2019-07-29",
          "2019-07-30",
          "2019-07-31",
          "2019-08-01",
          "2019-08-02",
          "2019-08-05",
          "2019-08-06",
          "2019-08-07",
          "2019-08-08",
          "2019-08-09",
          "2019-08-12",
          "2019-08-13",
          "2019-08-14",
          "2019-08-15",
          "2019-08-16",
          "2019-08-19",
          "2019-08-20",
          "2019-08-21",
          "2019-08-22",
          "2019-08-23",
          "2019-08-26",
          "2019-08-27",
          "2019-08-28",
          "2019-08-29",
          "2019-08-30",
          "2019-09-03",
          "2019-09-04",
          "2019-09-05",
          "2019-09-06",
          "2019-09-09",
          "2019-09-10",
          "2019-09-11",
          "2019-09-12",
          "2019-09-13",
          "2019-09-16",
          "2019-09-17",
          "2019-09-18",
          "2019-09-19",
          "2019-09-20",
          "2019-09-23",
          "2019-09-24",
          "2019-09-25",
          "2019-09-26",
          "2019-09-27",
          "2019-09-30",
          "2019-10-01",
          "2019-10-02",
          "2019-10-03",
          "2019-10-04",
          "2019-10-07",
          "2019-10-08",
          "2019-10-09",
          "2019-10-10",
          "2019-10-11",
          "2019-10-14",
          "2019-10-15",
          "2019-10-16",
          "2019-10-17",
          "2019-10-18",
          "2019-10-21",
          "2019-10-22",
          "2019-10-23",
          "2019-10-24",
          "2019-10-25",
          "2019-10-28",
          "2019-10-29",
          "2019-10-30",
          "2019-10-31",
          "2019-11-01",
          "2019-11-04",
          "2019-11-05",
          "2019-11-06",
          "2019-11-07",
          "2019-11-08",
          "2019-11-11",
          "2019-11-12",
          "2019-11-13",
          "2019-11-14",
          "2019-11-15",
          "2019-11-18",
          "2019-11-19",
          "2019-11-20",
          "2019-11-21",
          "2019-11-22",
          "2019-11-25",
          "2019-11-26",
          "2019-11-27",
          "2019-11-29",
          "2019-12-02",
          "2019-12-03",
          "2019-12-04",
          "2019-12-05",
          "2019-12-06",
          "2019-12-09",
          "2019-12-10",
          "2019-12-11",
          "2019-12-12",
          "2019-12-13",
          "2019-12-16",
          "2019-12-17",
          "2019-12-18",
          "2019-12-19",
          "2019-12-20",
          "2019-12-23",
          "2019-12-24",
          "2019-12-26",
          "2019-12-27",
          "2019-12-30",
          "2019-12-31",
          "2020-01-02",
          "2020-01-03",
          "2020-01-06",
          "2020-01-07",
          "2020-01-08",
          "2020-01-09",
          "2020-01-10",
          "2020-01-13",
          "2020-01-14",
          "2020-01-15",
          "2020-01-16",
          "2020-01-17",
          "2020-01-21",
          "2020-01-22",
          "2020-01-23",
          "2020-01-24",
          "2020-01-27",
          "2020-01-28",
          "2020-01-29",
          "2020-01-30",
          "2020-01-31",
          "2020-02-03",
          "2020-02-04",
          "2020-02-05",
          "2020-02-06",
          "2020-02-07",
          "2020-02-10",
          "2020-02-11",
          "2020-02-12",
          "2020-02-13",
          "2020-02-14",
          "2020-02-18",
          "2020-02-19",
          "2020-02-20",
          "2020-02-21",
          "2020-02-24",
          "2020-02-25",
          "2020-02-26",
          "2020-02-27",
          "2020-02-28",
          "2020-03-02",
          "2020-03-03",
          "2020-03-04",
          "2020-03-05",
          "2020-03-06",
          "2020-03-09",
          "2020-03-10",
          "2020-03-11",
          "2020-03-12",
          "2020-03-13",
          "2020-03-16",
          "2020-03-17",
          "2020-03-18",
          "2020-03-19",
          "2020-03-20",
          "2020-03-23",
          "2020-03-24",
          "2020-03-25",
          "2020-03-26",
          "2020-03-27",
          "2020-03-30",
          "2020-03-31",
          "2020-04-01",
          "2020-04-02",
          "2020-04-03",
          "2020-04-06",
          "2020-04-07",
          "2020-04-08",
          "2020-04-09",
          "2020-04-13",
          "2020-04-14",
          "2020-04-15",
          "2020-04-16",
          "2020-04-17",
          "2020-04-20",
          "2020-04-21",
          "2020-04-22",
          "2020-04-23",
          "2020-04-24",
          "2020-04-27",
          "2020-04-28",
          "2020-04-29",
          "2020-04-30",
          "2020-05-01",
          "2020-05-04",
          "2020-05-05",
          "2020-05-06",
          "2020-05-07",
          "2020-05-08",
          "2020-05-11",
          "2020-05-12",
          "2020-05-13",
          "2020-05-14",
          "2020-05-15",
          "2020-05-18",
          "2020-05-19",
          "2020-05-20",
          "2020-05-21",
          "2020-05-22",
          "2020-05-26",
          "2020-05-27",
          "2020-05-28",
          "2020-05-29",
          "2020-06-01",
          "2020-06-02",
          "2020-06-03",
          "2020-06-04",
          "2020-06-05",
          "2020-06-08",
          "2020-06-09",
          "2020-06-10",
          "2020-06-11",
          "2020-06-12",
          "2020-06-15",
          "2020-06-16",
          "2020-06-17",
          "2020-06-18",
          "2020-06-19",
          "2020-06-22",
          "2020-06-23",
          "2020-06-24",
          "2020-06-25",
          "2020-06-26",
          "2020-06-29"
         ],
         "xaxis": "x",
         "y": [
          1775.0699462890625,
          1692.68994140625,
          1729.56005859375,
          1738.5,
          1754.3599853515625,
          1804.030029296875,
          1860.6300048828125,
          1863.699951171875,
          1855.3199462890625,
          1870.300048828125,
          1869.6700439453125,
          1886.030029296875,
          1901.3699951171875,
          1908.7900390625,
          1918.18994140625,
          1911.300048828125,
          1913.9000244140625,
          1878.27001953125,
          1897.8299560546875,
          1904.280029296875,
          1893.6300048828125,
          1922.18994140625,
          1934.31005859375,
          1939,
          1942.9100341796875,
          1952.3199462890625,
          1988.300048828125,
          2017.4100341796875,
          2001.0699462890625,
          2011,
          2020.989990234375,
          2009.9000244140625,
          1992.030029296875,
          1977.9000244140625,
          1964.52001953125,
          1985.6300048828125,
          1994.489990234375,
          2000.81005859375,
          1973.8199462890625,
          1943.050048828125,
          1912.449951171875,
          1898.530029296875,
          1866.780029296875,
          1855.3199462890625,
          1823.239990234375,
          1765.1300048828125,
          1787.8299560546875,
          1793.4000244140625,
          1832.8900146484375,
          1807.5799560546875,
          1784.9200439453125,
          1824.3399658203125,
          1762.9599609375,
          1776.1199951171875,
          1792.5699462890625,
          1816.1199951171875,
          1801.3800048828125,
          1823.5400390625,
          1804.6600341796875,
          1749.6199951171875,
          1768.8699951171875,
          1761.8299560546875,
          1764.25,
          1786.4000244140625,
          1776.2900390625,
          1789.8399658203125,
          1800.6199951171875,
          1840.719970703125,
          1833.510009765625,
          1831.3499755859375,
          1820.550048828125,
          1822.989990234375,
          1843.550048828125,
          1839.3399658203125,
          1807.8399658203125,
          1822.550048828125,
          1817.4599609375,
          1821.5,
          1794.1600341796875,
          1785.300048828125,
          1741.6099853515625,
          1768.3299560546875,
          1739.8399658203125,
          1725.449951171875,
          1735.9100341796875,
          1735.6500244140625,
          1713.22998046875,
          1724.4200439453125,
          1739.6500244140625,
          1732.6600341796875,
          1705.510009765625,
          1721.989990234375,
          1720.260009765625,
          1731.9200439453125,
          1736.4300537109375,
          1767.3800048828125,
          1777.4300537109375,
          1787.47998046875,
          1757.510009765625,
          1785.6600341796875,
          1765.72998046875,
          1762.1700439453125,
          1780.780029296875,
          1761.3299560546875,
          1777.0799560546875,
          1762.7099609375,
          1779.989990234375,
          1776.6600341796875,
          1791.43994140625,
          1804.6600341796875,
          1801.7099609375,
          1795.77001953125,
          1788.199951171875,
          1785.8800048828125,
          1771.6500244140625,
          1778,
          1753.1099853515625,
          1754.5999755859375,
          1739.489990234375,
          1752.530029296875,
          1752.7900390625,
          1745.530029296875,
          1734.7099609375,
          1745.719970703125,
          1773.8399658203125,
          1796.93994140625,
          1818.510009765625,
          1800.800048828125,
          1781.5999755859375,
          1769.9599609375,
          1760.68994140625,
          1740.47998046875,
          1751.5999755859375,
          1749.510009765625,
          1739.2099609375,
          1748.719970703125,
          1760.3299560546875,
          1760.93994140625,
          1769.2099609375,
          1790.6600341796875,
          1784.030029296875,
          1792.280029296875,
          1786.5,
          1793,
          1789.2099609375,
          1868.77001953125,
          1869.800048828125,
          1846.8900146484375,
          1847.8399658203125,
          1898.010009765625,
          1874.969970703125,
          1902.8800048828125,
          1906.8599853515625,
          1891.969970703125,
          1901.050048828125,
          1883.1600341796875,
          1891.300048828125,
          1869.43994140625,
          1862.02001953125,
          1877.93994140625,
          1864.719970703125,
          1892,
          1887.4599609375,
          1884.5799560546875,
          1861.6400146484375,
          1828.3399658203125,
          1853.25,
          1858,
          1870.6800537109375,
          2008.719970703125,
          2004.199951171875,
          2049.669921875,
          2039.8699951171875,
          2050.22998046875,
          2079.280029296875,
          2133.909912109375,
          2150.800048828125,
          2160,
          2149.8701171875,
          2134.8701171875,
          2155.669921875,
          2170.219970703125,
          2153.10009765625,
          2095.969970703125,
          2009.2900390625,
          1972.739990234375,
          1979.5899658203125,
          1884.300048828125,
          1883.75,
          1953.949951171875,
          1908.989990234375,
          1975.8299560546875,
          1924.030029296875,
          1901.0899658203125,
          1800.6099853515625,
          1891.8199462890625,
          1820.8599853515625,
          1676.6099853515625,
          1785,
          1689.1500244140625,
          1807.8399658203125,
          1830,
          1880.9300537109375,
          1846.0899658203125,
          1902.8299560546875,
          1940.0999755859375,
          1885.8399658203125,
          1955.489990234375,
          1900.0999755859375,
          1963.949951171875,
          1949.719970703125,
          1907.699951171875,
          1918.8299560546875,
          1906.5899658203125,
          1997.5899658203125,
          2011.5999755859375,
          2043,
          2042.760009765625,
          2168.8701171875,
          2283.320068359375,
          2307.679931640625,
          2408.18994140625,
          2375,
          2393.610107421875,
          2328.1201171875,
          2363.489990234375,
          2399.449951171875,
          2410.219970703125,
          2376,
          2314.080078125,
          2372.7099609375,
          2474,
          2286.0400390625,
          2315.989990234375,
          2317.800048828125,
          2351.260009765625,
          2367.610107421875,
          2379.610107421875,
          2409,
          2356.949951171875,
          2367.919921875,
          2388.85009765625,
          2409.780029296875,
          2426.260009765625,
          2449.330078125,
          2497.93994140625,
          2446.739990234375,
          2436.8798828125,
          2421.860107421875,
          2410.389892578125,
          2401.10009765625,
          2442.3701171875,
          2471.0400390625,
          2472.409912109375,
          2478.39990234375,
          2460.60009765625,
          2483,
          2524.06005859375,
          2600.860107421875,
          2647.449951171875,
          2557.9599609375,
          2545.02001953125,
          2572.679931640625,
          2615.27001953125,
          2640.97998046875,
          2653.97998046875,
          2675.010009765625,
          2713.820068359375,
          2764.409912109375,
          2734.39990234375,
          2754.580078125,
          2692.8701171875,
          2680.3798828125
         ],
         "yaxis": "y"
        },
        {
         "line": {
          "color": "rgba(55, 128, 191, 1.0)",
          "dash": "solid",
          "shape": "linear",
          "width": 1.3
         },
         "mode": "lines",
         "name": "AAPL",
         "text": "",
         "type": "scatter",
         "x": [
          "2019-05-31",
          "2019-06-03",
          "2019-06-04",
          "2019-06-05",
          "2019-06-06",
          "2019-06-07",
          "2019-06-10",
          "2019-06-11",
          "2019-06-12",
          "2019-06-13",
          "2019-06-14",
          "2019-06-17",
          "2019-06-18",
          "2019-06-19",
          "2019-06-20",
          "2019-06-21",
          "2019-06-24",
          "2019-06-25",
          "2019-06-26",
          "2019-06-27",
          "2019-06-28",
          "2019-07-01",
          "2019-07-02",
          "2019-07-03",
          "2019-07-05",
          "2019-07-08",
          "2019-07-09",
          "2019-07-10",
          "2019-07-11",
          "2019-07-12",
          "2019-07-15",
          "2019-07-16",
          "2019-07-17",
          "2019-07-18",
          "2019-07-19",
          "2019-07-22",
          "2019-07-23",
          "2019-07-24",
          "2019-07-25",
          "2019-07-26",
          "2019-07-29",
          "2019-07-30",
          "2019-07-31",
          "2019-08-01",
          "2019-08-02",
          "2019-08-05",
          "2019-08-06",
          "2019-08-07",
          "2019-08-08",
          "2019-08-09",
          "2019-08-12",
          "2019-08-13",
          "2019-08-14",
          "2019-08-15",
          "2019-08-16",
          "2019-08-19",
          "2019-08-20",
          "2019-08-21",
          "2019-08-22",
          "2019-08-23",
          "2019-08-26",
          "2019-08-27",
          "2019-08-28",
          "2019-08-29",
          "2019-08-30",
          "2019-09-03",
          "2019-09-04",
          "2019-09-05",
          "2019-09-06",
          "2019-09-09",
          "2019-09-10",
          "2019-09-11",
          "2019-09-12",
          "2019-09-13",
          "2019-09-16",
          "2019-09-17",
          "2019-09-18",
          "2019-09-19",
          "2019-09-20",
          "2019-09-23",
          "2019-09-24",
          "2019-09-25",
          "2019-09-26",
          "2019-09-27",
          "2019-09-30",
          "2019-10-01",
          "2019-10-02",
          "2019-10-03",
          "2019-10-04",
          "2019-10-07",
          "2019-10-08",
          "2019-10-09",
          "2019-10-10",
          "2019-10-11",
          "2019-10-14",
          "2019-10-15",
          "2019-10-16",
          "2019-10-17",
          "2019-10-18",
          "2019-10-21",
          "2019-10-22",
          "2019-10-23",
          "2019-10-24",
          "2019-10-25",
          "2019-10-28",
          "2019-10-29",
          "2019-10-30",
          "2019-10-31",
          "2019-11-01",
          "2019-11-04",
          "2019-11-05",
          "2019-11-06",
          "2019-11-07",
          "2019-11-08",
          "2019-11-11",
          "2019-11-12",
          "2019-11-13",
          "2019-11-14",
          "2019-11-15",
          "2019-11-18",
          "2019-11-19",
          "2019-11-20",
          "2019-11-21",
          "2019-11-22",
          "2019-11-25",
          "2019-11-26",
          "2019-11-27",
          "2019-11-29",
          "2019-12-02",
          "2019-12-03",
          "2019-12-04",
          "2019-12-05",
          "2019-12-06",
          "2019-12-09",
          "2019-12-10",
          "2019-12-11",
          "2019-12-12",
          "2019-12-13",
          "2019-12-16",
          "2019-12-17",
          "2019-12-18",
          "2019-12-19",
          "2019-12-20",
          "2019-12-23",
          "2019-12-24",
          "2019-12-26",
          "2019-12-27",
          "2019-12-30",
          "2019-12-31",
          "2020-01-02",
          "2020-01-03",
          "2020-01-06",
          "2020-01-07",
          "2020-01-08",
          "2020-01-09",
          "2020-01-10",
          "2020-01-13",
          "2020-01-14",
          "2020-01-15",
          "2020-01-16",
          "2020-01-17",
          "2020-01-21",
          "2020-01-22",
          "2020-01-23",
          "2020-01-24",
          "2020-01-27",
          "2020-01-28",
          "2020-01-29",
          "2020-01-30",
          "2020-01-31",
          "2020-02-03",
          "2020-02-04",
          "2020-02-05",
          "2020-02-06",
          "2020-02-07",
          "2020-02-10",
          "2020-02-11",
          "2020-02-12",
          "2020-02-13",
          "2020-02-14",
          "2020-02-18",
          "2020-02-19",
          "2020-02-20",
          "2020-02-21",
          "2020-02-24",
          "2020-02-25",
          "2020-02-26",
          "2020-02-27",
          "2020-02-28",
          "2020-03-02",
          "2020-03-03",
          "2020-03-04",
          "2020-03-05",
          "2020-03-06",
          "2020-03-09",
          "2020-03-10",
          "2020-03-11",
          "2020-03-12",
          "2020-03-13",
          "2020-03-16",
          "2020-03-17",
          "2020-03-18",
          "2020-03-19",
          "2020-03-20",
          "2020-03-23",
          "2020-03-24",
          "2020-03-25",
          "2020-03-26",
          "2020-03-27",
          "2020-03-30",
          "2020-03-31",
          "2020-04-01",
          "2020-04-02",
          "2020-04-03",
          "2020-04-06",
          "2020-04-07",
          "2020-04-08",
          "2020-04-09",
          "2020-04-13",
          "2020-04-14",
          "2020-04-15",
          "2020-04-16",
          "2020-04-17",
          "2020-04-20",
          "2020-04-21",
          "2020-04-22",
          "2020-04-23",
          "2020-04-24",
          "2020-04-27",
          "2020-04-28",
          "2020-04-29",
          "2020-04-30",
          "2020-05-01",
          "2020-05-04",
          "2020-05-05",
          "2020-05-06",
          "2020-05-07",
          "2020-05-08",
          "2020-05-11",
          "2020-05-12",
          "2020-05-13",
          "2020-05-14",
          "2020-05-15",
          "2020-05-18",
          "2020-05-19",
          "2020-05-20",
          "2020-05-21",
          "2020-05-22",
          "2020-05-26",
          "2020-05-27",
          "2020-05-28",
          "2020-05-29",
          "2020-06-01",
          "2020-06-02",
          "2020-06-03",
          "2020-06-04",
          "2020-06-05",
          "2020-06-08",
          "2020-06-09",
          "2020-06-10",
          "2020-06-11",
          "2020-06-12",
          "2020-06-15",
          "2020-06-16",
          "2020-06-17",
          "2020-06-18",
          "2020-06-19",
          "2020-06-22",
          "2020-06-23",
          "2020-06-24",
          "2020-06-25",
          "2020-06-26",
          "2020-06-29"
         ],
         "xaxis": "x2",
         "y": [
          43.099117279052734,
          42.66337585449219,
          44.22417449951172,
          44.9380989074707,
          45.59786605834961,
          46.81155014038086,
          47.409767150878906,
          47.9587516784668,
          47.80612564086914,
          47.79627227783203,
          47.449153900146484,
          47.732269287109375,
          48.8548583984375,
          48.71207046508789,
          49.10350036621094,
          48.936092376708984,
          48.886863708496094,
          48.14585494995117,
          49.18720626831055,
          49.17243576049805,
          48.72438430786133,
          49.61802673339844,
          49.908512115478516,
          50.32210159301758,
          50.27779006958008,
          49.24135971069336,
          49.54171371459961,
          50.031612396240234,
          49.667259216308594,
          50.04884719848633,
          50.51905059814453,
          50.34425735473633,
          50.061153411865234,
          50.62983322143555,
          49.874053955078125,
          51.01387405395508,
          51.412689208984375,
          51.370849609375,
          50.96464157104492,
          51.14189147949219,
          51.61948013305664,
          51.397918701171875,
          52.446659088134766,
          51.3117561340332,
          50.22609329223633,
          47.596858978271484,
          48.497894287109375,
          49.00010299682617,
          50.08084487915039,
          49.66815948486328,
          49.5421257019043,
          51.64015579223633,
          50.10308837890625,
          49.85350036621094,
          51.02977752685547,
          51.98118209838867,
          51.9836540222168,
          52.547080993652344,
          52.50259780883789,
          50.075904846191406,
          51.027305603027344,
          50.45151901245117,
          50.79007339477539,
          51.65003967285156,
          51.58332443237305,
          50.83208084106445,
          51.694522857666016,
          52.70523452758789,
          52.700286865234375,
          52.9251708984375,
          53.55037307739258,
          55.25301742553711,
          55.129459381103516,
          54.05696487426758,
          54.34115219116211,
          54.53884506225586,
          55.050384521484375,
          54.60310363769531,
          53.804901123046875,
          54.049556732177734,
          53.79254913330078,
          54.62039566040039,
          54.33868408203125,
          54.07426834106445,
          55.346920013427734,
          55.5001335144043,
          54.108863830566406,
          54.56849670410156,
          56.0981559753418,
          56.11051559448242,
          55.45317840576172,
          56.10309982299805,
          56.859283447265625,
          58.37164306640625,
          58.287620544433594,
          58.151710510253906,
          57.91694641113281,
          58.14181900024414,
          58.42106628417969,
          59.43424606323242,
          59.298336029052734,
          60.09404754638672,
          60.192893981933594,
          60.93425369262695,
          61.54462814331055,
          60.12123107910156,
          60.11381530761719,
          61.47296142578125,
          63.21761703491211,
          63.63276672363281,
          63.541343688964844,
          63.568519592285156,
          64.30218505859375,
          64.47816467285156,
          64.98876953125,
          64.92926788330078,
          65.55139923095703,
          65.09781646728516,
          65.87113952636719,
          66.2032699584961,
          66.00250244140625,
          65.23414611816406,
          64.94166564941406,
          64.88465118408203,
          66.02232360839844,
          65.50679016113281,
          66.38668060302734,
          66.24044799804688,
          65.47456359863281,
          64.3071517944336,
          64.87474060058594,
          65.82652282714844,
          67.09803009033203,
          66.15865325927734,
          66.54531860351562,
          67.1129150390625,
          67.28392791748047,
          68.19853973388672,
          69.36595153808594,
          69.50227355957031,
          69.33621215820312,
          69.40560913085938,
          69.26185607910156,
          70.39208984375,
          70.4590072631836,
          71.85694122314453,
          71.82967376708984,
          72.25599670410156,
          72.783935546875,
          74.4446029663086,
          73.72084045410156,
          74.30826568603516,
          73.95879364013672,
          75.14852142333984,
          76.7447280883789,
          76.91822052001953,
          78.56153106689453,
          77.50070190429688,
          77.16856384277344,
          78.13522338867188,
          79.000244140625,
          78.46488189697266,
          78.74495697021484,
          79.12418365478516,
          78.89614868164062,
          76.57618713378906,
          78.74247741699219,
          80.3907470703125,
          80.27424621582031,
          76.7149887084961,
          76.50431060791016,
          79.02999877929688,
          79.6744384765625,
          80.60638427734375,
          79.51072692871094,
          79.88835906982422,
          79.4063720703125,
          81.29209899902344,
          80.71321868896484,
          80.73308563232422,
          79.25482177734375,
          80.40264892578125,
          79.57780456542969,
          77.77655792236328,
          74.08214569091797,
          71.57282257080078,
          72.70822143554688,
          67.9554214477539,
          67.91566467285156,
          74.23866271972656,
          71.88089752197266,
          75.2150650024414,
          72.77530670166016,
          71.80884552001953,
          66.12933349609375,
          70.89207458496094,
          68.4299545288086,
          61.672176361083984,
          69.0610122680664,
          60.1765251159668,
          62.82249069213867,
          61.28459930419922,
          60.815032958984375,
          56.95415496826172,
          55.74421691894531,
          61.33677291870117,
          60.99888610839844,
          64.20883178710938,
          61.550437927246094,
          63.30696105957031,
          63.17776870727539,
          59.853538513183594,
          60.852294921875,
          59.97776794433594,
          65.21006774902344,
          64.45479583740234,
          66.10448455810547,
          66.58150482177734,
          67.88833618164062,
          71.31690979003906,
          70.66598510742188,
          71.22747039794922,
          70.26101684570312,
          68.80261993408203,
          66.67591094970703,
          68.5964126586914,
          68.33058166503906,
          70.30325317382812,
          70.35294342041016,
          69.21255493164062,
          71.4858627319336,
          72.99393463134766,
          71.81878662109375,
          72.83493041992188,
          73.9281005859375,
          74.69084167480469,
          75.46350860595703,
          77.25967407226562,
          78.47537231445312,
          77.57853698730469,
          76.64185333251953,
          77.11268615722656,
          76.65679168701172,
          78.4629135131836,
          78.009521484375,
          79.52666473388672,
          78.93375396728516,
          79.44196319580078,
          78.90386199951172,
          79.24764251708984,
          79.28252410888672,
          79.2052993774414,
          80.17935943603516,
          80.55054473876953,
          80.99398040771484,
          80.29644775390625,
          82.5833740234375,
          83.07164001464844,
          85.69487762451172,
          87.89958953857422,
          83.67949676513672,
          84.40194702148438,
          85.44575500488281,
          87.71025848388672,
          87.58819580078125,
          87.62307739257812,
          87.1223373413086,
          89.40178680419922,
          91.31005096435547,
          89.6982421875,
          90.8890380859375,
          88.09640502929688,
          90.1267318725586
         ],
         "yaxis": "y2"
        }
       ],
       "layout": {
        "legend": {
         "bgcolor": "#F5F6F9",
         "font": {
          "color": "#4D5663"
         }
        },
        "paper_bgcolor": "#F5F6F9",
        "plot_bgcolor": "#F5F6F9",
        "template": {
         "data": {
          "bar": [
           {
            "error_x": {
             "color": "#2a3f5f"
            },
            "error_y": {
             "color": "#2a3f5f"
            },
            "marker": {
             "line": {
              "color": "#E5ECF6",
              "width": 0.5
             }
            },
            "type": "bar"
           }
          ],
          "barpolar": [
           {
            "marker": {
             "line": {
              "color": "#E5ECF6",
              "width": 0.5
             }
            },
            "type": "barpolar"
           }
          ],
          "carpet": [
           {
            "aaxis": {
             "endlinecolor": "#2a3f5f",
             "gridcolor": "white",
             "linecolor": "white",
             "minorgridcolor": "white",
             "startlinecolor": "#2a3f5f"
            },
            "baxis": {
             "endlinecolor": "#2a3f5f",
             "gridcolor": "white",
             "linecolor": "white",
             "minorgridcolor": "white",
             "startlinecolor": "#2a3f5f"
            },
            "type": "carpet"
           }
          ],
          "choropleth": [
           {
            "colorbar": {
             "outlinewidth": 0,
             "ticks": ""
            },
            "type": "choropleth"
           }
          ],
          "contour": [
           {
            "colorbar": {
             "outlinewidth": 0,
             "ticks": ""
            },
            "colorscale": [
             [
              0,
              "#0d0887"
             ],
             [
              0.1111111111111111,
              "#46039f"
             ],
             [
              0.2222222222222222,
              "#7201a8"
             ],
             [
              0.3333333333333333,
              "#9c179e"
             ],
             [
              0.4444444444444444,
              "#bd3786"
             ],
             [
              0.5555555555555556,
              "#d8576b"
             ],
             [
              0.6666666666666666,
              "#ed7953"
             ],
             [
              0.7777777777777778,
              "#fb9f3a"
             ],
             [
              0.8888888888888888,
              "#fdca26"
             ],
             [
              1,
              "#f0f921"
             ]
            ],
            "type": "contour"
           }
          ],
          "contourcarpet": [
           {
            "colorbar": {
             "outlinewidth": 0,
             "ticks": ""
            },
            "type": "contourcarpet"
           }
          ],
          "heatmap": [
           {
            "colorbar": {
             "outlinewidth": 0,
             "ticks": ""
            },
            "colorscale": [
             [
              0,
              "#0d0887"
             ],
             [
              0.1111111111111111,
              "#46039f"
             ],
             [
              0.2222222222222222,
              "#7201a8"
             ],
             [
              0.3333333333333333,
              "#9c179e"
             ],
             [
              0.4444444444444444,
              "#bd3786"
             ],
             [
              0.5555555555555556,
              "#d8576b"
             ],
             [
              0.6666666666666666,
              "#ed7953"
             ],
             [
              0.7777777777777778,
              "#fb9f3a"
             ],
             [
              0.8888888888888888,
              "#fdca26"
             ],
             [
              1,
              "#f0f921"
             ]
            ],
            "type": "heatmap"
           }
          ],
          "heatmapgl": [
           {
            "colorbar": {
             "outlinewidth": 0,
             "ticks": ""
            },
            "colorscale": [
             [
              0,
              "#0d0887"
             ],
             [
              0.1111111111111111,
              "#46039f"
             ],
             [
              0.2222222222222222,
              "#7201a8"
             ],
             [
              0.3333333333333333,
              "#9c179e"
             ],
             [
              0.4444444444444444,
              "#bd3786"
             ],
             [
              0.5555555555555556,
              "#d8576b"
             ],
             [
              0.6666666666666666,
              "#ed7953"
             ],
             [
              0.7777777777777778,
              "#fb9f3a"
             ],
             [
              0.8888888888888888,
              "#fdca26"
             ],
             [
              1,
              "#f0f921"
             ]
            ],
            "type": "heatmapgl"
           }
          ],
          "histogram": [
           {
            "marker": {
             "colorbar": {
              "outlinewidth": 0,
              "ticks": ""
             }
            },
            "type": "histogram"
           }
          ],
          "histogram2d": [
           {
            "colorbar": {
             "outlinewidth": 0,
             "ticks": ""
            },
            "colorscale": [
             [
              0,
              "#0d0887"
             ],
             [
              0.1111111111111111,
              "#46039f"
             ],
             [
              0.2222222222222222,
              "#7201a8"
             ],
             [
              0.3333333333333333,
              "#9c179e"
             ],
             [
              0.4444444444444444,
              "#bd3786"
             ],
             [
              0.5555555555555556,
              "#d8576b"
             ],
             [
              0.6666666666666666,
              "#ed7953"
             ],
             [
              0.7777777777777778,
              "#fb9f3a"
             ],
             [
              0.8888888888888888,
              "#fdca26"
             ],
             [
              1,
              "#f0f921"
             ]
            ],
            "type": "histogram2d"
           }
          ],
          "histogram2dcontour": [
           {
            "colorbar": {
             "outlinewidth": 0,
             "ticks": ""
            },
            "colorscale": [
             [
              0,
              "#0d0887"
             ],
             [
              0.1111111111111111,
              "#46039f"
             ],
             [
              0.2222222222222222,
              "#7201a8"
             ],
             [
              0.3333333333333333,
              "#9c179e"
             ],
             [
              0.4444444444444444,
              "#bd3786"
             ],
             [
              0.5555555555555556,
              "#d8576b"
             ],
             [
              0.6666666666666666,
              "#ed7953"
             ],
             [
              0.7777777777777778,
              "#fb9f3a"
             ],
             [
              0.8888888888888888,
              "#fdca26"
             ],
             [
              1,
              "#f0f921"
             ]
            ],
            "type": "histogram2dcontour"
           }
          ],
          "mesh3d": [
           {
            "colorbar": {
             "outlinewidth": 0,
             "ticks": ""
            },
            "type": "mesh3d"
           }
          ],
          "parcoords": [
           {
            "line": {
             "colorbar": {
              "outlinewidth": 0,
              "ticks": ""
             }
            },
            "type": "parcoords"
           }
          ],
          "pie": [
           {
            "automargin": true,
            "type": "pie"
           }
          ],
          "scatter": [
           {
            "marker": {
             "colorbar": {
              "outlinewidth": 0,
              "ticks": ""
             }
            },
            "type": "scatter"
           }
          ],
          "scatter3d": [
           {
            "line": {
             "colorbar": {
              "outlinewidth": 0,
              "ticks": ""
             }
            },
            "marker": {
             "colorbar": {
              "outlinewidth": 0,
              "ticks": ""
             }
            },
            "type": "scatter3d"
           }
          ],
          "scattercarpet": [
           {
            "marker": {
             "colorbar": {
              "outlinewidth": 0,
              "ticks": ""
             }
            },
            "type": "scattercarpet"
           }
          ],
          "scattergeo": [
           {
            "marker": {
             "colorbar": {
              "outlinewidth": 0,
              "ticks": ""
             }
            },
            "type": "scattergeo"
           }
          ],
          "scattergl": [
           {
            "marker": {
             "colorbar": {
              "outlinewidth": 0,
              "ticks": ""
             }
            },
            "type": "scattergl"
           }
          ],
          "scattermapbox": [
           {
            "marker": {
             "colorbar": {
              "outlinewidth": 0,
              "ticks": ""
             }
            },
            "type": "scattermapbox"
           }
          ],
          "scatterpolar": [
           {
            "marker": {
             "colorbar": {
              "outlinewidth": 0,
              "ticks": ""
             }
            },
            "type": "scatterpolar"
           }
          ],
          "scatterpolargl": [
           {
            "marker": {
             "colorbar": {
              "outlinewidth": 0,
              "ticks": ""
             }
            },
            "type": "scatterpolargl"
           }
          ],
          "scatterternary": [
           {
            "marker": {
             "colorbar": {
              "outlinewidth": 0,
              "ticks": ""
             }
            },
            "type": "scatterternary"
           }
          ],
          "surface": [
           {
            "colorbar": {
             "outlinewidth": 0,
             "ticks": ""
            },
            "colorscale": [
             [
              0,
              "#0d0887"
             ],
             [
              0.1111111111111111,
              "#46039f"
             ],
             [
              0.2222222222222222,
              "#7201a8"
             ],
             [
              0.3333333333333333,
              "#9c179e"
             ],
             [
              0.4444444444444444,
              "#bd3786"
             ],
             [
              0.5555555555555556,
              "#d8576b"
             ],
             [
              0.6666666666666666,
              "#ed7953"
             ],
             [
              0.7777777777777778,
              "#fb9f3a"
             ],
             [
              0.8888888888888888,
              "#fdca26"
             ],
             [
              1,
              "#f0f921"
             ]
            ],
            "type": "surface"
           }
          ],
          "table": [
           {
            "cells": {
             "fill": {
              "color": "#EBF0F8"
             },
             "line": {
              "color": "white"
             }
            },
            "header": {
             "fill": {
              "color": "#C8D4E3"
             },
             "line": {
              "color": "white"
             }
            },
            "type": "table"
           }
          ]
         },
         "layout": {
          "annotationdefaults": {
           "arrowcolor": "#2a3f5f",
           "arrowhead": 0,
           "arrowwidth": 1
          },
          "autotypenumbers": "strict",
          "coloraxis": {
           "colorbar": {
            "outlinewidth": 0,
            "ticks": ""
           }
          },
          "colorscale": {
           "diverging": [
            [
             0,
             "#8e0152"
            ],
            [
             0.1,
             "#c51b7d"
            ],
            [
             0.2,
             "#de77ae"
            ],
            [
             0.3,
             "#f1b6da"
            ],
            [
             0.4,
             "#fde0ef"
            ],
            [
             0.5,
             "#f7f7f7"
            ],
            [
             0.6,
             "#e6f5d0"
            ],
            [
             0.7,
             "#b8e186"
            ],
            [
             0.8,
             "#7fbc41"
            ],
            [
             0.9,
             "#4d9221"
            ],
            [
             1,
             "#276419"
            ]
           ],
           "sequential": [
            [
             0,
             "#0d0887"
            ],
            [
             0.1111111111111111,
             "#46039f"
            ],
            [
             0.2222222222222222,
             "#7201a8"
            ],
            [
             0.3333333333333333,
             "#9c179e"
            ],
            [
             0.4444444444444444,
             "#bd3786"
            ],
            [
             0.5555555555555556,
             "#d8576b"
            ],
            [
             0.6666666666666666,
             "#ed7953"
            ],
            [
             0.7777777777777778,
             "#fb9f3a"
            ],
            [
             0.8888888888888888,
             "#fdca26"
            ],
            [
             1,
             "#f0f921"
            ]
           ],
           "sequentialminus": [
            [
             0,
             "#0d0887"
            ],
            [
             0.1111111111111111,
             "#46039f"
            ],
            [
             0.2222222222222222,
             "#7201a8"
            ],
            [
             0.3333333333333333,
             "#9c179e"
            ],
            [
             0.4444444444444444,
             "#bd3786"
            ],
            [
             0.5555555555555556,
             "#d8576b"
            ],
            [
             0.6666666666666666,
             "#ed7953"
            ],
            [
             0.7777777777777778,
             "#fb9f3a"
            ],
            [
             0.8888888888888888,
             "#fdca26"
            ],
            [
             1,
             "#f0f921"
            ]
           ]
          },
          "colorway": [
           "#636efa",
           "#EF553B",
           "#00cc96",
           "#ab63fa",
           "#FFA15A",
           "#19d3f3",
           "#FF6692",
           "#B6E880",
           "#FF97FF",
           "#FECB52"
          ],
          "font": {
           "color": "#2a3f5f"
          },
          "geo": {
           "bgcolor": "white",
           "lakecolor": "white",
           "landcolor": "#E5ECF6",
           "showlakes": true,
           "showland": true,
           "subunitcolor": "white"
          },
          "hoverlabel": {
           "align": "left"
          },
          "hovermode": "closest",
          "mapbox": {
           "style": "light"
          },
          "paper_bgcolor": "white",
          "plot_bgcolor": "#E5ECF6",
          "polar": {
           "angularaxis": {
            "gridcolor": "white",
            "linecolor": "white",
            "ticks": ""
           },
           "bgcolor": "#E5ECF6",
           "radialaxis": {
            "gridcolor": "white",
            "linecolor": "white",
            "ticks": ""
           }
          },
          "scene": {
           "xaxis": {
            "backgroundcolor": "#E5ECF6",
            "gridcolor": "white",
            "gridwidth": 2,
            "linecolor": "white",
            "showbackground": true,
            "ticks": "",
            "zerolinecolor": "white"
           },
           "yaxis": {
            "backgroundcolor": "#E5ECF6",
            "gridcolor": "white",
            "gridwidth": 2,
            "linecolor": "white",
            "showbackground": true,
            "ticks": "",
            "zerolinecolor": "white"
           },
           "zaxis": {
            "backgroundcolor": "#E5ECF6",
            "gridcolor": "white",
            "gridwidth": 2,
            "linecolor": "white",
            "showbackground": true,
            "ticks": "",
            "zerolinecolor": "white"
           }
          },
          "shapedefaults": {
           "line": {
            "color": "#2a3f5f"
           }
          },
          "ternary": {
           "aaxis": {
            "gridcolor": "white",
            "linecolor": "white",
            "ticks": ""
           },
           "baxis": {
            "gridcolor": "white",
            "linecolor": "white",
            "ticks": ""
           },
           "bgcolor": "#E5ECF6",
           "caxis": {
            "gridcolor": "white",
            "linecolor": "white",
            "ticks": ""
           }
          },
          "title": {
           "x": 0.05
          },
          "xaxis": {
           "automargin": true,
           "gridcolor": "white",
           "linecolor": "white",
           "ticks": "",
           "title": {
            "standoff": 15
           },
           "zerolinecolor": "white",
           "zerolinewidth": 2
          },
          "yaxis": {
           "automargin": true,
           "gridcolor": "white",
           "linecolor": "white",
           "ticks": "",
           "title": {
            "standoff": 15
           },
           "zerolinecolor": "white",
           "zerolinewidth": 2
          }
         }
        },
        "title": {
         "font": {
          "color": "#4D5663"
         },
         "text": "Amazon Vs Apple Price Movement"
        },
        "xaxis": {
         "anchor": "y",
         "domain": [
          0,
          0.45
         ],
         "gridcolor": "#E1E5ED",
         "showgrid": true,
         "tickfont": {
          "color": "#4D5663"
         },
         "title": {
          "font": {
           "color": "#4D5663"
          },
          "text": ""
         },
         "zerolinecolor": "#E1E5ED"
        },
        "xaxis2": {
         "anchor": "y2",
         "domain": [
          0.55,
          1
         ],
         "gridcolor": "#E1E5ED",
         "showgrid": true,
         "tickfont": {
          "color": "#4D5663"
         },
         "title": {
          "font": {
           "color": "#4D5663"
          },
          "text": ""
         },
         "zerolinecolor": "#E1E5ED"
        },
        "yaxis": {
         "anchor": "x",
         "domain": [
          0,
          1
         ],
         "gridcolor": "#E1E5ED",
         "showgrid": true,
         "tickfont": {
          "color": "#4D5663"
         },
         "title": {
          "font": {
           "color": "#4D5663"
          },
          "text": ""
         },
         "zerolinecolor": "#E1E5ED"
        },
        "yaxis2": {
         "anchor": "x2",
         "domain": [
          0,
          1
         ],
         "gridcolor": "#E1E5ED",
         "showgrid": true,
         "tickfont": {
          "color": "#4D5663"
         },
         "title": {
          "font": {
           "color": "#4D5663"
          },
          "text": ""
         },
         "zerolinecolor": "#E1E5ED"
        }
       }
      },
      "text/html": [
       "<div>                            <div id=\"d013d78a-977a-41f8-8b30-49e23704c733\" class=\"plotly-graph-div\" style=\"height:525px; width:100%;\"></div>            <script type=\"text/javascript\">                require([\"plotly\"], function(Plotly) {                    window.PLOTLYENV=window.PLOTLYENV || {};\n",
       "                    window.PLOTLYENV.BASE_URL='https://plot.ly';                                    if (document.getElementById(\"d013d78a-977a-41f8-8b30-49e23704c733\")) {                    Plotly.newPlot(                        \"d013d78a-977a-41f8-8b30-49e23704c733\",                        [{\"line\": {\"color\": \"rgba(255, 153, 51, 1.0)\", \"dash\": \"solid\", \"shape\": \"linear\", \"width\": 1.3}, \"mode\": \"lines\", \"name\": \"AMZN\", \"text\": \"\", \"type\": \"scatter\", \"x\": [\"2019-05-31\", \"2019-06-03\", \"2019-06-04\", \"2019-06-05\", \"2019-06-06\", \"2019-06-07\", \"2019-06-10\", \"2019-06-11\", \"2019-06-12\", \"2019-06-13\", \"2019-06-14\", \"2019-06-17\", \"2019-06-18\", \"2019-06-19\", \"2019-06-20\", \"2019-06-21\", \"2019-06-24\", \"2019-06-25\", \"2019-06-26\", \"2019-06-27\", \"2019-06-28\", \"2019-07-01\", \"2019-07-02\", \"2019-07-03\", \"2019-07-05\", \"2019-07-08\", \"2019-07-09\", \"2019-07-10\", \"2019-07-11\", \"2019-07-12\", \"2019-07-15\", \"2019-07-16\", \"2019-07-17\", \"2019-07-18\", \"2019-07-19\", \"2019-07-22\", \"2019-07-23\", \"2019-07-24\", \"2019-07-25\", \"2019-07-26\", \"2019-07-29\", \"2019-07-30\", \"2019-07-31\", \"2019-08-01\", \"2019-08-02\", \"2019-08-05\", \"2019-08-06\", \"2019-08-07\", \"2019-08-08\", \"2019-08-09\", \"2019-08-12\", \"2019-08-13\", \"2019-08-14\", \"2019-08-15\", \"2019-08-16\", \"2019-08-19\", \"2019-08-20\", \"2019-08-21\", \"2019-08-22\", \"2019-08-23\", \"2019-08-26\", \"2019-08-27\", \"2019-08-28\", \"2019-08-29\", \"2019-08-30\", \"2019-09-03\", \"2019-09-04\", \"2019-09-05\", \"2019-09-06\", \"2019-09-09\", \"2019-09-10\", \"2019-09-11\", \"2019-09-12\", \"2019-09-13\", \"2019-09-16\", \"2019-09-17\", \"2019-09-18\", \"2019-09-19\", \"2019-09-20\", \"2019-09-23\", \"2019-09-24\", \"2019-09-25\", \"2019-09-26\", \"2019-09-27\", \"2019-09-30\", \"2019-10-01\", \"2019-10-02\", \"2019-10-03\", \"2019-10-04\", \"2019-10-07\", \"2019-10-08\", \"2019-10-09\", \"2019-10-10\", \"2019-10-11\", \"2019-10-14\", \"2019-10-15\", \"2019-10-16\", \"2019-10-17\", \"2019-10-18\", \"2019-10-21\", \"2019-10-22\", \"2019-10-23\", \"2019-10-24\", \"2019-10-25\", \"2019-10-28\", \"2019-10-29\", \"2019-10-30\", \"2019-10-31\", \"2019-11-01\", \"2019-11-04\", \"2019-11-05\", \"2019-11-06\", \"2019-11-07\", \"2019-11-08\", \"2019-11-11\", \"2019-11-12\", \"2019-11-13\", \"2019-11-14\", \"2019-11-15\", \"2019-11-18\", \"2019-11-19\", \"2019-11-20\", \"2019-11-21\", \"2019-11-22\", \"2019-11-25\", \"2019-11-26\", \"2019-11-27\", \"2019-11-29\", \"2019-12-02\", \"2019-12-03\", \"2019-12-04\", \"2019-12-05\", \"2019-12-06\", \"2019-12-09\", \"2019-12-10\", \"2019-12-11\", \"2019-12-12\", \"2019-12-13\", \"2019-12-16\", \"2019-12-17\", \"2019-12-18\", \"2019-12-19\", \"2019-12-20\", \"2019-12-23\", \"2019-12-24\", \"2019-12-26\", \"2019-12-27\", \"2019-12-30\", \"2019-12-31\", \"2020-01-02\", \"2020-01-03\", \"2020-01-06\", \"2020-01-07\", \"2020-01-08\", \"2020-01-09\", \"2020-01-10\", \"2020-01-13\", \"2020-01-14\", \"2020-01-15\", \"2020-01-16\", \"2020-01-17\", \"2020-01-21\", \"2020-01-22\", \"2020-01-23\", \"2020-01-24\", \"2020-01-27\", \"2020-01-28\", \"2020-01-29\", \"2020-01-30\", \"2020-01-31\", \"2020-02-03\", \"2020-02-04\", \"2020-02-05\", \"2020-02-06\", \"2020-02-07\", \"2020-02-10\", \"2020-02-11\", \"2020-02-12\", \"2020-02-13\", \"2020-02-14\", \"2020-02-18\", \"2020-02-19\", \"2020-02-20\", \"2020-02-21\", \"2020-02-24\", \"2020-02-25\", \"2020-02-26\", \"2020-02-27\", \"2020-02-28\", \"2020-03-02\", \"2020-03-03\", \"2020-03-04\", \"2020-03-05\", \"2020-03-06\", \"2020-03-09\", \"2020-03-10\", \"2020-03-11\", \"2020-03-12\", \"2020-03-13\", \"2020-03-16\", \"2020-03-17\", \"2020-03-18\", \"2020-03-19\", \"2020-03-20\", \"2020-03-23\", \"2020-03-24\", \"2020-03-25\", \"2020-03-26\", \"2020-03-27\", \"2020-03-30\", \"2020-03-31\", \"2020-04-01\", \"2020-04-02\", \"2020-04-03\", \"2020-04-06\", \"2020-04-07\", \"2020-04-08\", \"2020-04-09\", \"2020-04-13\", \"2020-04-14\", \"2020-04-15\", \"2020-04-16\", \"2020-04-17\", \"2020-04-20\", \"2020-04-21\", \"2020-04-22\", \"2020-04-23\", \"2020-04-24\", \"2020-04-27\", \"2020-04-28\", \"2020-04-29\", \"2020-04-30\", \"2020-05-01\", \"2020-05-04\", \"2020-05-05\", \"2020-05-06\", \"2020-05-07\", \"2020-05-08\", \"2020-05-11\", \"2020-05-12\", \"2020-05-13\", \"2020-05-14\", \"2020-05-15\", \"2020-05-18\", \"2020-05-19\", \"2020-05-20\", \"2020-05-21\", \"2020-05-22\", \"2020-05-26\", \"2020-05-27\", \"2020-05-28\", \"2020-05-29\", \"2020-06-01\", \"2020-06-02\", \"2020-06-03\", \"2020-06-04\", \"2020-06-05\", \"2020-06-08\", \"2020-06-09\", \"2020-06-10\", \"2020-06-11\", \"2020-06-12\", \"2020-06-15\", \"2020-06-16\", \"2020-06-17\", \"2020-06-18\", \"2020-06-19\", \"2020-06-22\", \"2020-06-23\", \"2020-06-24\", \"2020-06-25\", \"2020-06-26\", \"2020-06-29\"], \"xaxis\": \"x\", \"y\": [1775.0699462890625, 1692.68994140625, 1729.56005859375, 1738.5, 1754.3599853515625, 1804.030029296875, 1860.6300048828125, 1863.699951171875, 1855.3199462890625, 1870.300048828125, 1869.6700439453125, 1886.030029296875, 1901.3699951171875, 1908.7900390625, 1918.18994140625, 1911.300048828125, 1913.9000244140625, 1878.27001953125, 1897.8299560546875, 1904.280029296875, 1893.6300048828125, 1922.18994140625, 1934.31005859375, 1939.0, 1942.9100341796875, 1952.3199462890625, 1988.300048828125, 2017.4100341796875, 2001.0699462890625, 2011.0, 2020.989990234375, 2009.9000244140625, 1992.030029296875, 1977.9000244140625, 1964.52001953125, 1985.6300048828125, 1994.489990234375, 2000.81005859375, 1973.8199462890625, 1943.050048828125, 1912.449951171875, 1898.530029296875, 1866.780029296875, 1855.3199462890625, 1823.239990234375, 1765.1300048828125, 1787.8299560546875, 1793.4000244140625, 1832.8900146484375, 1807.5799560546875, 1784.9200439453125, 1824.3399658203125, 1762.9599609375, 1776.1199951171875, 1792.5699462890625, 1816.1199951171875, 1801.3800048828125, 1823.5400390625, 1804.6600341796875, 1749.6199951171875, 1768.8699951171875, 1761.8299560546875, 1764.25, 1786.4000244140625, 1776.2900390625, 1789.8399658203125, 1800.6199951171875, 1840.719970703125, 1833.510009765625, 1831.3499755859375, 1820.550048828125, 1822.989990234375, 1843.550048828125, 1839.3399658203125, 1807.8399658203125, 1822.550048828125, 1817.4599609375, 1821.5, 1794.1600341796875, 1785.300048828125, 1741.6099853515625, 1768.3299560546875, 1739.8399658203125, 1725.449951171875, 1735.9100341796875, 1735.6500244140625, 1713.22998046875, 1724.4200439453125, 1739.6500244140625, 1732.6600341796875, 1705.510009765625, 1721.989990234375, 1720.260009765625, 1731.9200439453125, 1736.4300537109375, 1767.3800048828125, 1777.4300537109375, 1787.47998046875, 1757.510009765625, 1785.6600341796875, 1765.72998046875, 1762.1700439453125, 1780.780029296875, 1761.3299560546875, 1777.0799560546875, 1762.7099609375, 1779.989990234375, 1776.6600341796875, 1791.43994140625, 1804.6600341796875, 1801.7099609375, 1795.77001953125, 1788.199951171875, 1785.8800048828125, 1771.6500244140625, 1778.0, 1753.1099853515625, 1754.5999755859375, 1739.489990234375, 1752.530029296875, 1752.7900390625, 1745.530029296875, 1734.7099609375, 1745.719970703125, 1773.8399658203125, 1796.93994140625, 1818.510009765625, 1800.800048828125, 1781.5999755859375, 1769.9599609375, 1760.68994140625, 1740.47998046875, 1751.5999755859375, 1749.510009765625, 1739.2099609375, 1748.719970703125, 1760.3299560546875, 1760.93994140625, 1769.2099609375, 1790.6600341796875, 1784.030029296875, 1792.280029296875, 1786.5, 1793.0, 1789.2099609375, 1868.77001953125, 1869.800048828125, 1846.8900146484375, 1847.8399658203125, 1898.010009765625, 1874.969970703125, 1902.8800048828125, 1906.8599853515625, 1891.969970703125, 1901.050048828125, 1883.1600341796875, 1891.300048828125, 1869.43994140625, 1862.02001953125, 1877.93994140625, 1864.719970703125, 1892.0, 1887.4599609375, 1884.5799560546875, 1861.6400146484375, 1828.3399658203125, 1853.25, 1858.0, 1870.6800537109375, 2008.719970703125, 2004.199951171875, 2049.669921875, 2039.8699951171875, 2050.22998046875, 2079.280029296875, 2133.909912109375, 2150.800048828125, 2160.0, 2149.8701171875, 2134.8701171875, 2155.669921875, 2170.219970703125, 2153.10009765625, 2095.969970703125, 2009.2900390625, 1972.739990234375, 1979.5899658203125, 1884.300048828125, 1883.75, 1953.949951171875, 1908.989990234375, 1975.8299560546875, 1924.030029296875, 1901.0899658203125, 1800.6099853515625, 1891.8199462890625, 1820.8599853515625, 1676.6099853515625, 1785.0, 1689.1500244140625, 1807.8399658203125, 1830.0, 1880.9300537109375, 1846.0899658203125, 1902.8299560546875, 1940.0999755859375, 1885.8399658203125, 1955.489990234375, 1900.0999755859375, 1963.949951171875, 1949.719970703125, 1907.699951171875, 1918.8299560546875, 1906.5899658203125, 1997.5899658203125, 2011.5999755859375, 2043.0, 2042.760009765625, 2168.8701171875, 2283.320068359375, 2307.679931640625, 2408.18994140625, 2375.0, 2393.610107421875, 2328.1201171875, 2363.489990234375, 2399.449951171875, 2410.219970703125, 2376.0, 2314.080078125, 2372.7099609375, 2474.0, 2286.0400390625, 2315.989990234375, 2317.800048828125, 2351.260009765625, 2367.610107421875, 2379.610107421875, 2409.0, 2356.949951171875, 2367.919921875, 2388.85009765625, 2409.780029296875, 2426.260009765625, 2449.330078125, 2497.93994140625, 2446.739990234375, 2436.8798828125, 2421.860107421875, 2410.389892578125, 2401.10009765625, 2442.3701171875, 2471.0400390625, 2472.409912109375, 2478.39990234375, 2460.60009765625, 2483.0, 2524.06005859375, 2600.860107421875, 2647.449951171875, 2557.9599609375, 2545.02001953125, 2572.679931640625, 2615.27001953125, 2640.97998046875, 2653.97998046875, 2675.010009765625, 2713.820068359375, 2764.409912109375, 2734.39990234375, 2754.580078125, 2692.8701171875, 2680.3798828125], \"yaxis\": \"y\"}, {\"line\": {\"color\": \"rgba(55, 128, 191, 1.0)\", \"dash\": \"solid\", \"shape\": \"linear\", \"width\": 1.3}, \"mode\": \"lines\", \"name\": \"AAPL\", \"text\": \"\", \"type\": \"scatter\", \"x\": [\"2019-05-31\", \"2019-06-03\", \"2019-06-04\", \"2019-06-05\", \"2019-06-06\", \"2019-06-07\", \"2019-06-10\", \"2019-06-11\", \"2019-06-12\", \"2019-06-13\", \"2019-06-14\", \"2019-06-17\", \"2019-06-18\", \"2019-06-19\", \"2019-06-20\", \"2019-06-21\", \"2019-06-24\", \"2019-06-25\", \"2019-06-26\", \"2019-06-27\", \"2019-06-28\", \"2019-07-01\", \"2019-07-02\", \"2019-07-03\", \"2019-07-05\", \"2019-07-08\", \"2019-07-09\", \"2019-07-10\", \"2019-07-11\", \"2019-07-12\", \"2019-07-15\", \"2019-07-16\", \"2019-07-17\", \"2019-07-18\", \"2019-07-19\", \"2019-07-22\", \"2019-07-23\", \"2019-07-24\", \"2019-07-25\", \"2019-07-26\", \"2019-07-29\", \"2019-07-30\", \"2019-07-31\", \"2019-08-01\", \"2019-08-02\", \"2019-08-05\", \"2019-08-06\", \"2019-08-07\", \"2019-08-08\", \"2019-08-09\", \"2019-08-12\", \"2019-08-13\", \"2019-08-14\", \"2019-08-15\", \"2019-08-16\", \"2019-08-19\", \"2019-08-20\", \"2019-08-21\", \"2019-08-22\", \"2019-08-23\", \"2019-08-26\", \"2019-08-27\", \"2019-08-28\", \"2019-08-29\", \"2019-08-30\", \"2019-09-03\", \"2019-09-04\", \"2019-09-05\", \"2019-09-06\", \"2019-09-09\", \"2019-09-10\", \"2019-09-11\", \"2019-09-12\", \"2019-09-13\", \"2019-09-16\", \"2019-09-17\", \"2019-09-18\", \"2019-09-19\", \"2019-09-20\", \"2019-09-23\", \"2019-09-24\", \"2019-09-25\", \"2019-09-26\", \"2019-09-27\", \"2019-09-30\", \"2019-10-01\", \"2019-10-02\", \"2019-10-03\", \"2019-10-04\", \"2019-10-07\", \"2019-10-08\", \"2019-10-09\", \"2019-10-10\", \"2019-10-11\", \"2019-10-14\", \"2019-10-15\", \"2019-10-16\", \"2019-10-17\", \"2019-10-18\", \"2019-10-21\", \"2019-10-22\", \"2019-10-23\", \"2019-10-24\", \"2019-10-25\", \"2019-10-28\", \"2019-10-29\", \"2019-10-30\", \"2019-10-31\", \"2019-11-01\", \"2019-11-04\", \"2019-11-05\", \"2019-11-06\", \"2019-11-07\", \"2019-11-08\", \"2019-11-11\", \"2019-11-12\", \"2019-11-13\", \"2019-11-14\", \"2019-11-15\", \"2019-11-18\", \"2019-11-19\", \"2019-11-20\", \"2019-11-21\", \"2019-11-22\", \"2019-11-25\", \"2019-11-26\", \"2019-11-27\", \"2019-11-29\", \"2019-12-02\", \"2019-12-03\", \"2019-12-04\", \"2019-12-05\", \"2019-12-06\", \"2019-12-09\", \"2019-12-10\", \"2019-12-11\", \"2019-12-12\", \"2019-12-13\", \"2019-12-16\", \"2019-12-17\", \"2019-12-18\", \"2019-12-19\", \"2019-12-20\", \"2019-12-23\", \"2019-12-24\", \"2019-12-26\", \"2019-12-27\", \"2019-12-30\", \"2019-12-31\", \"2020-01-02\", \"2020-01-03\", \"2020-01-06\", \"2020-01-07\", \"2020-01-08\", \"2020-01-09\", \"2020-01-10\", \"2020-01-13\", \"2020-01-14\", \"2020-01-15\", \"2020-01-16\", \"2020-01-17\", \"2020-01-21\", \"2020-01-22\", \"2020-01-23\", \"2020-01-24\", \"2020-01-27\", \"2020-01-28\", \"2020-01-29\", \"2020-01-30\", \"2020-01-31\", \"2020-02-03\", \"2020-02-04\", \"2020-02-05\", \"2020-02-06\", \"2020-02-07\", \"2020-02-10\", \"2020-02-11\", \"2020-02-12\", \"2020-02-13\", \"2020-02-14\", \"2020-02-18\", \"2020-02-19\", \"2020-02-20\", \"2020-02-21\", \"2020-02-24\", \"2020-02-25\", \"2020-02-26\", \"2020-02-27\", \"2020-02-28\", \"2020-03-02\", \"2020-03-03\", \"2020-03-04\", \"2020-03-05\", \"2020-03-06\", \"2020-03-09\", \"2020-03-10\", \"2020-03-11\", \"2020-03-12\", \"2020-03-13\", \"2020-03-16\", \"2020-03-17\", \"2020-03-18\", \"2020-03-19\", \"2020-03-20\", \"2020-03-23\", \"2020-03-24\", \"2020-03-25\", \"2020-03-26\", \"2020-03-27\", \"2020-03-30\", \"2020-03-31\", \"2020-04-01\", \"2020-04-02\", \"2020-04-03\", \"2020-04-06\", \"2020-04-07\", \"2020-04-08\", \"2020-04-09\", \"2020-04-13\", \"2020-04-14\", \"2020-04-15\", \"2020-04-16\", \"2020-04-17\", \"2020-04-20\", \"2020-04-21\", \"2020-04-22\", \"2020-04-23\", \"2020-04-24\", \"2020-04-27\", \"2020-04-28\", \"2020-04-29\", \"2020-04-30\", \"2020-05-01\", \"2020-05-04\", \"2020-05-05\", \"2020-05-06\", \"2020-05-07\", \"2020-05-08\", \"2020-05-11\", \"2020-05-12\", \"2020-05-13\", \"2020-05-14\", \"2020-05-15\", \"2020-05-18\", \"2020-05-19\", \"2020-05-20\", \"2020-05-21\", \"2020-05-22\", \"2020-05-26\", \"2020-05-27\", \"2020-05-28\", \"2020-05-29\", \"2020-06-01\", \"2020-06-02\", \"2020-06-03\", \"2020-06-04\", \"2020-06-05\", \"2020-06-08\", \"2020-06-09\", \"2020-06-10\", \"2020-06-11\", \"2020-06-12\", \"2020-06-15\", \"2020-06-16\", \"2020-06-17\", \"2020-06-18\", \"2020-06-19\", \"2020-06-22\", \"2020-06-23\", \"2020-06-24\", \"2020-06-25\", \"2020-06-26\", \"2020-06-29\"], \"xaxis\": \"x2\", \"y\": [43.099117279052734, 42.66337585449219, 44.22417449951172, 44.9380989074707, 45.59786605834961, 46.81155014038086, 47.409767150878906, 47.9587516784668, 47.80612564086914, 47.79627227783203, 47.449153900146484, 47.732269287109375, 48.8548583984375, 48.71207046508789, 49.10350036621094, 48.936092376708984, 48.886863708496094, 48.14585494995117, 49.18720626831055, 49.17243576049805, 48.72438430786133, 49.61802673339844, 49.908512115478516, 50.32210159301758, 50.27779006958008, 49.24135971069336, 49.54171371459961, 50.031612396240234, 49.667259216308594, 50.04884719848633, 50.51905059814453, 50.34425735473633, 50.061153411865234, 50.62983322143555, 49.874053955078125, 51.01387405395508, 51.412689208984375, 51.370849609375, 50.96464157104492, 51.14189147949219, 51.61948013305664, 51.397918701171875, 52.446659088134766, 51.3117561340332, 50.22609329223633, 47.596858978271484, 48.497894287109375, 49.00010299682617, 50.08084487915039, 49.66815948486328, 49.5421257019043, 51.64015579223633, 50.10308837890625, 49.85350036621094, 51.02977752685547, 51.98118209838867, 51.9836540222168, 52.547080993652344, 52.50259780883789, 50.075904846191406, 51.027305603027344, 50.45151901245117, 50.79007339477539, 51.65003967285156, 51.58332443237305, 50.83208084106445, 51.694522857666016, 52.70523452758789, 52.700286865234375, 52.9251708984375, 53.55037307739258, 55.25301742553711, 55.129459381103516, 54.05696487426758, 54.34115219116211, 54.53884506225586, 55.050384521484375, 54.60310363769531, 53.804901123046875, 54.049556732177734, 53.79254913330078, 54.62039566040039, 54.33868408203125, 54.07426834106445, 55.346920013427734, 55.5001335144043, 54.108863830566406, 54.56849670410156, 56.0981559753418, 56.11051559448242, 55.45317840576172, 56.10309982299805, 56.859283447265625, 58.37164306640625, 58.287620544433594, 58.151710510253906, 57.91694641113281, 58.14181900024414, 58.42106628417969, 59.43424606323242, 59.298336029052734, 60.09404754638672, 60.192893981933594, 60.93425369262695, 61.54462814331055, 60.12123107910156, 60.11381530761719, 61.47296142578125, 63.21761703491211, 63.63276672363281, 63.541343688964844, 63.568519592285156, 64.30218505859375, 64.47816467285156, 64.98876953125, 64.92926788330078, 65.55139923095703, 65.09781646728516, 65.87113952636719, 66.2032699584961, 66.00250244140625, 65.23414611816406, 64.94166564941406, 64.88465118408203, 66.02232360839844, 65.50679016113281, 66.38668060302734, 66.24044799804688, 65.47456359863281, 64.3071517944336, 64.87474060058594, 65.82652282714844, 67.09803009033203, 66.15865325927734, 66.54531860351562, 67.1129150390625, 67.28392791748047, 68.19853973388672, 69.36595153808594, 69.50227355957031, 69.33621215820312, 69.40560913085938, 69.26185607910156, 70.39208984375, 70.4590072631836, 71.85694122314453, 71.82967376708984, 72.25599670410156, 72.783935546875, 74.4446029663086, 73.72084045410156, 74.30826568603516, 73.95879364013672, 75.14852142333984, 76.7447280883789, 76.91822052001953, 78.56153106689453, 77.50070190429688, 77.16856384277344, 78.13522338867188, 79.000244140625, 78.46488189697266, 78.74495697021484, 79.12418365478516, 78.89614868164062, 76.57618713378906, 78.74247741699219, 80.3907470703125, 80.27424621582031, 76.7149887084961, 76.50431060791016, 79.02999877929688, 79.6744384765625, 80.60638427734375, 79.51072692871094, 79.88835906982422, 79.4063720703125, 81.29209899902344, 80.71321868896484, 80.73308563232422, 79.25482177734375, 80.40264892578125, 79.57780456542969, 77.77655792236328, 74.08214569091797, 71.57282257080078, 72.70822143554688, 67.9554214477539, 67.91566467285156, 74.23866271972656, 71.88089752197266, 75.2150650024414, 72.77530670166016, 71.80884552001953, 66.12933349609375, 70.89207458496094, 68.4299545288086, 61.672176361083984, 69.0610122680664, 60.1765251159668, 62.82249069213867, 61.28459930419922, 60.815032958984375, 56.95415496826172, 55.74421691894531, 61.33677291870117, 60.99888610839844, 64.20883178710938, 61.550437927246094, 63.30696105957031, 63.17776870727539, 59.853538513183594, 60.852294921875, 59.97776794433594, 65.21006774902344, 64.45479583740234, 66.10448455810547, 66.58150482177734, 67.88833618164062, 71.31690979003906, 70.66598510742188, 71.22747039794922, 70.26101684570312, 68.80261993408203, 66.67591094970703, 68.5964126586914, 68.33058166503906, 70.30325317382812, 70.35294342041016, 69.21255493164062, 71.4858627319336, 72.99393463134766, 71.81878662109375, 72.83493041992188, 73.9281005859375, 74.69084167480469, 75.46350860595703, 77.25967407226562, 78.47537231445312, 77.57853698730469, 76.64185333251953, 77.11268615722656, 76.65679168701172, 78.4629135131836, 78.009521484375, 79.52666473388672, 78.93375396728516, 79.44196319580078, 78.90386199951172, 79.24764251708984, 79.28252410888672, 79.2052993774414, 80.17935943603516, 80.55054473876953, 80.99398040771484, 80.29644775390625, 82.5833740234375, 83.07164001464844, 85.69487762451172, 87.89958953857422, 83.67949676513672, 84.40194702148438, 85.44575500488281, 87.71025848388672, 87.58819580078125, 87.62307739257812, 87.1223373413086, 89.40178680419922, 91.31005096435547, 89.6982421875, 90.8890380859375, 88.09640502929688, 90.1267318725586], \"yaxis\": \"y2\"}],                        {\"legend\": {\"bgcolor\": \"#F5F6F9\", \"font\": {\"color\": \"#4D5663\"}}, \"paper_bgcolor\": \"#F5F6F9\", \"plot_bgcolor\": \"#F5F6F9\", \"template\": {\"data\": {\"bar\": [{\"error_x\": {\"color\": \"#2a3f5f\"}, \"error_y\": {\"color\": \"#2a3f5f\"}, \"marker\": {\"line\": {\"color\": \"#E5ECF6\", \"width\": 0.5}}, \"type\": \"bar\"}], \"barpolar\": [{\"marker\": {\"line\": {\"color\": \"#E5ECF6\", \"width\": 0.5}}, \"type\": \"barpolar\"}], \"carpet\": [{\"aaxis\": {\"endlinecolor\": \"#2a3f5f\", \"gridcolor\": \"white\", \"linecolor\": \"white\", \"minorgridcolor\": \"white\", \"startlinecolor\": \"#2a3f5f\"}, \"baxis\": {\"endlinecolor\": \"#2a3f5f\", \"gridcolor\": \"white\", \"linecolor\": \"white\", \"minorgridcolor\": \"white\", \"startlinecolor\": \"#2a3f5f\"}, \"type\": \"carpet\"}], \"choropleth\": [{\"colorbar\": {\"outlinewidth\": 0, \"ticks\": \"\"}, \"type\": \"choropleth\"}], \"contour\": [{\"colorbar\": {\"outlinewidth\": 0, \"ticks\": \"\"}, \"colorscale\": [[0.0, \"#0d0887\"], [0.1111111111111111, \"#46039f\"], [0.2222222222222222, \"#7201a8\"], [0.3333333333333333, \"#9c179e\"], [0.4444444444444444, \"#bd3786\"], [0.5555555555555556, \"#d8576b\"], [0.6666666666666666, \"#ed7953\"], [0.7777777777777778, \"#fb9f3a\"], [0.8888888888888888, \"#fdca26\"], [1.0, \"#f0f921\"]], \"type\": \"contour\"}], \"contourcarpet\": [{\"colorbar\": {\"outlinewidth\": 0, \"ticks\": \"\"}, \"type\": \"contourcarpet\"}], \"heatmap\": [{\"colorbar\": {\"outlinewidth\": 0, \"ticks\": \"\"}, \"colorscale\": [[0.0, \"#0d0887\"], [0.1111111111111111, \"#46039f\"], [0.2222222222222222, \"#7201a8\"], [0.3333333333333333, \"#9c179e\"], [0.4444444444444444, \"#bd3786\"], [0.5555555555555556, \"#d8576b\"], [0.6666666666666666, \"#ed7953\"], [0.7777777777777778, \"#fb9f3a\"], [0.8888888888888888, \"#fdca26\"], [1.0, \"#f0f921\"]], \"type\": \"heatmap\"}], \"heatmapgl\": [{\"colorbar\": {\"outlinewidth\": 0, \"ticks\": \"\"}, \"colorscale\": [[0.0, \"#0d0887\"], [0.1111111111111111, \"#46039f\"], [0.2222222222222222, \"#7201a8\"], [0.3333333333333333, \"#9c179e\"], [0.4444444444444444, \"#bd3786\"], [0.5555555555555556, \"#d8576b\"], [0.6666666666666666, \"#ed7953\"], [0.7777777777777778, \"#fb9f3a\"], [0.8888888888888888, \"#fdca26\"], [1.0, \"#f0f921\"]], \"type\": \"heatmapgl\"}], \"histogram\": [{\"marker\": {\"colorbar\": {\"outlinewidth\": 0, \"ticks\": \"\"}}, \"type\": \"histogram\"}], \"histogram2d\": [{\"colorbar\": {\"outlinewidth\": 0, \"ticks\": \"\"}, \"colorscale\": [[0.0, \"#0d0887\"], [0.1111111111111111, \"#46039f\"], [0.2222222222222222, \"#7201a8\"], [0.3333333333333333, \"#9c179e\"], [0.4444444444444444, \"#bd3786\"], [0.5555555555555556, \"#d8576b\"], [0.6666666666666666, \"#ed7953\"], [0.7777777777777778, \"#fb9f3a\"], [0.8888888888888888, \"#fdca26\"], [1.0, \"#f0f921\"]], \"type\": \"histogram2d\"}], \"histogram2dcontour\": [{\"colorbar\": {\"outlinewidth\": 0, \"ticks\": \"\"}, \"colorscale\": [[0.0, \"#0d0887\"], [0.1111111111111111, \"#46039f\"], [0.2222222222222222, \"#7201a8\"], [0.3333333333333333, \"#9c179e\"], [0.4444444444444444, \"#bd3786\"], [0.5555555555555556, \"#d8576b\"], [0.6666666666666666, \"#ed7953\"], [0.7777777777777778, \"#fb9f3a\"], [0.8888888888888888, \"#fdca26\"], [1.0, \"#f0f921\"]], \"type\": \"histogram2dcontour\"}], \"mesh3d\": [{\"colorbar\": {\"outlinewidth\": 0, \"ticks\": \"\"}, \"type\": \"mesh3d\"}], \"parcoords\": [{\"line\": {\"colorbar\": {\"outlinewidth\": 0, \"ticks\": \"\"}}, \"type\": \"parcoords\"}], \"pie\": [{\"automargin\": true, \"type\": \"pie\"}], \"scatter\": [{\"marker\": {\"colorbar\": {\"outlinewidth\": 0, \"ticks\": \"\"}}, \"type\": \"scatter\"}], \"scatter3d\": [{\"line\": {\"colorbar\": {\"outlinewidth\": 0, \"ticks\": \"\"}}, \"marker\": {\"colorbar\": {\"outlinewidth\": 0, \"ticks\": \"\"}}, \"type\": \"scatter3d\"}], \"scattercarpet\": [{\"marker\": {\"colorbar\": {\"outlinewidth\": 0, \"ticks\": \"\"}}, \"type\": \"scattercarpet\"}], \"scattergeo\": [{\"marker\": {\"colorbar\": {\"outlinewidth\": 0, \"ticks\": \"\"}}, \"type\": \"scattergeo\"}], \"scattergl\": [{\"marker\": {\"colorbar\": {\"outlinewidth\": 0, \"ticks\": \"\"}}, \"type\": \"scattergl\"}], \"scattermapbox\": [{\"marker\": {\"colorbar\": {\"outlinewidth\": 0, \"ticks\": \"\"}}, \"type\": \"scattermapbox\"}], \"scatterpolar\": [{\"marker\": {\"colorbar\": {\"outlinewidth\": 0, \"ticks\": \"\"}}, \"type\": \"scatterpolar\"}], \"scatterpolargl\": [{\"marker\": {\"colorbar\": {\"outlinewidth\": 0, \"ticks\": \"\"}}, \"type\": \"scatterpolargl\"}], \"scatterternary\": [{\"marker\": {\"colorbar\": {\"outlinewidth\": 0, \"ticks\": \"\"}}, \"type\": \"scatterternary\"}], \"surface\": [{\"colorbar\": {\"outlinewidth\": 0, \"ticks\": \"\"}, \"colorscale\": [[0.0, \"#0d0887\"], [0.1111111111111111, \"#46039f\"], [0.2222222222222222, \"#7201a8\"], [0.3333333333333333, \"#9c179e\"], [0.4444444444444444, \"#bd3786\"], [0.5555555555555556, \"#d8576b\"], [0.6666666666666666, \"#ed7953\"], [0.7777777777777778, \"#fb9f3a\"], [0.8888888888888888, \"#fdca26\"], [1.0, \"#f0f921\"]], \"type\": \"surface\"}], \"table\": [{\"cells\": {\"fill\": {\"color\": \"#EBF0F8\"}, \"line\": {\"color\": \"white\"}}, \"header\": {\"fill\": {\"color\": \"#C8D4E3\"}, \"line\": {\"color\": \"white\"}}, \"type\": \"table\"}]}, \"layout\": {\"annotationdefaults\": {\"arrowcolor\": \"#2a3f5f\", \"arrowhead\": 0, \"arrowwidth\": 1}, \"autotypenumbers\": \"strict\", \"coloraxis\": {\"colorbar\": {\"outlinewidth\": 0, \"ticks\": \"\"}}, \"colorscale\": {\"diverging\": [[0, \"#8e0152\"], [0.1, \"#c51b7d\"], [0.2, \"#de77ae\"], [0.3, \"#f1b6da\"], [0.4, \"#fde0ef\"], [0.5, \"#f7f7f7\"], [0.6, \"#e6f5d0\"], [0.7, \"#b8e186\"], [0.8, \"#7fbc41\"], [0.9, \"#4d9221\"], [1, \"#276419\"]], \"sequential\": [[0.0, \"#0d0887\"], [0.1111111111111111, \"#46039f\"], [0.2222222222222222, \"#7201a8\"], [0.3333333333333333, \"#9c179e\"], [0.4444444444444444, \"#bd3786\"], [0.5555555555555556, \"#d8576b\"], [0.6666666666666666, \"#ed7953\"], [0.7777777777777778, \"#fb9f3a\"], [0.8888888888888888, \"#fdca26\"], [1.0, \"#f0f921\"]], \"sequentialminus\": [[0.0, \"#0d0887\"], [0.1111111111111111, \"#46039f\"], [0.2222222222222222, \"#7201a8\"], [0.3333333333333333, \"#9c179e\"], [0.4444444444444444, \"#bd3786\"], [0.5555555555555556, \"#d8576b\"], [0.6666666666666666, \"#ed7953\"], [0.7777777777777778, \"#fb9f3a\"], [0.8888888888888888, \"#fdca26\"], [1.0, \"#f0f921\"]]}, \"colorway\": [\"#636efa\", \"#EF553B\", \"#00cc96\", \"#ab63fa\", \"#FFA15A\", \"#19d3f3\", \"#FF6692\", \"#B6E880\", \"#FF97FF\", \"#FECB52\"], \"font\": {\"color\": \"#2a3f5f\"}, \"geo\": {\"bgcolor\": \"white\", \"lakecolor\": \"white\", \"landcolor\": \"#E5ECF6\", \"showlakes\": true, \"showland\": true, \"subunitcolor\": \"white\"}, \"hoverlabel\": {\"align\": \"left\"}, \"hovermode\": \"closest\", \"mapbox\": {\"style\": \"light\"}, \"paper_bgcolor\": \"white\", \"plot_bgcolor\": \"#E5ECF6\", \"polar\": {\"angularaxis\": {\"gridcolor\": \"white\", \"linecolor\": \"white\", \"ticks\": \"\"}, \"bgcolor\": \"#E5ECF6\", \"radialaxis\": {\"gridcolor\": \"white\", \"linecolor\": \"white\", \"ticks\": \"\"}}, \"scene\": {\"xaxis\": {\"backgroundcolor\": \"#E5ECF6\", \"gridcolor\": \"white\", \"gridwidth\": 2, \"linecolor\": \"white\", \"showbackground\": true, \"ticks\": \"\", \"zerolinecolor\": \"white\"}, \"yaxis\": {\"backgroundcolor\": \"#E5ECF6\", \"gridcolor\": \"white\", \"gridwidth\": 2, \"linecolor\": \"white\", \"showbackground\": true, \"ticks\": \"\", \"zerolinecolor\": \"white\"}, \"zaxis\": {\"backgroundcolor\": \"#E5ECF6\", \"gridcolor\": \"white\", \"gridwidth\": 2, \"linecolor\": \"white\", \"showbackground\": true, \"ticks\": \"\", \"zerolinecolor\": \"white\"}}, \"shapedefaults\": {\"line\": {\"color\": \"#2a3f5f\"}}, \"ternary\": {\"aaxis\": {\"gridcolor\": \"white\", \"linecolor\": \"white\", \"ticks\": \"\"}, \"baxis\": {\"gridcolor\": \"white\", \"linecolor\": \"white\", \"ticks\": \"\"}, \"bgcolor\": \"#E5ECF6\", \"caxis\": {\"gridcolor\": \"white\", \"linecolor\": \"white\", \"ticks\": \"\"}}, \"title\": {\"x\": 0.05}, \"xaxis\": {\"automargin\": true, \"gridcolor\": \"white\", \"linecolor\": \"white\", \"ticks\": \"\", \"title\": {\"standoff\": 15}, \"zerolinecolor\": \"white\", \"zerolinewidth\": 2}, \"yaxis\": {\"automargin\": true, \"gridcolor\": \"white\", \"linecolor\": \"white\", \"ticks\": \"\", \"title\": {\"standoff\": 15}, \"zerolinecolor\": \"white\", \"zerolinewidth\": 2}}}, \"title\": {\"font\": {\"color\": \"#4D5663\"}, \"text\": \"Amazon Vs Apple Price Movement\"}, \"xaxis\": {\"anchor\": \"y\", \"domain\": [0.0, 0.45], \"gridcolor\": \"#E1E5ED\", \"showgrid\": true, \"tickfont\": {\"color\": \"#4D5663\"}, \"title\": {\"font\": {\"color\": \"#4D5663\"}, \"text\": \"\"}, \"zerolinecolor\": \"#E1E5ED\"}, \"xaxis2\": {\"anchor\": \"y2\", \"domain\": [0.55, 1.0], \"gridcolor\": \"#E1E5ED\", \"showgrid\": true, \"tickfont\": {\"color\": \"#4D5663\"}, \"title\": {\"font\": {\"color\": \"#4D5663\"}, \"text\": \"\"}, \"zerolinecolor\": \"#E1E5ED\"}, \"yaxis\": {\"anchor\": \"x\", \"domain\": [0.0, 1.0], \"gridcolor\": \"#E1E5ED\", \"showgrid\": true, \"tickfont\": {\"color\": \"#4D5663\"}, \"title\": {\"font\": {\"color\": \"#4D5663\"}, \"text\": \"\"}, \"zerolinecolor\": \"#E1E5ED\"}, \"yaxis2\": {\"anchor\": \"x2\", \"domain\": [0.0, 1.0], \"gridcolor\": \"#E1E5ED\", \"showgrid\": true, \"tickfont\": {\"color\": \"#4D5663\"}, \"title\": {\"font\": {\"color\": \"#4D5663\"}, \"text\": \"\"}, \"zerolinecolor\": \"#E1E5ED\"}},                        {\"showLink\": true, \"linkText\": \"Export to plot.ly\", \"plotlyServerURL\": \"https://plot.ly\", \"responsive\": true}                    ).then(function(){\n",
       "                            \n",
       "var gd = document.getElementById('d013d78a-977a-41f8-8b30-49e23704c733');\n",
       "var x = new MutationObserver(function (mutations, observer) {{\n",
       "        var display = window.getComputedStyle(gd).display;\n",
       "        if (!display || display === 'none') {{\n",
       "            console.log([gd, 'removed!']);\n",
       "            Plotly.purge(gd);\n",
       "            observer.disconnect();\n",
       "        }}\n",
       "}});\n",
       "\n",
       "// Listen for the removal of the full notebook cells\n",
       "var notebookContainer = gd.closest('#notebook-container');\n",
       "if (notebookContainer) {{\n",
       "    x.observe(notebookContainer, {childList: true});\n",
       "}}\n",
       "\n",
       "// Listen for the clearing of the current output cell\n",
       "var outputEl = gd.closest('.output');\n",
       "if (outputEl) {{\n",
       "    x.observe(outputEl, {childList: true});\n",
       "}}\n",
       "\n",
       "                        })                };                });            </script>        </div>"
      ]
     },
     "metadata": {},
     "output_type": "display_data"
    }
   ],
   "source": [
    "\n",
    "# Use subplots\n",
    "df[['AMZN', 'AAPL']].iplot(title='Amazon Vs Apple Price Movement',subplots=True)\n",
    "\n"
   ]
  },
  {
   "cell_type": "markdown",
   "metadata": {},
   "source": [
    "\n",
    "<h3 id=\"Normalized-Plot\">Normalized Plot<a class=\"anchor-link\" href=\"#Normalized-Plot\">¶</a></h3>\n"
   ]
  },
  {
   "cell_type": "code",
   "execution_count": 77,
   "metadata": {},
   "outputs": [
    {
     "data": {
      "application/vnd.plotly.v1+json": {
       "config": {
        "linkText": "Export to plot.ly",
        "plotlyServerURL": "https://plot.ly",
        "showLink": true
       },
       "data": [
        {
         "line": {
          "color": "rgba(255, 153, 51, 1.0)",
          "dash": "solid",
          "shape": "linear",
          "width": 1.3
         },
         "mode": "lines",
         "name": "AAPL",
         "text": "",
         "type": "scatter",
         "x": [
          "2019-05-31",
          "2019-06-03",
          "2019-06-04",
          "2019-06-05",
          "2019-06-06",
          "2019-06-07",
          "2019-06-10",
          "2019-06-11",
          "2019-06-12",
          "2019-06-13",
          "2019-06-14",
          "2019-06-17",
          "2019-06-18",
          "2019-06-19",
          "2019-06-20",
          "2019-06-21",
          "2019-06-24",
          "2019-06-25",
          "2019-06-26",
          "2019-06-27",
          "2019-06-28",
          "2019-07-01",
          "2019-07-02",
          "2019-07-03",
          "2019-07-05",
          "2019-07-08",
          "2019-07-09",
          "2019-07-10",
          "2019-07-11",
          "2019-07-12",
          "2019-07-15",
          "2019-07-16",
          "2019-07-17",
          "2019-07-18",
          "2019-07-19",
          "2019-07-22",
          "2019-07-23",
          "2019-07-24",
          "2019-07-25",
          "2019-07-26",
          "2019-07-29",
          "2019-07-30",
          "2019-07-31",
          "2019-08-01",
          "2019-08-02",
          "2019-08-05",
          "2019-08-06",
          "2019-08-07",
          "2019-08-08",
          "2019-08-09",
          "2019-08-12",
          "2019-08-13",
          "2019-08-14",
          "2019-08-15",
          "2019-08-16",
          "2019-08-19",
          "2019-08-20",
          "2019-08-21",
          "2019-08-22",
          "2019-08-23",
          "2019-08-26",
          "2019-08-27",
          "2019-08-28",
          "2019-08-29",
          "2019-08-30",
          "2019-09-03",
          "2019-09-04",
          "2019-09-05",
          "2019-09-06",
          "2019-09-09",
          "2019-09-10",
          "2019-09-11",
          "2019-09-12",
          "2019-09-13",
          "2019-09-16",
          "2019-09-17",
          "2019-09-18",
          "2019-09-19",
          "2019-09-20",
          "2019-09-23",
          "2019-09-24",
          "2019-09-25",
          "2019-09-26",
          "2019-09-27",
          "2019-09-30",
          "2019-10-01",
          "2019-10-02",
          "2019-10-03",
          "2019-10-04",
          "2019-10-07",
          "2019-10-08",
          "2019-10-09",
          "2019-10-10",
          "2019-10-11",
          "2019-10-14",
          "2019-10-15",
          "2019-10-16",
          "2019-10-17",
          "2019-10-18",
          "2019-10-21",
          "2019-10-22",
          "2019-10-23",
          "2019-10-24",
          "2019-10-25",
          "2019-10-28",
          "2019-10-29",
          "2019-10-30",
          "2019-10-31",
          "2019-11-01",
          "2019-11-04",
          "2019-11-05",
          "2019-11-06",
          "2019-11-07",
          "2019-11-08",
          "2019-11-11",
          "2019-11-12",
          "2019-11-13",
          "2019-11-14",
          "2019-11-15",
          "2019-11-18",
          "2019-11-19",
          "2019-11-20",
          "2019-11-21",
          "2019-11-22",
          "2019-11-25",
          "2019-11-26",
          "2019-11-27",
          "2019-11-29",
          "2019-12-02",
          "2019-12-03",
          "2019-12-04",
          "2019-12-05",
          "2019-12-06",
          "2019-12-09",
          "2019-12-10",
          "2019-12-11",
          "2019-12-12",
          "2019-12-13",
          "2019-12-16",
          "2019-12-17",
          "2019-12-18",
          "2019-12-19",
          "2019-12-20",
          "2019-12-23",
          "2019-12-24",
          "2019-12-26",
          "2019-12-27",
          "2019-12-30",
          "2019-12-31",
          "2020-01-02",
          "2020-01-03",
          "2020-01-06",
          "2020-01-07",
          "2020-01-08",
          "2020-01-09",
          "2020-01-10",
          "2020-01-13",
          "2020-01-14",
          "2020-01-15",
          "2020-01-16",
          "2020-01-17",
          "2020-01-21",
          "2020-01-22",
          "2020-01-23",
          "2020-01-24",
          "2020-01-27",
          "2020-01-28",
          "2020-01-29",
          "2020-01-30",
          "2020-01-31",
          "2020-02-03",
          "2020-02-04",
          "2020-02-05",
          "2020-02-06",
          "2020-02-07",
          "2020-02-10",
          "2020-02-11",
          "2020-02-12",
          "2020-02-13",
          "2020-02-14",
          "2020-02-18",
          "2020-02-19",
          "2020-02-20",
          "2020-02-21",
          "2020-02-24",
          "2020-02-25",
          "2020-02-26",
          "2020-02-27",
          "2020-02-28",
          "2020-03-02",
          "2020-03-03",
          "2020-03-04",
          "2020-03-05",
          "2020-03-06",
          "2020-03-09",
          "2020-03-10",
          "2020-03-11",
          "2020-03-12",
          "2020-03-13",
          "2020-03-16",
          "2020-03-17",
          "2020-03-18",
          "2020-03-19",
          "2020-03-20",
          "2020-03-23",
          "2020-03-24",
          "2020-03-25",
          "2020-03-26",
          "2020-03-27",
          "2020-03-30",
          "2020-03-31",
          "2020-04-01",
          "2020-04-02",
          "2020-04-03",
          "2020-04-06",
          "2020-04-07",
          "2020-04-08",
          "2020-04-09",
          "2020-04-13",
          "2020-04-14",
          "2020-04-15",
          "2020-04-16",
          "2020-04-17",
          "2020-04-20",
          "2020-04-21",
          "2020-04-22",
          "2020-04-23",
          "2020-04-24",
          "2020-04-27",
          "2020-04-28",
          "2020-04-29",
          "2020-04-30",
          "2020-05-01",
          "2020-05-04",
          "2020-05-05",
          "2020-05-06",
          "2020-05-07",
          "2020-05-08",
          "2020-05-11",
          "2020-05-12",
          "2020-05-13",
          "2020-05-14",
          "2020-05-15",
          "2020-05-18",
          "2020-05-19",
          "2020-05-20",
          "2020-05-21",
          "2020-05-22",
          "2020-05-26",
          "2020-05-27",
          "2020-05-28",
          "2020-05-29",
          "2020-06-01",
          "2020-06-02",
          "2020-06-03",
          "2020-06-04",
          "2020-06-05",
          "2020-06-08",
          "2020-06-09",
          "2020-06-10",
          "2020-06-11",
          "2020-06-12",
          "2020-06-15",
          "2020-06-16",
          "2020-06-17",
          "2020-06-18",
          "2020-06-19",
          "2020-06-22",
          "2020-06-23",
          "2020-06-24",
          "2020-06-25",
          "2020-06-26",
          "2020-06-29"
         ],
         "y": [
          100,
          98.98897830844362,
          102.61039504167708,
          104.26686610890697,
          105.79767971375908,
          108.61370973630697,
          110.00171266598366,
          111.27548475749403,
          110.92135676779658,
          110.8984946683867,
          110.09309910671415,
          110.74999280857307,
          113.35466126166394,
          113.02335996742836,
          113.93156859404286,
          113.5431430297371,
          113.42892104255775,
          111.7096079676585,
          114.12578580168922,
          114.09151478004192,
          113.05193095345045,
          115.12538972002116,
          115.79938352875574,
          116.75900753882817,
          116.65619447388626,
          114.25143441307999,
          114.94832572517242,
          116.08500487910658,
          115.23962055818751,
          116.12499363835309,
          117.21597514642852,
          116.81041407129914,
          116.15354692240119,
          117.47301665977028,
          115.7194325632237,
          118.36408092457411,
          119.28942506201223,
          119.19234743664353,
          118.24985008640776,
          118.66111119716238,
          119.76922821606144,
          119.25515404036493,
          121.68847623620628,
          119.05523679709333,
          116.53624589812071,
          110.43580932318716,
          112.5264213025555,
          113.69166259152475,
          116.19923571727293,
          115.24170939111849,
          114.94928163176796,
          119.81720056557808,
          116.25084582244479,
          115.67174344529094,
          118.40098068935912,
          120.60846110101852,
          120.61419654059173,
          121.92147846886776,
          121.81826710951104,
          116.1877736891135,
          118.3952452497859,
          117.05928612364387,
          117.84481121951112,
          119.84013347288389,
          119.68533856131631,
          117.94227828830763,
          119.94334483224061,
          122.28843153872195,
          122.27695180858855,
          122.79873519395832,
          124.2493500056425,
          128.1998818393236,
          127.9131983705333,
          125.42476107866977,
          126.0841419078745,
          126.542835457939,
          127.72972626109969,
          126.69193033388136,
          124.83991441095574,
          125.40757246192416,
          124.81125491506371,
          126.73205185793282,
          126.0784153192883,
          125.46490915568222,
          128.41775773520945,
          128.77324877690424,
          125.54517875674611,
          126.61163417985648,
          130.16080030624414,
          130.1894775041102,
          128.6643019779743,
          130.17227118539057,
          131.92679348655867,
          135.4358203869209,
          135.2408685473539,
          134.92552558267155,
          134.38081814098294,
          134.90257497339172,
          135.55049377443703,
          137.90130706950458,
          137.58596410482224,
          139.43220033323968,
          139.66154710827192,
          141.38167447397478,
          142.79788549920673,
          139.49527246657092,
          139.4780661478513,
          142.63160200651873,
          146.67960975998335,
          147.64285382373703,
          147.43073106939838,
          147.49378550075565,
          149.19606042568822,
          149.6043741577733,
          150.78909646912,
          150.6510387739613,
          152.09452854111393,
          151.04211078337872,
          152.83640056911847,
          153.60702060288497,
          153.14119315730196,
          151.3584273566306,
          150.67980448169726,
          150.5475176300597,
          153.18718288573154,
          151.99102509918637,
          154.03257605763764,
          153.69328232214494,
          151.9162519610468,
          149.20758441075662,
          150.52452276584495,
          152.7328794252169,
          155.68307270864543,
          153.50349945898344,
          154.4006532028403,
          155.7176092599026,
          156.11439900691926,
          158.23651164900525,
          160.94517919929544,
          161.26147807057333,
          160.8761769046771,
          161.03719406010262,
          160.70365346615714,
          163.32605929718738,
          163.48132331106572,
          166.7248560055053,
          166.66158915046014,
          167.65075775512418,
          168.8756989513793,
          172.72883452415988,
          171.04953676146812,
          172.412500248934,
          171.6016436282851,
          174.36208945250007,
          178.0656610470275,
          178.46820393559136,
          182.28106751754154,
          179.81969654391085,
          179.04905880817034,
          181.29193431682552,
          183.29898412796757,
          182.0568189110188,
          182.7066583762422,
          183.58655269545744,
          183.05745839482924,
          177.67460673958405,
          182.70090523469497,
          186.52527509973956,
          186.25496595689125,
          177.99665875240913,
          177.5078364426113,
          183.36802182653395,
          184.86327216563737,
          187.02560369263176,
          184.48342320773045,
          185.35961781438152,
          184.24129560747642,
          188.61662171102856,
          187.273484434433,
          187.31958037470653,
          183.88966359611177,
          186.5528901791661,
          184.6390589630626,
          180.459746817517,
          171.88784914377763,
          166.06563449406653,
          168.7000245614889,
          157.67242054579611,
          157.58017555932707,
          172.2510051402107,
          166.78044020383822,
          174.51648606965284,
          168.85567801879506,
          166.6132627614637,
          153.43547077293456,
          164.48614046073814,
          158.77344792411162,
          143.09382710039452,
          160.2376490008342,
          139.6235675230734,
          145.76282452697006,
          142.19455797064572,
          141.10505457739856,
          132.14691753314142,
          129.3395791798233,
          142.3156129197857,
          141.5316367466427,
          148.97945907192977,
          142.81136555240118,
          146.88690872640936,
          146.5871523498264,
          138.87416330513557,
          141.19151101837244,
          139.1624045476371,
          151.30255992671383,
          149.5501530114377,
          153.37781544364466,
          154.48461366548136,
          157.51676708848996,
          165.47185718047385,
          163.96156016347774,
          165.26433693937295,
          163.02193938401558,
          159.6381185456943,
          154.70365789165064,
          159.15966959265546,
          158.54287971287397,
          163.1199375120318,
          163.23523046863764,
          160.58926331022488,
          165.86386739451282,
          169.36294578549192,
          166.63632843357445,
          168.99401894553768,
          171.5304285869178,
          173.3001657347315,
          175.09293315070798,
          179.26045578157533,
          182.08115912525696,
          180.00029208257087,
          177.82696762972782,
          178.91940955065752,
          177.86162809480294,
          182.05225180172903,
          181.0002765933436,
          184.52040263139844,
          183.14471142463273,
          184.3238753161462,
          183.07535509053454,
          183.87300603858588,
          183.95393946367443,
          183.77476008293374,
          186.03480650636055,
          186.8960429449889,
          187.92491707731557,
          186.30647870120615,
          191.61268080906873,
          192.74557174056872,
          198.83209456394505,
          203.94754020007656,
          194.15594111438352,
          195.83219413754875,
          198.2540720072047,
          203.5082480135066,
          203.2250341316186,
          203.30596755670717,
          202.14413389773128,
          207.43298807108226,
          211.86060580580494,
          208.12083367446513,
          210.88375777503887,
          204.40419802313207,
          209.1150296397427
         ]
        },
        {
         "line": {
          "color": "rgba(55, 128, 191, 1.0)",
          "dash": "solid",
          "shape": "linear",
          "width": 1.3
         },
         "mode": "lines",
         "name": "AMZN",
         "text": "",
         "type": "scatter",
         "x": [
          "2019-05-31",
          "2019-06-03",
          "2019-06-04",
          "2019-06-05",
          "2019-06-06",
          "2019-06-07",
          "2019-06-10",
          "2019-06-11",
          "2019-06-12",
          "2019-06-13",
          "2019-06-14",
          "2019-06-17",
          "2019-06-18",
          "2019-06-19",
          "2019-06-20",
          "2019-06-21",
          "2019-06-24",
          "2019-06-25",
          "2019-06-26",
          "2019-06-27",
          "2019-06-28",
          "2019-07-01",
          "2019-07-02",
          "2019-07-03",
          "2019-07-05",
          "2019-07-08",
          "2019-07-09",
          "2019-07-10",
          "2019-07-11",
          "2019-07-12",
          "2019-07-15",
          "2019-07-16",
          "2019-07-17",
          "2019-07-18",
          "2019-07-19",
          "2019-07-22",
          "2019-07-23",
          "2019-07-24",
          "2019-07-25",
          "2019-07-26",
          "2019-07-29",
          "2019-07-30",
          "2019-07-31",
          "2019-08-01",
          "2019-08-02",
          "2019-08-05",
          "2019-08-06",
          "2019-08-07",
          "2019-08-08",
          "2019-08-09",
          "2019-08-12",
          "2019-08-13",
          "2019-08-14",
          "2019-08-15",
          "2019-08-16",
          "2019-08-19",
          "2019-08-20",
          "2019-08-21",
          "2019-08-22",
          "2019-08-23",
          "2019-08-26",
          "2019-08-27",
          "2019-08-28",
          "2019-08-29",
          "2019-08-30",
          "2019-09-03",
          "2019-09-04",
          "2019-09-05",
          "2019-09-06",
          "2019-09-09",
          "2019-09-10",
          "2019-09-11",
          "2019-09-12",
          "2019-09-13",
          "2019-09-16",
          "2019-09-17",
          "2019-09-18",
          "2019-09-19",
          "2019-09-20",
          "2019-09-23",
          "2019-09-24",
          "2019-09-25",
          "2019-09-26",
          "2019-09-27",
          "2019-09-30",
          "2019-10-01",
          "2019-10-02",
          "2019-10-03",
          "2019-10-04",
          "2019-10-07",
          "2019-10-08",
          "2019-10-09",
          "2019-10-10",
          "2019-10-11",
          "2019-10-14",
          "2019-10-15",
          "2019-10-16",
          "2019-10-17",
          "2019-10-18",
          "2019-10-21",
          "2019-10-22",
          "2019-10-23",
          "2019-10-24",
          "2019-10-25",
          "2019-10-28",
          "2019-10-29",
          "2019-10-30",
          "2019-10-31",
          "2019-11-01",
          "2019-11-04",
          "2019-11-05",
          "2019-11-06",
          "2019-11-07",
          "2019-11-08",
          "2019-11-11",
          "2019-11-12",
          "2019-11-13",
          "2019-11-14",
          "2019-11-15",
          "2019-11-18",
          "2019-11-19",
          "2019-11-20",
          "2019-11-21",
          "2019-11-22",
          "2019-11-25",
          "2019-11-26",
          "2019-11-27",
          "2019-11-29",
          "2019-12-02",
          "2019-12-03",
          "2019-12-04",
          "2019-12-05",
          "2019-12-06",
          "2019-12-09",
          "2019-12-10",
          "2019-12-11",
          "2019-12-12",
          "2019-12-13",
          "2019-12-16",
          "2019-12-17",
          "2019-12-18",
          "2019-12-19",
          "2019-12-20",
          "2019-12-23",
          "2019-12-24",
          "2019-12-26",
          "2019-12-27",
          "2019-12-30",
          "2019-12-31",
          "2020-01-02",
          "2020-01-03",
          "2020-01-06",
          "2020-01-07",
          "2020-01-08",
          "2020-01-09",
          "2020-01-10",
          "2020-01-13",
          "2020-01-14",
          "2020-01-15",
          "2020-01-16",
          "2020-01-17",
          "2020-01-21",
          "2020-01-22",
          "2020-01-23",
          "2020-01-24",
          "2020-01-27",
          "2020-01-28",
          "2020-01-29",
          "2020-01-30",
          "2020-01-31",
          "2020-02-03",
          "2020-02-04",
          "2020-02-05",
          "2020-02-06",
          "2020-02-07",
          "2020-02-10",
          "2020-02-11",
          "2020-02-12",
          "2020-02-13",
          "2020-02-14",
          "2020-02-18",
          "2020-02-19",
          "2020-02-20",
          "2020-02-21",
          "2020-02-24",
          "2020-02-25",
          "2020-02-26",
          "2020-02-27",
          "2020-02-28",
          "2020-03-02",
          "2020-03-03",
          "2020-03-04",
          "2020-03-05",
          "2020-03-06",
          "2020-03-09",
          "2020-03-10",
          "2020-03-11",
          "2020-03-12",
          "2020-03-13",
          "2020-03-16",
          "2020-03-17",
          "2020-03-18",
          "2020-03-19",
          "2020-03-20",
          "2020-03-23",
          "2020-03-24",
          "2020-03-25",
          "2020-03-26",
          "2020-03-27",
          "2020-03-30",
          "2020-03-31",
          "2020-04-01",
          "2020-04-02",
          "2020-04-03",
          "2020-04-06",
          "2020-04-07",
          "2020-04-08",
          "2020-04-09",
          "2020-04-13",
          "2020-04-14",
          "2020-04-15",
          "2020-04-16",
          "2020-04-17",
          "2020-04-20",
          "2020-04-21",
          "2020-04-22",
          "2020-04-23",
          "2020-04-24",
          "2020-04-27",
          "2020-04-28",
          "2020-04-29",
          "2020-04-30",
          "2020-05-01",
          "2020-05-04",
          "2020-05-05",
          "2020-05-06",
          "2020-05-07",
          "2020-05-08",
          "2020-05-11",
          "2020-05-12",
          "2020-05-13",
          "2020-05-14",
          "2020-05-15",
          "2020-05-18",
          "2020-05-19",
          "2020-05-20",
          "2020-05-21",
          "2020-05-22",
          "2020-05-26",
          "2020-05-27",
          "2020-05-28",
          "2020-05-29",
          "2020-06-01",
          "2020-06-02",
          "2020-06-03",
          "2020-06-04",
          "2020-06-05",
          "2020-06-08",
          "2020-06-09",
          "2020-06-10",
          "2020-06-11",
          "2020-06-12",
          "2020-06-15",
          "2020-06-16",
          "2020-06-17",
          "2020-06-18",
          "2020-06-19",
          "2020-06-22",
          "2020-06-23",
          "2020-06-24",
          "2020-06-25",
          "2020-06-26",
          "2020-06-29"
         ],
         "y": [
          100,
          95.3590558470648,
          97.43616369650925,
          97.93980252071107,
          98.83328761321232,
          101.63148968120134,
          104.82009504879628,
          104.99304295405942,
          104.5209486064349,
          105.36486478959037,
          105.32937295535984,
          106.25102595195104,
          107.11521532388998,
          107.53322949627935,
          108.06278059162639,
          107.6746329249652,
          107.82110465084693,
          105.81385953032083,
          106.91578436231572,
          107.27915445123372,
          106.67917671873212,
          108.28812382434589,
          108.97092042133849,
          109.23513206077583,
          109.45540699629946,
          109.98552199988268,
          112.01249015481551,
          113.65242470570007,
          112.73189264865154,
          113.29131024972676,
          113.85410442328934,
          113.22934223611485,
          112.22262161901769,
          111.42659637435888,
          110.67282298583496,
          111.86207107128054,
          112.36120550652267,
          112.71725166530011,
          111.19674187574998,
          109.4632948346762,
          107.73941360282828,
          106.95522355419946,
          105.16656164448845,
          104.5209486064349,
          102.71369835571922,
          99.44002536761832,
          100.71884546252956,
          101.03263976517212,
          103.25734028004096,
          101.8314776740821,
          100.55491321211554,
          102.77566636933115,
          99.31777418817329,
          100.05915534936076,
          100.9858766431478,
          102.31258767655571,
          101.48219841413875,
          102.73060184894507,
          101.66698151543187,
          98.56625643259409,
          99.65072074005667,
          99.25411444985285,
          99.39044958134284,
          100.638289107913,
          100.06873491244603,
          100.83208098712548,
          101.43938264976767,
          103.69844718239467,
          103.2922682060353,
          103.17058093482645,
          102.56215833264164,
          102.69961440367426,
          103.85788192077874,
          103.62070349202925,
          101.84612553436322,
          102.67482994900136,
          102.38807573397644,
          102.61567459964063,
          101.07545552954318,
          100.57632109430105,
          98.11500605891892,
          99.62029720302202,
          98.01529057813178,
          97.20461747319183,
          97.79389470306552,
          97.77924684278437,
          96.51619554769691,
          97.14659681723315,
          98.00459007550387,
          97.61080332648093,
          96.08128475901141,
          97.00969777750697,
          96.91223792966454,
          97.56911537858221,
          97.82319042362782,
          99.56678093602302,
          100.13295855900265,
          100.69912930505257,
          99.01074678436485,
          100.59660116001426,
          99.4738254771403,
          99.27327357602339,
          100.32168214101928,
          99.22594654576291,
          100.11323552459592,
          99.30369023612832,
          100.27717465193969,
          100.08957888639539,
          100.92221690482734,
          101.66698151543187,
          101.5007867551434,
          101.16615535548121,
          100.73968943647893,
          100.6089933873507,
          99.80733593725985,
          100.1650669438161,
          98.76286785298747,
          98.8468076570211,
          97.99557442065478,
          98.73019555993784,
          98.74484342021898,
          98.33584490267873,
          97.72628760709185,
          98.34654540530664,
          99.93070805624751,
          101.23206384981667,
          102.44723108333717,
          101.44952612108911,
          100.36787447787772,
          99.7121248454324,
          99.18989080329622,
          98.05134632059847,
          98.67780023248149,
          98.56006031892586,
          97.97979874390128,
          98.51555282984627,
          99.16961073758304,
          99.20397475534119,
          99.6698729892975,
          100.87828020091362,
          100.50477351760388,
          100.96954393508784,
          100.64392131334503,
          101.0101040665142,
          100.79658915289498,
          105.27866935261203,
          105.33669688550043,
          104.04604159455918,
          104.0995578615582,
          106.92592783363718,
          105.62794861255536,
          107.20028294439597,
          107.42449836064311,
          106.58565735161322,
          107.09719089112149,
          106.08934245755196,
          106.54791676136772,
          105.31640994285753,
          104.89840264739787,
          105.79526431238646,
          105.05050657871165,
          106.58734907632174,
          106.33158230656761,
          106.1693349039324,
          104.87699476521233,
          103.00100960205066,
          104.40433650935164,
          104.67193159820603,
          105.3862726717759,
          113.16286295661354,
          112.90822400333174,
          115.46981155080749,
          114.91772475680253,
          115.50136290431448,
          117.13792088271168,
          120.2155394817257,
          121.16705898404506,
          121.685345668528,
          121.11467053351839,
          120.26963341082029,
          121.44140721787413,
          122.26109597766319,
          121.29663409363063,
          118.07816222030753,
          113.1949782183567,
          111.13590167861041,
          111.5218005892566,
          106.15356610410859,
          106.12257865883778,
          110.07734964229306,
          107.54449390714342,
          111.3099774003459,
          108.39178666278625,
          107.09943964713648,
          101.43881874153149,
          106.5772056050003,
          102.57961885717395,
          94.45317852722711,
          100.55941760107522,
          95.15963176242023,
          101.84612553436322,
          103.09452896916955,
          105.96371470561961,
          104.00097019724342,
          107.1974634032151,
          109.29710007438776,
          106.2403185723934,
          110.16410898750757,
          107.04366774719279,
          110.6407077240918,
          109.83905027400094,
          107.47181851397389,
          108.09883633409308,
          107.40928659212578,
          112.53584513649433,
          113.32511035924875,
          115.09405611148273,
          115.08053606767395,
          122.185050888936,
          128.63268138435072,
          130.00501396945117,
          135.6673265997647,
          133.79754442720093,
          134.84595986912652,
          131.15652834158095,
          133.1491187248962,
          135.17495218642696,
          135.78168994083296,
          133.8538802353808,
          130.365571394118,
          133.6685332258515,
          139.37478943700845,
          128.78591313213684,
          130.4731678363522,
          130.575138950084,
          132.4601328911651,
          133.3812288564498,
          134.0572585546083,
          135.71296190531666,
          132.78068033878233,
          133.3986825040524,
          134.57780087203594,
          135.7569054861601,
          136.68531850465564,
          137.98498945044597,
          140.72346538390838,
          137.8390747558707,
          137.28359763551902,
          136.43744645020797,
          135.79126262698853,
          135.2679145222394,
          137.59289442613155,
          139.20803764541353,
          139.28521055061307,
          139.62266149145614,
          138.6198951089419,
          139.88181171062732,
          142.1949632954192,
          146.52155611440543,
          149.14623261503573,
          144.1047416911732,
          143.37575963425186,
          144.9340031371178,
          147.333350158888,
          148.78174158657507,
          149.51410709291343,
          150.69885078939933,
          152.8852468057865,
          155.7352665391363,
          154.0446283855039,
          155.18149489735254,
          151.70501437519002,
          151.00136692731837
         ]
        },
        {
         "line": {
          "color": "rgba(50, 171, 96, 1.0)",
          "dash": "solid",
          "shape": "linear",
          "width": 1.3
         },
         "mode": "lines",
         "name": "FB",
         "text": "",
         "type": "scatter",
         "x": [
          "2019-05-31",
          "2019-06-03",
          "2019-06-04",
          "2019-06-05",
          "2019-06-06",
          "2019-06-07",
          "2019-06-10",
          "2019-06-11",
          "2019-06-12",
          "2019-06-13",
          "2019-06-14",
          "2019-06-17",
          "2019-06-18",
          "2019-06-19",
          "2019-06-20",
          "2019-06-21",
          "2019-06-24",
          "2019-06-25",
          "2019-06-26",
          "2019-06-27",
          "2019-06-28",
          "2019-07-01",
          "2019-07-02",
          "2019-07-03",
          "2019-07-05",
          "2019-07-08",
          "2019-07-09",
          "2019-07-10",
          "2019-07-11",
          "2019-07-12",
          "2019-07-15",
          "2019-07-16",
          "2019-07-17",
          "2019-07-18",
          "2019-07-19",
          "2019-07-22",
          "2019-07-23",
          "2019-07-24",
          "2019-07-25",
          "2019-07-26",
          "2019-07-29",
          "2019-07-30",
          "2019-07-31",
          "2019-08-01",
          "2019-08-02",
          "2019-08-05",
          "2019-08-06",
          "2019-08-07",
          "2019-08-08",
          "2019-08-09",
          "2019-08-12",
          "2019-08-13",
          "2019-08-14",
          "2019-08-15",
          "2019-08-16",
          "2019-08-19",
          "2019-08-20",
          "2019-08-21",
          "2019-08-22",
          "2019-08-23",
          "2019-08-26",
          "2019-08-27",
          "2019-08-28",
          "2019-08-29",
          "2019-08-30",
          "2019-09-03",
          "2019-09-04",
          "2019-09-05",
          "2019-09-06",
          "2019-09-09",
          "2019-09-10",
          "2019-09-11",
          "2019-09-12",
          "2019-09-13",
          "2019-09-16",
          "2019-09-17",
          "2019-09-18",
          "2019-09-19",
          "2019-09-20",
          "2019-09-23",
          "2019-09-24",
          "2019-09-25",
          "2019-09-26",
          "2019-09-27",
          "2019-09-30",
          "2019-10-01",
          "2019-10-02",
          "2019-10-03",
          "2019-10-04",
          "2019-10-07",
          "2019-10-08",
          "2019-10-09",
          "2019-10-10",
          "2019-10-11",
          "2019-10-14",
          "2019-10-15",
          "2019-10-16",
          "2019-10-17",
          "2019-10-18",
          "2019-10-21",
          "2019-10-22",
          "2019-10-23",
          "2019-10-24",
          "2019-10-25",
          "2019-10-28",
          "2019-10-29",
          "2019-10-30",
          "2019-10-31",
          "2019-11-01",
          "2019-11-04",
          "2019-11-05",
          "2019-11-06",
          "2019-11-07",
          "2019-11-08",
          "2019-11-11",
          "2019-11-12",
          "2019-11-13",
          "2019-11-14",
          "2019-11-15",
          "2019-11-18",
          "2019-11-19",
          "2019-11-20",
          "2019-11-21",
          "2019-11-22",
          "2019-11-25",
          "2019-11-26",
          "2019-11-27",
          "2019-11-29",
          "2019-12-02",
          "2019-12-03",
          "2019-12-04",
          "2019-12-05",
          "2019-12-06",
          "2019-12-09",
          "2019-12-10",
          "2019-12-11",
          "2019-12-12",
          "2019-12-13",
          "2019-12-16",
          "2019-12-17",
          "2019-12-18",
          "2019-12-19",
          "2019-12-20",
          "2019-12-23",
          "2019-12-24",
          "2019-12-26",
          "2019-12-27",
          "2019-12-30",
          "2019-12-31",
          "2020-01-02",
          "2020-01-03",
          "2020-01-06",
          "2020-01-07",
          "2020-01-08",
          "2020-01-09",
          "2020-01-10",
          "2020-01-13",
          "2020-01-14",
          "2020-01-15",
          "2020-01-16",
          "2020-01-17",
          "2020-01-21",
          "2020-01-22",
          "2020-01-23",
          "2020-01-24",
          "2020-01-27",
          "2020-01-28",
          "2020-01-29",
          "2020-01-30",
          "2020-01-31",
          "2020-02-03",
          "2020-02-04",
          "2020-02-05",
          "2020-02-06",
          "2020-02-07",
          "2020-02-10",
          "2020-02-11",
          "2020-02-12",
          "2020-02-13",
          "2020-02-14",
          "2020-02-18",
          "2020-02-19",
          "2020-02-20",
          "2020-02-21",
          "2020-02-24",
          "2020-02-25",
          "2020-02-26",
          "2020-02-27",
          "2020-02-28",
          "2020-03-02",
          "2020-03-03",
          "2020-03-04",
          "2020-03-05",
          "2020-03-06",
          "2020-03-09",
          "2020-03-10",
          "2020-03-11",
          "2020-03-12",
          "2020-03-13",
          "2020-03-16",
          "2020-03-17",
          "2020-03-18",
          "2020-03-19",
          "2020-03-20",
          "2020-03-23",
          "2020-03-24",
          "2020-03-25",
          "2020-03-26",
          "2020-03-27",
          "2020-03-30",
          "2020-03-31",
          "2020-04-01",
          "2020-04-02",
          "2020-04-03",
          "2020-04-06",
          "2020-04-07",
          "2020-04-08",
          "2020-04-09",
          "2020-04-13",
          "2020-04-14",
          "2020-04-15",
          "2020-04-16",
          "2020-04-17",
          "2020-04-20",
          "2020-04-21",
          "2020-04-22",
          "2020-04-23",
          "2020-04-24",
          "2020-04-27",
          "2020-04-28",
          "2020-04-29",
          "2020-04-30",
          "2020-05-01",
          "2020-05-04",
          "2020-05-05",
          "2020-05-06",
          "2020-05-07",
          "2020-05-08",
          "2020-05-11",
          "2020-05-12",
          "2020-05-13",
          "2020-05-14",
          "2020-05-15",
          "2020-05-18",
          "2020-05-19",
          "2020-05-20",
          "2020-05-21",
          "2020-05-22",
          "2020-05-26",
          "2020-05-27",
          "2020-05-28",
          "2020-05-29",
          "2020-06-01",
          "2020-06-02",
          "2020-06-03",
          "2020-06-04",
          "2020-06-05",
          "2020-06-08",
          "2020-06-09",
          "2020-06-10",
          "2020-06-11",
          "2020-06-12",
          "2020-06-15",
          "2020-06-16",
          "2020-06-17",
          "2020-06-18",
          "2020-06-19",
          "2020-06-22",
          "2020-06-23",
          "2020-06-24",
          "2020-06-25",
          "2020-06-26",
          "2020-06-29"
         ],
         "y": [
          100,
          92.49450203831695,
          94.3821484464271,
          94.75967600845833,
          94.84983415406536,
          97.67848363731973,
          98.50679332943216,
          100.35499232460647,
          98.63075003219933,
          100,
          102.17501582453433,
          106.50250363822424,
          106.19823064424297,
          105.64038679099768,
          106.7955133124701,
          107.70270923250021,
          108.52538726474492,
          106.40671383274952,
          105.74181685429409,
          106.77860973491305,
          108.75077403080853,
          108.75077403080853,
          109.87772505703452,
          111.11736946629232,
          110.66658733621114,
          110.30596335173696,
          112.24996075034002,
          114.23338836597088,
          113.3881750963014,
          115.43922562011453,
          114.89829394238029,
          114.85884652944446,
          113.7093602657937,
          113.13461283499133,
          111.77100312501236,
          114.00236994003959,
          114.02490517746435,
          115.32090057721504,
          113.09517402000951,
          112.55423374432128,
          110.40739341503338,
          111.0272113206853,
          109.4438465045104,
          108.59863323484092,
          106.50814389604592,
          102.40040259059793,
          103.96686382921574,
          104.3274878136899,
          107.15050563707658,
          105.8488785774582,
          104.45145311441108,
          106.1869587265536,
          101.26218824463655,
          102.88499187579328,
          103.51045003926687,
          104.90223524449227,
          103.57243268962743,
          103.4259321514815,
          102.57507862399031,
          100.15777245583533,
          101.62844388897841,
          102.15811224697727,
          102.41730616815501,
          104.56415509539687,
          104.62049748793578,
          102.77229849276146,
          105.4488071800482,
          107.56747201408965,
          105.64602704881936,
          106.36163475994597,
          104.90223524449227,
          106.20950256193235,
          105.63475513112996,
          105.47698267529466,
          104.93041073973872,
          105.97847553804706,
          106.01228269316121,
          107.1392337193872,
          107.02090007853371,
          105.26849948678813,
          102.1468403292879,
          103.00332551664675,
          101.48757501070016,
          99.79151681149348,
          100.34372040691709,
          99.06462858472347,
          98.38282802871097,
          101.07624029355478,
          101.6791546216496,
          101.24527606912548,
          100.15777245583533,
          101.3410744725542,
          101.44249593789662,
          103.78655613595566,
          103.27379135551386,
          106.43488932799596,
          106.80678523015949,
          107.28010259766545,
          104.7219275512322,
          106.92511027305898,
          102.744122997515,
          104.8909633268029,
          105.02056888534577,
          105.87141381488297,
          106.72225874442015,
          106.67154801174894,
          106.0742653435218,
          107.99007864892438,
          109.10012609759332,
          109.7199526011992,
          109.49456583513562,
          107.93373625638549,
          107.2970061752225,
          107.53366485897551,
          106.84059238527364,
          109.57908372292096,
          108.85783575397264,
          108.8352919185939,
          109.93407604752743,
          111.23006284932413,
          112.31194340070059,
          111.29204549968472,
          111.5287041834377,
          112.0302056441441,
          112.57676898174603,
          112.11472353192944,
          113.82205364882552,
          113.61920212018669,
          112.52605824907482,
          112.0302056441441,
          111.96822299378351,
          112.33447863812536,
          113.28675363095897,
          113.45015774666199,
          113.18532356766255,
          113.96855418697145,
          110.86380720498228,
          109.37623219428212,
          111.52307252357001,
          111.78790670256944,
          114.103791405382,
          116.10976285639165,
          116.2450000748022,
          116.17737716661993,
          115.5800944983928,
          117.08457308665001,
          117.25925771799639,
          115.1800316989368,
          115.65334906644276,
          118.20589245300832,
          117.58043428953474,
          119.79489752700488,
          120.05409144818262,
          121.27120062001566,
          123.00670623215817,
          122.87146901374761,
          125.04085317841425,
          123.43494452686062,
          124.6126062857578,
          124.96196695049659,
          125.17045013900312,
          124.77601899941482,
          124.70840468918654,
          123.82937566644891,
          122.80385470351933,
          121.07398075124452,
          122.71932821777997,
          125.78463638478735,
          118.06502357473005,
          113.7713429161543,
          115.05606639821562,
          118.23406794825475,
          118.39184040409008,
          118.80881537905714,
          119.64275673103725,
          120.05409144818262,
          116.74649293755462,
          118.75809604843192,
          120.09917052098615,
          120.6851812715239,
          122.72496847560168,
          122.55029244220927,
          120.9105766355415,
          118.43127921907191,
          113.1008056798772,
          110.87507912267165,
          111.11736946629232,
          106.91947861319129,
          108.45213269669496,
          110.68913117158989,
          104.74446278865696,
          108.05206129928497,
          104.33875973137927,
          102.03977860612376,
          95.50909947265309,
          100.40570305727768,
          95.92607444762015,
          87.04006319840106,
          95.9486096850449,
          82.27305657436533,
          84.19451013758962,
          82.80836519018588,
          86.28500807433859,
          84.36918617098202,
          83.45072693121654,
          90.70828569350323,
          88.02051368648111,
          92.03808824836807,
          88.34732191788713,
          93.50875968151115,
          93.98771730683879,
          89.93069533201601,
          89.13619279501772,
          86.87665048474405,
          93.28337291544754,
          95.13157191062186,
          98.2025117374969,
          98.71527651793869,
          98.48988115392109,
          100.3944311395883,
          99.7182622434435,
          99.31255918616583,
          100.99735406563713,
          100.43387855252412,
          96.24161935929078,
          102.71031584240089,
          104.31622449395452,
          107.09979490440537,
          105.65165870868705,
          103.06530816700734,
          109.42131126708563,
          115.3490760724615,
          113.97419444479313,
          115.65898072631045,
          116.67887862732633,
          117.46774090650291,
          119.03983380498843,
          119.65402864872662,
          120.1217057584109,
          118.38620874422239,
          115.56883117865739,
          116.53236949122639,
          118.8257189566142,
          120.12734601623258,
          122.2065720352922,
          129.58246443843237,
          130.38259863529836,
          132.36603484888323,
          130.83901242524723,
          129.11477873079411,
          127.04119296955618,
          126.83270118309566,
          130.67560830954423,
          131.1320220994931,
          129.6895261615965,
          127.50887007924045,
          130.03324656851356,
          130.38823029516604,
          134.48469968292466,
          133.3915558118128,
          126.46080528093214,
          128.79923381912346,
          131.00805679877195,
          132.78300122589627,
          132.715386915668,
          132.94641393955328,
          134.55231399315292,
          134.7946129347276,
          136.49631139175597,
          131.86454198613083,
          132.79990480345336,
          121.75578990521099,
          124.32523686933364
         ]
        },
        {
         "line": {
          "color": "rgba(128, 0, 128, 1.0)",
          "dash": "solid",
          "shape": "linear",
          "width": 1.3
         },
         "mode": "lines",
         "name": "GOOG",
         "text": "",
         "type": "scatter",
         "x": [
          "2019-05-31",
          "2019-06-03",
          "2019-06-04",
          "2019-06-05",
          "2019-06-06",
          "2019-06-07",
          "2019-06-10",
          "2019-06-11",
          "2019-06-12",
          "2019-06-13",
          "2019-06-14",
          "2019-06-17",
          "2019-06-18",
          "2019-06-19",
          "2019-06-20",
          "2019-06-21",
          "2019-06-24",
          "2019-06-25",
          "2019-06-26",
          "2019-06-27",
          "2019-06-28",
          "2019-07-01",
          "2019-07-02",
          "2019-07-03",
          "2019-07-05",
          "2019-07-08",
          "2019-07-09",
          "2019-07-10",
          "2019-07-11",
          "2019-07-12",
          "2019-07-15",
          "2019-07-16",
          "2019-07-17",
          "2019-07-18",
          "2019-07-19",
          "2019-07-22",
          "2019-07-23",
          "2019-07-24",
          "2019-07-25",
          "2019-07-26",
          "2019-07-29",
          "2019-07-30",
          "2019-07-31",
          "2019-08-01",
          "2019-08-02",
          "2019-08-05",
          "2019-08-06",
          "2019-08-07",
          "2019-08-08",
          "2019-08-09",
          "2019-08-12",
          "2019-08-13",
          "2019-08-14",
          "2019-08-15",
          "2019-08-16",
          "2019-08-19",
          "2019-08-20",
          "2019-08-21",
          "2019-08-22",
          "2019-08-23",
          "2019-08-26",
          "2019-08-27",
          "2019-08-28",
          "2019-08-29",
          "2019-08-30",
          "2019-09-03",
          "2019-09-04",
          "2019-09-05",
          "2019-09-06",
          "2019-09-09",
          "2019-09-10",
          "2019-09-11",
          "2019-09-12",
          "2019-09-13",
          "2019-09-16",
          "2019-09-17",
          "2019-09-18",
          "2019-09-19",
          "2019-09-20",
          "2019-09-23",
          "2019-09-24",
          "2019-09-25",
          "2019-09-26",
          "2019-09-27",
          "2019-09-30",
          "2019-10-01",
          "2019-10-02",
          "2019-10-03",
          "2019-10-04",
          "2019-10-07",
          "2019-10-08",
          "2019-10-09",
          "2019-10-10",
          "2019-10-11",
          "2019-10-14",
          "2019-10-15",
          "2019-10-16",
          "2019-10-17",
          "2019-10-18",
          "2019-10-21",
          "2019-10-22",
          "2019-10-23",
          "2019-10-24",
          "2019-10-25",
          "2019-10-28",
          "2019-10-29",
          "2019-10-30",
          "2019-10-31",
          "2019-11-01",
          "2019-11-04",
          "2019-11-05",
          "2019-11-06",
          "2019-11-07",
          "2019-11-08",
          "2019-11-11",
          "2019-11-12",
          "2019-11-13",
          "2019-11-14",
          "2019-11-15",
          "2019-11-18",
          "2019-11-19",
          "2019-11-20",
          "2019-11-21",
          "2019-11-22",
          "2019-11-25",
          "2019-11-26",
          "2019-11-27",
          "2019-11-29",
          "2019-12-02",
          "2019-12-03",
          "2019-12-04",
          "2019-12-05",
          "2019-12-06",
          "2019-12-09",
          "2019-12-10",
          "2019-12-11",
          "2019-12-12",
          "2019-12-13",
          "2019-12-16",
          "2019-12-17",
          "2019-12-18",
          "2019-12-19",
          "2019-12-20",
          "2019-12-23",
          "2019-12-24",
          "2019-12-26",
          "2019-12-27",
          "2019-12-30",
          "2019-12-31",
          "2020-01-02",
          "2020-01-03",
          "2020-01-06",
          "2020-01-07",
          "2020-01-08",
          "2020-01-09",
          "2020-01-10",
          "2020-01-13",
          "2020-01-14",
          "2020-01-15",
          "2020-01-16",
          "2020-01-17",
          "2020-01-21",
          "2020-01-22",
          "2020-01-23",
          "2020-01-24",
          "2020-01-27",
          "2020-01-28",
          "2020-01-29",
          "2020-01-30",
          "2020-01-31",
          "2020-02-03",
          "2020-02-04",
          "2020-02-05",
          "2020-02-06",
          "2020-02-07",
          "2020-02-10",
          "2020-02-11",
          "2020-02-12",
          "2020-02-13",
          "2020-02-14",
          "2020-02-18",
          "2020-02-19",
          "2020-02-20",
          "2020-02-21",
          "2020-02-24",
          "2020-02-25",
          "2020-02-26",
          "2020-02-27",
          "2020-02-28",
          "2020-03-02",
          "2020-03-03",
          "2020-03-04",
          "2020-03-05",
          "2020-03-06",
          "2020-03-09",
          "2020-03-10",
          "2020-03-11",
          "2020-03-12",
          "2020-03-13",
          "2020-03-16",
          "2020-03-17",
          "2020-03-18",
          "2020-03-19",
          "2020-03-20",
          "2020-03-23",
          "2020-03-24",
          "2020-03-25",
          "2020-03-26",
          "2020-03-27",
          "2020-03-30",
          "2020-03-31",
          "2020-04-01",
          "2020-04-02",
          "2020-04-03",
          "2020-04-06",
          "2020-04-07",
          "2020-04-08",
          "2020-04-09",
          "2020-04-13",
          "2020-04-14",
          "2020-04-15",
          "2020-04-16",
          "2020-04-17",
          "2020-04-20",
          "2020-04-21",
          "2020-04-22",
          "2020-04-23",
          "2020-04-24",
          "2020-04-27",
          "2020-04-28",
          "2020-04-29",
          "2020-04-30",
          "2020-05-01",
          "2020-05-04",
          "2020-05-05",
          "2020-05-06",
          "2020-05-07",
          "2020-05-08",
          "2020-05-11",
          "2020-05-12",
          "2020-05-13",
          "2020-05-14",
          "2020-05-15",
          "2020-05-18",
          "2020-05-19",
          "2020-05-20",
          "2020-05-21",
          "2020-05-22",
          "2020-05-26",
          "2020-05-27",
          "2020-05-28",
          "2020-05-29",
          "2020-06-01",
          "2020-06-02",
          "2020-06-03",
          "2020-06-04",
          "2020-06-05",
          "2020-06-08",
          "2020-06-09",
          "2020-06-10",
          "2020-06-11",
          "2020-06-12",
          "2020-06-15",
          "2020-06-16",
          "2020-06-17",
          "2020-06-18",
          "2020-06-19",
          "2020-06-22",
          "2020-06-23",
          "2020-06-24",
          "2020-06-25",
          "2020-06-26",
          "2020-06-29"
         ],
         "y": [
          100,
          93.89287858105858,
          95.4169462744846,
          94.43563205893372,
          94.62772498027583,
          96.59397029312338,
          97.8933157038922,
          97.74289987862984,
          97.58977415725826,
          98.6535355793321,
          98.34364513324228,
          98.9915093977538,
          99.99727904309033,
          99.88220247525229,
          100.70585604124882,
          101.65363390984805,
          101.07735514582173,
          98.43425521049423,
          97.84076584097423,
          97.4973501087332,
          97.94134169942782,
          99.48532989445673,
          100.69044834622783,
          101.6264464623523,
          102.53345422050835,
          101.15255752805268,
          101.92092921342113,
          103.33897913457422,
          103.6769529529959,
          103.739479657916,
          104.23239316898238,
          104.52596893441466,
          103.87085984561114,
          103.86904587433803,
          102.39844609026699,
          103.12060575137289,
          103.85817310749981,
          103.0970573072238,
          102.58148021604399,
          113.29974979363311,
          112.3030389438617,
          111.0100313717483,
          110.24347365765297,
          109.54849038324235,
          108.18752525319002,
          104.41179935221317,
          106.00925545659703,
          106.37532370815104,
          109.16702549746779,
          107.64567876095144,
          106.44056030918034,
          108.48472896116851,
          105.49641038312731,
          105.7655196579735,
          106.70242475973453,
          108.59164265827756,
          107.16362695592284,
          107.9392545263837,
          107.78340784810247,
          104.31847937885199,
          105.9132145263262,
          105.81806952089148,
          106.10621443330486,
          108.08422843782675,
          107.65383057087999,
          105.86790948770022,
          107.04765446324866,
          109.76323582389746,
          109.17880524994257,
          109.13168624004348,
          109.27575316584996,
          110.55970194239823,
          111.83548784821751,
          112.31663266760957,
          111.56819254464443,
          111.37337866639265,
          111.66876840309806,
          112.23960525330506,
          111.44405718124129,
          111.81555628581418,
          110.43193863644885,
          112.94727526582697,
          112.48244512709246,
          111.00549644356552,
          110.45368417012529,
          109.1942018841631,
          106.61453563939224,
          107.62936408029388,
          109.54758339760579,
          109.42798296238543,
          107.74716160504161,
          108.94140728997448,
          109.51768605400083,
          110.1320139715607,
          110.28515075373271,
          112.6292330098086,
          112.68631780090936,
          113.54076463534697,
          112.85394423166537,
          112.91374997967579,
          112.61020843304183,
          114.089867012678,
          114.25840042907056,
          114.63352747618968,
          116.88699965501364,
          114.40609529742328,
          114.28558787656632,
          114.17866311865683,
          115.41367891403291,
          117.01113501841678,
          117.07094076642719,
          117.05010221838732,
          118.59590438468932,
          118.82333656345577,
          117.71970095577483,
          117.68437275915096,
          117.61188027302923,
          118.8314883733843,
          120.95267337887654,
          119.66872460232827,
          119.1939286823921,
          118.06946558747174,
          117.91542181966317,
          117.3708543705149,
          118.39927653516445,
          119.02087139861722,
          118.9701244461719,
          118.24252287124663,
          116.87975483072164,
          117.36542351749604,
          119.65423495374428,
          120.34196234306245,
          121.47368132307525,
          121.74008070181222,
          121.83974957462927,
          121.87236787514391,
          122.34807078071665,
          122.12697644060566,
          123.33572283492298,
          122.78752744322851,
          122.56100225009862,
          122.87089269618845,
          122.28645106143313,
          122.21849350349416,
          121.74008070181222,
          123.2659513057109,
          122.4948586634328,
          121.06774994671459,
          121.14748725712832,
          123.89750088956488,
          123.28951081066045,
          126.32947226598306,
          126.25064194120587,
          127.2455388197042,
          128.65090200274597,
          129.54794397970034,
          130.40873971359383,
          129.65214778070015,
          130.40601875668418,
          131.53864472233354,
          134.13825359030818,
          134.50160088495252,
          134.64203986821278,
          134.7054735587694,
          132.89870286674932,
          129.9257919837291,
          131.6165791222746,
          132.16657742444173,
          131.91377176945264,
          129.9556893273341,
          134.64113288257622,
          131.119119622225,
          131.2242304088614,
          133.76131257191594,
          134.03314280367178,
          136.70161621522195,
          136.7115819964236,
          137.570563759044,
          137.24346270746054,
          137.79436799526422,
          137.69742007935682,
          138.33349353059313,
          137.5596909922058,
          134.56593050034527,
          128.81037662357343,
          125.8075573361478,
          126.23615229262188,
          119.43223362799675,
          121.35679078396409,
          125.8673630841582,
          121.54345285228732,
          125.63268608109979,
          119.51831983786636,
          117.64903350172663,
          110.1419908135628,
          116.01623813991846,
          110.12839708981492,
          101.02208432599409,
          110.51982775679114,
          98.25122108471722,
          101.46516893105218,
          99.38113715425735,
          101.05651659778185,
          97.16299317205727,
          95.74041938352185,
          102.79350469978941,
          99.89670318463672,
          105.26625724745122,
          100.64151536505564,
          103.91344392732745,
          105.36230923852253,
          100.18031316886736,
          101.5593958900499,
          99.4789920558013,
          107.54691687377094,
          107.50976364507352,
          109.6635669510804,
          109.76957366255289,
          110.3232109680667,
          115.00502658076259,
          114.39250157367537,
          114.48311165092733,
          116.27538163356299,
          114.76762862079451,
          110.21265826761098,
          114.45955214597778,
          115.64655300661867,
          115.91838323837452,
          115.60758580664813,
          111.78293798529953,
          121.55160466221588,
          122.20218988363708,
          119.66057279239972,
          120.22145492220552,
          122.42418014858416,
          122.07896150587045,
          124.36777294211872,
          125.8003125118558,
          127.14949788943338,
          124.65590679373166,
          122.26289155648358,
          122.87904450611703,
          124.42484667241902,
          125.39890500287747,
          124.45158062709652,
          127.46300521726897,
          127.10782079335361,
          127.79826913958144,
          128.3962934372842,
          128.4705888338786,
          128.370012975425,
          129.4745555687425,
          129.73731594413277,
          130.40783272795727,
          130.15050320558586,
          127.95774376040892,
          130.33263034572633,
          131.07744252614523,
          131.94277318822154,
          132.8207795276087,
          127.20204775235133,
          128.04835383766084,
          128.65271597401906,
          130.7249679983391,
          131.48609485941557,
          130.1124429912519,
          129.72825714856768,
          131.55314543171798,
          132.6903063255501,
          129.75090966788065,
          130.59901866366286,
          123.22064626708493,
          126.39833680955857
         ]
        },
        {
         "line": {
          "color": "rgba(219, 64, 82, 1.0)",
          "dash": "solid",
          "shape": "linear",
          "width": 1.3
         },
         "mode": "lines",
         "name": "NFLX",
         "text": "",
         "type": "scatter",
         "x": [
          "2019-05-31",
          "2019-06-03",
          "2019-06-04",
          "2019-06-05",
          "2019-06-06",
          "2019-06-07",
          "2019-06-10",
          "2019-06-11",
          "2019-06-12",
          "2019-06-13",
          "2019-06-14",
          "2019-06-17",
          "2019-06-18",
          "2019-06-19",
          "2019-06-20",
          "2019-06-21",
          "2019-06-24",
          "2019-06-25",
          "2019-06-26",
          "2019-06-27",
          "2019-06-28",
          "2019-07-01",
          "2019-07-02",
          "2019-07-03",
          "2019-07-05",
          "2019-07-08",
          "2019-07-09",
          "2019-07-10",
          "2019-07-11",
          "2019-07-12",
          "2019-07-15",
          "2019-07-16",
          "2019-07-17",
          "2019-07-18",
          "2019-07-19",
          "2019-07-22",
          "2019-07-23",
          "2019-07-24",
          "2019-07-25",
          "2019-07-26",
          "2019-07-29",
          "2019-07-30",
          "2019-07-31",
          "2019-08-01",
          "2019-08-02",
          "2019-08-05",
          "2019-08-06",
          "2019-08-07",
          "2019-08-08",
          "2019-08-09",
          "2019-08-12",
          "2019-08-13",
          "2019-08-14",
          "2019-08-15",
          "2019-08-16",
          "2019-08-19",
          "2019-08-20",
          "2019-08-21",
          "2019-08-22",
          "2019-08-23",
          "2019-08-26",
          "2019-08-27",
          "2019-08-28",
          "2019-08-29",
          "2019-08-30",
          "2019-09-03",
          "2019-09-04",
          "2019-09-05",
          "2019-09-06",
          "2019-09-09",
          "2019-09-10",
          "2019-09-11",
          "2019-09-12",
          "2019-09-13",
          "2019-09-16",
          "2019-09-17",
          "2019-09-18",
          "2019-09-19",
          "2019-09-20",
          "2019-09-23",
          "2019-09-24",
          "2019-09-25",
          "2019-09-26",
          "2019-09-27",
          "2019-09-30",
          "2019-10-01",
          "2019-10-02",
          "2019-10-03",
          "2019-10-04",
          "2019-10-07",
          "2019-10-08",
          "2019-10-09",
          "2019-10-10",
          "2019-10-11",
          "2019-10-14",
          "2019-10-15",
          "2019-10-16",
          "2019-10-17",
          "2019-10-18",
          "2019-10-21",
          "2019-10-22",
          "2019-10-23",
          "2019-10-24",
          "2019-10-25",
          "2019-10-28",
          "2019-10-29",
          "2019-10-30",
          "2019-10-31",
          "2019-11-01",
          "2019-11-04",
          "2019-11-05",
          "2019-11-06",
          "2019-11-07",
          "2019-11-08",
          "2019-11-11",
          "2019-11-12",
          "2019-11-13",
          "2019-11-14",
          "2019-11-15",
          "2019-11-18",
          "2019-11-19",
          "2019-11-20",
          "2019-11-21",
          "2019-11-22",
          "2019-11-25",
          "2019-11-26",
          "2019-11-27",
          "2019-11-29",
          "2019-12-02",
          "2019-12-03",
          "2019-12-04",
          "2019-12-05",
          "2019-12-06",
          "2019-12-09",
          "2019-12-10",
          "2019-12-11",
          "2019-12-12",
          "2019-12-13",
          "2019-12-16",
          "2019-12-17",
          "2019-12-18",
          "2019-12-19",
          "2019-12-20",
          "2019-12-23",
          "2019-12-24",
          "2019-12-26",
          "2019-12-27",
          "2019-12-30",
          "2019-12-31",
          "2020-01-02",
          "2020-01-03",
          "2020-01-06",
          "2020-01-07",
          "2020-01-08",
          "2020-01-09",
          "2020-01-10",
          "2020-01-13",
          "2020-01-14",
          "2020-01-15",
          "2020-01-16",
          "2020-01-17",
          "2020-01-21",
          "2020-01-22",
          "2020-01-23",
          "2020-01-24",
          "2020-01-27",
          "2020-01-28",
          "2020-01-29",
          "2020-01-30",
          "2020-01-31",
          "2020-02-03",
          "2020-02-04",
          "2020-02-05",
          "2020-02-06",
          "2020-02-07",
          "2020-02-10",
          "2020-02-11",
          "2020-02-12",
          "2020-02-13",
          "2020-02-14",
          "2020-02-18",
          "2020-02-19",
          "2020-02-20",
          "2020-02-21",
          "2020-02-24",
          "2020-02-25",
          "2020-02-26",
          "2020-02-27",
          "2020-02-28",
          "2020-03-02",
          "2020-03-03",
          "2020-03-04",
          "2020-03-05",
          "2020-03-06",
          "2020-03-09",
          "2020-03-10",
          "2020-03-11",
          "2020-03-12",
          "2020-03-13",
          "2020-03-16",
          "2020-03-17",
          "2020-03-18",
          "2020-03-19",
          "2020-03-20",
          "2020-03-23",
          "2020-03-24",
          "2020-03-25",
          "2020-03-26",
          "2020-03-27",
          "2020-03-30",
          "2020-03-31",
          "2020-04-01",
          "2020-04-02",
          "2020-04-03",
          "2020-04-06",
          "2020-04-07",
          "2020-04-08",
          "2020-04-09",
          "2020-04-13",
          "2020-04-14",
          "2020-04-15",
          "2020-04-16",
          "2020-04-17",
          "2020-04-20",
          "2020-04-21",
          "2020-04-22",
          "2020-04-23",
          "2020-04-24",
          "2020-04-27",
          "2020-04-28",
          "2020-04-29",
          "2020-04-30",
          "2020-05-01",
          "2020-05-04",
          "2020-05-05",
          "2020-05-06",
          "2020-05-07",
          "2020-05-08",
          "2020-05-11",
          "2020-05-12",
          "2020-05-13",
          "2020-05-14",
          "2020-05-15",
          "2020-05-18",
          "2020-05-19",
          "2020-05-20",
          "2020-05-21",
          "2020-05-22",
          "2020-05-26",
          "2020-05-27",
          "2020-05-28",
          "2020-05-29",
          "2020-06-01",
          "2020-06-02",
          "2020-06-03",
          "2020-06-04",
          "2020-06-05",
          "2020-06-08",
          "2020-06-09",
          "2020-06-10",
          "2020-06-11",
          "2020-06-12",
          "2020-06-15",
          "2020-06-16",
          "2020-06-17",
          "2020-06-18",
          "2020-06-19",
          "2020-06-22",
          "2020-06-23",
          "2020-06-24",
          "2020-06-25",
          "2020-06-26",
          "2020-06-29"
         ],
         "y": [
          100,
          98.06280764386747,
          102.94802935014395,
          103.62678054395931,
          104.03460910998783,
          105.12409589852034,
          102.54311670280005,
          102.32754319004526,
          100.66418049038819,
          100.04369433028948,
          98.9658623264995,
          102.13819516546016,
          104.0316931913032,
          105.89605870028791,
          106.38836889820679,
          107.55359845257173,
          108.08669595209146,
          104.9580485534243,
          105.51153970374445,
          107.78955672613095,
          107.00303211093221,
          109.12374954427658,
          109.36553076520907,
          111.19785672864684,
          110.85702317239685,
          109.57818835927924,
          110.67641401386963,
          110.9881150532613,
          110.55115397037444,
          108.73048279167921,
          106.79329043554668,
          106.61558830570812,
          105.58145063220763,
          94.73607335455732,
          91.79095992309799,
          90.48589962181069,
          89.51875695808874,
          92.61827183989757,
          95.10020759029636,
          97.81519458556572,
          96.91797174030295,
          94.94581502994284,
          94.08937059628492,
          93.07271065490022,
          92.87753079294586,
          89.61489337472159,
          90.3344229801418,
          88.64192776362638,
          92.02400227797257,
          89.9935894238918,
          90.54707168421596,
          90.96947095367165,
          87.13294873432682,
          86.15707609454297,
          88.20787370942817,
          90.12468130475627,
          87.09799327009523,
          86.75425268515662,
          86.49790076079697,
          84.8986260422298,
          85.92985668704165,
          84.77918894610787,
          84.99475356886667,
          86.45420643050747,
          85.57154539867588,
          84.27231693475782,
          84.92192672171885,
          85.42589170438025,
          84.52866885911747,
          85.74341569114519,
          83.89361199559163,
          83.97517770879733,
          84.14704800126664,
          85.68806657611316,
          85.72885387771402,
          86.98438801134257,
          84.93358150646138,
          83.48869934824772,
          78.87147546107742,
          77.46446468577997,
          74.16394699464351,
          77.12363112953,
          76.70414777875894,
          76.63714387898439,
          77.9596819123875,
          78.53064190482743,
          78.07911900850941,
          78.114074472741,
          79.46574502300243,
          79.95222338355204,
          78.86273659501953,
          77.9334653142138,
          81.70589955246871,
          82.41959732051964,
          83.17699830885607,
          82.80412520705912,
          83.39547885029948,
          85.45502422123857,
          80.19692052316915,
          80.99801584179505,
          77.68876817459667,
          79.0229521027463,
          79.08995600252085,
          80.63971344342526,
          82.10789628112799,
          81.91854825654288,
          84.90154196091441,
          83.72465762180694,
          83.54987141065301,
          85.3122775556316,
          83.90526678033416,
          84.06839820674557,
          84.35388264796354,
          84.936497425146,
          85.69680544217107,
          85.06467338732584,
          82.47203051686704,
          84.3684444613947,
          85.94441850047282,
          88.14087869964962,
          88.14961756570752,
          88.89536376930141,
          90.79760066120234,
          90.44512121020583,
          91.92204291396644,
          91.03064301607694,
          92.03274114403047,
          91.66278396091816,
          90.30237454459883,
          89.18667115789263,
          88.65066662968428,
          88.22535144154396,
          89.5333276615159,
          88.12048504884919,
          85.38802032146403,
          87.08051553797944,
          86.93777776236846,
          86.95525549448425,
          88.61861819414133,
          91.901658153162,
          93.45140670407044,
          96.7781409933806,
          98.14145743838854,
          97.03449291774024,
          97.06362543459856,
          96.89757808950252,
          95.86634744469067,
          94.18259109423316,
          94.25833386006559,
          96.0760891200762,
          94.93707616388494,
          97.82975639899689,
          96.34991877655163,
          98.82894749826178,
          97.78023912133413,
          95.85469265994814,
          98.72990405294028,
          98.66290015316575,
          98.77359838322977,
          98.64250650236531,
          98.94838459438371,
          98.49393688938507,
          94.96620868074326,
          101.84106482949566,
          102.87811842168078,
          99.8834788225627,
          101.52644787141935,
          99.96504453576841,
          101.29922846391804,
          100.52726566215047,
          104.28804511566285,
          107.4953423088511,
          107.68760625212082,
          106.8952497995528,
          106.84280771320944,
          108.09543481814936,
          108.85865875385903,
          110.6997235833547,
          111.10463623069859,
          110.81332884210735,
          112.96317879231003,
          112.50000111124949,
          112.44465199621749,
          110.71720131547049,
          107.40503772958748,
          104.89687649101901,
          110.47541120454201,
          108.28186692404984,
          107.50116525622435,
          111.00267686669247,
          107.42542249039191,
          111.80086515662973,
          108.59356796344149,
          107.48368752410855,
          100.935094228179,
          106.0737608301265,
          101.93428532744389,
          91.83465425338747,
          97.96667122723461,
          87.05429893980575,
          93.14553750204804,
          91.89874223447738,
          96.72279187834857,
          96.95583423322319,
          104.9493096873664,
          104.08995822501986,
          99.74074104695171,
          105.74166613993441,
          104.0316931913032,
          108.0633863826064,
          109.38592441600949,
          106.05919012669933,
          107.80703445824675,
          105.38336374156461,
          110.68515287992753,
          108.44791426914588,
          108.10999663158051,
          107.99347545414322,
          115.56746755751539,
          120.47016699590768,
          124.3154280813104,
          127.93346975921179,
          123.21137058935072,
          127.44406658998156,
          126.37788048093812,
          122.76276361171735,
          124.30086626787921,
          123.80272423259109,
          122.7511088269748,
          117.63865882320101,
          119.98660455404269,
          122.30540887803005,
          120.97121605988444,
          124.72325664733891,
          123.71241965332749,
          126.5031494144293,
          127.16441398613286,
          126.87892954491488,
          128.32672762181318,
          125.79235867506699,
          127.6712859974829,
          128.7433039438956,
          132.30890353545362,
          131.8398940170238,
          131.39128703939042,
          130.40958256223732,
          127.08284827292715,
          125.0640902035889,
          120.82556236558881,
          122.31706366277257,
          120.43812745036071,
          122.27045341379848,
          124.07364686037789,
          124.4785595077218,
          122.92297911944412,
          120.69738640340898,
          122.23258203088226,
          122.2005335953393,
          126.44196846202802,
          126.5672373955192,
          123.96877157768714,
          121.78688208193749,
          123.95129384557136,
          127.04789280869555,
          130.43870618909963,
          131.05045348314044,
          132.1719887072159,
          136.34351264544145,
          135.82498584934888,
          133.37508964449708,
          135.72302648534276,
          129.1656943233553,
          130.28431362874613
         ]
        }
       ],
       "layout": {
        "legend": {
         "bgcolor": "#F5F6F9",
         "font": {
          "color": "#4D5663"
         }
        },
        "paper_bgcolor": "#F5F6F9",
        "plot_bgcolor": "#F5F6F9",
        "template": {
         "data": {
          "bar": [
           {
            "error_x": {
             "color": "#2a3f5f"
            },
            "error_y": {
             "color": "#2a3f5f"
            },
            "marker": {
             "line": {
              "color": "#E5ECF6",
              "width": 0.5
             }
            },
            "type": "bar"
           }
          ],
          "barpolar": [
           {
            "marker": {
             "line": {
              "color": "#E5ECF6",
              "width": 0.5
             }
            },
            "type": "barpolar"
           }
          ],
          "carpet": [
           {
            "aaxis": {
             "endlinecolor": "#2a3f5f",
             "gridcolor": "white",
             "linecolor": "white",
             "minorgridcolor": "white",
             "startlinecolor": "#2a3f5f"
            },
            "baxis": {
             "endlinecolor": "#2a3f5f",
             "gridcolor": "white",
             "linecolor": "white",
             "minorgridcolor": "white",
             "startlinecolor": "#2a3f5f"
            },
            "type": "carpet"
           }
          ],
          "choropleth": [
           {
            "colorbar": {
             "outlinewidth": 0,
             "ticks": ""
            },
            "type": "choropleth"
           }
          ],
          "contour": [
           {
            "colorbar": {
             "outlinewidth": 0,
             "ticks": ""
            },
            "colorscale": [
             [
              0,
              "#0d0887"
             ],
             [
              0.1111111111111111,
              "#46039f"
             ],
             [
              0.2222222222222222,
              "#7201a8"
             ],
             [
              0.3333333333333333,
              "#9c179e"
             ],
             [
              0.4444444444444444,
              "#bd3786"
             ],
             [
              0.5555555555555556,
              "#d8576b"
             ],
             [
              0.6666666666666666,
              "#ed7953"
             ],
             [
              0.7777777777777778,
              "#fb9f3a"
             ],
             [
              0.8888888888888888,
              "#fdca26"
             ],
             [
              1,
              "#f0f921"
             ]
            ],
            "type": "contour"
           }
          ],
          "contourcarpet": [
           {
            "colorbar": {
             "outlinewidth": 0,
             "ticks": ""
            },
            "type": "contourcarpet"
           }
          ],
          "heatmap": [
           {
            "colorbar": {
             "outlinewidth": 0,
             "ticks": ""
            },
            "colorscale": [
             [
              0,
              "#0d0887"
             ],
             [
              0.1111111111111111,
              "#46039f"
             ],
             [
              0.2222222222222222,
              "#7201a8"
             ],
             [
              0.3333333333333333,
              "#9c179e"
             ],
             [
              0.4444444444444444,
              "#bd3786"
             ],
             [
              0.5555555555555556,
              "#d8576b"
             ],
             [
              0.6666666666666666,
              "#ed7953"
             ],
             [
              0.7777777777777778,
              "#fb9f3a"
             ],
             [
              0.8888888888888888,
              "#fdca26"
             ],
             [
              1,
              "#f0f921"
             ]
            ],
            "type": "heatmap"
           }
          ],
          "heatmapgl": [
           {
            "colorbar": {
             "outlinewidth": 0,
             "ticks": ""
            },
            "colorscale": [
             [
              0,
              "#0d0887"
             ],
             [
              0.1111111111111111,
              "#46039f"
             ],
             [
              0.2222222222222222,
              "#7201a8"
             ],
             [
              0.3333333333333333,
              "#9c179e"
             ],
             [
              0.4444444444444444,
              "#bd3786"
             ],
             [
              0.5555555555555556,
              "#d8576b"
             ],
             [
              0.6666666666666666,
              "#ed7953"
             ],
             [
              0.7777777777777778,
              "#fb9f3a"
             ],
             [
              0.8888888888888888,
              "#fdca26"
             ],
             [
              1,
              "#f0f921"
             ]
            ],
            "type": "heatmapgl"
           }
          ],
          "histogram": [
           {
            "marker": {
             "colorbar": {
              "outlinewidth": 0,
              "ticks": ""
             }
            },
            "type": "histogram"
           }
          ],
          "histogram2d": [
           {
            "colorbar": {
             "outlinewidth": 0,
             "ticks": ""
            },
            "colorscale": [
             [
              0,
              "#0d0887"
             ],
             [
              0.1111111111111111,
              "#46039f"
             ],
             [
              0.2222222222222222,
              "#7201a8"
             ],
             [
              0.3333333333333333,
              "#9c179e"
             ],
             [
              0.4444444444444444,
              "#bd3786"
             ],
             [
              0.5555555555555556,
              "#d8576b"
             ],
             [
              0.6666666666666666,
              "#ed7953"
             ],
             [
              0.7777777777777778,
              "#fb9f3a"
             ],
             [
              0.8888888888888888,
              "#fdca26"
             ],
             [
              1,
              "#f0f921"
             ]
            ],
            "type": "histogram2d"
           }
          ],
          "histogram2dcontour": [
           {
            "colorbar": {
             "outlinewidth": 0,
             "ticks": ""
            },
            "colorscale": [
             [
              0,
              "#0d0887"
             ],
             [
              0.1111111111111111,
              "#46039f"
             ],
             [
              0.2222222222222222,
              "#7201a8"
             ],
             [
              0.3333333333333333,
              "#9c179e"
             ],
             [
              0.4444444444444444,
              "#bd3786"
             ],
             [
              0.5555555555555556,
              "#d8576b"
             ],
             [
              0.6666666666666666,
              "#ed7953"
             ],
             [
              0.7777777777777778,
              "#fb9f3a"
             ],
             [
              0.8888888888888888,
              "#fdca26"
             ],
             [
              1,
              "#f0f921"
             ]
            ],
            "type": "histogram2dcontour"
           }
          ],
          "mesh3d": [
           {
            "colorbar": {
             "outlinewidth": 0,
             "ticks": ""
            },
            "type": "mesh3d"
           }
          ],
          "parcoords": [
           {
            "line": {
             "colorbar": {
              "outlinewidth": 0,
              "ticks": ""
             }
            },
            "type": "parcoords"
           }
          ],
          "pie": [
           {
            "automargin": true,
            "type": "pie"
           }
          ],
          "scatter": [
           {
            "marker": {
             "colorbar": {
              "outlinewidth": 0,
              "ticks": ""
             }
            },
            "type": "scatter"
           }
          ],
          "scatter3d": [
           {
            "line": {
             "colorbar": {
              "outlinewidth": 0,
              "ticks": ""
             }
            },
            "marker": {
             "colorbar": {
              "outlinewidth": 0,
              "ticks": ""
             }
            },
            "type": "scatter3d"
           }
          ],
          "scattercarpet": [
           {
            "marker": {
             "colorbar": {
              "outlinewidth": 0,
              "ticks": ""
             }
            },
            "type": "scattercarpet"
           }
          ],
          "scattergeo": [
           {
            "marker": {
             "colorbar": {
              "outlinewidth": 0,
              "ticks": ""
             }
            },
            "type": "scattergeo"
           }
          ],
          "scattergl": [
           {
            "marker": {
             "colorbar": {
              "outlinewidth": 0,
              "ticks": ""
             }
            },
            "type": "scattergl"
           }
          ],
          "scattermapbox": [
           {
            "marker": {
             "colorbar": {
              "outlinewidth": 0,
              "ticks": ""
             }
            },
            "type": "scattermapbox"
           }
          ],
          "scatterpolar": [
           {
            "marker": {
             "colorbar": {
              "outlinewidth": 0,
              "ticks": ""
             }
            },
            "type": "scatterpolar"
           }
          ],
          "scatterpolargl": [
           {
            "marker": {
             "colorbar": {
              "outlinewidth": 0,
              "ticks": ""
             }
            },
            "type": "scatterpolargl"
           }
          ],
          "scatterternary": [
           {
            "marker": {
             "colorbar": {
              "outlinewidth": 0,
              "ticks": ""
             }
            },
            "type": "scatterternary"
           }
          ],
          "surface": [
           {
            "colorbar": {
             "outlinewidth": 0,
             "ticks": ""
            },
            "colorscale": [
             [
              0,
              "#0d0887"
             ],
             [
              0.1111111111111111,
              "#46039f"
             ],
             [
              0.2222222222222222,
              "#7201a8"
             ],
             [
              0.3333333333333333,
              "#9c179e"
             ],
             [
              0.4444444444444444,
              "#bd3786"
             ],
             [
              0.5555555555555556,
              "#d8576b"
             ],
             [
              0.6666666666666666,
              "#ed7953"
             ],
             [
              0.7777777777777778,
              "#fb9f3a"
             ],
             [
              0.8888888888888888,
              "#fdca26"
             ],
             [
              1,
              "#f0f921"
             ]
            ],
            "type": "surface"
           }
          ],
          "table": [
           {
            "cells": {
             "fill": {
              "color": "#EBF0F8"
             },
             "line": {
              "color": "white"
             }
            },
            "header": {
             "fill": {
              "color": "#C8D4E3"
             },
             "line": {
              "color": "white"
             }
            },
            "type": "table"
           }
          ]
         },
         "layout": {
          "annotationdefaults": {
           "arrowcolor": "#2a3f5f",
           "arrowhead": 0,
           "arrowwidth": 1
          },
          "autotypenumbers": "strict",
          "coloraxis": {
           "colorbar": {
            "outlinewidth": 0,
            "ticks": ""
           }
          },
          "colorscale": {
           "diverging": [
            [
             0,
             "#8e0152"
            ],
            [
             0.1,
             "#c51b7d"
            ],
            [
             0.2,
             "#de77ae"
            ],
            [
             0.3,
             "#f1b6da"
            ],
            [
             0.4,
             "#fde0ef"
            ],
            [
             0.5,
             "#f7f7f7"
            ],
            [
             0.6,
             "#e6f5d0"
            ],
            [
             0.7,
             "#b8e186"
            ],
            [
             0.8,
             "#7fbc41"
            ],
            [
             0.9,
             "#4d9221"
            ],
            [
             1,
             "#276419"
            ]
           ],
           "sequential": [
            [
             0,
             "#0d0887"
            ],
            [
             0.1111111111111111,
             "#46039f"
            ],
            [
             0.2222222222222222,
             "#7201a8"
            ],
            [
             0.3333333333333333,
             "#9c179e"
            ],
            [
             0.4444444444444444,
             "#bd3786"
            ],
            [
             0.5555555555555556,
             "#d8576b"
            ],
            [
             0.6666666666666666,
             "#ed7953"
            ],
            [
             0.7777777777777778,
             "#fb9f3a"
            ],
            [
             0.8888888888888888,
             "#fdca26"
            ],
            [
             1,
             "#f0f921"
            ]
           ],
           "sequentialminus": [
            [
             0,
             "#0d0887"
            ],
            [
             0.1111111111111111,
             "#46039f"
            ],
            [
             0.2222222222222222,
             "#7201a8"
            ],
            [
             0.3333333333333333,
             "#9c179e"
            ],
            [
             0.4444444444444444,
             "#bd3786"
            ],
            [
             0.5555555555555556,
             "#d8576b"
            ],
            [
             0.6666666666666666,
             "#ed7953"
            ],
            [
             0.7777777777777778,
             "#fb9f3a"
            ],
            [
             0.8888888888888888,
             "#fdca26"
            ],
            [
             1,
             "#f0f921"
            ]
           ]
          },
          "colorway": [
           "#636efa",
           "#EF553B",
           "#00cc96",
           "#ab63fa",
           "#FFA15A",
           "#19d3f3",
           "#FF6692",
           "#B6E880",
           "#FF97FF",
           "#FECB52"
          ],
          "font": {
           "color": "#2a3f5f"
          },
          "geo": {
           "bgcolor": "white",
           "lakecolor": "white",
           "landcolor": "#E5ECF6",
           "showlakes": true,
           "showland": true,
           "subunitcolor": "white"
          },
          "hoverlabel": {
           "align": "left"
          },
          "hovermode": "closest",
          "mapbox": {
           "style": "light"
          },
          "paper_bgcolor": "white",
          "plot_bgcolor": "#E5ECF6",
          "polar": {
           "angularaxis": {
            "gridcolor": "white",
            "linecolor": "white",
            "ticks": ""
           },
           "bgcolor": "#E5ECF6",
           "radialaxis": {
            "gridcolor": "white",
            "linecolor": "white",
            "ticks": ""
           }
          },
          "scene": {
           "xaxis": {
            "backgroundcolor": "#E5ECF6",
            "gridcolor": "white",
            "gridwidth": 2,
            "linecolor": "white",
            "showbackground": true,
            "ticks": "",
            "zerolinecolor": "white"
           },
           "yaxis": {
            "backgroundcolor": "#E5ECF6",
            "gridcolor": "white",
            "gridwidth": 2,
            "linecolor": "white",
            "showbackground": true,
            "ticks": "",
            "zerolinecolor": "white"
           },
           "zaxis": {
            "backgroundcolor": "#E5ECF6",
            "gridcolor": "white",
            "gridwidth": 2,
            "linecolor": "white",
            "showbackground": true,
            "ticks": "",
            "zerolinecolor": "white"
           }
          },
          "shapedefaults": {
           "line": {
            "color": "#2a3f5f"
           }
          },
          "ternary": {
           "aaxis": {
            "gridcolor": "white",
            "linecolor": "white",
            "ticks": ""
           },
           "baxis": {
            "gridcolor": "white",
            "linecolor": "white",
            "ticks": ""
           },
           "bgcolor": "#E5ECF6",
           "caxis": {
            "gridcolor": "white",
            "linecolor": "white",
            "ticks": ""
           }
          },
          "title": {
           "x": 0.05
          },
          "xaxis": {
           "automargin": true,
           "gridcolor": "white",
           "linecolor": "white",
           "ticks": "",
           "title": {
            "standoff": 15
           },
           "zerolinecolor": "white",
           "zerolinewidth": 2
          },
          "yaxis": {
           "automargin": true,
           "gridcolor": "white",
           "linecolor": "white",
           "ticks": "",
           "title": {
            "standoff": 15
           },
           "zerolinecolor": "white",
           "zerolinewidth": 2
          }
         }
        },
        "title": {
         "font": {
          "color": "#4D5663"
         },
         "text": "The FAANG Stocks"
        },
        "xaxis": {
         "gridcolor": "#E1E5ED",
         "showgrid": true,
         "tickfont": {
          "color": "#4D5663"
         },
         "title": {
          "font": {
           "color": "#4D5663"
          },
          "text": ""
         },
         "zerolinecolor": "#E1E5ED"
        },
        "yaxis": {
         "gridcolor": "#E1E5ED",
         "showgrid": true,
         "tickfont": {
          "color": "#4D5663"
         },
         "title": {
          "font": {
           "color": "#4D5663"
          },
          "text": ""
         },
         "zerolinecolor": "#E1E5ED"
        }
       }
      },
      "text/html": [
       "<div>                            <div id=\"09c83309-823b-4878-b4ae-0458e90ec900\" class=\"plotly-graph-div\" style=\"height:525px; width:100%;\"></div>            <script type=\"text/javascript\">                require([\"plotly\"], function(Plotly) {                    window.PLOTLYENV=window.PLOTLYENV || {};\n",
       "                    window.PLOTLYENV.BASE_URL='https://plot.ly';                                    if (document.getElementById(\"09c83309-823b-4878-b4ae-0458e90ec900\")) {                    Plotly.newPlot(                        \"09c83309-823b-4878-b4ae-0458e90ec900\",                        [{\"line\": {\"color\": \"rgba(255, 153, 51, 1.0)\", \"dash\": \"solid\", \"shape\": \"linear\", \"width\": 1.3}, \"mode\": \"lines\", \"name\": \"AAPL\", \"text\": \"\", \"type\": \"scatter\", \"x\": [\"2019-05-31\", \"2019-06-03\", \"2019-06-04\", \"2019-06-05\", \"2019-06-06\", \"2019-06-07\", \"2019-06-10\", \"2019-06-11\", \"2019-06-12\", \"2019-06-13\", \"2019-06-14\", \"2019-06-17\", \"2019-06-18\", \"2019-06-19\", \"2019-06-20\", \"2019-06-21\", \"2019-06-24\", \"2019-06-25\", \"2019-06-26\", \"2019-06-27\", \"2019-06-28\", \"2019-07-01\", \"2019-07-02\", \"2019-07-03\", \"2019-07-05\", \"2019-07-08\", \"2019-07-09\", \"2019-07-10\", \"2019-07-11\", \"2019-07-12\", \"2019-07-15\", \"2019-07-16\", \"2019-07-17\", \"2019-07-18\", \"2019-07-19\", \"2019-07-22\", \"2019-07-23\", \"2019-07-24\", \"2019-07-25\", \"2019-07-26\", \"2019-07-29\", \"2019-07-30\", \"2019-07-31\", \"2019-08-01\", \"2019-08-02\", \"2019-08-05\", \"2019-08-06\", \"2019-08-07\", \"2019-08-08\", \"2019-08-09\", \"2019-08-12\", \"2019-08-13\", \"2019-08-14\", \"2019-08-15\", \"2019-08-16\", \"2019-08-19\", \"2019-08-20\", \"2019-08-21\", \"2019-08-22\", \"2019-08-23\", \"2019-08-26\", \"2019-08-27\", \"2019-08-28\", \"2019-08-29\", \"2019-08-30\", \"2019-09-03\", \"2019-09-04\", \"2019-09-05\", \"2019-09-06\", \"2019-09-09\", \"2019-09-10\", \"2019-09-11\", \"2019-09-12\", \"2019-09-13\", \"2019-09-16\", \"2019-09-17\", \"2019-09-18\", \"2019-09-19\", \"2019-09-20\", \"2019-09-23\", \"2019-09-24\", \"2019-09-25\", \"2019-09-26\", \"2019-09-27\", \"2019-09-30\", \"2019-10-01\", \"2019-10-02\", \"2019-10-03\", \"2019-10-04\", \"2019-10-07\", \"2019-10-08\", \"2019-10-09\", \"2019-10-10\", \"2019-10-11\", \"2019-10-14\", \"2019-10-15\", \"2019-10-16\", \"2019-10-17\", \"2019-10-18\", \"2019-10-21\", \"2019-10-22\", \"2019-10-23\", \"2019-10-24\", \"2019-10-25\", \"2019-10-28\", \"2019-10-29\", \"2019-10-30\", \"2019-10-31\", \"2019-11-01\", \"2019-11-04\", \"2019-11-05\", \"2019-11-06\", \"2019-11-07\", \"2019-11-08\", \"2019-11-11\", \"2019-11-12\", \"2019-11-13\", \"2019-11-14\", \"2019-11-15\", \"2019-11-18\", \"2019-11-19\", \"2019-11-20\", \"2019-11-21\", \"2019-11-22\", \"2019-11-25\", \"2019-11-26\", \"2019-11-27\", \"2019-11-29\", \"2019-12-02\", \"2019-12-03\", \"2019-12-04\", \"2019-12-05\", \"2019-12-06\", \"2019-12-09\", \"2019-12-10\", \"2019-12-11\", \"2019-12-12\", \"2019-12-13\", \"2019-12-16\", \"2019-12-17\", \"2019-12-18\", \"2019-12-19\", \"2019-12-20\", \"2019-12-23\", \"2019-12-24\", \"2019-12-26\", \"2019-12-27\", \"2019-12-30\", \"2019-12-31\", \"2020-01-02\", \"2020-01-03\", \"2020-01-06\", \"2020-01-07\", \"2020-01-08\", \"2020-01-09\", \"2020-01-10\", \"2020-01-13\", \"2020-01-14\", \"2020-01-15\", \"2020-01-16\", \"2020-01-17\", \"2020-01-21\", \"2020-01-22\", \"2020-01-23\", \"2020-01-24\", \"2020-01-27\", \"2020-01-28\", \"2020-01-29\", \"2020-01-30\", \"2020-01-31\", \"2020-02-03\", \"2020-02-04\", \"2020-02-05\", \"2020-02-06\", \"2020-02-07\", \"2020-02-10\", \"2020-02-11\", \"2020-02-12\", \"2020-02-13\", \"2020-02-14\", \"2020-02-18\", \"2020-02-19\", \"2020-02-20\", \"2020-02-21\", \"2020-02-24\", \"2020-02-25\", \"2020-02-26\", \"2020-02-27\", \"2020-02-28\", \"2020-03-02\", \"2020-03-03\", \"2020-03-04\", \"2020-03-05\", \"2020-03-06\", \"2020-03-09\", \"2020-03-10\", \"2020-03-11\", \"2020-03-12\", \"2020-03-13\", \"2020-03-16\", \"2020-03-17\", \"2020-03-18\", \"2020-03-19\", \"2020-03-20\", \"2020-03-23\", \"2020-03-24\", \"2020-03-25\", \"2020-03-26\", \"2020-03-27\", \"2020-03-30\", \"2020-03-31\", \"2020-04-01\", \"2020-04-02\", \"2020-04-03\", \"2020-04-06\", \"2020-04-07\", \"2020-04-08\", \"2020-04-09\", \"2020-04-13\", \"2020-04-14\", \"2020-04-15\", \"2020-04-16\", \"2020-04-17\", \"2020-04-20\", \"2020-04-21\", \"2020-04-22\", \"2020-04-23\", \"2020-04-24\", \"2020-04-27\", \"2020-04-28\", \"2020-04-29\", \"2020-04-30\", \"2020-05-01\", \"2020-05-04\", \"2020-05-05\", \"2020-05-06\", \"2020-05-07\", \"2020-05-08\", \"2020-05-11\", \"2020-05-12\", \"2020-05-13\", \"2020-05-14\", \"2020-05-15\", \"2020-05-18\", \"2020-05-19\", \"2020-05-20\", \"2020-05-21\", \"2020-05-22\", \"2020-05-26\", \"2020-05-27\", \"2020-05-28\", \"2020-05-29\", \"2020-06-01\", \"2020-06-02\", \"2020-06-03\", \"2020-06-04\", \"2020-06-05\", \"2020-06-08\", \"2020-06-09\", \"2020-06-10\", \"2020-06-11\", \"2020-06-12\", \"2020-06-15\", \"2020-06-16\", \"2020-06-17\", \"2020-06-18\", \"2020-06-19\", \"2020-06-22\", \"2020-06-23\", \"2020-06-24\", \"2020-06-25\", \"2020-06-26\", \"2020-06-29\"], \"y\": [100.0, 98.98897830844362, 102.61039504167708, 104.26686610890697, 105.79767971375908, 108.61370973630697, 110.00171266598366, 111.27548475749403, 110.92135676779658, 110.8984946683867, 110.09309910671415, 110.74999280857307, 113.35466126166394, 113.02335996742836, 113.93156859404286, 113.5431430297371, 113.42892104255775, 111.7096079676585, 114.12578580168922, 114.09151478004192, 113.05193095345045, 115.12538972002116, 115.79938352875574, 116.75900753882817, 116.65619447388626, 114.25143441307999, 114.94832572517242, 116.08500487910658, 115.23962055818751, 116.12499363835309, 117.21597514642852, 116.81041407129914, 116.15354692240119, 117.47301665977028, 115.7194325632237, 118.36408092457411, 119.28942506201223, 119.19234743664353, 118.24985008640776, 118.66111119716238, 119.76922821606144, 119.25515404036493, 121.68847623620628, 119.05523679709333, 116.53624589812071, 110.43580932318716, 112.5264213025555, 113.69166259152475, 116.19923571727293, 115.24170939111849, 114.94928163176796, 119.81720056557808, 116.25084582244479, 115.67174344529094, 118.40098068935912, 120.60846110101852, 120.61419654059173, 121.92147846886776, 121.81826710951104, 116.1877736891135, 118.3952452497859, 117.05928612364387, 117.84481121951112, 119.84013347288389, 119.68533856131631, 117.94227828830763, 119.94334483224061, 122.28843153872195, 122.27695180858855, 122.79873519395832, 124.2493500056425, 128.1998818393236, 127.9131983705333, 125.42476107866977, 126.0841419078745, 126.542835457939, 127.72972626109969, 126.69193033388136, 124.83991441095574, 125.40757246192416, 124.81125491506371, 126.73205185793282, 126.0784153192883, 125.46490915568222, 128.41775773520945, 128.77324877690424, 125.54517875674611, 126.61163417985648, 130.16080030624414, 130.1894775041102, 128.6643019779743, 130.17227118539057, 131.92679348655867, 135.4358203869209, 135.2408685473539, 134.92552558267155, 134.38081814098294, 134.90257497339172, 135.55049377443703, 137.90130706950458, 137.58596410482224, 139.43220033323968, 139.66154710827192, 141.38167447397478, 142.79788549920673, 139.49527246657092, 139.4780661478513, 142.63160200651873, 146.67960975998335, 147.64285382373703, 147.43073106939838, 147.49378550075565, 149.19606042568822, 149.6043741577733, 150.78909646912, 150.6510387739613, 152.09452854111393, 151.04211078337872, 152.83640056911847, 153.60702060288497, 153.14119315730196, 151.3584273566306, 150.67980448169726, 150.5475176300597, 153.18718288573154, 151.99102509918637, 154.03257605763764, 153.69328232214494, 151.9162519610468, 149.20758441075662, 150.52452276584495, 152.7328794252169, 155.68307270864543, 153.50349945898344, 154.4006532028403, 155.7176092599026, 156.11439900691926, 158.23651164900525, 160.94517919929544, 161.26147807057333, 160.8761769046771, 161.03719406010262, 160.70365346615714, 163.32605929718738, 163.48132331106572, 166.7248560055053, 166.66158915046014, 167.65075775512418, 168.8756989513793, 172.72883452415988, 171.04953676146812, 172.412500248934, 171.6016436282851, 174.36208945250007, 178.0656610470275, 178.46820393559136, 182.28106751754154, 179.81969654391085, 179.04905880817034, 181.29193431682552, 183.29898412796757, 182.0568189110188, 182.7066583762422, 183.58655269545744, 183.05745839482924, 177.67460673958405, 182.70090523469497, 186.52527509973956, 186.25496595689125, 177.99665875240913, 177.5078364426113, 183.36802182653395, 184.86327216563737, 187.02560369263176, 184.48342320773045, 185.35961781438152, 184.24129560747642, 188.61662171102856, 187.273484434433, 187.31958037470653, 183.88966359611177, 186.5528901791661, 184.6390589630626, 180.459746817517, 171.88784914377763, 166.06563449406653, 168.7000245614889, 157.67242054579611, 157.58017555932707, 172.2510051402107, 166.78044020383822, 174.51648606965284, 168.85567801879506, 166.6132627614637, 153.43547077293456, 164.48614046073814, 158.77344792411162, 143.09382710039452, 160.2376490008342, 139.6235675230734, 145.76282452697006, 142.19455797064572, 141.10505457739856, 132.14691753314142, 129.3395791798233, 142.3156129197857, 141.5316367466427, 148.97945907192977, 142.81136555240118, 146.88690872640936, 146.5871523498264, 138.87416330513557, 141.19151101837244, 139.1624045476371, 151.30255992671383, 149.5501530114377, 153.37781544364466, 154.48461366548136, 157.51676708848996, 165.47185718047385, 163.96156016347774, 165.26433693937295, 163.02193938401558, 159.6381185456943, 154.70365789165064, 159.15966959265546, 158.54287971287397, 163.1199375120318, 163.23523046863764, 160.58926331022488, 165.86386739451282, 169.36294578549192, 166.63632843357445, 168.99401894553768, 171.5304285869178, 173.3001657347315, 175.09293315070798, 179.26045578157533, 182.08115912525696, 180.00029208257087, 177.82696762972782, 178.91940955065752, 177.86162809480294, 182.05225180172903, 181.0002765933436, 184.52040263139844, 183.14471142463273, 184.3238753161462, 183.07535509053454, 183.87300603858588, 183.95393946367443, 183.77476008293374, 186.03480650636055, 186.8960429449889, 187.92491707731557, 186.30647870120615, 191.61268080906873, 192.74557174056872, 198.83209456394505, 203.94754020007656, 194.15594111438352, 195.83219413754875, 198.2540720072047, 203.5082480135066, 203.2250341316186, 203.30596755670717, 202.14413389773128, 207.43298807108226, 211.86060580580494, 208.12083367446513, 210.88375777503887, 204.40419802313207, 209.1150296397427]}, {\"line\": {\"color\": \"rgba(55, 128, 191, 1.0)\", \"dash\": \"solid\", \"shape\": \"linear\", \"width\": 1.3}, \"mode\": \"lines\", \"name\": \"AMZN\", \"text\": \"\", \"type\": \"scatter\", \"x\": [\"2019-05-31\", \"2019-06-03\", \"2019-06-04\", \"2019-06-05\", \"2019-06-06\", \"2019-06-07\", \"2019-06-10\", \"2019-06-11\", \"2019-06-12\", \"2019-06-13\", \"2019-06-14\", \"2019-06-17\", \"2019-06-18\", \"2019-06-19\", \"2019-06-20\", \"2019-06-21\", \"2019-06-24\", \"2019-06-25\", \"2019-06-26\", \"2019-06-27\", \"2019-06-28\", \"2019-07-01\", \"2019-07-02\", \"2019-07-03\", \"2019-07-05\", \"2019-07-08\", \"2019-07-09\", \"2019-07-10\", \"2019-07-11\", \"2019-07-12\", \"2019-07-15\", \"2019-07-16\", \"2019-07-17\", \"2019-07-18\", \"2019-07-19\", \"2019-07-22\", \"2019-07-23\", \"2019-07-24\", \"2019-07-25\", \"2019-07-26\", \"2019-07-29\", \"2019-07-30\", \"2019-07-31\", \"2019-08-01\", \"2019-08-02\", \"2019-08-05\", \"2019-08-06\", \"2019-08-07\", \"2019-08-08\", \"2019-08-09\", \"2019-08-12\", \"2019-08-13\", \"2019-08-14\", \"2019-08-15\", \"2019-08-16\", \"2019-08-19\", \"2019-08-20\", \"2019-08-21\", \"2019-08-22\", \"2019-08-23\", \"2019-08-26\", \"2019-08-27\", \"2019-08-28\", \"2019-08-29\", \"2019-08-30\", \"2019-09-03\", \"2019-09-04\", \"2019-09-05\", \"2019-09-06\", \"2019-09-09\", \"2019-09-10\", \"2019-09-11\", \"2019-09-12\", \"2019-09-13\", \"2019-09-16\", \"2019-09-17\", \"2019-09-18\", \"2019-09-19\", \"2019-09-20\", \"2019-09-23\", \"2019-09-24\", \"2019-09-25\", \"2019-09-26\", \"2019-09-27\", \"2019-09-30\", \"2019-10-01\", \"2019-10-02\", \"2019-10-03\", \"2019-10-04\", \"2019-10-07\", \"2019-10-08\", \"2019-10-09\", \"2019-10-10\", \"2019-10-11\", \"2019-10-14\", \"2019-10-15\", \"2019-10-16\", \"2019-10-17\", \"2019-10-18\", \"2019-10-21\", \"2019-10-22\", \"2019-10-23\", \"2019-10-24\", \"2019-10-25\", \"2019-10-28\", \"2019-10-29\", \"2019-10-30\", \"2019-10-31\", \"2019-11-01\", \"2019-11-04\", \"2019-11-05\", \"2019-11-06\", \"2019-11-07\", \"2019-11-08\", \"2019-11-11\", \"2019-11-12\", \"2019-11-13\", \"2019-11-14\", \"2019-11-15\", \"2019-11-18\", \"2019-11-19\", \"2019-11-20\", \"2019-11-21\", \"2019-11-22\", \"2019-11-25\", \"2019-11-26\", \"2019-11-27\", \"2019-11-29\", \"2019-12-02\", \"2019-12-03\", \"2019-12-04\", \"2019-12-05\", \"2019-12-06\", \"2019-12-09\", \"2019-12-10\", \"2019-12-11\", \"2019-12-12\", \"2019-12-13\", \"2019-12-16\", \"2019-12-17\", \"2019-12-18\", \"2019-12-19\", \"2019-12-20\", \"2019-12-23\", \"2019-12-24\", \"2019-12-26\", \"2019-12-27\", \"2019-12-30\", \"2019-12-31\", \"2020-01-02\", \"2020-01-03\", \"2020-01-06\", \"2020-01-07\", \"2020-01-08\", \"2020-01-09\", \"2020-01-10\", \"2020-01-13\", \"2020-01-14\", \"2020-01-15\", \"2020-01-16\", \"2020-01-17\", \"2020-01-21\", \"2020-01-22\", \"2020-01-23\", \"2020-01-24\", \"2020-01-27\", \"2020-01-28\", \"2020-01-29\", \"2020-01-30\", \"2020-01-31\", \"2020-02-03\", \"2020-02-04\", \"2020-02-05\", \"2020-02-06\", \"2020-02-07\", \"2020-02-10\", \"2020-02-11\", \"2020-02-12\", \"2020-02-13\", \"2020-02-14\", \"2020-02-18\", \"2020-02-19\", \"2020-02-20\", \"2020-02-21\", \"2020-02-24\", \"2020-02-25\", \"2020-02-26\", \"2020-02-27\", \"2020-02-28\", \"2020-03-02\", \"2020-03-03\", \"2020-03-04\", \"2020-03-05\", \"2020-03-06\", \"2020-03-09\", \"2020-03-10\", \"2020-03-11\", \"2020-03-12\", \"2020-03-13\", \"2020-03-16\", \"2020-03-17\", \"2020-03-18\", \"2020-03-19\", \"2020-03-20\", \"2020-03-23\", \"2020-03-24\", \"2020-03-25\", \"2020-03-26\", \"2020-03-27\", \"2020-03-30\", \"2020-03-31\", \"2020-04-01\", \"2020-04-02\", \"2020-04-03\", \"2020-04-06\", \"2020-04-07\", \"2020-04-08\", \"2020-04-09\", \"2020-04-13\", \"2020-04-14\", \"2020-04-15\", \"2020-04-16\", \"2020-04-17\", \"2020-04-20\", \"2020-04-21\", \"2020-04-22\", \"2020-04-23\", \"2020-04-24\", \"2020-04-27\", \"2020-04-28\", \"2020-04-29\", \"2020-04-30\", \"2020-05-01\", \"2020-05-04\", \"2020-05-05\", \"2020-05-06\", \"2020-05-07\", \"2020-05-08\", \"2020-05-11\", \"2020-05-12\", \"2020-05-13\", \"2020-05-14\", \"2020-05-15\", \"2020-05-18\", \"2020-05-19\", \"2020-05-20\", \"2020-05-21\", \"2020-05-22\", \"2020-05-26\", \"2020-05-27\", \"2020-05-28\", \"2020-05-29\", \"2020-06-01\", \"2020-06-02\", \"2020-06-03\", \"2020-06-04\", \"2020-06-05\", \"2020-06-08\", \"2020-06-09\", \"2020-06-10\", \"2020-06-11\", \"2020-06-12\", \"2020-06-15\", \"2020-06-16\", \"2020-06-17\", \"2020-06-18\", \"2020-06-19\", \"2020-06-22\", \"2020-06-23\", \"2020-06-24\", \"2020-06-25\", \"2020-06-26\", \"2020-06-29\"], \"y\": [100.0, 95.3590558470648, 97.43616369650925, 97.93980252071107, 98.83328761321232, 101.63148968120134, 104.82009504879628, 104.99304295405942, 104.5209486064349, 105.36486478959037, 105.32937295535984, 106.25102595195104, 107.11521532388998, 107.53322949627935, 108.06278059162639, 107.6746329249652, 107.82110465084693, 105.81385953032083, 106.91578436231572, 107.27915445123372, 106.67917671873212, 108.28812382434589, 108.97092042133849, 109.23513206077583, 109.45540699629946, 109.98552199988268, 112.01249015481551, 113.65242470570007, 112.73189264865154, 113.29131024972676, 113.85410442328934, 113.22934223611485, 112.22262161901769, 111.42659637435888, 110.67282298583496, 111.86207107128054, 112.36120550652267, 112.71725166530011, 111.19674187574998, 109.4632948346762, 107.73941360282828, 106.95522355419946, 105.16656164448845, 104.5209486064349, 102.71369835571922, 99.44002536761832, 100.71884546252956, 101.03263976517212, 103.25734028004096, 101.8314776740821, 100.55491321211554, 102.77566636933115, 99.31777418817329, 100.05915534936076, 100.9858766431478, 102.31258767655571, 101.48219841413875, 102.73060184894507, 101.66698151543187, 98.56625643259409, 99.65072074005667, 99.25411444985285, 99.39044958134284, 100.638289107913, 100.06873491244603, 100.83208098712548, 101.43938264976767, 103.69844718239467, 103.2922682060353, 103.17058093482645, 102.56215833264164, 102.69961440367426, 103.85788192077874, 103.62070349202925, 101.84612553436322, 102.67482994900136, 102.38807573397644, 102.61567459964063, 101.07545552954318, 100.57632109430105, 98.11500605891892, 99.62029720302202, 98.01529057813178, 97.20461747319183, 97.79389470306552, 97.77924684278437, 96.51619554769691, 97.14659681723315, 98.00459007550387, 97.61080332648093, 96.08128475901141, 97.00969777750697, 96.91223792966454, 97.56911537858221, 97.82319042362782, 99.56678093602302, 100.13295855900265, 100.69912930505257, 99.01074678436485, 100.59660116001426, 99.4738254771403, 99.27327357602339, 100.32168214101928, 99.22594654576291, 100.11323552459592, 99.30369023612832, 100.27717465193969, 100.08957888639539, 100.92221690482734, 101.66698151543187, 101.5007867551434, 101.16615535548121, 100.73968943647893, 100.6089933873507, 99.80733593725985, 100.1650669438161, 98.76286785298747, 98.8468076570211, 97.99557442065478, 98.73019555993784, 98.74484342021898, 98.33584490267873, 97.72628760709185, 98.34654540530664, 99.93070805624751, 101.23206384981667, 102.44723108333717, 101.44952612108911, 100.36787447787772, 99.7121248454324, 99.18989080329622, 98.05134632059847, 98.67780023248149, 98.56006031892586, 97.97979874390128, 98.51555282984627, 99.16961073758304, 99.20397475534119, 99.6698729892975, 100.87828020091362, 100.50477351760388, 100.96954393508784, 100.64392131334503, 101.0101040665142, 100.79658915289498, 105.27866935261203, 105.33669688550043, 104.04604159455918, 104.0995578615582, 106.92592783363718, 105.62794861255536, 107.20028294439597, 107.42449836064311, 106.58565735161322, 107.09719089112149, 106.08934245755196, 106.54791676136772, 105.31640994285753, 104.89840264739787, 105.79526431238646, 105.05050657871165, 106.58734907632174, 106.33158230656761, 106.1693349039324, 104.87699476521233, 103.00100960205066, 104.40433650935164, 104.67193159820603, 105.3862726717759, 113.16286295661354, 112.90822400333174, 115.46981155080749, 114.91772475680253, 115.50136290431448, 117.13792088271168, 120.2155394817257, 121.16705898404506, 121.685345668528, 121.11467053351839, 120.26963341082029, 121.44140721787413, 122.26109597766319, 121.29663409363063, 118.07816222030753, 113.1949782183567, 111.13590167861041, 111.5218005892566, 106.15356610410859, 106.12257865883778, 110.07734964229306, 107.54449390714342, 111.3099774003459, 108.39178666278625, 107.09943964713648, 101.43881874153149, 106.5772056050003, 102.57961885717395, 94.45317852722711, 100.55941760107522, 95.15963176242023, 101.84612553436322, 103.09452896916955, 105.96371470561961, 104.00097019724342, 107.1974634032151, 109.29710007438776, 106.2403185723934, 110.16410898750757, 107.04366774719279, 110.6407077240918, 109.83905027400094, 107.47181851397389, 108.09883633409308, 107.40928659212578, 112.53584513649433, 113.32511035924875, 115.09405611148273, 115.08053606767395, 122.185050888936, 128.63268138435072, 130.00501396945117, 135.6673265997647, 133.79754442720093, 134.84595986912652, 131.15652834158095, 133.1491187248962, 135.17495218642696, 135.78168994083296, 133.8538802353808, 130.365571394118, 133.6685332258515, 139.37478943700845, 128.78591313213684, 130.4731678363522, 130.575138950084, 132.4601328911651, 133.3812288564498, 134.0572585546083, 135.71296190531666, 132.78068033878233, 133.3986825040524, 134.57780087203594, 135.7569054861601, 136.68531850465564, 137.98498945044597, 140.72346538390838, 137.8390747558707, 137.28359763551902, 136.43744645020797, 135.79126262698853, 135.2679145222394, 137.59289442613155, 139.20803764541353, 139.28521055061307, 139.62266149145614, 138.6198951089419, 139.88181171062732, 142.1949632954192, 146.52155611440543, 149.14623261503573, 144.1047416911732, 143.37575963425186, 144.9340031371178, 147.333350158888, 148.78174158657507, 149.51410709291343, 150.69885078939933, 152.8852468057865, 155.7352665391363, 154.0446283855039, 155.18149489735254, 151.70501437519002, 151.00136692731837]}, {\"line\": {\"color\": \"rgba(50, 171, 96, 1.0)\", \"dash\": \"solid\", \"shape\": \"linear\", \"width\": 1.3}, \"mode\": \"lines\", \"name\": \"FB\", \"text\": \"\", \"type\": \"scatter\", \"x\": [\"2019-05-31\", \"2019-06-03\", \"2019-06-04\", \"2019-06-05\", \"2019-06-06\", \"2019-06-07\", \"2019-06-10\", \"2019-06-11\", \"2019-06-12\", \"2019-06-13\", \"2019-06-14\", \"2019-06-17\", \"2019-06-18\", \"2019-06-19\", \"2019-06-20\", \"2019-06-21\", \"2019-06-24\", \"2019-06-25\", \"2019-06-26\", \"2019-06-27\", \"2019-06-28\", \"2019-07-01\", \"2019-07-02\", \"2019-07-03\", \"2019-07-05\", \"2019-07-08\", \"2019-07-09\", \"2019-07-10\", \"2019-07-11\", \"2019-07-12\", \"2019-07-15\", \"2019-07-16\", \"2019-07-17\", \"2019-07-18\", \"2019-07-19\", \"2019-07-22\", \"2019-07-23\", \"2019-07-24\", \"2019-07-25\", \"2019-07-26\", \"2019-07-29\", \"2019-07-30\", \"2019-07-31\", \"2019-08-01\", \"2019-08-02\", \"2019-08-05\", \"2019-08-06\", \"2019-08-07\", \"2019-08-08\", \"2019-08-09\", \"2019-08-12\", \"2019-08-13\", \"2019-08-14\", \"2019-08-15\", \"2019-08-16\", \"2019-08-19\", \"2019-08-20\", \"2019-08-21\", \"2019-08-22\", \"2019-08-23\", \"2019-08-26\", \"2019-08-27\", \"2019-08-28\", \"2019-08-29\", \"2019-08-30\", \"2019-09-03\", \"2019-09-04\", \"2019-09-05\", \"2019-09-06\", \"2019-09-09\", \"2019-09-10\", \"2019-09-11\", \"2019-09-12\", \"2019-09-13\", \"2019-09-16\", \"2019-09-17\", \"2019-09-18\", \"2019-09-19\", \"2019-09-20\", \"2019-09-23\", \"2019-09-24\", \"2019-09-25\", \"2019-09-26\", \"2019-09-27\", \"2019-09-30\", \"2019-10-01\", \"2019-10-02\", \"2019-10-03\", \"2019-10-04\", \"2019-10-07\", \"2019-10-08\", \"2019-10-09\", \"2019-10-10\", \"2019-10-11\", \"2019-10-14\", \"2019-10-15\", \"2019-10-16\", \"2019-10-17\", \"2019-10-18\", \"2019-10-21\", \"2019-10-22\", \"2019-10-23\", \"2019-10-24\", \"2019-10-25\", \"2019-10-28\", \"2019-10-29\", \"2019-10-30\", \"2019-10-31\", \"2019-11-01\", \"2019-11-04\", \"2019-11-05\", \"2019-11-06\", \"2019-11-07\", \"2019-11-08\", \"2019-11-11\", \"2019-11-12\", \"2019-11-13\", \"2019-11-14\", \"2019-11-15\", \"2019-11-18\", \"2019-11-19\", \"2019-11-20\", \"2019-11-21\", \"2019-11-22\", \"2019-11-25\", \"2019-11-26\", \"2019-11-27\", \"2019-11-29\", \"2019-12-02\", \"2019-12-03\", \"2019-12-04\", \"2019-12-05\", \"2019-12-06\", \"2019-12-09\", \"2019-12-10\", \"2019-12-11\", \"2019-12-12\", \"2019-12-13\", \"2019-12-16\", \"2019-12-17\", \"2019-12-18\", \"2019-12-19\", \"2019-12-20\", \"2019-12-23\", \"2019-12-24\", \"2019-12-26\", \"2019-12-27\", \"2019-12-30\", \"2019-12-31\", \"2020-01-02\", \"2020-01-03\", \"2020-01-06\", \"2020-01-07\", \"2020-01-08\", \"2020-01-09\", \"2020-01-10\", \"2020-01-13\", \"2020-01-14\", \"2020-01-15\", \"2020-01-16\", \"2020-01-17\", \"2020-01-21\", \"2020-01-22\", \"2020-01-23\", \"2020-01-24\", \"2020-01-27\", \"2020-01-28\", \"2020-01-29\", \"2020-01-30\", \"2020-01-31\", \"2020-02-03\", \"2020-02-04\", \"2020-02-05\", \"2020-02-06\", \"2020-02-07\", \"2020-02-10\", \"2020-02-11\", \"2020-02-12\", \"2020-02-13\", \"2020-02-14\", \"2020-02-18\", \"2020-02-19\", \"2020-02-20\", \"2020-02-21\", \"2020-02-24\", \"2020-02-25\", \"2020-02-26\", \"2020-02-27\", \"2020-02-28\", \"2020-03-02\", \"2020-03-03\", \"2020-03-04\", \"2020-03-05\", \"2020-03-06\", \"2020-03-09\", \"2020-03-10\", \"2020-03-11\", \"2020-03-12\", \"2020-03-13\", \"2020-03-16\", \"2020-03-17\", \"2020-03-18\", \"2020-03-19\", \"2020-03-20\", \"2020-03-23\", \"2020-03-24\", \"2020-03-25\", \"2020-03-26\", \"2020-03-27\", \"2020-03-30\", \"2020-03-31\", \"2020-04-01\", \"2020-04-02\", \"2020-04-03\", \"2020-04-06\", \"2020-04-07\", \"2020-04-08\", \"2020-04-09\", \"2020-04-13\", \"2020-04-14\", \"2020-04-15\", \"2020-04-16\", \"2020-04-17\", \"2020-04-20\", \"2020-04-21\", \"2020-04-22\", \"2020-04-23\", \"2020-04-24\", \"2020-04-27\", \"2020-04-28\", \"2020-04-29\", \"2020-04-30\", \"2020-05-01\", \"2020-05-04\", \"2020-05-05\", \"2020-05-06\", \"2020-05-07\", \"2020-05-08\", \"2020-05-11\", \"2020-05-12\", \"2020-05-13\", \"2020-05-14\", \"2020-05-15\", \"2020-05-18\", \"2020-05-19\", \"2020-05-20\", \"2020-05-21\", \"2020-05-22\", \"2020-05-26\", \"2020-05-27\", \"2020-05-28\", \"2020-05-29\", \"2020-06-01\", \"2020-06-02\", \"2020-06-03\", \"2020-06-04\", \"2020-06-05\", \"2020-06-08\", \"2020-06-09\", \"2020-06-10\", \"2020-06-11\", \"2020-06-12\", \"2020-06-15\", \"2020-06-16\", \"2020-06-17\", \"2020-06-18\", \"2020-06-19\", \"2020-06-22\", \"2020-06-23\", \"2020-06-24\", \"2020-06-25\", \"2020-06-26\", \"2020-06-29\"], \"y\": [100.0, 92.49450203831695, 94.3821484464271, 94.75967600845833, 94.84983415406536, 97.67848363731973, 98.50679332943216, 100.35499232460647, 98.63075003219933, 100.0, 102.17501582453433, 106.50250363822424, 106.19823064424297, 105.64038679099768, 106.7955133124701, 107.70270923250021, 108.52538726474492, 106.40671383274952, 105.74181685429409, 106.77860973491305, 108.75077403080853, 108.75077403080853, 109.87772505703452, 111.11736946629232, 110.66658733621114, 110.30596335173696, 112.24996075034002, 114.23338836597088, 113.3881750963014, 115.43922562011453, 114.89829394238029, 114.85884652944446, 113.7093602657937, 113.13461283499133, 111.77100312501236, 114.00236994003959, 114.02490517746435, 115.32090057721504, 113.09517402000951, 112.55423374432128, 110.40739341503338, 111.0272113206853, 109.4438465045104, 108.59863323484092, 106.50814389604592, 102.40040259059793, 103.96686382921574, 104.3274878136899, 107.15050563707658, 105.8488785774582, 104.45145311441108, 106.1869587265536, 101.26218824463655, 102.88499187579328, 103.51045003926687, 104.90223524449227, 103.57243268962743, 103.4259321514815, 102.57507862399031, 100.15777245583533, 101.62844388897841, 102.15811224697727, 102.41730616815501, 104.56415509539687, 104.62049748793578, 102.77229849276146, 105.4488071800482, 107.56747201408965, 105.64602704881936, 106.36163475994597, 104.90223524449227, 106.20950256193235, 105.63475513112996, 105.47698267529466, 104.93041073973872, 105.97847553804706, 106.01228269316121, 107.1392337193872, 107.02090007853371, 105.26849948678813, 102.1468403292879, 103.00332551664675, 101.48757501070016, 99.79151681149348, 100.34372040691709, 99.06462858472347, 98.38282802871097, 101.07624029355478, 101.6791546216496, 101.24527606912548, 100.15777245583533, 101.3410744725542, 101.44249593789662, 103.78655613595566, 103.27379135551386, 106.43488932799596, 106.80678523015949, 107.28010259766545, 104.7219275512322, 106.92511027305898, 102.744122997515, 104.8909633268029, 105.02056888534577, 105.87141381488297, 106.72225874442015, 106.67154801174894, 106.0742653435218, 107.99007864892438, 109.10012609759332, 109.7199526011992, 109.49456583513562, 107.93373625638549, 107.2970061752225, 107.53366485897551, 106.84059238527364, 109.57908372292096, 108.85783575397264, 108.8352919185939, 109.93407604752743, 111.23006284932413, 112.31194340070059, 111.29204549968472, 111.5287041834377, 112.0302056441441, 112.57676898174603, 112.11472353192944, 113.82205364882552, 113.61920212018669, 112.52605824907482, 112.0302056441441, 111.96822299378351, 112.33447863812536, 113.28675363095897, 113.45015774666199, 113.18532356766255, 113.96855418697145, 110.86380720498228, 109.37623219428212, 111.52307252357001, 111.78790670256944, 114.103791405382, 116.10976285639165, 116.2450000748022, 116.17737716661993, 115.5800944983928, 117.08457308665001, 117.25925771799639, 115.1800316989368, 115.65334906644276, 118.20589245300832, 117.58043428953474, 119.79489752700488, 120.05409144818262, 121.27120062001566, 123.00670623215817, 122.87146901374761, 125.04085317841425, 123.43494452686062, 124.6126062857578, 124.96196695049659, 125.17045013900312, 124.77601899941482, 124.70840468918654, 123.82937566644891, 122.80385470351933, 121.07398075124452, 122.71932821777997, 125.78463638478735, 118.06502357473005, 113.7713429161543, 115.05606639821562, 118.23406794825475, 118.39184040409008, 118.80881537905714, 119.64275673103725, 120.05409144818262, 116.74649293755462, 118.75809604843192, 120.09917052098615, 120.6851812715239, 122.72496847560168, 122.55029244220927, 120.9105766355415, 118.43127921907191, 113.1008056798772, 110.87507912267165, 111.11736946629232, 106.91947861319129, 108.45213269669496, 110.68913117158989, 104.74446278865696, 108.05206129928497, 104.33875973137927, 102.03977860612376, 95.50909947265309, 100.40570305727768, 95.92607444762015, 87.04006319840106, 95.9486096850449, 82.27305657436533, 84.19451013758962, 82.80836519018588, 86.28500807433859, 84.36918617098202, 83.45072693121654, 90.70828569350323, 88.02051368648111, 92.03808824836807, 88.34732191788713, 93.50875968151115, 93.98771730683879, 89.93069533201601, 89.13619279501772, 86.87665048474405, 93.28337291544754, 95.13157191062186, 98.2025117374969, 98.71527651793869, 98.48988115392109, 100.3944311395883, 99.7182622434435, 99.31255918616583, 100.99735406563713, 100.43387855252412, 96.24161935929078, 102.71031584240089, 104.31622449395452, 107.09979490440537, 105.65165870868705, 103.06530816700734, 109.42131126708563, 115.3490760724615, 113.97419444479313, 115.65898072631045, 116.67887862732633, 117.46774090650291, 119.03983380498843, 119.65402864872662, 120.1217057584109, 118.38620874422239, 115.56883117865739, 116.53236949122639, 118.8257189566142, 120.12734601623258, 122.2065720352922, 129.58246443843237, 130.38259863529836, 132.36603484888323, 130.83901242524723, 129.11477873079411, 127.04119296955618, 126.83270118309566, 130.67560830954423, 131.1320220994931, 129.6895261615965, 127.50887007924045, 130.03324656851356, 130.38823029516604, 134.48469968292466, 133.3915558118128, 126.46080528093214, 128.79923381912346, 131.00805679877195, 132.78300122589627, 132.715386915668, 132.94641393955328, 134.55231399315292, 134.7946129347276, 136.49631139175597, 131.86454198613083, 132.79990480345336, 121.75578990521099, 124.32523686933364]}, {\"line\": {\"color\": \"rgba(128, 0, 128, 1.0)\", \"dash\": \"solid\", \"shape\": \"linear\", \"width\": 1.3}, \"mode\": \"lines\", \"name\": \"GOOG\", \"text\": \"\", \"type\": \"scatter\", \"x\": [\"2019-05-31\", \"2019-06-03\", \"2019-06-04\", \"2019-06-05\", \"2019-06-06\", \"2019-06-07\", \"2019-06-10\", \"2019-06-11\", \"2019-06-12\", \"2019-06-13\", \"2019-06-14\", \"2019-06-17\", \"2019-06-18\", \"2019-06-19\", \"2019-06-20\", \"2019-06-21\", \"2019-06-24\", \"2019-06-25\", \"2019-06-26\", \"2019-06-27\", \"2019-06-28\", \"2019-07-01\", \"2019-07-02\", \"2019-07-03\", \"2019-07-05\", \"2019-07-08\", \"2019-07-09\", \"2019-07-10\", \"2019-07-11\", \"2019-07-12\", \"2019-07-15\", \"2019-07-16\", \"2019-07-17\", \"2019-07-18\", \"2019-07-19\", \"2019-07-22\", \"2019-07-23\", \"2019-07-24\", \"2019-07-25\", \"2019-07-26\", \"2019-07-29\", \"2019-07-30\", \"2019-07-31\", \"2019-08-01\", \"2019-08-02\", \"2019-08-05\", \"2019-08-06\", \"2019-08-07\", \"2019-08-08\", \"2019-08-09\", \"2019-08-12\", \"2019-08-13\", \"2019-08-14\", \"2019-08-15\", \"2019-08-16\", \"2019-08-19\", \"2019-08-20\", \"2019-08-21\", \"2019-08-22\", \"2019-08-23\", \"2019-08-26\", \"2019-08-27\", \"2019-08-28\", \"2019-08-29\", \"2019-08-30\", \"2019-09-03\", \"2019-09-04\", \"2019-09-05\", \"2019-09-06\", \"2019-09-09\", \"2019-09-10\", \"2019-09-11\", \"2019-09-12\", \"2019-09-13\", \"2019-09-16\", \"2019-09-17\", \"2019-09-18\", \"2019-09-19\", \"2019-09-20\", \"2019-09-23\", \"2019-09-24\", \"2019-09-25\", \"2019-09-26\", \"2019-09-27\", \"2019-09-30\", \"2019-10-01\", \"2019-10-02\", \"2019-10-03\", \"2019-10-04\", \"2019-10-07\", \"2019-10-08\", \"2019-10-09\", \"2019-10-10\", \"2019-10-11\", \"2019-10-14\", \"2019-10-15\", \"2019-10-16\", \"2019-10-17\", \"2019-10-18\", \"2019-10-21\", \"2019-10-22\", \"2019-10-23\", \"2019-10-24\", \"2019-10-25\", \"2019-10-28\", \"2019-10-29\", \"2019-10-30\", \"2019-10-31\", \"2019-11-01\", \"2019-11-04\", \"2019-11-05\", \"2019-11-06\", \"2019-11-07\", \"2019-11-08\", \"2019-11-11\", \"2019-11-12\", \"2019-11-13\", \"2019-11-14\", \"2019-11-15\", \"2019-11-18\", \"2019-11-19\", \"2019-11-20\", \"2019-11-21\", \"2019-11-22\", \"2019-11-25\", \"2019-11-26\", \"2019-11-27\", \"2019-11-29\", \"2019-12-02\", \"2019-12-03\", \"2019-12-04\", \"2019-12-05\", \"2019-12-06\", \"2019-12-09\", \"2019-12-10\", \"2019-12-11\", \"2019-12-12\", \"2019-12-13\", \"2019-12-16\", \"2019-12-17\", \"2019-12-18\", \"2019-12-19\", \"2019-12-20\", \"2019-12-23\", \"2019-12-24\", \"2019-12-26\", \"2019-12-27\", \"2019-12-30\", \"2019-12-31\", \"2020-01-02\", \"2020-01-03\", \"2020-01-06\", \"2020-01-07\", \"2020-01-08\", \"2020-01-09\", \"2020-01-10\", \"2020-01-13\", \"2020-01-14\", \"2020-01-15\", \"2020-01-16\", \"2020-01-17\", \"2020-01-21\", \"2020-01-22\", \"2020-01-23\", \"2020-01-24\", \"2020-01-27\", \"2020-01-28\", \"2020-01-29\", \"2020-01-30\", \"2020-01-31\", \"2020-02-03\", \"2020-02-04\", \"2020-02-05\", \"2020-02-06\", \"2020-02-07\", \"2020-02-10\", \"2020-02-11\", \"2020-02-12\", \"2020-02-13\", \"2020-02-14\", \"2020-02-18\", \"2020-02-19\", \"2020-02-20\", \"2020-02-21\", \"2020-02-24\", \"2020-02-25\", \"2020-02-26\", \"2020-02-27\", \"2020-02-28\", \"2020-03-02\", \"2020-03-03\", \"2020-03-04\", \"2020-03-05\", \"2020-03-06\", \"2020-03-09\", \"2020-03-10\", \"2020-03-11\", \"2020-03-12\", \"2020-03-13\", \"2020-03-16\", \"2020-03-17\", \"2020-03-18\", \"2020-03-19\", \"2020-03-20\", \"2020-03-23\", \"2020-03-24\", \"2020-03-25\", \"2020-03-26\", \"2020-03-27\", \"2020-03-30\", \"2020-03-31\", \"2020-04-01\", \"2020-04-02\", \"2020-04-03\", \"2020-04-06\", \"2020-04-07\", \"2020-04-08\", \"2020-04-09\", \"2020-04-13\", \"2020-04-14\", \"2020-04-15\", \"2020-04-16\", \"2020-04-17\", \"2020-04-20\", \"2020-04-21\", \"2020-04-22\", \"2020-04-23\", \"2020-04-24\", \"2020-04-27\", \"2020-04-28\", \"2020-04-29\", \"2020-04-30\", \"2020-05-01\", \"2020-05-04\", \"2020-05-05\", \"2020-05-06\", \"2020-05-07\", \"2020-05-08\", \"2020-05-11\", \"2020-05-12\", \"2020-05-13\", \"2020-05-14\", \"2020-05-15\", \"2020-05-18\", \"2020-05-19\", \"2020-05-20\", \"2020-05-21\", \"2020-05-22\", \"2020-05-26\", \"2020-05-27\", \"2020-05-28\", \"2020-05-29\", \"2020-06-01\", \"2020-06-02\", \"2020-06-03\", \"2020-06-04\", \"2020-06-05\", \"2020-06-08\", \"2020-06-09\", \"2020-06-10\", \"2020-06-11\", \"2020-06-12\", \"2020-06-15\", \"2020-06-16\", \"2020-06-17\", \"2020-06-18\", \"2020-06-19\", \"2020-06-22\", \"2020-06-23\", \"2020-06-24\", \"2020-06-25\", \"2020-06-26\", \"2020-06-29\"], \"y\": [100.0, 93.89287858105858, 95.4169462744846, 94.43563205893372, 94.62772498027583, 96.59397029312338, 97.8933157038922, 97.74289987862984, 97.58977415725826, 98.6535355793321, 98.34364513324228, 98.9915093977538, 99.99727904309033, 99.88220247525229, 100.70585604124882, 101.65363390984805, 101.07735514582173, 98.43425521049423, 97.84076584097423, 97.4973501087332, 97.94134169942782, 99.48532989445673, 100.69044834622783, 101.6264464623523, 102.53345422050835, 101.15255752805268, 101.92092921342113, 103.33897913457422, 103.6769529529959, 103.739479657916, 104.23239316898238, 104.52596893441466, 103.87085984561114, 103.86904587433803, 102.39844609026699, 103.12060575137289, 103.85817310749981, 103.0970573072238, 102.58148021604399, 113.29974979363311, 112.3030389438617, 111.0100313717483, 110.24347365765297, 109.54849038324235, 108.18752525319002, 104.41179935221317, 106.00925545659703, 106.37532370815104, 109.16702549746779, 107.64567876095144, 106.44056030918034, 108.48472896116851, 105.49641038312731, 105.7655196579735, 106.70242475973453, 108.59164265827756, 107.16362695592284, 107.9392545263837, 107.78340784810247, 104.31847937885199, 105.9132145263262, 105.81806952089148, 106.10621443330486, 108.08422843782675, 107.65383057087999, 105.86790948770022, 107.04765446324866, 109.76323582389746, 109.17880524994257, 109.13168624004348, 109.27575316584996, 110.55970194239823, 111.83548784821751, 112.31663266760957, 111.56819254464443, 111.37337866639265, 111.66876840309806, 112.23960525330506, 111.44405718124129, 111.81555628581418, 110.43193863644885, 112.94727526582697, 112.48244512709246, 111.00549644356552, 110.45368417012529, 109.1942018841631, 106.61453563939224, 107.62936408029388, 109.54758339760579, 109.42798296238543, 107.74716160504161, 108.94140728997448, 109.51768605400083, 110.1320139715607, 110.28515075373271, 112.6292330098086, 112.68631780090936, 113.54076463534697, 112.85394423166537, 112.91374997967579, 112.61020843304183, 114.089867012678, 114.25840042907056, 114.63352747618968, 116.88699965501364, 114.40609529742328, 114.28558787656632, 114.17866311865683, 115.41367891403291, 117.01113501841678, 117.07094076642719, 117.05010221838732, 118.59590438468932, 118.82333656345577, 117.71970095577483, 117.68437275915096, 117.61188027302923, 118.8314883733843, 120.95267337887654, 119.66872460232827, 119.1939286823921, 118.06946558747174, 117.91542181966317, 117.3708543705149, 118.39927653516445, 119.02087139861722, 118.9701244461719, 118.24252287124663, 116.87975483072164, 117.36542351749604, 119.65423495374428, 120.34196234306245, 121.47368132307525, 121.74008070181222, 121.83974957462927, 121.87236787514391, 122.34807078071665, 122.12697644060566, 123.33572283492298, 122.78752744322851, 122.56100225009862, 122.87089269618845, 122.28645106143313, 122.21849350349416, 121.74008070181222, 123.2659513057109, 122.4948586634328, 121.06774994671459, 121.14748725712832, 123.89750088956488, 123.28951081066045, 126.32947226598306, 126.25064194120587, 127.2455388197042, 128.65090200274597, 129.54794397970034, 130.40873971359383, 129.65214778070015, 130.40601875668418, 131.53864472233354, 134.13825359030818, 134.50160088495252, 134.64203986821278, 134.7054735587694, 132.89870286674932, 129.9257919837291, 131.6165791222746, 132.16657742444173, 131.91377176945264, 129.9556893273341, 134.64113288257622, 131.119119622225, 131.2242304088614, 133.76131257191594, 134.03314280367178, 136.70161621522195, 136.7115819964236, 137.570563759044, 137.24346270746054, 137.79436799526422, 137.69742007935682, 138.33349353059313, 137.5596909922058, 134.56593050034527, 128.81037662357343, 125.8075573361478, 126.23615229262188, 119.43223362799675, 121.35679078396409, 125.8673630841582, 121.54345285228732, 125.63268608109979, 119.51831983786636, 117.64903350172663, 110.1419908135628, 116.01623813991846, 110.12839708981492, 101.02208432599409, 110.51982775679114, 98.25122108471722, 101.46516893105218, 99.38113715425735, 101.05651659778185, 97.16299317205727, 95.74041938352185, 102.79350469978941, 99.89670318463672, 105.26625724745122, 100.64151536505564, 103.91344392732745, 105.36230923852253, 100.18031316886736, 101.5593958900499, 99.4789920558013, 107.54691687377094, 107.50976364507352, 109.6635669510804, 109.76957366255289, 110.3232109680667, 115.00502658076259, 114.39250157367537, 114.48311165092733, 116.27538163356299, 114.76762862079451, 110.21265826761098, 114.45955214597778, 115.64655300661867, 115.91838323837452, 115.60758580664813, 111.78293798529953, 121.55160466221588, 122.20218988363708, 119.66057279239972, 120.22145492220552, 122.42418014858416, 122.07896150587045, 124.36777294211872, 125.8003125118558, 127.14949788943338, 124.65590679373166, 122.26289155648358, 122.87904450611703, 124.42484667241902, 125.39890500287747, 124.45158062709652, 127.46300521726897, 127.10782079335361, 127.79826913958144, 128.3962934372842, 128.4705888338786, 128.370012975425, 129.4745555687425, 129.73731594413277, 130.40783272795727, 130.15050320558586, 127.95774376040892, 130.33263034572633, 131.07744252614523, 131.94277318822154, 132.8207795276087, 127.20204775235133, 128.04835383766084, 128.65271597401906, 130.7249679983391, 131.48609485941557, 130.1124429912519, 129.72825714856768, 131.55314543171798, 132.6903063255501, 129.75090966788065, 130.59901866366286, 123.22064626708493, 126.39833680955857]}, {\"line\": {\"color\": \"rgba(219, 64, 82, 1.0)\", \"dash\": \"solid\", \"shape\": \"linear\", \"width\": 1.3}, \"mode\": \"lines\", \"name\": \"NFLX\", \"text\": \"\", \"type\": \"scatter\", \"x\": [\"2019-05-31\", \"2019-06-03\", \"2019-06-04\", \"2019-06-05\", \"2019-06-06\", \"2019-06-07\", \"2019-06-10\", \"2019-06-11\", \"2019-06-12\", \"2019-06-13\", \"2019-06-14\", \"2019-06-17\", \"2019-06-18\", \"2019-06-19\", \"2019-06-20\", \"2019-06-21\", \"2019-06-24\", \"2019-06-25\", \"2019-06-26\", \"2019-06-27\", \"2019-06-28\", \"2019-07-01\", \"2019-07-02\", \"2019-07-03\", \"2019-07-05\", \"2019-07-08\", \"2019-07-09\", \"2019-07-10\", \"2019-07-11\", \"2019-07-12\", \"2019-07-15\", \"2019-07-16\", \"2019-07-17\", \"2019-07-18\", \"2019-07-19\", \"2019-07-22\", \"2019-07-23\", \"2019-07-24\", \"2019-07-25\", \"2019-07-26\", \"2019-07-29\", \"2019-07-30\", \"2019-07-31\", \"2019-08-01\", \"2019-08-02\", \"2019-08-05\", \"2019-08-06\", \"2019-08-07\", \"2019-08-08\", \"2019-08-09\", \"2019-08-12\", \"2019-08-13\", \"2019-08-14\", \"2019-08-15\", \"2019-08-16\", \"2019-08-19\", \"2019-08-20\", \"2019-08-21\", \"2019-08-22\", \"2019-08-23\", \"2019-08-26\", \"2019-08-27\", \"2019-08-28\", \"2019-08-29\", \"2019-08-30\", \"2019-09-03\", \"2019-09-04\", \"2019-09-05\", \"2019-09-06\", \"2019-09-09\", \"2019-09-10\", \"2019-09-11\", \"2019-09-12\", \"2019-09-13\", \"2019-09-16\", \"2019-09-17\", \"2019-09-18\", \"2019-09-19\", \"2019-09-20\", \"2019-09-23\", \"2019-09-24\", \"2019-09-25\", \"2019-09-26\", \"2019-09-27\", \"2019-09-30\", \"2019-10-01\", \"2019-10-02\", \"2019-10-03\", \"2019-10-04\", \"2019-10-07\", \"2019-10-08\", \"2019-10-09\", \"2019-10-10\", \"2019-10-11\", \"2019-10-14\", \"2019-10-15\", \"2019-10-16\", \"2019-10-17\", \"2019-10-18\", \"2019-10-21\", \"2019-10-22\", \"2019-10-23\", \"2019-10-24\", \"2019-10-25\", \"2019-10-28\", \"2019-10-29\", \"2019-10-30\", \"2019-10-31\", \"2019-11-01\", \"2019-11-04\", \"2019-11-05\", \"2019-11-06\", \"2019-11-07\", \"2019-11-08\", \"2019-11-11\", \"2019-11-12\", \"2019-11-13\", \"2019-11-14\", \"2019-11-15\", \"2019-11-18\", \"2019-11-19\", \"2019-11-20\", \"2019-11-21\", \"2019-11-22\", \"2019-11-25\", \"2019-11-26\", \"2019-11-27\", \"2019-11-29\", \"2019-12-02\", \"2019-12-03\", \"2019-12-04\", \"2019-12-05\", \"2019-12-06\", \"2019-12-09\", \"2019-12-10\", \"2019-12-11\", \"2019-12-12\", \"2019-12-13\", \"2019-12-16\", \"2019-12-17\", \"2019-12-18\", \"2019-12-19\", \"2019-12-20\", \"2019-12-23\", \"2019-12-24\", \"2019-12-26\", \"2019-12-27\", \"2019-12-30\", \"2019-12-31\", \"2020-01-02\", \"2020-01-03\", \"2020-01-06\", \"2020-01-07\", \"2020-01-08\", \"2020-01-09\", \"2020-01-10\", \"2020-01-13\", \"2020-01-14\", \"2020-01-15\", \"2020-01-16\", \"2020-01-17\", \"2020-01-21\", \"2020-01-22\", \"2020-01-23\", \"2020-01-24\", \"2020-01-27\", \"2020-01-28\", \"2020-01-29\", \"2020-01-30\", \"2020-01-31\", \"2020-02-03\", \"2020-02-04\", \"2020-02-05\", \"2020-02-06\", \"2020-02-07\", \"2020-02-10\", \"2020-02-11\", \"2020-02-12\", \"2020-02-13\", \"2020-02-14\", \"2020-02-18\", \"2020-02-19\", \"2020-02-20\", \"2020-02-21\", \"2020-02-24\", \"2020-02-25\", \"2020-02-26\", \"2020-02-27\", \"2020-02-28\", \"2020-03-02\", \"2020-03-03\", \"2020-03-04\", \"2020-03-05\", \"2020-03-06\", \"2020-03-09\", \"2020-03-10\", \"2020-03-11\", \"2020-03-12\", \"2020-03-13\", \"2020-03-16\", \"2020-03-17\", \"2020-03-18\", \"2020-03-19\", \"2020-03-20\", \"2020-03-23\", \"2020-03-24\", \"2020-03-25\", \"2020-03-26\", \"2020-03-27\", \"2020-03-30\", \"2020-03-31\", \"2020-04-01\", \"2020-04-02\", \"2020-04-03\", \"2020-04-06\", \"2020-04-07\", \"2020-04-08\", \"2020-04-09\", \"2020-04-13\", \"2020-04-14\", \"2020-04-15\", \"2020-04-16\", \"2020-04-17\", \"2020-04-20\", \"2020-04-21\", \"2020-04-22\", \"2020-04-23\", \"2020-04-24\", \"2020-04-27\", \"2020-04-28\", \"2020-04-29\", \"2020-04-30\", \"2020-05-01\", \"2020-05-04\", \"2020-05-05\", \"2020-05-06\", \"2020-05-07\", \"2020-05-08\", \"2020-05-11\", \"2020-05-12\", \"2020-05-13\", \"2020-05-14\", \"2020-05-15\", \"2020-05-18\", \"2020-05-19\", \"2020-05-20\", \"2020-05-21\", \"2020-05-22\", \"2020-05-26\", \"2020-05-27\", \"2020-05-28\", \"2020-05-29\", \"2020-06-01\", \"2020-06-02\", \"2020-06-03\", \"2020-06-04\", \"2020-06-05\", \"2020-06-08\", \"2020-06-09\", \"2020-06-10\", \"2020-06-11\", \"2020-06-12\", \"2020-06-15\", \"2020-06-16\", \"2020-06-17\", \"2020-06-18\", \"2020-06-19\", \"2020-06-22\", \"2020-06-23\", \"2020-06-24\", \"2020-06-25\", \"2020-06-26\", \"2020-06-29\"], \"y\": [100.0, 98.06280764386747, 102.94802935014395, 103.62678054395931, 104.03460910998783, 105.12409589852034, 102.54311670280005, 102.32754319004526, 100.66418049038819, 100.04369433028948, 98.9658623264995, 102.13819516546016, 104.0316931913032, 105.89605870028791, 106.38836889820679, 107.55359845257173, 108.08669595209146, 104.9580485534243, 105.51153970374445, 107.78955672613095, 107.00303211093221, 109.12374954427658, 109.36553076520907, 111.19785672864684, 110.85702317239685, 109.57818835927924, 110.67641401386963, 110.9881150532613, 110.55115397037444, 108.73048279167921, 106.79329043554668, 106.61558830570812, 105.58145063220763, 94.73607335455732, 91.79095992309799, 90.48589962181069, 89.51875695808874, 92.61827183989757, 95.10020759029636, 97.81519458556572, 96.91797174030295, 94.94581502994284, 94.08937059628492, 93.07271065490022, 92.87753079294586, 89.61489337472159, 90.3344229801418, 88.64192776362638, 92.02400227797257, 89.9935894238918, 90.54707168421596, 90.96947095367165, 87.13294873432682, 86.15707609454297, 88.20787370942817, 90.12468130475627, 87.09799327009523, 86.75425268515662, 86.49790076079697, 84.8986260422298, 85.92985668704165, 84.77918894610787, 84.99475356886667, 86.45420643050747, 85.57154539867588, 84.27231693475782, 84.92192672171885, 85.42589170438025, 84.52866885911747, 85.74341569114519, 83.89361199559163, 83.97517770879733, 84.14704800126664, 85.68806657611316, 85.72885387771402, 86.98438801134257, 84.93358150646138, 83.48869934824772, 78.87147546107742, 77.46446468577997, 74.16394699464351, 77.12363112953, 76.70414777875894, 76.63714387898439, 77.9596819123875, 78.53064190482743, 78.07911900850941, 78.114074472741, 79.46574502300243, 79.95222338355204, 78.86273659501953, 77.9334653142138, 81.70589955246871, 82.41959732051964, 83.17699830885607, 82.80412520705912, 83.39547885029948, 85.45502422123857, 80.19692052316915, 80.99801584179505, 77.68876817459667, 79.0229521027463, 79.08995600252085, 80.63971344342526, 82.10789628112799, 81.91854825654288, 84.90154196091441, 83.72465762180694, 83.54987141065301, 85.3122775556316, 83.90526678033416, 84.06839820674557, 84.35388264796354, 84.936497425146, 85.69680544217107, 85.06467338732584, 82.47203051686704, 84.3684444613947, 85.94441850047282, 88.14087869964962, 88.14961756570752, 88.89536376930141, 90.79760066120234, 90.44512121020583, 91.92204291396644, 91.03064301607694, 92.03274114403047, 91.66278396091816, 90.30237454459883, 89.18667115789263, 88.65066662968428, 88.22535144154396, 89.5333276615159, 88.12048504884919, 85.38802032146403, 87.08051553797944, 86.93777776236846, 86.95525549448425, 88.61861819414133, 91.901658153162, 93.45140670407044, 96.7781409933806, 98.14145743838854, 97.03449291774024, 97.06362543459856, 96.89757808950252, 95.86634744469067, 94.18259109423316, 94.25833386006559, 96.0760891200762, 94.93707616388494, 97.82975639899689, 96.34991877655163, 98.82894749826178, 97.78023912133413, 95.85469265994814, 98.72990405294028, 98.66290015316575, 98.77359838322977, 98.64250650236531, 98.94838459438371, 98.49393688938507, 94.96620868074326, 101.84106482949566, 102.87811842168078, 99.8834788225627, 101.52644787141935, 99.96504453576841, 101.29922846391804, 100.52726566215047, 104.28804511566285, 107.4953423088511, 107.68760625212082, 106.8952497995528, 106.84280771320944, 108.09543481814936, 108.85865875385903, 110.6997235833547, 111.10463623069859, 110.81332884210735, 112.96317879231003, 112.50000111124949, 112.44465199621749, 110.71720131547049, 107.40503772958748, 104.89687649101901, 110.47541120454201, 108.28186692404984, 107.50116525622435, 111.00267686669247, 107.42542249039191, 111.80086515662973, 108.59356796344149, 107.48368752410855, 100.935094228179, 106.0737608301265, 101.93428532744389, 91.83465425338747, 97.96667122723461, 87.05429893980575, 93.14553750204804, 91.89874223447738, 96.72279187834857, 96.95583423322319, 104.9493096873664, 104.08995822501986, 99.74074104695171, 105.74166613993441, 104.0316931913032, 108.0633863826064, 109.38592441600949, 106.05919012669933, 107.80703445824675, 105.38336374156461, 110.68515287992753, 108.44791426914588, 108.10999663158051, 107.99347545414322, 115.56746755751539, 120.47016699590768, 124.3154280813104, 127.93346975921179, 123.21137058935072, 127.44406658998156, 126.37788048093812, 122.76276361171735, 124.30086626787921, 123.80272423259109, 122.7511088269748, 117.63865882320101, 119.98660455404269, 122.30540887803005, 120.97121605988444, 124.72325664733891, 123.71241965332749, 126.5031494144293, 127.16441398613286, 126.87892954491488, 128.32672762181318, 125.79235867506699, 127.6712859974829, 128.7433039438956, 132.30890353545362, 131.8398940170238, 131.39128703939042, 130.40958256223732, 127.08284827292715, 125.0640902035889, 120.82556236558881, 122.31706366277257, 120.43812745036071, 122.27045341379848, 124.07364686037789, 124.4785595077218, 122.92297911944412, 120.69738640340898, 122.23258203088226, 122.2005335953393, 126.44196846202802, 126.5672373955192, 123.96877157768714, 121.78688208193749, 123.95129384557136, 127.04789280869555, 130.43870618909963, 131.05045348314044, 132.1719887072159, 136.34351264544145, 135.82498584934888, 133.37508964449708, 135.72302648534276, 129.1656943233553, 130.28431362874613]}],                        {\"legend\": {\"bgcolor\": \"#F5F6F9\", \"font\": {\"color\": \"#4D5663\"}}, \"paper_bgcolor\": \"#F5F6F9\", \"plot_bgcolor\": \"#F5F6F9\", \"template\": {\"data\": {\"bar\": [{\"error_x\": {\"color\": \"#2a3f5f\"}, \"error_y\": {\"color\": \"#2a3f5f\"}, \"marker\": {\"line\": {\"color\": \"#E5ECF6\", \"width\": 0.5}}, \"type\": \"bar\"}], \"barpolar\": [{\"marker\": {\"line\": {\"color\": \"#E5ECF6\", \"width\": 0.5}}, \"type\": \"barpolar\"}], \"carpet\": [{\"aaxis\": {\"endlinecolor\": \"#2a3f5f\", \"gridcolor\": \"white\", \"linecolor\": \"white\", \"minorgridcolor\": \"white\", \"startlinecolor\": \"#2a3f5f\"}, \"baxis\": {\"endlinecolor\": \"#2a3f5f\", \"gridcolor\": \"white\", \"linecolor\": \"white\", \"minorgridcolor\": \"white\", \"startlinecolor\": \"#2a3f5f\"}, \"type\": \"carpet\"}], \"choropleth\": [{\"colorbar\": {\"outlinewidth\": 0, \"ticks\": \"\"}, \"type\": \"choropleth\"}], \"contour\": [{\"colorbar\": {\"outlinewidth\": 0, \"ticks\": \"\"}, \"colorscale\": [[0.0, \"#0d0887\"], [0.1111111111111111, \"#46039f\"], [0.2222222222222222, \"#7201a8\"], [0.3333333333333333, \"#9c179e\"], [0.4444444444444444, \"#bd3786\"], [0.5555555555555556, \"#d8576b\"], [0.6666666666666666, \"#ed7953\"], [0.7777777777777778, \"#fb9f3a\"], [0.8888888888888888, \"#fdca26\"], [1.0, \"#f0f921\"]], \"type\": \"contour\"}], \"contourcarpet\": [{\"colorbar\": {\"outlinewidth\": 0, \"ticks\": \"\"}, \"type\": \"contourcarpet\"}], \"heatmap\": [{\"colorbar\": {\"outlinewidth\": 0, \"ticks\": \"\"}, \"colorscale\": [[0.0, \"#0d0887\"], [0.1111111111111111, \"#46039f\"], [0.2222222222222222, \"#7201a8\"], [0.3333333333333333, \"#9c179e\"], [0.4444444444444444, \"#bd3786\"], [0.5555555555555556, \"#d8576b\"], [0.6666666666666666, \"#ed7953\"], [0.7777777777777778, \"#fb9f3a\"], [0.8888888888888888, \"#fdca26\"], [1.0, \"#f0f921\"]], \"type\": \"heatmap\"}], \"heatmapgl\": [{\"colorbar\": {\"outlinewidth\": 0, \"ticks\": \"\"}, \"colorscale\": [[0.0, \"#0d0887\"], [0.1111111111111111, \"#46039f\"], [0.2222222222222222, \"#7201a8\"], [0.3333333333333333, \"#9c179e\"], [0.4444444444444444, \"#bd3786\"], [0.5555555555555556, \"#d8576b\"], [0.6666666666666666, \"#ed7953\"], [0.7777777777777778, \"#fb9f3a\"], [0.8888888888888888, \"#fdca26\"], [1.0, \"#f0f921\"]], \"type\": \"heatmapgl\"}], \"histogram\": [{\"marker\": {\"colorbar\": {\"outlinewidth\": 0, \"ticks\": \"\"}}, \"type\": \"histogram\"}], \"histogram2d\": [{\"colorbar\": {\"outlinewidth\": 0, \"ticks\": \"\"}, \"colorscale\": [[0.0, \"#0d0887\"], [0.1111111111111111, \"#46039f\"], [0.2222222222222222, \"#7201a8\"], [0.3333333333333333, \"#9c179e\"], [0.4444444444444444, \"#bd3786\"], [0.5555555555555556, \"#d8576b\"], [0.6666666666666666, \"#ed7953\"], [0.7777777777777778, \"#fb9f3a\"], [0.8888888888888888, \"#fdca26\"], [1.0, \"#f0f921\"]], \"type\": \"histogram2d\"}], \"histogram2dcontour\": [{\"colorbar\": {\"outlinewidth\": 0, \"ticks\": \"\"}, \"colorscale\": [[0.0, \"#0d0887\"], [0.1111111111111111, \"#46039f\"], [0.2222222222222222, \"#7201a8\"], [0.3333333333333333, \"#9c179e\"], [0.4444444444444444, \"#bd3786\"], [0.5555555555555556, \"#d8576b\"], [0.6666666666666666, \"#ed7953\"], [0.7777777777777778, \"#fb9f3a\"], [0.8888888888888888, \"#fdca26\"], [1.0, \"#f0f921\"]], \"type\": \"histogram2dcontour\"}], \"mesh3d\": [{\"colorbar\": {\"outlinewidth\": 0, \"ticks\": \"\"}, \"type\": \"mesh3d\"}], \"parcoords\": [{\"line\": {\"colorbar\": {\"outlinewidth\": 0, \"ticks\": \"\"}}, \"type\": \"parcoords\"}], \"pie\": [{\"automargin\": true, \"type\": \"pie\"}], \"scatter\": [{\"marker\": {\"colorbar\": {\"outlinewidth\": 0, \"ticks\": \"\"}}, \"type\": \"scatter\"}], \"scatter3d\": [{\"line\": {\"colorbar\": {\"outlinewidth\": 0, \"ticks\": \"\"}}, \"marker\": {\"colorbar\": {\"outlinewidth\": 0, \"ticks\": \"\"}}, \"type\": \"scatter3d\"}], \"scattercarpet\": [{\"marker\": {\"colorbar\": {\"outlinewidth\": 0, \"ticks\": \"\"}}, \"type\": \"scattercarpet\"}], \"scattergeo\": [{\"marker\": {\"colorbar\": {\"outlinewidth\": 0, \"ticks\": \"\"}}, \"type\": \"scattergeo\"}], \"scattergl\": [{\"marker\": {\"colorbar\": {\"outlinewidth\": 0, \"ticks\": \"\"}}, \"type\": \"scattergl\"}], \"scattermapbox\": [{\"marker\": {\"colorbar\": {\"outlinewidth\": 0, \"ticks\": \"\"}}, \"type\": \"scattermapbox\"}], \"scatterpolar\": [{\"marker\": {\"colorbar\": {\"outlinewidth\": 0, \"ticks\": \"\"}}, \"type\": \"scatterpolar\"}], \"scatterpolargl\": [{\"marker\": {\"colorbar\": {\"outlinewidth\": 0, \"ticks\": \"\"}}, \"type\": \"scatterpolargl\"}], \"scatterternary\": [{\"marker\": {\"colorbar\": {\"outlinewidth\": 0, \"ticks\": \"\"}}, \"type\": \"scatterternary\"}], \"surface\": [{\"colorbar\": {\"outlinewidth\": 0, \"ticks\": \"\"}, \"colorscale\": [[0.0, \"#0d0887\"], [0.1111111111111111, \"#46039f\"], [0.2222222222222222, \"#7201a8\"], [0.3333333333333333, \"#9c179e\"], [0.4444444444444444, \"#bd3786\"], [0.5555555555555556, \"#d8576b\"], [0.6666666666666666, \"#ed7953\"], [0.7777777777777778, \"#fb9f3a\"], [0.8888888888888888, \"#fdca26\"], [1.0, \"#f0f921\"]], \"type\": \"surface\"}], \"table\": [{\"cells\": {\"fill\": {\"color\": \"#EBF0F8\"}, \"line\": {\"color\": \"white\"}}, \"header\": {\"fill\": {\"color\": \"#C8D4E3\"}, \"line\": {\"color\": \"white\"}}, \"type\": \"table\"}]}, \"layout\": {\"annotationdefaults\": {\"arrowcolor\": \"#2a3f5f\", \"arrowhead\": 0, \"arrowwidth\": 1}, \"autotypenumbers\": \"strict\", \"coloraxis\": {\"colorbar\": {\"outlinewidth\": 0, \"ticks\": \"\"}}, \"colorscale\": {\"diverging\": [[0, \"#8e0152\"], [0.1, \"#c51b7d\"], [0.2, \"#de77ae\"], [0.3, \"#f1b6da\"], [0.4, \"#fde0ef\"], [0.5, \"#f7f7f7\"], [0.6, \"#e6f5d0\"], [0.7, \"#b8e186\"], [0.8, \"#7fbc41\"], [0.9, \"#4d9221\"], [1, \"#276419\"]], \"sequential\": [[0.0, \"#0d0887\"], [0.1111111111111111, \"#46039f\"], [0.2222222222222222, \"#7201a8\"], [0.3333333333333333, \"#9c179e\"], [0.4444444444444444, \"#bd3786\"], [0.5555555555555556, \"#d8576b\"], [0.6666666666666666, \"#ed7953\"], [0.7777777777777778, \"#fb9f3a\"], [0.8888888888888888, \"#fdca26\"], [1.0, \"#f0f921\"]], \"sequentialminus\": [[0.0, \"#0d0887\"], [0.1111111111111111, \"#46039f\"], [0.2222222222222222, \"#7201a8\"], [0.3333333333333333, \"#9c179e\"], [0.4444444444444444, \"#bd3786\"], [0.5555555555555556, \"#d8576b\"], [0.6666666666666666, \"#ed7953\"], [0.7777777777777778, \"#fb9f3a\"], [0.8888888888888888, \"#fdca26\"], [1.0, \"#f0f921\"]]}, \"colorway\": [\"#636efa\", \"#EF553B\", \"#00cc96\", \"#ab63fa\", \"#FFA15A\", \"#19d3f3\", \"#FF6692\", \"#B6E880\", \"#FF97FF\", \"#FECB52\"], \"font\": {\"color\": \"#2a3f5f\"}, \"geo\": {\"bgcolor\": \"white\", \"lakecolor\": \"white\", \"landcolor\": \"#E5ECF6\", \"showlakes\": true, \"showland\": true, \"subunitcolor\": \"white\"}, \"hoverlabel\": {\"align\": \"left\"}, \"hovermode\": \"closest\", \"mapbox\": {\"style\": \"light\"}, \"paper_bgcolor\": \"white\", \"plot_bgcolor\": \"#E5ECF6\", \"polar\": {\"angularaxis\": {\"gridcolor\": \"white\", \"linecolor\": \"white\", \"ticks\": \"\"}, \"bgcolor\": \"#E5ECF6\", \"radialaxis\": {\"gridcolor\": \"white\", \"linecolor\": \"white\", \"ticks\": \"\"}}, \"scene\": {\"xaxis\": {\"backgroundcolor\": \"#E5ECF6\", \"gridcolor\": \"white\", \"gridwidth\": 2, \"linecolor\": \"white\", \"showbackground\": true, \"ticks\": \"\", \"zerolinecolor\": \"white\"}, \"yaxis\": {\"backgroundcolor\": \"#E5ECF6\", \"gridcolor\": \"white\", \"gridwidth\": 2, \"linecolor\": \"white\", \"showbackground\": true, \"ticks\": \"\", \"zerolinecolor\": \"white\"}, \"zaxis\": {\"backgroundcolor\": \"#E5ECF6\", \"gridcolor\": \"white\", \"gridwidth\": 2, \"linecolor\": \"white\", \"showbackground\": true, \"ticks\": \"\", \"zerolinecolor\": \"white\"}}, \"shapedefaults\": {\"line\": {\"color\": \"#2a3f5f\"}}, \"ternary\": {\"aaxis\": {\"gridcolor\": \"white\", \"linecolor\": \"white\", \"ticks\": \"\"}, \"baxis\": {\"gridcolor\": \"white\", \"linecolor\": \"white\", \"ticks\": \"\"}, \"bgcolor\": \"#E5ECF6\", \"caxis\": {\"gridcolor\": \"white\", \"linecolor\": \"white\", \"ticks\": \"\"}}, \"title\": {\"x\": 0.05}, \"xaxis\": {\"automargin\": true, \"gridcolor\": \"white\", \"linecolor\": \"white\", \"ticks\": \"\", \"title\": {\"standoff\": 15}, \"zerolinecolor\": \"white\", \"zerolinewidth\": 2}, \"yaxis\": {\"automargin\": true, \"gridcolor\": \"white\", \"linecolor\": \"white\", \"ticks\": \"\", \"title\": {\"standoff\": 15}, \"zerolinecolor\": \"white\", \"zerolinewidth\": 2}}}, \"title\": {\"font\": {\"color\": \"#4D5663\"}, \"text\": \"The FAANG Stocks\"}, \"xaxis\": {\"gridcolor\": \"#E1E5ED\", \"showgrid\": true, \"tickfont\": {\"color\": \"#4D5663\"}, \"title\": {\"font\": {\"color\": \"#4D5663\"}, \"text\": \"\"}, \"zerolinecolor\": \"#E1E5ED\"}, \"yaxis\": {\"gridcolor\": \"#E1E5ED\", \"showgrid\": true, \"tickfont\": {\"color\": \"#4D5663\"}, \"title\": {\"font\": {\"color\": \"#4D5663\"}, \"text\": \"\"}, \"zerolinecolor\": \"#E1E5ED\"}},                        {\"showLink\": true, \"linkText\": \"Export to plot.ly\", \"plotlyServerURL\": \"https://plot.ly\", \"responsive\": true}                    ).then(function(){\n",
       "                            \n",
       "var gd = document.getElementById('09c83309-823b-4878-b4ae-0458e90ec900');\n",
       "var x = new MutationObserver(function (mutations, observer) {{\n",
       "        var display = window.getComputedStyle(gd).display;\n",
       "        if (!display || display === 'none') {{\n",
       "            console.log([gd, 'removed!']);\n",
       "            Plotly.purge(gd);\n",
       "            observer.disconnect();\n",
       "        }}\n",
       "}});\n",
       "\n",
       "// Listen for the removal of the full notebook cells\n",
       "var notebookContainer = gd.closest('#notebook-container');\n",
       "if (notebookContainer) {{\n",
       "    x.observe(notebookContainer, {childList: true});\n",
       "}}\n",
       "\n",
       "// Listen for the clearing of the current output cell\n",
       "var outputEl = gd.closest('.output');\n",
       "if (outputEl) {{\n",
       "    x.observe(outputEl, {childList: true});\n",
       "}}\n",
       "\n",
       "                        })                };                });            </script>        </div>"
      ]
     },
     "metadata": {},
     "output_type": "display_data"
    }
   ],
   "source": [
    "\n",
    "df.normalize().iplot(title='The FAANG Stocks')\n",
    "#df.normalize()"
   ]
  },
  {
   "cell_type": "markdown",
   "metadata": {},
   "source": []
  },
  {
   "cell_type": "markdown",
   "metadata": {},
   "source": []
  },
  {
   "cell_type": "code",
   "execution_count": 80,
   "metadata": {},
   "outputs": [
    {
     "data": {
      "text/html": [
       "<div>\n",
       "<style scoped>\n",
       "    .dataframe tbody tr th:only-of-type {\n",
       "        vertical-align: middle;\n",
       "    }\n",
       "\n",
       "    .dataframe tbody tr th {\n",
       "        vertical-align: top;\n",
       "    }\n",
       "\n",
       "    .dataframe thead th {\n",
       "        text-align: right;\n",
       "    }\n",
       "</style>\n",
       "<table border=\"1\" class=\"dataframe\">\n",
       "  <thead>\n",
       "    <tr style=\"text-align: right;\">\n",
       "      <th></th>\n",
       "      <th>AAPL</th>\n",
       "      <th>AMZN</th>\n",
       "      <th>FB</th>\n",
       "      <th>GOOG</th>\n",
       "      <th>NFLX</th>\n",
       "    </tr>\n",
       "    <tr>\n",
       "      <th>Date</th>\n",
       "      <th></th>\n",
       "      <th></th>\n",
       "      <th></th>\n",
       "      <th></th>\n",
       "      <th></th>\n",
       "    </tr>\n",
       "  </thead>\n",
       "  <tbody>\n",
       "    <tr>\n",
       "      <th>2019-05-31</th>\n",
       "      <td>43.099117</td>\n",
       "      <td>1775.069946</td>\n",
       "      <td>177.470001</td>\n",
       "      <td>1103.630005</td>\n",
       "      <td>343.279999</td>\n",
       "    </tr>\n",
       "    <tr>\n",
       "      <th>2019-06-03</th>\n",
       "      <td>42.663376</td>\n",
       "      <td>1692.689941</td>\n",
       "      <td>164.149994</td>\n",
       "      <td>1036.229980</td>\n",
       "      <td>336.630005</td>\n",
       "    </tr>\n",
       "    <tr>\n",
       "      <th>2019-06-04</th>\n",
       "      <td>44.224174</td>\n",
       "      <td>1729.560059</td>\n",
       "      <td>167.500000</td>\n",
       "      <td>1053.050049</td>\n",
       "      <td>353.399994</td>\n",
       "    </tr>\n",
       "    <tr>\n",
       "      <th>2019-06-05</th>\n",
       "      <td>44.938099</td>\n",
       "      <td>1738.500000</td>\n",
       "      <td>168.169998</td>\n",
       "      <td>1042.219971</td>\n",
       "      <td>355.730011</td>\n",
       "    </tr>\n",
       "    <tr>\n",
       "      <th>2019-06-06</th>\n",
       "      <td>45.597866</td>\n",
       "      <td>1754.359985</td>\n",
       "      <td>168.330002</td>\n",
       "      <td>1044.339966</td>\n",
       "      <td>357.130005</td>\n",
       "    </tr>\n",
       "    <tr>\n",
       "      <th>...</th>\n",
       "      <td>...</td>\n",
       "      <td>...</td>\n",
       "      <td>...</td>\n",
       "      <td>...</td>\n",
       "      <td>...</td>\n",
       "    </tr>\n",
       "    <tr>\n",
       "      <th>2020-06-23</th>\n",
       "      <td>91.310051</td>\n",
       "      <td>2764.409912</td>\n",
       "      <td>242.240005</td>\n",
       "      <td>1464.410034</td>\n",
       "      <td>466.260010</td>\n",
       "    </tr>\n",
       "    <tr>\n",
       "      <th>2020-06-24</th>\n",
       "      <td>89.698242</td>\n",
       "      <td>2734.399902</td>\n",
       "      <td>234.020004</td>\n",
       "      <td>1431.969971</td>\n",
       "      <td>457.850006</td>\n",
       "    </tr>\n",
       "    <tr>\n",
       "      <th>2020-06-25</th>\n",
       "      <td>90.889038</td>\n",
       "      <td>2754.580078</td>\n",
       "      <td>235.679993</td>\n",
       "      <td>1441.329956</td>\n",
       "      <td>465.910004</td>\n",
       "    </tr>\n",
       "    <tr>\n",
       "      <th>2020-06-26</th>\n",
       "      <td>88.096405</td>\n",
       "      <td>2692.870117</td>\n",
       "      <td>216.080002</td>\n",
       "      <td>1359.900024</td>\n",
       "      <td>443.399994</td>\n",
       "    </tr>\n",
       "    <tr>\n",
       "      <th>2020-06-29</th>\n",
       "      <td>90.126732</td>\n",
       "      <td>2680.379883</td>\n",
       "      <td>220.639999</td>\n",
       "      <td>1394.969971</td>\n",
       "      <td>447.239990</td>\n",
       "    </tr>\n",
       "  </tbody>\n",
       "</table>\n",
       "<p>273 rows × 5 columns</p>\n",
       "</div>"
      ],
      "text/plain": [
       "                 AAPL         AMZN          FB         GOOG        NFLX\n",
       "Date                                                                   \n",
       "2019-05-31  43.099117  1775.069946  177.470001  1103.630005  343.279999\n",
       "2019-06-03  42.663376  1692.689941  164.149994  1036.229980  336.630005\n",
       "2019-06-04  44.224174  1729.560059  167.500000  1053.050049  353.399994\n",
       "2019-06-05  44.938099  1738.500000  168.169998  1042.219971  355.730011\n",
       "2019-06-06  45.597866  1754.359985  168.330002  1044.339966  357.130005\n",
       "...               ...          ...         ...          ...         ...\n",
       "2020-06-23  91.310051  2764.409912  242.240005  1464.410034  466.260010\n",
       "2020-06-24  89.698242  2734.399902  234.020004  1431.969971  457.850006\n",
       "2020-06-25  90.889038  2754.580078  235.679993  1441.329956  465.910004\n",
       "2020-06-26  88.096405  2692.870117  216.080002  1359.900024  443.399994\n",
       "2020-06-29  90.126732  2680.379883  220.639999  1394.969971  447.239990\n",
       "\n",
       "[273 rows x 5 columns]"
      ]
     },
     "execution_count": 80,
     "metadata": {},
     "output_type": "execute_result"
    }
   ],
   "source": [
    "df\n",
    "# Calculating Log Normal Returns\n",
    "# Use numpy log function to derive log normal returns\n",
    "daily_returns = np.log(df).diff().fillna(0)   #log(S2/s1)=log(s2)-log(s1)\n",
    "\n",
    "# Display the last five rows of the data frame to check the output\n",
    "# daily_returns.head(5)\n",
    "\n"
   ]
  },
  {
   "cell_type": "markdown",
   "metadata": {},
   "source": [
    "\n",
    "<h3 id=\"Visualising-Return-Series\">Visualising Return Series<a class=\"anchor-link\" href=\"#Visualising-Return-Series\">¶</a></h3><p>We'll now plot historical daily log normal return series of NIFTY Index using just one line of code.</p>\n"
   ]
  },
  {
   "cell_type": "code",
   "execution_count": 81,
   "metadata": {},
   "outputs": [
    {
     "data": {
      "application/vnd.plotly.v1+json": {
       "config": {
        "linkText": "Export to plot.ly",
        "plotlyServerURL": "https://plot.ly",
        "showLink": true
       },
       "data": [
        {
         "line": {
          "color": "rgba(255, 153, 51, 1.0)",
          "dash": "solid",
          "shape": "linear",
          "width": 1.3
         },
         "mode": "lines",
         "name": "AAPL",
         "text": "",
         "type": "scatter",
         "x": [
          "2019-05-31",
          "2019-06-03",
          "2019-06-04",
          "2019-06-05",
          "2019-06-06",
          "2019-06-07",
          "2019-06-10",
          "2019-06-11",
          "2019-06-12",
          "2019-06-13",
          "2019-06-14",
          "2019-06-17",
          "2019-06-18",
          "2019-06-19",
          "2019-06-20",
          "2019-06-21",
          "2019-06-24",
          "2019-06-25",
          "2019-06-26",
          "2019-06-27",
          "2019-06-28",
          "2019-07-01",
          "2019-07-02",
          "2019-07-03",
          "2019-07-05",
          "2019-07-08",
          "2019-07-09",
          "2019-07-10",
          "2019-07-11",
          "2019-07-12",
          "2019-07-15",
          "2019-07-16",
          "2019-07-17",
          "2019-07-18",
          "2019-07-19",
          "2019-07-22",
          "2019-07-23",
          "2019-07-24",
          "2019-07-25",
          "2019-07-26",
          "2019-07-29",
          "2019-07-30",
          "2019-07-31",
          "2019-08-01",
          "2019-08-02",
          "2019-08-05",
          "2019-08-06",
          "2019-08-07",
          "2019-08-08",
          "2019-08-09",
          "2019-08-12",
          "2019-08-13",
          "2019-08-14",
          "2019-08-15",
          "2019-08-16",
          "2019-08-19",
          "2019-08-20",
          "2019-08-21",
          "2019-08-22",
          "2019-08-23",
          "2019-08-26",
          "2019-08-27",
          "2019-08-28",
          "2019-08-29",
          "2019-08-30",
          "2019-09-03",
          "2019-09-04",
          "2019-09-05",
          "2019-09-06",
          "2019-09-09",
          "2019-09-10",
          "2019-09-11",
          "2019-09-12",
          "2019-09-13",
          "2019-09-16",
          "2019-09-17",
          "2019-09-18",
          "2019-09-19",
          "2019-09-20",
          "2019-09-23",
          "2019-09-24",
          "2019-09-25",
          "2019-09-26",
          "2019-09-27",
          "2019-09-30",
          "2019-10-01",
          "2019-10-02",
          "2019-10-03",
          "2019-10-04",
          "2019-10-07",
          "2019-10-08",
          "2019-10-09",
          "2019-10-10",
          "2019-10-11",
          "2019-10-14",
          "2019-10-15",
          "2019-10-16",
          "2019-10-17",
          "2019-10-18",
          "2019-10-21",
          "2019-10-22",
          "2019-10-23",
          "2019-10-24",
          "2019-10-25",
          "2019-10-28",
          "2019-10-29",
          "2019-10-30",
          "2019-10-31",
          "2019-11-01",
          "2019-11-04",
          "2019-11-05",
          "2019-11-06",
          "2019-11-07",
          "2019-11-08",
          "2019-11-11",
          "2019-11-12",
          "2019-11-13",
          "2019-11-14",
          "2019-11-15",
          "2019-11-18",
          "2019-11-19",
          "2019-11-20",
          "2019-11-21",
          "2019-11-22",
          "2019-11-25",
          "2019-11-26",
          "2019-11-27",
          "2019-11-29",
          "2019-12-02",
          "2019-12-03",
          "2019-12-04",
          "2019-12-05",
          "2019-12-06",
          "2019-12-09",
          "2019-12-10",
          "2019-12-11",
          "2019-12-12",
          "2019-12-13",
          "2019-12-16",
          "2019-12-17",
          "2019-12-18",
          "2019-12-19",
          "2019-12-20",
          "2019-12-23",
          "2019-12-24",
          "2019-12-26",
          "2019-12-27",
          "2019-12-30",
          "2019-12-31",
          "2020-01-02",
          "2020-01-03",
          "2020-01-06",
          "2020-01-07",
          "2020-01-08",
          "2020-01-09",
          "2020-01-10",
          "2020-01-13",
          "2020-01-14",
          "2020-01-15",
          "2020-01-16",
          "2020-01-17",
          "2020-01-21",
          "2020-01-22",
          "2020-01-23",
          "2020-01-24",
          "2020-01-27",
          "2020-01-28",
          "2020-01-29",
          "2020-01-30",
          "2020-01-31",
          "2020-02-03",
          "2020-02-04",
          "2020-02-05",
          "2020-02-06",
          "2020-02-07",
          "2020-02-10",
          "2020-02-11",
          "2020-02-12",
          "2020-02-13",
          "2020-02-14",
          "2020-02-18",
          "2020-02-19",
          "2020-02-20",
          "2020-02-21",
          "2020-02-24",
          "2020-02-25",
          "2020-02-26",
          "2020-02-27",
          "2020-02-28",
          "2020-03-02",
          "2020-03-03",
          "2020-03-04",
          "2020-03-05",
          "2020-03-06",
          "2020-03-09",
          "2020-03-10",
          "2020-03-11",
          "2020-03-12",
          "2020-03-13",
          "2020-03-16",
          "2020-03-17",
          "2020-03-18",
          "2020-03-19",
          "2020-03-20",
          "2020-03-23",
          "2020-03-24",
          "2020-03-25",
          "2020-03-26",
          "2020-03-27",
          "2020-03-30",
          "2020-03-31",
          "2020-04-01",
          "2020-04-02",
          "2020-04-03",
          "2020-04-06",
          "2020-04-07",
          "2020-04-08",
          "2020-04-09",
          "2020-04-13",
          "2020-04-14",
          "2020-04-15",
          "2020-04-16",
          "2020-04-17",
          "2020-04-20",
          "2020-04-21",
          "2020-04-22",
          "2020-04-23",
          "2020-04-24",
          "2020-04-27",
          "2020-04-28",
          "2020-04-29",
          "2020-04-30",
          "2020-05-01",
          "2020-05-04",
          "2020-05-05",
          "2020-05-06",
          "2020-05-07",
          "2020-05-08",
          "2020-05-11",
          "2020-05-12",
          "2020-05-13",
          "2020-05-14",
          "2020-05-15",
          "2020-05-18",
          "2020-05-19",
          "2020-05-20",
          "2020-05-21",
          "2020-05-22",
          "2020-05-26",
          "2020-05-27",
          "2020-05-28",
          "2020-05-29",
          "2020-06-01",
          "2020-06-02",
          "2020-06-03",
          "2020-06-04",
          "2020-06-05",
          "2020-06-08",
          "2020-06-09",
          "2020-06-10",
          "2020-06-11",
          "2020-06-12",
          "2020-06-15",
          "2020-06-16",
          "2020-06-17",
          "2020-06-18",
          "2020-06-19",
          "2020-06-22",
          "2020-06-23",
          "2020-06-24",
          "2020-06-25",
          "2020-06-26",
          "2020-06-29"
         ],
         "y": [
          0,
          -0.010161672268911293,
          0.03593073008103298,
          0.016014389010214014,
          0.01457495550144472,
          0.026269051886091077,
          0.012698295164007778,
          0.011513035922226855,
          -0.003187518662308264,
          -0.00020613213238407369,
          -0.007288957138376961,
          0.005948980640237078,
          0.02324615484858361,
          -0.002926976116881974,
          0.008003469943111963,
          -0.003415113170603945,
          -0.0010064850693285443,
          -0.015273676225186605,
          0.021398506137809026,
          -0.00030033675639407065,
          -0.009153608478488895,
          0.018174600655950002,
          0.005837361778914474,
          0.008252804400902036,
          -0.0008809458056244779,
          -0.020829515400728305,
          0.0060811011254577885,
          0.009840037562139248,
          -0.007309105832551399,
          0.007653524762805564,
          0.00935103221288669,
          -0.003465946575325507,
          -0.005639231809455136,
          0.01129566558353945,
          -0.01504008519944433,
          0.022596729290817574,
          0.007787377761713454,
          -0.0008141304026176854,
          -0.007938793610348327,
          0.0034718657307624134,
          0.00929516772127581,
          -0.004301443756305812,
          0.020198956287005743,
          -0.021876745404517006,
          -0.021385211975371465,
          -0.05376790714466528,
          0.018753609031630702,
          0.010302019844190546,
          0.021816197155138273,
          -0.00827452367173187,
          -0.0025407416281737483,
          0.04147625092490781,
          -0.030216932384168338,
          -0.004993938559600508,
          0.023320623491525527,
          0.01847243495041928,
          4.7553075074979745e-05,
          0.010780225123508291,
          -0.0008468981148781474,
          -0.0473226992387592,
          0.018820942219957004,
          -0.011348037815705592,
          0.006688074263638377,
          0.016790033799158888,
          -0.0012925133331571637,
          -0.014670782457983922,
          0.016824167161098913,
          0.01936294246919701,
          -9.387861834486699e-05,
          0.004258147188389572,
          0.01174371768360416,
          0.03130018917586419,
          -0.0022387266459880095,
          -0.019645830675513398,
          0.0052434115221422495,
          0.0036313940729062466,
          0.00933564687706756,
          -0.008158123777475268,
          -0.014726162356706318,
          0.0045367810219221205,
          -0.004766377351034468,
          0.015272394262606959,
          -0.005170972566171272,
          -0.004877946026871527,
          0.02326257065884807,
          0.002764414455263875,
          -0.025387412382452457,
          0.008458718758509676,
          0.027646208883151946,
          0.00022029704153325724,
          -0.011784206349430448,
          0.011652033948291063,
          0.01338843777639287,
          0.026250703888007543,
          -0.0014404777451995088,
          -0.0023344362196144886,
          -0.00404526812822148,
          0.003875155309817302,
          0.004791367637855259,
          0.017194044455242974,
          -0.0022893478966716785,
          0.013329548755075749,
          0.0016435110335448755,
          0.012241169422375187,
          0.009967097912122469,
          -0.023399530808681845,
          -0.00012335457450429743,
          0.02235773939247032,
          0.027985586337449853,
          0.006545524871710562,
          -0.0014377619803305208,
          0.0004275970885796454,
          0.01147524007346501,
          0.002733021367986588,
          0.007887844242847386,
          -0.000915987545589303,
          0.009536065011737982,
          -0.006943548549041445,
          0.011809394686135732,
          0.005029454737504935,
          -0.0030371997799854,
          -0.011709611775178708,
          -0.004493629913927322,
          -0.0008783191326369177,
          0.017381825063464085,
          -0.007839117477866253,
          0.013342639182576832,
          -0.002205169723282552,
          -0.011629548098356146,
          -0.017990874733956552,
          0.008787492551157072,
          0.01456449656629566,
          0.019131846132680153,
          -0.014098991034273034,
          0.005827503624290742,
          0.008493301640962514,
          0.002544895653095125,
          0.01350175748203064,
          0.01697298218665022,
          0.001963329842778805,
          -0.002392153439267908,
          0.0010003757742094166,
          -0.002073350126318374,
          0.016186559345463536,
          0.0009501867694723387,
          0.019646131554164725,
          -0.00037954066053913493,
          0.005917648572800083,
          0.007279942374496251,
          0.022559999157191868,
          -0.00976973108270407,
          0.007936659630909837,
          -0.004714097584066046,
          0.015958345591130296,
          0.02101825370588184,
          0.002258091582015176,
          0.02113936670914729,
          -0.0135951598490891,
          -0.0042948231564539086,
          0.012448788878753447,
          0.01100998397967956,
          -0.006799782528610798,
          0.0035630768604359986,
          0.004804326070274811,
          -0.0028861492450298343,
          -0.02984625851846978,
          0.027896592790855657,
          0.020716335092493487,
          -0.0014502334644017623,
          -0.04535174069798753,
          -0.002750022148633846,
          0.03248042470998058,
          0.008121300833608736,
          0.011629043167588726,
          -0.013685913293053353,
          0.0047382059345313365,
          -0.006051530605762245,
          0.02347021073959432,
          -0.007146466326309664,
          0.00024611208715086264,
          -0.018480220785281887,
          0.014378868957382274,
          -0.01031190562993789,
          -0.022895143121459682,
          -0.0486655193001706,
          -0.03445912555167929,
          0.015739036415040708,
          -0.06760254203871252,
          -0.0005852131924770632,
          0.08901836532012819,
          -0.032274527149978915,
          0.04534099514018308,
          -0.03297483936625145,
          -0.013369038881197781,
          -0.08239524218003158,
          0.06954622134139843,
          -0.03534798381298465,
          -0.10397778165710925,
          0.11315747084517014,
          -0.13770802163475526,
          0.04303081337517067,
          -0.024784564864974712,
          -0.007691565510524967,
          -0.06559036561480092,
          -0.02147297284625349,
          0.09560587500060347,
          -0.005523944076127663,
          0.05128516452335141,
          -0.042283800423038365,
          0.028138324860607078,
          -0.0020428141398678434,
          -0.05405192502600009,
          0.016548979849221546,
          -0.014475573836549849,
          0.08363991104442547,
          -0.01164973197211605,
          0.025272451242253524,
          0.007190243989531275,
          0.019437406851260164,
          0.04926922280538637,
          -0.009169122005894259,
          0.00791422295327493,
          -0.01366144485964682,
          -0.020975294693230673,
          -0.03139809213896072,
          0.02839650724686482,
          -0.0038828184163932633,
          0.028460651990813268,
          0.0007065490160034216,
          -0.01634234653458133,
          0.032317430305846884,
          0.020876644333553962,
          -0.016230256521035713,
          0.014049559655828325,
          0.01489735358862454,
          0.010264476036308423,
          0.01029172647672727,
          0.023522928954989197,
          0.01561270844089968,
          -0.011494043369701501,
          -0.012147488033396492,
          0.006124492948182514,
          -0.0059296007553966135,
          0.02328786595457011,
          -0.005795184279124399,
          0.019261481330026697,
          -0.007483427577172463,
          0.0064177890646615054,
          -0.0067965576864210675,
          0.004347490213289618,
          0.0004400625206191222,
          -0.0009745195038730614,
          0.012222910195056613,
          0.004618754232588174,
          0.005489963615841198,
          -0.008649453169232935,
          0.028082994470056022,
          0.00589499096081969,
          0.031089684589801436,
          0.025402082231256173,
          -0.04920114854185176,
          0.008596483813177791,
          0.012291259899612328,
          0.026157134777268887,
          -0.001392627257679635,
          0.00039816607255893643,
          -0.005731096551152781,
          0.025827361352522615,
          0.021120200170686054,
          -0.01780969647374775,
          0.013188228496670895,
          -0.031207674257778706,
          0.02278508521982925
         ]
        },
        {
         "line": {
          "color": "rgba(55, 128, 191, 1.0)",
          "dash": "solid",
          "shape": "linear",
          "width": 1.3
         },
         "mode": "lines",
         "name": "GOOG",
         "text": "",
         "type": "scatter",
         "x": [
          "2019-05-31",
          "2019-06-03",
          "2019-06-04",
          "2019-06-05",
          "2019-06-06",
          "2019-06-07",
          "2019-06-10",
          "2019-06-11",
          "2019-06-12",
          "2019-06-13",
          "2019-06-14",
          "2019-06-17",
          "2019-06-18",
          "2019-06-19",
          "2019-06-20",
          "2019-06-21",
          "2019-06-24",
          "2019-06-25",
          "2019-06-26",
          "2019-06-27",
          "2019-06-28",
          "2019-07-01",
          "2019-07-02",
          "2019-07-03",
          "2019-07-05",
          "2019-07-08",
          "2019-07-09",
          "2019-07-10",
          "2019-07-11",
          "2019-07-12",
          "2019-07-15",
          "2019-07-16",
          "2019-07-17",
          "2019-07-18",
          "2019-07-19",
          "2019-07-22",
          "2019-07-23",
          "2019-07-24",
          "2019-07-25",
          "2019-07-26",
          "2019-07-29",
          "2019-07-30",
          "2019-07-31",
          "2019-08-01",
          "2019-08-02",
          "2019-08-05",
          "2019-08-06",
          "2019-08-07",
          "2019-08-08",
          "2019-08-09",
          "2019-08-12",
          "2019-08-13",
          "2019-08-14",
          "2019-08-15",
          "2019-08-16",
          "2019-08-19",
          "2019-08-20",
          "2019-08-21",
          "2019-08-22",
          "2019-08-23",
          "2019-08-26",
          "2019-08-27",
          "2019-08-28",
          "2019-08-29",
          "2019-08-30",
          "2019-09-03",
          "2019-09-04",
          "2019-09-05",
          "2019-09-06",
          "2019-09-09",
          "2019-09-10",
          "2019-09-11",
          "2019-09-12",
          "2019-09-13",
          "2019-09-16",
          "2019-09-17",
          "2019-09-18",
          "2019-09-19",
          "2019-09-20",
          "2019-09-23",
          "2019-09-24",
          "2019-09-25",
          "2019-09-26",
          "2019-09-27",
          "2019-09-30",
          "2019-10-01",
          "2019-10-02",
          "2019-10-03",
          "2019-10-04",
          "2019-10-07",
          "2019-10-08",
          "2019-10-09",
          "2019-10-10",
          "2019-10-11",
          "2019-10-14",
          "2019-10-15",
          "2019-10-16",
          "2019-10-17",
          "2019-10-18",
          "2019-10-21",
          "2019-10-22",
          "2019-10-23",
          "2019-10-24",
          "2019-10-25",
          "2019-10-28",
          "2019-10-29",
          "2019-10-30",
          "2019-10-31",
          "2019-11-01",
          "2019-11-04",
          "2019-11-05",
          "2019-11-06",
          "2019-11-07",
          "2019-11-08",
          "2019-11-11",
          "2019-11-12",
          "2019-11-13",
          "2019-11-14",
          "2019-11-15",
          "2019-11-18",
          "2019-11-19",
          "2019-11-20",
          "2019-11-21",
          "2019-11-22",
          "2019-11-25",
          "2019-11-26",
          "2019-11-27",
          "2019-11-29",
          "2019-12-02",
          "2019-12-03",
          "2019-12-04",
          "2019-12-05",
          "2019-12-06",
          "2019-12-09",
          "2019-12-10",
          "2019-12-11",
          "2019-12-12",
          "2019-12-13",
          "2019-12-16",
          "2019-12-17",
          "2019-12-18",
          "2019-12-19",
          "2019-12-20",
          "2019-12-23",
          "2019-12-24",
          "2019-12-26",
          "2019-12-27",
          "2019-12-30",
          "2019-12-31",
          "2020-01-02",
          "2020-01-03",
          "2020-01-06",
          "2020-01-07",
          "2020-01-08",
          "2020-01-09",
          "2020-01-10",
          "2020-01-13",
          "2020-01-14",
          "2020-01-15",
          "2020-01-16",
          "2020-01-17",
          "2020-01-21",
          "2020-01-22",
          "2020-01-23",
          "2020-01-24",
          "2020-01-27",
          "2020-01-28",
          "2020-01-29",
          "2020-01-30",
          "2020-01-31",
          "2020-02-03",
          "2020-02-04",
          "2020-02-05",
          "2020-02-06",
          "2020-02-07",
          "2020-02-10",
          "2020-02-11",
          "2020-02-12",
          "2020-02-13",
          "2020-02-14",
          "2020-02-18",
          "2020-02-19",
          "2020-02-20",
          "2020-02-21",
          "2020-02-24",
          "2020-02-25",
          "2020-02-26",
          "2020-02-27",
          "2020-02-28",
          "2020-03-02",
          "2020-03-03",
          "2020-03-04",
          "2020-03-05",
          "2020-03-06",
          "2020-03-09",
          "2020-03-10",
          "2020-03-11",
          "2020-03-12",
          "2020-03-13",
          "2020-03-16",
          "2020-03-17",
          "2020-03-18",
          "2020-03-19",
          "2020-03-20",
          "2020-03-23",
          "2020-03-24",
          "2020-03-25",
          "2020-03-26",
          "2020-03-27",
          "2020-03-30",
          "2020-03-31",
          "2020-04-01",
          "2020-04-02",
          "2020-04-03",
          "2020-04-06",
          "2020-04-07",
          "2020-04-08",
          "2020-04-09",
          "2020-04-13",
          "2020-04-14",
          "2020-04-15",
          "2020-04-16",
          "2020-04-17",
          "2020-04-20",
          "2020-04-21",
          "2020-04-22",
          "2020-04-23",
          "2020-04-24",
          "2020-04-27",
          "2020-04-28",
          "2020-04-29",
          "2020-04-30",
          "2020-05-01",
          "2020-05-04",
          "2020-05-05",
          "2020-05-06",
          "2020-05-07",
          "2020-05-08",
          "2020-05-11",
          "2020-05-12",
          "2020-05-13",
          "2020-05-14",
          "2020-05-15",
          "2020-05-18",
          "2020-05-19",
          "2020-05-20",
          "2020-05-21",
          "2020-05-22",
          "2020-05-26",
          "2020-05-27",
          "2020-05-28",
          "2020-05-29",
          "2020-06-01",
          "2020-06-02",
          "2020-06-03",
          "2020-06-04",
          "2020-06-05",
          "2020-06-08",
          "2020-06-09",
          "2020-06-10",
          "2020-06-11",
          "2020-06-12",
          "2020-06-15",
          "2020-06-16",
          "2020-06-17",
          "2020-06-18",
          "2020-06-19",
          "2020-06-22",
          "2020-06-23",
          "2020-06-24",
          "2020-06-25",
          "2020-06-26",
          "2020-06-29"
         ],
         "y": [
          0,
          -0.0630156431072173,
          0.01610165370278338,
          -0.01033773640023039,
          0.0020320488374885315,
          0.020565810923544703,
          0.01336195048772204,
          -0.0015377097175317544,
          -0.001567845763586817,
          0.010841356503640043,
          -0.0031461435192374765,
          0.006566154862158058,
          0.010108893251183027,
          -0.0011514596663797505,
          0.008212434990363171,
          0.009367337298661127,
          -0.005685172443320674,
          -0.0264972506924801,
          -0.006047546703985773,
          -0.003516119569169973,
          0.004543546115594488,
          0.0156414496697046,
          0.012040747608199176,
          0.009252858442567735,
          0.008885326867780208,
          -0.013559280163558007,
          0.007567461065666414,
          0.013817335236299577,
          0.0032651991109071687,
          0.0006029098661768373,
          0.004740202868079635,
          0.00281259113173693,
          -0.006287151782315092,
          -1.7463869224521034e-05,
          -0.014259393839579637,
          0.007027695260665823,
          0.007127015457448316,
          -0.007355399815045516,
          -0.005013436766788004,
          0.09937954795195836,
          -0.00883603735784444,
          -0.011580352373505853,
          -0.006929253221560572,
          -0.0063240309414274165,
          -0.01250121942744098,
          -0.035523376679732266,
          0.01518371625129511,
          0.003447224045205921,
          0.025905423427740715,
          -0.014033971957886138,
          -0.011258371263235034,
          0.01902270599268796,
          -0.02793248864028275,
          0.0025476376207231866,
          0.008819317916933578,
          0.017550566203706985,
          -0.013237558997283294,
          0.007211720519426201,
          -0.0014448802335271793,
          -0.032675208997062555,
          0.015171506319471284,
          -0.0008987336214119068,
          0.002719321114120099,
          0.01847020073070471,
          -0.0039900093652924795,
          -0.016728626613939035,
          0.011081924000706955,
          0.025051540315817356,
          -0.005338691090933878,
          -0.0004316696857689095,
          0.001319249445835169,
          0.011681131010685242,
          0.01147326884115607,
          0.0042930270500773915,
          -0.006685963734474498,
          -0.0017476680260148925,
          0.0026487362436755646,
          0.005098854300245925,
          -0.007113183124679345,
          0.003327959245974732,
          -0.012451303674422043,
          0.022521728009952113,
          -0.004123953103469802,
          -0.01321744855773499,
          -0.004983432286831402,
          -0.011468319706876784,
          -0.02390810632395013,
          0.009473651593305377,
          0.01766549557104291,
          -0.00109236340018537,
          -0.015479256818204057,
          0.011022803675847292,
          0.005275862788937324,
          0.005593720540777447,
          0.0013895179806171498,
          0.02103200900449309,
          0.0005067097421083133,
          0.007553922264751378,
          -0.006067478468776422,
          0.0005297990008559239,
          -0.0026918801183200003,
          0.01305407233680711,
          0.0014761088304462433,
          0.0032777685644802546,
          0.019467330816289596,
          -0.021453295085376745,
          -0.0010538855662627356,
          -0.0009360306065442359,
          0.010758439907540662,
          0.013746219533899762,
          0.0005109810233117074,
          -0.00017801516539694973,
          0.01311988572984113,
          0.0019158704022901318,
          -0.00933144029578159,
          -0.00030014940974965043,
          -0.0006161805594544489,
          0.010316372364133741,
          0.017692914529561676,
          -0.010672043079369864,
          -0.003975477444713604,
          -0.009478676787427531,
          -0.0013055394468768355,
          -0.00462898584957383,
          0.008723994708693894,
          0.0052362555505229835,
          -0.00042646111912159057,
          -0.006134612677696438,
          -0.01159212401512022,
          0.0041466755996282245,
          0.01931386281866132,
          0.005731168072697024,
          0.009360248375458902,
          0.0021906612771944722,
          0.0008183672536974385,
          0.0002676789406343971,
          0.0038956895648221135,
          -0.0018087277446081629,
          0.009848797136581489,
          -0.00445464861692102,
          -0.0018465589158385143,
          0.0025252676375897565,
          -0.004767899121161712,
          -0.0005558788171731166,
          -0.003922087317622669,
          0.012455940938591148,
          -0.006275167897570988,
          -0.011718753192837106,
          0.0006584004723624304,
          0.02244591175970978,
          -0.004919281970372502,
          0.024358017330430748,
          -0.0006242005835188635,
          0.00784944359938855,
          0.010983953570659288,
          0.0069484864097395516,
          0.006622633185018323,
          -0.005818591751962643,
          0.005797726698729022,
          0.00864788012319373,
          0.019570326620824474,
          0.0027050901804619443,
          0.0010435988427088816,
          0.0004710174667836853,
          -0.013503512319433142,
          -0.022623748876264393,
          0.012929535553346305,
          0.0041700850531052325,
          -0.0019146122230404572,
          -0.014954923934253905,
          0.03541942298333467,
          -0.026506743885202688,
          0.0008013223300569194,
          0.019149419723818895,
          0.002030141548198472,
          0.019713463016800326,
          7.289905001872654e-05,
          0.006263510652646964,
          -0.00238052773550379,
          0.004006038174134474,
          -0.0007038171307165442,
          0.004608719862446264,
          -0.005609450402043414,
          -0.02200367068048692,
          -0.04371289425908742,
          -0.023587957596612696,
          0.0034009606525664537,
          -0.055405249420232394,
          0.015985763011236997,
          0.036493787646142195,
          -0.03495684307767899,
          0.0330906241886737,
          -0.04989279597261653,
          -0.015763763594579316,
          -0.0659355411385123,
          0.0519598063031701,
          -0.05208323391315872,
          -0.0863077817287996,
          0.08985579194162874,
          -0.1176672625586912,
          0.03218789733168137,
          -0.02075324775230225,
          0.016717602020563938,
          -0.039290020326971486,
          -0.014749345891469368,
          0.07108160277387299,
          -0.028585483215521457,
          0.05235623983779636,
          -0.044928073670257085,
          0.031993432560217805,
          0.013846692113681058,
          -0.050433280810262104,
          0.013672114526511514,
          -0.02069732175804262,
          0.07798070163747539,
          -0.00034552034354362604,
          0.019835528765289823,
          0.0009661869617572094,
          0.005030955232624201,
          0.04156149779753893,
          -0.005340305693128045,
          0.0007917845043357019,
          0.015534041651126707,
          -0.013051893801946157,
          -0.0404977070319017,
          0.03780974778311563,
          0.01031707862545872,
          0.002347767853153826,
          -0.002684775446093468,
          -0.03364263811375334,
          0.08377996520230901,
          0.005338064726318592,
          -0.021017792281833536,
          0.004676324919077324,
          0.018156401099081343,
          -0.002823839970132802,
          0.01857502596129379,
          0.01145274166680732,
          0.010667714438705289,
          -0.01980634701756756,
          -0.01938362068034305,
          0.00502691833996316,
          0.01250139891467672,
          0.00779800367154504,
          -0.007583166492545423,
          0.023909437702973158,
          -0.002790458435135257,
          0.005417289441449036,
          0.004668525185353545,
          0.0005784739395702232,
          -0.0007831772927326952,
          0.0085675595646455,
          0.0020273798715937374,
          0.005154955009397,
          -0.001975216836670235,
          -0.016991415240184438,
          0.018389794991963804,
          0.0056984353181750436,
          0.006579979275326053,
          0.006632405018859089,
          -0.04322394768981752,
          0.006631207482906021,
          0.004708692904555001,
          0.015978985426873038,
          0.00580546823995487,
          -0.010502080820907977,
          -0.002957089650951872,
          0.013968984700949427,
          0.008606971384382156,
          -0.02240135617699668,
          0.00651516980411504,
          -0.05815508235769684,
          0.0254617030783324
         ]
        }
       ],
       "layout": {
        "legend": {
         "bgcolor": "#F5F6F9",
         "font": {
          "color": "#4D5663"
         }
        },
        "paper_bgcolor": "#F5F6F9",
        "plot_bgcolor": "#F5F6F9",
        "template": {
         "data": {
          "bar": [
           {
            "error_x": {
             "color": "#2a3f5f"
            },
            "error_y": {
             "color": "#2a3f5f"
            },
            "marker": {
             "line": {
              "color": "#E5ECF6",
              "width": 0.5
             }
            },
            "type": "bar"
           }
          ],
          "barpolar": [
           {
            "marker": {
             "line": {
              "color": "#E5ECF6",
              "width": 0.5
             }
            },
            "type": "barpolar"
           }
          ],
          "carpet": [
           {
            "aaxis": {
             "endlinecolor": "#2a3f5f",
             "gridcolor": "white",
             "linecolor": "white",
             "minorgridcolor": "white",
             "startlinecolor": "#2a3f5f"
            },
            "baxis": {
             "endlinecolor": "#2a3f5f",
             "gridcolor": "white",
             "linecolor": "white",
             "minorgridcolor": "white",
             "startlinecolor": "#2a3f5f"
            },
            "type": "carpet"
           }
          ],
          "choropleth": [
           {
            "colorbar": {
             "outlinewidth": 0,
             "ticks": ""
            },
            "type": "choropleth"
           }
          ],
          "contour": [
           {
            "colorbar": {
             "outlinewidth": 0,
             "ticks": ""
            },
            "colorscale": [
             [
              0,
              "#0d0887"
             ],
             [
              0.1111111111111111,
              "#46039f"
             ],
             [
              0.2222222222222222,
              "#7201a8"
             ],
             [
              0.3333333333333333,
              "#9c179e"
             ],
             [
              0.4444444444444444,
              "#bd3786"
             ],
             [
              0.5555555555555556,
              "#d8576b"
             ],
             [
              0.6666666666666666,
              "#ed7953"
             ],
             [
              0.7777777777777778,
              "#fb9f3a"
             ],
             [
              0.8888888888888888,
              "#fdca26"
             ],
             [
              1,
              "#f0f921"
             ]
            ],
            "type": "contour"
           }
          ],
          "contourcarpet": [
           {
            "colorbar": {
             "outlinewidth": 0,
             "ticks": ""
            },
            "type": "contourcarpet"
           }
          ],
          "heatmap": [
           {
            "colorbar": {
             "outlinewidth": 0,
             "ticks": ""
            },
            "colorscale": [
             [
              0,
              "#0d0887"
             ],
             [
              0.1111111111111111,
              "#46039f"
             ],
             [
              0.2222222222222222,
              "#7201a8"
             ],
             [
              0.3333333333333333,
              "#9c179e"
             ],
             [
              0.4444444444444444,
              "#bd3786"
             ],
             [
              0.5555555555555556,
              "#d8576b"
             ],
             [
              0.6666666666666666,
              "#ed7953"
             ],
             [
              0.7777777777777778,
              "#fb9f3a"
             ],
             [
              0.8888888888888888,
              "#fdca26"
             ],
             [
              1,
              "#f0f921"
             ]
            ],
            "type": "heatmap"
           }
          ],
          "heatmapgl": [
           {
            "colorbar": {
             "outlinewidth": 0,
             "ticks": ""
            },
            "colorscale": [
             [
              0,
              "#0d0887"
             ],
             [
              0.1111111111111111,
              "#46039f"
             ],
             [
              0.2222222222222222,
              "#7201a8"
             ],
             [
              0.3333333333333333,
              "#9c179e"
             ],
             [
              0.4444444444444444,
              "#bd3786"
             ],
             [
              0.5555555555555556,
              "#d8576b"
             ],
             [
              0.6666666666666666,
              "#ed7953"
             ],
             [
              0.7777777777777778,
              "#fb9f3a"
             ],
             [
              0.8888888888888888,
              "#fdca26"
             ],
             [
              1,
              "#f0f921"
             ]
            ],
            "type": "heatmapgl"
           }
          ],
          "histogram": [
           {
            "marker": {
             "colorbar": {
              "outlinewidth": 0,
              "ticks": ""
             }
            },
            "type": "histogram"
           }
          ],
          "histogram2d": [
           {
            "colorbar": {
             "outlinewidth": 0,
             "ticks": ""
            },
            "colorscale": [
             [
              0,
              "#0d0887"
             ],
             [
              0.1111111111111111,
              "#46039f"
             ],
             [
              0.2222222222222222,
              "#7201a8"
             ],
             [
              0.3333333333333333,
              "#9c179e"
             ],
             [
              0.4444444444444444,
              "#bd3786"
             ],
             [
              0.5555555555555556,
              "#d8576b"
             ],
             [
              0.6666666666666666,
              "#ed7953"
             ],
             [
              0.7777777777777778,
              "#fb9f3a"
             ],
             [
              0.8888888888888888,
              "#fdca26"
             ],
             [
              1,
              "#f0f921"
             ]
            ],
            "type": "histogram2d"
           }
          ],
          "histogram2dcontour": [
           {
            "colorbar": {
             "outlinewidth": 0,
             "ticks": ""
            },
            "colorscale": [
             [
              0,
              "#0d0887"
             ],
             [
              0.1111111111111111,
              "#46039f"
             ],
             [
              0.2222222222222222,
              "#7201a8"
             ],
             [
              0.3333333333333333,
              "#9c179e"
             ],
             [
              0.4444444444444444,
              "#bd3786"
             ],
             [
              0.5555555555555556,
              "#d8576b"
             ],
             [
              0.6666666666666666,
              "#ed7953"
             ],
             [
              0.7777777777777778,
              "#fb9f3a"
             ],
             [
              0.8888888888888888,
              "#fdca26"
             ],
             [
              1,
              "#f0f921"
             ]
            ],
            "type": "histogram2dcontour"
           }
          ],
          "mesh3d": [
           {
            "colorbar": {
             "outlinewidth": 0,
             "ticks": ""
            },
            "type": "mesh3d"
           }
          ],
          "parcoords": [
           {
            "line": {
             "colorbar": {
              "outlinewidth": 0,
              "ticks": ""
             }
            },
            "type": "parcoords"
           }
          ],
          "pie": [
           {
            "automargin": true,
            "type": "pie"
           }
          ],
          "scatter": [
           {
            "marker": {
             "colorbar": {
              "outlinewidth": 0,
              "ticks": ""
             }
            },
            "type": "scatter"
           }
          ],
          "scatter3d": [
           {
            "line": {
             "colorbar": {
              "outlinewidth": 0,
              "ticks": ""
             }
            },
            "marker": {
             "colorbar": {
              "outlinewidth": 0,
              "ticks": ""
             }
            },
            "type": "scatter3d"
           }
          ],
          "scattercarpet": [
           {
            "marker": {
             "colorbar": {
              "outlinewidth": 0,
              "ticks": ""
             }
            },
            "type": "scattercarpet"
           }
          ],
          "scattergeo": [
           {
            "marker": {
             "colorbar": {
              "outlinewidth": 0,
              "ticks": ""
             }
            },
            "type": "scattergeo"
           }
          ],
          "scattergl": [
           {
            "marker": {
             "colorbar": {
              "outlinewidth": 0,
              "ticks": ""
             }
            },
            "type": "scattergl"
           }
          ],
          "scattermapbox": [
           {
            "marker": {
             "colorbar": {
              "outlinewidth": 0,
              "ticks": ""
             }
            },
            "type": "scattermapbox"
           }
          ],
          "scatterpolar": [
           {
            "marker": {
             "colorbar": {
              "outlinewidth": 0,
              "ticks": ""
             }
            },
            "type": "scatterpolar"
           }
          ],
          "scatterpolargl": [
           {
            "marker": {
             "colorbar": {
              "outlinewidth": 0,
              "ticks": ""
             }
            },
            "type": "scatterpolargl"
           }
          ],
          "scatterternary": [
           {
            "marker": {
             "colorbar": {
              "outlinewidth": 0,
              "ticks": ""
             }
            },
            "type": "scatterternary"
           }
          ],
          "surface": [
           {
            "colorbar": {
             "outlinewidth": 0,
             "ticks": ""
            },
            "colorscale": [
             [
              0,
              "#0d0887"
             ],
             [
              0.1111111111111111,
              "#46039f"
             ],
             [
              0.2222222222222222,
              "#7201a8"
             ],
             [
              0.3333333333333333,
              "#9c179e"
             ],
             [
              0.4444444444444444,
              "#bd3786"
             ],
             [
              0.5555555555555556,
              "#d8576b"
             ],
             [
              0.6666666666666666,
              "#ed7953"
             ],
             [
              0.7777777777777778,
              "#fb9f3a"
             ],
             [
              0.8888888888888888,
              "#fdca26"
             ],
             [
              1,
              "#f0f921"
             ]
            ],
            "type": "surface"
           }
          ],
          "table": [
           {
            "cells": {
             "fill": {
              "color": "#EBF0F8"
             },
             "line": {
              "color": "white"
             }
            },
            "header": {
             "fill": {
              "color": "#C8D4E3"
             },
             "line": {
              "color": "white"
             }
            },
            "type": "table"
           }
          ]
         },
         "layout": {
          "annotationdefaults": {
           "arrowcolor": "#2a3f5f",
           "arrowhead": 0,
           "arrowwidth": 1
          },
          "autotypenumbers": "strict",
          "coloraxis": {
           "colorbar": {
            "outlinewidth": 0,
            "ticks": ""
           }
          },
          "colorscale": {
           "diverging": [
            [
             0,
             "#8e0152"
            ],
            [
             0.1,
             "#c51b7d"
            ],
            [
             0.2,
             "#de77ae"
            ],
            [
             0.3,
             "#f1b6da"
            ],
            [
             0.4,
             "#fde0ef"
            ],
            [
             0.5,
             "#f7f7f7"
            ],
            [
             0.6,
             "#e6f5d0"
            ],
            [
             0.7,
             "#b8e186"
            ],
            [
             0.8,
             "#7fbc41"
            ],
            [
             0.9,
             "#4d9221"
            ],
            [
             1,
             "#276419"
            ]
           ],
           "sequential": [
            [
             0,
             "#0d0887"
            ],
            [
             0.1111111111111111,
             "#46039f"
            ],
            [
             0.2222222222222222,
             "#7201a8"
            ],
            [
             0.3333333333333333,
             "#9c179e"
            ],
            [
             0.4444444444444444,
             "#bd3786"
            ],
            [
             0.5555555555555556,
             "#d8576b"
            ],
            [
             0.6666666666666666,
             "#ed7953"
            ],
            [
             0.7777777777777778,
             "#fb9f3a"
            ],
            [
             0.8888888888888888,
             "#fdca26"
            ],
            [
             1,
             "#f0f921"
            ]
           ],
           "sequentialminus": [
            [
             0,
             "#0d0887"
            ],
            [
             0.1111111111111111,
             "#46039f"
            ],
            [
             0.2222222222222222,
             "#7201a8"
            ],
            [
             0.3333333333333333,
             "#9c179e"
            ],
            [
             0.4444444444444444,
             "#bd3786"
            ],
            [
             0.5555555555555556,
             "#d8576b"
            ],
            [
             0.6666666666666666,
             "#ed7953"
            ],
            [
             0.7777777777777778,
             "#fb9f3a"
            ],
            [
             0.8888888888888888,
             "#fdca26"
            ],
            [
             1,
             "#f0f921"
            ]
           ]
          },
          "colorway": [
           "#636efa",
           "#EF553B",
           "#00cc96",
           "#ab63fa",
           "#FFA15A",
           "#19d3f3",
           "#FF6692",
           "#B6E880",
           "#FF97FF",
           "#FECB52"
          ],
          "font": {
           "color": "#2a3f5f"
          },
          "geo": {
           "bgcolor": "white",
           "lakecolor": "white",
           "landcolor": "#E5ECF6",
           "showlakes": true,
           "showland": true,
           "subunitcolor": "white"
          },
          "hoverlabel": {
           "align": "left"
          },
          "hovermode": "closest",
          "mapbox": {
           "style": "light"
          },
          "paper_bgcolor": "white",
          "plot_bgcolor": "#E5ECF6",
          "polar": {
           "angularaxis": {
            "gridcolor": "white",
            "linecolor": "white",
            "ticks": ""
           },
           "bgcolor": "#E5ECF6",
           "radialaxis": {
            "gridcolor": "white",
            "linecolor": "white",
            "ticks": ""
           }
          },
          "scene": {
           "xaxis": {
            "backgroundcolor": "#E5ECF6",
            "gridcolor": "white",
            "gridwidth": 2,
            "linecolor": "white",
            "showbackground": true,
            "ticks": "",
            "zerolinecolor": "white"
           },
           "yaxis": {
            "backgroundcolor": "#E5ECF6",
            "gridcolor": "white",
            "gridwidth": 2,
            "linecolor": "white",
            "showbackground": true,
            "ticks": "",
            "zerolinecolor": "white"
           },
           "zaxis": {
            "backgroundcolor": "#E5ECF6",
            "gridcolor": "white",
            "gridwidth": 2,
            "linecolor": "white",
            "showbackground": true,
            "ticks": "",
            "zerolinecolor": "white"
           }
          },
          "shapedefaults": {
           "line": {
            "color": "#2a3f5f"
           }
          },
          "ternary": {
           "aaxis": {
            "gridcolor": "white",
            "linecolor": "white",
            "ticks": ""
           },
           "baxis": {
            "gridcolor": "white",
            "linecolor": "white",
            "ticks": ""
           },
           "bgcolor": "#E5ECF6",
           "caxis": {
            "gridcolor": "white",
            "linecolor": "white",
            "ticks": ""
           }
          },
          "title": {
           "x": 0.05
          },
          "xaxis": {
           "automargin": true,
           "gridcolor": "white",
           "linecolor": "white",
           "ticks": "",
           "title": {
            "standoff": 15
           },
           "zerolinecolor": "white",
           "zerolinewidth": 2
          },
          "yaxis": {
           "automargin": true,
           "gridcolor": "white",
           "linecolor": "white",
           "ticks": "",
           "title": {
            "standoff": 15
           },
           "zerolinecolor": "white",
           "zerolinewidth": 2
          }
         }
        },
        "title": {
         "font": {
          "color": "#4D5663"
         },
         "text": "Daily Log Returns"
        },
        "xaxis": {
         "gridcolor": "#E1E5ED",
         "showgrid": true,
         "tickfont": {
          "color": "#4D5663"
         },
         "title": {
          "font": {
           "color": "#4D5663"
          },
          "text": ""
         },
         "zerolinecolor": "#E1E5ED"
        },
        "yaxis": {
         "gridcolor": "#E1E5ED",
         "showgrid": true,
         "tickfont": {
          "color": "#4D5663"
         },
         "title": {
          "font": {
           "color": "#4D5663"
          },
          "text": ""
         },
         "zerolinecolor": "#E1E5ED"
        }
       }
      },
      "text/html": [
       "<div>                            <div id=\"62f94681-d743-4f68-9e3b-2fc67c499cd6\" class=\"plotly-graph-div\" style=\"height:525px; width:100%;\"></div>            <script type=\"text/javascript\">                require([\"plotly\"], function(Plotly) {                    window.PLOTLYENV=window.PLOTLYENV || {};\n",
       "                    window.PLOTLYENV.BASE_URL='https://plot.ly';                                    if (document.getElementById(\"62f94681-d743-4f68-9e3b-2fc67c499cd6\")) {                    Plotly.newPlot(                        \"62f94681-d743-4f68-9e3b-2fc67c499cd6\",                        [{\"line\": {\"color\": \"rgba(255, 153, 51, 1.0)\", \"dash\": \"solid\", \"shape\": \"linear\", \"width\": 1.3}, \"mode\": \"lines\", \"name\": \"AAPL\", \"text\": \"\", \"type\": \"scatter\", \"x\": [\"2019-05-31\", \"2019-06-03\", \"2019-06-04\", \"2019-06-05\", \"2019-06-06\", \"2019-06-07\", \"2019-06-10\", \"2019-06-11\", \"2019-06-12\", \"2019-06-13\", \"2019-06-14\", \"2019-06-17\", \"2019-06-18\", \"2019-06-19\", \"2019-06-20\", \"2019-06-21\", \"2019-06-24\", \"2019-06-25\", \"2019-06-26\", \"2019-06-27\", \"2019-06-28\", \"2019-07-01\", \"2019-07-02\", \"2019-07-03\", \"2019-07-05\", \"2019-07-08\", \"2019-07-09\", \"2019-07-10\", \"2019-07-11\", \"2019-07-12\", \"2019-07-15\", \"2019-07-16\", \"2019-07-17\", \"2019-07-18\", \"2019-07-19\", \"2019-07-22\", \"2019-07-23\", \"2019-07-24\", \"2019-07-25\", \"2019-07-26\", \"2019-07-29\", \"2019-07-30\", \"2019-07-31\", \"2019-08-01\", \"2019-08-02\", \"2019-08-05\", \"2019-08-06\", \"2019-08-07\", \"2019-08-08\", \"2019-08-09\", \"2019-08-12\", \"2019-08-13\", \"2019-08-14\", \"2019-08-15\", \"2019-08-16\", \"2019-08-19\", \"2019-08-20\", \"2019-08-21\", \"2019-08-22\", \"2019-08-23\", \"2019-08-26\", \"2019-08-27\", \"2019-08-28\", \"2019-08-29\", \"2019-08-30\", \"2019-09-03\", \"2019-09-04\", \"2019-09-05\", \"2019-09-06\", \"2019-09-09\", \"2019-09-10\", \"2019-09-11\", \"2019-09-12\", \"2019-09-13\", \"2019-09-16\", \"2019-09-17\", \"2019-09-18\", \"2019-09-19\", \"2019-09-20\", \"2019-09-23\", \"2019-09-24\", \"2019-09-25\", \"2019-09-26\", \"2019-09-27\", \"2019-09-30\", \"2019-10-01\", \"2019-10-02\", \"2019-10-03\", \"2019-10-04\", \"2019-10-07\", \"2019-10-08\", \"2019-10-09\", \"2019-10-10\", \"2019-10-11\", \"2019-10-14\", \"2019-10-15\", \"2019-10-16\", \"2019-10-17\", \"2019-10-18\", \"2019-10-21\", \"2019-10-22\", \"2019-10-23\", \"2019-10-24\", \"2019-10-25\", \"2019-10-28\", \"2019-10-29\", \"2019-10-30\", \"2019-10-31\", \"2019-11-01\", \"2019-11-04\", \"2019-11-05\", \"2019-11-06\", \"2019-11-07\", \"2019-11-08\", \"2019-11-11\", \"2019-11-12\", \"2019-11-13\", \"2019-11-14\", \"2019-11-15\", \"2019-11-18\", \"2019-11-19\", \"2019-11-20\", \"2019-11-21\", \"2019-11-22\", \"2019-11-25\", \"2019-11-26\", \"2019-11-27\", \"2019-11-29\", \"2019-12-02\", \"2019-12-03\", \"2019-12-04\", \"2019-12-05\", \"2019-12-06\", \"2019-12-09\", \"2019-12-10\", \"2019-12-11\", \"2019-12-12\", \"2019-12-13\", \"2019-12-16\", \"2019-12-17\", \"2019-12-18\", \"2019-12-19\", \"2019-12-20\", \"2019-12-23\", \"2019-12-24\", \"2019-12-26\", \"2019-12-27\", \"2019-12-30\", \"2019-12-31\", \"2020-01-02\", \"2020-01-03\", \"2020-01-06\", \"2020-01-07\", \"2020-01-08\", \"2020-01-09\", \"2020-01-10\", \"2020-01-13\", \"2020-01-14\", \"2020-01-15\", \"2020-01-16\", \"2020-01-17\", \"2020-01-21\", \"2020-01-22\", \"2020-01-23\", \"2020-01-24\", \"2020-01-27\", \"2020-01-28\", \"2020-01-29\", \"2020-01-30\", \"2020-01-31\", \"2020-02-03\", \"2020-02-04\", \"2020-02-05\", \"2020-02-06\", \"2020-02-07\", \"2020-02-10\", \"2020-02-11\", \"2020-02-12\", \"2020-02-13\", \"2020-02-14\", \"2020-02-18\", \"2020-02-19\", \"2020-02-20\", \"2020-02-21\", \"2020-02-24\", \"2020-02-25\", \"2020-02-26\", \"2020-02-27\", \"2020-02-28\", \"2020-03-02\", \"2020-03-03\", \"2020-03-04\", \"2020-03-05\", \"2020-03-06\", \"2020-03-09\", \"2020-03-10\", \"2020-03-11\", \"2020-03-12\", \"2020-03-13\", \"2020-03-16\", \"2020-03-17\", \"2020-03-18\", \"2020-03-19\", \"2020-03-20\", \"2020-03-23\", \"2020-03-24\", \"2020-03-25\", \"2020-03-26\", \"2020-03-27\", \"2020-03-30\", \"2020-03-31\", \"2020-04-01\", \"2020-04-02\", \"2020-04-03\", \"2020-04-06\", \"2020-04-07\", \"2020-04-08\", \"2020-04-09\", \"2020-04-13\", \"2020-04-14\", \"2020-04-15\", \"2020-04-16\", \"2020-04-17\", \"2020-04-20\", \"2020-04-21\", \"2020-04-22\", \"2020-04-23\", \"2020-04-24\", \"2020-04-27\", \"2020-04-28\", \"2020-04-29\", \"2020-04-30\", \"2020-05-01\", \"2020-05-04\", \"2020-05-05\", \"2020-05-06\", \"2020-05-07\", \"2020-05-08\", \"2020-05-11\", \"2020-05-12\", \"2020-05-13\", \"2020-05-14\", \"2020-05-15\", \"2020-05-18\", \"2020-05-19\", \"2020-05-20\", \"2020-05-21\", \"2020-05-22\", \"2020-05-26\", \"2020-05-27\", \"2020-05-28\", \"2020-05-29\", \"2020-06-01\", \"2020-06-02\", \"2020-06-03\", \"2020-06-04\", \"2020-06-05\", \"2020-06-08\", \"2020-06-09\", \"2020-06-10\", \"2020-06-11\", \"2020-06-12\", \"2020-06-15\", \"2020-06-16\", \"2020-06-17\", \"2020-06-18\", \"2020-06-19\", \"2020-06-22\", \"2020-06-23\", \"2020-06-24\", \"2020-06-25\", \"2020-06-26\", \"2020-06-29\"], \"y\": [0.0, -0.010161672268911293, 0.03593073008103298, 0.016014389010214014, 0.01457495550144472, 0.026269051886091077, 0.012698295164007778, 0.011513035922226855, -0.003187518662308264, -0.00020613213238407369, -0.007288957138376961, 0.005948980640237078, 0.02324615484858361, -0.002926976116881974, 0.008003469943111963, -0.003415113170603945, -0.0010064850693285443, -0.015273676225186605, 0.021398506137809026, -0.00030033675639407065, -0.009153608478488895, 0.018174600655950002, 0.005837361778914474, 0.008252804400902036, -0.0008809458056244779, -0.020829515400728305, 0.0060811011254577885, 0.009840037562139248, -0.007309105832551399, 0.007653524762805564, 0.00935103221288669, -0.003465946575325507, -0.005639231809455136, 0.01129566558353945, -0.01504008519944433, 0.022596729290817574, 0.007787377761713454, -0.0008141304026176854, -0.007938793610348327, 0.0034718657307624134, 0.00929516772127581, -0.004301443756305812, 0.020198956287005743, -0.021876745404517006, -0.021385211975371465, -0.05376790714466528, 0.018753609031630702, 0.010302019844190546, 0.021816197155138273, -0.00827452367173187, -0.0025407416281737483, 0.04147625092490781, -0.030216932384168338, -0.004993938559600508, 0.023320623491525527, 0.01847243495041928, 4.7553075074979745e-05, 0.010780225123508291, -0.0008468981148781474, -0.0473226992387592, 0.018820942219957004, -0.011348037815705592, 0.006688074263638377, 0.016790033799158888, -0.0012925133331571637, -0.014670782457983922, 0.016824167161098913, 0.01936294246919701, -9.387861834486699e-05, 0.004258147188389572, 0.01174371768360416, 0.03130018917586419, -0.0022387266459880095, -0.019645830675513398, 0.0052434115221422495, 0.0036313940729062466, 0.00933564687706756, -0.008158123777475268, -0.014726162356706318, 0.0045367810219221205, -0.004766377351034468, 0.015272394262606959, -0.005170972566171272, -0.004877946026871527, 0.02326257065884807, 0.002764414455263875, -0.025387412382452457, 0.008458718758509676, 0.027646208883151946, 0.00022029704153325724, -0.011784206349430448, 0.011652033948291063, 0.01338843777639287, 0.026250703888007543, -0.0014404777451995088, -0.0023344362196144886, -0.00404526812822148, 0.003875155309817302, 0.004791367637855259, 0.017194044455242974, -0.0022893478966716785, 0.013329548755075749, 0.0016435110335448755, 0.012241169422375187, 0.009967097912122469, -0.023399530808681845, -0.00012335457450429743, 0.02235773939247032, 0.027985586337449853, 0.006545524871710562, -0.0014377619803305208, 0.0004275970885796454, 0.01147524007346501, 0.002733021367986588, 0.007887844242847386, -0.000915987545589303, 0.009536065011737982, -0.006943548549041445, 0.011809394686135732, 0.005029454737504935, -0.0030371997799854, -0.011709611775178708, -0.004493629913927322, -0.0008783191326369177, 0.017381825063464085, -0.007839117477866253, 0.013342639182576832, -0.002205169723282552, -0.011629548098356146, -0.017990874733956552, 0.008787492551157072, 0.01456449656629566, 0.019131846132680153, -0.014098991034273034, 0.005827503624290742, 0.008493301640962514, 0.002544895653095125, 0.01350175748203064, 0.01697298218665022, 0.001963329842778805, -0.002392153439267908, 0.0010003757742094166, -0.002073350126318374, 0.016186559345463536, 0.0009501867694723387, 0.019646131554164725, -0.00037954066053913493, 0.005917648572800083, 0.007279942374496251, 0.022559999157191868, -0.00976973108270407, 0.007936659630909837, -0.004714097584066046, 0.015958345591130296, 0.02101825370588184, 0.002258091582015176, 0.02113936670914729, -0.0135951598490891, -0.0042948231564539086, 0.012448788878753447, 0.01100998397967956, -0.006799782528610798, 0.0035630768604359986, 0.004804326070274811, -0.0028861492450298343, -0.02984625851846978, 0.027896592790855657, 0.020716335092493487, -0.0014502334644017623, -0.04535174069798753, -0.002750022148633846, 0.03248042470998058, 0.008121300833608736, 0.011629043167588726, -0.013685913293053353, 0.0047382059345313365, -0.006051530605762245, 0.02347021073959432, -0.007146466326309664, 0.00024611208715086264, -0.018480220785281887, 0.014378868957382274, -0.01031190562993789, -0.022895143121459682, -0.0486655193001706, -0.03445912555167929, 0.015739036415040708, -0.06760254203871252, -0.0005852131924770632, 0.08901836532012819, -0.032274527149978915, 0.04534099514018308, -0.03297483936625145, -0.013369038881197781, -0.08239524218003158, 0.06954622134139843, -0.03534798381298465, -0.10397778165710925, 0.11315747084517014, -0.13770802163475526, 0.04303081337517067, -0.024784564864974712, -0.007691565510524967, -0.06559036561480092, -0.02147297284625349, 0.09560587500060347, -0.005523944076127663, 0.05128516452335141, -0.042283800423038365, 0.028138324860607078, -0.0020428141398678434, -0.05405192502600009, 0.016548979849221546, -0.014475573836549849, 0.08363991104442547, -0.01164973197211605, 0.025272451242253524, 0.007190243989531275, 0.019437406851260164, 0.04926922280538637, -0.009169122005894259, 0.00791422295327493, -0.01366144485964682, -0.020975294693230673, -0.03139809213896072, 0.02839650724686482, -0.0038828184163932633, 0.028460651990813268, 0.0007065490160034216, -0.01634234653458133, 0.032317430305846884, 0.020876644333553962, -0.016230256521035713, 0.014049559655828325, 0.01489735358862454, 0.010264476036308423, 0.01029172647672727, 0.023522928954989197, 0.01561270844089968, -0.011494043369701501, -0.012147488033396492, 0.006124492948182514, -0.0059296007553966135, 0.02328786595457011, -0.005795184279124399, 0.019261481330026697, -0.007483427577172463, 0.0064177890646615054, -0.0067965576864210675, 0.004347490213289618, 0.0004400625206191222, -0.0009745195038730614, 0.012222910195056613, 0.004618754232588174, 0.005489963615841198, -0.008649453169232935, 0.028082994470056022, 0.00589499096081969, 0.031089684589801436, 0.025402082231256173, -0.04920114854185176, 0.008596483813177791, 0.012291259899612328, 0.026157134777268887, -0.001392627257679635, 0.00039816607255893643, -0.005731096551152781, 0.025827361352522615, 0.021120200170686054, -0.01780969647374775, 0.013188228496670895, -0.031207674257778706, 0.02278508521982925]}, {\"line\": {\"color\": \"rgba(55, 128, 191, 1.0)\", \"dash\": \"solid\", \"shape\": \"linear\", \"width\": 1.3}, \"mode\": \"lines\", \"name\": \"GOOG\", \"text\": \"\", \"type\": \"scatter\", \"x\": [\"2019-05-31\", \"2019-06-03\", \"2019-06-04\", \"2019-06-05\", \"2019-06-06\", \"2019-06-07\", \"2019-06-10\", \"2019-06-11\", \"2019-06-12\", \"2019-06-13\", \"2019-06-14\", \"2019-06-17\", \"2019-06-18\", \"2019-06-19\", \"2019-06-20\", \"2019-06-21\", \"2019-06-24\", \"2019-06-25\", \"2019-06-26\", \"2019-06-27\", \"2019-06-28\", \"2019-07-01\", \"2019-07-02\", \"2019-07-03\", \"2019-07-05\", \"2019-07-08\", \"2019-07-09\", \"2019-07-10\", \"2019-07-11\", \"2019-07-12\", \"2019-07-15\", \"2019-07-16\", \"2019-07-17\", \"2019-07-18\", \"2019-07-19\", \"2019-07-22\", \"2019-07-23\", \"2019-07-24\", \"2019-07-25\", \"2019-07-26\", \"2019-07-29\", \"2019-07-30\", \"2019-07-31\", \"2019-08-01\", \"2019-08-02\", \"2019-08-05\", \"2019-08-06\", \"2019-08-07\", \"2019-08-08\", \"2019-08-09\", \"2019-08-12\", \"2019-08-13\", \"2019-08-14\", \"2019-08-15\", \"2019-08-16\", \"2019-08-19\", \"2019-08-20\", \"2019-08-21\", \"2019-08-22\", \"2019-08-23\", \"2019-08-26\", \"2019-08-27\", \"2019-08-28\", \"2019-08-29\", \"2019-08-30\", \"2019-09-03\", \"2019-09-04\", \"2019-09-05\", \"2019-09-06\", \"2019-09-09\", \"2019-09-10\", \"2019-09-11\", \"2019-09-12\", \"2019-09-13\", \"2019-09-16\", \"2019-09-17\", \"2019-09-18\", \"2019-09-19\", \"2019-09-20\", \"2019-09-23\", \"2019-09-24\", \"2019-09-25\", \"2019-09-26\", \"2019-09-27\", \"2019-09-30\", \"2019-10-01\", \"2019-10-02\", \"2019-10-03\", \"2019-10-04\", \"2019-10-07\", \"2019-10-08\", \"2019-10-09\", \"2019-10-10\", \"2019-10-11\", \"2019-10-14\", \"2019-10-15\", \"2019-10-16\", \"2019-10-17\", \"2019-10-18\", \"2019-10-21\", \"2019-10-22\", \"2019-10-23\", \"2019-10-24\", \"2019-10-25\", \"2019-10-28\", \"2019-10-29\", \"2019-10-30\", \"2019-10-31\", \"2019-11-01\", \"2019-11-04\", \"2019-11-05\", \"2019-11-06\", \"2019-11-07\", \"2019-11-08\", \"2019-11-11\", \"2019-11-12\", \"2019-11-13\", \"2019-11-14\", \"2019-11-15\", \"2019-11-18\", \"2019-11-19\", \"2019-11-20\", \"2019-11-21\", \"2019-11-22\", \"2019-11-25\", \"2019-11-26\", \"2019-11-27\", \"2019-11-29\", \"2019-12-02\", \"2019-12-03\", \"2019-12-04\", \"2019-12-05\", \"2019-12-06\", \"2019-12-09\", \"2019-12-10\", \"2019-12-11\", \"2019-12-12\", \"2019-12-13\", \"2019-12-16\", \"2019-12-17\", \"2019-12-18\", \"2019-12-19\", \"2019-12-20\", \"2019-12-23\", \"2019-12-24\", \"2019-12-26\", \"2019-12-27\", \"2019-12-30\", \"2019-12-31\", \"2020-01-02\", \"2020-01-03\", \"2020-01-06\", \"2020-01-07\", \"2020-01-08\", \"2020-01-09\", \"2020-01-10\", \"2020-01-13\", \"2020-01-14\", \"2020-01-15\", \"2020-01-16\", \"2020-01-17\", \"2020-01-21\", \"2020-01-22\", \"2020-01-23\", \"2020-01-24\", \"2020-01-27\", \"2020-01-28\", \"2020-01-29\", \"2020-01-30\", \"2020-01-31\", \"2020-02-03\", \"2020-02-04\", \"2020-02-05\", \"2020-02-06\", \"2020-02-07\", \"2020-02-10\", \"2020-02-11\", \"2020-02-12\", \"2020-02-13\", \"2020-02-14\", \"2020-02-18\", \"2020-02-19\", \"2020-02-20\", \"2020-02-21\", \"2020-02-24\", \"2020-02-25\", \"2020-02-26\", \"2020-02-27\", \"2020-02-28\", \"2020-03-02\", \"2020-03-03\", \"2020-03-04\", \"2020-03-05\", \"2020-03-06\", \"2020-03-09\", \"2020-03-10\", \"2020-03-11\", \"2020-03-12\", \"2020-03-13\", \"2020-03-16\", \"2020-03-17\", \"2020-03-18\", \"2020-03-19\", \"2020-03-20\", \"2020-03-23\", \"2020-03-24\", \"2020-03-25\", \"2020-03-26\", \"2020-03-27\", \"2020-03-30\", \"2020-03-31\", \"2020-04-01\", \"2020-04-02\", \"2020-04-03\", \"2020-04-06\", \"2020-04-07\", \"2020-04-08\", \"2020-04-09\", \"2020-04-13\", \"2020-04-14\", \"2020-04-15\", \"2020-04-16\", \"2020-04-17\", \"2020-04-20\", \"2020-04-21\", \"2020-04-22\", \"2020-04-23\", \"2020-04-24\", \"2020-04-27\", \"2020-04-28\", \"2020-04-29\", \"2020-04-30\", \"2020-05-01\", \"2020-05-04\", \"2020-05-05\", \"2020-05-06\", \"2020-05-07\", \"2020-05-08\", \"2020-05-11\", \"2020-05-12\", \"2020-05-13\", \"2020-05-14\", \"2020-05-15\", \"2020-05-18\", \"2020-05-19\", \"2020-05-20\", \"2020-05-21\", \"2020-05-22\", \"2020-05-26\", \"2020-05-27\", \"2020-05-28\", \"2020-05-29\", \"2020-06-01\", \"2020-06-02\", \"2020-06-03\", \"2020-06-04\", \"2020-06-05\", \"2020-06-08\", \"2020-06-09\", \"2020-06-10\", \"2020-06-11\", \"2020-06-12\", \"2020-06-15\", \"2020-06-16\", \"2020-06-17\", \"2020-06-18\", \"2020-06-19\", \"2020-06-22\", \"2020-06-23\", \"2020-06-24\", \"2020-06-25\", \"2020-06-26\", \"2020-06-29\"], \"y\": [0.0, -0.0630156431072173, 0.01610165370278338, -0.01033773640023039, 0.0020320488374885315, 0.020565810923544703, 0.01336195048772204, -0.0015377097175317544, -0.001567845763586817, 0.010841356503640043, -0.0031461435192374765, 0.006566154862158058, 0.010108893251183027, -0.0011514596663797505, 0.008212434990363171, 0.009367337298661127, -0.005685172443320674, -0.0264972506924801, -0.006047546703985773, -0.003516119569169973, 0.004543546115594488, 0.0156414496697046, 0.012040747608199176, 0.009252858442567735, 0.008885326867780208, -0.013559280163558007, 0.007567461065666414, 0.013817335236299577, 0.0032651991109071687, 0.0006029098661768373, 0.004740202868079635, 0.00281259113173693, -0.006287151782315092, -1.7463869224521034e-05, -0.014259393839579637, 0.007027695260665823, 0.007127015457448316, -0.007355399815045516, -0.005013436766788004, 0.09937954795195836, -0.00883603735784444, -0.011580352373505853, -0.006929253221560572, -0.0063240309414274165, -0.01250121942744098, -0.035523376679732266, 0.01518371625129511, 0.003447224045205921, 0.025905423427740715, -0.014033971957886138, -0.011258371263235034, 0.01902270599268796, -0.02793248864028275, 0.0025476376207231866, 0.008819317916933578, 0.017550566203706985, -0.013237558997283294, 0.007211720519426201, -0.0014448802335271793, -0.032675208997062555, 0.015171506319471284, -0.0008987336214119068, 0.002719321114120099, 0.01847020073070471, -0.0039900093652924795, -0.016728626613939035, 0.011081924000706955, 0.025051540315817356, -0.005338691090933878, -0.0004316696857689095, 0.001319249445835169, 0.011681131010685242, 0.01147326884115607, 0.0042930270500773915, -0.006685963734474498, -0.0017476680260148925, 0.0026487362436755646, 0.005098854300245925, -0.007113183124679345, 0.003327959245974732, -0.012451303674422043, 0.022521728009952113, -0.004123953103469802, -0.01321744855773499, -0.004983432286831402, -0.011468319706876784, -0.02390810632395013, 0.009473651593305377, 0.01766549557104291, -0.00109236340018537, -0.015479256818204057, 0.011022803675847292, 0.005275862788937324, 0.005593720540777447, 0.0013895179806171498, 0.02103200900449309, 0.0005067097421083133, 0.007553922264751378, -0.006067478468776422, 0.0005297990008559239, -0.0026918801183200003, 0.01305407233680711, 0.0014761088304462433, 0.0032777685644802546, 0.019467330816289596, -0.021453295085376745, -0.0010538855662627356, -0.0009360306065442359, 0.010758439907540662, 0.013746219533899762, 0.0005109810233117074, -0.00017801516539694973, 0.01311988572984113, 0.0019158704022901318, -0.00933144029578159, -0.00030014940974965043, -0.0006161805594544489, 0.010316372364133741, 0.017692914529561676, -0.010672043079369864, -0.003975477444713604, -0.009478676787427531, -0.0013055394468768355, -0.00462898584957383, 0.008723994708693894, 0.0052362555505229835, -0.00042646111912159057, -0.006134612677696438, -0.01159212401512022, 0.0041466755996282245, 0.01931386281866132, 0.005731168072697024, 0.009360248375458902, 0.0021906612771944722, 0.0008183672536974385, 0.0002676789406343971, 0.0038956895648221135, -0.0018087277446081629, 0.009848797136581489, -0.00445464861692102, -0.0018465589158385143, 0.0025252676375897565, -0.004767899121161712, -0.0005558788171731166, -0.003922087317622669, 0.012455940938591148, -0.006275167897570988, -0.011718753192837106, 0.0006584004723624304, 0.02244591175970978, -0.004919281970372502, 0.024358017330430748, -0.0006242005835188635, 0.00784944359938855, 0.010983953570659288, 0.0069484864097395516, 0.006622633185018323, -0.005818591751962643, 0.005797726698729022, 0.00864788012319373, 0.019570326620824474, 0.0027050901804619443, 0.0010435988427088816, 0.0004710174667836853, -0.013503512319433142, -0.022623748876264393, 0.012929535553346305, 0.0041700850531052325, -0.0019146122230404572, -0.014954923934253905, 0.03541942298333467, -0.026506743885202688, 0.0008013223300569194, 0.019149419723818895, 0.002030141548198472, 0.019713463016800326, 7.289905001872654e-05, 0.006263510652646964, -0.00238052773550379, 0.004006038174134474, -0.0007038171307165442, 0.004608719862446264, -0.005609450402043414, -0.02200367068048692, -0.04371289425908742, -0.023587957596612696, 0.0034009606525664537, -0.055405249420232394, 0.015985763011236997, 0.036493787646142195, -0.03495684307767899, 0.0330906241886737, -0.04989279597261653, -0.015763763594579316, -0.0659355411385123, 0.0519598063031701, -0.05208323391315872, -0.0863077817287996, 0.08985579194162874, -0.1176672625586912, 0.03218789733168137, -0.02075324775230225, 0.016717602020563938, -0.039290020326971486, -0.014749345891469368, 0.07108160277387299, -0.028585483215521457, 0.05235623983779636, -0.044928073670257085, 0.031993432560217805, 0.013846692113681058, -0.050433280810262104, 0.013672114526511514, -0.02069732175804262, 0.07798070163747539, -0.00034552034354362604, 0.019835528765289823, 0.0009661869617572094, 0.005030955232624201, 0.04156149779753893, -0.005340305693128045, 0.0007917845043357019, 0.015534041651126707, -0.013051893801946157, -0.0404977070319017, 0.03780974778311563, 0.01031707862545872, 0.002347767853153826, -0.002684775446093468, -0.03364263811375334, 0.08377996520230901, 0.005338064726318592, -0.021017792281833536, 0.004676324919077324, 0.018156401099081343, -0.002823839970132802, 0.01857502596129379, 0.01145274166680732, 0.010667714438705289, -0.01980634701756756, -0.01938362068034305, 0.00502691833996316, 0.01250139891467672, 0.00779800367154504, -0.007583166492545423, 0.023909437702973158, -0.002790458435135257, 0.005417289441449036, 0.004668525185353545, 0.0005784739395702232, -0.0007831772927326952, 0.0085675595646455, 0.0020273798715937374, 0.005154955009397, -0.001975216836670235, -0.016991415240184438, 0.018389794991963804, 0.0056984353181750436, 0.006579979275326053, 0.006632405018859089, -0.04322394768981752, 0.006631207482906021, 0.004708692904555001, 0.015978985426873038, 0.00580546823995487, -0.010502080820907977, -0.002957089650951872, 0.013968984700949427, 0.008606971384382156, -0.02240135617699668, 0.00651516980411504, -0.05815508235769684, 0.0254617030783324]}],                        {\"legend\": {\"bgcolor\": \"#F5F6F9\", \"font\": {\"color\": \"#4D5663\"}}, \"paper_bgcolor\": \"#F5F6F9\", \"plot_bgcolor\": \"#F5F6F9\", \"template\": {\"data\": {\"bar\": [{\"error_x\": {\"color\": \"#2a3f5f\"}, \"error_y\": {\"color\": \"#2a3f5f\"}, \"marker\": {\"line\": {\"color\": \"#E5ECF6\", \"width\": 0.5}}, \"type\": \"bar\"}], \"barpolar\": [{\"marker\": {\"line\": {\"color\": \"#E5ECF6\", \"width\": 0.5}}, \"type\": \"barpolar\"}], \"carpet\": [{\"aaxis\": {\"endlinecolor\": \"#2a3f5f\", \"gridcolor\": \"white\", \"linecolor\": \"white\", \"minorgridcolor\": \"white\", \"startlinecolor\": \"#2a3f5f\"}, \"baxis\": {\"endlinecolor\": \"#2a3f5f\", \"gridcolor\": \"white\", \"linecolor\": \"white\", \"minorgridcolor\": \"white\", \"startlinecolor\": \"#2a3f5f\"}, \"type\": \"carpet\"}], \"choropleth\": [{\"colorbar\": {\"outlinewidth\": 0, \"ticks\": \"\"}, \"type\": \"choropleth\"}], \"contour\": [{\"colorbar\": {\"outlinewidth\": 0, \"ticks\": \"\"}, \"colorscale\": [[0.0, \"#0d0887\"], [0.1111111111111111, \"#46039f\"], [0.2222222222222222, \"#7201a8\"], [0.3333333333333333, \"#9c179e\"], [0.4444444444444444, \"#bd3786\"], [0.5555555555555556, \"#d8576b\"], [0.6666666666666666, \"#ed7953\"], [0.7777777777777778, \"#fb9f3a\"], [0.8888888888888888, \"#fdca26\"], [1.0, \"#f0f921\"]], \"type\": \"contour\"}], \"contourcarpet\": [{\"colorbar\": {\"outlinewidth\": 0, \"ticks\": \"\"}, \"type\": \"contourcarpet\"}], \"heatmap\": [{\"colorbar\": {\"outlinewidth\": 0, \"ticks\": \"\"}, \"colorscale\": [[0.0, \"#0d0887\"], [0.1111111111111111, \"#46039f\"], [0.2222222222222222, \"#7201a8\"], [0.3333333333333333, \"#9c179e\"], [0.4444444444444444, \"#bd3786\"], [0.5555555555555556, \"#d8576b\"], [0.6666666666666666, \"#ed7953\"], [0.7777777777777778, \"#fb9f3a\"], [0.8888888888888888, \"#fdca26\"], [1.0, \"#f0f921\"]], \"type\": \"heatmap\"}], \"heatmapgl\": [{\"colorbar\": {\"outlinewidth\": 0, \"ticks\": \"\"}, \"colorscale\": [[0.0, \"#0d0887\"], [0.1111111111111111, \"#46039f\"], [0.2222222222222222, \"#7201a8\"], [0.3333333333333333, \"#9c179e\"], [0.4444444444444444, \"#bd3786\"], [0.5555555555555556, \"#d8576b\"], [0.6666666666666666, \"#ed7953\"], [0.7777777777777778, \"#fb9f3a\"], [0.8888888888888888, \"#fdca26\"], [1.0, \"#f0f921\"]], \"type\": \"heatmapgl\"}], \"histogram\": [{\"marker\": {\"colorbar\": {\"outlinewidth\": 0, \"ticks\": \"\"}}, \"type\": \"histogram\"}], \"histogram2d\": [{\"colorbar\": {\"outlinewidth\": 0, \"ticks\": \"\"}, \"colorscale\": [[0.0, \"#0d0887\"], [0.1111111111111111, \"#46039f\"], [0.2222222222222222, \"#7201a8\"], [0.3333333333333333, \"#9c179e\"], [0.4444444444444444, \"#bd3786\"], [0.5555555555555556, \"#d8576b\"], [0.6666666666666666, \"#ed7953\"], [0.7777777777777778, \"#fb9f3a\"], [0.8888888888888888, \"#fdca26\"], [1.0, \"#f0f921\"]], \"type\": \"histogram2d\"}], \"histogram2dcontour\": [{\"colorbar\": {\"outlinewidth\": 0, \"ticks\": \"\"}, \"colorscale\": [[0.0, \"#0d0887\"], [0.1111111111111111, \"#46039f\"], [0.2222222222222222, \"#7201a8\"], [0.3333333333333333, \"#9c179e\"], [0.4444444444444444, \"#bd3786\"], [0.5555555555555556, \"#d8576b\"], [0.6666666666666666, \"#ed7953\"], [0.7777777777777778, \"#fb9f3a\"], [0.8888888888888888, \"#fdca26\"], [1.0, \"#f0f921\"]], \"type\": \"histogram2dcontour\"}], \"mesh3d\": [{\"colorbar\": {\"outlinewidth\": 0, \"ticks\": \"\"}, \"type\": \"mesh3d\"}], \"parcoords\": [{\"line\": {\"colorbar\": {\"outlinewidth\": 0, \"ticks\": \"\"}}, \"type\": \"parcoords\"}], \"pie\": [{\"automargin\": true, \"type\": \"pie\"}], \"scatter\": [{\"marker\": {\"colorbar\": {\"outlinewidth\": 0, \"ticks\": \"\"}}, \"type\": \"scatter\"}], \"scatter3d\": [{\"line\": {\"colorbar\": {\"outlinewidth\": 0, \"ticks\": \"\"}}, \"marker\": {\"colorbar\": {\"outlinewidth\": 0, \"ticks\": \"\"}}, \"type\": \"scatter3d\"}], \"scattercarpet\": [{\"marker\": {\"colorbar\": {\"outlinewidth\": 0, \"ticks\": \"\"}}, \"type\": \"scattercarpet\"}], \"scattergeo\": [{\"marker\": {\"colorbar\": {\"outlinewidth\": 0, \"ticks\": \"\"}}, \"type\": \"scattergeo\"}], \"scattergl\": [{\"marker\": {\"colorbar\": {\"outlinewidth\": 0, \"ticks\": \"\"}}, \"type\": \"scattergl\"}], \"scattermapbox\": [{\"marker\": {\"colorbar\": {\"outlinewidth\": 0, \"ticks\": \"\"}}, \"type\": \"scattermapbox\"}], \"scatterpolar\": [{\"marker\": {\"colorbar\": {\"outlinewidth\": 0, \"ticks\": \"\"}}, \"type\": \"scatterpolar\"}], \"scatterpolargl\": [{\"marker\": {\"colorbar\": {\"outlinewidth\": 0, \"ticks\": \"\"}}, \"type\": \"scatterpolargl\"}], \"scatterternary\": [{\"marker\": {\"colorbar\": {\"outlinewidth\": 0, \"ticks\": \"\"}}, \"type\": \"scatterternary\"}], \"surface\": [{\"colorbar\": {\"outlinewidth\": 0, \"ticks\": \"\"}, \"colorscale\": [[0.0, \"#0d0887\"], [0.1111111111111111, \"#46039f\"], [0.2222222222222222, \"#7201a8\"], [0.3333333333333333, \"#9c179e\"], [0.4444444444444444, \"#bd3786\"], [0.5555555555555556, \"#d8576b\"], [0.6666666666666666, \"#ed7953\"], [0.7777777777777778, \"#fb9f3a\"], [0.8888888888888888, \"#fdca26\"], [1.0, \"#f0f921\"]], \"type\": \"surface\"}], \"table\": [{\"cells\": {\"fill\": {\"color\": \"#EBF0F8\"}, \"line\": {\"color\": \"white\"}}, \"header\": {\"fill\": {\"color\": \"#C8D4E3\"}, \"line\": {\"color\": \"white\"}}, \"type\": \"table\"}]}, \"layout\": {\"annotationdefaults\": {\"arrowcolor\": \"#2a3f5f\", \"arrowhead\": 0, \"arrowwidth\": 1}, \"autotypenumbers\": \"strict\", \"coloraxis\": {\"colorbar\": {\"outlinewidth\": 0, \"ticks\": \"\"}}, \"colorscale\": {\"diverging\": [[0, \"#8e0152\"], [0.1, \"#c51b7d\"], [0.2, \"#de77ae\"], [0.3, \"#f1b6da\"], [0.4, \"#fde0ef\"], [0.5, \"#f7f7f7\"], [0.6, \"#e6f5d0\"], [0.7, \"#b8e186\"], [0.8, \"#7fbc41\"], [0.9, \"#4d9221\"], [1, \"#276419\"]], \"sequential\": [[0.0, \"#0d0887\"], [0.1111111111111111, \"#46039f\"], [0.2222222222222222, \"#7201a8\"], [0.3333333333333333, \"#9c179e\"], [0.4444444444444444, \"#bd3786\"], [0.5555555555555556, \"#d8576b\"], [0.6666666666666666, \"#ed7953\"], [0.7777777777777778, \"#fb9f3a\"], [0.8888888888888888, \"#fdca26\"], [1.0, \"#f0f921\"]], \"sequentialminus\": [[0.0, \"#0d0887\"], [0.1111111111111111, \"#46039f\"], [0.2222222222222222, \"#7201a8\"], [0.3333333333333333, \"#9c179e\"], [0.4444444444444444, \"#bd3786\"], [0.5555555555555556, \"#d8576b\"], [0.6666666666666666, \"#ed7953\"], [0.7777777777777778, \"#fb9f3a\"], [0.8888888888888888, \"#fdca26\"], [1.0, \"#f0f921\"]]}, \"colorway\": [\"#636efa\", \"#EF553B\", \"#00cc96\", \"#ab63fa\", \"#FFA15A\", \"#19d3f3\", \"#FF6692\", \"#B6E880\", \"#FF97FF\", \"#FECB52\"], \"font\": {\"color\": \"#2a3f5f\"}, \"geo\": {\"bgcolor\": \"white\", \"lakecolor\": \"white\", \"landcolor\": \"#E5ECF6\", \"showlakes\": true, \"showland\": true, \"subunitcolor\": \"white\"}, \"hoverlabel\": {\"align\": \"left\"}, \"hovermode\": \"closest\", \"mapbox\": {\"style\": \"light\"}, \"paper_bgcolor\": \"white\", \"plot_bgcolor\": \"#E5ECF6\", \"polar\": {\"angularaxis\": {\"gridcolor\": \"white\", \"linecolor\": \"white\", \"ticks\": \"\"}, \"bgcolor\": \"#E5ECF6\", \"radialaxis\": {\"gridcolor\": \"white\", \"linecolor\": \"white\", \"ticks\": \"\"}}, \"scene\": {\"xaxis\": {\"backgroundcolor\": \"#E5ECF6\", \"gridcolor\": \"white\", \"gridwidth\": 2, \"linecolor\": \"white\", \"showbackground\": true, \"ticks\": \"\", \"zerolinecolor\": \"white\"}, \"yaxis\": {\"backgroundcolor\": \"#E5ECF6\", \"gridcolor\": \"white\", \"gridwidth\": 2, \"linecolor\": \"white\", \"showbackground\": true, \"ticks\": \"\", \"zerolinecolor\": \"white\"}, \"zaxis\": {\"backgroundcolor\": \"#E5ECF6\", \"gridcolor\": \"white\", \"gridwidth\": 2, \"linecolor\": \"white\", \"showbackground\": true, \"ticks\": \"\", \"zerolinecolor\": \"white\"}}, \"shapedefaults\": {\"line\": {\"color\": \"#2a3f5f\"}}, \"ternary\": {\"aaxis\": {\"gridcolor\": \"white\", \"linecolor\": \"white\", \"ticks\": \"\"}, \"baxis\": {\"gridcolor\": \"white\", \"linecolor\": \"white\", \"ticks\": \"\"}, \"bgcolor\": \"#E5ECF6\", \"caxis\": {\"gridcolor\": \"white\", \"linecolor\": \"white\", \"ticks\": \"\"}}, \"title\": {\"x\": 0.05}, \"xaxis\": {\"automargin\": true, \"gridcolor\": \"white\", \"linecolor\": \"white\", \"ticks\": \"\", \"title\": {\"standoff\": 15}, \"zerolinecolor\": \"white\", \"zerolinewidth\": 2}, \"yaxis\": {\"automargin\": true, \"gridcolor\": \"white\", \"linecolor\": \"white\", \"ticks\": \"\", \"title\": {\"standoff\": 15}, \"zerolinecolor\": \"white\", \"zerolinewidth\": 2}}}, \"title\": {\"font\": {\"color\": \"#4D5663\"}, \"text\": \"Daily Log Returns\"}, \"xaxis\": {\"gridcolor\": \"#E1E5ED\", \"showgrid\": true, \"tickfont\": {\"color\": \"#4D5663\"}, \"title\": {\"font\": {\"color\": \"#4D5663\"}, \"text\": \"\"}, \"zerolinecolor\": \"#E1E5ED\"}, \"yaxis\": {\"gridcolor\": \"#E1E5ED\", \"showgrid\": true, \"tickfont\": {\"color\": \"#4D5663\"}, \"title\": {\"font\": {\"color\": \"#4D5663\"}, \"text\": \"\"}, \"zerolinecolor\": \"#E1E5ED\"}},                        {\"showLink\": true, \"linkText\": \"Export to plot.ly\", \"plotlyServerURL\": \"https://plot.ly\", \"responsive\": true}                    ).then(function(){\n",
       "                            \n",
       "var gd = document.getElementById('62f94681-d743-4f68-9e3b-2fc67c499cd6');\n",
       "var x = new MutationObserver(function (mutations, observer) {{\n",
       "        var display = window.getComputedStyle(gd).display;\n",
       "        if (!display || display === 'none') {{\n",
       "            console.log([gd, 'removed!']);\n",
       "            Plotly.purge(gd);\n",
       "            observer.disconnect();\n",
       "        }}\n",
       "}});\n",
       "\n",
       "// Listen for the removal of the full notebook cells\n",
       "var notebookContainer = gd.closest('#notebook-container');\n",
       "if (notebookContainer) {{\n",
       "    x.observe(notebookContainer, {childList: true});\n",
       "}}\n",
       "\n",
       "// Listen for the clearing of the current output cell\n",
       "var outputEl = gd.closest('.output');\n",
       "if (outputEl) {{\n",
       "    x.observe(outputEl, {childList: true});\n",
       "}}\n",
       "\n",
       "                        })                };                });            </script>        </div>"
      ]
     },
     "metadata": {},
     "output_type": "display_data"
    }
   ],
   "source": [
    "\n",
    "daily_returns[['AAPL','GOOG']].iplot(title='Daily Log Returns')\n",
    "\n"
   ]
  },
  {
   "cell_type": "markdown",
   "metadata": {},
   "source": [
    "\n",
    "<h3 id=\"Plotting-Annual-Returns\">Plotting Annual Returns<a class=\"anchor-link\" href=\"#Plotting-Annual-Returns\">¶</a></h3>\n"
   ]
  },
  {
   "cell_type": "code",
   "execution_count": 82,
   "metadata": {},
   "outputs": [
    {
     "data": {
      "application/vnd.plotly.v1+json": {
       "config": {
        "linkText": "Export to plot.ly",
        "plotlyServerURL": "https://plot.ly",
        "showLink": true
       },
       "data": [
        {
         "marker": {
          "color": "rgba(255, 153, 51, 0.6)",
          "line": {
           "color": "rgba(255, 153, 51, 1.0)",
           "width": 1
          }
         },
         "name": "None",
         "orientation": "v",
         "text": "",
         "type": "bar",
         "x": [
          "AAPL",
          "AMZN",
          "FB",
          "GOOG",
          "NFLX"
         ],
         "y": [
          0.6809670421144799,
          0.3804172645704524,
          0.2009822989420404,
          0.2162475115254184,
          0.24419898859992353
         ]
        }
       ],
       "layout": {
        "legend": {
         "bgcolor": "#F5F6F9",
         "font": {
          "color": "#4D5663"
         }
        },
        "paper_bgcolor": "#F5F6F9",
        "plot_bgcolor": "#F5F6F9",
        "template": {
         "data": {
          "bar": [
           {
            "error_x": {
             "color": "#2a3f5f"
            },
            "error_y": {
             "color": "#2a3f5f"
            },
            "marker": {
             "line": {
              "color": "#E5ECF6",
              "width": 0.5
             }
            },
            "type": "bar"
           }
          ],
          "barpolar": [
           {
            "marker": {
             "line": {
              "color": "#E5ECF6",
              "width": 0.5
             }
            },
            "type": "barpolar"
           }
          ],
          "carpet": [
           {
            "aaxis": {
             "endlinecolor": "#2a3f5f",
             "gridcolor": "white",
             "linecolor": "white",
             "minorgridcolor": "white",
             "startlinecolor": "#2a3f5f"
            },
            "baxis": {
             "endlinecolor": "#2a3f5f",
             "gridcolor": "white",
             "linecolor": "white",
             "minorgridcolor": "white",
             "startlinecolor": "#2a3f5f"
            },
            "type": "carpet"
           }
          ],
          "choropleth": [
           {
            "colorbar": {
             "outlinewidth": 0,
             "ticks": ""
            },
            "type": "choropleth"
           }
          ],
          "contour": [
           {
            "colorbar": {
             "outlinewidth": 0,
             "ticks": ""
            },
            "colorscale": [
             [
              0,
              "#0d0887"
             ],
             [
              0.1111111111111111,
              "#46039f"
             ],
             [
              0.2222222222222222,
              "#7201a8"
             ],
             [
              0.3333333333333333,
              "#9c179e"
             ],
             [
              0.4444444444444444,
              "#bd3786"
             ],
             [
              0.5555555555555556,
              "#d8576b"
             ],
             [
              0.6666666666666666,
              "#ed7953"
             ],
             [
              0.7777777777777778,
              "#fb9f3a"
             ],
             [
              0.8888888888888888,
              "#fdca26"
             ],
             [
              1,
              "#f0f921"
             ]
            ],
            "type": "contour"
           }
          ],
          "contourcarpet": [
           {
            "colorbar": {
             "outlinewidth": 0,
             "ticks": ""
            },
            "type": "contourcarpet"
           }
          ],
          "heatmap": [
           {
            "colorbar": {
             "outlinewidth": 0,
             "ticks": ""
            },
            "colorscale": [
             [
              0,
              "#0d0887"
             ],
             [
              0.1111111111111111,
              "#46039f"
             ],
             [
              0.2222222222222222,
              "#7201a8"
             ],
             [
              0.3333333333333333,
              "#9c179e"
             ],
             [
              0.4444444444444444,
              "#bd3786"
             ],
             [
              0.5555555555555556,
              "#d8576b"
             ],
             [
              0.6666666666666666,
              "#ed7953"
             ],
             [
              0.7777777777777778,
              "#fb9f3a"
             ],
             [
              0.8888888888888888,
              "#fdca26"
             ],
             [
              1,
              "#f0f921"
             ]
            ],
            "type": "heatmap"
           }
          ],
          "heatmapgl": [
           {
            "colorbar": {
             "outlinewidth": 0,
             "ticks": ""
            },
            "colorscale": [
             [
              0,
              "#0d0887"
             ],
             [
              0.1111111111111111,
              "#46039f"
             ],
             [
              0.2222222222222222,
              "#7201a8"
             ],
             [
              0.3333333333333333,
              "#9c179e"
             ],
             [
              0.4444444444444444,
              "#bd3786"
             ],
             [
              0.5555555555555556,
              "#d8576b"
             ],
             [
              0.6666666666666666,
              "#ed7953"
             ],
             [
              0.7777777777777778,
              "#fb9f3a"
             ],
             [
              0.8888888888888888,
              "#fdca26"
             ],
             [
              1,
              "#f0f921"
             ]
            ],
            "type": "heatmapgl"
           }
          ],
          "histogram": [
           {
            "marker": {
             "colorbar": {
              "outlinewidth": 0,
              "ticks": ""
             }
            },
            "type": "histogram"
           }
          ],
          "histogram2d": [
           {
            "colorbar": {
             "outlinewidth": 0,
             "ticks": ""
            },
            "colorscale": [
             [
              0,
              "#0d0887"
             ],
             [
              0.1111111111111111,
              "#46039f"
             ],
             [
              0.2222222222222222,
              "#7201a8"
             ],
             [
              0.3333333333333333,
              "#9c179e"
             ],
             [
              0.4444444444444444,
              "#bd3786"
             ],
             [
              0.5555555555555556,
              "#d8576b"
             ],
             [
              0.6666666666666666,
              "#ed7953"
             ],
             [
              0.7777777777777778,
              "#fb9f3a"
             ],
             [
              0.8888888888888888,
              "#fdca26"
             ],
             [
              1,
              "#f0f921"
             ]
            ],
            "type": "histogram2d"
           }
          ],
          "histogram2dcontour": [
           {
            "colorbar": {
             "outlinewidth": 0,
             "ticks": ""
            },
            "colorscale": [
             [
              0,
              "#0d0887"
             ],
             [
              0.1111111111111111,
              "#46039f"
             ],
             [
              0.2222222222222222,
              "#7201a8"
             ],
             [
              0.3333333333333333,
              "#9c179e"
             ],
             [
              0.4444444444444444,
              "#bd3786"
             ],
             [
              0.5555555555555556,
              "#d8576b"
             ],
             [
              0.6666666666666666,
              "#ed7953"
             ],
             [
              0.7777777777777778,
              "#fb9f3a"
             ],
             [
              0.8888888888888888,
              "#fdca26"
             ],
             [
              1,
              "#f0f921"
             ]
            ],
            "type": "histogram2dcontour"
           }
          ],
          "mesh3d": [
           {
            "colorbar": {
             "outlinewidth": 0,
             "ticks": ""
            },
            "type": "mesh3d"
           }
          ],
          "parcoords": [
           {
            "line": {
             "colorbar": {
              "outlinewidth": 0,
              "ticks": ""
             }
            },
            "type": "parcoords"
           }
          ],
          "pie": [
           {
            "automargin": true,
            "type": "pie"
           }
          ],
          "scatter": [
           {
            "marker": {
             "colorbar": {
              "outlinewidth": 0,
              "ticks": ""
             }
            },
            "type": "scatter"
           }
          ],
          "scatter3d": [
           {
            "line": {
             "colorbar": {
              "outlinewidth": 0,
              "ticks": ""
             }
            },
            "marker": {
             "colorbar": {
              "outlinewidth": 0,
              "ticks": ""
             }
            },
            "type": "scatter3d"
           }
          ],
          "scattercarpet": [
           {
            "marker": {
             "colorbar": {
              "outlinewidth": 0,
              "ticks": ""
             }
            },
            "type": "scattercarpet"
           }
          ],
          "scattergeo": [
           {
            "marker": {
             "colorbar": {
              "outlinewidth": 0,
              "ticks": ""
             }
            },
            "type": "scattergeo"
           }
          ],
          "scattergl": [
           {
            "marker": {
             "colorbar": {
              "outlinewidth": 0,
              "ticks": ""
             }
            },
            "type": "scattergl"
           }
          ],
          "scattermapbox": [
           {
            "marker": {
             "colorbar": {
              "outlinewidth": 0,
              "ticks": ""
             }
            },
            "type": "scattermapbox"
           }
          ],
          "scatterpolar": [
           {
            "marker": {
             "colorbar": {
              "outlinewidth": 0,
              "ticks": ""
             }
            },
            "type": "scatterpolar"
           }
          ],
          "scatterpolargl": [
           {
            "marker": {
             "colorbar": {
              "outlinewidth": 0,
              "ticks": ""
             }
            },
            "type": "scatterpolargl"
           }
          ],
          "scatterternary": [
           {
            "marker": {
             "colorbar": {
              "outlinewidth": 0,
              "ticks": ""
             }
            },
            "type": "scatterternary"
           }
          ],
          "surface": [
           {
            "colorbar": {
             "outlinewidth": 0,
             "ticks": ""
            },
            "colorscale": [
             [
              0,
              "#0d0887"
             ],
             [
              0.1111111111111111,
              "#46039f"
             ],
             [
              0.2222222222222222,
              "#7201a8"
             ],
             [
              0.3333333333333333,
              "#9c179e"
             ],
             [
              0.4444444444444444,
              "#bd3786"
             ],
             [
              0.5555555555555556,
              "#d8576b"
             ],
             [
              0.6666666666666666,
              "#ed7953"
             ],
             [
              0.7777777777777778,
              "#fb9f3a"
             ],
             [
              0.8888888888888888,
              "#fdca26"
             ],
             [
              1,
              "#f0f921"
             ]
            ],
            "type": "surface"
           }
          ],
          "table": [
           {
            "cells": {
             "fill": {
              "color": "#EBF0F8"
             },
             "line": {
              "color": "white"
             }
            },
            "header": {
             "fill": {
              "color": "#C8D4E3"
             },
             "line": {
              "color": "white"
             }
            },
            "type": "table"
           }
          ]
         },
         "layout": {
          "annotationdefaults": {
           "arrowcolor": "#2a3f5f",
           "arrowhead": 0,
           "arrowwidth": 1
          },
          "autotypenumbers": "strict",
          "coloraxis": {
           "colorbar": {
            "outlinewidth": 0,
            "ticks": ""
           }
          },
          "colorscale": {
           "diverging": [
            [
             0,
             "#8e0152"
            ],
            [
             0.1,
             "#c51b7d"
            ],
            [
             0.2,
             "#de77ae"
            ],
            [
             0.3,
             "#f1b6da"
            ],
            [
             0.4,
             "#fde0ef"
            ],
            [
             0.5,
             "#f7f7f7"
            ],
            [
             0.6,
             "#e6f5d0"
            ],
            [
             0.7,
             "#b8e186"
            ],
            [
             0.8,
             "#7fbc41"
            ],
            [
             0.9,
             "#4d9221"
            ],
            [
             1,
             "#276419"
            ]
           ],
           "sequential": [
            [
             0,
             "#0d0887"
            ],
            [
             0.1111111111111111,
             "#46039f"
            ],
            [
             0.2222222222222222,
             "#7201a8"
            ],
            [
             0.3333333333333333,
             "#9c179e"
            ],
            [
             0.4444444444444444,
             "#bd3786"
            ],
            [
             0.5555555555555556,
             "#d8576b"
            ],
            [
             0.6666666666666666,
             "#ed7953"
            ],
            [
             0.7777777777777778,
             "#fb9f3a"
            ],
            [
             0.8888888888888888,
             "#fdca26"
            ],
            [
             1,
             "#f0f921"
            ]
           ],
           "sequentialminus": [
            [
             0,
             "#0d0887"
            ],
            [
             0.1111111111111111,
             "#46039f"
            ],
            [
             0.2222222222222222,
             "#7201a8"
            ],
            [
             0.3333333333333333,
             "#9c179e"
            ],
            [
             0.4444444444444444,
             "#bd3786"
            ],
            [
             0.5555555555555556,
             "#d8576b"
            ],
            [
             0.6666666666666666,
             "#ed7953"
            ],
            [
             0.7777777777777778,
             "#fb9f3a"
            ],
            [
             0.8888888888888888,
             "#fdca26"
            ],
            [
             1,
             "#f0f921"
            ]
           ]
          },
          "colorway": [
           "#636efa",
           "#EF553B",
           "#00cc96",
           "#ab63fa",
           "#FFA15A",
           "#19d3f3",
           "#FF6692",
           "#B6E880",
           "#FF97FF",
           "#FECB52"
          ],
          "font": {
           "color": "#2a3f5f"
          },
          "geo": {
           "bgcolor": "white",
           "lakecolor": "white",
           "landcolor": "#E5ECF6",
           "showlakes": true,
           "showland": true,
           "subunitcolor": "white"
          },
          "hoverlabel": {
           "align": "left"
          },
          "hovermode": "closest",
          "mapbox": {
           "style": "light"
          },
          "paper_bgcolor": "white",
          "plot_bgcolor": "#E5ECF6",
          "polar": {
           "angularaxis": {
            "gridcolor": "white",
            "linecolor": "white",
            "ticks": ""
           },
           "bgcolor": "#E5ECF6",
           "radialaxis": {
            "gridcolor": "white",
            "linecolor": "white",
            "ticks": ""
           }
          },
          "scene": {
           "xaxis": {
            "backgroundcolor": "#E5ECF6",
            "gridcolor": "white",
            "gridwidth": 2,
            "linecolor": "white",
            "showbackground": true,
            "ticks": "",
            "zerolinecolor": "white"
           },
           "yaxis": {
            "backgroundcolor": "#E5ECF6",
            "gridcolor": "white",
            "gridwidth": 2,
            "linecolor": "white",
            "showbackground": true,
            "ticks": "",
            "zerolinecolor": "white"
           },
           "zaxis": {
            "backgroundcolor": "#E5ECF6",
            "gridcolor": "white",
            "gridwidth": 2,
            "linecolor": "white",
            "showbackground": true,
            "ticks": "",
            "zerolinecolor": "white"
           }
          },
          "shapedefaults": {
           "line": {
            "color": "#2a3f5f"
           }
          },
          "ternary": {
           "aaxis": {
            "gridcolor": "white",
            "linecolor": "white",
            "ticks": ""
           },
           "baxis": {
            "gridcolor": "white",
            "linecolor": "white",
            "ticks": ""
           },
           "bgcolor": "#E5ECF6",
           "caxis": {
            "gridcolor": "white",
            "linecolor": "white",
            "ticks": ""
           }
          },
          "title": {
           "x": 0.05
          },
          "xaxis": {
           "automargin": true,
           "gridcolor": "white",
           "linecolor": "white",
           "ticks": "",
           "title": {
            "standoff": 15
           },
           "zerolinecolor": "white",
           "zerolinewidth": 2
          },
          "yaxis": {
           "automargin": true,
           "gridcolor": "white",
           "linecolor": "white",
           "ticks": "",
           "title": {
            "standoff": 15
           },
           "zerolinecolor": "white",
           "zerolinewidth": 2
          }
         }
        },
        "title": {
         "font": {
          "color": "#4D5663"
         }
        },
        "xaxis": {
         "gridcolor": "#E1E5ED",
         "showgrid": true,
         "tickfont": {
          "color": "#4D5663"
         },
         "title": {
          "font": {
           "color": "#4D5663"
          },
          "text": ""
         },
         "zerolinecolor": "#E1E5ED"
        },
        "yaxis": {
         "gridcolor": "#E1E5ED",
         "showgrid": true,
         "tickfont": {
          "color": "#4D5663"
         },
         "title": {
          "font": {
           "color": "#4D5663"
          },
          "text": ""
         },
         "zerolinecolor": "#E1E5ED"
        }
       }
      },
      "text/html": [
       "<div>                            <div id=\"5f1b106d-eb3c-48c0-a7a5-b06135575ae2\" class=\"plotly-graph-div\" style=\"height:525px; width:100%;\"></div>            <script type=\"text/javascript\">                require([\"plotly\"], function(Plotly) {                    window.PLOTLYENV=window.PLOTLYENV || {};\n",
       "                    window.PLOTLYENV.BASE_URL='https://plot.ly';                                    if (document.getElementById(\"5f1b106d-eb3c-48c0-a7a5-b06135575ae2\")) {                    Plotly.newPlot(                        \"5f1b106d-eb3c-48c0-a7a5-b06135575ae2\",                        [{\"marker\": {\"color\": \"rgba(255, 153, 51, 0.6)\", \"line\": {\"color\": \"rgba(255, 153, 51, 1.0)\", \"width\": 1}}, \"name\": \"None\", \"orientation\": \"v\", \"text\": \"\", \"type\": \"bar\", \"x\": [\"AAPL\", \"AMZN\", \"FB\", \"GOOG\", \"NFLX\"], \"y\": [0.6809670421144799, 0.3804172645704524, 0.2009822989420404, 0.2162475115254184, 0.24419898859992353]}],                        {\"legend\": {\"bgcolor\": \"#F5F6F9\", \"font\": {\"color\": \"#4D5663\"}}, \"paper_bgcolor\": \"#F5F6F9\", \"plot_bgcolor\": \"#F5F6F9\", \"template\": {\"data\": {\"bar\": [{\"error_x\": {\"color\": \"#2a3f5f\"}, \"error_y\": {\"color\": \"#2a3f5f\"}, \"marker\": {\"line\": {\"color\": \"#E5ECF6\", \"width\": 0.5}}, \"type\": \"bar\"}], \"barpolar\": [{\"marker\": {\"line\": {\"color\": \"#E5ECF6\", \"width\": 0.5}}, \"type\": \"barpolar\"}], \"carpet\": [{\"aaxis\": {\"endlinecolor\": \"#2a3f5f\", \"gridcolor\": \"white\", \"linecolor\": \"white\", \"minorgridcolor\": \"white\", \"startlinecolor\": \"#2a3f5f\"}, \"baxis\": {\"endlinecolor\": \"#2a3f5f\", \"gridcolor\": \"white\", \"linecolor\": \"white\", \"minorgridcolor\": \"white\", \"startlinecolor\": \"#2a3f5f\"}, \"type\": \"carpet\"}], \"choropleth\": [{\"colorbar\": {\"outlinewidth\": 0, \"ticks\": \"\"}, \"type\": \"choropleth\"}], \"contour\": [{\"colorbar\": {\"outlinewidth\": 0, \"ticks\": \"\"}, \"colorscale\": [[0.0, \"#0d0887\"], [0.1111111111111111, \"#46039f\"], [0.2222222222222222, \"#7201a8\"], [0.3333333333333333, \"#9c179e\"], [0.4444444444444444, \"#bd3786\"], [0.5555555555555556, \"#d8576b\"], [0.6666666666666666, \"#ed7953\"], [0.7777777777777778, \"#fb9f3a\"], [0.8888888888888888, \"#fdca26\"], [1.0, \"#f0f921\"]], \"type\": \"contour\"}], \"contourcarpet\": [{\"colorbar\": {\"outlinewidth\": 0, \"ticks\": \"\"}, \"type\": \"contourcarpet\"}], \"heatmap\": [{\"colorbar\": {\"outlinewidth\": 0, \"ticks\": \"\"}, \"colorscale\": [[0.0, \"#0d0887\"], [0.1111111111111111, \"#46039f\"], [0.2222222222222222, \"#7201a8\"], [0.3333333333333333, \"#9c179e\"], [0.4444444444444444, \"#bd3786\"], [0.5555555555555556, \"#d8576b\"], [0.6666666666666666, \"#ed7953\"], [0.7777777777777778, \"#fb9f3a\"], [0.8888888888888888, \"#fdca26\"], [1.0, \"#f0f921\"]], \"type\": \"heatmap\"}], \"heatmapgl\": [{\"colorbar\": {\"outlinewidth\": 0, \"ticks\": \"\"}, \"colorscale\": [[0.0, \"#0d0887\"], [0.1111111111111111, \"#46039f\"], [0.2222222222222222, \"#7201a8\"], [0.3333333333333333, \"#9c179e\"], [0.4444444444444444, \"#bd3786\"], [0.5555555555555556, \"#d8576b\"], [0.6666666666666666, \"#ed7953\"], [0.7777777777777778, \"#fb9f3a\"], [0.8888888888888888, \"#fdca26\"], [1.0, \"#f0f921\"]], \"type\": \"heatmapgl\"}], \"histogram\": [{\"marker\": {\"colorbar\": {\"outlinewidth\": 0, \"ticks\": \"\"}}, \"type\": \"histogram\"}], \"histogram2d\": [{\"colorbar\": {\"outlinewidth\": 0, \"ticks\": \"\"}, \"colorscale\": [[0.0, \"#0d0887\"], [0.1111111111111111, \"#46039f\"], [0.2222222222222222, \"#7201a8\"], [0.3333333333333333, \"#9c179e\"], [0.4444444444444444, \"#bd3786\"], [0.5555555555555556, \"#d8576b\"], [0.6666666666666666, \"#ed7953\"], [0.7777777777777778, \"#fb9f3a\"], [0.8888888888888888, \"#fdca26\"], [1.0, \"#f0f921\"]], \"type\": \"histogram2d\"}], \"histogram2dcontour\": [{\"colorbar\": {\"outlinewidth\": 0, \"ticks\": \"\"}, \"colorscale\": [[0.0, \"#0d0887\"], [0.1111111111111111, \"#46039f\"], [0.2222222222222222, \"#7201a8\"], [0.3333333333333333, \"#9c179e\"], [0.4444444444444444, \"#bd3786\"], [0.5555555555555556, \"#d8576b\"], [0.6666666666666666, \"#ed7953\"], [0.7777777777777778, \"#fb9f3a\"], [0.8888888888888888, \"#fdca26\"], [1.0, \"#f0f921\"]], \"type\": \"histogram2dcontour\"}], \"mesh3d\": [{\"colorbar\": {\"outlinewidth\": 0, \"ticks\": \"\"}, \"type\": \"mesh3d\"}], \"parcoords\": [{\"line\": {\"colorbar\": {\"outlinewidth\": 0, \"ticks\": \"\"}}, \"type\": \"parcoords\"}], \"pie\": [{\"automargin\": true, \"type\": \"pie\"}], \"scatter\": [{\"marker\": {\"colorbar\": {\"outlinewidth\": 0, \"ticks\": \"\"}}, \"type\": \"scatter\"}], \"scatter3d\": [{\"line\": {\"colorbar\": {\"outlinewidth\": 0, \"ticks\": \"\"}}, \"marker\": {\"colorbar\": {\"outlinewidth\": 0, \"ticks\": \"\"}}, \"type\": \"scatter3d\"}], \"scattercarpet\": [{\"marker\": {\"colorbar\": {\"outlinewidth\": 0, \"ticks\": \"\"}}, \"type\": \"scattercarpet\"}], \"scattergeo\": [{\"marker\": {\"colorbar\": {\"outlinewidth\": 0, \"ticks\": \"\"}}, \"type\": \"scattergeo\"}], \"scattergl\": [{\"marker\": {\"colorbar\": {\"outlinewidth\": 0, \"ticks\": \"\"}}, \"type\": \"scattergl\"}], \"scattermapbox\": [{\"marker\": {\"colorbar\": {\"outlinewidth\": 0, \"ticks\": \"\"}}, \"type\": \"scattermapbox\"}], \"scatterpolar\": [{\"marker\": {\"colorbar\": {\"outlinewidth\": 0, \"ticks\": \"\"}}, \"type\": \"scatterpolar\"}], \"scatterpolargl\": [{\"marker\": {\"colorbar\": {\"outlinewidth\": 0, \"ticks\": \"\"}}, \"type\": \"scatterpolargl\"}], \"scatterternary\": [{\"marker\": {\"colorbar\": {\"outlinewidth\": 0, \"ticks\": \"\"}}, \"type\": \"scatterternary\"}], \"surface\": [{\"colorbar\": {\"outlinewidth\": 0, \"ticks\": \"\"}, \"colorscale\": [[0.0, \"#0d0887\"], [0.1111111111111111, \"#46039f\"], [0.2222222222222222, \"#7201a8\"], [0.3333333333333333, \"#9c179e\"], [0.4444444444444444, \"#bd3786\"], [0.5555555555555556, \"#d8576b\"], [0.6666666666666666, \"#ed7953\"], [0.7777777777777778, \"#fb9f3a\"], [0.8888888888888888, \"#fdca26\"], [1.0, \"#f0f921\"]], \"type\": \"surface\"}], \"table\": [{\"cells\": {\"fill\": {\"color\": \"#EBF0F8\"}, \"line\": {\"color\": \"white\"}}, \"header\": {\"fill\": {\"color\": \"#C8D4E3\"}, \"line\": {\"color\": \"white\"}}, \"type\": \"table\"}]}, \"layout\": {\"annotationdefaults\": {\"arrowcolor\": \"#2a3f5f\", \"arrowhead\": 0, \"arrowwidth\": 1}, \"autotypenumbers\": \"strict\", \"coloraxis\": {\"colorbar\": {\"outlinewidth\": 0, \"ticks\": \"\"}}, \"colorscale\": {\"diverging\": [[0, \"#8e0152\"], [0.1, \"#c51b7d\"], [0.2, \"#de77ae\"], [0.3, \"#f1b6da\"], [0.4, \"#fde0ef\"], [0.5, \"#f7f7f7\"], [0.6, \"#e6f5d0\"], [0.7, \"#b8e186\"], [0.8, \"#7fbc41\"], [0.9, \"#4d9221\"], [1, \"#276419\"]], \"sequential\": [[0.0, \"#0d0887\"], [0.1111111111111111, \"#46039f\"], [0.2222222222222222, \"#7201a8\"], [0.3333333333333333, \"#9c179e\"], [0.4444444444444444, \"#bd3786\"], [0.5555555555555556, \"#d8576b\"], [0.6666666666666666, \"#ed7953\"], [0.7777777777777778, \"#fb9f3a\"], [0.8888888888888888, \"#fdca26\"], [1.0, \"#f0f921\"]], \"sequentialminus\": [[0.0, \"#0d0887\"], [0.1111111111111111, \"#46039f\"], [0.2222222222222222, \"#7201a8\"], [0.3333333333333333, \"#9c179e\"], [0.4444444444444444, \"#bd3786\"], [0.5555555555555556, \"#d8576b\"], [0.6666666666666666, \"#ed7953\"], [0.7777777777777778, \"#fb9f3a\"], [0.8888888888888888, \"#fdca26\"], [1.0, \"#f0f921\"]]}, \"colorway\": [\"#636efa\", \"#EF553B\", \"#00cc96\", \"#ab63fa\", \"#FFA15A\", \"#19d3f3\", \"#FF6692\", \"#B6E880\", \"#FF97FF\", \"#FECB52\"], \"font\": {\"color\": \"#2a3f5f\"}, \"geo\": {\"bgcolor\": \"white\", \"lakecolor\": \"white\", \"landcolor\": \"#E5ECF6\", \"showlakes\": true, \"showland\": true, \"subunitcolor\": \"white\"}, \"hoverlabel\": {\"align\": \"left\"}, \"hovermode\": \"closest\", \"mapbox\": {\"style\": \"light\"}, \"paper_bgcolor\": \"white\", \"plot_bgcolor\": \"#E5ECF6\", \"polar\": {\"angularaxis\": {\"gridcolor\": \"white\", \"linecolor\": \"white\", \"ticks\": \"\"}, \"bgcolor\": \"#E5ECF6\", \"radialaxis\": {\"gridcolor\": \"white\", \"linecolor\": \"white\", \"ticks\": \"\"}}, \"scene\": {\"xaxis\": {\"backgroundcolor\": \"#E5ECF6\", \"gridcolor\": \"white\", \"gridwidth\": 2, \"linecolor\": \"white\", \"showbackground\": true, \"ticks\": \"\", \"zerolinecolor\": \"white\"}, \"yaxis\": {\"backgroundcolor\": \"#E5ECF6\", \"gridcolor\": \"white\", \"gridwidth\": 2, \"linecolor\": \"white\", \"showbackground\": true, \"ticks\": \"\", \"zerolinecolor\": \"white\"}, \"zaxis\": {\"backgroundcolor\": \"#E5ECF6\", \"gridcolor\": \"white\", \"gridwidth\": 2, \"linecolor\": \"white\", \"showbackground\": true, \"ticks\": \"\", \"zerolinecolor\": \"white\"}}, \"shapedefaults\": {\"line\": {\"color\": \"#2a3f5f\"}}, \"ternary\": {\"aaxis\": {\"gridcolor\": \"white\", \"linecolor\": \"white\", \"ticks\": \"\"}, \"baxis\": {\"gridcolor\": \"white\", \"linecolor\": \"white\", \"ticks\": \"\"}, \"bgcolor\": \"#E5ECF6\", \"caxis\": {\"gridcolor\": \"white\", \"linecolor\": \"white\", \"ticks\": \"\"}}, \"title\": {\"x\": 0.05}, \"xaxis\": {\"automargin\": true, \"gridcolor\": \"white\", \"linecolor\": \"white\", \"ticks\": \"\", \"title\": {\"standoff\": 15}, \"zerolinecolor\": \"white\", \"zerolinewidth\": 2}, \"yaxis\": {\"automargin\": true, \"gridcolor\": \"white\", \"linecolor\": \"white\", \"ticks\": \"\", \"title\": {\"standoff\": 15}, \"zerolinecolor\": \"white\", \"zerolinewidth\": 2}}}, \"title\": {\"font\": {\"color\": \"#4D5663\"}}, \"xaxis\": {\"gridcolor\": \"#E1E5ED\", \"showgrid\": true, \"tickfont\": {\"color\": \"#4D5663\"}, \"title\": {\"font\": {\"color\": \"#4D5663\"}, \"text\": \"\"}, \"zerolinecolor\": \"#E1E5ED\"}, \"yaxis\": {\"gridcolor\": \"#E1E5ED\", \"showgrid\": true, \"tickfont\": {\"color\": \"#4D5663\"}, \"title\": {\"font\": {\"color\": \"#4D5663\"}, \"text\": \"\"}, \"zerolinecolor\": \"#E1E5ED\"}},                        {\"showLink\": true, \"linkText\": \"Export to plot.ly\", \"plotlyServerURL\": \"https://plot.ly\", \"responsive\": true}                    ).then(function(){\n",
       "                            \n",
       "var gd = document.getElementById('5f1b106d-eb3c-48c0-a7a5-b06135575ae2');\n",
       "var x = new MutationObserver(function (mutations, observer) {{\n",
       "        var display = window.getComputedStyle(gd).display;\n",
       "        if (!display || display === 'none') {{\n",
       "            console.log([gd, 'removed!']);\n",
       "            Plotly.purge(gd);\n",
       "            observer.disconnect();\n",
       "        }}\n",
       "}});\n",
       "\n",
       "// Listen for the removal of the full notebook cells\n",
       "var notebookContainer = gd.closest('#notebook-container');\n",
       "if (notebookContainer) {{\n",
       "    x.observe(notebookContainer, {childList: true});\n",
       "}}\n",
       "\n",
       "// Listen for the clearing of the current output cell\n",
       "var outputEl = gd.closest('.output');\n",
       "if (outputEl) {{\n",
       "    x.observe(outputEl, {childList: true});\n",
       "}}\n",
       "\n",
       "                        })                };                });            </script>        </div>"
      ]
     },
     "metadata": {},
     "output_type": "display_data"
    }
   ],
   "source": [
    "\n",
    "# Mean Annual Returns\n",
    "(daily_returns.mean()*252).iplot(kind='bar')\n",
    "\n"
   ]
  },
  {
   "cell_type": "markdown",
   "metadata": {},
   "source": [
    "\n",
    "<h3 id=\"Rolling-Returns\">Rolling Returns<a class=\"anchor-link\" href=\"#Rolling-Returns\">¶</a></h3>\n"
   ]
  },
  {
   "cell_type": "code",
   "execution_count": 83,
   "metadata": {},
   "outputs": [
    {
     "data": {
      "text/html": [
       "<div>\n",
       "<style scoped>\n",
       "    .dataframe tbody tr th:only-of-type {\n",
       "        vertical-align: middle;\n",
       "    }\n",
       "\n",
       "    .dataframe tbody tr th {\n",
       "        vertical-align: top;\n",
       "    }\n",
       "\n",
       "    .dataframe thead th {\n",
       "        text-align: right;\n",
       "    }\n",
       "</style>\n",
       "<table border=\"1\" class=\"dataframe\">\n",
       "  <thead>\n",
       "    <tr style=\"text-align: right;\">\n",
       "      <th></th>\n",
       "      <th>AAPL</th>\n",
       "      <th>AMZN</th>\n",
       "      <th>FB</th>\n",
       "      <th>GOOG</th>\n",
       "      <th>NFLX</th>\n",
       "    </tr>\n",
       "    <tr>\n",
       "      <th>Date</th>\n",
       "      <th></th>\n",
       "      <th></th>\n",
       "      <th></th>\n",
       "      <th></th>\n",
       "      <th></th>\n",
       "    </tr>\n",
       "  </thead>\n",
       "  <tbody>\n",
       "    <tr>\n",
       "      <th>2019-06-28</th>\n",
       "      <td>0.122677</td>\n",
       "      <td>0.064656</td>\n",
       "      <td>0.083889</td>\n",
       "      <td>-0.020801</td>\n",
       "      <td>0.067687</td>\n",
       "    </tr>\n",
       "    <tr>\n",
       "      <th>2019-07-01</th>\n",
       "      <td>0.140852</td>\n",
       "      <td>0.079625</td>\n",
       "      <td>0.083889</td>\n",
       "      <td>-0.005160</td>\n",
       "      <td>0.087312</td>\n",
       "    </tr>\n",
       "    <tr>\n",
       "      <th>2019-07-02</th>\n",
       "      <td>0.156851</td>\n",
       "      <td>0.133432</td>\n",
       "      <td>0.172219</td>\n",
       "      <td>0.069896</td>\n",
       "      <td>0.109088</td>\n",
       "    </tr>\n",
       "    <tr>\n",
       "      <th>2019-07-03</th>\n",
       "      <td>0.129173</td>\n",
       "      <td>0.114305</td>\n",
       "      <td>0.163235</td>\n",
       "      <td>0.063048</td>\n",
       "      <td>0.077087</td>\n",
       "    </tr>\n",
       "    <tr>\n",
       "      <th>2019-07-05</th>\n",
       "      <td>0.112277</td>\n",
       "      <td>0.111164</td>\n",
       "      <td>0.155178</td>\n",
       "      <td>0.082271</td>\n",
       "      <td>0.067445</td>\n",
       "    </tr>\n",
       "  </tbody>\n",
       "</table>\n",
       "</div>"
      ],
      "text/plain": [
       "                AAPL      AMZN        FB      GOOG      NFLX\n",
       "Date                                                        \n",
       "2019-06-28  0.122677  0.064656  0.083889 -0.020801  0.067687\n",
       "2019-07-01  0.140852  0.079625  0.083889 -0.005160  0.087312\n",
       "2019-07-02  0.156851  0.133432  0.172219  0.069896  0.109088\n",
       "2019-07-03  0.129173  0.114305  0.163235  0.063048  0.077087\n",
       "2019-07-05  0.112277  0.111164  0.155178  0.082271  0.067445"
      ]
     },
     "execution_count": 83,
     "metadata": {},
     "output_type": "execute_result"
    }
   ],
   "source": [
    "\n",
    "# To calculate 21 days rolling returns, simply sum daily returns for 22 days as log returns are additive\n",
    "\n",
    "rolling_return = daily_returns.rolling(21).sum().dropna()\n",
    "\n",
    "# Display the last five rows of the data frame to check the output\n",
    "rolling_return.head(5)\n",
    "\n"
   ]
  },
  {
   "cell_type": "markdown",
   "metadata": {},
   "source": [
    "\n",
    "<h3 id=\"Visualising-a-Rolling-Return-Series\">Visualising a Rolling Return Series<a class=\"anchor-link\" href=\"#Visualising-a-Rolling-Return-Series\">¶</a></h3><p>We'll now plot 21-day rolling returns of AAPL using just one line of code.</p>\n"
   ]
  },
  {
   "cell_type": "code",
   "execution_count": 84,
   "metadata": {},
   "outputs": [
    {
     "data": {
      "application/vnd.plotly.v1+json": {
       "config": {
        "linkText": "Export to plot.ly",
        "plotlyServerURL": "https://plot.ly",
        "showLink": true
       },
       "data": [
        {
         "line": {
          "color": "rgba(255, 153, 51, 1.0)",
          "dash": "solid",
          "shape": "linear",
          "width": 1.3
         },
         "mode": "lines",
         "name": "AAPL",
         "text": "",
         "type": "scatter",
         "x": [
          "2019-06-28",
          "2019-07-01",
          "2019-07-02",
          "2019-07-03",
          "2019-07-05",
          "2019-07-08",
          "2019-07-09",
          "2019-07-10",
          "2019-07-11",
          "2019-07-12",
          "2019-07-15",
          "2019-07-16",
          "2019-07-17",
          "2019-07-18",
          "2019-07-19",
          "2019-07-22",
          "2019-07-23",
          "2019-07-24",
          "2019-07-25",
          "2019-07-26",
          "2019-07-29",
          "2019-07-30",
          "2019-07-31",
          "2019-08-01",
          "2019-08-02",
          "2019-08-05",
          "2019-08-06",
          "2019-08-07",
          "2019-08-08",
          "2019-08-09",
          "2019-08-12",
          "2019-08-13",
          "2019-08-14",
          "2019-08-15",
          "2019-08-16",
          "2019-08-19",
          "2019-08-20",
          "2019-08-21",
          "2019-08-22",
          "2019-08-23",
          "2019-08-26",
          "2019-08-27",
          "2019-08-28",
          "2019-08-29",
          "2019-08-30",
          "2019-09-03",
          "2019-09-04",
          "2019-09-05",
          "2019-09-06",
          "2019-09-09",
          "2019-09-10",
          "2019-09-11",
          "2019-09-12",
          "2019-09-13",
          "2019-09-16",
          "2019-09-17",
          "2019-09-18",
          "2019-09-19",
          "2019-09-20",
          "2019-09-23",
          "2019-09-24",
          "2019-09-25",
          "2019-09-26",
          "2019-09-27",
          "2019-09-30",
          "2019-10-01",
          "2019-10-02",
          "2019-10-03",
          "2019-10-04",
          "2019-10-07",
          "2019-10-08",
          "2019-10-09",
          "2019-10-10",
          "2019-10-11",
          "2019-10-14",
          "2019-10-15",
          "2019-10-16",
          "2019-10-17",
          "2019-10-18",
          "2019-10-21",
          "2019-10-22",
          "2019-10-23",
          "2019-10-24",
          "2019-10-25",
          "2019-10-28",
          "2019-10-29",
          "2019-10-30",
          "2019-10-31",
          "2019-11-01",
          "2019-11-04",
          "2019-11-05",
          "2019-11-06",
          "2019-11-07",
          "2019-11-08",
          "2019-11-11",
          "2019-11-12",
          "2019-11-13",
          "2019-11-14",
          "2019-11-15",
          "2019-11-18",
          "2019-11-19",
          "2019-11-20",
          "2019-11-21",
          "2019-11-22",
          "2019-11-25",
          "2019-11-26",
          "2019-11-27",
          "2019-11-29",
          "2019-12-02",
          "2019-12-03",
          "2019-12-04",
          "2019-12-05",
          "2019-12-06",
          "2019-12-09",
          "2019-12-10",
          "2019-12-11",
          "2019-12-12",
          "2019-12-13",
          "2019-12-16",
          "2019-12-17",
          "2019-12-18",
          "2019-12-19",
          "2019-12-20",
          "2019-12-23",
          "2019-12-24",
          "2019-12-26",
          "2019-12-27",
          "2019-12-30",
          "2019-12-31",
          "2020-01-02",
          "2020-01-03",
          "2020-01-06",
          "2020-01-07",
          "2020-01-08",
          "2020-01-09",
          "2020-01-10",
          "2020-01-13",
          "2020-01-14",
          "2020-01-15",
          "2020-01-16",
          "2020-01-17",
          "2020-01-21",
          "2020-01-22",
          "2020-01-23",
          "2020-01-24",
          "2020-01-27",
          "2020-01-28",
          "2020-01-29",
          "2020-01-30",
          "2020-01-31",
          "2020-02-03",
          "2020-02-04",
          "2020-02-05",
          "2020-02-06",
          "2020-02-07",
          "2020-02-10",
          "2020-02-11",
          "2020-02-12",
          "2020-02-13",
          "2020-02-14",
          "2020-02-18",
          "2020-02-19",
          "2020-02-20",
          "2020-02-21",
          "2020-02-24",
          "2020-02-25",
          "2020-02-26",
          "2020-02-27",
          "2020-02-28",
          "2020-03-02",
          "2020-03-03",
          "2020-03-04",
          "2020-03-05",
          "2020-03-06",
          "2020-03-09",
          "2020-03-10",
          "2020-03-11",
          "2020-03-12",
          "2020-03-13",
          "2020-03-16",
          "2020-03-17",
          "2020-03-18",
          "2020-03-19",
          "2020-03-20",
          "2020-03-23",
          "2020-03-24",
          "2020-03-25",
          "2020-03-26",
          "2020-03-27",
          "2020-03-30",
          "2020-03-31",
          "2020-04-01",
          "2020-04-02",
          "2020-04-03",
          "2020-04-06",
          "2020-04-07",
          "2020-04-08",
          "2020-04-09",
          "2020-04-13",
          "2020-04-14",
          "2020-04-15",
          "2020-04-16",
          "2020-04-17",
          "2020-04-20",
          "2020-04-21",
          "2020-04-22",
          "2020-04-23",
          "2020-04-24",
          "2020-04-27",
          "2020-04-28",
          "2020-04-29",
          "2020-04-30",
          "2020-05-01",
          "2020-05-04",
          "2020-05-05",
          "2020-05-06",
          "2020-05-07",
          "2020-05-08",
          "2020-05-11",
          "2020-05-12",
          "2020-05-13",
          "2020-05-14",
          "2020-05-15",
          "2020-05-18",
          "2020-05-19",
          "2020-05-20",
          "2020-05-21",
          "2020-05-22",
          "2020-05-26",
          "2020-05-27",
          "2020-05-28",
          "2020-05-29",
          "2020-06-01",
          "2020-06-02",
          "2020-06-03",
          "2020-06-04",
          "2020-06-05",
          "2020-06-08",
          "2020-06-09",
          "2020-06-10",
          "2020-06-11",
          "2020-06-12",
          "2020-06-15",
          "2020-06-16",
          "2020-06-17",
          "2020-06-18",
          "2020-06-19",
          "2020-06-22",
          "2020-06-23",
          "2020-06-24",
          "2020-06-25",
          "2020-06-26",
          "2020-06-29"
         ],
         "y": [
          0.12267709311589448,
          0.14085169377184448,
          0.15685072781967024,
          0.1291728021395393,
          0.11227746732370081,
          0.07687299642152778,
          0.056685045660894495,
          0.053826788059025965,
          0.03500464630424771,
          0.04584568972936154,
          0.0554028540746323,
          0.059225864637683756,
          0.04763765218799154,
          0.03568716292294738,
          0.023574053840385023,
          0.038167313188090635,
          0.049369804120408034,
          0.04956215878711889,
          0.05689704140195717,
          0.03897040099491056,
          0.04856590547258044,
          0.05341807019476352,
          0.055442425825819264,
          0.027728318642387784,
          -0.001909697733885718,
          -0.054796659072926523,
          -0.015213534640567516,
          -0.010992615921834759,
          0.0009835436711642664,
          1.8125831983795138e-05,
          -0.010176140558995517,
          0.021949078153025603,
          -0.004801907655817228,
          -0.0041566144059626,
          0.007868343502023478,
          0.04138086365188709,
          0.018831687436144495,
          0.021824534797939332,
          0.02179176708567887,
          -0.017592138542732005,
          -0.0022430620535374146,
          -0.022886267590518816,
          -0.011896749570574627,
          -0.015305672058421482,
          0.00527856001293836,
          0.011992989530325904,
          0.0825850638360901,
          0.0831943972736564,
          0.07279849881112099,
          0.05524044884437229,
          0.07525869019970832,
          0.10909962100374626,
          0.06538464343285044,
          0.07595574514150538,
          0.08619309522324814,
          0.06650386580462886,
          0.05736707773127714,
          0.04916140087872689,
          0.02365501339851228,
          0.02903869253531255,
          0.07159501442303728,
          0.06804646646568724,
          0.07422353171522156,
          0.06265751142471165,
          0.06913004828440084,
          0.07318697607282187,
          0.06247034614835334,
          0.0541048977457641,
          0.06238816415971904,
          0.06270233981959716,
          0.046659986281777144,
          0.04656830254646405,
          0.028656551146992726,
          0.05714598168098828,
          0.07535133461130217,
          0.06777348686954543,
          0.0600968246684177,
          0.054636333101167445,
          0.06758582451649797,
          0.09950603132844726,
          0.09267990240985347,
          0.11077582851596368,
          0.0971469452869016,
          0.11455908727544806,
          0.12940413121444205,
          0.08274202974691214,
          0.07985426071714397,
          0.12759941249206674,
          0.14712628007100692,
          0.12602559605956554,
          0.12436753703770176,
          0.13657934047571185,
          0.1364025466008858,
          0.12574713019247952,
          0.10738427054731936,
          0.10790876074692957,
          0.11977926197828204,
          0.11688098155746207,
          0.1248152209337805,
          0.12505330803343018,
          0.1048220637982018,
          0.09540179991969477,
          0.0775786212506917,
          0.07505679108450991,
          0.08019744672559881,
          0.06239123133561009,
          0.09913340132686876,
          0.09705158617809051,
          0.06306429868726404,
          0.017087837615857637,
          0.019329805295304148,
          0.03533206384193033,
          0.054036312886030835,
          0.02846208177829279,
          0.031556564034596946,
          0.032162021432712073,
          0.0356229046313965,
          0.03958859710168916,
          0.06350512783738083,
          0.0536590629940239,
          0.046237454817251056,
          0.05027503037144587,
          0.059911292020306206,
          0.08059148127969706,
          0.08241998718180632,
          0.08468429367250696,
          0.09214387048983408,
          0.08471887988005733,
          0.09420399197783613,
          0.12839353923338415,
          0.13661468288463663,
          0.1357638499643894,
          0.11648525581402769,
          0.11331175527247783,
          0.1484290000126327,
          0.14485958797035714,
          0.15750565303854192,
          0.1413655975363577,
          0.12356901689787314,
          0.11904482358997637,
          0.12809147772687712,
          0.12368384863753423,
          0.12624654972376081,
          0.133124225920354,
          0.11405151732986063,
          0.08325507204191851,
          0.09150553327860944,
          0.11260140903164206,
          0.10523352699444022,
          0.05260184392195644,
          0.027291822616130723,
          0.06954197840881537,
          0.06972661961151427,
          0.08606976036316905,
          0.056425501478985396,
          0.04014545370763489,
          0.03183583151985747,
          0.034166675550304504,
          0.04061536907308394,
          0.04515630431668871,
          0.014227294652653377,
          0.01759617963035609,
          0.014084056529028999,
          -0.012374163452866682,
          -0.0658440088233121,
          -0.09741698512996155,
          -0.05183169019645106,
          -0.14733082502601924,
          -0.1686323733109898,
          -0.07816377452645984,
          -0.06508656097845122,
          -0.016995543689634296,
          -0.08245080776586633,
          -0.10394114748067285,
          -0.19796543282829315,
          -0.11473329819384137,
          -0.15481948794135736,
          -0.25274573899270436,
          -0.16305847888712854,
          -0.29362003419557414,
          -0.25083533290755433,
          -0.25713967698724716,
          -0.2792101114551544,
          -0.3344885714400174,
          -0.33306640116481123,
          -0.18879500686403716,
          -0.15985982538848553,
          -0.12431369728017483,
          -0.09899495566450067,
          -0.07027141761141653,
          -0.16133259707141256,
          -0.18310999494743374,
          -0.21190201023839528,
          -0.19340274470869367,
          -0.09639379478307042,
          -0.02564828457515489,
          -0.0699220546742998,
          -0.027383826871783867,
          0.09603136163658554,
          0.032143113596801776,
          0.16068201322566278,
          0.12556542280376704,
          0.13668854280909493,
          0.12340481362638922,
          0.15759708710222942,
          0.20746656719534773,
          0.107977873778351,
          0.14196246984529193,
          0.09138385433794394,
          0.11732530822640097,
          0.12150441367164078,
          0.14442387214506258,
          0.18224554065002696,
          0.17974612045663374,
          0.20911904788180813,
          0.13574361287369108,
          0.1576850713225344,
          0.15593554903527007,
          0.16435801348663848,
          0.1334265632656768,
          0.07200985242689395,
          0.08730346738097072,
          0.07345964367229918,
          0.11040895448651611,
          0.12558906490062238,
          0.1762486383696098,
          0.14036870354557252,
          0.15066931102662728,
          0.11541210134939295,
          0.11905304254667914,
          0.1358354516018796,
          0.10254350179215965,
          0.0938897676536623,
          0.11473877840728619,
          0.10617918236729906,
          0.08263237560944159,
          0.10045089404318919,
          0.09605415852728161,
          0.10362091416209385,
          0.11341028795245034,
          0.07570318278030008,
          0.09644715462687437,
          0.10261392157830418,
          0.13470065711096968,
          0.11002016389871994,
          0.11621351425040327,
          0.09122093636922379,
          0.12453172529891887,
          0.13923413640494342,
          0.12822099761761674,
          0.13706173590099802,
          0.10541399912260019,
          0.1291736038463025
         ]
        }
       ],
       "layout": {
        "legend": {
         "bgcolor": "#F5F6F9",
         "font": {
          "color": "#4D5663"
         }
        },
        "paper_bgcolor": "#F5F6F9",
        "plot_bgcolor": "#F5F6F9",
        "template": {
         "data": {
          "bar": [
           {
            "error_x": {
             "color": "#2a3f5f"
            },
            "error_y": {
             "color": "#2a3f5f"
            },
            "marker": {
             "line": {
              "color": "#E5ECF6",
              "width": 0.5
             }
            },
            "type": "bar"
           }
          ],
          "barpolar": [
           {
            "marker": {
             "line": {
              "color": "#E5ECF6",
              "width": 0.5
             }
            },
            "type": "barpolar"
           }
          ],
          "carpet": [
           {
            "aaxis": {
             "endlinecolor": "#2a3f5f",
             "gridcolor": "white",
             "linecolor": "white",
             "minorgridcolor": "white",
             "startlinecolor": "#2a3f5f"
            },
            "baxis": {
             "endlinecolor": "#2a3f5f",
             "gridcolor": "white",
             "linecolor": "white",
             "minorgridcolor": "white",
             "startlinecolor": "#2a3f5f"
            },
            "type": "carpet"
           }
          ],
          "choropleth": [
           {
            "colorbar": {
             "outlinewidth": 0,
             "ticks": ""
            },
            "type": "choropleth"
           }
          ],
          "contour": [
           {
            "colorbar": {
             "outlinewidth": 0,
             "ticks": ""
            },
            "colorscale": [
             [
              0,
              "#0d0887"
             ],
             [
              0.1111111111111111,
              "#46039f"
             ],
             [
              0.2222222222222222,
              "#7201a8"
             ],
             [
              0.3333333333333333,
              "#9c179e"
             ],
             [
              0.4444444444444444,
              "#bd3786"
             ],
             [
              0.5555555555555556,
              "#d8576b"
             ],
             [
              0.6666666666666666,
              "#ed7953"
             ],
             [
              0.7777777777777778,
              "#fb9f3a"
             ],
             [
              0.8888888888888888,
              "#fdca26"
             ],
             [
              1,
              "#f0f921"
             ]
            ],
            "type": "contour"
           }
          ],
          "contourcarpet": [
           {
            "colorbar": {
             "outlinewidth": 0,
             "ticks": ""
            },
            "type": "contourcarpet"
           }
          ],
          "heatmap": [
           {
            "colorbar": {
             "outlinewidth": 0,
             "ticks": ""
            },
            "colorscale": [
             [
              0,
              "#0d0887"
             ],
             [
              0.1111111111111111,
              "#46039f"
             ],
             [
              0.2222222222222222,
              "#7201a8"
             ],
             [
              0.3333333333333333,
              "#9c179e"
             ],
             [
              0.4444444444444444,
              "#bd3786"
             ],
             [
              0.5555555555555556,
              "#d8576b"
             ],
             [
              0.6666666666666666,
              "#ed7953"
             ],
             [
              0.7777777777777778,
              "#fb9f3a"
             ],
             [
              0.8888888888888888,
              "#fdca26"
             ],
             [
              1,
              "#f0f921"
             ]
            ],
            "type": "heatmap"
           }
          ],
          "heatmapgl": [
           {
            "colorbar": {
             "outlinewidth": 0,
             "ticks": ""
            },
            "colorscale": [
             [
              0,
              "#0d0887"
             ],
             [
              0.1111111111111111,
              "#46039f"
             ],
             [
              0.2222222222222222,
              "#7201a8"
             ],
             [
              0.3333333333333333,
              "#9c179e"
             ],
             [
              0.4444444444444444,
              "#bd3786"
             ],
             [
              0.5555555555555556,
              "#d8576b"
             ],
             [
              0.6666666666666666,
              "#ed7953"
             ],
             [
              0.7777777777777778,
              "#fb9f3a"
             ],
             [
              0.8888888888888888,
              "#fdca26"
             ],
             [
              1,
              "#f0f921"
             ]
            ],
            "type": "heatmapgl"
           }
          ],
          "histogram": [
           {
            "marker": {
             "colorbar": {
              "outlinewidth": 0,
              "ticks": ""
             }
            },
            "type": "histogram"
           }
          ],
          "histogram2d": [
           {
            "colorbar": {
             "outlinewidth": 0,
             "ticks": ""
            },
            "colorscale": [
             [
              0,
              "#0d0887"
             ],
             [
              0.1111111111111111,
              "#46039f"
             ],
             [
              0.2222222222222222,
              "#7201a8"
             ],
             [
              0.3333333333333333,
              "#9c179e"
             ],
             [
              0.4444444444444444,
              "#bd3786"
             ],
             [
              0.5555555555555556,
              "#d8576b"
             ],
             [
              0.6666666666666666,
              "#ed7953"
             ],
             [
              0.7777777777777778,
              "#fb9f3a"
             ],
             [
              0.8888888888888888,
              "#fdca26"
             ],
             [
              1,
              "#f0f921"
             ]
            ],
            "type": "histogram2d"
           }
          ],
          "histogram2dcontour": [
           {
            "colorbar": {
             "outlinewidth": 0,
             "ticks": ""
            },
            "colorscale": [
             [
              0,
              "#0d0887"
             ],
             [
              0.1111111111111111,
              "#46039f"
             ],
             [
              0.2222222222222222,
              "#7201a8"
             ],
             [
              0.3333333333333333,
              "#9c179e"
             ],
             [
              0.4444444444444444,
              "#bd3786"
             ],
             [
              0.5555555555555556,
              "#d8576b"
             ],
             [
              0.6666666666666666,
              "#ed7953"
             ],
             [
              0.7777777777777778,
              "#fb9f3a"
             ],
             [
              0.8888888888888888,
              "#fdca26"
             ],
             [
              1,
              "#f0f921"
             ]
            ],
            "type": "histogram2dcontour"
           }
          ],
          "mesh3d": [
           {
            "colorbar": {
             "outlinewidth": 0,
             "ticks": ""
            },
            "type": "mesh3d"
           }
          ],
          "parcoords": [
           {
            "line": {
             "colorbar": {
              "outlinewidth": 0,
              "ticks": ""
             }
            },
            "type": "parcoords"
           }
          ],
          "pie": [
           {
            "automargin": true,
            "type": "pie"
           }
          ],
          "scatter": [
           {
            "marker": {
             "colorbar": {
              "outlinewidth": 0,
              "ticks": ""
             }
            },
            "type": "scatter"
           }
          ],
          "scatter3d": [
           {
            "line": {
             "colorbar": {
              "outlinewidth": 0,
              "ticks": ""
             }
            },
            "marker": {
             "colorbar": {
              "outlinewidth": 0,
              "ticks": ""
             }
            },
            "type": "scatter3d"
           }
          ],
          "scattercarpet": [
           {
            "marker": {
             "colorbar": {
              "outlinewidth": 0,
              "ticks": ""
             }
            },
            "type": "scattercarpet"
           }
          ],
          "scattergeo": [
           {
            "marker": {
             "colorbar": {
              "outlinewidth": 0,
              "ticks": ""
             }
            },
            "type": "scattergeo"
           }
          ],
          "scattergl": [
           {
            "marker": {
             "colorbar": {
              "outlinewidth": 0,
              "ticks": ""
             }
            },
            "type": "scattergl"
           }
          ],
          "scattermapbox": [
           {
            "marker": {
             "colorbar": {
              "outlinewidth": 0,
              "ticks": ""
             }
            },
            "type": "scattermapbox"
           }
          ],
          "scatterpolar": [
           {
            "marker": {
             "colorbar": {
              "outlinewidth": 0,
              "ticks": ""
             }
            },
            "type": "scatterpolar"
           }
          ],
          "scatterpolargl": [
           {
            "marker": {
             "colorbar": {
              "outlinewidth": 0,
              "ticks": ""
             }
            },
            "type": "scatterpolargl"
           }
          ],
          "scatterternary": [
           {
            "marker": {
             "colorbar": {
              "outlinewidth": 0,
              "ticks": ""
             }
            },
            "type": "scatterternary"
           }
          ],
          "surface": [
           {
            "colorbar": {
             "outlinewidth": 0,
             "ticks": ""
            },
            "colorscale": [
             [
              0,
              "#0d0887"
             ],
             [
              0.1111111111111111,
              "#46039f"
             ],
             [
              0.2222222222222222,
              "#7201a8"
             ],
             [
              0.3333333333333333,
              "#9c179e"
             ],
             [
              0.4444444444444444,
              "#bd3786"
             ],
             [
              0.5555555555555556,
              "#d8576b"
             ],
             [
              0.6666666666666666,
              "#ed7953"
             ],
             [
              0.7777777777777778,
              "#fb9f3a"
             ],
             [
              0.8888888888888888,
              "#fdca26"
             ],
             [
              1,
              "#f0f921"
             ]
            ],
            "type": "surface"
           }
          ],
          "table": [
           {
            "cells": {
             "fill": {
              "color": "#EBF0F8"
             },
             "line": {
              "color": "white"
             }
            },
            "header": {
             "fill": {
              "color": "#C8D4E3"
             },
             "line": {
              "color": "white"
             }
            },
            "type": "table"
           }
          ]
         },
         "layout": {
          "annotationdefaults": {
           "arrowcolor": "#2a3f5f",
           "arrowhead": 0,
           "arrowwidth": 1
          },
          "autotypenumbers": "strict",
          "coloraxis": {
           "colorbar": {
            "outlinewidth": 0,
            "ticks": ""
           }
          },
          "colorscale": {
           "diverging": [
            [
             0,
             "#8e0152"
            ],
            [
             0.1,
             "#c51b7d"
            ],
            [
             0.2,
             "#de77ae"
            ],
            [
             0.3,
             "#f1b6da"
            ],
            [
             0.4,
             "#fde0ef"
            ],
            [
             0.5,
             "#f7f7f7"
            ],
            [
             0.6,
             "#e6f5d0"
            ],
            [
             0.7,
             "#b8e186"
            ],
            [
             0.8,
             "#7fbc41"
            ],
            [
             0.9,
             "#4d9221"
            ],
            [
             1,
             "#276419"
            ]
           ],
           "sequential": [
            [
             0,
             "#0d0887"
            ],
            [
             0.1111111111111111,
             "#46039f"
            ],
            [
             0.2222222222222222,
             "#7201a8"
            ],
            [
             0.3333333333333333,
             "#9c179e"
            ],
            [
             0.4444444444444444,
             "#bd3786"
            ],
            [
             0.5555555555555556,
             "#d8576b"
            ],
            [
             0.6666666666666666,
             "#ed7953"
            ],
            [
             0.7777777777777778,
             "#fb9f3a"
            ],
            [
             0.8888888888888888,
             "#fdca26"
            ],
            [
             1,
             "#f0f921"
            ]
           ],
           "sequentialminus": [
            [
             0,
             "#0d0887"
            ],
            [
             0.1111111111111111,
             "#46039f"
            ],
            [
             0.2222222222222222,
             "#7201a8"
            ],
            [
             0.3333333333333333,
             "#9c179e"
            ],
            [
             0.4444444444444444,
             "#bd3786"
            ],
            [
             0.5555555555555556,
             "#d8576b"
            ],
            [
             0.6666666666666666,
             "#ed7953"
            ],
            [
             0.7777777777777778,
             "#fb9f3a"
            ],
            [
             0.8888888888888888,
             "#fdca26"
            ],
            [
             1,
             "#f0f921"
            ]
           ]
          },
          "colorway": [
           "#636efa",
           "#EF553B",
           "#00cc96",
           "#ab63fa",
           "#FFA15A",
           "#19d3f3",
           "#FF6692",
           "#B6E880",
           "#FF97FF",
           "#FECB52"
          ],
          "font": {
           "color": "#2a3f5f"
          },
          "geo": {
           "bgcolor": "white",
           "lakecolor": "white",
           "landcolor": "#E5ECF6",
           "showlakes": true,
           "showland": true,
           "subunitcolor": "white"
          },
          "hoverlabel": {
           "align": "left"
          },
          "hovermode": "closest",
          "mapbox": {
           "style": "light"
          },
          "paper_bgcolor": "white",
          "plot_bgcolor": "#E5ECF6",
          "polar": {
           "angularaxis": {
            "gridcolor": "white",
            "linecolor": "white",
            "ticks": ""
           },
           "bgcolor": "#E5ECF6",
           "radialaxis": {
            "gridcolor": "white",
            "linecolor": "white",
            "ticks": ""
           }
          },
          "scene": {
           "xaxis": {
            "backgroundcolor": "#E5ECF6",
            "gridcolor": "white",
            "gridwidth": 2,
            "linecolor": "white",
            "showbackground": true,
            "ticks": "",
            "zerolinecolor": "white"
           },
           "yaxis": {
            "backgroundcolor": "#E5ECF6",
            "gridcolor": "white",
            "gridwidth": 2,
            "linecolor": "white",
            "showbackground": true,
            "ticks": "",
            "zerolinecolor": "white"
           },
           "zaxis": {
            "backgroundcolor": "#E5ECF6",
            "gridcolor": "white",
            "gridwidth": 2,
            "linecolor": "white",
            "showbackground": true,
            "ticks": "",
            "zerolinecolor": "white"
           }
          },
          "shapedefaults": {
           "line": {
            "color": "#2a3f5f"
           }
          },
          "ternary": {
           "aaxis": {
            "gridcolor": "white",
            "linecolor": "white",
            "ticks": ""
           },
           "baxis": {
            "gridcolor": "white",
            "linecolor": "white",
            "ticks": ""
           },
           "bgcolor": "#E5ECF6",
           "caxis": {
            "gridcolor": "white",
            "linecolor": "white",
            "ticks": ""
           }
          },
          "title": {
           "x": 0.05
          },
          "xaxis": {
           "automargin": true,
           "gridcolor": "white",
           "linecolor": "white",
           "ticks": "",
           "title": {
            "standoff": 15
           },
           "zerolinecolor": "white",
           "zerolinewidth": 2
          },
          "yaxis": {
           "automargin": true,
           "gridcolor": "white",
           "linecolor": "white",
           "ticks": "",
           "title": {
            "standoff": 15
           },
           "zerolinecolor": "white",
           "zerolinewidth": 2
          }
         }
        },
        "title": {
         "font": {
          "color": "#4D5663"
         },
         "text": "21-Days Rolling Returns of Apple"
        },
        "xaxis": {
         "gridcolor": "#E1E5ED",
         "showgrid": true,
         "tickfont": {
          "color": "#4D5663"
         },
         "title": {
          "font": {
           "color": "#4D5663"
          },
          "text": ""
         },
         "zerolinecolor": "#E1E5ED"
        },
        "yaxis": {
         "gridcolor": "#E1E5ED",
         "showgrid": true,
         "tickfont": {
          "color": "#4D5663"
         },
         "title": {
          "font": {
           "color": "#4D5663"
          },
          "text": ""
         },
         "zerolinecolor": "#E1E5ED"
        }
       }
      },
      "text/html": [
       "<div>                            <div id=\"ea3f98b8-f954-4c38-8f0c-2bfa442b3552\" class=\"plotly-graph-div\" style=\"height:525px; width:100%;\"></div>            <script type=\"text/javascript\">                require([\"plotly\"], function(Plotly) {                    window.PLOTLYENV=window.PLOTLYENV || {};\n",
       "                    window.PLOTLYENV.BASE_URL='https://plot.ly';                                    if (document.getElementById(\"ea3f98b8-f954-4c38-8f0c-2bfa442b3552\")) {                    Plotly.newPlot(                        \"ea3f98b8-f954-4c38-8f0c-2bfa442b3552\",                        [{\"line\": {\"color\": \"rgba(255, 153, 51, 1.0)\", \"dash\": \"solid\", \"shape\": \"linear\", \"width\": 1.3}, \"mode\": \"lines\", \"name\": \"AAPL\", \"text\": \"\", \"type\": \"scatter\", \"x\": [\"2019-06-28\", \"2019-07-01\", \"2019-07-02\", \"2019-07-03\", \"2019-07-05\", \"2019-07-08\", \"2019-07-09\", \"2019-07-10\", \"2019-07-11\", \"2019-07-12\", \"2019-07-15\", \"2019-07-16\", \"2019-07-17\", \"2019-07-18\", \"2019-07-19\", \"2019-07-22\", \"2019-07-23\", \"2019-07-24\", \"2019-07-25\", \"2019-07-26\", \"2019-07-29\", \"2019-07-30\", \"2019-07-31\", \"2019-08-01\", \"2019-08-02\", \"2019-08-05\", \"2019-08-06\", \"2019-08-07\", \"2019-08-08\", \"2019-08-09\", \"2019-08-12\", \"2019-08-13\", \"2019-08-14\", \"2019-08-15\", \"2019-08-16\", \"2019-08-19\", \"2019-08-20\", \"2019-08-21\", \"2019-08-22\", \"2019-08-23\", \"2019-08-26\", \"2019-08-27\", \"2019-08-28\", \"2019-08-29\", \"2019-08-30\", \"2019-09-03\", \"2019-09-04\", \"2019-09-05\", \"2019-09-06\", \"2019-09-09\", \"2019-09-10\", \"2019-09-11\", \"2019-09-12\", \"2019-09-13\", \"2019-09-16\", \"2019-09-17\", \"2019-09-18\", \"2019-09-19\", \"2019-09-20\", \"2019-09-23\", \"2019-09-24\", \"2019-09-25\", \"2019-09-26\", \"2019-09-27\", \"2019-09-30\", \"2019-10-01\", \"2019-10-02\", \"2019-10-03\", \"2019-10-04\", \"2019-10-07\", \"2019-10-08\", \"2019-10-09\", \"2019-10-10\", \"2019-10-11\", \"2019-10-14\", \"2019-10-15\", \"2019-10-16\", \"2019-10-17\", \"2019-10-18\", \"2019-10-21\", \"2019-10-22\", \"2019-10-23\", \"2019-10-24\", \"2019-10-25\", \"2019-10-28\", \"2019-10-29\", \"2019-10-30\", \"2019-10-31\", \"2019-11-01\", \"2019-11-04\", \"2019-11-05\", \"2019-11-06\", \"2019-11-07\", \"2019-11-08\", \"2019-11-11\", \"2019-11-12\", \"2019-11-13\", \"2019-11-14\", \"2019-11-15\", \"2019-11-18\", \"2019-11-19\", \"2019-11-20\", \"2019-11-21\", \"2019-11-22\", \"2019-11-25\", \"2019-11-26\", \"2019-11-27\", \"2019-11-29\", \"2019-12-02\", \"2019-12-03\", \"2019-12-04\", \"2019-12-05\", \"2019-12-06\", \"2019-12-09\", \"2019-12-10\", \"2019-12-11\", \"2019-12-12\", \"2019-12-13\", \"2019-12-16\", \"2019-12-17\", \"2019-12-18\", \"2019-12-19\", \"2019-12-20\", \"2019-12-23\", \"2019-12-24\", \"2019-12-26\", \"2019-12-27\", \"2019-12-30\", \"2019-12-31\", \"2020-01-02\", \"2020-01-03\", \"2020-01-06\", \"2020-01-07\", \"2020-01-08\", \"2020-01-09\", \"2020-01-10\", \"2020-01-13\", \"2020-01-14\", \"2020-01-15\", \"2020-01-16\", \"2020-01-17\", \"2020-01-21\", \"2020-01-22\", \"2020-01-23\", \"2020-01-24\", \"2020-01-27\", \"2020-01-28\", \"2020-01-29\", \"2020-01-30\", \"2020-01-31\", \"2020-02-03\", \"2020-02-04\", \"2020-02-05\", \"2020-02-06\", \"2020-02-07\", \"2020-02-10\", \"2020-02-11\", \"2020-02-12\", \"2020-02-13\", \"2020-02-14\", \"2020-02-18\", \"2020-02-19\", \"2020-02-20\", \"2020-02-21\", \"2020-02-24\", \"2020-02-25\", \"2020-02-26\", \"2020-02-27\", \"2020-02-28\", \"2020-03-02\", \"2020-03-03\", \"2020-03-04\", \"2020-03-05\", \"2020-03-06\", \"2020-03-09\", \"2020-03-10\", \"2020-03-11\", \"2020-03-12\", \"2020-03-13\", \"2020-03-16\", \"2020-03-17\", \"2020-03-18\", \"2020-03-19\", \"2020-03-20\", \"2020-03-23\", \"2020-03-24\", \"2020-03-25\", \"2020-03-26\", \"2020-03-27\", \"2020-03-30\", \"2020-03-31\", \"2020-04-01\", \"2020-04-02\", \"2020-04-03\", \"2020-04-06\", \"2020-04-07\", \"2020-04-08\", \"2020-04-09\", \"2020-04-13\", \"2020-04-14\", \"2020-04-15\", \"2020-04-16\", \"2020-04-17\", \"2020-04-20\", \"2020-04-21\", \"2020-04-22\", \"2020-04-23\", \"2020-04-24\", \"2020-04-27\", \"2020-04-28\", \"2020-04-29\", \"2020-04-30\", \"2020-05-01\", \"2020-05-04\", \"2020-05-05\", \"2020-05-06\", \"2020-05-07\", \"2020-05-08\", \"2020-05-11\", \"2020-05-12\", \"2020-05-13\", \"2020-05-14\", \"2020-05-15\", \"2020-05-18\", \"2020-05-19\", \"2020-05-20\", \"2020-05-21\", \"2020-05-22\", \"2020-05-26\", \"2020-05-27\", \"2020-05-28\", \"2020-05-29\", \"2020-06-01\", \"2020-06-02\", \"2020-06-03\", \"2020-06-04\", \"2020-06-05\", \"2020-06-08\", \"2020-06-09\", \"2020-06-10\", \"2020-06-11\", \"2020-06-12\", \"2020-06-15\", \"2020-06-16\", \"2020-06-17\", \"2020-06-18\", \"2020-06-19\", \"2020-06-22\", \"2020-06-23\", \"2020-06-24\", \"2020-06-25\", \"2020-06-26\", \"2020-06-29\"], \"y\": [0.12267709311589448, 0.14085169377184448, 0.15685072781967024, 0.1291728021395393, 0.11227746732370081, 0.07687299642152778, 0.056685045660894495, 0.053826788059025965, 0.03500464630424771, 0.04584568972936154, 0.0554028540746323, 0.059225864637683756, 0.04763765218799154, 0.03568716292294738, 0.023574053840385023, 0.038167313188090635, 0.049369804120408034, 0.04956215878711889, 0.05689704140195717, 0.03897040099491056, 0.04856590547258044, 0.05341807019476352, 0.055442425825819264, 0.027728318642387784, -0.001909697733885718, -0.054796659072926523, -0.015213534640567516, -0.010992615921834759, 0.0009835436711642664, 1.8125831983795138e-05, -0.010176140558995517, 0.021949078153025603, -0.004801907655817228, -0.0041566144059626, 0.007868343502023478, 0.04138086365188709, 0.018831687436144495, 0.021824534797939332, 0.02179176708567887, -0.017592138542732005, -0.0022430620535374146, -0.022886267590518816, -0.011896749570574627, -0.015305672058421482, 0.00527856001293836, 0.011992989530325904, 0.0825850638360901, 0.0831943972736564, 0.07279849881112099, 0.05524044884437229, 0.07525869019970832, 0.10909962100374626, 0.06538464343285044, 0.07595574514150538, 0.08619309522324814, 0.06650386580462886, 0.05736707773127714, 0.04916140087872689, 0.02365501339851228, 0.02903869253531255, 0.07159501442303728, 0.06804646646568724, 0.07422353171522156, 0.06265751142471165, 0.06913004828440084, 0.07318697607282187, 0.06247034614835334, 0.0541048977457641, 0.06238816415971904, 0.06270233981959716, 0.046659986281777144, 0.04656830254646405, 0.028656551146992726, 0.05714598168098828, 0.07535133461130217, 0.06777348686954543, 0.0600968246684177, 0.054636333101167445, 0.06758582451649797, 0.09950603132844726, 0.09267990240985347, 0.11077582851596368, 0.0971469452869016, 0.11455908727544806, 0.12940413121444205, 0.08274202974691214, 0.07985426071714397, 0.12759941249206674, 0.14712628007100692, 0.12602559605956554, 0.12436753703770176, 0.13657934047571185, 0.1364025466008858, 0.12574713019247952, 0.10738427054731936, 0.10790876074692957, 0.11977926197828204, 0.11688098155746207, 0.1248152209337805, 0.12505330803343018, 0.1048220637982018, 0.09540179991969477, 0.0775786212506917, 0.07505679108450991, 0.08019744672559881, 0.06239123133561009, 0.09913340132686876, 0.09705158617809051, 0.06306429868726404, 0.017087837615857637, 0.019329805295304148, 0.03533206384193033, 0.054036312886030835, 0.02846208177829279, 0.031556564034596946, 0.032162021432712073, 0.0356229046313965, 0.03958859710168916, 0.06350512783738083, 0.0536590629940239, 0.046237454817251056, 0.05027503037144587, 0.059911292020306206, 0.08059148127969706, 0.08241998718180632, 0.08468429367250696, 0.09214387048983408, 0.08471887988005733, 0.09420399197783613, 0.12839353923338415, 0.13661468288463663, 0.1357638499643894, 0.11648525581402769, 0.11331175527247783, 0.1484290000126327, 0.14485958797035714, 0.15750565303854192, 0.1413655975363577, 0.12356901689787314, 0.11904482358997637, 0.12809147772687712, 0.12368384863753423, 0.12624654972376081, 0.133124225920354, 0.11405151732986063, 0.08325507204191851, 0.09150553327860944, 0.11260140903164206, 0.10523352699444022, 0.05260184392195644, 0.027291822616130723, 0.06954197840881537, 0.06972661961151427, 0.08606976036316905, 0.056425501478985396, 0.04014545370763489, 0.03183583151985747, 0.034166675550304504, 0.04061536907308394, 0.04515630431668871, 0.014227294652653377, 0.01759617963035609, 0.014084056529028999, -0.012374163452866682, -0.0658440088233121, -0.09741698512996155, -0.05183169019645106, -0.14733082502601924, -0.1686323733109898, -0.07816377452645984, -0.06508656097845122, -0.016995543689634296, -0.08245080776586633, -0.10394114748067285, -0.19796543282829315, -0.11473329819384137, -0.15481948794135736, -0.25274573899270436, -0.16305847888712854, -0.29362003419557414, -0.25083533290755433, -0.25713967698724716, -0.2792101114551544, -0.3344885714400174, -0.33306640116481123, -0.18879500686403716, -0.15985982538848553, -0.12431369728017483, -0.09899495566450067, -0.07027141761141653, -0.16133259707141256, -0.18310999494743374, -0.21190201023839528, -0.19340274470869367, -0.09639379478307042, -0.02564828457515489, -0.0699220546742998, -0.027383826871783867, 0.09603136163658554, 0.032143113596801776, 0.16068201322566278, 0.12556542280376704, 0.13668854280909493, 0.12340481362638922, 0.15759708710222942, 0.20746656719534773, 0.107977873778351, 0.14196246984529193, 0.09138385433794394, 0.11732530822640097, 0.12150441367164078, 0.14442387214506258, 0.18224554065002696, 0.17974612045663374, 0.20911904788180813, 0.13574361287369108, 0.1576850713225344, 0.15593554903527007, 0.16435801348663848, 0.1334265632656768, 0.07200985242689395, 0.08730346738097072, 0.07345964367229918, 0.11040895448651611, 0.12558906490062238, 0.1762486383696098, 0.14036870354557252, 0.15066931102662728, 0.11541210134939295, 0.11905304254667914, 0.1358354516018796, 0.10254350179215965, 0.0938897676536623, 0.11473877840728619, 0.10617918236729906, 0.08263237560944159, 0.10045089404318919, 0.09605415852728161, 0.10362091416209385, 0.11341028795245034, 0.07570318278030008, 0.09644715462687437, 0.10261392157830418, 0.13470065711096968, 0.11002016389871994, 0.11621351425040327, 0.09122093636922379, 0.12453172529891887, 0.13923413640494342, 0.12822099761761674, 0.13706173590099802, 0.10541399912260019, 0.1291736038463025]}],                        {\"legend\": {\"bgcolor\": \"#F5F6F9\", \"font\": {\"color\": \"#4D5663\"}}, \"paper_bgcolor\": \"#F5F6F9\", \"plot_bgcolor\": \"#F5F6F9\", \"template\": {\"data\": {\"bar\": [{\"error_x\": {\"color\": \"#2a3f5f\"}, \"error_y\": {\"color\": \"#2a3f5f\"}, \"marker\": {\"line\": {\"color\": \"#E5ECF6\", \"width\": 0.5}}, \"type\": \"bar\"}], \"barpolar\": [{\"marker\": {\"line\": {\"color\": \"#E5ECF6\", \"width\": 0.5}}, \"type\": \"barpolar\"}], \"carpet\": [{\"aaxis\": {\"endlinecolor\": \"#2a3f5f\", \"gridcolor\": \"white\", \"linecolor\": \"white\", \"minorgridcolor\": \"white\", \"startlinecolor\": \"#2a3f5f\"}, \"baxis\": {\"endlinecolor\": \"#2a3f5f\", \"gridcolor\": \"white\", \"linecolor\": \"white\", \"minorgridcolor\": \"white\", \"startlinecolor\": \"#2a3f5f\"}, \"type\": \"carpet\"}], \"choropleth\": [{\"colorbar\": {\"outlinewidth\": 0, \"ticks\": \"\"}, \"type\": \"choropleth\"}], \"contour\": [{\"colorbar\": {\"outlinewidth\": 0, \"ticks\": \"\"}, \"colorscale\": [[0.0, \"#0d0887\"], [0.1111111111111111, \"#46039f\"], [0.2222222222222222, \"#7201a8\"], [0.3333333333333333, \"#9c179e\"], [0.4444444444444444, \"#bd3786\"], [0.5555555555555556, \"#d8576b\"], [0.6666666666666666, \"#ed7953\"], [0.7777777777777778, \"#fb9f3a\"], [0.8888888888888888, \"#fdca26\"], [1.0, \"#f0f921\"]], \"type\": \"contour\"}], \"contourcarpet\": [{\"colorbar\": {\"outlinewidth\": 0, \"ticks\": \"\"}, \"type\": \"contourcarpet\"}], \"heatmap\": [{\"colorbar\": {\"outlinewidth\": 0, \"ticks\": \"\"}, \"colorscale\": [[0.0, \"#0d0887\"], [0.1111111111111111, \"#46039f\"], [0.2222222222222222, \"#7201a8\"], [0.3333333333333333, \"#9c179e\"], [0.4444444444444444, \"#bd3786\"], [0.5555555555555556, \"#d8576b\"], [0.6666666666666666, \"#ed7953\"], [0.7777777777777778, \"#fb9f3a\"], [0.8888888888888888, \"#fdca26\"], [1.0, \"#f0f921\"]], \"type\": \"heatmap\"}], \"heatmapgl\": [{\"colorbar\": {\"outlinewidth\": 0, \"ticks\": \"\"}, \"colorscale\": [[0.0, \"#0d0887\"], [0.1111111111111111, \"#46039f\"], [0.2222222222222222, \"#7201a8\"], [0.3333333333333333, \"#9c179e\"], [0.4444444444444444, \"#bd3786\"], [0.5555555555555556, \"#d8576b\"], [0.6666666666666666, \"#ed7953\"], [0.7777777777777778, \"#fb9f3a\"], [0.8888888888888888, \"#fdca26\"], [1.0, \"#f0f921\"]], \"type\": \"heatmapgl\"}], \"histogram\": [{\"marker\": {\"colorbar\": {\"outlinewidth\": 0, \"ticks\": \"\"}}, \"type\": \"histogram\"}], \"histogram2d\": [{\"colorbar\": {\"outlinewidth\": 0, \"ticks\": \"\"}, \"colorscale\": [[0.0, \"#0d0887\"], [0.1111111111111111, \"#46039f\"], [0.2222222222222222, \"#7201a8\"], [0.3333333333333333, \"#9c179e\"], [0.4444444444444444, \"#bd3786\"], [0.5555555555555556, \"#d8576b\"], [0.6666666666666666, \"#ed7953\"], [0.7777777777777778, \"#fb9f3a\"], [0.8888888888888888, \"#fdca26\"], [1.0, \"#f0f921\"]], \"type\": \"histogram2d\"}], \"histogram2dcontour\": [{\"colorbar\": {\"outlinewidth\": 0, \"ticks\": \"\"}, \"colorscale\": [[0.0, \"#0d0887\"], [0.1111111111111111, \"#46039f\"], [0.2222222222222222, \"#7201a8\"], [0.3333333333333333, \"#9c179e\"], [0.4444444444444444, \"#bd3786\"], [0.5555555555555556, \"#d8576b\"], [0.6666666666666666, \"#ed7953\"], [0.7777777777777778, \"#fb9f3a\"], [0.8888888888888888, \"#fdca26\"], [1.0, \"#f0f921\"]], \"type\": \"histogram2dcontour\"}], \"mesh3d\": [{\"colorbar\": {\"outlinewidth\": 0, \"ticks\": \"\"}, \"type\": \"mesh3d\"}], \"parcoords\": [{\"line\": {\"colorbar\": {\"outlinewidth\": 0, \"ticks\": \"\"}}, \"type\": \"parcoords\"}], \"pie\": [{\"automargin\": true, \"type\": \"pie\"}], \"scatter\": [{\"marker\": {\"colorbar\": {\"outlinewidth\": 0, \"ticks\": \"\"}}, \"type\": \"scatter\"}], \"scatter3d\": [{\"line\": {\"colorbar\": {\"outlinewidth\": 0, \"ticks\": \"\"}}, \"marker\": {\"colorbar\": {\"outlinewidth\": 0, \"ticks\": \"\"}}, \"type\": \"scatter3d\"}], \"scattercarpet\": [{\"marker\": {\"colorbar\": {\"outlinewidth\": 0, \"ticks\": \"\"}}, \"type\": \"scattercarpet\"}], \"scattergeo\": [{\"marker\": {\"colorbar\": {\"outlinewidth\": 0, \"ticks\": \"\"}}, \"type\": \"scattergeo\"}], \"scattergl\": [{\"marker\": {\"colorbar\": {\"outlinewidth\": 0, \"ticks\": \"\"}}, \"type\": \"scattergl\"}], \"scattermapbox\": [{\"marker\": {\"colorbar\": {\"outlinewidth\": 0, \"ticks\": \"\"}}, \"type\": \"scattermapbox\"}], \"scatterpolar\": [{\"marker\": {\"colorbar\": {\"outlinewidth\": 0, \"ticks\": \"\"}}, \"type\": \"scatterpolar\"}], \"scatterpolargl\": [{\"marker\": {\"colorbar\": {\"outlinewidth\": 0, \"ticks\": \"\"}}, \"type\": \"scatterpolargl\"}], \"scatterternary\": [{\"marker\": {\"colorbar\": {\"outlinewidth\": 0, \"ticks\": \"\"}}, \"type\": \"scatterternary\"}], \"surface\": [{\"colorbar\": {\"outlinewidth\": 0, \"ticks\": \"\"}, \"colorscale\": [[0.0, \"#0d0887\"], [0.1111111111111111, \"#46039f\"], [0.2222222222222222, \"#7201a8\"], [0.3333333333333333, \"#9c179e\"], [0.4444444444444444, \"#bd3786\"], [0.5555555555555556, \"#d8576b\"], [0.6666666666666666, \"#ed7953\"], [0.7777777777777778, \"#fb9f3a\"], [0.8888888888888888, \"#fdca26\"], [1.0, \"#f0f921\"]], \"type\": \"surface\"}], \"table\": [{\"cells\": {\"fill\": {\"color\": \"#EBF0F8\"}, \"line\": {\"color\": \"white\"}}, \"header\": {\"fill\": {\"color\": \"#C8D4E3\"}, \"line\": {\"color\": \"white\"}}, \"type\": \"table\"}]}, \"layout\": {\"annotationdefaults\": {\"arrowcolor\": \"#2a3f5f\", \"arrowhead\": 0, \"arrowwidth\": 1}, \"autotypenumbers\": \"strict\", \"coloraxis\": {\"colorbar\": {\"outlinewidth\": 0, \"ticks\": \"\"}}, \"colorscale\": {\"diverging\": [[0, \"#8e0152\"], [0.1, \"#c51b7d\"], [0.2, \"#de77ae\"], [0.3, \"#f1b6da\"], [0.4, \"#fde0ef\"], [0.5, \"#f7f7f7\"], [0.6, \"#e6f5d0\"], [0.7, \"#b8e186\"], [0.8, \"#7fbc41\"], [0.9, \"#4d9221\"], [1, \"#276419\"]], \"sequential\": [[0.0, \"#0d0887\"], [0.1111111111111111, \"#46039f\"], [0.2222222222222222, \"#7201a8\"], [0.3333333333333333, \"#9c179e\"], [0.4444444444444444, \"#bd3786\"], [0.5555555555555556, \"#d8576b\"], [0.6666666666666666, \"#ed7953\"], [0.7777777777777778, \"#fb9f3a\"], [0.8888888888888888, \"#fdca26\"], [1.0, \"#f0f921\"]], \"sequentialminus\": [[0.0, \"#0d0887\"], [0.1111111111111111, \"#46039f\"], [0.2222222222222222, \"#7201a8\"], [0.3333333333333333, \"#9c179e\"], [0.4444444444444444, \"#bd3786\"], [0.5555555555555556, \"#d8576b\"], [0.6666666666666666, \"#ed7953\"], [0.7777777777777778, \"#fb9f3a\"], [0.8888888888888888, \"#fdca26\"], [1.0, \"#f0f921\"]]}, \"colorway\": [\"#636efa\", \"#EF553B\", \"#00cc96\", \"#ab63fa\", \"#FFA15A\", \"#19d3f3\", \"#FF6692\", \"#B6E880\", \"#FF97FF\", \"#FECB52\"], \"font\": {\"color\": \"#2a3f5f\"}, \"geo\": {\"bgcolor\": \"white\", \"lakecolor\": \"white\", \"landcolor\": \"#E5ECF6\", \"showlakes\": true, \"showland\": true, \"subunitcolor\": \"white\"}, \"hoverlabel\": {\"align\": \"left\"}, \"hovermode\": \"closest\", \"mapbox\": {\"style\": \"light\"}, \"paper_bgcolor\": \"white\", \"plot_bgcolor\": \"#E5ECF6\", \"polar\": {\"angularaxis\": {\"gridcolor\": \"white\", \"linecolor\": \"white\", \"ticks\": \"\"}, \"bgcolor\": \"#E5ECF6\", \"radialaxis\": {\"gridcolor\": \"white\", \"linecolor\": \"white\", \"ticks\": \"\"}}, \"scene\": {\"xaxis\": {\"backgroundcolor\": \"#E5ECF6\", \"gridcolor\": \"white\", \"gridwidth\": 2, \"linecolor\": \"white\", \"showbackground\": true, \"ticks\": \"\", \"zerolinecolor\": \"white\"}, \"yaxis\": {\"backgroundcolor\": \"#E5ECF6\", \"gridcolor\": \"white\", \"gridwidth\": 2, \"linecolor\": \"white\", \"showbackground\": true, \"ticks\": \"\", \"zerolinecolor\": \"white\"}, \"zaxis\": {\"backgroundcolor\": \"#E5ECF6\", \"gridcolor\": \"white\", \"gridwidth\": 2, \"linecolor\": \"white\", \"showbackground\": true, \"ticks\": \"\", \"zerolinecolor\": \"white\"}}, \"shapedefaults\": {\"line\": {\"color\": \"#2a3f5f\"}}, \"ternary\": {\"aaxis\": {\"gridcolor\": \"white\", \"linecolor\": \"white\", \"ticks\": \"\"}, \"baxis\": {\"gridcolor\": \"white\", \"linecolor\": \"white\", \"ticks\": \"\"}, \"bgcolor\": \"#E5ECF6\", \"caxis\": {\"gridcolor\": \"white\", \"linecolor\": \"white\", \"ticks\": \"\"}}, \"title\": {\"x\": 0.05}, \"xaxis\": {\"automargin\": true, \"gridcolor\": \"white\", \"linecolor\": \"white\", \"ticks\": \"\", \"title\": {\"standoff\": 15}, \"zerolinecolor\": \"white\", \"zerolinewidth\": 2}, \"yaxis\": {\"automargin\": true, \"gridcolor\": \"white\", \"linecolor\": \"white\", \"ticks\": \"\", \"title\": {\"standoff\": 15}, \"zerolinecolor\": \"white\", \"zerolinewidth\": 2}}}, \"title\": {\"font\": {\"color\": \"#4D5663\"}, \"text\": \"21-Days Rolling Returns of Apple\"}, \"xaxis\": {\"gridcolor\": \"#E1E5ED\", \"showgrid\": true, \"tickfont\": {\"color\": \"#4D5663\"}, \"title\": {\"font\": {\"color\": \"#4D5663\"}, \"text\": \"\"}, \"zerolinecolor\": \"#E1E5ED\"}, \"yaxis\": {\"gridcolor\": \"#E1E5ED\", \"showgrid\": true, \"tickfont\": {\"color\": \"#4D5663\"}, \"title\": {\"font\": {\"color\": \"#4D5663\"}, \"text\": \"\"}, \"zerolinecolor\": \"#E1E5ED\"}},                        {\"showLink\": true, \"linkText\": \"Export to plot.ly\", \"plotlyServerURL\": \"https://plot.ly\", \"responsive\": true}                    ).then(function(){\n",
       "                            \n",
       "var gd = document.getElementById('ea3f98b8-f954-4c38-8f0c-2bfa442b3552');\n",
       "var x = new MutationObserver(function (mutations, observer) {{\n",
       "        var display = window.getComputedStyle(gd).display;\n",
       "        if (!display || display === 'none') {{\n",
       "            console.log([gd, 'removed!']);\n",
       "            Plotly.purge(gd);\n",
       "            observer.disconnect();\n",
       "        }}\n",
       "}});\n",
       "\n",
       "// Listen for the removal of the full notebook cells\n",
       "var notebookContainer = gd.closest('#notebook-container');\n",
       "if (notebookContainer) {{\n",
       "    x.observe(notebookContainer, {childList: true});\n",
       "}}\n",
       "\n",
       "// Listen for the clearing of the current output cell\n",
       "var outputEl = gd.closest('.output');\n",
       "if (outputEl) {{\n",
       "    x.observe(outputEl, {childList: true});\n",
       "}}\n",
       "\n",
       "                        })                };                });            </script>        </div>"
      ]
     },
     "metadata": {},
     "output_type": "display_data"
    }
   ],
   "source": [
    "\n",
    "rolling_return['AAPL'].iplot(title='21-Days Rolling Returns of Apple')\n",
    "\n"
   ]
  },
  {
   "cell_type": "markdown",
   "metadata": {},
   "source": [
    "\n",
    "<h3 id=\"Normal-Distribution\">Normal Distribution<a class=\"anchor-link\" href=\"#Normal-Distribution\">¶</a></h3><p>A normal distribution is the most common and widely used distribution in statistics. It is popularly referred as a “bell curve” or “Gaussian curve”. Financial time series though random in short term, follows a normal distribution on a longer time frame.</p>\n",
    "<p>Now that we have derived the daily log returns, we will plot this return distribution.</p>\n"
   ]
  },
  {
   "cell_type": "code",
   "execution_count": null,
   "metadata": {},
   "outputs": [],
   "source": [
    "# Analysing the daily returns data\n",
    "daily_returns.describe().T"
   ]
  },
  {
   "cell_type": "code",
   "execution_count": 85,
   "metadata": {},
   "outputs": [
    {
     "data": {
      "application/vnd.plotly.v1+json": {
       "config": {
        "linkText": "Export to plot.ly",
        "plotlyServerURL": "https://plot.ly",
        "showLink": true
       },
       "data": [
        {
         "histfunc": "count",
         "histnorm": "",
         "marker": {
          "color": "rgba(255, 153, 51, 1.0)",
          "line": {
           "color": "#4D5663",
           "width": 1.3
          }
         },
         "name": "AAPL",
         "opacity": 0.8,
         "orientation": "v",
         "type": "histogram",
         "x": [
          0,
          -0.010161672268911293,
          0.03593073008103298,
          0.016014389010214014,
          0.01457495550144472,
          0.026269051886091077,
          0.012698295164007778,
          0.011513035922226855,
          -0.003187518662308264,
          -0.00020613213238407369,
          -0.007288957138376961,
          0.005948980640237078,
          0.02324615484858361,
          -0.002926976116881974,
          0.008003469943111963,
          -0.003415113170603945,
          -0.0010064850693285443,
          -0.015273676225186605,
          0.021398506137809026,
          -0.00030033675639407065,
          -0.009153608478488895,
          0.018174600655950002,
          0.005837361778914474,
          0.008252804400902036,
          -0.0008809458056244779,
          -0.020829515400728305,
          0.0060811011254577885,
          0.009840037562139248,
          -0.007309105832551399,
          0.007653524762805564,
          0.00935103221288669,
          -0.003465946575325507,
          -0.005639231809455136,
          0.01129566558353945,
          -0.01504008519944433,
          0.022596729290817574,
          0.007787377761713454,
          -0.0008141304026176854,
          -0.007938793610348327,
          0.0034718657307624134,
          0.00929516772127581,
          -0.004301443756305812,
          0.020198956287005743,
          -0.021876745404517006,
          -0.021385211975371465,
          -0.05376790714466528,
          0.018753609031630702,
          0.010302019844190546,
          0.021816197155138273,
          -0.00827452367173187,
          -0.0025407416281737483,
          0.04147625092490781,
          -0.030216932384168338,
          -0.004993938559600508,
          0.023320623491525527,
          0.01847243495041928,
          4.7553075074979745e-05,
          0.010780225123508291,
          -0.0008468981148781474,
          -0.0473226992387592,
          0.018820942219957004,
          -0.011348037815705592,
          0.006688074263638377,
          0.016790033799158888,
          -0.0012925133331571637,
          -0.014670782457983922,
          0.016824167161098913,
          0.01936294246919701,
          -9.387861834486699e-05,
          0.004258147188389572,
          0.01174371768360416,
          0.03130018917586419,
          -0.0022387266459880095,
          -0.019645830675513398,
          0.0052434115221422495,
          0.0036313940729062466,
          0.00933564687706756,
          -0.008158123777475268,
          -0.014726162356706318,
          0.0045367810219221205,
          -0.004766377351034468,
          0.015272394262606959,
          -0.005170972566171272,
          -0.004877946026871527,
          0.02326257065884807,
          0.002764414455263875,
          -0.025387412382452457,
          0.008458718758509676,
          0.027646208883151946,
          0.00022029704153325724,
          -0.011784206349430448,
          0.011652033948291063,
          0.01338843777639287,
          0.026250703888007543,
          -0.0014404777451995088,
          -0.0023344362196144886,
          -0.00404526812822148,
          0.003875155309817302,
          0.004791367637855259,
          0.017194044455242974,
          -0.0022893478966716785,
          0.013329548755075749,
          0.0016435110335448755,
          0.012241169422375187,
          0.009967097912122469,
          -0.023399530808681845,
          -0.00012335457450429743,
          0.02235773939247032,
          0.027985586337449853,
          0.006545524871710562,
          -0.0014377619803305208,
          0.0004275970885796454,
          0.01147524007346501,
          0.002733021367986588,
          0.007887844242847386,
          -0.000915987545589303,
          0.009536065011737982,
          -0.006943548549041445,
          0.011809394686135732,
          0.005029454737504935,
          -0.0030371997799854,
          -0.011709611775178708,
          -0.004493629913927322,
          -0.0008783191326369177,
          0.017381825063464085,
          -0.007839117477866253,
          0.013342639182576832,
          -0.002205169723282552,
          -0.011629548098356146,
          -0.017990874733956552,
          0.008787492551157072,
          0.01456449656629566,
          0.019131846132680153,
          -0.014098991034273034,
          0.005827503624290742,
          0.008493301640962514,
          0.002544895653095125,
          0.01350175748203064,
          0.01697298218665022,
          0.001963329842778805,
          -0.002392153439267908,
          0.0010003757742094166,
          -0.002073350126318374,
          0.016186559345463536,
          0.0009501867694723387,
          0.019646131554164725,
          -0.00037954066053913493,
          0.005917648572800083,
          0.007279942374496251,
          0.022559999157191868,
          -0.00976973108270407,
          0.007936659630909837,
          -0.004714097584066046,
          0.015958345591130296,
          0.02101825370588184,
          0.002258091582015176,
          0.02113936670914729,
          -0.0135951598490891,
          -0.0042948231564539086,
          0.012448788878753447,
          0.01100998397967956,
          -0.006799782528610798,
          0.0035630768604359986,
          0.004804326070274811,
          -0.0028861492450298343,
          -0.02984625851846978,
          0.027896592790855657,
          0.020716335092493487,
          -0.0014502334644017623,
          -0.04535174069798753,
          -0.002750022148633846,
          0.03248042470998058,
          0.008121300833608736,
          0.011629043167588726,
          -0.013685913293053353,
          0.0047382059345313365,
          -0.006051530605762245,
          0.02347021073959432,
          -0.007146466326309664,
          0.00024611208715086264,
          -0.018480220785281887,
          0.014378868957382274,
          -0.01031190562993789,
          -0.022895143121459682,
          -0.0486655193001706,
          -0.03445912555167929,
          0.015739036415040708,
          -0.06760254203871252,
          -0.0005852131924770632,
          0.08901836532012819,
          -0.032274527149978915,
          0.04534099514018308,
          -0.03297483936625145,
          -0.013369038881197781,
          -0.08239524218003158,
          0.06954622134139843,
          -0.03534798381298465,
          -0.10397778165710925,
          0.11315747084517014,
          -0.13770802163475526,
          0.04303081337517067,
          -0.024784564864974712,
          -0.007691565510524967,
          -0.06559036561480092,
          -0.02147297284625349,
          0.09560587500060347,
          -0.005523944076127663,
          0.05128516452335141,
          -0.042283800423038365,
          0.028138324860607078,
          -0.0020428141398678434,
          -0.05405192502600009,
          0.016548979849221546,
          -0.014475573836549849,
          0.08363991104442547,
          -0.01164973197211605,
          0.025272451242253524,
          0.007190243989531275,
          0.019437406851260164,
          0.04926922280538637,
          -0.009169122005894259,
          0.00791422295327493,
          -0.01366144485964682,
          -0.020975294693230673,
          -0.03139809213896072,
          0.02839650724686482,
          -0.0038828184163932633,
          0.028460651990813268,
          0.0007065490160034216,
          -0.01634234653458133,
          0.032317430305846884,
          0.020876644333553962,
          -0.016230256521035713,
          0.014049559655828325,
          0.01489735358862454,
          0.010264476036308423,
          0.01029172647672727,
          0.023522928954989197,
          0.01561270844089968,
          -0.011494043369701501,
          -0.012147488033396492,
          0.006124492948182514,
          -0.0059296007553966135,
          0.02328786595457011,
          -0.005795184279124399,
          0.019261481330026697,
          -0.007483427577172463,
          0.0064177890646615054,
          -0.0067965576864210675,
          0.004347490213289618,
          0.0004400625206191222,
          -0.0009745195038730614,
          0.012222910195056613,
          0.004618754232588174,
          0.005489963615841198,
          -0.008649453169232935,
          0.028082994470056022,
          0.00589499096081969,
          0.031089684589801436,
          0.025402082231256173,
          -0.04920114854185176,
          0.008596483813177791,
          0.012291259899612328,
          0.026157134777268887,
          -0.001392627257679635,
          0.00039816607255893643,
          -0.005731096551152781,
          0.025827361352522615,
          0.021120200170686054,
          -0.01780969647374775,
          0.013188228496670895,
          -0.031207674257778706,
          0.02278508521982925
         ],
         "xaxis": "x",
         "yaxis": "y"
        },
        {
         "histfunc": "count",
         "histnorm": "",
         "marker": {
          "color": "rgba(55, 128, 191, 1.0)",
          "line": {
           "color": "#4D5663",
           "width": 1.3
          }
         },
         "name": "AMZN",
         "opacity": 0.8,
         "orientation": "v",
         "type": "histogram",
         "x": [
          0,
          -0.047520883652691914,
          0.021548129920398118,
          0.005155597687068969,
          0.009081437228507738,
          0.027918957759307084,
          0.030892075224040916,
          0.0016485902272842523,
          -0.004506573934242475,
          0.008041712943248847,
          -0.0003369037041176526,
          0.008712138089374655,
          0.008100570103187543,
          0.0038948775164104887,
          0.0049124486122416045,
          -0.003598338175532234,
          0.0013593934625850679,
          -0.018791906999332753,
          0.010359954235705793,
          0.0033928947109176377,
          -0.005608375255642173,
          0.014969506028700508,
          0.006285573494815289,
          0.0024216722272756286,
          0.002014490530465096,
          0.004831514679031201,
          0.018261645369611834,
          0.014534500604235667,
          -0.008132516786499622,
          0.004950100133155999,
          0.004955374741105523,
          -0.005502503795147717,
          -0.008930747739461786,
          -0.007118545848358693,
          -0.00678773753454287,
          0.010688295982273388,
          0.004452127070154077,
          0.0031637541880593645,
          -0.013581403622953125,
          -0.015711795635854564,
          -0.015873811541553096,
          -0.0073051991091110935,
          -0.0168648807356524,
          -0.006157878238795433,
          -0.017442026171072378,
          -0.0323907879694989,
          0.012778224520960002,
          0.003110703798028247,
          0.02178069098866242,
          -0.01390505435044087,
          -0.0126152888669111,
          0.021844638134160377,
          -0.03422406665253863,
          0.007437014703788769,
          0.0092191072641441,
          0.013052040232560458,
          -0.008149314061903112,
          0.012226647744316033,
          -0.010407460954412251,
          -0.030973608621947868,
          0.010942303162058131,
          -0.003987905225534938,
          0.0013726542537071396,
          0.01247676431163569,
          -0.005675493691192912,
          0.007599269766934036,
          0.006004836041275219,
          0.02202573618569925,
          -0.003924615622960204,
          -0.0011787814205392877,
          -0.005914706410776738,
          0.0013393248021547066,
          0.011215082270821242,
          -0.0022862940923893404,
          -0.017274049467032704,
          0.00810390258526894,
          -0.00279674572035038,
          0.002220437029131439,
          -0.015123372580061023,
          -0.004950469199546781,
          -0.024776531329439244,
          0.015225609173180388,
          -0.016242438200500864,
          -0.008305277600899608,
          0.006043933536841628,
          -0.00014979419150051854,
          -0.01300153077868682,
          0.006510321248894613,
          0.008793170057021626,
          -0.004026137964990184,
          -0.015793627668322152,
          0.00961640114814788,
          -0.001005145247673589,
          0.006755197201845142,
          0.002600667280166391,
          0.017666914392036936,
          0.00567030424181425,
          0.005638264800736259,
          -0.016908755642111473,
          0.015890073788625614,
          -0.011223922382344043,
          -0.0020181624802839693,
          0.01050545795089608,
          -0.01098230648590004,
          0.008902362591903135,
          -0.008119167744025546,
          0.009755365442042141,
          -0.0018725244287898235,
          0.008284516611253956,
          0.007352494323708214,
          -0.00163603507360488,
          -0.003302282062139561,
          -0.0042244101814352675,
          -0.0012982063319304515,
          -0.007999964157171746,
          0.0035778075674750554,
          -0.014097791904812418,
          0.0008495516109272572,
          -0.008648935596951013,
          0.007468513698398738,
          0.0001483515120055401,
          -0.004150575159660441,
          -0.006218021315647526,
          0.006326831287111645,
          0.015979607670764118,
          0.012938516760995888,
          0.011932304182734832,
          -0.00978645211250928,
          -0.010719214467497018,
          -0.006554897866958065,
          -0.005251180994606308,
          -0.011544818365310405,
          0.006368715976257988,
          -0.0011938876969326273,
          -0.005904789631646423,
          0.005453110307906961,
          0.006617191523600852,
          0.0003464575993472607,
          0.00468537307997785,
          0.012051188876309737,
          -0.0037094194838553918,
          0.004613702111462281,
          -0.00323017021179961,
          0.0036317961416685307,
          -0.002116034804224398,
          0.043506311073348236,
          0.0005510284970480228,
          -0.012328348051005023,
          0.0005142195493741397,
          0.026788603135409872,
          -0.012213330353824325,
          0.014775886893687584,
          0.002089371939726803,
          -0.007839303720199808,
          0.0047877920092274096,
          -0.009455155784895197,
          0.004313214122831255,
          -0.01162555969525858,
          -0.003976959009211356,
          0.008513469767797766,
          -0.0070645081276898836,
          0.01452357856454789,
          -0.0024024814619814094,
          -0.001527028083385673,
          -0.012247133547653277,
          -0.01804939487049939,
          0.013532421888525548,
          0.0025597858369543758,
          0.006801389450791895,
          0.07119565886991719,
          -0.0022527344331653154,
          0.022433812187514057,
          -0.0047926885250184625,
          0.005065894510809521,
          0.014069721579418548,
          0.025934242450163403,
          0.007883952173616926,
          0.004268333040378991,
          -0.004700791991761655,
          -0.007001619915233626,
          0.009695734076484719,
          0.006726987536931794,
          -0.00791982192438212,
          -0.026892270076564806,
          -0.042234994122227754,
          -0.018358010889469867,
          0.00346630090138067,
          -0.04933331023178589,
          -0.000291954100876346,
          0.036588468808849584,
          -0.023278638497808757,
          0.034414239724960716,
          -0.026566581130196276,
          -0.011994571954325295,
          -0.05430189966417398,
          0.04941381204609563,
          -0.03823039138147877,
          -0.08253501999173007,
          0.06264452631284101,
          -0.05519295694913495,
          0.06790728528996404,
          0.012183223280898048,
          0.027450397080877487,
          -0.018696493493786548,
          0.030272358155796653,
          0.019397276958383003,
          -0.028366178697428523,
          0.03626746956759064,
          -0.028734292907243386,
          0.03305122298001262,
          -0.007271969001656053,
          -0.02178745513182534,
          0.005817300029092642,
          -0.0063993141953213595,
          0.046625148655404125,
          0.006988976325808416,
          0.015488902656451309,
          -0.00011747642253912005,
          0.059904509213055235,
          0.051424205485502306,
          0.010612107119005287,
          0.04263274242678783,
          -0.013877966170691813,
          0.0078052939887784945,
          -0.02774160620723176,
          0.015078210828857408,
          0.015100187977815871,
          0.004478493413181184,
          -0.014299615987606984,
          -0.026406167396397784,
          0.02502051124305016,
          0.041803528623244546,
          -0.07901519385058009,
          0.013016157575810539,
          0.0007812432892091437,
          0.01433287784956594,
          0.0069296940490843895,
          0.005055600968991492,
          0.012275069780357306,
          -0.02184333402727834,
          0.004643510068742529,
          0.00880021980095158,
          0.008723349711000417,
          0.006815511918220274,
          0.009463568561415059,
          0.01965181907693303,
          -0.020709846472815485,
          -0.004038037798284044,
          -0.006182600124499338,
          -0.004747368776967242,
          -0.003861509214097225,
          0.017041920987769466,
          0.011670203117975397,
          0.0005542174374051356,
          0.002419803378319152,
          -0.007207888945611529,
          0.00906224419411572,
          0.01640123287528894,
          0.02997346146724844,
          0.017754693261799126,
          -0.03438684358351107,
          -0.005071534354776475,
          0.010809614360354658,
          0.016419219580659394,
          0.009782702868715631,
          0.004910339725556767,
          0.00789272958206233,
          0.014404139322334863,
          0.01846993722467083,
          -0.010915201191203039,
          0.0073530115890632075,
          -0.02265742637347934,
          -0.004649051085152678
         ],
         "xaxis": "x2",
         "yaxis": "y2"
        },
        {
         "histfunc": "count",
         "histnorm": "",
         "marker": {
          "color": "rgba(50, 171, 96, 1.0)",
          "line": {
           "color": "#4D5663",
           "width": 1.3
          }
         },
         "name": "FB",
         "opacity": 0.8,
         "orientation": "v",
         "type": "histogram",
         "x": [
          0,
          -0.0780209806597858,
          0.02020274450006987,
          0.0039920103814203856,
          0.0009509876622173508,
          0.029386358031477933,
          0.008444207707875684,
          0.018588309517664214,
          -0.017330743688349415,
          0.013787106547409778,
          0.02151699833901155,
          0.04148130888619406,
          -0.00286104514459673,
          -0.005266699239829364,
          0.010875166631906907,
          0.008458823747292676,
          0.007609390409321293,
          -0.019715454768708618,
          -0.006268241908927941,
          0.00975719014598031,
          0.0183011643824047,
          0,
          0.0103093696588612,
          0.01121886812934303,
          -0.004065061849688689,
          -0.003263973769692896,
          0.017470187322444097,
          0.017515445009314234,
          -0.007426512158919429,
          0.017927096560848454,
          -0.004696869821299465,
          -0.0003433835679054198,
          -0.010058231375997373,
          -0.005067347858616955,
          -0.012126210485654099,
          0.019767073864946916,
          0.0001976538770334102,
          0.01130179111233165,
          -0.01948896993024718,
          -0.004794528975603285,
          -0.019258082269918653,
          0.005598217362191349,
          -0.01436371789153057,
          -0.007752778304281449,
          -0.019437371372712953,
          -0.039330806586899136,
          0.01518158719892515,
          0.0034626416122156556,
          0.02669956791560768,
          -0.012222037798570895,
          -0.013290003111311677,
          0.01647890211905345,
          -0.04748822561576915,
          0.01589870418879702,
          0.006060793516174279,
          0.013356249340060522,
          -0.012757622824969062,
          -0.001415475554299661,
          -0.008260720301979774,
          -0.023848337583816104,
          0.014576788253607198,
          0.005198277656488948,
          0.002533970717267131,
          0.020745103514299146,
          0.00053868573249094,
          -0.01782364632800615,
          0.025709748356799622,
          0.019892702173086363,
          -0.0180241588060861,
          0.006750797803575459,
          -0.013816112808457959,
          0.012384759277550117,
          -0.005426145105405844,
          -0.0014946822649246627,
          -0.005195379840083447,
          0.009938636951773105,
          0.00031894933234699607,
          0.010574276421202455,
          -0.0011050950594562181,
          -0.016509919012032803,
          -0.030102835103487102,
          0.008349885168669857,
          -0.014824896976829649,
          -0.016853199485281856,
          0.005518318556982038,
          -0.012829045241357306,
          -0.006906174205444593,
          0.02700880954771634,
          0.0059472262665156705,
          -0.004276263949305914,
          -0.010799381544211784,
          0.011745135394983564,
          0.0010002928106436215,
          0.022844349896860017,
          -0.00495281530091507,
          0.030149800327552434,
          0.00348802624988398,
          0.004421738701430478,
          -0.024134667179443348,
          0.020820157277059437,
          -0.03988703078860922,
          0.020679711457771255,
          0.001234859025099233,
          0.00806905540131364,
          0.008004466569466295,
          -0.0004752784009687261,
          -0.00561500344547472,
          0.01789989329936237,
          0.010226690094026658,
          0.0056651854348430675,
          -0.0020563131227850917,
          -0.014357435306879829,
          -0.005916737836898278,
          0.002203212216811856,
          -0.006466027193386736,
          0.0253085815287708,
          -0.006603742552072411,
          -0.0002071157293794812,
          0.010045221400686088,
          0.01171981716674697,
          0.00967951407938461,
          -0.009122422000547914,
          0.0021242076698717582,
          0.004486533793881975,
          0.004866851684797169,
          -0.0041127155809679294,
          0.015113631674936734,
          -0.0017837712137120931,
          -0.009667701047435528,
          -0.004416295517618352,
          -0.0005534204174511004,
          0.003265729455654842,
          0.008441409861738691,
          0.0014413545902129954,
          -0.002337094774459203,
          0.006896062976964323,
          -0.02762008401758731,
          -0.013508875470153114,
          0.019437887565329603,
          0.0023718878854683823,
          0.02050509926843702,
          0.017427490122291722,
          0.0011640582011356315,
          -0.0005818967252038121,
          -0.005154388217175843,
          0.012932772073317444,
          0.0014908407283531488,
          -0.01789096400191692,
          0.00410094960514229,
          0.0218306083819515,
          -0.0053053087440781965,
          0.01865844664635219,
          0.0021613101075148577,
          0.010086961719853349,
          0.014209511091417326,
          -0.0011000344533433903,
          0.017501667688359035,
          -0.012926257019884702,
          0.009495522964670045,
          0.0027996513298669257,
          0.001666982946158413,
          -0.0031561275369336173,
          -0.0005420323311895459,
          -0.007073634332430245,
          -0.008316210039887473,
          -0.014186635385794233,
          0.013498093570125214,
          0.02467134600273635,
          -0.06333568956289604,
          -0.037044849675488045,
          0.011228873191867272,
          0.027246742901491317,
          0.0013335182128955125,
          0.003515803133889328,
          0.006994667677568067,
          0.003432127906949134,
          -0.027937546268470115,
          0.017083760821678062,
          0.011229204651705516,
          0.004867524846979165,
          0.016760475734432845,
          -0.0014243267932467774,
          -0.013470259975553844,
          -0.020718366151716516,
          -0.04605336345029798,
          -0.01987535245306571,
          0.0021828710063669376,
          -0.03851101041735028,
          0.014232887493596635,
          0.020416749829961667,
          -0.05520195596364719,
          0.03108946384444078,
          -0.03497024931887349,
          -0.022280187130560236,
          -0.06614119821015318,
          0.04999748361995948,
          -0.045641172020008725,
          -0.09720932779177005,
          0.09744422316246748,
          -0.1537690588995151,
          0.02308604540160264,
          -0.016600633701373546,
          0.04112677912196272,
          -0.022453622098637105,
          -0.010945881129315715,
          0.08339234463938983,
          -0.030078808302596904,
          0.04463259668729691,
          -0.040926607958369665,
          0.05677923222476444,
          0.0051089884441948286,
          -0.04412478496226946,
          -0.008873865614419607,
          -0.025676154117089567,
          0.0711525789005325,
          0.019619019907344715,
          0.03177089191032234,
          0.00520791893851591,
          -0.0022858982475471024,
          0.019152925482924132,
          -0.006757906837979277,
          -0.00407679188851251,
          0.016822278872540508,
          -0.005594733007081132,
          -0.042637688335934065,
          0.06505066047692143,
          0.015514347677306972,
          0.02633415652093607,
          -0.013613618486602697,
          -0.024784596801257663,
          0.059842825188575866,
          0.05275730245171317,
          -0.01199091656192941,
          0.014673981768020816,
          0.00877949426708291,
          0.006738216127208929,
          0.013294424543222938,
          0.005146309108892133,
          0.0039009594020260607,
          -0.014553208002539897,
          -0.024085942064416166,
          0.008302790722451547,
          0.019488788909085564,
          0.010894523859634297,
          0.0171604293760641,
          0.058604643237027076,
          0.006155725034928672,
          0.015097881678832081,
          -0.01160342153409566,
          -0.01326588831917519,
          -0.016190378406903072,
          -0.0016424834387009923,
          0.029849075201984654,
          0.003486638274121212,
          -0.011061284277881,
          -0.016957402290095125,
          0.019604229166080067,
          0.002726226352680605,
          0.03093404862043858,
          -0.008161603850311394,
          -0.05335641123556645,
          0.01832244456235088,
          0.017003958547396003,
          0.013457402441561683,
          -0.0005093387734920185,
          0.0017392570657879247,
          0.01200693071725123,
          0.0017991592456461092,
          0.012545357201453555,
          -0.03452239287798875,
          0.007068321589724924,
          -0.08682620367902949,
          0.02088369332038731
         ],
         "xaxis": "x3",
         "yaxis": "y3"
        },
        {
         "histfunc": "count",
         "histnorm": "",
         "marker": {
          "color": "rgba(128, 0, 128, 1.0)",
          "line": {
           "color": "#4D5663",
           "width": 1.3
          }
         },
         "name": "GOOG",
         "opacity": 0.8,
         "orientation": "v",
         "type": "histogram",
         "x": [
          0,
          -0.0630156431072173,
          0.01610165370278338,
          -0.01033773640023039,
          0.0020320488374885315,
          0.020565810923544703,
          0.01336195048772204,
          -0.0015377097175317544,
          -0.001567845763586817,
          0.010841356503640043,
          -0.0031461435192374765,
          0.006566154862158058,
          0.010108893251183027,
          -0.0011514596663797505,
          0.008212434990363171,
          0.009367337298661127,
          -0.005685172443320674,
          -0.0264972506924801,
          -0.006047546703985773,
          -0.003516119569169973,
          0.004543546115594488,
          0.0156414496697046,
          0.012040747608199176,
          0.009252858442567735,
          0.008885326867780208,
          -0.013559280163558007,
          0.007567461065666414,
          0.013817335236299577,
          0.0032651991109071687,
          0.0006029098661768373,
          0.004740202868079635,
          0.00281259113173693,
          -0.006287151782315092,
          -1.7463869224521034e-05,
          -0.014259393839579637,
          0.007027695260665823,
          0.007127015457448316,
          -0.007355399815045516,
          -0.005013436766788004,
          0.09937954795195836,
          -0.00883603735784444,
          -0.011580352373505853,
          -0.006929253221560572,
          -0.0063240309414274165,
          -0.01250121942744098,
          -0.035523376679732266,
          0.01518371625129511,
          0.003447224045205921,
          0.025905423427740715,
          -0.014033971957886138,
          -0.011258371263235034,
          0.01902270599268796,
          -0.02793248864028275,
          0.0025476376207231866,
          0.008819317916933578,
          0.017550566203706985,
          -0.013237558997283294,
          0.007211720519426201,
          -0.0014448802335271793,
          -0.032675208997062555,
          0.015171506319471284,
          -0.0008987336214119068,
          0.002719321114120099,
          0.01847020073070471,
          -0.0039900093652924795,
          -0.016728626613939035,
          0.011081924000706955,
          0.025051540315817356,
          -0.005338691090933878,
          -0.0004316696857689095,
          0.001319249445835169,
          0.011681131010685242,
          0.01147326884115607,
          0.0042930270500773915,
          -0.006685963734474498,
          -0.0017476680260148925,
          0.0026487362436755646,
          0.005098854300245925,
          -0.007113183124679345,
          0.003327959245974732,
          -0.012451303674422043,
          0.022521728009952113,
          -0.004123953103469802,
          -0.01321744855773499,
          -0.004983432286831402,
          -0.011468319706876784,
          -0.02390810632395013,
          0.009473651593305377,
          0.01766549557104291,
          -0.00109236340018537,
          -0.015479256818204057,
          0.011022803675847292,
          0.005275862788937324,
          0.005593720540777447,
          0.0013895179806171498,
          0.02103200900449309,
          0.0005067097421083133,
          0.007553922264751378,
          -0.006067478468776422,
          0.0005297990008559239,
          -0.0026918801183200003,
          0.01305407233680711,
          0.0014761088304462433,
          0.0032777685644802546,
          0.019467330816289596,
          -0.021453295085376745,
          -0.0010538855662627356,
          -0.0009360306065442359,
          0.010758439907540662,
          0.013746219533899762,
          0.0005109810233117074,
          -0.00017801516539694973,
          0.01311988572984113,
          0.0019158704022901318,
          -0.00933144029578159,
          -0.00030014940974965043,
          -0.0006161805594544489,
          0.010316372364133741,
          0.017692914529561676,
          -0.010672043079369864,
          -0.003975477444713604,
          -0.009478676787427531,
          -0.0013055394468768355,
          -0.00462898584957383,
          0.008723994708693894,
          0.0052362555505229835,
          -0.00042646111912159057,
          -0.006134612677696438,
          -0.01159212401512022,
          0.0041466755996282245,
          0.01931386281866132,
          0.005731168072697024,
          0.009360248375458902,
          0.0021906612771944722,
          0.0008183672536974385,
          0.0002676789406343971,
          0.0038956895648221135,
          -0.0018087277446081629,
          0.009848797136581489,
          -0.00445464861692102,
          -0.0018465589158385143,
          0.0025252676375897565,
          -0.004767899121161712,
          -0.0005558788171731166,
          -0.003922087317622669,
          0.012455940938591148,
          -0.006275167897570988,
          -0.011718753192837106,
          0.0006584004723624304,
          0.02244591175970978,
          -0.004919281970372502,
          0.024358017330430748,
          -0.0006242005835188635,
          0.00784944359938855,
          0.010983953570659288,
          0.0069484864097395516,
          0.006622633185018323,
          -0.005818591751962643,
          0.005797726698729022,
          0.00864788012319373,
          0.019570326620824474,
          0.0027050901804619443,
          0.0010435988427088816,
          0.0004710174667836853,
          -0.013503512319433142,
          -0.022623748876264393,
          0.012929535553346305,
          0.0041700850531052325,
          -0.0019146122230404572,
          -0.014954923934253905,
          0.03541942298333467,
          -0.026506743885202688,
          0.0008013223300569194,
          0.019149419723818895,
          0.002030141548198472,
          0.019713463016800326,
          7.289905001872654e-05,
          0.006263510652646964,
          -0.00238052773550379,
          0.004006038174134474,
          -0.0007038171307165442,
          0.004608719862446264,
          -0.005609450402043414,
          -0.02200367068048692,
          -0.04371289425908742,
          -0.023587957596612696,
          0.0034009606525664537,
          -0.055405249420232394,
          0.015985763011236997,
          0.036493787646142195,
          -0.03495684307767899,
          0.0330906241886737,
          -0.04989279597261653,
          -0.015763763594579316,
          -0.0659355411385123,
          0.0519598063031701,
          -0.05208323391315872,
          -0.0863077817287996,
          0.08985579194162874,
          -0.1176672625586912,
          0.03218789733168137,
          -0.02075324775230225,
          0.016717602020563938,
          -0.039290020326971486,
          -0.014749345891469368,
          0.07108160277387299,
          -0.028585483215521457,
          0.05235623983779636,
          -0.044928073670257085,
          0.031993432560217805,
          0.013846692113681058,
          -0.050433280810262104,
          0.013672114526511514,
          -0.02069732175804262,
          0.07798070163747539,
          -0.00034552034354362604,
          0.019835528765289823,
          0.0009661869617572094,
          0.005030955232624201,
          0.04156149779753893,
          -0.005340305693128045,
          0.0007917845043357019,
          0.015534041651126707,
          -0.013051893801946157,
          -0.0404977070319017,
          0.03780974778311563,
          0.01031707862545872,
          0.002347767853153826,
          -0.002684775446093468,
          -0.03364263811375334,
          0.08377996520230901,
          0.005338064726318592,
          -0.021017792281833536,
          0.004676324919077324,
          0.018156401099081343,
          -0.002823839970132802,
          0.01857502596129379,
          0.01145274166680732,
          0.010667714438705289,
          -0.01980634701756756,
          -0.01938362068034305,
          0.00502691833996316,
          0.01250139891467672,
          0.00779800367154504,
          -0.007583166492545423,
          0.023909437702973158,
          -0.002790458435135257,
          0.005417289441449036,
          0.004668525185353545,
          0.0005784739395702232,
          -0.0007831772927326952,
          0.0085675595646455,
          0.0020273798715937374,
          0.005154955009397,
          -0.001975216836670235,
          -0.016991415240184438,
          0.018389794991963804,
          0.0056984353181750436,
          0.006579979275326053,
          0.006632405018859089,
          -0.04322394768981752,
          0.006631207482906021,
          0.004708692904555001,
          0.015978985426873038,
          0.00580546823995487,
          -0.010502080820907977,
          -0.002957089650951872,
          0.013968984700949427,
          0.008606971384382156,
          -0.02240135617699668,
          0.00651516980411504,
          -0.05815508235769684,
          0.0254617030783324
         ],
         "xaxis": "x4",
         "yaxis": "y4"
        },
        {
         "histfunc": "count",
         "histnorm": "",
         "marker": {
          "color": "rgba(219, 64, 82, 1.0)",
          "line": {
           "color": "#4D5663",
           "width": 1.3
          }
         },
         "name": "NFLX",
         "opacity": 0.8,
         "orientation": "v",
         "type": "histogram",
         "x": [
          0,
          -0.019562018277403226,
          0.048616123764885444,
          0.006571504403646955,
          0.003927827806929685,
          0.010417894318091925,
          -0.02485815711548245,
          -0.002104484775219184,
          -0.016388844827108784,
          -0.006182997427372605,
          -0.010832068175128384,
          0.031551785176393565,
          0.018368844080637103,
          0.017762439790516282,
          0.004638221334283266,
          0.010893057503615466,
          0.004944331828315995,
          -0.02937291266301223,
          0.005259595277912865,
          0.021360449388509117,
          -0.007323605855347637,
          0.01962538361847521,
          0.0022132099046965337,
          0.016615342538848665,
          -0.0030698161108935196,
          -0.011602948108792255,
          0.00997241142019245,
          0.00281236917923966,
          -0.003944778291016249,
          -0.016606160416385407,
          -0.017977084364716234,
          -0.0016653681136169496,
          -0.009747033851077447,
          -0.10838784885660147,
          -0.03158103309996818,
          -0.014319783711023604,
          -0.010745855009356653,
          0.03403826399861387,
          0.02644471013985239,
          0.028148776421421218,
          -0.009214960257589944,
          -0.02055860780314589,
          -0.009061279156088453,
          -0.010864058938413024,
          -0.002099270558762356,
          -0.03576022525187472,
          0.007997067781861489,
          -0.018913623651292788,
          0.03744446634948151,
          -0.022310998177861308,
          0.006131405423019487,
          0.00465412161092793,
          -0.04308886760525521,
          -0.011263002090709406,
          0.023524133602327524,
          0.021497829341640795,
          -0.034160215237795555,
          -0.003954404281421908,
          -0.0029592949506573873,
          -0.01866223504386344,
          0.012073433598317251,
          -0.013481244228793265,
          0.002539432558476662,
          0.017025336459467688,
          -0.010262054006453525,
          -0.015299390730402429,
          0.007678901657264703,
          0.0059169111483541315,
          -0.010558483133253915,
          0.014268544893869972,
          -0.021809825892906254,
          0.0009717794447468009,
          0.002044588115777124,
          0.018147729598974927,
          0.0004758842039942479,
          0.014539200780742334,
          -0.023859097405115826,
          -0.017158271450057327,
          -0.0568916508092574,
          -0.01800032371862681,
          -0.043541168492603255,
          0.03913159081164608,
          -0.005453948481364712,
          -0.0008739186075006344,
          0.01710992823887203,
          0.007297096868768449,
          -0.0057662325101270895,
          0.0004475926771974059,
          0.017155797062745393,
          0.006103199977801843,
          -0.013720418780951427,
          -0.01185337590933866,
          0.047270755325043545,
          0.008697030994206045,
          0.009147606772693884,
          -0.004492965478916311,
          0.007116215975733198,
          0.024396107571747372,
          -0.06350508837039825,
          0.00993954192355595,
          -0.04171396540489525,
          0.017027650029445063,
          0.0008475450181562039,
          0.019405362552982197,
          0.018042939865776653,
          -0.002308750997146447,
          0.03576681557974837,
          -0.013958725882783796,
          -0.0020898133837494726,
          0.02087466199972532,
          -0.016629991969011826,
          0.0019423458756016032,
          0.0033901062637031742,
          0.0068830500245855575,
          0.008911660690709589,
          -0.007403718294131778,
          -0.03095261873980082,
          0.022734239080882013,
          0.018507339905860398,
          0.02523563791932748,
          9.914165823055043e-05,
          0.008424419698150665,
          0.021172870738548788,
          -0.0038895895155688365,
          0.016197586899683536,
          -0.009744671931867899,
          0.010948209464127778,
          -0.004027944426989727,
          -0.014952695059242238,
          -0.0124321543124708,
          -0.006028049654354106,
          -0.00480919926303347,
          0.01471657905005408,
          -0.01590590574063988,
          -0.03149921264319744,
          0.019627342940268022,
          -0.0016404919840935506,
          0.00020101704878339177,
          0.01894829147313004,
          0.03637709904816955,
          0.016722514586558823,
          0.03497956579679773,
          0.013988728558495644,
          -0.011343368772801732,
          0.0003001834054279229,
          -0.0017121711212704227,
          -0.010699517348460752,
          -0.017719650733139858,
          0.0008038887511281345,
          0.019101227193572434,
          -0.01192615655493423,
          0.030014472446101337,
          -0.015242236566366252,
          0.02540400085758776,
          -0.010668050062444756,
          -0.019889075985881632,
          0.029554453145121506,
          -0.0006788890062887631,
          0.0011213553976530122,
          -0.0013280770604673364,
          0.003096077300511091,
          -0.00460335458067096,
          -0.036473861633477433,
          0.06989227987324131,
          0.010131561162980418,
          -0.02954067643707603,
          0.01631503987442695,
          -0.01549876446379006,
          0.01325822464003057,
          -0.007649804052533682,
          0.03672774443671312,
          0.03029078400801488,
          0.0017869816890101475,
          -0.007385119840455978,
          -0.0004907136146554691,
          0.01165582515051966,
          0.007035839440804104,
          0.016771010628049865,
          0.0036510833014062882,
          -0.002625362537152398,
          0.01921485072869089,
          -0.004108682693504839,
          -0.0004921131965964776,
          -0.01548190391204951,
          -0.030372127204380206,
          -0.02362934831302166,
          0.05181523426386381,
          -0.020055266929334792,
          -0.007236019128974647,
          0.03205262983594359,
          -0.03275745439731814,
          0.03992243658206984,
          -0.029107120232565897,
          -0.010273086798227027,
          -0.06286141323063266,
          0.04965703014288092,
          -0.039806364840901054,
          -0.10433862045715436,
          0.06463760760315296,
          -0.11809528159499649,
          0.0676311396057665,
          -0.013475846292513971,
          0.051161728436999176,
          0.002406486167514821,
          0.07922191107504162,
          -0.008221960514710247,
          -0.04268127831476498,
          0.05842477775621724,
          -0.0163034126925945,
          0.03802237096844596,
          0.01216425415560174,
          -0.030884884377077704,
          0.016345575372688437,
          -0.022738126675379,
          0.04908492600855663,
          -0.020419705494459706,
          -0.003120808751993387,
          -0.0010783833096681406,
          0.06778368128101153,
          0.04154765136238048,
          0.03141996505430189,
          0.02868825075213355,
          -0.037609020702160656,
          0.033776234347121736,
          -0.008401104728438469,
          -0.02902272839147635,
          0.012451225850218073,
          -0.004015602544598984,
          -0.008530565270694623,
          -0.042541086913501225,
          0.019762394900812552,
          0.01914116019297829,
          -0.0109686345324711,
          0.030544702582173677,
          -0.008137660317715678,
          0.02230752865466279,
          0.00521364309032446,
          -0.0022475264057222333,
          0.011346250119093071,
          -0.019946970648243578,
          0.01482628203599834,
          0.008361647382755244,
          0.027318836943867275,
          -0.003551104647377734,
          -0.003408467113555247,
          -0.007499662472230106,
          -0.025840910321866417,
          -0.016012894843267844,
          -0.03447845543283634,
          0.012268683858303042,
          -0.015480400039549203,
          0.01509926652876814,
          0.014639893145115046,
          0.0032581726910638764,
          -0.012575515069765508,
          -0.018271499004829828,
          0.012639165718537626,
          -0.0002622266270631002,
          0.0341200422731438,
          0.0009902322984869372,
          -0.020743996101503903,
          -0.017757042773079768,
          0.01761604787526938,
          0.024675427226601876,
          0.026339307950925317,
          0.004678958094256558,
          0.008521629096061467,
          0.031073510226302226,
          -0.0038103412137795445,
          -0.01820180650923664,
          0.017450857401408726,
          -0.04952020686901637,
          0.008623058026902441
         ],
         "xaxis": "x5",
         "yaxis": "y5"
        }
       ],
       "layout": {
        "barmode": "overlay",
        "legend": {
         "bgcolor": "#F5F6F9",
         "font": {
          "color": "#4D5663"
         }
        },
        "paper_bgcolor": "#F5F6F9",
        "plot_bgcolor": "#F5F6F9",
        "template": {
         "data": {
          "bar": [
           {
            "error_x": {
             "color": "#2a3f5f"
            },
            "error_y": {
             "color": "#2a3f5f"
            },
            "marker": {
             "line": {
              "color": "#E5ECF6",
              "width": 0.5
             }
            },
            "type": "bar"
           }
          ],
          "barpolar": [
           {
            "marker": {
             "line": {
              "color": "#E5ECF6",
              "width": 0.5
             }
            },
            "type": "barpolar"
           }
          ],
          "carpet": [
           {
            "aaxis": {
             "endlinecolor": "#2a3f5f",
             "gridcolor": "white",
             "linecolor": "white",
             "minorgridcolor": "white",
             "startlinecolor": "#2a3f5f"
            },
            "baxis": {
             "endlinecolor": "#2a3f5f",
             "gridcolor": "white",
             "linecolor": "white",
             "minorgridcolor": "white",
             "startlinecolor": "#2a3f5f"
            },
            "type": "carpet"
           }
          ],
          "choropleth": [
           {
            "colorbar": {
             "outlinewidth": 0,
             "ticks": ""
            },
            "type": "choropleth"
           }
          ],
          "contour": [
           {
            "colorbar": {
             "outlinewidth": 0,
             "ticks": ""
            },
            "colorscale": [
             [
              0,
              "#0d0887"
             ],
             [
              0.1111111111111111,
              "#46039f"
             ],
             [
              0.2222222222222222,
              "#7201a8"
             ],
             [
              0.3333333333333333,
              "#9c179e"
             ],
             [
              0.4444444444444444,
              "#bd3786"
             ],
             [
              0.5555555555555556,
              "#d8576b"
             ],
             [
              0.6666666666666666,
              "#ed7953"
             ],
             [
              0.7777777777777778,
              "#fb9f3a"
             ],
             [
              0.8888888888888888,
              "#fdca26"
             ],
             [
              1,
              "#f0f921"
             ]
            ],
            "type": "contour"
           }
          ],
          "contourcarpet": [
           {
            "colorbar": {
             "outlinewidth": 0,
             "ticks": ""
            },
            "type": "contourcarpet"
           }
          ],
          "heatmap": [
           {
            "colorbar": {
             "outlinewidth": 0,
             "ticks": ""
            },
            "colorscale": [
             [
              0,
              "#0d0887"
             ],
             [
              0.1111111111111111,
              "#46039f"
             ],
             [
              0.2222222222222222,
              "#7201a8"
             ],
             [
              0.3333333333333333,
              "#9c179e"
             ],
             [
              0.4444444444444444,
              "#bd3786"
             ],
             [
              0.5555555555555556,
              "#d8576b"
             ],
             [
              0.6666666666666666,
              "#ed7953"
             ],
             [
              0.7777777777777778,
              "#fb9f3a"
             ],
             [
              0.8888888888888888,
              "#fdca26"
             ],
             [
              1,
              "#f0f921"
             ]
            ],
            "type": "heatmap"
           }
          ],
          "heatmapgl": [
           {
            "colorbar": {
             "outlinewidth": 0,
             "ticks": ""
            },
            "colorscale": [
             [
              0,
              "#0d0887"
             ],
             [
              0.1111111111111111,
              "#46039f"
             ],
             [
              0.2222222222222222,
              "#7201a8"
             ],
             [
              0.3333333333333333,
              "#9c179e"
             ],
             [
              0.4444444444444444,
              "#bd3786"
             ],
             [
              0.5555555555555556,
              "#d8576b"
             ],
             [
              0.6666666666666666,
              "#ed7953"
             ],
             [
              0.7777777777777778,
              "#fb9f3a"
             ],
             [
              0.8888888888888888,
              "#fdca26"
             ],
             [
              1,
              "#f0f921"
             ]
            ],
            "type": "heatmapgl"
           }
          ],
          "histogram": [
           {
            "marker": {
             "colorbar": {
              "outlinewidth": 0,
              "ticks": ""
             }
            },
            "type": "histogram"
           }
          ],
          "histogram2d": [
           {
            "colorbar": {
             "outlinewidth": 0,
             "ticks": ""
            },
            "colorscale": [
             [
              0,
              "#0d0887"
             ],
             [
              0.1111111111111111,
              "#46039f"
             ],
             [
              0.2222222222222222,
              "#7201a8"
             ],
             [
              0.3333333333333333,
              "#9c179e"
             ],
             [
              0.4444444444444444,
              "#bd3786"
             ],
             [
              0.5555555555555556,
              "#d8576b"
             ],
             [
              0.6666666666666666,
              "#ed7953"
             ],
             [
              0.7777777777777778,
              "#fb9f3a"
             ],
             [
              0.8888888888888888,
              "#fdca26"
             ],
             [
              1,
              "#f0f921"
             ]
            ],
            "type": "histogram2d"
           }
          ],
          "histogram2dcontour": [
           {
            "colorbar": {
             "outlinewidth": 0,
             "ticks": ""
            },
            "colorscale": [
             [
              0,
              "#0d0887"
             ],
             [
              0.1111111111111111,
              "#46039f"
             ],
             [
              0.2222222222222222,
              "#7201a8"
             ],
             [
              0.3333333333333333,
              "#9c179e"
             ],
             [
              0.4444444444444444,
              "#bd3786"
             ],
             [
              0.5555555555555556,
              "#d8576b"
             ],
             [
              0.6666666666666666,
              "#ed7953"
             ],
             [
              0.7777777777777778,
              "#fb9f3a"
             ],
             [
              0.8888888888888888,
              "#fdca26"
             ],
             [
              1,
              "#f0f921"
             ]
            ],
            "type": "histogram2dcontour"
           }
          ],
          "mesh3d": [
           {
            "colorbar": {
             "outlinewidth": 0,
             "ticks": ""
            },
            "type": "mesh3d"
           }
          ],
          "parcoords": [
           {
            "line": {
             "colorbar": {
              "outlinewidth": 0,
              "ticks": ""
             }
            },
            "type": "parcoords"
           }
          ],
          "pie": [
           {
            "automargin": true,
            "type": "pie"
           }
          ],
          "scatter": [
           {
            "marker": {
             "colorbar": {
              "outlinewidth": 0,
              "ticks": ""
             }
            },
            "type": "scatter"
           }
          ],
          "scatter3d": [
           {
            "line": {
             "colorbar": {
              "outlinewidth": 0,
              "ticks": ""
             }
            },
            "marker": {
             "colorbar": {
              "outlinewidth": 0,
              "ticks": ""
             }
            },
            "type": "scatter3d"
           }
          ],
          "scattercarpet": [
           {
            "marker": {
             "colorbar": {
              "outlinewidth": 0,
              "ticks": ""
             }
            },
            "type": "scattercarpet"
           }
          ],
          "scattergeo": [
           {
            "marker": {
             "colorbar": {
              "outlinewidth": 0,
              "ticks": ""
             }
            },
            "type": "scattergeo"
           }
          ],
          "scattergl": [
           {
            "marker": {
             "colorbar": {
              "outlinewidth": 0,
              "ticks": ""
             }
            },
            "type": "scattergl"
           }
          ],
          "scattermapbox": [
           {
            "marker": {
             "colorbar": {
              "outlinewidth": 0,
              "ticks": ""
             }
            },
            "type": "scattermapbox"
           }
          ],
          "scatterpolar": [
           {
            "marker": {
             "colorbar": {
              "outlinewidth": 0,
              "ticks": ""
             }
            },
            "type": "scatterpolar"
           }
          ],
          "scatterpolargl": [
           {
            "marker": {
             "colorbar": {
              "outlinewidth": 0,
              "ticks": ""
             }
            },
            "type": "scatterpolargl"
           }
          ],
          "scatterternary": [
           {
            "marker": {
             "colorbar": {
              "outlinewidth": 0,
              "ticks": ""
             }
            },
            "type": "scatterternary"
           }
          ],
          "surface": [
           {
            "colorbar": {
             "outlinewidth": 0,
             "ticks": ""
            },
            "colorscale": [
             [
              0,
              "#0d0887"
             ],
             [
              0.1111111111111111,
              "#46039f"
             ],
             [
              0.2222222222222222,
              "#7201a8"
             ],
             [
              0.3333333333333333,
              "#9c179e"
             ],
             [
              0.4444444444444444,
              "#bd3786"
             ],
             [
              0.5555555555555556,
              "#d8576b"
             ],
             [
              0.6666666666666666,
              "#ed7953"
             ],
             [
              0.7777777777777778,
              "#fb9f3a"
             ],
             [
              0.8888888888888888,
              "#fdca26"
             ],
             [
              1,
              "#f0f921"
             ]
            ],
            "type": "surface"
           }
          ],
          "table": [
           {
            "cells": {
             "fill": {
              "color": "#EBF0F8"
             },
             "line": {
              "color": "white"
             }
            },
            "header": {
             "fill": {
              "color": "#C8D4E3"
             },
             "line": {
              "color": "white"
             }
            },
            "type": "table"
           }
          ]
         },
         "layout": {
          "annotationdefaults": {
           "arrowcolor": "#2a3f5f",
           "arrowhead": 0,
           "arrowwidth": 1
          },
          "autotypenumbers": "strict",
          "coloraxis": {
           "colorbar": {
            "outlinewidth": 0,
            "ticks": ""
           }
          },
          "colorscale": {
           "diverging": [
            [
             0,
             "#8e0152"
            ],
            [
             0.1,
             "#c51b7d"
            ],
            [
             0.2,
             "#de77ae"
            ],
            [
             0.3,
             "#f1b6da"
            ],
            [
             0.4,
             "#fde0ef"
            ],
            [
             0.5,
             "#f7f7f7"
            ],
            [
             0.6,
             "#e6f5d0"
            ],
            [
             0.7,
             "#b8e186"
            ],
            [
             0.8,
             "#7fbc41"
            ],
            [
             0.9,
             "#4d9221"
            ],
            [
             1,
             "#276419"
            ]
           ],
           "sequential": [
            [
             0,
             "#0d0887"
            ],
            [
             0.1111111111111111,
             "#46039f"
            ],
            [
             0.2222222222222222,
             "#7201a8"
            ],
            [
             0.3333333333333333,
             "#9c179e"
            ],
            [
             0.4444444444444444,
             "#bd3786"
            ],
            [
             0.5555555555555556,
             "#d8576b"
            ],
            [
             0.6666666666666666,
             "#ed7953"
            ],
            [
             0.7777777777777778,
             "#fb9f3a"
            ],
            [
             0.8888888888888888,
             "#fdca26"
            ],
            [
             1,
             "#f0f921"
            ]
           ],
           "sequentialminus": [
            [
             0,
             "#0d0887"
            ],
            [
             0.1111111111111111,
             "#46039f"
            ],
            [
             0.2222222222222222,
             "#7201a8"
            ],
            [
             0.3333333333333333,
             "#9c179e"
            ],
            [
             0.4444444444444444,
             "#bd3786"
            ],
            [
             0.5555555555555556,
             "#d8576b"
            ],
            [
             0.6666666666666666,
             "#ed7953"
            ],
            [
             0.7777777777777778,
             "#fb9f3a"
            ],
            [
             0.8888888888888888,
             "#fdca26"
            ],
            [
             1,
             "#f0f921"
            ]
           ]
          },
          "colorway": [
           "#636efa",
           "#EF553B",
           "#00cc96",
           "#ab63fa",
           "#FFA15A",
           "#19d3f3",
           "#FF6692",
           "#B6E880",
           "#FF97FF",
           "#FECB52"
          ],
          "font": {
           "color": "#2a3f5f"
          },
          "geo": {
           "bgcolor": "white",
           "lakecolor": "white",
           "landcolor": "#E5ECF6",
           "showlakes": true,
           "showland": true,
           "subunitcolor": "white"
          },
          "hoverlabel": {
           "align": "left"
          },
          "hovermode": "closest",
          "mapbox": {
           "style": "light"
          },
          "paper_bgcolor": "white",
          "plot_bgcolor": "#E5ECF6",
          "polar": {
           "angularaxis": {
            "gridcolor": "white",
            "linecolor": "white",
            "ticks": ""
           },
           "bgcolor": "#E5ECF6",
           "radialaxis": {
            "gridcolor": "white",
            "linecolor": "white",
            "ticks": ""
           }
          },
          "scene": {
           "xaxis": {
            "backgroundcolor": "#E5ECF6",
            "gridcolor": "white",
            "gridwidth": 2,
            "linecolor": "white",
            "showbackground": true,
            "ticks": "",
            "zerolinecolor": "white"
           },
           "yaxis": {
            "backgroundcolor": "#E5ECF6",
            "gridcolor": "white",
            "gridwidth": 2,
            "linecolor": "white",
            "showbackground": true,
            "ticks": "",
            "zerolinecolor": "white"
           },
           "zaxis": {
            "backgroundcolor": "#E5ECF6",
            "gridcolor": "white",
            "gridwidth": 2,
            "linecolor": "white",
            "showbackground": true,
            "ticks": "",
            "zerolinecolor": "white"
           }
          },
          "shapedefaults": {
           "line": {
            "color": "#2a3f5f"
           }
          },
          "ternary": {
           "aaxis": {
            "gridcolor": "white",
            "linecolor": "white",
            "ticks": ""
           },
           "baxis": {
            "gridcolor": "white",
            "linecolor": "white",
            "ticks": ""
           },
           "bgcolor": "#E5ECF6",
           "caxis": {
            "gridcolor": "white",
            "linecolor": "white",
            "ticks": ""
           }
          },
          "title": {
           "x": 0.05
          },
          "xaxis": {
           "automargin": true,
           "gridcolor": "white",
           "linecolor": "white",
           "ticks": "",
           "title": {
            "standoff": 15
           },
           "zerolinecolor": "white",
           "zerolinewidth": 2
          },
          "yaxis": {
           "automargin": true,
           "gridcolor": "white",
           "linecolor": "white",
           "ticks": "",
           "title": {
            "standoff": 15
           },
           "zerolinecolor": "white",
           "zerolinewidth": 2
          }
         }
        },
        "title": {
         "font": {
          "color": "#4D5663"
         },
         "text": "Histogram of Daily Returns"
        },
        "xaxis": {
         "anchor": "y",
         "domain": [
          0,
          0.45
         ],
         "gridcolor": "#E1E5ED",
         "showgrid": true,
         "tickfont": {
          "color": "#4D5663"
         },
         "title": {
          "font": {
           "color": "#4D5663"
          },
          "text": ""
         },
         "zerolinecolor": "#E1E5ED"
        },
        "xaxis2": {
         "anchor": "y2",
         "domain": [
          0.55,
          1
         ],
         "gridcolor": "#E1E5ED",
         "showgrid": true,
         "tickfont": {
          "color": "#4D5663"
         },
         "title": {
          "font": {
           "color": "#4D5663"
          },
          "text": ""
         },
         "zerolinecolor": "#E1E5ED"
        },
        "xaxis3": {
         "anchor": "y3",
         "domain": [
          0,
          0.45
         ],
         "gridcolor": "#E1E5ED",
         "showgrid": true,
         "tickfont": {
          "color": "#4D5663"
         },
         "title": {
          "font": {
           "color": "#4D5663"
          },
          "text": ""
         },
         "zerolinecolor": "#E1E5ED"
        },
        "xaxis4": {
         "anchor": "y4",
         "domain": [
          0.55,
          1
         ],
         "gridcolor": "#E1E5ED",
         "showgrid": true,
         "tickfont": {
          "color": "#4D5663"
         },
         "title": {
          "font": {
           "color": "#4D5663"
          },
          "text": ""
         },
         "zerolinecolor": "#E1E5ED"
        },
        "xaxis5": {
         "anchor": "y5",
         "domain": [
          0,
          0.45
         ],
         "gridcolor": "#E1E5ED",
         "showgrid": true,
         "tickfont": {
          "color": "#4D5663"
         },
         "title": {
          "font": {
           "color": "#4D5663"
          },
          "text": ""
         },
         "zerolinecolor": "#E1E5ED"
        },
        "yaxis": {
         "anchor": "x",
         "domain": [
          0.7333333333333333,
          1
         ],
         "gridcolor": "#E1E5ED",
         "showgrid": true,
         "tickfont": {
          "color": "#4D5663"
         },
         "title": {
          "font": {
           "color": "#4D5663"
          },
          "text": ""
         },
         "zerolinecolor": "#E1E5ED"
        },
        "yaxis2": {
         "anchor": "x2",
         "domain": [
          0.7333333333333333,
          1
         ],
         "gridcolor": "#E1E5ED",
         "showgrid": true,
         "tickfont": {
          "color": "#4D5663"
         },
         "title": {
          "font": {
           "color": "#4D5663"
          },
          "text": ""
         },
         "zerolinecolor": "#E1E5ED"
        },
        "yaxis3": {
         "anchor": "x3",
         "domain": [
          0.36666666666666664,
          0.6333333333333333
         ],
         "gridcolor": "#E1E5ED",
         "showgrid": true,
         "tickfont": {
          "color": "#4D5663"
         },
         "title": {
          "font": {
           "color": "#4D5663"
          },
          "text": ""
         },
         "zerolinecolor": "#E1E5ED"
        },
        "yaxis4": {
         "anchor": "x4",
         "domain": [
          0.36666666666666664,
          0.6333333333333333
         ],
         "gridcolor": "#E1E5ED",
         "showgrid": true,
         "tickfont": {
          "color": "#4D5663"
         },
         "title": {
          "font": {
           "color": "#4D5663"
          },
          "text": ""
         },
         "zerolinecolor": "#E1E5ED"
        },
        "yaxis5": {
         "anchor": "x5",
         "domain": [
          0,
          0.26666666666666666
         ],
         "gridcolor": "#E1E5ED",
         "showgrid": true,
         "tickfont": {
          "color": "#4D5663"
         },
         "title": {
          "font": {
           "color": "#4D5663"
          },
          "text": ""
         },
         "zerolinecolor": "#E1E5ED"
        }
       }
      },
      "text/html": [
       "<div>                            <div id=\"33ae6e5a-6258-40f2-830f-b8ae7e445ec0\" class=\"plotly-graph-div\" style=\"height:525px; width:100%;\"></div>            <script type=\"text/javascript\">                require([\"plotly\"], function(Plotly) {                    window.PLOTLYENV=window.PLOTLYENV || {};\n",
       "                    window.PLOTLYENV.BASE_URL='https://plot.ly';                                    if (document.getElementById(\"33ae6e5a-6258-40f2-830f-b8ae7e445ec0\")) {                    Plotly.newPlot(                        \"33ae6e5a-6258-40f2-830f-b8ae7e445ec0\",                        [{\"histfunc\": \"count\", \"histnorm\": \"\", \"marker\": {\"color\": \"rgba(255, 153, 51, 1.0)\", \"line\": {\"color\": \"#4D5663\", \"width\": 1.3}}, \"name\": \"AAPL\", \"opacity\": 0.8, \"orientation\": \"v\", \"type\": \"histogram\", \"x\": [0.0, -0.010161672268911293, 0.03593073008103298, 0.016014389010214014, 0.01457495550144472, 0.026269051886091077, 0.012698295164007778, 0.011513035922226855, -0.003187518662308264, -0.00020613213238407369, -0.007288957138376961, 0.005948980640237078, 0.02324615484858361, -0.002926976116881974, 0.008003469943111963, -0.003415113170603945, -0.0010064850693285443, -0.015273676225186605, 0.021398506137809026, -0.00030033675639407065, -0.009153608478488895, 0.018174600655950002, 0.005837361778914474, 0.008252804400902036, -0.0008809458056244779, -0.020829515400728305, 0.0060811011254577885, 0.009840037562139248, -0.007309105832551399, 0.007653524762805564, 0.00935103221288669, -0.003465946575325507, -0.005639231809455136, 0.01129566558353945, -0.01504008519944433, 0.022596729290817574, 0.007787377761713454, -0.0008141304026176854, -0.007938793610348327, 0.0034718657307624134, 0.00929516772127581, -0.004301443756305812, 0.020198956287005743, -0.021876745404517006, -0.021385211975371465, -0.05376790714466528, 0.018753609031630702, 0.010302019844190546, 0.021816197155138273, -0.00827452367173187, -0.0025407416281737483, 0.04147625092490781, -0.030216932384168338, -0.004993938559600508, 0.023320623491525527, 0.01847243495041928, 4.7553075074979745e-05, 0.010780225123508291, -0.0008468981148781474, -0.0473226992387592, 0.018820942219957004, -0.011348037815705592, 0.006688074263638377, 0.016790033799158888, -0.0012925133331571637, -0.014670782457983922, 0.016824167161098913, 0.01936294246919701, -9.387861834486699e-05, 0.004258147188389572, 0.01174371768360416, 0.03130018917586419, -0.0022387266459880095, -0.019645830675513398, 0.0052434115221422495, 0.0036313940729062466, 0.00933564687706756, -0.008158123777475268, -0.014726162356706318, 0.0045367810219221205, -0.004766377351034468, 0.015272394262606959, -0.005170972566171272, -0.004877946026871527, 0.02326257065884807, 0.002764414455263875, -0.025387412382452457, 0.008458718758509676, 0.027646208883151946, 0.00022029704153325724, -0.011784206349430448, 0.011652033948291063, 0.01338843777639287, 0.026250703888007543, -0.0014404777451995088, -0.0023344362196144886, -0.00404526812822148, 0.003875155309817302, 0.004791367637855259, 0.017194044455242974, -0.0022893478966716785, 0.013329548755075749, 0.0016435110335448755, 0.012241169422375187, 0.009967097912122469, -0.023399530808681845, -0.00012335457450429743, 0.02235773939247032, 0.027985586337449853, 0.006545524871710562, -0.0014377619803305208, 0.0004275970885796454, 0.01147524007346501, 0.002733021367986588, 0.007887844242847386, -0.000915987545589303, 0.009536065011737982, -0.006943548549041445, 0.011809394686135732, 0.005029454737504935, -0.0030371997799854, -0.011709611775178708, -0.004493629913927322, -0.0008783191326369177, 0.017381825063464085, -0.007839117477866253, 0.013342639182576832, -0.002205169723282552, -0.011629548098356146, -0.017990874733956552, 0.008787492551157072, 0.01456449656629566, 0.019131846132680153, -0.014098991034273034, 0.005827503624290742, 0.008493301640962514, 0.002544895653095125, 0.01350175748203064, 0.01697298218665022, 0.001963329842778805, -0.002392153439267908, 0.0010003757742094166, -0.002073350126318374, 0.016186559345463536, 0.0009501867694723387, 0.019646131554164725, -0.00037954066053913493, 0.005917648572800083, 0.007279942374496251, 0.022559999157191868, -0.00976973108270407, 0.007936659630909837, -0.004714097584066046, 0.015958345591130296, 0.02101825370588184, 0.002258091582015176, 0.02113936670914729, -0.0135951598490891, -0.0042948231564539086, 0.012448788878753447, 0.01100998397967956, -0.006799782528610798, 0.0035630768604359986, 0.004804326070274811, -0.0028861492450298343, -0.02984625851846978, 0.027896592790855657, 0.020716335092493487, -0.0014502334644017623, -0.04535174069798753, -0.002750022148633846, 0.03248042470998058, 0.008121300833608736, 0.011629043167588726, -0.013685913293053353, 0.0047382059345313365, -0.006051530605762245, 0.02347021073959432, -0.007146466326309664, 0.00024611208715086264, -0.018480220785281887, 0.014378868957382274, -0.01031190562993789, -0.022895143121459682, -0.0486655193001706, -0.03445912555167929, 0.015739036415040708, -0.06760254203871252, -0.0005852131924770632, 0.08901836532012819, -0.032274527149978915, 0.04534099514018308, -0.03297483936625145, -0.013369038881197781, -0.08239524218003158, 0.06954622134139843, -0.03534798381298465, -0.10397778165710925, 0.11315747084517014, -0.13770802163475526, 0.04303081337517067, -0.024784564864974712, -0.007691565510524967, -0.06559036561480092, -0.02147297284625349, 0.09560587500060347, -0.005523944076127663, 0.05128516452335141, -0.042283800423038365, 0.028138324860607078, -0.0020428141398678434, -0.05405192502600009, 0.016548979849221546, -0.014475573836549849, 0.08363991104442547, -0.01164973197211605, 0.025272451242253524, 0.007190243989531275, 0.019437406851260164, 0.04926922280538637, -0.009169122005894259, 0.00791422295327493, -0.01366144485964682, -0.020975294693230673, -0.03139809213896072, 0.02839650724686482, -0.0038828184163932633, 0.028460651990813268, 0.0007065490160034216, -0.01634234653458133, 0.032317430305846884, 0.020876644333553962, -0.016230256521035713, 0.014049559655828325, 0.01489735358862454, 0.010264476036308423, 0.01029172647672727, 0.023522928954989197, 0.01561270844089968, -0.011494043369701501, -0.012147488033396492, 0.006124492948182514, -0.0059296007553966135, 0.02328786595457011, -0.005795184279124399, 0.019261481330026697, -0.007483427577172463, 0.0064177890646615054, -0.0067965576864210675, 0.004347490213289618, 0.0004400625206191222, -0.0009745195038730614, 0.012222910195056613, 0.004618754232588174, 0.005489963615841198, -0.008649453169232935, 0.028082994470056022, 0.00589499096081969, 0.031089684589801436, 0.025402082231256173, -0.04920114854185176, 0.008596483813177791, 0.012291259899612328, 0.026157134777268887, -0.001392627257679635, 0.00039816607255893643, -0.005731096551152781, 0.025827361352522615, 0.021120200170686054, -0.01780969647374775, 0.013188228496670895, -0.031207674257778706, 0.02278508521982925], \"xaxis\": \"x\", \"yaxis\": \"y\"}, {\"histfunc\": \"count\", \"histnorm\": \"\", \"marker\": {\"color\": \"rgba(55, 128, 191, 1.0)\", \"line\": {\"color\": \"#4D5663\", \"width\": 1.3}}, \"name\": \"AMZN\", \"opacity\": 0.8, \"orientation\": \"v\", \"type\": \"histogram\", \"x\": [0.0, -0.047520883652691914, 0.021548129920398118, 0.005155597687068969, 0.009081437228507738, 0.027918957759307084, 0.030892075224040916, 0.0016485902272842523, -0.004506573934242475, 0.008041712943248847, -0.0003369037041176526, 0.008712138089374655, 0.008100570103187543, 0.0038948775164104887, 0.0049124486122416045, -0.003598338175532234, 0.0013593934625850679, -0.018791906999332753, 0.010359954235705793, 0.0033928947109176377, -0.005608375255642173, 0.014969506028700508, 0.006285573494815289, 0.0024216722272756286, 0.002014490530465096, 0.004831514679031201, 0.018261645369611834, 0.014534500604235667, -0.008132516786499622, 0.004950100133155999, 0.004955374741105523, -0.005502503795147717, -0.008930747739461786, -0.007118545848358693, -0.00678773753454287, 0.010688295982273388, 0.004452127070154077, 0.0031637541880593645, -0.013581403622953125, -0.015711795635854564, -0.015873811541553096, -0.0073051991091110935, -0.0168648807356524, -0.006157878238795433, -0.017442026171072378, -0.0323907879694989, 0.012778224520960002, 0.003110703798028247, 0.02178069098866242, -0.01390505435044087, -0.0126152888669111, 0.021844638134160377, -0.03422406665253863, 0.007437014703788769, 0.0092191072641441, 0.013052040232560458, -0.008149314061903112, 0.012226647744316033, -0.010407460954412251, -0.030973608621947868, 0.010942303162058131, -0.003987905225534938, 0.0013726542537071396, 0.01247676431163569, -0.005675493691192912, 0.007599269766934036, 0.006004836041275219, 0.02202573618569925, -0.003924615622960204, -0.0011787814205392877, -0.005914706410776738, 0.0013393248021547066, 0.011215082270821242, -0.0022862940923893404, -0.017274049467032704, 0.00810390258526894, -0.00279674572035038, 0.002220437029131439, -0.015123372580061023, -0.004950469199546781, -0.024776531329439244, 0.015225609173180388, -0.016242438200500864, -0.008305277600899608, 0.006043933536841628, -0.00014979419150051854, -0.01300153077868682, 0.006510321248894613, 0.008793170057021626, -0.004026137964990184, -0.015793627668322152, 0.00961640114814788, -0.001005145247673589, 0.006755197201845142, 0.002600667280166391, 0.017666914392036936, 0.00567030424181425, 0.005638264800736259, -0.016908755642111473, 0.015890073788625614, -0.011223922382344043, -0.0020181624802839693, 0.01050545795089608, -0.01098230648590004, 0.008902362591903135, -0.008119167744025546, 0.009755365442042141, -0.0018725244287898235, 0.008284516611253956, 0.007352494323708214, -0.00163603507360488, -0.003302282062139561, -0.0042244101814352675, -0.0012982063319304515, -0.007999964157171746, 0.0035778075674750554, -0.014097791904812418, 0.0008495516109272572, -0.008648935596951013, 0.007468513698398738, 0.0001483515120055401, -0.004150575159660441, -0.006218021315647526, 0.006326831287111645, 0.015979607670764118, 0.012938516760995888, 0.011932304182734832, -0.00978645211250928, -0.010719214467497018, -0.006554897866958065, -0.005251180994606308, -0.011544818365310405, 0.006368715976257988, -0.0011938876969326273, -0.005904789631646423, 0.005453110307906961, 0.006617191523600852, 0.0003464575993472607, 0.00468537307997785, 0.012051188876309737, -0.0037094194838553918, 0.004613702111462281, -0.00323017021179961, 0.0036317961416685307, -0.002116034804224398, 0.043506311073348236, 0.0005510284970480228, -0.012328348051005023, 0.0005142195493741397, 0.026788603135409872, -0.012213330353824325, 0.014775886893687584, 0.002089371939726803, -0.007839303720199808, 0.0047877920092274096, -0.009455155784895197, 0.004313214122831255, -0.01162555969525858, -0.003976959009211356, 0.008513469767797766, -0.0070645081276898836, 0.01452357856454789, -0.0024024814619814094, -0.001527028083385673, -0.012247133547653277, -0.01804939487049939, 0.013532421888525548, 0.0025597858369543758, 0.006801389450791895, 0.07119565886991719, -0.0022527344331653154, 0.022433812187514057, -0.0047926885250184625, 0.005065894510809521, 0.014069721579418548, 0.025934242450163403, 0.007883952173616926, 0.004268333040378991, -0.004700791991761655, -0.007001619915233626, 0.009695734076484719, 0.006726987536931794, -0.00791982192438212, -0.026892270076564806, -0.042234994122227754, -0.018358010889469867, 0.00346630090138067, -0.04933331023178589, -0.000291954100876346, 0.036588468808849584, -0.023278638497808757, 0.034414239724960716, -0.026566581130196276, -0.011994571954325295, -0.05430189966417398, 0.04941381204609563, -0.03823039138147877, -0.08253501999173007, 0.06264452631284101, -0.05519295694913495, 0.06790728528996404, 0.012183223280898048, 0.027450397080877487, -0.018696493493786548, 0.030272358155796653, 0.019397276958383003, -0.028366178697428523, 0.03626746956759064, -0.028734292907243386, 0.03305122298001262, -0.007271969001656053, -0.02178745513182534, 0.005817300029092642, -0.0063993141953213595, 0.046625148655404125, 0.006988976325808416, 0.015488902656451309, -0.00011747642253912005, 0.059904509213055235, 0.051424205485502306, 0.010612107119005287, 0.04263274242678783, -0.013877966170691813, 0.0078052939887784945, -0.02774160620723176, 0.015078210828857408, 0.015100187977815871, 0.004478493413181184, -0.014299615987606984, -0.026406167396397784, 0.02502051124305016, 0.041803528623244546, -0.07901519385058009, 0.013016157575810539, 0.0007812432892091437, 0.01433287784956594, 0.0069296940490843895, 0.005055600968991492, 0.012275069780357306, -0.02184333402727834, 0.004643510068742529, 0.00880021980095158, 0.008723349711000417, 0.006815511918220274, 0.009463568561415059, 0.01965181907693303, -0.020709846472815485, -0.004038037798284044, -0.006182600124499338, -0.004747368776967242, -0.003861509214097225, 0.017041920987769466, 0.011670203117975397, 0.0005542174374051356, 0.002419803378319152, -0.007207888945611529, 0.00906224419411572, 0.01640123287528894, 0.02997346146724844, 0.017754693261799126, -0.03438684358351107, -0.005071534354776475, 0.010809614360354658, 0.016419219580659394, 0.009782702868715631, 0.004910339725556767, 0.00789272958206233, 0.014404139322334863, 0.01846993722467083, -0.010915201191203039, 0.0073530115890632075, -0.02265742637347934, -0.004649051085152678], \"xaxis\": \"x2\", \"yaxis\": \"y2\"}, {\"histfunc\": \"count\", \"histnorm\": \"\", \"marker\": {\"color\": \"rgba(50, 171, 96, 1.0)\", \"line\": {\"color\": \"#4D5663\", \"width\": 1.3}}, \"name\": \"FB\", \"opacity\": 0.8, \"orientation\": \"v\", \"type\": \"histogram\", \"x\": [0.0, -0.0780209806597858, 0.02020274450006987, 0.0039920103814203856, 0.0009509876622173508, 0.029386358031477933, 0.008444207707875684, 0.018588309517664214, -0.017330743688349415, 0.013787106547409778, 0.02151699833901155, 0.04148130888619406, -0.00286104514459673, -0.005266699239829364, 0.010875166631906907, 0.008458823747292676, 0.007609390409321293, -0.019715454768708618, -0.006268241908927941, 0.00975719014598031, 0.0183011643824047, 0.0, 0.0103093696588612, 0.01121886812934303, -0.004065061849688689, -0.003263973769692896, 0.017470187322444097, 0.017515445009314234, -0.007426512158919429, 0.017927096560848454, -0.004696869821299465, -0.0003433835679054198, -0.010058231375997373, -0.005067347858616955, -0.012126210485654099, 0.019767073864946916, 0.0001976538770334102, 0.01130179111233165, -0.01948896993024718, -0.004794528975603285, -0.019258082269918653, 0.005598217362191349, -0.01436371789153057, -0.007752778304281449, -0.019437371372712953, -0.039330806586899136, 0.01518158719892515, 0.0034626416122156556, 0.02669956791560768, -0.012222037798570895, -0.013290003111311677, 0.01647890211905345, -0.04748822561576915, 0.01589870418879702, 0.006060793516174279, 0.013356249340060522, -0.012757622824969062, -0.001415475554299661, -0.008260720301979774, -0.023848337583816104, 0.014576788253607198, 0.005198277656488948, 0.002533970717267131, 0.020745103514299146, 0.00053868573249094, -0.01782364632800615, 0.025709748356799622, 0.019892702173086363, -0.0180241588060861, 0.006750797803575459, -0.013816112808457959, 0.012384759277550117, -0.005426145105405844, -0.0014946822649246627, -0.005195379840083447, 0.009938636951773105, 0.00031894933234699607, 0.010574276421202455, -0.0011050950594562181, -0.016509919012032803, -0.030102835103487102, 0.008349885168669857, -0.014824896976829649, -0.016853199485281856, 0.005518318556982038, -0.012829045241357306, -0.006906174205444593, 0.02700880954771634, 0.0059472262665156705, -0.004276263949305914, -0.010799381544211784, 0.011745135394983564, 0.0010002928106436215, 0.022844349896860017, -0.00495281530091507, 0.030149800327552434, 0.00348802624988398, 0.004421738701430478, -0.024134667179443348, 0.020820157277059437, -0.03988703078860922, 0.020679711457771255, 0.001234859025099233, 0.00806905540131364, 0.008004466569466295, -0.0004752784009687261, -0.00561500344547472, 0.01789989329936237, 0.010226690094026658, 0.0056651854348430675, -0.0020563131227850917, -0.014357435306879829, -0.005916737836898278, 0.002203212216811856, -0.006466027193386736, 0.0253085815287708, -0.006603742552072411, -0.0002071157293794812, 0.010045221400686088, 0.01171981716674697, 0.00967951407938461, -0.009122422000547914, 0.0021242076698717582, 0.004486533793881975, 0.004866851684797169, -0.0041127155809679294, 0.015113631674936734, -0.0017837712137120931, -0.009667701047435528, -0.004416295517618352, -0.0005534204174511004, 0.003265729455654842, 0.008441409861738691, 0.0014413545902129954, -0.002337094774459203, 0.006896062976964323, -0.02762008401758731, -0.013508875470153114, 0.019437887565329603, 0.0023718878854683823, 0.02050509926843702, 0.017427490122291722, 0.0011640582011356315, -0.0005818967252038121, -0.005154388217175843, 0.012932772073317444, 0.0014908407283531488, -0.01789096400191692, 0.00410094960514229, 0.0218306083819515, -0.0053053087440781965, 0.01865844664635219, 0.0021613101075148577, 0.010086961719853349, 0.014209511091417326, -0.0011000344533433903, 0.017501667688359035, -0.012926257019884702, 0.009495522964670045, 0.0027996513298669257, 0.001666982946158413, -0.0031561275369336173, -0.0005420323311895459, -0.007073634332430245, -0.008316210039887473, -0.014186635385794233, 0.013498093570125214, 0.02467134600273635, -0.06333568956289604, -0.037044849675488045, 0.011228873191867272, 0.027246742901491317, 0.0013335182128955125, 0.003515803133889328, 0.006994667677568067, 0.003432127906949134, -0.027937546268470115, 0.017083760821678062, 0.011229204651705516, 0.004867524846979165, 0.016760475734432845, -0.0014243267932467774, -0.013470259975553844, -0.020718366151716516, -0.04605336345029798, -0.01987535245306571, 0.0021828710063669376, -0.03851101041735028, 0.014232887493596635, 0.020416749829961667, -0.05520195596364719, 0.03108946384444078, -0.03497024931887349, -0.022280187130560236, -0.06614119821015318, 0.04999748361995948, -0.045641172020008725, -0.09720932779177005, 0.09744422316246748, -0.1537690588995151, 0.02308604540160264, -0.016600633701373546, 0.04112677912196272, -0.022453622098637105, -0.010945881129315715, 0.08339234463938983, -0.030078808302596904, 0.04463259668729691, -0.040926607958369665, 0.05677923222476444, 0.0051089884441948286, -0.04412478496226946, -0.008873865614419607, -0.025676154117089567, 0.0711525789005325, 0.019619019907344715, 0.03177089191032234, 0.00520791893851591, -0.0022858982475471024, 0.019152925482924132, -0.006757906837979277, -0.00407679188851251, 0.016822278872540508, -0.005594733007081132, -0.042637688335934065, 0.06505066047692143, 0.015514347677306972, 0.02633415652093607, -0.013613618486602697, -0.024784596801257663, 0.059842825188575866, 0.05275730245171317, -0.01199091656192941, 0.014673981768020816, 0.00877949426708291, 0.006738216127208929, 0.013294424543222938, 0.005146309108892133, 0.0039009594020260607, -0.014553208002539897, -0.024085942064416166, 0.008302790722451547, 0.019488788909085564, 0.010894523859634297, 0.0171604293760641, 0.058604643237027076, 0.006155725034928672, 0.015097881678832081, -0.01160342153409566, -0.01326588831917519, -0.016190378406903072, -0.0016424834387009923, 0.029849075201984654, 0.003486638274121212, -0.011061284277881, -0.016957402290095125, 0.019604229166080067, 0.002726226352680605, 0.03093404862043858, -0.008161603850311394, -0.05335641123556645, 0.01832244456235088, 0.017003958547396003, 0.013457402441561683, -0.0005093387734920185, 0.0017392570657879247, 0.01200693071725123, 0.0017991592456461092, 0.012545357201453555, -0.03452239287798875, 0.007068321589724924, -0.08682620367902949, 0.02088369332038731], \"xaxis\": \"x3\", \"yaxis\": \"y3\"}, {\"histfunc\": \"count\", \"histnorm\": \"\", \"marker\": {\"color\": \"rgba(128, 0, 128, 1.0)\", \"line\": {\"color\": \"#4D5663\", \"width\": 1.3}}, \"name\": \"GOOG\", \"opacity\": 0.8, \"orientation\": \"v\", \"type\": \"histogram\", \"x\": [0.0, -0.0630156431072173, 0.01610165370278338, -0.01033773640023039, 0.0020320488374885315, 0.020565810923544703, 0.01336195048772204, -0.0015377097175317544, -0.001567845763586817, 0.010841356503640043, -0.0031461435192374765, 0.006566154862158058, 0.010108893251183027, -0.0011514596663797505, 0.008212434990363171, 0.009367337298661127, -0.005685172443320674, -0.0264972506924801, -0.006047546703985773, -0.003516119569169973, 0.004543546115594488, 0.0156414496697046, 0.012040747608199176, 0.009252858442567735, 0.008885326867780208, -0.013559280163558007, 0.007567461065666414, 0.013817335236299577, 0.0032651991109071687, 0.0006029098661768373, 0.004740202868079635, 0.00281259113173693, -0.006287151782315092, -1.7463869224521034e-05, -0.014259393839579637, 0.007027695260665823, 0.007127015457448316, -0.007355399815045516, -0.005013436766788004, 0.09937954795195836, -0.00883603735784444, -0.011580352373505853, -0.006929253221560572, -0.0063240309414274165, -0.01250121942744098, -0.035523376679732266, 0.01518371625129511, 0.003447224045205921, 0.025905423427740715, -0.014033971957886138, -0.011258371263235034, 0.01902270599268796, -0.02793248864028275, 0.0025476376207231866, 0.008819317916933578, 0.017550566203706985, -0.013237558997283294, 0.007211720519426201, -0.0014448802335271793, -0.032675208997062555, 0.015171506319471284, -0.0008987336214119068, 0.002719321114120099, 0.01847020073070471, -0.0039900093652924795, -0.016728626613939035, 0.011081924000706955, 0.025051540315817356, -0.005338691090933878, -0.0004316696857689095, 0.001319249445835169, 0.011681131010685242, 0.01147326884115607, 0.0042930270500773915, -0.006685963734474498, -0.0017476680260148925, 0.0026487362436755646, 0.005098854300245925, -0.007113183124679345, 0.003327959245974732, -0.012451303674422043, 0.022521728009952113, -0.004123953103469802, -0.01321744855773499, -0.004983432286831402, -0.011468319706876784, -0.02390810632395013, 0.009473651593305377, 0.01766549557104291, -0.00109236340018537, -0.015479256818204057, 0.011022803675847292, 0.005275862788937324, 0.005593720540777447, 0.0013895179806171498, 0.02103200900449309, 0.0005067097421083133, 0.007553922264751378, -0.006067478468776422, 0.0005297990008559239, -0.0026918801183200003, 0.01305407233680711, 0.0014761088304462433, 0.0032777685644802546, 0.019467330816289596, -0.021453295085376745, -0.0010538855662627356, -0.0009360306065442359, 0.010758439907540662, 0.013746219533899762, 0.0005109810233117074, -0.00017801516539694973, 0.01311988572984113, 0.0019158704022901318, -0.00933144029578159, -0.00030014940974965043, -0.0006161805594544489, 0.010316372364133741, 0.017692914529561676, -0.010672043079369864, -0.003975477444713604, -0.009478676787427531, -0.0013055394468768355, -0.00462898584957383, 0.008723994708693894, 0.0052362555505229835, -0.00042646111912159057, -0.006134612677696438, -0.01159212401512022, 0.0041466755996282245, 0.01931386281866132, 0.005731168072697024, 0.009360248375458902, 0.0021906612771944722, 0.0008183672536974385, 0.0002676789406343971, 0.0038956895648221135, -0.0018087277446081629, 0.009848797136581489, -0.00445464861692102, -0.0018465589158385143, 0.0025252676375897565, -0.004767899121161712, -0.0005558788171731166, -0.003922087317622669, 0.012455940938591148, -0.006275167897570988, -0.011718753192837106, 0.0006584004723624304, 0.02244591175970978, -0.004919281970372502, 0.024358017330430748, -0.0006242005835188635, 0.00784944359938855, 0.010983953570659288, 0.0069484864097395516, 0.006622633185018323, -0.005818591751962643, 0.005797726698729022, 0.00864788012319373, 0.019570326620824474, 0.0027050901804619443, 0.0010435988427088816, 0.0004710174667836853, -0.013503512319433142, -0.022623748876264393, 0.012929535553346305, 0.0041700850531052325, -0.0019146122230404572, -0.014954923934253905, 0.03541942298333467, -0.026506743885202688, 0.0008013223300569194, 0.019149419723818895, 0.002030141548198472, 0.019713463016800326, 7.289905001872654e-05, 0.006263510652646964, -0.00238052773550379, 0.004006038174134474, -0.0007038171307165442, 0.004608719862446264, -0.005609450402043414, -0.02200367068048692, -0.04371289425908742, -0.023587957596612696, 0.0034009606525664537, -0.055405249420232394, 0.015985763011236997, 0.036493787646142195, -0.03495684307767899, 0.0330906241886737, -0.04989279597261653, -0.015763763594579316, -0.0659355411385123, 0.0519598063031701, -0.05208323391315872, -0.0863077817287996, 0.08985579194162874, -0.1176672625586912, 0.03218789733168137, -0.02075324775230225, 0.016717602020563938, -0.039290020326971486, -0.014749345891469368, 0.07108160277387299, -0.028585483215521457, 0.05235623983779636, -0.044928073670257085, 0.031993432560217805, 0.013846692113681058, -0.050433280810262104, 0.013672114526511514, -0.02069732175804262, 0.07798070163747539, -0.00034552034354362604, 0.019835528765289823, 0.0009661869617572094, 0.005030955232624201, 0.04156149779753893, -0.005340305693128045, 0.0007917845043357019, 0.015534041651126707, -0.013051893801946157, -0.0404977070319017, 0.03780974778311563, 0.01031707862545872, 0.002347767853153826, -0.002684775446093468, -0.03364263811375334, 0.08377996520230901, 0.005338064726318592, -0.021017792281833536, 0.004676324919077324, 0.018156401099081343, -0.002823839970132802, 0.01857502596129379, 0.01145274166680732, 0.010667714438705289, -0.01980634701756756, -0.01938362068034305, 0.00502691833996316, 0.01250139891467672, 0.00779800367154504, -0.007583166492545423, 0.023909437702973158, -0.002790458435135257, 0.005417289441449036, 0.004668525185353545, 0.0005784739395702232, -0.0007831772927326952, 0.0085675595646455, 0.0020273798715937374, 0.005154955009397, -0.001975216836670235, -0.016991415240184438, 0.018389794991963804, 0.0056984353181750436, 0.006579979275326053, 0.006632405018859089, -0.04322394768981752, 0.006631207482906021, 0.004708692904555001, 0.015978985426873038, 0.00580546823995487, -0.010502080820907977, -0.002957089650951872, 0.013968984700949427, 0.008606971384382156, -0.02240135617699668, 0.00651516980411504, -0.05815508235769684, 0.0254617030783324], \"xaxis\": \"x4\", \"yaxis\": \"y4\"}, {\"histfunc\": \"count\", \"histnorm\": \"\", \"marker\": {\"color\": \"rgba(219, 64, 82, 1.0)\", \"line\": {\"color\": \"#4D5663\", \"width\": 1.3}}, \"name\": \"NFLX\", \"opacity\": 0.8, \"orientation\": \"v\", \"type\": \"histogram\", \"x\": [0.0, -0.019562018277403226, 0.048616123764885444, 0.006571504403646955, 0.003927827806929685, 0.010417894318091925, -0.02485815711548245, -0.002104484775219184, -0.016388844827108784, -0.006182997427372605, -0.010832068175128384, 0.031551785176393565, 0.018368844080637103, 0.017762439790516282, 0.004638221334283266, 0.010893057503615466, 0.004944331828315995, -0.02937291266301223, 0.005259595277912865, 0.021360449388509117, -0.007323605855347637, 0.01962538361847521, 0.0022132099046965337, 0.016615342538848665, -0.0030698161108935196, -0.011602948108792255, 0.00997241142019245, 0.00281236917923966, -0.003944778291016249, -0.016606160416385407, -0.017977084364716234, -0.0016653681136169496, -0.009747033851077447, -0.10838784885660147, -0.03158103309996818, -0.014319783711023604, -0.010745855009356653, 0.03403826399861387, 0.02644471013985239, 0.028148776421421218, -0.009214960257589944, -0.02055860780314589, -0.009061279156088453, -0.010864058938413024, -0.002099270558762356, -0.03576022525187472, 0.007997067781861489, -0.018913623651292788, 0.03744446634948151, -0.022310998177861308, 0.006131405423019487, 0.00465412161092793, -0.04308886760525521, -0.011263002090709406, 0.023524133602327524, 0.021497829341640795, -0.034160215237795555, -0.003954404281421908, -0.0029592949506573873, -0.01866223504386344, 0.012073433598317251, -0.013481244228793265, 0.002539432558476662, 0.017025336459467688, -0.010262054006453525, -0.015299390730402429, 0.007678901657264703, 0.0059169111483541315, -0.010558483133253915, 0.014268544893869972, -0.021809825892906254, 0.0009717794447468009, 0.002044588115777124, 0.018147729598974927, 0.0004758842039942479, 0.014539200780742334, -0.023859097405115826, -0.017158271450057327, -0.0568916508092574, -0.01800032371862681, -0.043541168492603255, 0.03913159081164608, -0.005453948481364712, -0.0008739186075006344, 0.01710992823887203, 0.007297096868768449, -0.0057662325101270895, 0.0004475926771974059, 0.017155797062745393, 0.006103199977801843, -0.013720418780951427, -0.01185337590933866, 0.047270755325043545, 0.008697030994206045, 0.009147606772693884, -0.004492965478916311, 0.007116215975733198, 0.024396107571747372, -0.06350508837039825, 0.00993954192355595, -0.04171396540489525, 0.017027650029445063, 0.0008475450181562039, 0.019405362552982197, 0.018042939865776653, -0.002308750997146447, 0.03576681557974837, -0.013958725882783796, -0.0020898133837494726, 0.02087466199972532, -0.016629991969011826, 0.0019423458756016032, 0.0033901062637031742, 0.0068830500245855575, 0.008911660690709589, -0.007403718294131778, -0.03095261873980082, 0.022734239080882013, 0.018507339905860398, 0.02523563791932748, 9.914165823055043e-05, 0.008424419698150665, 0.021172870738548788, -0.0038895895155688365, 0.016197586899683536, -0.009744671931867899, 0.010948209464127778, -0.004027944426989727, -0.014952695059242238, -0.0124321543124708, -0.006028049654354106, -0.00480919926303347, 0.01471657905005408, -0.01590590574063988, -0.03149921264319744, 0.019627342940268022, -0.0016404919840935506, 0.00020101704878339177, 0.01894829147313004, 0.03637709904816955, 0.016722514586558823, 0.03497956579679773, 0.013988728558495644, -0.011343368772801732, 0.0003001834054279229, -0.0017121711212704227, -0.010699517348460752, -0.017719650733139858, 0.0008038887511281345, 0.019101227193572434, -0.01192615655493423, 0.030014472446101337, -0.015242236566366252, 0.02540400085758776, -0.010668050062444756, -0.019889075985881632, 0.029554453145121506, -0.0006788890062887631, 0.0011213553976530122, -0.0013280770604673364, 0.003096077300511091, -0.00460335458067096, -0.036473861633477433, 0.06989227987324131, 0.010131561162980418, -0.02954067643707603, 0.01631503987442695, -0.01549876446379006, 0.01325822464003057, -0.007649804052533682, 0.03672774443671312, 0.03029078400801488, 0.0017869816890101475, -0.007385119840455978, -0.0004907136146554691, 0.01165582515051966, 0.007035839440804104, 0.016771010628049865, 0.0036510833014062882, -0.002625362537152398, 0.01921485072869089, -0.004108682693504839, -0.0004921131965964776, -0.01548190391204951, -0.030372127204380206, -0.02362934831302166, 0.05181523426386381, -0.020055266929334792, -0.007236019128974647, 0.03205262983594359, -0.03275745439731814, 0.03992243658206984, -0.029107120232565897, -0.010273086798227027, -0.06286141323063266, 0.04965703014288092, -0.039806364840901054, -0.10433862045715436, 0.06463760760315296, -0.11809528159499649, 0.0676311396057665, -0.013475846292513971, 0.051161728436999176, 0.002406486167514821, 0.07922191107504162, -0.008221960514710247, -0.04268127831476498, 0.05842477775621724, -0.0163034126925945, 0.03802237096844596, 0.01216425415560174, -0.030884884377077704, 0.016345575372688437, -0.022738126675379, 0.04908492600855663, -0.020419705494459706, -0.003120808751993387, -0.0010783833096681406, 0.06778368128101153, 0.04154765136238048, 0.03141996505430189, 0.02868825075213355, -0.037609020702160656, 0.033776234347121736, -0.008401104728438469, -0.02902272839147635, 0.012451225850218073, -0.004015602544598984, -0.008530565270694623, -0.042541086913501225, 0.019762394900812552, 0.01914116019297829, -0.0109686345324711, 0.030544702582173677, -0.008137660317715678, 0.02230752865466279, 0.00521364309032446, -0.0022475264057222333, 0.011346250119093071, -0.019946970648243578, 0.01482628203599834, 0.008361647382755244, 0.027318836943867275, -0.003551104647377734, -0.003408467113555247, -0.007499662472230106, -0.025840910321866417, -0.016012894843267844, -0.03447845543283634, 0.012268683858303042, -0.015480400039549203, 0.01509926652876814, 0.014639893145115046, 0.0032581726910638764, -0.012575515069765508, -0.018271499004829828, 0.012639165718537626, -0.0002622266270631002, 0.0341200422731438, 0.0009902322984869372, -0.020743996101503903, -0.017757042773079768, 0.01761604787526938, 0.024675427226601876, 0.026339307950925317, 0.004678958094256558, 0.008521629096061467, 0.031073510226302226, -0.0038103412137795445, -0.01820180650923664, 0.017450857401408726, -0.04952020686901637, 0.008623058026902441], \"xaxis\": \"x5\", \"yaxis\": \"y5\"}],                        {\"barmode\": \"overlay\", \"legend\": {\"bgcolor\": \"#F5F6F9\", \"font\": {\"color\": \"#4D5663\"}}, \"paper_bgcolor\": \"#F5F6F9\", \"plot_bgcolor\": \"#F5F6F9\", \"template\": {\"data\": {\"bar\": [{\"error_x\": {\"color\": \"#2a3f5f\"}, \"error_y\": {\"color\": \"#2a3f5f\"}, \"marker\": {\"line\": {\"color\": \"#E5ECF6\", \"width\": 0.5}}, \"type\": \"bar\"}], \"barpolar\": [{\"marker\": {\"line\": {\"color\": \"#E5ECF6\", \"width\": 0.5}}, \"type\": \"barpolar\"}], \"carpet\": [{\"aaxis\": {\"endlinecolor\": \"#2a3f5f\", \"gridcolor\": \"white\", \"linecolor\": \"white\", \"minorgridcolor\": \"white\", \"startlinecolor\": \"#2a3f5f\"}, \"baxis\": {\"endlinecolor\": \"#2a3f5f\", \"gridcolor\": \"white\", \"linecolor\": \"white\", \"minorgridcolor\": \"white\", \"startlinecolor\": \"#2a3f5f\"}, \"type\": \"carpet\"}], \"choropleth\": [{\"colorbar\": {\"outlinewidth\": 0, \"ticks\": \"\"}, \"type\": \"choropleth\"}], \"contour\": [{\"colorbar\": {\"outlinewidth\": 0, \"ticks\": \"\"}, \"colorscale\": [[0.0, \"#0d0887\"], [0.1111111111111111, \"#46039f\"], [0.2222222222222222, \"#7201a8\"], [0.3333333333333333, \"#9c179e\"], [0.4444444444444444, \"#bd3786\"], [0.5555555555555556, \"#d8576b\"], [0.6666666666666666, \"#ed7953\"], [0.7777777777777778, \"#fb9f3a\"], [0.8888888888888888, \"#fdca26\"], [1.0, \"#f0f921\"]], \"type\": \"contour\"}], \"contourcarpet\": [{\"colorbar\": {\"outlinewidth\": 0, \"ticks\": \"\"}, \"type\": \"contourcarpet\"}], \"heatmap\": [{\"colorbar\": {\"outlinewidth\": 0, \"ticks\": \"\"}, \"colorscale\": [[0.0, \"#0d0887\"], [0.1111111111111111, \"#46039f\"], [0.2222222222222222, \"#7201a8\"], [0.3333333333333333, \"#9c179e\"], [0.4444444444444444, \"#bd3786\"], [0.5555555555555556, \"#d8576b\"], [0.6666666666666666, \"#ed7953\"], [0.7777777777777778, \"#fb9f3a\"], [0.8888888888888888, \"#fdca26\"], [1.0, \"#f0f921\"]], \"type\": \"heatmap\"}], \"heatmapgl\": [{\"colorbar\": {\"outlinewidth\": 0, \"ticks\": \"\"}, \"colorscale\": [[0.0, \"#0d0887\"], [0.1111111111111111, \"#46039f\"], [0.2222222222222222, \"#7201a8\"], [0.3333333333333333, \"#9c179e\"], [0.4444444444444444, \"#bd3786\"], [0.5555555555555556, \"#d8576b\"], [0.6666666666666666, \"#ed7953\"], [0.7777777777777778, \"#fb9f3a\"], [0.8888888888888888, \"#fdca26\"], [1.0, \"#f0f921\"]], \"type\": \"heatmapgl\"}], \"histogram\": [{\"marker\": {\"colorbar\": {\"outlinewidth\": 0, \"ticks\": \"\"}}, \"type\": \"histogram\"}], \"histogram2d\": [{\"colorbar\": {\"outlinewidth\": 0, \"ticks\": \"\"}, \"colorscale\": [[0.0, \"#0d0887\"], [0.1111111111111111, \"#46039f\"], [0.2222222222222222, \"#7201a8\"], [0.3333333333333333, \"#9c179e\"], [0.4444444444444444, \"#bd3786\"], [0.5555555555555556, \"#d8576b\"], [0.6666666666666666, \"#ed7953\"], [0.7777777777777778, \"#fb9f3a\"], [0.8888888888888888, \"#fdca26\"], [1.0, \"#f0f921\"]], \"type\": \"histogram2d\"}], \"histogram2dcontour\": [{\"colorbar\": {\"outlinewidth\": 0, \"ticks\": \"\"}, \"colorscale\": [[0.0, \"#0d0887\"], [0.1111111111111111, \"#46039f\"], [0.2222222222222222, \"#7201a8\"], [0.3333333333333333, \"#9c179e\"], [0.4444444444444444, \"#bd3786\"], [0.5555555555555556, \"#d8576b\"], [0.6666666666666666, \"#ed7953\"], [0.7777777777777778, \"#fb9f3a\"], [0.8888888888888888, \"#fdca26\"], [1.0, \"#f0f921\"]], \"type\": \"histogram2dcontour\"}], \"mesh3d\": [{\"colorbar\": {\"outlinewidth\": 0, \"ticks\": \"\"}, \"type\": \"mesh3d\"}], \"parcoords\": [{\"line\": {\"colorbar\": {\"outlinewidth\": 0, \"ticks\": \"\"}}, \"type\": \"parcoords\"}], \"pie\": [{\"automargin\": true, \"type\": \"pie\"}], \"scatter\": [{\"marker\": {\"colorbar\": {\"outlinewidth\": 0, \"ticks\": \"\"}}, \"type\": \"scatter\"}], \"scatter3d\": [{\"line\": {\"colorbar\": {\"outlinewidth\": 0, \"ticks\": \"\"}}, \"marker\": {\"colorbar\": {\"outlinewidth\": 0, \"ticks\": \"\"}}, \"type\": \"scatter3d\"}], \"scattercarpet\": [{\"marker\": {\"colorbar\": {\"outlinewidth\": 0, \"ticks\": \"\"}}, \"type\": \"scattercarpet\"}], \"scattergeo\": [{\"marker\": {\"colorbar\": {\"outlinewidth\": 0, \"ticks\": \"\"}}, \"type\": \"scattergeo\"}], \"scattergl\": [{\"marker\": {\"colorbar\": {\"outlinewidth\": 0, \"ticks\": \"\"}}, \"type\": \"scattergl\"}], \"scattermapbox\": [{\"marker\": {\"colorbar\": {\"outlinewidth\": 0, \"ticks\": \"\"}}, \"type\": \"scattermapbox\"}], \"scatterpolar\": [{\"marker\": {\"colorbar\": {\"outlinewidth\": 0, \"ticks\": \"\"}}, \"type\": \"scatterpolar\"}], \"scatterpolargl\": [{\"marker\": {\"colorbar\": {\"outlinewidth\": 0, \"ticks\": \"\"}}, \"type\": \"scatterpolargl\"}], \"scatterternary\": [{\"marker\": {\"colorbar\": {\"outlinewidth\": 0, \"ticks\": \"\"}}, \"type\": \"scatterternary\"}], \"surface\": [{\"colorbar\": {\"outlinewidth\": 0, \"ticks\": \"\"}, \"colorscale\": [[0.0, \"#0d0887\"], [0.1111111111111111, \"#46039f\"], [0.2222222222222222, \"#7201a8\"], [0.3333333333333333, \"#9c179e\"], [0.4444444444444444, \"#bd3786\"], [0.5555555555555556, \"#d8576b\"], [0.6666666666666666, \"#ed7953\"], [0.7777777777777778, \"#fb9f3a\"], [0.8888888888888888, \"#fdca26\"], [1.0, \"#f0f921\"]], \"type\": \"surface\"}], \"table\": [{\"cells\": {\"fill\": {\"color\": \"#EBF0F8\"}, \"line\": {\"color\": \"white\"}}, \"header\": {\"fill\": {\"color\": \"#C8D4E3\"}, \"line\": {\"color\": \"white\"}}, \"type\": \"table\"}]}, \"layout\": {\"annotationdefaults\": {\"arrowcolor\": \"#2a3f5f\", \"arrowhead\": 0, \"arrowwidth\": 1}, \"autotypenumbers\": \"strict\", \"coloraxis\": {\"colorbar\": {\"outlinewidth\": 0, \"ticks\": \"\"}}, \"colorscale\": {\"diverging\": [[0, \"#8e0152\"], [0.1, \"#c51b7d\"], [0.2, \"#de77ae\"], [0.3, \"#f1b6da\"], [0.4, \"#fde0ef\"], [0.5, \"#f7f7f7\"], [0.6, \"#e6f5d0\"], [0.7, \"#b8e186\"], [0.8, \"#7fbc41\"], [0.9, \"#4d9221\"], [1, \"#276419\"]], \"sequential\": [[0.0, \"#0d0887\"], [0.1111111111111111, \"#46039f\"], [0.2222222222222222, \"#7201a8\"], [0.3333333333333333, \"#9c179e\"], [0.4444444444444444, \"#bd3786\"], [0.5555555555555556, \"#d8576b\"], [0.6666666666666666, \"#ed7953\"], [0.7777777777777778, \"#fb9f3a\"], [0.8888888888888888, \"#fdca26\"], [1.0, \"#f0f921\"]], \"sequentialminus\": [[0.0, \"#0d0887\"], [0.1111111111111111, \"#46039f\"], [0.2222222222222222, \"#7201a8\"], [0.3333333333333333, \"#9c179e\"], [0.4444444444444444, \"#bd3786\"], [0.5555555555555556, \"#d8576b\"], [0.6666666666666666, \"#ed7953\"], [0.7777777777777778, \"#fb9f3a\"], [0.8888888888888888, \"#fdca26\"], [1.0, \"#f0f921\"]]}, \"colorway\": [\"#636efa\", \"#EF553B\", \"#00cc96\", \"#ab63fa\", \"#FFA15A\", \"#19d3f3\", \"#FF6692\", \"#B6E880\", \"#FF97FF\", \"#FECB52\"], \"font\": {\"color\": \"#2a3f5f\"}, \"geo\": {\"bgcolor\": \"white\", \"lakecolor\": \"white\", \"landcolor\": \"#E5ECF6\", \"showlakes\": true, \"showland\": true, \"subunitcolor\": \"white\"}, \"hoverlabel\": {\"align\": \"left\"}, \"hovermode\": \"closest\", \"mapbox\": {\"style\": \"light\"}, \"paper_bgcolor\": \"white\", \"plot_bgcolor\": \"#E5ECF6\", \"polar\": {\"angularaxis\": {\"gridcolor\": \"white\", \"linecolor\": \"white\", \"ticks\": \"\"}, \"bgcolor\": \"#E5ECF6\", \"radialaxis\": {\"gridcolor\": \"white\", \"linecolor\": \"white\", \"ticks\": \"\"}}, \"scene\": {\"xaxis\": {\"backgroundcolor\": \"#E5ECF6\", \"gridcolor\": \"white\", \"gridwidth\": 2, \"linecolor\": \"white\", \"showbackground\": true, \"ticks\": \"\", \"zerolinecolor\": \"white\"}, \"yaxis\": {\"backgroundcolor\": \"#E5ECF6\", \"gridcolor\": \"white\", \"gridwidth\": 2, \"linecolor\": \"white\", \"showbackground\": true, \"ticks\": \"\", \"zerolinecolor\": \"white\"}, \"zaxis\": {\"backgroundcolor\": \"#E5ECF6\", \"gridcolor\": \"white\", \"gridwidth\": 2, \"linecolor\": \"white\", \"showbackground\": true, \"ticks\": \"\", \"zerolinecolor\": \"white\"}}, \"shapedefaults\": {\"line\": {\"color\": \"#2a3f5f\"}}, \"ternary\": {\"aaxis\": {\"gridcolor\": \"white\", \"linecolor\": \"white\", \"ticks\": \"\"}, \"baxis\": {\"gridcolor\": \"white\", \"linecolor\": \"white\", \"ticks\": \"\"}, \"bgcolor\": \"#E5ECF6\", \"caxis\": {\"gridcolor\": \"white\", \"linecolor\": \"white\", \"ticks\": \"\"}}, \"title\": {\"x\": 0.05}, \"xaxis\": {\"automargin\": true, \"gridcolor\": \"white\", \"linecolor\": \"white\", \"ticks\": \"\", \"title\": {\"standoff\": 15}, \"zerolinecolor\": \"white\", \"zerolinewidth\": 2}, \"yaxis\": {\"automargin\": true, \"gridcolor\": \"white\", \"linecolor\": \"white\", \"ticks\": \"\", \"title\": {\"standoff\": 15}, \"zerolinecolor\": \"white\", \"zerolinewidth\": 2}}}, \"title\": {\"font\": {\"color\": \"#4D5663\"}, \"text\": \"Histogram of Daily Returns\"}, \"xaxis\": {\"anchor\": \"y\", \"domain\": [0.0, 0.45], \"gridcolor\": \"#E1E5ED\", \"showgrid\": true, \"tickfont\": {\"color\": \"#4D5663\"}, \"title\": {\"font\": {\"color\": \"#4D5663\"}, \"text\": \"\"}, \"zerolinecolor\": \"#E1E5ED\"}, \"xaxis2\": {\"anchor\": \"y2\", \"domain\": [0.55, 1.0], \"gridcolor\": \"#E1E5ED\", \"showgrid\": true, \"tickfont\": {\"color\": \"#4D5663\"}, \"title\": {\"font\": {\"color\": \"#4D5663\"}, \"text\": \"\"}, \"zerolinecolor\": \"#E1E5ED\"}, \"xaxis3\": {\"anchor\": \"y3\", \"domain\": [0.0, 0.45], \"gridcolor\": \"#E1E5ED\", \"showgrid\": true, \"tickfont\": {\"color\": \"#4D5663\"}, \"title\": {\"font\": {\"color\": \"#4D5663\"}, \"text\": \"\"}, \"zerolinecolor\": \"#E1E5ED\"}, \"xaxis4\": {\"anchor\": \"y4\", \"domain\": [0.55, 1.0], \"gridcolor\": \"#E1E5ED\", \"showgrid\": true, \"tickfont\": {\"color\": \"#4D5663\"}, \"title\": {\"font\": {\"color\": \"#4D5663\"}, \"text\": \"\"}, \"zerolinecolor\": \"#E1E5ED\"}, \"xaxis5\": {\"anchor\": \"y5\", \"domain\": [0.0, 0.45], \"gridcolor\": \"#E1E5ED\", \"showgrid\": true, \"tickfont\": {\"color\": \"#4D5663\"}, \"title\": {\"font\": {\"color\": \"#4D5663\"}, \"text\": \"\"}, \"zerolinecolor\": \"#E1E5ED\"}, \"yaxis\": {\"anchor\": \"x\", \"domain\": [0.7333333333333333, 1.0], \"gridcolor\": \"#E1E5ED\", \"showgrid\": true, \"tickfont\": {\"color\": \"#4D5663\"}, \"title\": {\"font\": {\"color\": \"#4D5663\"}, \"text\": \"\"}, \"zerolinecolor\": \"#E1E5ED\"}, \"yaxis2\": {\"anchor\": \"x2\", \"domain\": [0.7333333333333333, 1.0], \"gridcolor\": \"#E1E5ED\", \"showgrid\": true, \"tickfont\": {\"color\": \"#4D5663\"}, \"title\": {\"font\": {\"color\": \"#4D5663\"}, \"text\": \"\"}, \"zerolinecolor\": \"#E1E5ED\"}, \"yaxis3\": {\"anchor\": \"x3\", \"domain\": [0.36666666666666664, 0.6333333333333333], \"gridcolor\": \"#E1E5ED\", \"showgrid\": true, \"tickfont\": {\"color\": \"#4D5663\"}, \"title\": {\"font\": {\"color\": \"#4D5663\"}, \"text\": \"\"}, \"zerolinecolor\": \"#E1E5ED\"}, \"yaxis4\": {\"anchor\": \"x4\", \"domain\": [0.36666666666666664, 0.6333333333333333], \"gridcolor\": \"#E1E5ED\", \"showgrid\": true, \"tickfont\": {\"color\": \"#4D5663\"}, \"title\": {\"font\": {\"color\": \"#4D5663\"}, \"text\": \"\"}, \"zerolinecolor\": \"#E1E5ED\"}, \"yaxis5\": {\"anchor\": \"x5\", \"domain\": [0.0, 0.26666666666666666], \"gridcolor\": \"#E1E5ED\", \"showgrid\": true, \"tickfont\": {\"color\": \"#4D5663\"}, \"title\": {\"font\": {\"color\": \"#4D5663\"}, \"text\": \"\"}, \"zerolinecolor\": \"#E1E5ED\"}},                        {\"showLink\": true, \"linkText\": \"Export to plot.ly\", \"plotlyServerURL\": \"https://plot.ly\", \"responsive\": true}                    ).then(function(){\n",
       "                            \n",
       "var gd = document.getElementById('33ae6e5a-6258-40f2-830f-b8ae7e445ec0');\n",
       "var x = new MutationObserver(function (mutations, observer) {{\n",
       "        var display = window.getComputedStyle(gd).display;\n",
       "        if (!display || display === 'none') {{\n",
       "            console.log([gd, 'removed!']);\n",
       "            Plotly.purge(gd);\n",
       "            observer.disconnect();\n",
       "        }}\n",
       "}});\n",
       "\n",
       "// Listen for the removal of the full notebook cells\n",
       "var notebookContainer = gd.closest('#notebook-container');\n",
       "if (notebookContainer) {{\n",
       "    x.observe(notebookContainer, {childList: true});\n",
       "}}\n",
       "\n",
       "// Listen for the clearing of the current output cell\n",
       "var outputEl = gd.closest('.output');\n",
       "if (outputEl) {{\n",
       "    x.observe(outputEl, {childList: true});\n",
       "}}\n",
       "\n",
       "                        })                };                });            </script>        </div>"
      ]
     },
     "metadata": {},
     "output_type": "display_data"
    }
   ],
   "source": [
    "\n",
    "# Plot log normal distribution of returns\n",
    "daily_returns.iplot(kind='histogram', title = 'Histogram of Daily Returns', subplots=True)\n",
    "\n"
   ]
  },
  {
   "cell_type": "markdown",
   "metadata": {},
   "source": [
    "\n",
    "<h3 id=\"Correlation\">Correlation<a class=\"anchor-link\" href=\"#Correlation\">¶</a></h3><p>Correlation defines the similarity between two random variables. As an example we will check correlation between the FAANG stocks.</p>\n"
   ]
  },
  {
   "cell_type": "code",
   "execution_count": 86,
   "metadata": {},
   "outputs": [
    {
     "data": {
      "application/vnd.plotly.v1+json": {
       "config": {
        "linkText": "Export to plot.ly",
        "plotlyServerURL": "https://plot.ly",
        "showLink": true
       },
       "data": [
        {
         "colorscale": [
          [
           0,
           "rgb(247,251,255)"
          ],
          [
           0.125,
           "rgb(222,235,247)"
          ],
          [
           0.25,
           "rgb(198,219,239)"
          ],
          [
           0.375,
           "rgb(158,202,225)"
          ],
          [
           0.5,
           "rgb(107,174,214)"
          ],
          [
           0.625,
           "rgb(66,146,198)"
          ],
          [
           0.75,
           "rgb(33,113,181)"
          ],
          [
           0.875,
           "rgb(8,81,156)"
          ],
          [
           1,
           "rgb(8,48,107)"
          ]
         ],
         "type": "heatmap",
         "x": [
          "AAPL",
          "AMZN",
          "FB",
          "GOOG",
          "NFLX"
         ],
         "y": [
          "AAPL",
          "AMZN",
          "FB",
          "GOOG",
          "NFLX"
         ],
         "z": [
          [
           1,
           0.6902193289230165,
           0.7783306990019863,
           0.8232640293490014,
           0.5551574978115573
          ],
          [
           0.6902193289230165,
           1,
           0.6807363529924728,
           0.688324874521001,
           0.6492193558880631
          ],
          [
           0.7783306990019863,
           0.6807363529924728,
           1,
           0.8174938180462006,
           0.5626608193049482
          ],
          [
           0.8232640293490014,
           0.688324874521001,
           0.8174938180462006,
           1,
           0.5702050567350756
          ],
          [
           0.5551574978115573,
           0.6492193558880631,
           0.5626608193049482,
           0.5702050567350756,
           1
          ]
         ],
         "zmax": 1,
         "zmin": 0.5551574978115573
        }
       ],
       "layout": {
        "legend": {
         "bgcolor": "#F5F6F9",
         "font": {
          "color": "#4D5663"
         }
        },
        "paper_bgcolor": "#F5F6F9",
        "plot_bgcolor": "#F5F6F9",
        "template": {
         "data": {
          "bar": [
           {
            "error_x": {
             "color": "#2a3f5f"
            },
            "error_y": {
             "color": "#2a3f5f"
            },
            "marker": {
             "line": {
              "color": "#E5ECF6",
              "width": 0.5
             }
            },
            "type": "bar"
           }
          ],
          "barpolar": [
           {
            "marker": {
             "line": {
              "color": "#E5ECF6",
              "width": 0.5
             }
            },
            "type": "barpolar"
           }
          ],
          "carpet": [
           {
            "aaxis": {
             "endlinecolor": "#2a3f5f",
             "gridcolor": "white",
             "linecolor": "white",
             "minorgridcolor": "white",
             "startlinecolor": "#2a3f5f"
            },
            "baxis": {
             "endlinecolor": "#2a3f5f",
             "gridcolor": "white",
             "linecolor": "white",
             "minorgridcolor": "white",
             "startlinecolor": "#2a3f5f"
            },
            "type": "carpet"
           }
          ],
          "choropleth": [
           {
            "colorbar": {
             "outlinewidth": 0,
             "ticks": ""
            },
            "type": "choropleth"
           }
          ],
          "contour": [
           {
            "colorbar": {
             "outlinewidth": 0,
             "ticks": ""
            },
            "colorscale": [
             [
              0,
              "#0d0887"
             ],
             [
              0.1111111111111111,
              "#46039f"
             ],
             [
              0.2222222222222222,
              "#7201a8"
             ],
             [
              0.3333333333333333,
              "#9c179e"
             ],
             [
              0.4444444444444444,
              "#bd3786"
             ],
             [
              0.5555555555555556,
              "#d8576b"
             ],
             [
              0.6666666666666666,
              "#ed7953"
             ],
             [
              0.7777777777777778,
              "#fb9f3a"
             ],
             [
              0.8888888888888888,
              "#fdca26"
             ],
             [
              1,
              "#f0f921"
             ]
            ],
            "type": "contour"
           }
          ],
          "contourcarpet": [
           {
            "colorbar": {
             "outlinewidth": 0,
             "ticks": ""
            },
            "type": "contourcarpet"
           }
          ],
          "heatmap": [
           {
            "colorbar": {
             "outlinewidth": 0,
             "ticks": ""
            },
            "colorscale": [
             [
              0,
              "#0d0887"
             ],
             [
              0.1111111111111111,
              "#46039f"
             ],
             [
              0.2222222222222222,
              "#7201a8"
             ],
             [
              0.3333333333333333,
              "#9c179e"
             ],
             [
              0.4444444444444444,
              "#bd3786"
             ],
             [
              0.5555555555555556,
              "#d8576b"
             ],
             [
              0.6666666666666666,
              "#ed7953"
             ],
             [
              0.7777777777777778,
              "#fb9f3a"
             ],
             [
              0.8888888888888888,
              "#fdca26"
             ],
             [
              1,
              "#f0f921"
             ]
            ],
            "type": "heatmap"
           }
          ],
          "heatmapgl": [
           {
            "colorbar": {
             "outlinewidth": 0,
             "ticks": ""
            },
            "colorscale": [
             [
              0,
              "#0d0887"
             ],
             [
              0.1111111111111111,
              "#46039f"
             ],
             [
              0.2222222222222222,
              "#7201a8"
             ],
             [
              0.3333333333333333,
              "#9c179e"
             ],
             [
              0.4444444444444444,
              "#bd3786"
             ],
             [
              0.5555555555555556,
              "#d8576b"
             ],
             [
              0.6666666666666666,
              "#ed7953"
             ],
             [
              0.7777777777777778,
              "#fb9f3a"
             ],
             [
              0.8888888888888888,
              "#fdca26"
             ],
             [
              1,
              "#f0f921"
             ]
            ],
            "type": "heatmapgl"
           }
          ],
          "histogram": [
           {
            "marker": {
             "colorbar": {
              "outlinewidth": 0,
              "ticks": ""
             }
            },
            "type": "histogram"
           }
          ],
          "histogram2d": [
           {
            "colorbar": {
             "outlinewidth": 0,
             "ticks": ""
            },
            "colorscale": [
             [
              0,
              "#0d0887"
             ],
             [
              0.1111111111111111,
              "#46039f"
             ],
             [
              0.2222222222222222,
              "#7201a8"
             ],
             [
              0.3333333333333333,
              "#9c179e"
             ],
             [
              0.4444444444444444,
              "#bd3786"
             ],
             [
              0.5555555555555556,
              "#d8576b"
             ],
             [
              0.6666666666666666,
              "#ed7953"
             ],
             [
              0.7777777777777778,
              "#fb9f3a"
             ],
             [
              0.8888888888888888,
              "#fdca26"
             ],
             [
              1,
              "#f0f921"
             ]
            ],
            "type": "histogram2d"
           }
          ],
          "histogram2dcontour": [
           {
            "colorbar": {
             "outlinewidth": 0,
             "ticks": ""
            },
            "colorscale": [
             [
              0,
              "#0d0887"
             ],
             [
              0.1111111111111111,
              "#46039f"
             ],
             [
              0.2222222222222222,
              "#7201a8"
             ],
             [
              0.3333333333333333,
              "#9c179e"
             ],
             [
              0.4444444444444444,
              "#bd3786"
             ],
             [
              0.5555555555555556,
              "#d8576b"
             ],
             [
              0.6666666666666666,
              "#ed7953"
             ],
             [
              0.7777777777777778,
              "#fb9f3a"
             ],
             [
              0.8888888888888888,
              "#fdca26"
             ],
             [
              1,
              "#f0f921"
             ]
            ],
            "type": "histogram2dcontour"
           }
          ],
          "mesh3d": [
           {
            "colorbar": {
             "outlinewidth": 0,
             "ticks": ""
            },
            "type": "mesh3d"
           }
          ],
          "parcoords": [
           {
            "line": {
             "colorbar": {
              "outlinewidth": 0,
              "ticks": ""
             }
            },
            "type": "parcoords"
           }
          ],
          "pie": [
           {
            "automargin": true,
            "type": "pie"
           }
          ],
          "scatter": [
           {
            "marker": {
             "colorbar": {
              "outlinewidth": 0,
              "ticks": ""
             }
            },
            "type": "scatter"
           }
          ],
          "scatter3d": [
           {
            "line": {
             "colorbar": {
              "outlinewidth": 0,
              "ticks": ""
             }
            },
            "marker": {
             "colorbar": {
              "outlinewidth": 0,
              "ticks": ""
             }
            },
            "type": "scatter3d"
           }
          ],
          "scattercarpet": [
           {
            "marker": {
             "colorbar": {
              "outlinewidth": 0,
              "ticks": ""
             }
            },
            "type": "scattercarpet"
           }
          ],
          "scattergeo": [
           {
            "marker": {
             "colorbar": {
              "outlinewidth": 0,
              "ticks": ""
             }
            },
            "type": "scattergeo"
           }
          ],
          "scattergl": [
           {
            "marker": {
             "colorbar": {
              "outlinewidth": 0,
              "ticks": ""
             }
            },
            "type": "scattergl"
           }
          ],
          "scattermapbox": [
           {
            "marker": {
             "colorbar": {
              "outlinewidth": 0,
              "ticks": ""
             }
            },
            "type": "scattermapbox"
           }
          ],
          "scatterpolar": [
           {
            "marker": {
             "colorbar": {
              "outlinewidth": 0,
              "ticks": ""
             }
            },
            "type": "scatterpolar"
           }
          ],
          "scatterpolargl": [
           {
            "marker": {
             "colorbar": {
              "outlinewidth": 0,
              "ticks": ""
             }
            },
            "type": "scatterpolargl"
           }
          ],
          "scatterternary": [
           {
            "marker": {
             "colorbar": {
              "outlinewidth": 0,
              "ticks": ""
             }
            },
            "type": "scatterternary"
           }
          ],
          "surface": [
           {
            "colorbar": {
             "outlinewidth": 0,
             "ticks": ""
            },
            "colorscale": [
             [
              0,
              "#0d0887"
             ],
             [
              0.1111111111111111,
              "#46039f"
             ],
             [
              0.2222222222222222,
              "#7201a8"
             ],
             [
              0.3333333333333333,
              "#9c179e"
             ],
             [
              0.4444444444444444,
              "#bd3786"
             ],
             [
              0.5555555555555556,
              "#d8576b"
             ],
             [
              0.6666666666666666,
              "#ed7953"
             ],
             [
              0.7777777777777778,
              "#fb9f3a"
             ],
             [
              0.8888888888888888,
              "#fdca26"
             ],
             [
              1,
              "#f0f921"
             ]
            ],
            "type": "surface"
           }
          ],
          "table": [
           {
            "cells": {
             "fill": {
              "color": "#EBF0F8"
             },
             "line": {
              "color": "white"
             }
            },
            "header": {
             "fill": {
              "color": "#C8D4E3"
             },
             "line": {
              "color": "white"
             }
            },
            "type": "table"
           }
          ]
         },
         "layout": {
          "annotationdefaults": {
           "arrowcolor": "#2a3f5f",
           "arrowhead": 0,
           "arrowwidth": 1
          },
          "autotypenumbers": "strict",
          "coloraxis": {
           "colorbar": {
            "outlinewidth": 0,
            "ticks": ""
           }
          },
          "colorscale": {
           "diverging": [
            [
             0,
             "#8e0152"
            ],
            [
             0.1,
             "#c51b7d"
            ],
            [
             0.2,
             "#de77ae"
            ],
            [
             0.3,
             "#f1b6da"
            ],
            [
             0.4,
             "#fde0ef"
            ],
            [
             0.5,
             "#f7f7f7"
            ],
            [
             0.6,
             "#e6f5d0"
            ],
            [
             0.7,
             "#b8e186"
            ],
            [
             0.8,
             "#7fbc41"
            ],
            [
             0.9,
             "#4d9221"
            ],
            [
             1,
             "#276419"
            ]
           ],
           "sequential": [
            [
             0,
             "#0d0887"
            ],
            [
             0.1111111111111111,
             "#46039f"
            ],
            [
             0.2222222222222222,
             "#7201a8"
            ],
            [
             0.3333333333333333,
             "#9c179e"
            ],
            [
             0.4444444444444444,
             "#bd3786"
            ],
            [
             0.5555555555555556,
             "#d8576b"
            ],
            [
             0.6666666666666666,
             "#ed7953"
            ],
            [
             0.7777777777777778,
             "#fb9f3a"
            ],
            [
             0.8888888888888888,
             "#fdca26"
            ],
            [
             1,
             "#f0f921"
            ]
           ],
           "sequentialminus": [
            [
             0,
             "#0d0887"
            ],
            [
             0.1111111111111111,
             "#46039f"
            ],
            [
             0.2222222222222222,
             "#7201a8"
            ],
            [
             0.3333333333333333,
             "#9c179e"
            ],
            [
             0.4444444444444444,
             "#bd3786"
            ],
            [
             0.5555555555555556,
             "#d8576b"
            ],
            [
             0.6666666666666666,
             "#ed7953"
            ],
            [
             0.7777777777777778,
             "#fb9f3a"
            ],
            [
             0.8888888888888888,
             "#fdca26"
            ],
            [
             1,
             "#f0f921"
            ]
           ]
          },
          "colorway": [
           "#636efa",
           "#EF553B",
           "#00cc96",
           "#ab63fa",
           "#FFA15A",
           "#19d3f3",
           "#FF6692",
           "#B6E880",
           "#FF97FF",
           "#FECB52"
          ],
          "font": {
           "color": "#2a3f5f"
          },
          "geo": {
           "bgcolor": "white",
           "lakecolor": "white",
           "landcolor": "#E5ECF6",
           "showlakes": true,
           "showland": true,
           "subunitcolor": "white"
          },
          "hoverlabel": {
           "align": "left"
          },
          "hovermode": "closest",
          "mapbox": {
           "style": "light"
          },
          "paper_bgcolor": "white",
          "plot_bgcolor": "#E5ECF6",
          "polar": {
           "angularaxis": {
            "gridcolor": "white",
            "linecolor": "white",
            "ticks": ""
           },
           "bgcolor": "#E5ECF6",
           "radialaxis": {
            "gridcolor": "white",
            "linecolor": "white",
            "ticks": ""
           }
          },
          "scene": {
           "xaxis": {
            "backgroundcolor": "#E5ECF6",
            "gridcolor": "white",
            "gridwidth": 2,
            "linecolor": "white",
            "showbackground": true,
            "ticks": "",
            "zerolinecolor": "white"
           },
           "yaxis": {
            "backgroundcolor": "#E5ECF6",
            "gridcolor": "white",
            "gridwidth": 2,
            "linecolor": "white",
            "showbackground": true,
            "ticks": "",
            "zerolinecolor": "white"
           },
           "zaxis": {
            "backgroundcolor": "#E5ECF6",
            "gridcolor": "white",
            "gridwidth": 2,
            "linecolor": "white",
            "showbackground": true,
            "ticks": "",
            "zerolinecolor": "white"
           }
          },
          "shapedefaults": {
           "line": {
            "color": "#2a3f5f"
           }
          },
          "ternary": {
           "aaxis": {
            "gridcolor": "white",
            "linecolor": "white",
            "ticks": ""
           },
           "baxis": {
            "gridcolor": "white",
            "linecolor": "white",
            "ticks": ""
           },
           "bgcolor": "#E5ECF6",
           "caxis": {
            "gridcolor": "white",
            "linecolor": "white",
            "ticks": ""
           }
          },
          "title": {
           "x": 0.05
          },
          "xaxis": {
           "automargin": true,
           "gridcolor": "white",
           "linecolor": "white",
           "ticks": "",
           "title": {
            "standoff": 15
           },
           "zerolinecolor": "white",
           "zerolinewidth": 2
          },
          "yaxis": {
           "automargin": true,
           "gridcolor": "white",
           "linecolor": "white",
           "ticks": "",
           "title": {
            "standoff": 15
           },
           "zerolinecolor": "white",
           "zerolinewidth": 2
          }
         }
        },
        "title": {
         "font": {
          "color": "#4D5663"
         },
         "text": "Correlation Matrix"
        },
        "xaxis": {
         "gridcolor": "#E1E5ED",
         "showgrid": true,
         "tickfont": {
          "color": "#4D5663"
         },
         "title": {
          "font": {
           "color": "#4D5663"
          },
          "text": ""
         },
         "zerolinecolor": "#E1E5ED"
        },
        "yaxis": {
         "gridcolor": "#E1E5ED",
         "showgrid": true,
         "tickfont": {
          "color": "#4D5663"
         },
         "title": {
          "font": {
           "color": "#4D5663"
          },
          "text": ""
         },
         "zerolinecolor": "#E1E5ED"
        }
       }
      },
      "text/html": [
       "<div>                            <div id=\"f7c1803c-33b0-44ed-9b2c-2677c0981904\" class=\"plotly-graph-div\" style=\"height:525px; width:100%;\"></div>            <script type=\"text/javascript\">                require([\"plotly\"], function(Plotly) {                    window.PLOTLYENV=window.PLOTLYENV || {};\n",
       "                    window.PLOTLYENV.BASE_URL='https://plot.ly';                                    if (document.getElementById(\"f7c1803c-33b0-44ed-9b2c-2677c0981904\")) {                    Plotly.newPlot(                        \"f7c1803c-33b0-44ed-9b2c-2677c0981904\",                        [{\"colorscale\": [[0.0, \"rgb(247,251,255)\"], [0.125, \"rgb(222,235,247)\"], [0.25, \"rgb(198,219,239)\"], [0.375, \"rgb(158,202,225)\"], [0.5, \"rgb(107,174,214)\"], [0.625, \"rgb(66,146,198)\"], [0.75, \"rgb(33,113,181)\"], [0.875, \"rgb(8,81,156)\"], [1.0, \"rgb(8,48,107)\"]], \"type\": \"heatmap\", \"x\": [\"AAPL\", \"AMZN\", \"FB\", \"GOOG\", \"NFLX\"], \"y\": [\"AAPL\", \"AMZN\", \"FB\", \"GOOG\", \"NFLX\"], \"z\": [[1.0, 0.6902193289230165, 0.7783306990019863, 0.8232640293490014, 0.5551574978115573], [0.6902193289230165, 1.0, 0.6807363529924728, 0.688324874521001, 0.6492193558880631], [0.7783306990019863, 0.6807363529924728, 1.0, 0.8174938180462006, 0.5626608193049482], [0.8232640293490014, 0.688324874521001, 0.8174938180462006, 1.0, 0.5702050567350756], [0.5551574978115573, 0.6492193558880631, 0.5626608193049482, 0.5702050567350756, 1.0]], \"zmax\": 1.0, \"zmin\": 0.5551574978115573}],                        {\"legend\": {\"bgcolor\": \"#F5F6F9\", \"font\": {\"color\": \"#4D5663\"}}, \"paper_bgcolor\": \"#F5F6F9\", \"plot_bgcolor\": \"#F5F6F9\", \"template\": {\"data\": {\"bar\": [{\"error_x\": {\"color\": \"#2a3f5f\"}, \"error_y\": {\"color\": \"#2a3f5f\"}, \"marker\": {\"line\": {\"color\": \"#E5ECF6\", \"width\": 0.5}}, \"type\": \"bar\"}], \"barpolar\": [{\"marker\": {\"line\": {\"color\": \"#E5ECF6\", \"width\": 0.5}}, \"type\": \"barpolar\"}], \"carpet\": [{\"aaxis\": {\"endlinecolor\": \"#2a3f5f\", \"gridcolor\": \"white\", \"linecolor\": \"white\", \"minorgridcolor\": \"white\", \"startlinecolor\": \"#2a3f5f\"}, \"baxis\": {\"endlinecolor\": \"#2a3f5f\", \"gridcolor\": \"white\", \"linecolor\": \"white\", \"minorgridcolor\": \"white\", \"startlinecolor\": \"#2a3f5f\"}, \"type\": \"carpet\"}], \"choropleth\": [{\"colorbar\": {\"outlinewidth\": 0, \"ticks\": \"\"}, \"type\": \"choropleth\"}], \"contour\": [{\"colorbar\": {\"outlinewidth\": 0, \"ticks\": \"\"}, \"colorscale\": [[0.0, \"#0d0887\"], [0.1111111111111111, \"#46039f\"], [0.2222222222222222, \"#7201a8\"], [0.3333333333333333, \"#9c179e\"], [0.4444444444444444, \"#bd3786\"], [0.5555555555555556, \"#d8576b\"], [0.6666666666666666, \"#ed7953\"], [0.7777777777777778, \"#fb9f3a\"], [0.8888888888888888, \"#fdca26\"], [1.0, \"#f0f921\"]], \"type\": \"contour\"}], \"contourcarpet\": [{\"colorbar\": {\"outlinewidth\": 0, \"ticks\": \"\"}, \"type\": \"contourcarpet\"}], \"heatmap\": [{\"colorbar\": {\"outlinewidth\": 0, \"ticks\": \"\"}, \"colorscale\": [[0.0, \"#0d0887\"], [0.1111111111111111, \"#46039f\"], [0.2222222222222222, \"#7201a8\"], [0.3333333333333333, \"#9c179e\"], [0.4444444444444444, \"#bd3786\"], [0.5555555555555556, \"#d8576b\"], [0.6666666666666666, \"#ed7953\"], [0.7777777777777778, \"#fb9f3a\"], [0.8888888888888888, \"#fdca26\"], [1.0, \"#f0f921\"]], \"type\": \"heatmap\"}], \"heatmapgl\": [{\"colorbar\": {\"outlinewidth\": 0, \"ticks\": \"\"}, \"colorscale\": [[0.0, \"#0d0887\"], [0.1111111111111111, \"#46039f\"], [0.2222222222222222, \"#7201a8\"], [0.3333333333333333, \"#9c179e\"], [0.4444444444444444, \"#bd3786\"], [0.5555555555555556, \"#d8576b\"], [0.6666666666666666, \"#ed7953\"], [0.7777777777777778, \"#fb9f3a\"], [0.8888888888888888, \"#fdca26\"], [1.0, \"#f0f921\"]], \"type\": \"heatmapgl\"}], \"histogram\": [{\"marker\": {\"colorbar\": {\"outlinewidth\": 0, \"ticks\": \"\"}}, \"type\": \"histogram\"}], \"histogram2d\": [{\"colorbar\": {\"outlinewidth\": 0, \"ticks\": \"\"}, \"colorscale\": [[0.0, \"#0d0887\"], [0.1111111111111111, \"#46039f\"], [0.2222222222222222, \"#7201a8\"], [0.3333333333333333, \"#9c179e\"], [0.4444444444444444, \"#bd3786\"], [0.5555555555555556, \"#d8576b\"], [0.6666666666666666, \"#ed7953\"], [0.7777777777777778, \"#fb9f3a\"], [0.8888888888888888, \"#fdca26\"], [1.0, \"#f0f921\"]], \"type\": \"histogram2d\"}], \"histogram2dcontour\": [{\"colorbar\": {\"outlinewidth\": 0, \"ticks\": \"\"}, \"colorscale\": [[0.0, \"#0d0887\"], [0.1111111111111111, \"#46039f\"], [0.2222222222222222, \"#7201a8\"], [0.3333333333333333, \"#9c179e\"], [0.4444444444444444, \"#bd3786\"], [0.5555555555555556, \"#d8576b\"], [0.6666666666666666, \"#ed7953\"], [0.7777777777777778, \"#fb9f3a\"], [0.8888888888888888, \"#fdca26\"], [1.0, \"#f0f921\"]], \"type\": \"histogram2dcontour\"}], \"mesh3d\": [{\"colorbar\": {\"outlinewidth\": 0, \"ticks\": \"\"}, \"type\": \"mesh3d\"}], \"parcoords\": [{\"line\": {\"colorbar\": {\"outlinewidth\": 0, \"ticks\": \"\"}}, \"type\": \"parcoords\"}], \"pie\": [{\"automargin\": true, \"type\": \"pie\"}], \"scatter\": [{\"marker\": {\"colorbar\": {\"outlinewidth\": 0, \"ticks\": \"\"}}, \"type\": \"scatter\"}], \"scatter3d\": [{\"line\": {\"colorbar\": {\"outlinewidth\": 0, \"ticks\": \"\"}}, \"marker\": {\"colorbar\": {\"outlinewidth\": 0, \"ticks\": \"\"}}, \"type\": \"scatter3d\"}], \"scattercarpet\": [{\"marker\": {\"colorbar\": {\"outlinewidth\": 0, \"ticks\": \"\"}}, \"type\": \"scattercarpet\"}], \"scattergeo\": [{\"marker\": {\"colorbar\": {\"outlinewidth\": 0, \"ticks\": \"\"}}, \"type\": \"scattergeo\"}], \"scattergl\": [{\"marker\": {\"colorbar\": {\"outlinewidth\": 0, \"ticks\": \"\"}}, \"type\": \"scattergl\"}], \"scattermapbox\": [{\"marker\": {\"colorbar\": {\"outlinewidth\": 0, \"ticks\": \"\"}}, \"type\": \"scattermapbox\"}], \"scatterpolar\": [{\"marker\": {\"colorbar\": {\"outlinewidth\": 0, \"ticks\": \"\"}}, \"type\": \"scatterpolar\"}], \"scatterpolargl\": [{\"marker\": {\"colorbar\": {\"outlinewidth\": 0, \"ticks\": \"\"}}, \"type\": \"scatterpolargl\"}], \"scatterternary\": [{\"marker\": {\"colorbar\": {\"outlinewidth\": 0, \"ticks\": \"\"}}, \"type\": \"scatterternary\"}], \"surface\": [{\"colorbar\": {\"outlinewidth\": 0, \"ticks\": \"\"}, \"colorscale\": [[0.0, \"#0d0887\"], [0.1111111111111111, \"#46039f\"], [0.2222222222222222, \"#7201a8\"], [0.3333333333333333, \"#9c179e\"], [0.4444444444444444, \"#bd3786\"], [0.5555555555555556, \"#d8576b\"], [0.6666666666666666, \"#ed7953\"], [0.7777777777777778, \"#fb9f3a\"], [0.8888888888888888, \"#fdca26\"], [1.0, \"#f0f921\"]], \"type\": \"surface\"}], \"table\": [{\"cells\": {\"fill\": {\"color\": \"#EBF0F8\"}, \"line\": {\"color\": \"white\"}}, \"header\": {\"fill\": {\"color\": \"#C8D4E3\"}, \"line\": {\"color\": \"white\"}}, \"type\": \"table\"}]}, \"layout\": {\"annotationdefaults\": {\"arrowcolor\": \"#2a3f5f\", \"arrowhead\": 0, \"arrowwidth\": 1}, \"autotypenumbers\": \"strict\", \"coloraxis\": {\"colorbar\": {\"outlinewidth\": 0, \"ticks\": \"\"}}, \"colorscale\": {\"diverging\": [[0, \"#8e0152\"], [0.1, \"#c51b7d\"], [0.2, \"#de77ae\"], [0.3, \"#f1b6da\"], [0.4, \"#fde0ef\"], [0.5, \"#f7f7f7\"], [0.6, \"#e6f5d0\"], [0.7, \"#b8e186\"], [0.8, \"#7fbc41\"], [0.9, \"#4d9221\"], [1, \"#276419\"]], \"sequential\": [[0.0, \"#0d0887\"], [0.1111111111111111, \"#46039f\"], [0.2222222222222222, \"#7201a8\"], [0.3333333333333333, \"#9c179e\"], [0.4444444444444444, \"#bd3786\"], [0.5555555555555556, \"#d8576b\"], [0.6666666666666666, \"#ed7953\"], [0.7777777777777778, \"#fb9f3a\"], [0.8888888888888888, \"#fdca26\"], [1.0, \"#f0f921\"]], \"sequentialminus\": [[0.0, \"#0d0887\"], [0.1111111111111111, \"#46039f\"], [0.2222222222222222, \"#7201a8\"], [0.3333333333333333, \"#9c179e\"], [0.4444444444444444, \"#bd3786\"], [0.5555555555555556, \"#d8576b\"], [0.6666666666666666, \"#ed7953\"], [0.7777777777777778, \"#fb9f3a\"], [0.8888888888888888, \"#fdca26\"], [1.0, \"#f0f921\"]]}, \"colorway\": [\"#636efa\", \"#EF553B\", \"#00cc96\", \"#ab63fa\", \"#FFA15A\", \"#19d3f3\", \"#FF6692\", \"#B6E880\", \"#FF97FF\", \"#FECB52\"], \"font\": {\"color\": \"#2a3f5f\"}, \"geo\": {\"bgcolor\": \"white\", \"lakecolor\": \"white\", \"landcolor\": \"#E5ECF6\", \"showlakes\": true, \"showland\": true, \"subunitcolor\": \"white\"}, \"hoverlabel\": {\"align\": \"left\"}, \"hovermode\": \"closest\", \"mapbox\": {\"style\": \"light\"}, \"paper_bgcolor\": \"white\", \"plot_bgcolor\": \"#E5ECF6\", \"polar\": {\"angularaxis\": {\"gridcolor\": \"white\", \"linecolor\": \"white\", \"ticks\": \"\"}, \"bgcolor\": \"#E5ECF6\", \"radialaxis\": {\"gridcolor\": \"white\", \"linecolor\": \"white\", \"ticks\": \"\"}}, \"scene\": {\"xaxis\": {\"backgroundcolor\": \"#E5ECF6\", \"gridcolor\": \"white\", \"gridwidth\": 2, \"linecolor\": \"white\", \"showbackground\": true, \"ticks\": \"\", \"zerolinecolor\": \"white\"}, \"yaxis\": {\"backgroundcolor\": \"#E5ECF6\", \"gridcolor\": \"white\", \"gridwidth\": 2, \"linecolor\": \"white\", \"showbackground\": true, \"ticks\": \"\", \"zerolinecolor\": \"white\"}, \"zaxis\": {\"backgroundcolor\": \"#E5ECF6\", \"gridcolor\": \"white\", \"gridwidth\": 2, \"linecolor\": \"white\", \"showbackground\": true, \"ticks\": \"\", \"zerolinecolor\": \"white\"}}, \"shapedefaults\": {\"line\": {\"color\": \"#2a3f5f\"}}, \"ternary\": {\"aaxis\": {\"gridcolor\": \"white\", \"linecolor\": \"white\", \"ticks\": \"\"}, \"baxis\": {\"gridcolor\": \"white\", \"linecolor\": \"white\", \"ticks\": \"\"}, \"bgcolor\": \"#E5ECF6\", \"caxis\": {\"gridcolor\": \"white\", \"linecolor\": \"white\", \"ticks\": \"\"}}, \"title\": {\"x\": 0.05}, \"xaxis\": {\"automargin\": true, \"gridcolor\": \"white\", \"linecolor\": \"white\", \"ticks\": \"\", \"title\": {\"standoff\": 15}, \"zerolinecolor\": \"white\", \"zerolinewidth\": 2}, \"yaxis\": {\"automargin\": true, \"gridcolor\": \"white\", \"linecolor\": \"white\", \"ticks\": \"\", \"title\": {\"standoff\": 15}, \"zerolinecolor\": \"white\", \"zerolinewidth\": 2}}}, \"title\": {\"font\": {\"color\": \"#4D5663\"}, \"text\": \"Correlation Matrix\"}, \"xaxis\": {\"gridcolor\": \"#E1E5ED\", \"showgrid\": true, \"tickfont\": {\"color\": \"#4D5663\"}, \"title\": {\"font\": {\"color\": \"#4D5663\"}, \"text\": \"\"}, \"zerolinecolor\": \"#E1E5ED\"}, \"yaxis\": {\"gridcolor\": \"#E1E5ED\", \"showgrid\": true, \"tickfont\": {\"color\": \"#4D5663\"}, \"title\": {\"font\": {\"color\": \"#4D5663\"}, \"text\": \"\"}, \"zerolinecolor\": \"#E1E5ED\"}},                        {\"showLink\": true, \"linkText\": \"Export to plot.ly\", \"plotlyServerURL\": \"https://plot.ly\", \"responsive\": true}                    ).then(function(){\n",
       "                            \n",
       "var gd = document.getElementById('f7c1803c-33b0-44ed-9b2c-2677c0981904');\n",
       "var x = new MutationObserver(function (mutations, observer) {{\n",
       "        var display = window.getComputedStyle(gd).display;\n",
       "        if (!display || display === 'none') {{\n",
       "            console.log([gd, 'removed!']);\n",
       "            Plotly.purge(gd);\n",
       "            observer.disconnect();\n",
       "        }}\n",
       "}});\n",
       "\n",
       "// Listen for the removal of the full notebook cells\n",
       "var notebookContainer = gd.closest('#notebook-container');\n",
       "if (notebookContainer) {{\n",
       "    x.observe(notebookContainer, {childList: true});\n",
       "}}\n",
       "\n",
       "// Listen for the clearing of the current output cell\n",
       "var outputEl = gd.closest('.output');\n",
       "if (outputEl) {{\n",
       "    x.observe(outputEl, {childList: true});\n",
       "}}\n",
       "\n",
       "                        })                };                });            </script>        </div>"
      ]
     },
     "metadata": {},
     "output_type": "display_data"
    }
   ],
   "source": [
    "\n",
    "# Calculate correlation of returns\n",
    "daily_returns.corr().iplot(kind='heatmap', title=\"Correlation Matrix\", colorscale=\"Blues\")\n",
    "\n"
   ]
  },
  {
   "cell_type": "code",
   "execution_count": null,
   "metadata": {},
   "outputs": [],
   "source": [
    "# Compute pairwise correlation\n",
    "daily_returns.corrwith(daily_returns['FB'])"
   ]
  },
  {
   "cell_type": "markdown",
   "metadata": {},
   "source": [
    "<h2 id=\"References\">Manipulating the Volatility Index Dataframe<a class=\"anchor-link\" href=\"#References\">¶</a></h2><ul>"
   ]
  },
  {
   "cell_type": "markdown",
   "metadata": {},
   "source": [
    "Next, we'll manipulate the data retrieved by resetting the index, and dropping the non required values to create a new data frame in the format that is required."
   ]
  },
  {
   "cell_type": "code",
   "execution_count": null,
   "metadata": {},
   "outputs": [],
   "source": [
    "# Retrive unique years from our data frame\n",
    "years = vix.index.year.unique()\n",
    "\n",
    "# Create an empty data frame\n",
    "newdf = pd.DataFrame()\n",
    "\n",
    "# Use generators to assign values to empty dataframe, reset and drop index\n",
    "for year in years:\n",
    "    newdf[year] = pd.Series(vix[vix.index.year==year]['VIX Close']).reset_index(drop=True)\n",
    "\n",
    "# Fill missing values forward with latest values\n",
    "newdf = newdf.ffill(axis=1)\n",
    "\n",
    "# Display the first five rows of the data frame to check the results\n",
    "newdf.head()"
   ]
  },
  {
   "cell_type": "code",
   "execution_count": null,
   "metadata": {},
   "outputs": [],
   "source": [
    "# Analysing year wise statistics for India Volatility Index\n",
    "newdf.describe().T"
   ]
  },
  {
   "cell_type": "markdown",
   "metadata": {},
   "source": [
    "<h3 id=\"Correlation\">Box Plot<a class=\"anchor-link\" href=\"#Correlation\">¶</a></h3>"
   ]
  },
  {
   "cell_type": "markdown",
   "metadata": {},
   "source": [
    "In descriptive statistics, a box plot is a method for graphically depicting groups of numerical data through their quartiles. The spacing between the different parts of the box indicates the degree of dispersion (spread) and skewness in the data and show outliers. Let’s now analyze the CBOE Volatility Index using a box plot."
   ]
  },
  {
   "cell_type": "code",
   "execution_count": null,
   "metadata": {},
   "outputs": [],
   "source": [
    "#cf.iplot?"
   ]
  },
  {
   "cell_type": "code",
   "execution_count": null,
   "metadata": {},
   "outputs": [],
   "source": [
    "# Visualize VIX Box Plot\n",
    "newdf.iloc[:,2:].iplot(kind='box', \n",
    "            title='CBOE Volatility Index', \n",
    "            yTitle='Annualised Volatility (%)', \n",
    "            legend=False, boxpoints='outliers')"
   ]
  },
  {
   "cell_type": "markdown",
   "metadata": {},
   "source": [
    "\n",
    "<h2 id=\"References\">References<a class=\"anchor-link\" href=\"#References\">¶</a></h2><ul>\n",
    "<li><p>YFinance documentation <a href=\"https://github.com/ranaroussi/yfinance\">https://github.com/ranaroussi/yfinance</a></p>\n",
    "</li>\n",
    "<li><p>Alphavantage documentation <a href=\"https://github.com/RomelTorres/alpha_vantage\">https://github.com/RomelTorres/alpha_vantage</a></p>\n",
    "</li>\n",
    "<li><p>Cufflinks documentation <a href=\"https://github.com/santosjorge/cufflinks\">https://github.com/santosjorge/cufflinks</a> and <a href=\"https://plotly.com/python/cufflinks/\">https://plotly.com/python/cufflinks/</a></p>\n",
    "</li>\n",
    "<li><p>Python resources <a href=\"https://github.com/kannansingaravelu/PythonResources\">https://github.com/kannansingaravelu/PythonResources</a></p>\n",
    "</li>\n",
    "</ul>\n"
   ]
  },
  {
   "cell_type": "code",
   "execution_count": null,
   "metadata": {},
   "outputs": [],
   "source": []
  }
 ],
 "metadata": {
  "kernelspec": {
   "display_name": "Python 3 (ipykernel)",
   "language": "python",
   "name": "python3"
  },
  "language_info": {
   "codemirror_mode": {
    "name": "ipython",
    "version": 3
   },
   "file_extension": ".py",
   "mimetype": "text/x-python",
   "name": "python",
   "nbconvert_exporter": "python",
   "pygments_lexer": "ipython3",
   "version": "3.9.7"
  },
  "toc": {
   "base_numbering": 1,
   "nav_menu": {},
   "number_sections": true,
   "sideBar": true,
   "skip_h1_title": false,
   "title_cell": "Table of Contents",
   "title_sidebar": "Contents",
   "toc_cell": false,
   "toc_position": {
    "height": "calc(100% - 180px)",
    "left": "10px",
    "top": "150px",
    "width": "217.188px"
   },
   "toc_section_display": true,
   "toc_window_display": false
  }
 },
 "nbformat": 4,
 "nbformat_minor": 1
}
